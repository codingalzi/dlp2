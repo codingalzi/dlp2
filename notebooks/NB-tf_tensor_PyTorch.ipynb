{
 "cells": [
  {
   "cell_type": "markdown",
   "id": "40649381",
   "metadata": {},
   "source": [
    "# 텐서 (PyTorch 버전)"
   ]
  },
  {
   "cell_type": "code",
   "execution_count": 1,
   "id": "3bef02f6",
   "metadata": {},
   "outputs": [
    {
     "name": "stdout",
     "output_type": "stream",
     "text": [
      "torch 2.8.0+cu128 | cuda: True\n"
     ]
    }
   ],
   "source": [
    "# Environment & device\n",
    "import torch\n",
    "import numpy as np\n",
    "import random\n",
    "\n",
    "device = torch.device('cuda' if torch.cuda.is_available() else 'cpu')\n",
    "print('torch', torch.__version__, '| cuda:', torch.cuda.is_available())"
   ]
  },
  {
   "cell_type": "markdown",
   "id": "460acad0",
   "metadata": {},
   "source": [
    "## 파이토치의 텐서"
   ]
  },
  {
   "cell_type": "markdown",
   "id": "db293f96",
   "metadata": {},
   "source": [
    "PyTorch는 단일 텐서 자료형(torch.Tensor)을 사용합니다. 불변/가변을 나누지 않지만, 자동 미분을 위해 requires_grad 플래그를 둘 수 있고, in-place 연산 시 주의가 필요합니다."
   ]
  },
  {
   "cell_type": "code",
   "execution_count": 2,
   "id": "cb57f0b1",
   "metadata": {},
   "outputs": [
    {
     "name": "stdout",
     "output_type": "stream",
     "text": [
      "tensor([[1., 2.],\n",
      "        [3., 4.]]) torch.float32 torch.Size([2, 2])\n"
     ]
    }
   ],
   "source": [
    "# 기본 생성\n",
    "x = torch.tensor([[1., 2.], [3., 4.]])\n",
    "print(x, x.dtype, x.shape)"
   ]
  },
  {
   "cell_type": "code",
   "execution_count": 3,
   "id": "48819f48",
   "metadata": {},
   "outputs": [
    {
     "name": "stdout",
     "output_type": "stream",
     "text": [
      "tensor([[1.],\n",
      "        [1.]])\n"
     ]
    }
   ],
   "source": [
    "# ones/zeros\n",
    "x1 = torch.ones((2, 1))\n",
    "print(x1)"
   ]
  },
  {
   "cell_type": "code",
   "execution_count": 4,
   "id": "700648fc",
   "metadata": {},
   "outputs": [
    {
     "name": "stdout",
     "output_type": "stream",
     "text": [
      "tensor([[0.],\n",
      "        [0.]])\n"
     ]
    }
   ],
   "source": [
    "x0 = torch.zeros((2, 1))\n",
    "print(x0)"
   ]
  },
  {
   "cell_type": "code",
   "execution_count": 5,
   "id": "938c3893",
   "metadata": {},
   "outputs": [
    {
     "name": "stdout",
     "output_type": "stream",
     "text": [
      "tensor([[ 0.2075],\n",
      "        [-1.3101],\n",
      "        [ 0.5118]])\n"
     ]
    }
   ],
   "source": [
    "# 난수 텐서: 정규분포\n",
    "xn = torch.randn((3, 1), dtype=torch.float32)  # mean=0, std=1\n",
    "print(xn)"
   ]
  },
  {
   "cell_type": "code",
   "execution_count": 6,
   "id": "6ce0fc45",
   "metadata": {},
   "outputs": [
    {
     "name": "stdout",
     "output_type": "stream",
     "text": [
      "tensor([[0.5738],\n",
      "        [0.2653],\n",
      "        [0.7870]])\n"
     ]
    }
   ],
   "source": [
    "# 균등분포 [0,1) -> [a,b): a + (b-a)*torch.rand(...)\n",
    "xa = 0.0; xb = 1.0\n",
    "xu = xa + (xb - xa) * torch.rand((3, 1), dtype=torch.float32)\n",
    "print(xu)"
   ]
  },
  {
   "cell_type": "markdown",
   "id": "6ea3585f",
   "metadata": {},
   "source": [
    "### 텐서 수정 가능성(PyTorch)\n",
    "PyTorch의 torch.Tensor는 기본적으로 가변(mutable)입니다. 인덱싱으로 항목을 직접 수정할 수 있습니다."
   ]
  },
  {
   "cell_type": "code",
   "execution_count": 7,
   "id": "7f7180e6",
   "metadata": {},
   "outputs": [
    {
     "name": "stdout",
     "output_type": "stream",
     "text": [
      "tensor([[0., 1.],\n",
      "        [1., 1.]])\n"
     ]
    }
   ],
   "source": [
    "z = torch.ones((2, 2))\n",
    "z[0, 0] = 0.0\n",
    "print(z)"
   ]
  },
  {
   "cell_type": "markdown",
   "id": "bca1fc68",
   "metadata": {},
   "source": [
    "### 가변 텐서 대체(copy_)\n",
    "모양이 같은 다른 텐서로 값을 통째로 바꿀 때는 `copy_()`를 사용합니다. (동일 shape 필요)"
   ]
  },
  {
   "cell_type": "code",
   "execution_count": 8,
   "id": "0f41ff67",
   "metadata": {},
   "outputs": [
    {
     "name": "stdout",
     "output_type": "stream",
     "text": [
      "tensor([[1.],\n",
      "        [1.],\n",
      "        [1.]])\n"
     ]
    }
   ],
   "source": [
    "v = torch.randn((3, 1))\n",
    "v.copy_(torch.ones((3, 1)))  # 동일 shape OK\n",
    "print(v)"
   ]
  },
  {
   "cell_type": "code",
   "execution_count": 9,
   "id": "2a571c1c",
   "metadata": {},
   "outputs": [
    {
     "name": "stdout",
     "output_type": "stream",
     "text": [
      "RuntimeError: output with shape [3, 1] doesn't match the broadcast shape [3, 2]\n"
     ]
    }
   ],
   "source": [
    "try:\n",
    "    v.copy_(torch.ones((3, 2)))  # shape 불일치\n",
    "except RuntimeError as e:\n",
    "    print(\"RuntimeError:\", e)"
   ]
  },
  {
   "cell_type": "markdown",
   "id": "fd5a49d1",
   "metadata": {},
   "source": [
    "### 항목 수정과 in-place 연산\n",
    "인덱싱으로 항목 수정 가능하며, `add_`, `sub_` 등 밑줄이 붙은 메서드는 in-place 연산입니다."
   ]
  },
  {
   "cell_type": "code",
   "execution_count": 10,
   "id": "2e4a67c7",
   "metadata": {},
   "outputs": [
    {
     "data": {
      "text/plain": [
       "tensor([[0.],\n",
       "        [0.],\n",
       "        [0.]])"
      ]
     },
     "execution_count": 10,
     "metadata": {},
     "output_type": "execute_result"
    }
   ],
   "source": [
    "v = torch.zeros((3, 1))\n",
    "v"
   ]
  },
  {
   "cell_type": "code",
   "execution_count": 11,
   "id": "ee26cdae",
   "metadata": {},
   "outputs": [
    {
     "name": "stdout",
     "output_type": "stream",
     "text": [
      "tensor([[3.],\n",
      "        [0.],\n",
      "        [0.]])\n"
     ]
    }
   ],
   "source": [
    "v[0, 0] = 3.\n",
    "print(v)"
   ]
  },
  {
   "cell_type": "code",
   "execution_count": 12,
   "id": "b9089e94",
   "metadata": {},
   "outputs": [
    {
     "name": "stdout",
     "output_type": "stream",
     "text": [
      "tensor([[5.],\n",
      "        [2.],\n",
      "        [2.]])\n"
     ]
    }
   ],
   "source": [
    "v.add_(2.)\n",
    "print(v)"
   ]
  },
  {
   "cell_type": "code",
   "execution_count": 13,
   "id": "084674f7",
   "metadata": {},
   "outputs": [
    {
     "name": "stdout",
     "output_type": "stream",
     "text": [
      "tensor([[4.],\n",
      "        [1.],\n",
      "        [1.]])\n"
     ]
    }
   ],
   "source": [
    "v.sub_(1.)\n",
    "print(v)"
   ]
  },
  {
   "cell_type": "markdown",
   "id": "7e78134d",
   "metadata": {},
   "source": [
    "## 인덱싱과 슬라이싱"
   ]
  },
  {
   "cell_type": "code",
   "execution_count": 14,
   "id": "297430d9",
   "metadata": {},
   "outputs": [
    {
     "name": "stdout",
     "output_type": "stream",
     "text": [
      "tensor([[ 1,  2,  3,  4],\n",
      "        [ 5,  6,  7,  8],\n",
      "        [ 9, 10, 11, 12]])\n"
     ]
    }
   ],
   "source": [
    "t = torch.arange(1, 13).reshape(3, 4)\n",
    "print(t)"
   ]
  },
  {
   "cell_type": "code",
   "execution_count": 15,
   "id": "4dd78199",
   "metadata": {},
   "outputs": [
    {
     "name": "stdout",
     "output_type": "stream",
     "text": [
      "tensor(1)\n",
      "tensor([5, 6, 7, 8])\n",
      "tensor([ 3,  7, 11])\n"
     ]
    }
   ],
   "source": [
    "# 기본 인덱싱\n",
    "print(t[0, 0])\n",
    "print(t[1])       # 행 선택\n",
    "print(t[:, 2])    # 열 선택"
   ]
  },
  {
   "cell_type": "code",
   "execution_count": 16,
   "id": "da940d21",
   "metadata": {},
   "outputs": [
    {
     "name": "stdout",
     "output_type": "stream",
     "text": [
      "tensor([[2, 3],\n",
      "        [6, 7]])\n"
     ]
    }
   ],
   "source": [
    "# 슬라이싱\n",
    "print(t[:2, 1:3])"
   ]
  },
  {
   "cell_type": "markdown",
   "id": "e3ca6450",
   "metadata": {},
   "source": [
    "## 리셰이프, 전치"
   ]
  },
  {
   "cell_type": "code",
   "execution_count": 17,
   "id": "0f071c1e",
   "metadata": {},
   "outputs": [
    {
     "name": "stdout",
     "output_type": "stream",
     "text": [
      "torch.Size([12])\n"
     ]
    }
   ],
   "source": [
    "a = torch.arange(1, 13)\n",
    "print(a.shape)"
   ]
  },
  {
   "cell_type": "code",
   "execution_count": 18,
   "id": "256fd4c3",
   "metadata": {},
   "outputs": [
    {
     "name": "stdout",
     "output_type": "stream",
     "text": [
      "tensor([[ 1,  2,  3,  4],\n",
      "        [ 5,  6,  7,  8],\n",
      "        [ 9, 10, 11, 12]])\n",
      "torch.Size([3, 4])\n"
     ]
    }
   ],
   "source": [
    "b = a.reshape(3, 4)\n",
    "print(b)\n",
    "print(b.shape)"
   ]
  },
  {
   "cell_type": "code",
   "execution_count": 19,
   "id": "4c762471",
   "metadata": {},
   "outputs": [
    {
     "name": "stdout",
     "output_type": "stream",
     "text": [
      "tensor([[ 1,  5,  9],\n",
      "        [ 2,  6, 10],\n",
      "        [ 3,  7, 11],\n",
      "        [ 4,  8, 12]])\n",
      "torch.Size([4, 3])\n"
     ]
    }
   ],
   "source": [
    "# 2D 전치: T\n",
    "print(b.T)\n",
    "print(b.T.shape)"
   ]
  },
  {
   "cell_type": "markdown",
   "id": "23505c79",
   "metadata": {},
   "source": [
    "## 결합, 스택, 분할"
   ]
  },
  {
   "cell_type": "code",
   "execution_count": 20,
   "id": "b85bcbbf",
   "metadata": {},
   "outputs": [],
   "source": [
    "a = torch.ones(2, 3)\n",
    "b = torch.zeros(2, 3)\n",
    "c = torch.cat([a, b], dim=0)\n",
    "d = torch.cat([a, b], dim=1)"
   ]
  },
  {
   "cell_type": "code",
   "execution_count": 21,
   "id": "10748c0e",
   "metadata": {},
   "outputs": [
    {
     "name": "stdout",
     "output_type": "stream",
     "text": [
      "tensor([[1., 1., 1.],\n",
      "        [1., 1., 1.],\n",
      "        [0., 0., 0.],\n",
      "        [0., 0., 0.]])\n",
      "torch.Size([4, 3])\n"
     ]
    }
   ],
   "source": [
    "print(c)\n",
    "print(c.shape)"
   ]
  },
  {
   "cell_type": "code",
   "execution_count": 22,
   "id": "f912b200",
   "metadata": {},
   "outputs": [
    {
     "name": "stdout",
     "output_type": "stream",
     "text": [
      "tensor([[1., 1., 1., 0., 0., 0.],\n",
      "        [1., 1., 1., 0., 0., 0.]])\n",
      "torch.Size([2, 6])\n"
     ]
    }
   ],
   "source": [
    "print(d)\n",
    "print(d.shape)"
   ]
  },
  {
   "cell_type": "code",
   "execution_count": 23,
   "id": "6ac5173e",
   "metadata": {},
   "outputs": [
    {
     "name": "stdout",
     "output_type": "stream",
     "text": [
      "tensor([[[1., 1., 1.],\n",
      "         [1., 1., 1.]],\n",
      "\n",
      "        [[0., 0., 0.],\n",
      "         [0., 0., 0.]]])\n",
      "torch.Size([2, 2, 3])\n"
     ]
    }
   ],
   "source": [
    "# stack: 새 축 추가\n",
    "s = torch.stack([a, b], dim=0)\n",
    "print(s)\n",
    "print(s.shape)  # (2,2,3)"
   ]
  },
  {
   "cell_type": "code",
   "execution_count": 24,
   "id": "621c4892",
   "metadata": {},
   "outputs": [
    {
     "name": "stdout",
     "output_type": "stream",
     "text": [
      "[torch.Size([4]), torch.Size([4]), torch.Size([2])]\n"
     ]
    }
   ],
   "source": [
    "# split/chunk\n",
    "parts = torch.chunk(torch.arange(10), chunks=3)\n",
    "print([p.shape for p in parts])"
   ]
  },
  {
   "cell_type": "code",
   "execution_count": 25,
   "id": "fc33cdd8",
   "metadata": {},
   "outputs": [
    {
     "name": "stdout",
     "output_type": "stream",
     "text": [
      "[torch.Size([3]), torch.Size([3]), torch.Size([4])]\n"
     ]
    }
   ],
   "source": [
    "parts2 = torch.split(torch.arange(10), [3, 3, 4])\n",
    "print([p.shape for p in parts2])"
   ]
  },
  {
   "cell_type": "markdown",
   "id": "89166a6c",
   "metadata": {},
   "source": [
    "## 브로드캐스팅"
   ]
  },
  {
   "cell_type": "code",
   "execution_count": 26,
   "id": "2f7ea065",
   "metadata": {},
   "outputs": [
    {
     "name": "stdout",
     "output_type": "stream",
     "text": [
      "torch.Size([3, 4])\n",
      "tensor([[0, 1, 2, 3],\n",
      "        [1, 2, 3, 4],\n",
      "        [2, 3, 4, 5]])\n"
     ]
    }
   ],
   "source": [
    "x = torch.arange(3).reshape(3, 1)        # (3,1)\n",
    "y = torch.arange(4).reshape(1, 4)        # (1,4)\n",
    "print((x + y).shape)                      # (3,4)\n",
    "print(x + y)"
   ]
  },
  {
   "cell_type": "markdown",
   "id": "3b6291ed",
   "metadata": {},
   "source": [
    "## 수학 연산, 행렬 곱, 축소 연산"
   ]
  },
  {
   "cell_type": "code",
   "execution_count": 27,
   "id": "b2483809",
   "metadata": {},
   "outputs": [],
   "source": [
    "x = torch.tensor([[1., 2.], [3., 4.]])\n",
    "y = torch.tensor([[5., 6.], [7., 8.]])"
   ]
  },
  {
   "cell_type": "code",
   "execution_count": 28,
   "id": "261d4566",
   "metadata": {},
   "outputs": [
    {
     "name": "stdout",
     "output_type": "stream",
     "text": [
      "tensor([[ 6.,  8.],\n",
      "        [10., 12.]])\n",
      "tensor([[ 5., 12.],\n",
      "        [21., 32.]])\n"
     ]
    }
   ],
   "source": [
    "# 원소별 연산\n",
    "print(x + y)\n",
    "print(x * y)"
   ]
  },
  {
   "cell_type": "code",
   "execution_count": 29,
   "id": "5e6b0e83",
   "metadata": {},
   "outputs": [
    {
     "name": "stdout",
     "output_type": "stream",
     "text": [
      "tensor([[19., 22.],\n",
      "        [43., 50.]])\n"
     ]
    }
   ],
   "source": [
    "# 행렬 곱\n",
    "print(x @ y)           # 또는 torch.matmul(x, y)"
   ]
  },
  {
   "cell_type": "code",
   "execution_count": 30,
   "id": "5dbe90e6",
   "metadata": {},
   "outputs": [
    {
     "data": {
      "text/plain": [
       "tensor([[ 1,  2,  3,  4],\n",
       "        [ 5,  6,  7,  8],\n",
       "        [ 9, 10, 11, 12]])"
      ]
     },
     "execution_count": 30,
     "metadata": {},
     "output_type": "execute_result"
    }
   ],
   "source": [
    "# 축소 연산\n",
    "m = torch.arange(1, 13).reshape(3, 4)\n",
    "m"
   ]
  },
  {
   "cell_type": "code",
   "execution_count": 31,
   "id": "fce9e658",
   "metadata": {},
   "outputs": [
    {
     "name": "stdout",
     "output_type": "stream",
     "text": [
      "tensor(78)\n"
     ]
    }
   ],
   "source": [
    "print(m.sum())"
   ]
  },
  {
   "cell_type": "code",
   "execution_count": 32,
   "id": "cb7f607e",
   "metadata": {},
   "outputs": [
    {
     "name": "stdout",
     "output_type": "stream",
     "text": [
      "tensor([15, 18, 21, 24])\n"
     ]
    }
   ],
   "source": [
    "print(m.sum(dim=0))"
   ]
  },
  {
   "cell_type": "code",
   "execution_count": 33,
   "id": "c6a1aa52",
   "metadata": {},
   "outputs": [
    {
     "name": "stdout",
     "output_type": "stream",
     "text": [
      "tensor([10, 26, 42])\n"
     ]
    }
   ],
   "source": [
    "print(m.sum(dim=1))"
   ]
  },
  {
   "cell_type": "code",
   "execution_count": 34,
   "id": "60d16d75",
   "metadata": {},
   "outputs": [
    {
     "name": "stdout",
     "output_type": "stream",
     "text": [
      "tensor([ 2.5000,  6.5000, 10.5000])\n"
     ]
    }
   ],
   "source": [
    "print(m.to(torch.float32).mean(dim=1))"
   ]
  },
  {
   "cell_type": "code",
   "execution_count": 35,
   "id": "79bd20db",
   "metadata": {},
   "outputs": [
    {
     "name": "stdout",
     "output_type": "stream",
     "text": [
      "tensor([[ 2.5000],\n",
      "        [ 6.5000],\n",
      "        [10.5000]])\n"
     ]
    }
   ],
   "source": [
    "print(m.to(torch.float32).mean(dim=1, keepdim=True))"
   ]
  },
  {
   "cell_type": "code",
   "execution_count": 36,
   "id": "f16a9a0f",
   "metadata": {},
   "outputs": [
    {
     "name": "stdout",
     "output_type": "stream",
     "text": [
      "torch.return_types.max(\n",
      "values=tensor([ 4,  8, 12]),\n",
      "indices=tensor([3, 3, 3]))\n"
     ]
    }
   ],
   "source": [
    "print(m.max(dim=1))     # 값과 인덱스 반환"
   ]
  },
  {
   "cell_type": "code",
   "execution_count": 37,
   "id": "d77179e6",
   "metadata": {},
   "outputs": [
    {
     "name": "stdout",
     "output_type": "stream",
     "text": [
      "tensor([3, 3, 3])\n"
     ]
    }
   ],
   "source": [
    "print(m.argmax(dim=1))"
   ]
  },
  {
   "cell_type": "markdown",
   "id": "3cb8fa49",
   "metadata": {},
   "source": [
    "## dtype"
   ]
  },
  {
   "cell_type": "code",
   "execution_count": 38,
   "id": "52c1764b",
   "metadata": {},
   "outputs": [
    {
     "name": "stdout",
     "output_type": "stream",
     "text": [
      "torch.float32\n"
     ]
    }
   ],
   "source": [
    "x = torch.randn(2, 2)\n",
    "print(x.dtype)"
   ]
  },
  {
   "cell_type": "code",
   "execution_count": 39,
   "id": "92163552",
   "metadata": {},
   "outputs": [
    {
     "name": "stdout",
     "output_type": "stream",
     "text": [
      "torch.float64\n"
     ]
    }
   ],
   "source": [
    "x64 = x.to(torch.float64)\n",
    "print(x64.dtype)"
   ]
  },
  {
   "cell_type": "code",
   "execution_count": 40,
   "id": "0889b06e",
   "metadata": {},
   "outputs": [
    {
     "name": "stdout",
     "output_type": "stream",
     "text": [
      "torch.float32 torch.int64\n"
     ]
    }
   ],
   "source": [
    "# 단축형 타입 캐스팅\n",
    "print(x.float().dtype, x.long().dtype)"
   ]
  },
  {
   "cell_type": "markdown",
   "id": "65f0da79",
   "metadata": {},
   "source": [
    "## 디바이스 이동"
   ]
  },
  {
   "cell_type": "code",
   "execution_count": 41,
   "id": "9479f31e",
   "metadata": {},
   "outputs": [
    {
     "name": "stdout",
     "output_type": "stream",
     "text": [
      "cuda:0\n",
      "cpu\n"
     ]
    }
   ],
   "source": [
    "# 디바이스 이동\n",
    "if torch.cuda.is_available():\n",
    "    x_cuda = x.to('cuda')\n",
    "    print(x_cuda.device)\n",
    "    x_back = x_cuda.to('cpu')\n",
    "    print(x_back.device)"
   ]
  },
  {
   "cell_type": "markdown",
   "id": "ad04d99f",
   "metadata": {},
   "source": [
    "## NumPy와 상호 호환성"
   ]
  },
  {
   "cell_type": "code",
   "execution_count": 42,
   "id": "e3d12960",
   "metadata": {},
   "outputs": [
    {
     "name": "stdout",
     "output_type": "stream",
     "text": [
      "tensor([10.,  2.,  3.])\n"
     ]
    }
   ],
   "source": [
    "# NumPy -> Torch (공유 메모리)\n",
    "arr = np.array([1.0, 2.0, 3.0], dtype=np.float32)\n",
    "t_from_np = torch.from_numpy(arr)\n",
    "arr[0] = 10.0\n",
    "print(t_from_np)  # 10.0 반영"
   ]
  },
  {
   "cell_type": "code",
   "execution_count": 43,
   "id": "8c16cb32",
   "metadata": {},
   "outputs": [
    {
     "name": "stdout",
     "output_type": "stream",
     "text": [
      "tensor([ 4., 50.,  6.])\n"
     ]
    }
   ],
   "source": [
    "# Torch -> NumPy (CPU 필요)\n",
    "t_cpu = torch.tensor([4.0, 5.0, 6.0])\n",
    "np_from_t = t_cpu.numpy()\n",
    "np_from_t[1] = 50.0\n",
    "print(t_cpu)  # 50.0 반영"
   ]
  },
  {
   "cell_type": "code",
   "execution_count": 44,
   "id": "42a4c5f2",
   "metadata": {},
   "outputs": [
    {
     "name": "stdout",
     "output_type": "stream",
     "text": [
      "[1. 2. 3.]\n"
     ]
    }
   ],
   "source": [
    "# GPU 텐서를 NumPy로 바꾸려면 CPU로 이동 필요\n",
    "if torch.cuda.is_available():\n",
    "    t_gpu = torch.tensor([1.0, 2.0, 3.0], device='cuda')\n",
    "    print(t_gpu.to('cpu').numpy())"
   ]
  },
  {
   "cell_type": "markdown",
   "id": "8f963093",
   "metadata": {},
   "source": [
    "## 시드와 재현성"
   ]
  },
  {
   "cell_type": "code",
   "execution_count": 45,
   "id": "b9087f68",
   "metadata": {},
   "outputs": [
    {
     "name": "stdout",
     "output_type": "stream",
     "text": [
      "tensor([0.3367, 0.1288, 0.2345])\n",
      "tensor([-0.1115,  0.1204, -0.3696])\n",
      "tensor([-0.2404, -1.1969,  0.2093])\n",
      "tensor([-0.1115,  0.1204, -0.3696])\n"
     ]
    }
   ],
   "source": [
    "torch.manual_seed(42)\n",
    "print(torch.randn(3))\n",
    "\n",
    "# Generator 사용\n",
    "g = torch.Generator().manual_seed(123)\n",
    "print(torch.randn(3, generator=g))\n",
    "print(torch.randn(3, generator=g))  # 같은 생성기 재사용 시 다른 값\n",
    "\n",
    "g2 = torch.Generator().manual_seed(123)\n",
    "print(torch.randn(3, generator=g2))  # 같은 시드의 새 생성기 -> 처음과 동일"
   ]
  },
  {
   "cell_type": "markdown",
   "id": "c65aa834",
   "metadata": {},
   "source": [
    "## autograd 기본"
   ]
  },
  {
   "cell_type": "code",
   "execution_count": 46,
   "id": "ec17d839",
   "metadata": {},
   "outputs": [
    {
     "name": "stdout",
     "output_type": "stream",
     "text": [
      "tensor([ 4., -6.,  8.])\n"
     ]
    }
   ],
   "source": [
    "x = torch.tensor([2.0, -3.0, 4.0], requires_grad=True)\n",
    "y = (x ** 2).sum()\n",
    "y.backward()\n",
    "print(x.grad)"
   ]
  },
  {
   "cell_type": "code",
   "execution_count": 47,
   "id": "4a92d175",
   "metadata": {},
   "outputs": [
    {
     "name": "stdout",
     "output_type": "stream",
     "text": [
      "False\n"
     ]
    }
   ],
   "source": [
    "# no_grad 문맥: 그래디언트 추적 비활성화\n",
    "with torch.no_grad():\n",
    "    z = x * 2.0\n",
    "print(z.requires_grad)"
   ]
  },
  {
   "cell_type": "code",
   "execution_count": 48,
   "id": "41b0eb3a",
   "metadata": {},
   "outputs": [
    {
     "name": "stdout",
     "output_type": "stream",
     "text": [
      "False\n"
     ]
    }
   ],
   "source": [
    "# detach: 그래프에서 분리된 텐서 얻기\n",
    "z2 = (x * 3.0).detach()\n",
    "print(z2.requires_grad)"
   ]
  },
  {
   "cell_type": "markdown",
   "id": "bbb456fb",
   "metadata": {},
   "source": [
    "## 소프트맥스(Softmax)\n",
    "\n",
    "- 분류 문제에서 계산된 값들을 확률값들의 분포로 변환합니다."
   ]
  },
  {
   "cell_type": "code",
   "execution_count": 49,
   "id": "fd327d55",
   "metadata": {},
   "outputs": [
    {
     "name": "stdout",
     "output_type": "stream",
     "text": [
      "[1D] probs: tensor([0.1653, 0.0608, 0.0247, 0.0082, 0.7409])\n",
      "[1D] sum= 1.0\n"
     ]
    }
   ],
   "source": [
    "import torch\n",
    "import torch.nn.functional as F\n",
    "\n",
    "# 예제 1) 1D 텐서 (클래스 5개 대상)\n",
    "tensor_1d = torch.tensor([2.0, 1.0, 0.1, -1.0, 3.5])\n",
    "probs_1d = F.softmax(tensor_1d, dim=0)  # 1D는 dim=0이 유일 차원\n",
    "\n",
    "print(\"[1D] probs:\", probs_1d)\n",
    "print(\"[1D] sum=\", probs_1d.sum().item())  # 1.0"
   ]
  },
  {
   "cell_type": "code",
   "execution_count": 50,
   "id": "3bfd1d32",
   "metadata": {},
   "outputs": [
    {
     "name": "stdout",
     "output_type": "stream",
     "text": [
      "\n",
      "[2D] probs:\n",
      " tensor([[0.6381, 0.2347, 0.0954, 0.0318],\n",
      "        [0.2500, 0.2500, 0.2500, 0.2500],\n",
      "        [0.8169, 0.1106, 0.0055, 0.0671]])\n",
      "[2D] row-wise sums: tensor([1.0000, 1.0000, 1.0000])\n"
     ]
    }
   ],
   "source": [
    "# 예제 2) 2D 텐서 (배치 3, 클래스 4), 보통 dim=1(클래스 차원)\n",
    "tensor_2d = torch.tensor([[2.0, 1.0, 0.1, -1.0],\n",
    "                          [0.0, 0.0, 0.0, 0.0],\n",
    "                          [3.0, 1.0, -2.0, 0.5]])\n",
    "\n",
    "probs_2d = torch.softmax(tensor_2d, dim=1)  # F.softmax와 동일 동작\n",
    "\n",
    "print(\"\\n[2D] probs:\\n\", probs_2d)\n",
    "print(\"[2D] row-wise sums:\", probs_2d.sum(dim=1))  # 각 행 합=1"
   ]
  },
  {
   "cell_type": "code",
   "execution_count": 51,
   "id": "66daef9f",
   "metadata": {},
   "outputs": [
    {
     "name": "stdout",
     "output_type": "stream",
     "text": [
      "\n",
      "[2D] log_probs:\n",
      " tensor([[-0.4493, -1.4493, -2.3493, -3.4493],\n",
      "        [-1.3863, -1.3863, -1.3863, -1.3863],\n",
      "        [-0.2023, -2.2023, -5.2023, -2.7023]])\n",
      "\n",
      "[log_softmax] shape: torch.Size([3, 4])\n"
     ]
    }
   ],
   "source": [
    "# 로그 소프트맥스 (로그 확률)\n",
    "log_probs = F.log_softmax(tensor_2d, dim=1)\n",
    "\n",
    "print(\"\\n[2D] log_probs:\\n\", log_probs)\n",
    "print(\"\\n[log_softmax] shape:\", log_probs.shape)"
   ]
  }
 ],
 "metadata": {
  "kernelspec": {
   "display_name": "dlp-gpu-latest",
   "language": "python",
   "name": "python3"
  },
  "language_info": {
   "codemirror_mode": {
    "name": "ipython",
    "version": 3
   },
   "file_extension": ".py",
   "mimetype": "text/x-python",
   "name": "python",
   "nbconvert_exporter": "python",
   "pygments_lexer": "ipython3",
   "version": "3.11.13"
  }
 },
 "nbformat": 4,
 "nbformat_minor": 5
}
