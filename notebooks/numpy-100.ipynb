{
  "nbformat": 4,
  "nbformat_minor": 0,
  "metadata": {
    "colab": {
      "provenance": [],
      "collapsed_sections": []
    },
    "kernelspec": {
      "name": "python3",
      "display_name": "Python 3"
    },
    "language_info": {
      "name": "python"
    }
  },
  "cells": [
    {
      "cell_type": "markdown",
      "source": [
        "**1.** `np`이름으로 `numpy`패키지를 가져온다."
      ],
      "metadata": {
        "id": "WFOuRZpWiUB8"
      }
    },
    {
      "cell_type": "code",
      "execution_count": null,
      "metadata": {
        "id": "BHFoOY0u0T8Z"
      },
      "outputs": [],
      "source": [
        "import numpy as np"
      ]
    },
    {
      "cell_type": "markdown",
      "source": [
        "**2.** `numpy` <u>버전</u>과 <u>구성</u>을 출력한다."
      ],
      "metadata": {
        "id": "3VIn2dVfic3K"
      }
    },
    {
      "cell_type": "code",
      "source": [
        "print(np.__version__)                                                             # 버전 출력"
      ],
      "metadata": {
        "colab": {
          "base_uri": "https://localhost:8080/"
        },
        "id": "SEyN5Hf00erG",
        "outputId": "bc98304c-4a0d-458b-db55-42d0ceead117"
      },
      "execution_count": null,
      "outputs": [
        {
          "output_type": "stream",
          "name": "stdout",
          "text": [
            "1.21.6\n"
          ]
        }
      ]
    },
    {
      "cell_type": "code",
      "source": [
        "np.show_config()                                                                  # 구성 출력"
      ],
      "metadata": {
        "colab": {
          "base_uri": "https://localhost:8080/"
        },
        "id": "VWW_sPRH0joa",
        "outputId": "ed01fbdc-3e71-4a5a-f4de-fc6c9d7b2ffb"
      },
      "execution_count": null,
      "outputs": [
        {
          "output_type": "stream",
          "name": "stdout",
          "text": [
            "blas_mkl_info:\n",
            "  NOT AVAILABLE\n",
            "blis_info:\n",
            "  NOT AVAILABLE\n",
            "openblas_info:\n",
            "    libraries = ['openblas', 'openblas']\n",
            "    library_dirs = ['/usr/local/lib']\n",
            "    language = c\n",
            "    define_macros = [('HAVE_CBLAS', None)]\n",
            "    runtime_library_dirs = ['/usr/local/lib']\n",
            "blas_opt_info:\n",
            "    libraries = ['openblas', 'openblas']\n",
            "    library_dirs = ['/usr/local/lib']\n",
            "    language = c\n",
            "    define_macros = [('HAVE_CBLAS', None)]\n",
            "    runtime_library_dirs = ['/usr/local/lib']\n",
            "lapack_mkl_info:\n",
            "  NOT AVAILABLE\n",
            "openblas_lapack_info:\n",
            "    libraries = ['openblas', 'openblas']\n",
            "    library_dirs = ['/usr/local/lib']\n",
            "    language = c\n",
            "    define_macros = [('HAVE_CBLAS', None)]\n",
            "    runtime_library_dirs = ['/usr/local/lib']\n",
            "lapack_opt_info:\n",
            "    libraries = ['openblas', 'openblas']\n",
            "    library_dirs = ['/usr/local/lib']\n",
            "    language = c\n",
            "    define_macros = [('HAVE_CBLAS', None)]\n",
            "    runtime_library_dirs = ['/usr/local/lib']\n",
            "Supported SIMD extensions in this NumPy install:\n",
            "    baseline = SSE,SSE2,SSE3\n",
            "    found = SSSE3,SSE41,POPCNT,SSE42,AVX,F16C,FMA3,AVX2\n",
            "    not found = AVX512F,AVX512CD,AVX512_KNL,AVX512_KNM,AVX512_SKX,AVX512_CLX,AVX512_CNL,AVX512_ICL\n"
          ]
        }
      ]
    },
    {
      "cell_type": "markdown",
      "source": [
        "**3.** 사이즈 10의 `Null 벡터`를 생성한다."
      ],
      "metadata": {
        "id": "11fuYeA9ivG4"
      }
    },
    {
      "cell_type": "code",
      "source": [
        "Z = np.zeros(10)                                                                  # '0'으로 구성된 사이즈 10의 벡터 생성\n",
        "print(Z)"
      ],
      "metadata": {
        "colab": {
          "base_uri": "https://localhost:8080/"
        },
        "id": "MACFccCE0ud4",
        "outputId": "e9d4b30b-f042-439e-c54a-fabec7a4fc09"
      },
      "execution_count": null,
      "outputs": [
        {
          "output_type": "stream",
          "name": "stdout",
          "text": [
            "[0. 0. 0. 0. 0. 0. 0. 0. 0. 0.]\n"
          ]
        }
      ]
    },
    {
      "cell_type": "markdown",
      "source": [
        "**4.** 모든 배열의 메모리 크기를 찾아 출력한다."
      ],
      "metadata": {
        "id": "aNoCa_YyjXdc"
      }
    },
    {
      "cell_type": "code",
      "source": [
        "Z = np.zeros((10,10))                                                             # 10 × 10 크기의 Null 벡터 생성"
      ],
      "metadata": {
        "id": "pqCX9-TA0xYG"
      },
      "execution_count": null,
      "outputs": []
    },
    {
      "cell_type": "code",
      "source": [
        "print(Z.nbytes)\n",
        "print(np.prod(Z.shape) * Z.itemsize)\n",
        "print(\"%d bytes\" % (Z.size * Z.itemsize))                                         # 메모리 크기"
      ],
      "metadata": {
        "colab": {
          "base_uri": "https://localhost:8080/"
        },
        "id": "dPqL4r4k02d1",
        "outputId": "be645799-9de9-4526-8af8-f3fdfac9bda7"
      },
      "execution_count": null,
      "outputs": [
        {
          "output_type": "stream",
          "name": "stdout",
          "text": [
            "800\n",
            "800\n",
            "800 bytes\n"
          ]
        }
      ]
    },
    {
      "cell_type": "markdown",
      "source": [
        "**5.** `numpy add` <u>기능의 설명서를 얻는 방법</u>은 다음과 같다."
      ],
      "metadata": {
        "id": "7zmSTC_qj195"
      }
    },
    {
      "cell_type": "code",
      "source": [
        "import numpy"
      ],
      "metadata": {
        "id": "uiz59wV9_J9n"
      },
      "execution_count": null,
      "outputs": []
    },
    {
      "cell_type": "code",
      "source": [
        "numpy.info(numpy.add)                                                             # numpy.info : 기능 설명 -> numpy.add 기능 설명 출력"
      ],
      "metadata": {
        "colab": {
          "base_uri": "https://localhost:8080/"
        },
        "id": "K2POQQwchMSE",
        "outputId": "3f1c107e-3a4e-4766-df34-9b6d317faa17"
      },
      "execution_count": null,
      "outputs": [
        {
          "output_type": "stream",
          "name": "stdout",
          "text": [
            "add(x1, x2, /, out=None, *, where=True, casting='same_kind', order='K', dtype=None, subok=True[, signature, extobj])\n",
            "\n",
            "Add arguments element-wise.\n",
            "\n",
            "Parameters\n",
            "----------\n",
            "x1, x2 : array_like\n",
            "    The arrays to be added.\n",
            "    If ``x1.shape != x2.shape``, they must be broadcastable to a common\n",
            "    shape (which becomes the shape of the output).\n",
            "out : ndarray, None, or tuple of ndarray and None, optional\n",
            "    A location into which the result is stored. If provided, it must have\n",
            "    a shape that the inputs broadcast to. If not provided or None,\n",
            "    a freshly-allocated array is returned. A tuple (possible only as a\n",
            "    keyword argument) must have length equal to the number of outputs.\n",
            "where : array_like, optional\n",
            "    This condition is broadcast over the input. At locations where the\n",
            "    condition is True, the `out` array will be set to the ufunc result.\n",
            "    Elsewhere, the `out` array will retain its original value.\n",
            "    Note that if an uninitialized `out` array is created via the default\n",
            "    ``out=None``, locations within it where the condition is False will\n",
            "    remain uninitialized.\n",
            "**kwargs\n",
            "    For other keyword-only arguments, see the\n",
            "    :ref:`ufunc docs <ufuncs.kwargs>`.\n",
            "\n",
            "Returns\n",
            "-------\n",
            "add : ndarray or scalar\n",
            "    The sum of `x1` and `x2`, element-wise.\n",
            "    This is a scalar if both `x1` and `x2` are scalars.\n",
            "\n",
            "Notes\n",
            "-----\n",
            "Equivalent to `x1` + `x2` in terms of array broadcasting.\n",
            "\n",
            "Examples\n",
            "--------\n",
            ">>> np.add(1.0, 4.0)\n",
            "5.0\n",
            ">>> x1 = np.arange(9.0).reshape((3, 3))\n",
            ">>> x2 = np.arange(3.0)\n",
            ">>> np.add(x1, x2)\n",
            "array([[  0.,   2.,   4.],\n",
            "       [  3.,   5.,   7.],\n",
            "       [  6.,   8.,  10.]])\n",
            "\n",
            "The ``+`` operator can be used as a shorthand for ``np.add`` on ndarrays.\n",
            "\n",
            ">>> x1 = np.arange(9.0).reshape((3, 3))\n",
            ">>> x2 = np.arange(3.0)\n",
            ">>> x1 + x2\n",
            "array([[ 0.,  2.,  4.],\n",
            "       [ 3.,  5.,  7.],\n",
            "       [ 6.,  8., 10.]])\n"
          ]
        }
      ]
    },
    {
      "cell_type": "markdown",
      "source": [
        "**6.**  사이즈 10의 `Null 벡터`를 생성하되, <u>다섯 번째 값</u>은 1로 출력한다."
      ],
      "metadata": {
        "id": "NApSZ6dUeYzX"
      }
    },
    {
      "cell_type": "code",
      "source": [
        "Z = np.zeros(10)                                                                  # 사이즈 10의 Null 벡터 생성 \n",
        "Z[4] = 1                                                                          # 다섯 번째 값을 1로 변경\n",
        "print(Z)                                                                          # 출력"
      ],
      "metadata": {
        "colab": {
          "base_uri": "https://localhost:8080/"
        },
        "id": "vzd7_oakhPT4",
        "outputId": "a73bbd44-eca3-47b5-d985-5149e53e04f8"
      },
      "execution_count": null,
      "outputs": [
        {
          "output_type": "stream",
          "name": "stdout",
          "text": [
            "[0. 0. 0. 0. 1. 0. 0. 0. 0. 0.]\n"
          ]
        }
      ]
    },
    {
      "cell_type": "markdown",
      "source": [
        "**7.** 값이 <u>10 ~ 49의 범위</u>인 벡터를 생성한다."
      ],
      "metadata": {
        "id": "VJGFLwHCf5sM"
      }
    },
    {
      "cell_type": "code",
      "source": [
        "Z = np.arange(10, 50)                                                             # 범위 (10) ~ (50-1) 벡터를 생성\n",
        "print(Z)"
      ],
      "metadata": {
        "colab": {
          "base_uri": "https://localhost:8080/"
        },
        "id": "2rqlvl2wiEwZ",
        "outputId": "ab59f848-12c5-4bb0-ed6a-ac5be87eafa9"
      },
      "execution_count": null,
      "outputs": [
        {
          "output_type": "stream",
          "name": "stdout",
          "text": [
            "[10 11 12 13 14 15 16 17 18 19 20 21 22 23 24 25 26 27 28 29 30 31 32 33\n",
            " 34 35 36 37 38 39 40 41 42 43 44 45 46 47 48 49]\n"
          ]
        }
      ]
    },
    {
      "cell_type": "markdown",
      "source": [
        "**8.** 벡터를 <u>반전</u>하므로, 첫 번째 요소가 마지막이고 마지막 요소가 첫번째로 출력한다."
      ],
      "metadata": {
        "id": "yjETCIfIf_3L"
      }
    },
    {
      "cell_type": "code",
      "source": [
        "Z = np.arange(50)                                                                 # (1) ~ (50-1)의 벡터를 생성\n",
        "Z = Z[::-1]                                                                       # 반전 -> 뒤에서부터 읽어오기\n",
        "print(Z)"
      ],
      "metadata": {
        "colab": {
          "base_uri": "https://localhost:8080/"
        },
        "id": "5YXoZvMaiIAW",
        "outputId": "319d9b14-bc80-4e41-effd-3dd6788f1365"
      },
      "execution_count": null,
      "outputs": [
        {
          "output_type": "stream",
          "name": "stdout",
          "text": [
            "[49 48 47 46 45 44 43 42 41 40 39 38 37 36 35 34 33 32 31 30 29 28 27 26\n",
            " 25 24 23 22 21 20 19 18 17 16 15 14 13 12 11 10  9  8  7  6  5  4  3  2\n",
            "  1  0]\n"
          ]
        }
      ]
    },
    {
      "cell_type": "markdown",
      "source": [
        "**9.** <u>0 ~ 8 범위</u>의 값을 사용하여 사이즈 *3 × 3인 벡터*를 생성한다."
      ],
      "metadata": {
        "id": "n8Q98kmSgLC9"
      }
    },
    {
      "cell_type": "code",
      "source": [
        "Z = np.arange(9).reshape(3, 3)                                                    # (1) ~ (9-1)의 벡터를 3 × 3 사이즈로 생성\n",
        "print(Z)"
      ],
      "metadata": {
        "colab": {
          "base_uri": "https://localhost:8080/"
        },
        "id": "7Hd4jsDhiLv_",
        "outputId": "ecb6f7fb-50fe-4c1a-f65d-ba6bae85dfa5"
      },
      "execution_count": null,
      "outputs": [
        {
          "output_type": "stream",
          "name": "stdout",
          "text": [
            "[[0 1 2]\n",
            " [3 4 5]\n",
            " [6 7 8]]\n"
          ]
        }
      ]
    },
    {
      "cell_type": "markdown",
      "source": [
        "**10.** `[1, 2, 0, 0, 4, 0]`에서 <u>0이 아닌 요소의 색인</u>을 찾아 출력한다."
      ],
      "metadata": {
        "id": "nSyZ30vSgUwu"
      }
    },
    {
      "cell_type": "code",
      "source": [
        "nz = np.nonzero([1, 2, 0, 0, 4, 0])                                               # 해당 벡터 중 0이 아닌 요소의 색인(인덱스)를 찾기 -> 0, 1, 4\n",
        "print(nz)"
      ],
      "metadata": {
        "id": "LpNVqbH3iPFc",
        "colab": {
          "base_uri": "https://localhost:8080/"
        },
        "outputId": "c453e377-672b-4afb-a922-89325a938571"
      },
      "execution_count": null,
      "outputs": [
        {
          "output_type": "stream",
          "name": "stdout",
          "text": [
            "(array([0, 1, 4]),)\n"
          ]
        }
      ]
    },
    {
      "cell_type": "markdown",
      "source": [
        "**11.** `3 × 3` 사이즈로 <u>단위 대각 벡터</u>를 생성한다."
      ],
      "metadata": {
        "id": "IeZqTgo3gb3p"
      }
    },
    {
      "cell_type": "code",
      "source": [
        "Z = np.eye(3)                                                                     # 3×3의 대각 행렬 생성 -> 대각선 부분만 1인 행렬 \n",
        "print(Z)"
      ],
      "metadata": {
        "colab": {
          "base_uri": "https://localhost:8080/"
        },
        "id": "yalmT5DtgfXg",
        "outputId": "f13146ab-ba42-40ed-f9e0-997a0a31a882"
      },
      "execution_count": null,
      "outputs": [
        {
          "output_type": "stream",
          "name": "stdout",
          "text": [
            "[[1. 0. 0.]\n",
            " [0. 1. 0.]\n",
            " [0. 0. 1.]]\n"
          ]
        }
      ]
    },
    {
      "cell_type": "markdown",
      "source": [
        "**12.** <u>랜덤 값</u> `3×3×3 사이즈의 벡터`를 생성한다."
      ],
      "metadata": {
        "id": "86VwfkEUjwOQ"
      }
    },
    {
      "cell_type": "code",
      "source": [
        "Z = np.random.random((3,3,3))                                                     # 랜덤 값의 3×3×3 벡터 생성  \n",
        "print(Z)"
      ],
      "metadata": {
        "colab": {
          "base_uri": "https://localhost:8080/"
        },
        "id": "LoxxLXDegi3Y",
        "outputId": "3b48773f-a6cb-44bd-8a21-5bd735b2d50a"
      },
      "execution_count": null,
      "outputs": [
        {
          "output_type": "stream",
          "name": "stdout",
          "text": [
            "[[[0.65381306 0.592474   0.61715843]\n",
            "  [0.16813696 0.12247986 0.0097647 ]\n",
            "  [0.35714867 0.85607211 0.60863454]]\n",
            "\n",
            " [[0.78894021 0.04984974 0.70291023]\n",
            "  [0.99598594 0.90762406 0.62682683]\n",
            "  [0.44927601 0.88560654 0.60702544]]\n",
            "\n",
            " [[0.54781346 0.2175948  0.91262417]\n",
            "  [0.92936837 0.76883549 0.90385029]\n",
            "  [0.98175884 0.5270669  0.68298094]]]\n"
          ]
        }
      ]
    },
    {
      "cell_type": "markdown",
      "source": [
        "**13.** <u>랜덤값</u>이 있는 `10×10의 벡터`를 생성하고 <u>최소값</u>과 <u>최대값</u>을 찾아 출력한다."
      ],
      "metadata": {
        "id": "5rLji0wFjxG7"
      }
    },
    {
      "cell_type": "code",
      "source": [
        "Z = np.random.random((10,10))                                                     # 10×10의 랜덤값 벡터 생성\n",
        "print(Z)\n",
        "Zmin, Zmax = Z.min(), Z.max()                                                     # 최대값, 최소값 구하기\n",
        "print(\"최소값 : \", Zmin, \"최대값 : \", Zmax)"
      ],
      "metadata": {
        "colab": {
          "base_uri": "https://localhost:8080/"
        },
        "id": "XPx9ObSUglY3",
        "outputId": "9c265806-0b89-4852-88ff-420eaf06a50a"
      },
      "execution_count": null,
      "outputs": [
        {
          "output_type": "stream",
          "name": "stdout",
          "text": [
            "[[0.26744264 0.99228643 0.26216852 0.5997901  0.45206051 0.3200821\n",
            "  0.3262597  0.29428163 0.7619028  0.43013962]\n",
            " [0.30653722 0.93784146 0.58010335 0.90602027 0.81097097 0.7074348\n",
            "  0.31928345 0.20563621 0.79913094 0.82669199]\n",
            " [0.66756408 0.15113634 0.72313826 0.64362459 0.19100949 0.01453672\n",
            "  0.4249614  0.3369779  0.63073595 0.89784993]\n",
            " [0.05342012 0.48232161 0.25984425 0.47036866 0.8827651  0.42255039\n",
            "  0.91524101 0.36795509 0.82476145 0.15962114]\n",
            " [0.43960542 0.49538115 0.66767611 0.93542248 0.00575724 0.6733798\n",
            "  0.34958975 0.27498067 0.20841328 0.7774037 ]\n",
            " [0.23667625 0.97452912 0.85484626 0.86480057 0.51923705 0.45403348\n",
            "  0.944089   0.91226703 0.59098847 0.44916055]\n",
            " [0.16387015 0.55056644 0.35754304 0.44057687 0.78315624 0.99408411\n",
            "  0.13410343 0.20640062 0.89085928 0.07678122]\n",
            " [0.95500076 0.6251885  0.81522798 0.32464053 0.74420856 0.13248315\n",
            "  0.54954256 0.24384174 0.17373458 0.19697047]\n",
            " [0.82459978 0.05072309 0.06931751 0.53624795 0.04888925 0.83537158\n",
            "  0.54915424 0.16110907 0.82317286 0.77909827]\n",
            " [0.07869584 0.36203865 0.09103593 0.33225607 0.21044302 0.37234305\n",
            "  0.09050883 0.55208996 0.85130987 0.73895941]]\n",
            "최소값 :  0.005757243217093033 최대값 :  0.9940841148253711\n"
          ]
        }
      ]
    },
    {
      "cell_type": "markdown",
      "source": [
        "**14.** `30 크기의 랜덤 벡터`를 생성하고 <u>평균값</u>을 찾아 출력한다."
      ],
      "metadata": {
        "id": "O7m0fFdZjyCa"
      }
    },
    {
      "cell_type": "code",
      "source": [
        "Z = np.random.random(30)                                                          # 30 사이즈의 랜덤값 벡터 생성\n",
        "m = Z.mean()                                                                      # 평균값 구하기\n",
        "print(m)"
      ],
      "metadata": {
        "colab": {
          "base_uri": "https://localhost:8080/"
        },
        "id": "VLmSObhrgtJK",
        "outputId": "52e7dfa2-276d-4dea-b7cc-e8fe75a9840f"
      },
      "execution_count": null,
      "outputs": [
        {
          "output_type": "stream",
          "name": "stdout",
          "text": [
            "0.445792039051191\n"
          ]
        }
      ]
    },
    {
      "cell_type": "markdown",
      "source": [
        "**15.** <u>경계값이 1</u>이고 <u>내부가 0</u>인 2차원 배열을 만든다."
      ],
      "metadata": {
        "id": "1Mxzy7ndjydK"
      }
    },
    {
      "cell_type": "code",
      "source": [
        "Z = np.ones((10, 10))                                                             # 2차원의 10×10사이즈의 1로 구성된 배열 생성\n",
        "Z[1:-1, 1:-1] = 0                                                                 # 1번째 인덱스부터 마지막 인덱스 전까지는 0으로 값 변경 -> 내부가 0이고, 테두리는 1인 배열 \n",
        "print(Z)"
      ],
      "metadata": {
        "colab": {
          "base_uri": "https://localhost:8080/"
        },
        "id": "dDfyH9BRgwIR",
        "outputId": "5c0b0565-d902-4ce5-80a2-35ce3f2525ed"
      },
      "execution_count": null,
      "outputs": [
        {
          "output_type": "stream",
          "name": "stdout",
          "text": [
            "[[1. 1. 1. 1. 1. 1. 1. 1. 1. 1.]\n",
            " [1. 0. 0. 0. 0. 0. 0. 0. 0. 1.]\n",
            " [1. 0. 0. 0. 0. 0. 0. 0. 0. 1.]\n",
            " [1. 0. 0. 0. 0. 0. 0. 0. 0. 1.]\n",
            " [1. 0. 0. 0. 0. 0. 0. 0. 0. 1.]\n",
            " [1. 0. 0. 0. 0. 0. 0. 0. 0. 1.]\n",
            " [1. 0. 0. 0. 0. 0. 0. 0. 0. 1.]\n",
            " [1. 0. 0. 0. 0. 0. 0. 0. 0. 1.]\n",
            " [1. 0. 0. 0. 0. 0. 0. 0. 0. 1.]\n",
            " [1. 1. 1. 1. 1. 1. 1. 1. 1. 1.]]\n"
          ]
        }
      ]
    },
    {
      "cell_type": "markdown",
      "source": [
        "**16.** 기존 어레이에 <u>테두리를 0으로</u> 채운다."
      ],
      "metadata": {
        "id": "Z6zKAUovjzoF"
      }
    },
    {
      "cell_type": "code",
      "source": [
        "Z = np.ones((5,5))                                                                # 2차원의 5×5사이즈의 1로 구성된 배열 생성\n",
        "Z = np.pad(Z, pad_width=1, mode='constant', constant_values=0)                    # 어레이의 테두리에 특정 데이터를 추가 -> 특정 값 0으로 한 줄의 테두리를 만들기\n",
        "print(Z)\n",
        "\n",
        "print()\n",
        "\n",
        "Z[:, [0, -1]] = 0                                                                 # 인덱스로 테두리의 값을 0으로 변경\n",
        "Z[[0,-1], :] = 0                                                                  # 인덱스로 테두리의 값을 0으로 변경\n",
        "print(Z)"
      ],
      "metadata": {
        "colab": {
          "base_uri": "https://localhost:8080/"
        },
        "id": "MGWbsQocg1St",
        "outputId": "4b7e619a-58f1-4bfa-f08e-86b8ce428a5a"
      },
      "execution_count": null,
      "outputs": [
        {
          "output_type": "stream",
          "name": "stdout",
          "text": [
            "[[0. 0. 0. 0. 0. 0. 0.]\n",
            " [0. 1. 1. 1. 1. 1. 0.]\n",
            " [0. 1. 1. 1. 1. 1. 0.]\n",
            " [0. 1. 1. 1. 1. 1. 0.]\n",
            " [0. 1. 1. 1. 1. 1. 0.]\n",
            " [0. 1. 1. 1. 1. 1. 0.]\n",
            " [0. 0. 0. 0. 0. 0. 0.]]\n",
            "\n",
            "[[0. 0. 0. 0. 0. 0. 0.]\n",
            " [0. 1. 1. 1. 1. 1. 0.]\n",
            " [0. 1. 1. 1. 1. 1. 0.]\n",
            " [0. 1. 1. 1. 1. 1. 0.]\n",
            " [0. 1. 1. 1. 1. 1. 0.]\n",
            " [0. 1. 1. 1. 1. 1. 0.]\n",
            " [0. 0. 0. 0. 0. 0. 0.]]\n"
          ]
        }
      ]
    },
    {
      "cell_type": "markdown",
      "source": [
        "**17.** 아래 결과를 예측해본다.\n",
        "```\n",
        "1. 0 * np.nan\n",
        "2. np.nan == np.nan\n",
        "3. np.inf > np.nan\n",
        "4. np.nan - np.nan \n",
        "5. np.nan in set([np.nan])\n",
        "6. 0.3 == 3 * 0.1\n",
        "```\n",
        "\n",
        "\n",
        "\n",
        "**예측**\n",
        "```\n",
        "1. 정의될 수 없는 np.nan의 식이므로, 정의할 수 없는 nan을 출력한다.\n",
        "2. 정의할 수 없는 nan이므로 같은 nan과의 비교라도 같다고 정의할 수 없으므로 False를 출력한다.\n",
        "3. 정의할 수 없는 nan과의 비교이므로, 정의할 수 없으므로 False를 출력한다.\n",
        "4. 정의할 수 없는 nan의 식이므로, 정의할 수 없는 값의 nan을 출력한다.\n",
        "5. nan값으로 구성된 set 자료형의 정의할 수 없는 nan은 포함된 것을 알 수 있으므로 True를 출력한다.\n",
        "6. 소수점의 연산을 정확하게 출력할 수 없으므로 False를 출력한다.\n",
        "```\n"
      ],
      "metadata": {
        "id": "35fM-RgTj0V1"
      }
    },
    {
      "cell_type": "code",
      "source": [
        "print(0 * np.nan)\n",
        "print(np.nan == np.nan)\n",
        "print(np.inf > np.nan)\n",
        "print(np.nan - np.nan)\n",
        "print(np.nan in set([np.nan]))\n",
        "print(0.3 == 3 * 0.1)"
      ],
      "metadata": {
        "colab": {
          "base_uri": "https://localhost:8080/"
        },
        "id": "a7ve4GafhB-5",
        "outputId": "02699477-b1b9-4d98-bb54-bbc12c336950"
      },
      "execution_count": null,
      "outputs": [
        {
          "output_type": "stream",
          "name": "stdout",
          "text": [
            "nan\n",
            "False\n",
            "False\n",
            "nan\n",
            "True\n",
            "False\n"
          ]
        }
      ]
    },
    {
      "cell_type": "markdown",
      "source": [
        "**18.** 5×5 사이즈의 벡터를 생성하되, <u>대각선 바로 아래에 값</u>은 `1,2,3,4`를 사용한다."
      ],
      "metadata": {
        "id": "P71dK0yfj05n"
      }
    },
    {
      "cell_type": "code",
      "source": [
        "Z = np.diag(1+np.arange(4), k=-1)                                                 # 1 ~ 4의 값을 아래 대각행렬로 하는 벡터 생성 \n",
        "print(Z)"
      ],
      "metadata": {
        "colab": {
          "base_uri": "https://localhost:8080/"
        },
        "id": "oXwOr2johGku",
        "outputId": "71bc54a1-7466-41af-d36d-9a34211d59ec"
      },
      "execution_count": null,
      "outputs": [
        {
          "output_type": "stream",
          "name": "stdout",
          "text": [
            "[[0 0 0 0 0]\n",
            " [1 0 0 0 0]\n",
            " [0 2 0 0 0]\n",
            " [0 0 3 0 0]\n",
            " [0 0 0 4 0]]\n"
          ]
        }
      ]
    },
    {
      "cell_type": "markdown",
      "source": [
        "**19.** 8×8 사이즈인 <u>체크보드 패턴</u>의 벡터를 만든다."
      ],
      "metadata": {
        "id": "QsHkzbx1j1fI"
      }
    },
    {
      "cell_type": "code",
      "source": [
        "Z = np.zeros((8,8), dtype=int)                                                    # 8×8의 0으로 구성된 배열 생성\n",
        "Z[1::2, ::2] = 1                                                                  # 인덱스 지정으로 값 변경\n",
        "Z[::2, 1::2] = 1                                                                  # 인덱스 지정으로 값 변경\n",
        "print(Z)"
      ],
      "metadata": {
        "colab": {
          "base_uri": "https://localhost:8080/"
        },
        "id": "JGfryBrchbW4",
        "outputId": "2f3c834a-5bee-4260-d620-6f25fe8aed00"
      },
      "execution_count": null,
      "outputs": [
        {
          "output_type": "stream",
          "name": "stdout",
          "text": [
            "[[0 1 0 1 0 1 0 1]\n",
            " [1 0 1 0 1 0 1 0]\n",
            " [0 1 0 1 0 1 0 1]\n",
            " [1 0 1 0 1 0 1 0]\n",
            " [0 1 0 1 0 1 0 1]\n",
            " [1 0 1 0 1 0 1 0]\n",
            " [0 1 0 1 0 1 0 1]\n",
            " [1 0 1 0 1 0 1 0]]\n"
          ]
        }
      ]
    },
    {
      "cell_type": "markdown",
      "source": [
        "**20.** 배열 `(6, 7, 8)`을 고려하여 <u>100번째 원소의 색인</u>의 `(x, y, z)`를 구한다."
      ],
      "metadata": {
        "id": "ZO8r3G1Jj2Ln"
      }
    },
    {
      "cell_type": "markdown",
      "source": [
        "`np.unravel_index(indices, dims, order=\"C\")`가 기본 문법이다.  \n",
        "- 이는 `dims 인자`에 들어온 값을 플랫했을 때, `indices 값`의 위치에 존재하는 값은 <u>기존 어레이에 어떤 위치에 존재</u>하는지를 답하는 함수이다.  \n",
        "- 이때, `order`값은 \"`C`\"는 `행 주요`, \"`F`\"는 `열 주요`를 의미한다.\n"
      ],
      "metadata": {
        "id": "WpxVzM_EQvKC"
      }
    },
    {
      "cell_type": "code",
      "source": [
        "print(np.unravel_index(99, (6,7,8)))                                              "
      ],
      "metadata": {
        "colab": {
          "base_uri": "https://localhost:8080/"
        },
        "id": "DdFv86WLj5SE",
        "outputId": "200d6fd7-cfb8-4ddc-bebd-ef297a50acc1"
      },
      "execution_count": null,
      "outputs": [
        {
          "output_type": "stream",
          "name": "stdout",
          "text": [
            "(1, 5, 3)\n"
          ]
        }
      ]
    },
    {
      "cell_type": "markdown",
      "source": [
        "**21.** `np.tile`함수를 사용하여 체크보드 8×8 배열을 생성한다."
      ],
      "metadata": {
        "id": "P8F1udJlkSV_"
      }
    },
    {
      "cell_type": "code",
      "source": [
        "Z = np.tile(np.array([[0,1],[1,0]]), (4,4))                                       # np.title : [0,1]과 [1,0]을 행과 열로 4번씩 반복하여 쌓는 함수를 생성\n",
        "print(Z)"
      ],
      "metadata": {
        "colab": {
          "base_uri": "https://localhost:8080/"
        },
        "id": "U52znXgBhgwl",
        "outputId": "4228ca3a-f457-4e28-e85a-87b16c25ce60"
      },
      "execution_count": null,
      "outputs": [
        {
          "output_type": "stream",
          "name": "stdout",
          "text": [
            "[[0 1 0 1 0 1 0 1]\n",
            " [1 0 1 0 1 0 1 0]\n",
            " [0 1 0 1 0 1 0 1]\n",
            " [1 0 1 0 1 0 1 0]\n",
            " [0 1 0 1 0 1 0 1]\n",
            " [1 0 1 0 1 0 1 0]\n",
            " [0 1 0 1 0 1 0 1]\n",
            " [1 0 1 0 1 0 1 0]]\n"
          ]
        }
      ]
    },
    {
      "cell_type": "markdown",
      "source": [
        "**22.** 5×5 크기의 <u>랜덤 행렬을 정규화</u>한다."
      ],
      "metadata": {
        "id": "PhhFi2A2kTIu"
      }
    },
    {
      "cell_type": "code",
      "source": [
        "Z = np.random.random((5,5))                                                       # 5×5 크기의 랜덤 행렬 생성\n",
        "Z = (Z - np.mean(Z)) / (np.std(Z))                                                # 정규화\n",
        "print(Z)"
      ],
      "metadata": {
        "colab": {
          "base_uri": "https://localhost:8080/"
        },
        "id": "MgZhLyKihmvM",
        "outputId": "afce58f4-7db8-48d6-8c93-6d3e5e09fb6b"
      },
      "execution_count": null,
      "outputs": [
        {
          "output_type": "stream",
          "name": "stdout",
          "text": [
            "[[ 0.54798682 -0.19168233  1.25590174  1.17430134  0.66713749]\n",
            " [-0.42858146 -0.22648597  0.09357785 -0.58488977 -1.29005979]\n",
            " [ 1.65468528  1.65920285  1.77879463 -1.2998136   0.7518066 ]\n",
            " [-1.26732563 -1.08851581 -0.37394064  0.69259205 -1.29347055]\n",
            " [ 0.62891192 -0.13881478 -1.16576489 -0.64640196 -0.90915139]]\n"
          ]
        }
      ]
    },
    {
      "cell_type": "markdown",
      "source": [
        "**23.** <u>색상을 4바이트(RGBA)</u>로 나타내는 사용자 지정 `dtype`을 생성한다."
      ],
      "metadata": {
        "id": "tWuqOja_kTxK"
      }
    },
    {
      "cell_type": "code",
      "source": [
        "color = np.dtype([(\"r\", np.ubyte, 1),\n",
        "                  (\"g\", np.ubyte, 1),\n",
        "                  (\"b\", np.ubyte, 1),\n",
        "                  (\"a\", np.ubyte, 1)])\n",
        "\n",
        "color                                                                             # dtype로 지정한 각 색의 정보를 해당 type로 color에 속한것을 확인 가능 "
      ],
      "metadata": {
        "colab": {
          "base_uri": "https://localhost:8080/"
        },
        "id": "1SZCFr1fjSn4",
        "outputId": "5aa447b4-1d62-4b3d-974c-fd64a0ecca45"
      },
      "execution_count": null,
      "outputs": [
        {
          "output_type": "stream",
          "name": "stderr",
          "text": [
            "/usr/local/lib/python3.7/dist-packages/ipykernel_launcher.py:4: FutureWarning: Passing (type, 1) or '1type' as a synonym of type is deprecated; in a future version of numpy, it will be understood as (type, (1,)) / '(1,)type'.\n",
            "  after removing the cwd from sys.path.\n"
          ]
        },
        {
          "output_type": "execute_result",
          "data": {
            "text/plain": [
              "dtype([('r', 'u1'), ('g', 'u1'), ('b', 'u1'), ('a', 'u1')])"
            ]
          },
          "metadata": {},
          "execution_count": 26
        }
      ]
    },
    {
      "cell_type": "markdown",
      "source": [
        "**24.** 5×3 행렬에 3×2 행렬을 곱한다."
      ],
      "metadata": {
        "id": "wwBxAwINkUdb"
      }
    },
    {
      "cell_type": "markdown",
      "source": [
        "**행렬의 곱셈**\n",
        "- `np.dot`\n",
        "- \"`@`\""
      ],
      "metadata": {
        "id": "bl1XCoPdT6Fw"
      }
    },
    {
      "cell_type": "code",
      "source": [
        "Z= np.dot(np.ones((5,3)), np.ones((3,2)))\n",
        "print(Z)\n",
        "\n",
        "print()\n",
        "\n",
        "Z = np.ones((5,3)) @ np.ones((3,2))\n",
        "print(Z)"
      ],
      "metadata": {
        "colab": {
          "base_uri": "https://localhost:8080/"
        },
        "id": "GFV_BDc0jmBf",
        "outputId": "8b49e7de-e8df-4872-96c3-4f5a30da1398"
      },
      "execution_count": null,
      "outputs": [
        {
          "output_type": "stream",
          "name": "stdout",
          "text": [
            "[[3. 3.]\n",
            " [3. 3.]\n",
            " [3. 3.]\n",
            " [3. 3.]\n",
            " [3. 3.]]\n",
            "\n",
            "[[3. 3.]\n",
            " [3. 3.]\n",
            " [3. 3.]\n",
            " [3. 3.]\n",
            " [3. 3.]]\n"
          ]
        }
      ]
    },
    {
      "cell_type": "markdown",
      "source": [
        "**25.** `0부터 10까지의 범위의 값`으로 구성된 1차원 배열에서 3과 8사이의 모든 값을 <u>부정</u>하여 음수로 나타낸다."
      ],
      "metadata": {
        "id": "a_6-_80Xkd7A"
      }
    },
    {
      "cell_type": "code",
      "source": [
        "Z = np.arange(11)                                                                 # 0~10 값으로 구성된 배열 생성\n",
        "Z[(3 < Z) & (Z < 8)] *= -1                                                        # 3과 8사이의 값은 -1을 곱하는 인덱스를 이용한 식 작성\n",
        "print(Z)"
      ],
      "metadata": {
        "colab": {
          "base_uri": "https://localhost:8080/"
        },
        "id": "LjpfXnvokdMq",
        "outputId": "fa64c4c9-09a1-4867-ead2-58d3c409eb4e"
      },
      "execution_count": null,
      "outputs": [
        {
          "output_type": "stream",
          "name": "stdout",
          "text": [
            "[ 0  1  2  3 -4 -5 -6 -7  8  9 10]\n"
          ]
        }
      ]
    },
    {
      "cell_type": "markdown",
      "source": [
        "**26.** 아래의 결과를 예측한다."
      ],
      "metadata": {
        "id": "YfWkwNPMklMv"
      }
    },
    {
      "cell_type": "markdown",
      "source": [
        "```\n",
        "1. print(sum(range(5), -1))\n",
        "2. from numpy import *\n",
        "   print(sum(range(5), -1))\n",
        "```\n",
        "**예측**\n",
        "```\n",
        "1. 기존 0~5까지의 범위로 구성된 변수들에서 -1까지 모두 더하는 것으로, -1 + 0 + 1 + 2 + 3 + 4 = 9을 출력한다.\n",
        "2. numpy의 sum으로 문법으로, sum의 두번째 인자인 -1은 axis=-1로 이해하므로, 0 + 1 + 2 + 3 + 4 = 10을 출력한다.\n"
      ],
      "metadata": {
        "id": "z87d0hkPUsZ9"
      }
    },
    {
      "cell_type": "code",
      "source": [
        "print(sum(range(5), -1))\n",
        "from numpy import *\n",
        "print(sum(range(5), -1))"
      ],
      "metadata": {
        "colab": {
          "base_uri": "https://localhost:8080/"
        },
        "id": "i1RmllVUkklr",
        "outputId": "e2d96e0e-0006-41af-9689-e2a63a196c48"
      },
      "execution_count": null,
      "outputs": [
        {
          "output_type": "stream",
          "name": "stdout",
          "text": [
            "9\n",
            "10\n"
          ]
        }
      ]
    },
    {
      "cell_type": "markdown",
      "source": [
        "**27.** 정수 벡터 Z를 이용하여, 아래 표현들 중 어느 것이 맞는 표현인지 파악한다."
      ],
      "metadata": {
        "id": "ecR4q1CFkk19"
      }
    },
    {
      "cell_type": "markdown",
      "source": [
        "```\n",
        "Z**Z\n",
        "2 << Z >> 2\n",
        "Z <- Z\n",
        "1j * Z\n",
        "Z/1/1\n",
        "Z<Z>Z\n",
        "```\n",
        "\n",
        "**`Z<Z>Z 외에는 모두 맞는 표현이고, Z<Z>Z만 올바르지 않은 표현이다.`**"
      ],
      "metadata": {
        "id": "rlFbti4ylYID"
      }
    },
    {
      "cell_type": "code",
      "source": [
        "Z = np.arange(11)\n",
        "print(Z)"
      ],
      "metadata": {
        "colab": {
          "base_uri": "https://localhost:8080/"
        },
        "id": "yScP7Ei-Yxkf",
        "outputId": "59dab775-62ab-4228-86e1-74032bffa002"
      },
      "execution_count": null,
      "outputs": [
        {
          "output_type": "stream",
          "name": "stdout",
          "text": [
            "[ 0  1  2  3  4  5  6  7  8  9 10]\n"
          ]
        }
      ]
    },
    {
      "cell_type": "code",
      "source": [
        "print(Z**Z)\n",
        "print(2 << Z >> 2)\n",
        "print(Z <- Z)\n",
        "print(1j * Z)\n",
        "print(Z/1/1)\n",
        "print(Z<Z>Z)"
      ],
      "metadata": {
        "colab": {
          "base_uri": "https://localhost:8080/",
          "height": 336
        },
        "id": "_c9ZkfZWk7w6",
        "outputId": "fa21946e-099e-4a7c-c700-031e21beb700"
      },
      "execution_count": null,
      "outputs": [
        {
          "output_type": "stream",
          "name": "stdout",
          "text": [
            "[          1           1           4          27         256        3125\n",
            "       46656      823543    16777216   387420489 10000000000]\n",
            "[  0   1   2   4   8  16  32  64 128 256 512]\n",
            "[False False False False False False False False False False False]\n",
            "[0. +0.j 0. +1.j 0. +2.j 0. +3.j 0. +4.j 0. +5.j 0. +6.j 0. +7.j 0. +8.j\n",
            " 0. +9.j 0.+10.j]\n",
            "[ 0.  1.  2.  3.  4.  5.  6.  7.  8.  9. 10.]\n"
          ]
        },
        {
          "output_type": "error",
          "ename": "ValueError",
          "evalue": "ignored",
          "traceback": [
            "\u001b[0;31m---------------------------------------------------------------------------\u001b[0m",
            "\u001b[0;31mValueError\u001b[0m                                Traceback (most recent call last)",
            "\u001b[0;32m<ipython-input-31-f8d7a6791ce0>\u001b[0m in \u001b[0;36m<module>\u001b[0;34m\u001b[0m\n\u001b[1;32m      4\u001b[0m \u001b[0mprint\u001b[0m\u001b[0;34m(\u001b[0m\u001b[0;36m1j\u001b[0m \u001b[0;34m*\u001b[0m \u001b[0mZ\u001b[0m\u001b[0;34m)\u001b[0m\u001b[0;34m\u001b[0m\u001b[0;34m\u001b[0m\u001b[0m\n\u001b[1;32m      5\u001b[0m \u001b[0mprint\u001b[0m\u001b[0;34m(\u001b[0m\u001b[0mZ\u001b[0m\u001b[0;34m/\u001b[0m\u001b[0;36m1\u001b[0m\u001b[0;34m/\u001b[0m\u001b[0;36m1\u001b[0m\u001b[0;34m)\u001b[0m\u001b[0;34m\u001b[0m\u001b[0;34m\u001b[0m\u001b[0m\n\u001b[0;32m----> 6\u001b[0;31m \u001b[0mprint\u001b[0m\u001b[0;34m(\u001b[0m\u001b[0mZ\u001b[0m\u001b[0;34m<\u001b[0m\u001b[0mZ\u001b[0m\u001b[0;34m>\u001b[0m\u001b[0mZ\u001b[0m\u001b[0;34m)\u001b[0m\u001b[0;34m\u001b[0m\u001b[0;34m\u001b[0m\u001b[0m\n\u001b[0m",
            "\u001b[0;31mValueError\u001b[0m: The truth value of an array with more than one element is ambiguous. Use a.any() or a.all()"
          ]
        }
      ]
    },
    {
      "cell_type": "markdown",
      "source": [
        "**28.** 다음 표현식의 결과는 무엇인지 알아본다."
      ],
      "metadata": {
        "id": "vLmeuOlmlbbh"
      }
    },
    {
      "cell_type": "markdown",
      "source": [
        "```\n",
        "1. print(np.array(0) / np.array(0))\n",
        "2. print(np.array(0) // np.array(0))\n",
        "3. print(np.array([np.nan]).astype(int).astype(float))\n",
        "```\n",
        "\n",
        "```\n",
        "array는 나누기(/)는 불가능하지만, 몫을 구하는 것(//)은 가능하다.  \n",
        "즉, 1번과 같은 나누기의 식은 정의할 수 없는 nan을 출력한다.\n",
        "```"
      ],
      "metadata": {
        "id": "24_srbZ9luT1"
      }
    },
    {
      "cell_type": "code",
      "source": [
        "print(np.array(0) / np.array(0))\n",
        "print(np.array(0) // np.array(0))\n",
        "print(np.array([np.nan]).astype(int).astype(float))"
      ],
      "metadata": {
        "colab": {
          "base_uri": "https://localhost:8080/"
        },
        "id": "AAnkSJRclFde",
        "outputId": "827ff3cf-94ae-4667-8d90-11d13f513777"
      },
      "execution_count": null,
      "outputs": [
        {
          "output_type": "stream",
          "name": "stdout",
          "text": [
            "nan\n",
            "0\n",
            "[-9.22337204e+18]\n"
          ]
        },
        {
          "output_type": "stream",
          "name": "stderr",
          "text": [
            "/usr/local/lib/python3.7/dist-packages/ipykernel_launcher.py:1: RuntimeWarning: invalid value encountered in true_divide\n",
            "  \"\"\"Entry point for launching an IPython kernel.\n",
            "/usr/local/lib/python3.7/dist-packages/ipykernel_launcher.py:2: RuntimeWarning: divide by zero encountered in floor_divide\n",
            "  \n"
          ]
        }
      ]
    },
    {
      "cell_type": "markdown",
      "source": [
        "**29.** 실수형 배열에서 <u>반올림</u>하는 방법을 구해본다.  "
      ],
      "metadata": {
        "id": "lx7bkQpMlxOX"
      }
    },
    {
      "cell_type": "markdown",
      "source": [
        "- `np.random.uniform(a,b,c)`\n",
        "    - 최소값 a에서 최대값 b까지의 범위사이에서 균등하게 c개의 값으로 어레이를 생성한다.\n",
        "\n",
        "- `np.ceil(number)`\n",
        "  - 주어진 숫자와 같은 정수 또는 주어진 숫자보다 큰 가장 가까운 정수를 출력한다.\n",
        "\n",
        "- `np.floor(number)`\n",
        "  - 주어진 숫자와 같은 정수 또는 주어진 숫자보다 작은 가장 가까운 정수를 출력한다.\n",
        "\n",
        "- `np.abs(number)`\n",
        "  - number의 절댓값을 출력한다.\n",
        "\n",
        "- `np.copysign(a, b)`\n",
        "  - 첫번째 array 요소의 기호를 두 번째 array 요소의 기호로 바꾼다.\n",
        "\n",
        "- `np.where(a, b, c)`\n",
        "  - a가 True인 곳은 b의 요소, a가 False인 곳은 c의 요소로 리턴한다."
      ],
      "metadata": {
        "id": "WnT6fKaSfT3a"
      }
    },
    {
      "cell_type": "code",
      "source": [
        "Z = np.random.uniform(-10,+10,10)                                                 # 최소 -10, 최대 +10의 범위에서 균등하게 10개의 어레이 생성\n",
        "print(Z)\n",
        "\n",
        "# Z 어레이의 절댓값과 크거나 같은 정수 중 가까운 정수로 출력 후, 기존의 Z 어레이의 기호로 변환하여 출력\n",
        "print(np.copysign(np.ceil(np.abs(Z)),Z))\n",
        "\n",
        "# 더 가독성이 있지만, 덜 효율적 -> Z가 양수이면 Z와 같거나 큰 가장 가까운 정수로, Z가 음수이면 Z와 같거나 작은 가장 가까운 정수로 변환하여 출력\n",
        "print(np.where(Z>0, np.ceil(Z), np.floor(Z)))"
      ],
      "metadata": {
        "colab": {
          "base_uri": "https://localhost:8080/"
        },
        "id": "uPGq26zjl-xS",
        "outputId": "5c5c3dda-66c0-4aa6-9ef2-439f704fa9b2"
      },
      "execution_count": null,
      "outputs": [
        {
          "output_type": "stream",
          "name": "stdout",
          "text": [
            "[ 1.5707746   7.28635782  0.11239955  9.77256366  8.69581946 -1.61318749\n",
            " -9.08580137 -4.0661049   9.52373749 -1.10126901]\n",
            "[  2.   8.   1.  10.   9.  -2. -10.  -5.  10.  -2.]\n",
            "[  2.   8.   1.  10.   9.  -2. -10.  -5.  10.  -2.]\n"
          ]
        }
      ]
    },
    {
      "cell_type": "markdown",
      "source": [
        "**30.** 두 어레이 간의 <u>공통 값을 찾는다</u>."
      ],
      "metadata": {
        "id": "45DZgIbFmLU4"
      }
    },
    {
      "cell_type": "code",
      "source": [
        "Z1 = np.random.randint(0,10,10)                                                   # 0부터 9까지의 랜덤한 숫자 10개의 배열인 Z1과 Z2 생성                          \n",
        "Z2 = np.random.randint(0,10,10)\n",
        "print(f\"Z1 : {Z1}, Z2 : {Z2}\")\n",
        "print(np.intersect1d(Z1,Z2))                                                      # np.intersect1d(x,y) : 두 개의 배열 x, y의 교집합을 정렬하여 반환"
      ],
      "metadata": {
        "colab": {
          "base_uri": "https://localhost:8080/"
        },
        "id": "uPX9wofVmK4m",
        "outputId": "1b4a390c-7820-47ef-d348-6b3ea06b3559"
      },
      "execution_count": null,
      "outputs": [
        {
          "output_type": "stream",
          "name": "stdout",
          "text": [
            "Z1 : [0 7 2 4 0 7 0 6 0 1], Z2 : [5 2 8 5 2 8 3 7 2 8]\n",
            "[2 7]\n"
          ]
        }
      ]
    },
    {
      "cell_type": "markdown",
      "source": [
        "**31.** 모든 `numpy`의 <u>경고를 무시하는 방법을 사용</u>해본다. *하지만, 이 방법들은 권장하지 않는다.* "
      ],
      "metadata": {
        "id": "HclcCxazmTfP"
      }
    },
    {
      "cell_type": "markdown",
      "source": [
        "- `np.seterr`\n",
        "  - 부동소수점 오류 처리 방법을 설정한다.\n",
        "  - 나눗셈, 오버플로우, 언더플로우, 유효하지 않은 소수점에 대해 각각 처리 가능하다.\n",
        "  - `{'ignore', 'warn', 'raise', 'call', 'print', 'log'}`로 처리 가능하다."
      ],
      "metadata": {
        "id": "Uj7MoVDKk7YO"
      }
    },
    {
      "cell_type": "code",
      "source": [
        "defaults = np.seterr(all=\"ignore\")                                                # all='ignore'로 설정하여 오류 발생 시, 무시하도록 설정 -> Suicide mode\n",
        "Z = np.ones(1) / 0\n",
        "\n",
        "_ = np.seterr(**defaults)                                                         # 오류 처리 방법을 초기화\n",
        "\n",
        "with np.errstate(all=\"ignore\") :\n",
        "    np.arange(3)/ 0                                                               # context manager로 동등한 기능을 하는 것으로, 경고를 표시하지 않기 위해 errstate(divide='ignore')로 설정"
      ],
      "metadata": {
        "id": "GDY8j1rhmS7f"
      },
      "execution_count": null,
      "outputs": []
    },
    {
      "cell_type": "markdown",
      "source": [
        "**32.** 다음 표현식이 `True`인지 알아본다."
      ],
      "metadata": {
        "id": "TOF0BrbVnQaJ"
      }
    },
    {
      "cell_type": "markdown",
      "source": [
        "`np.emath.sqrt(-1)`은 `1j`로 표시되어 변수를 더 수학적으로 표현한다.  \n",
        "즉, `np.sqrt(-1)`과 같은 값이라고 볼 수 없다."
      ],
      "metadata": {
        "id": "0XwZgVwjmTGy"
      }
    },
    {
      "cell_type": "code",
      "source": [
        "np.sqrt(-1) == np.emath.sqrt(-1)"
      ],
      "metadata": {
        "colab": {
          "base_uri": "https://localhost:8080/"
        },
        "id": "4bgHdJk3meGT",
        "outputId": "886d11e6-7a13-4e73-afec-d37783dfe339"
      },
      "execution_count": null,
      "outputs": [
        {
          "output_type": "stream",
          "name": "stderr",
          "text": [
            "/usr/local/lib/python3.7/dist-packages/ipykernel_launcher.py:1: RuntimeWarning: invalid value encountered in sqrt\n",
            "  \"\"\"Entry point for launching an IPython kernel.\n"
          ]
        },
        {
          "output_type": "execute_result",
          "data": {
            "text/plain": [
              "False"
            ]
          },
          "metadata": {},
          "execution_count": 36
        }
      ]
    },
    {
      "cell_type": "code",
      "source": [
        "print(np.sqrt(-1))\n",
        "print(np.emath.sqrt(-1))"
      ],
      "metadata": {
        "colab": {
          "base_uri": "https://localhost:8080/"
        },
        "id": "Y-mX0bAlmZaF",
        "outputId": "c13eded2-f28c-4da1-f924-cf358e5ae0d0"
      },
      "execution_count": null,
      "outputs": [
        {
          "output_type": "stream",
          "name": "stdout",
          "text": [
            "nan\n",
            "1j\n"
          ]
        },
        {
          "output_type": "stream",
          "name": "stderr",
          "text": [
            "/usr/local/lib/python3.7/dist-packages/ipykernel_launcher.py:1: RuntimeWarning: invalid value encountered in sqrt\n",
            "  \"\"\"Entry point for launching an IPython kernel.\n"
          ]
        }
      ]
    },
    {
      "cell_type": "markdown",
      "source": [
        "**33.** <u>어제, 오늘, 내일의 날짜</u>를 알아본다."
      ],
      "metadata": {
        "id": "n6s-v0X3nTX4"
      }
    },
    {
      "cell_type": "code",
      "source": [
        "np.datetime64('today')                                                            # 오늘의 날짜를 numpy.datetime64를 이용하여 출력"
      ],
      "metadata": {
        "colab": {
          "base_uri": "https://localhost:8080/"
        },
        "id": "25-mAwLFm1Il",
        "outputId": "bd538574-067b-4453-8fe8-f89c56b195c3"
      },
      "execution_count": null,
      "outputs": [
        {
          "output_type": "execute_result",
          "data": {
            "text/plain": [
              "numpy.datetime64('2022-09-14')"
            ]
          },
          "metadata": {},
          "execution_count": 38
        }
      ]
    },
    {
      "cell_type": "code",
      "source": [
        "yesterday = np.datetime64('today') - np.timedelta64(1)                            # 오늘의 날짜에서 하루를 뺀 것으로 어제의 날짜 출력\n",
        "today     = np.datetime64('today')\n",
        "tomorrow  = np.datetime64('today') + np.timedelta64(1)                            # 오늘의 날짜에서 하루를 더한 것으로 내일의 날짜 출력"
      ],
      "metadata": {
        "id": "60rgL8XPnTEA"
      },
      "execution_count": null,
      "outputs": []
    },
    {
      "cell_type": "markdown",
      "source": [
        "**34.** `2016년 7월에 해당 되는 모든 날짜`를 알아본다."
      ],
      "metadata": {
        "id": "Mp7rL09SnwMS"
      }
    },
    {
      "cell_type": "code",
      "source": [
        "Z = np.arange('2016-07', '2016-08', dtype='datetime64[D]')                        # 2016년 7월과 2016년 8월 전까지의 날짜를 arange 함수로 datetime64[D]의 형식으로 출력\n",
        "print(Z)"
      ],
      "metadata": {
        "colab": {
          "base_uri": "https://localhost:8080/"
        },
        "id": "Qbafg52vngai",
        "outputId": "f19cedca-3dc4-437a-ea29-cdb3d64fb929"
      },
      "execution_count": null,
      "outputs": [
        {
          "output_type": "stream",
          "name": "stdout",
          "text": [
            "['2016-07-01' '2016-07-02' '2016-07-03' '2016-07-04' '2016-07-05'\n",
            " '2016-07-06' '2016-07-07' '2016-07-08' '2016-07-09' '2016-07-10'\n",
            " '2016-07-11' '2016-07-12' '2016-07-13' '2016-07-14' '2016-07-15'\n",
            " '2016-07-16' '2016-07-17' '2016-07-18' '2016-07-19' '2016-07-20'\n",
            " '2016-07-21' '2016-07-22' '2016-07-23' '2016-07-24' '2016-07-25'\n",
            " '2016-07-26' '2016-07-27' '2016-07-28' '2016-07-29' '2016-07-30'\n",
            " '2016-07-31']\n"
          ]
        }
      ]
    },
    {
      "cell_type": "markdown",
      "source": [
        "**35.** `(A+B)*(-A/2)`를 <u>복사본 없이 제자리에서 계산</u>해본다. "
      ],
      "metadata": {
        "id": "D1MFMNS7n7-s"
      }
    },
    {
      "cell_type": "code",
      "source": [
        "A = np.ones(3) * 1                                                                # 각 값이 1인 크기가 3인 어레이 A 생성\n",
        "B = np.ones(3) * 2                                                                # 각 값이 2인 크기가 3인 어레이 B 생성\n",
        "\n",
        "# add : 덧셈 / divice : 나눗셈 / negative : 부호 반대 / multiply : 곱셈 -> out : 결과를 어떤 어레이에 return할지 지정\n",
        "print(np.add(A, B, out=B))                                                                          \n",
        "print(np.divide(A, 2, out=A))\n",
        "print(np.negative(A, out=A))\n",
        "print(np.multiply(A, B, out=A))"
      ],
      "metadata": {
        "colab": {
          "base_uri": "https://localhost:8080/"
        },
        "id": "NFz0QgVIn6v5",
        "outputId": "8c6d55af-f006-44bc-c423-a94105b9dff1"
      },
      "execution_count": null,
      "outputs": [
        {
          "output_type": "stream",
          "name": "stdout",
          "text": [
            "[3. 3. 3.]\n",
            "[0.5 0.5 0.5]\n",
            "[-0.5 -0.5 -0.5]\n",
            "[-1.5 -1.5 -1.5]\n"
          ]
        }
      ]
    },
    {
      "cell_type": "markdown",
      "source": [
        "**36.** 4가지의 다른 방법을 사용하여 <u>양수 배열의 정수 부분을 추출</u>한다."
      ],
      "metadata": {
        "id": "g2SVOkfKosCC"
      }
    },
    {
      "cell_type": "code",
      "source": [
        "Z = np.random.uniform(0,10,10)                                                    # 최소값 0에서 최대값 10까지의 범위사이에서 균등하게 10개의 값으로 어레이를 생성\n",
        "\n",
        "print(Z)\n",
        "print(Z-Z%1)                                                                      # 나머지 연산자 %로, Z에서 Z를 1로 나눈 나머지를 빼는 것으로, 기존 Z의 정수부분 출력\n",
        "print(Z // 1)                                                                     # 몫을 출력하는 연산자 //로, Z의 1로 나눈 몫, 즉 기존 Z의 정수부분을 출력\n",
        "print(np.floor(Z))                                                                # 내림함수 floor를 사용하여, Z와 같은 정수 또는 주어진 숫자보다 작은 가장 가까운 정수를 출력하는 것으로, 기존 Z의 정수부분 출력\n",
        "print(Z.astype(int))                                                              # 타입을 변경하는 함수 astype을 사용하여 정수 타입으로 변경한 정수들의 Z 출력\n",
        "print(np.trunc(Z))                                                                # 소수점을 버리는 함수 trunc를 사용하여 정수부분의 Z 출력"
      ],
      "metadata": {
        "colab": {
          "base_uri": "https://localhost:8080/"
        },
        "id": "W1ly8naHoKqZ",
        "outputId": "d8984cbb-9f75-4604-9b9c-20ebafb8bab8"
      },
      "execution_count": null,
      "outputs": [
        {
          "output_type": "stream",
          "name": "stdout",
          "text": [
            "[8.50670769 9.5127241  5.84950677 7.39635062 0.94825989 8.96964394\n",
            " 2.07887782 4.86879572 8.95204558 0.09677481]\n",
            "[8. 9. 5. 7. 0. 8. 2. 4. 8. 0.]\n",
            "[8. 9. 5. 7. 0. 8. 2. 4. 8. 0.]\n",
            "[8. 9. 5. 7. 0. 8. 2. 4. 8. 0.]\n",
            "[8 9 5 7 0 8 2 4 8 0]\n",
            "[8. 9. 5. 7. 0. 8. 2. 4. 8. 0.]\n"
          ]
        }
      ]
    },
    {
      "cell_type": "markdown",
      "source": [
        "**37.** 행 값이 `0~4`인 5×5 크기의 매트릭스를 만든다."
      ],
      "metadata": {
        "id": "WFeMMS-Eo1PZ"
      }
    },
    {
      "cell_type": "code",
      "source": [
        "Z = np.zeros((5,5))                                                               # 5×5 크기의 0으로 구성된 Z 생성\n",
        "print(Z)\n",
        "\n",
        "print()\n",
        "\n",
        "Z += np.arange(5)                                                                 # [0,1,2,3,4]를 기존 Z의 각 행들에 더하기\n",
        "print(Z)"
      ],
      "metadata": {
        "colab": {
          "base_uri": "https://localhost:8080/"
        },
        "id": "0_FI_Idroz_f",
        "outputId": "7736589a-7d3f-4c46-a77a-07386c037e33"
      },
      "execution_count": null,
      "outputs": [
        {
          "output_type": "stream",
          "name": "stdout",
          "text": [
            "[[0. 0. 0. 0. 0.]\n",
            " [0. 0. 0. 0. 0.]\n",
            " [0. 0. 0. 0. 0.]\n",
            " [0. 0. 0. 0. 0.]\n",
            " [0. 0. 0. 0. 0.]]\n",
            "\n",
            "[[0. 1. 2. 3. 4.]\n",
            " [0. 1. 2. 3. 4.]\n",
            " [0. 1. 2. 3. 4.]\n",
            " [0. 1. 2. 3. 4.]\n",
            " [0. 1. 2. 3. 4.]]\n"
          ]
        }
      ]
    },
    {
      "cell_type": "markdown",
      "source": [
        "**38.** <u>10개의 정수를 생성하는 생성자 함수</u>를 고려하고 이 함수를 사용하여 `배열`을 만들 수 있다."
      ],
      "metadata": {
        "id": "nq6YGo9Ro5ug"
      }
    },
    {
      "cell_type": "code",
      "source": [
        "def generate():\n",
        "  for x in range(10):                                                             # 0~9의 범위 동안, 해당 x값 yield\n",
        "    yield x\n",
        "\n",
        "Z = np.fromiter(generate(), dtype=float, count=-1)                                # 반복 가능한 객체에서 새로운 1차원 배열을 생성\n",
        "print(Z)"
      ],
      "metadata": {
        "colab": {
          "base_uri": "https://localhost:8080/"
        },
        "id": "5vaXXxUMo5dZ",
        "outputId": "dd56a5e7-f583-43ee-e408-5209539c0ac2"
      },
      "execution_count": null,
      "outputs": [
        {
          "output_type": "stream",
          "name": "stdout",
          "text": [
            "[0. 1. 2. 3. 4. 5. 6. 7. 8. 9.]\n"
          ]
        }
      ]
    },
    {
      "cell_type": "markdown",
      "source": [
        "**39.** <u>0에서 1 사이의 값</u>으로 크기가 10인 벡터를 생성한다."
      ],
      "metadata": {
        "id": "gbZDvyENpC0W"
      }
    },
    {
      "cell_type": "code",
      "source": [
        "Z = np.linspace(0,1,11,endpoint=False)[1:]                                        # 0에서 1까지의 범위 중 11개의 숫자를 순서대로 채워주기\n",
        "print(Z)"
      ],
      "metadata": {
        "colab": {
          "base_uri": "https://localhost:8080/"
        },
        "id": "C4W94yhVpB79",
        "outputId": "f14da574-cff8-4ca4-c56e-22d4705bb80b"
      },
      "execution_count": null,
      "outputs": [
        {
          "output_type": "stream",
          "name": "stdout",
          "text": [
            "[0.09090909 0.18181818 0.27272727 0.36363636 0.45454545 0.54545455\n",
            " 0.63636364 0.72727273 0.81818182 0.90909091]\n"
          ]
        }
      ]
    },
    {
      "cell_type": "markdown",
      "source": [
        "**40.** 크기가 `10인 랜덤 벡터`를 만들어 정렬한다."
      ],
      "metadata": {
        "id": "9F8Vup96pD-d"
      }
    },
    {
      "cell_type": "code",
      "source": [
        "Z = np.random.random(10)                                                          # 10개의 무작위의 벡터 생성\n",
        "Z.sort()                                                                          # 정렬 \n",
        "print(Z)"
      ],
      "metadata": {
        "colab": {
          "base_uri": "https://localhost:8080/"
        },
        "id": "XH9DbHQKpNZX",
        "outputId": "7b5f2716-3c1e-408c-8e78-bab5cdd9a99e"
      },
      "execution_count": null,
      "outputs": [
        {
          "output_type": "stream",
          "name": "stdout",
          "text": [
            "[0.01353066 0.06941214 0.08253667 0.1157874  0.12400014 0.28991848\n",
            " 0.48374336 0.55956604 0.61073409 0.87388663]\n"
          ]
        }
      ]
    },
    {
      "cell_type": "markdown",
      "source": [
        "**41.** 작은 배열을 `np.sum`보다 <u>더 빨리 합칠 수 있는 방법</u>을 알아본다."
      ],
      "metadata": {
        "id": "t5c6tzNEpRRd"
      }
    },
    {
      "cell_type": "code",
      "source": [
        "Z = np.arange(10)\n",
        "print(Z)\n",
        "np.add.reduce(Z)                                                                  # 1차원 배열에 적용하여 요소의 값을 합산한 스칼라 값 출력"
      ],
      "metadata": {
        "colab": {
          "base_uri": "https://localhost:8080/"
        },
        "id": "qfMIAKkupQo7",
        "outputId": "8f181984-185a-461f-84c1-07a3fe0394cf"
      },
      "execution_count": null,
      "outputs": [
        {
          "output_type": "stream",
          "name": "stdout",
          "text": [
            "[0 1 2 3 4 5 6 7 8 9]\n"
          ]
        },
        {
          "output_type": "execute_result",
          "data": {
            "text/plain": [
              "45"
            ]
          },
          "metadata": {},
          "execution_count": 47
        }
      ]
    },
    {
      "cell_type": "markdown",
      "source": [
        "**42.** `두 랜덤 배열` A와 B를 생각해보고, <u>그것들이 같은지 확인</u>한다."
      ],
      "metadata": {
        "id": "PuCTbGVJpUqZ"
      }
    },
    {
      "cell_type": "code",
      "source": [
        "A = np.random.randint(0,2,5)\n",
        "B = np.random.randint(0,2,5)\n",
        "\n",
        "print(f\"A : {A}, B : {B}\")\n",
        "\n",
        "equal = np.allclose(A,B)                                                          # 두 배열이 요소별로 동일한지 비교\n",
        "print(equal)\n",
        "\n",
        "equal = np.array_equal(A,B)                                                       # 각 원소의 일치 여부를 확인 \n",
        "print(equal)"
      ],
      "metadata": {
        "colab": {
          "base_uri": "https://localhost:8080/"
        },
        "id": "Si6GA5V1pUOg",
        "outputId": "5929d4c3-c493-4213-9927-47e10d459f4c"
      },
      "execution_count": null,
      "outputs": [
        {
          "output_type": "stream",
          "name": "stdout",
          "text": [
            "A : [0 1 1 0 0], B : [0 0 0 0 0]\n",
            "False\n",
            "False\n"
          ]
        }
      ]
    },
    {
      "cell_type": "markdown",
      "source": [
        "**43.** 배열을 <u>변경할 수 없도록 설정</u>하는 것으로 즉, `읽기 전용`으로 설정한다."
      ],
      "metadata": {
        "id": "Zq4GgznVpeW7"
      }
    },
    {
      "cell_type": "code",
      "source": [
        "Z = np.zeros(10)\n",
        "Z.flags.writeable = False                                                         # 배열의 속성에 대한 쓸 수 있는 정보 값을 False로 설정하여 수정할 수 없도록 설정\n",
        "Z[0] = 1                                                                          # 읽기 전용으로 설정했으므로, 오류 출력"
      ],
      "metadata": {
        "colab": {
          "base_uri": "https://localhost:8080/",
          "height": 209
        },
        "id": "BMZlCn-BpdiV",
        "outputId": "770587b0-b52a-4190-d495-75ad255517a7"
      },
      "execution_count": null,
      "outputs": [
        {
          "output_type": "error",
          "ename": "ValueError",
          "evalue": "ignored",
          "traceback": [
            "\u001b[0;31m---------------------------------------------------------------------------\u001b[0m",
            "\u001b[0;31mValueError\u001b[0m                                Traceback (most recent call last)",
            "\u001b[0;32m<ipython-input-49-3a92dca9ff99>\u001b[0m in \u001b[0;36m<module>\u001b[0;34m\u001b[0m\n\u001b[1;32m      1\u001b[0m \u001b[0mZ\u001b[0m \u001b[0;34m=\u001b[0m \u001b[0mnp\u001b[0m\u001b[0;34m.\u001b[0m\u001b[0mzeros\u001b[0m\u001b[0;34m(\u001b[0m\u001b[0;36m10\u001b[0m\u001b[0;34m)\u001b[0m\u001b[0;34m\u001b[0m\u001b[0;34m\u001b[0m\u001b[0m\n\u001b[1;32m      2\u001b[0m \u001b[0mZ\u001b[0m\u001b[0;34m.\u001b[0m\u001b[0mflags\u001b[0m\u001b[0;34m.\u001b[0m\u001b[0mwriteable\u001b[0m \u001b[0;34m=\u001b[0m \u001b[0;32mFalse\u001b[0m                                                         \u001b[0;31m# 배열의 속성에 대한 쓸 수 있는 정보 값을 False로 설정하여 수정할 수 없도록 설정\u001b[0m\u001b[0;34m\u001b[0m\u001b[0;34m\u001b[0m\u001b[0m\n\u001b[0;32m----> 3\u001b[0;31m \u001b[0mZ\u001b[0m\u001b[0;34m[\u001b[0m\u001b[0;36m0\u001b[0m\u001b[0;34m]\u001b[0m \u001b[0;34m=\u001b[0m \u001b[0;36m1\u001b[0m                                                                          \u001b[0;31m# 읽기 전용으로 설정했으므로, 오류 출력\u001b[0m\u001b[0;34m\u001b[0m\u001b[0;34m\u001b[0m\u001b[0m\n\u001b[0m",
            "\u001b[0;31mValueError\u001b[0m: assignment destination is read-only"
          ]
        }
      ]
    },
    {
      "cell_type": "markdown",
      "source": [
        "**44.** `데카르트 좌표`를 나타내는 임의의 10×2 행렬을 고려하여 <u>극좌표로 변환</u>한다."
      ],
      "metadata": {
        "id": "Y5293IJOpi70"
      }
    },
    {
      "cell_type": "markdown",
      "source": [
        "```\n",
        "'데카르트 좌표'란, 임의의 차원의 유클리드 공간(혹은 좀 더 일반적으로 내적 공간)을 나타내는 좌표계 중 하나이다.\n",
        "\n",
        "'데카르트 좌표계'는 나타내는 대상이 평행 이동에 대한 대칭을 가질 때 유용하나, 회전 대칭 등 다른 꼴의 대칭은 쉽게 나타내지 못한다.   \n",
        "일반적으로 주어진 유클리드 공간에 기저와 원점이 주어지면 이를 이용하여 '데카르트 좌표계'를 정의할 수 있다.\n",
        "\n",
        "이로써 점과 수식을 같은 차원에서 살펴보는게 가능해졌고, 기하와 대수가 통합되는 계기가 마련되었으며, 이를 통해 함수의 개념이 표현되기 시작했다.\n",
        "```\n",
        "\n",
        "```\n",
        "극좌표계는 평면 위의 위치를 각도와 거리를 써서 나타내는 2차원 좌표계이다. 극좌표계는 두 점 사이의 관계가 각이나 거리로 쉽게 표현되는 경우에 가장 유용하다.\n",
        "```\n",
        "\n",
        "![극좌표.JPG](data:image/jpeg;base64,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)\n",
        "(https://ko.wikipedia.org/wiki/%EA%B7%B9%EC%A2%8C%ED%91%9C%EA%B3%84)"
      ],
      "metadata": {
        "id": "8ifyBqheo_9F"
      }
    },
    {
      "cell_type": "markdown",
      "source": [
        "`np.arctan2(x1,x2)`\n",
        "- $ x1/x2 $의 아크탄젠트 계산\n",
        "- 범위가 [$-pi$, $pi$]\n"
      ],
      "metadata": {
        "id": "YPcO8GmyclO4"
      }
    },
    {
      "cell_type": "code",
      "source": [
        "Z = np.random.random((10,2))\n",
        "X, Y = Z[:,0], Z[:,1]\n",
        "R = np.sqrt(X**2+Y**2)                                                            # 제곱근 \n",
        "T = np.arctan2(Y,X)                                                               # 아크탄젠트\n",
        "print(R)\n",
        "print(T)"
      ],
      "metadata": {
        "colab": {
          "base_uri": "https://localhost:8080/"
        },
        "id": "LKKiR2fgpisO",
        "outputId": "2e79cb0a-2d22-43aa-b9dc-2d15670d2e4c"
      },
      "execution_count": null,
      "outputs": [
        {
          "output_type": "stream",
          "name": "stdout",
          "text": [
            "[0.7972188  0.25546479 0.38706182 0.62527623 1.06819998 0.85679823\n",
            " 0.25219298 0.48400208 0.47049672 0.9077451 ]\n",
            "[0.22902709 1.50538827 0.93517913 0.31614463 1.21119085 0.43252214\n",
            " 1.17003782 1.25136888 0.62346233 0.22036039]\n"
          ]
        }
      ]
    },
    {
      "cell_type": "markdown",
      "source": [
        "**45.** 크기가 `10`인 랜덤 벡터를 생성하고 <u>최대값을 찾아 0으로 바꾼다</u>."
      ],
      "metadata": {
        "id": "hbJF6DQLpu1y"
      }
    },
    {
      "cell_type": "code",
      "source": [
        "Z = np.random.random(10)                                                          # 랜덤 벡터 생성\n",
        "print(f\"Z : {Z}, MAX : {Z[Z.argmax()]}, MAX_INDEX : {Z.argmax()}\")\n",
        "Z[Z.argmax()] = 0                                                                 # 최대값을 0으로 바꾸기\n",
        "print(Z)"
      ],
      "metadata": {
        "colab": {
          "base_uri": "https://localhost:8080/"
        },
        "id": "a250iONvpunb",
        "outputId": "3c943c55-76d5-41bd-cd5d-fc8eb9efc2df"
      },
      "execution_count": null,
      "outputs": [
        {
          "output_type": "stream",
          "name": "stdout",
          "text": [
            "Z : [0.17154894 0.06707608 0.72705664 0.31226273 0.22143571 0.66304912\n",
            " 0.7359933  0.86191624 0.03813981 0.20608915], MAX : 0.8619162415478203, MAX_INDEX : 7\n",
            "[0.17154894 0.06707608 0.72705664 0.31226273 0.22143571 0.66304912\n",
            " 0.7359933  0.         0.03813981 0.20608915]\n"
          ]
        }
      ]
    },
    {
      "cell_type": "markdown",
      "source": [
        "**46.** `[0,1]`×`[0,1]` 영역을 커버하는 x, y 좌표를 갖는 <u>구조화된 배열을 생성</u>한다."
      ],
      "metadata": {
        "id": "LCsnPh83pzKx"
      }
    },
    {
      "cell_type": "code",
      "source": [
        "Z = np.zeros((5,5), [('x',float),('y',float)])\n",
        "Z['x'], Z['y'] = np.meshgrid(np.linspace(0,1,5), np.linspace(0,1,5))              # np.meshgird : 격자 그리드 만들기 / np.linspace : 0부터 1까지의 범위 값으로 5개 숫자 채우기 -> Z의 x, y좌표를 갖는 격자 그리드 생성\n",
        "print(Z)"
      ],
      "metadata": {
        "colab": {
          "base_uri": "https://localhost:8080/"
        },
        "id": "r95oTNqRpy6S",
        "outputId": "6c60c0d2-2117-4bf3-863f-9d1a55ba3cd4"
      },
      "execution_count": null,
      "outputs": [
        {
          "output_type": "stream",
          "name": "stdout",
          "text": [
            "[[(0.  , 0.  ) (0.25, 0.  ) (0.5 , 0.  ) (0.75, 0.  ) (1.  , 0.  )]\n",
            " [(0.  , 0.25) (0.25, 0.25) (0.5 , 0.25) (0.75, 0.25) (1.  , 0.25)]\n",
            " [(0.  , 0.5 ) (0.25, 0.5 ) (0.5 , 0.5 ) (0.75, 0.5 ) (1.  , 0.5 )]\n",
            " [(0.  , 0.75) (0.25, 0.75) (0.5 , 0.75) (0.75, 0.75) (1.  , 0.75)]\n",
            " [(0.  , 1.  ) (0.25, 1.  ) (0.5 , 1.  ) (0.75, 1.  ) (1.  , 1.  )]]\n"
          ]
        }
      ]
    },
    {
      "cell_type": "markdown",
      "source": [
        "**47.** X, Y 두 배열이 주어지면, `Cauchy matrix`를 만든다."
      ],
      "metadata": {
        "id": "TQPNE4xyqAo0"
      }
    },
    {
      "cell_type": "markdown",
      "source": [
        "- `np.subtract(A, B)` \n",
        "  -  A-B\n",
        "- `np.subtract.outer(A,B)`   \n",
        "  -  \n",
        "      [[A1-B1  A1-B2  A1-B3]  \n",
        "      [A2-B1   A2-B2  A2-B3]  \n",
        "      [A3-B1  A3-B2   A3-B3]]\n",
        "- `np.linalg.det()`\n",
        "  - `linalg` = linearAlgebra(선형대수)를 의미 \n",
        "  - `np.det()` = 행열의 determinant of an array(행렬식)를 계산"
      ],
      "metadata": {
        "id": "20cUNtH8wTg4"
      }
    },
    {
      "cell_type": "code",
      "source": [
        "X = np.arange(8)\n",
        "Y = X + 0.5\n",
        "print(f\"X : {X}, Y : {Y}\")\n",
        "\n",
        "print(np.subtract.outer(X, Y))                                                    \n",
        "C = 1.0 / np.subtract.outer(X, Y)\n",
        "print(np.linalg.det(C))"
      ],
      "metadata": {
        "colab": {
          "base_uri": "https://localhost:8080/"
        },
        "id": "lIR9GsS2qAI0",
        "outputId": "34da5883-6276-4e9f-9b84-b57fc63c9f07"
      },
      "execution_count": null,
      "outputs": [
        {
          "output_type": "stream",
          "name": "stdout",
          "text": [
            "X : [0 1 2 3 4 5 6 7], Y : [0.5 1.5 2.5 3.5 4.5 5.5 6.5 7.5]\n",
            "[[-0.5 -1.5 -2.5 -3.5 -4.5 -5.5 -6.5 -7.5]\n",
            " [ 0.5 -0.5 -1.5 -2.5 -3.5 -4.5 -5.5 -6.5]\n",
            " [ 1.5  0.5 -0.5 -1.5 -2.5 -3.5 -4.5 -5.5]\n",
            " [ 2.5  1.5  0.5 -0.5 -1.5 -2.5 -3.5 -4.5]\n",
            " [ 3.5  2.5  1.5  0.5 -0.5 -1.5 -2.5 -3.5]\n",
            " [ 4.5  3.5  2.5  1.5  0.5 -0.5 -1.5 -2.5]\n",
            " [ 5.5  4.5  3.5  2.5  1.5  0.5 -0.5 -1.5]\n",
            " [ 6.5  5.5  4.5  3.5  2.5  1.5  0.5 -0.5]]\n",
            "3638.163637117973\n"
          ]
        }
      ]
    },
    {
      "cell_type": "markdown",
      "source": [
        "**48.** 각 데이터 타입 별 <u>표시할 수 있는 최소 및 최대 값을 출력</u>한다."
      ],
      "metadata": {
        "id": "l9NtSl9BqICi"
      }
    },
    {
      "cell_type": "markdown",
      "source": [
        "> 각 타입별(*np.int8, np.int32, np.int64, np.float32, np.float64*)의 dtype로   \n",
        " 해당 타입의 `np.info` 함수를 사용하여 그 정보를 출력할 수 있다."
      ],
      "metadata": {
        "id": "7kGPRRfwxcqD"
      }
    },
    {
      "cell_type": "code",
      "source": [
        "for dtype in [np.int8, np.int32, np.int64] :                                      # 각 타입별 dtype의 최소값, 최대값\n",
        "    print(np.iinfo(dtype).min)\n",
        "    print(np.iinfo(dtype).max)\n",
        "  \n",
        "for dtype in [np.float32, np.float64] :                                           # 각 타입별 dtype의 최소값, 최대값, 유클리디언 거리값\n",
        "    print(np.finfo(dtype).min)\n",
        "    print(np.finfo(dtype).max)\n",
        "    print(np.finfo(dtype).eps)"
      ],
      "metadata": {
        "colab": {
          "base_uri": "https://localhost:8080/"
        },
        "id": "MStJYQNzqH0G",
        "outputId": "c123b177-8d46-41c6-fe5b-841e8546490d"
      },
      "execution_count": null,
      "outputs": [
        {
          "output_type": "stream",
          "name": "stdout",
          "text": [
            "-128\n",
            "127\n",
            "-2147483648\n",
            "2147483647\n",
            "-9223372036854775808\n",
            "9223372036854775807\n",
            "-3.4028235e+38\n",
            "3.4028235e+38\n",
            "1.1920929e-07\n",
            "-1.7976931348623157e+308\n",
            "1.7976931348623157e+308\n",
            "2.220446049250313e-16\n"
          ]
        }
      ]
    },
    {
      "cell_type": "markdown",
      "source": [
        "**49.** <u>배열의 모든 값을 인쇄하는 방법</u>을 알아본다."
      ],
      "metadata": {
        "id": "7k31_N8NqZxR"
      }
    },
    {
      "cell_type": "code",
      "source": [
        "np.set_printoptions(threshold=float(\"inf\"))                                       # 인쇄 옵션 설정(부동 소수점 숫자, 배열 및 기타 Numpy객체가 표시되는 방식을 결정) -> 중간의 자료를 `...`로 대체하는 것이 아닌 전체 자료를 다 보도록 설정\n",
        "Z = np.zeros((16,16))\n",
        "print(Z)"
      ],
      "metadata": {
        "colab": {
          "base_uri": "https://localhost:8080/"
        },
        "id": "io18ySrPqY1r",
        "outputId": "ed543d6a-e6b9-402b-dc66-1c5bdc2abb6f"
      },
      "execution_count": null,
      "outputs": [
        {
          "output_type": "stream",
          "name": "stdout",
          "text": [
            "[[0. 0. 0. 0. 0. 0. 0. 0. 0. 0. 0. 0. 0. 0. 0. 0.]\n",
            " [0. 0. 0. 0. 0. 0. 0. 0. 0. 0. 0. 0. 0. 0. 0. 0.]\n",
            " [0. 0. 0. 0. 0. 0. 0. 0. 0. 0. 0. 0. 0. 0. 0. 0.]\n",
            " [0. 0. 0. 0. 0. 0. 0. 0. 0. 0. 0. 0. 0. 0. 0. 0.]\n",
            " [0. 0. 0. 0. 0. 0. 0. 0. 0. 0. 0. 0. 0. 0. 0. 0.]\n",
            " [0. 0. 0. 0. 0. 0. 0. 0. 0. 0. 0. 0. 0. 0. 0. 0.]\n",
            " [0. 0. 0. 0. 0. 0. 0. 0. 0. 0. 0. 0. 0. 0. 0. 0.]\n",
            " [0. 0. 0. 0. 0. 0. 0. 0. 0. 0. 0. 0. 0. 0. 0. 0.]\n",
            " [0. 0. 0. 0. 0. 0. 0. 0. 0. 0. 0. 0. 0. 0. 0. 0.]\n",
            " [0. 0. 0. 0. 0. 0. 0. 0. 0. 0. 0. 0. 0. 0. 0. 0.]\n",
            " [0. 0. 0. 0. 0. 0. 0. 0. 0. 0. 0. 0. 0. 0. 0. 0.]\n",
            " [0. 0. 0. 0. 0. 0. 0. 0. 0. 0. 0. 0. 0. 0. 0. 0.]\n",
            " [0. 0. 0. 0. 0. 0. 0. 0. 0. 0. 0. 0. 0. 0. 0. 0.]\n",
            " [0. 0. 0. 0. 0. 0. 0. 0. 0. 0. 0. 0. 0. 0. 0. 0.]\n",
            " [0. 0. 0. 0. 0. 0. 0. 0. 0. 0. 0. 0. 0. 0. 0. 0.]\n",
            " [0. 0. 0. 0. 0. 0. 0. 0. 0. 0. 0. 0. 0. 0. 0. 0.]]\n"
          ]
        }
      ]
    },
    {
      "cell_type": "markdown",
      "source": [
        "**50.** <u>벡터에서 주어진 값에 가장 가까운 값을 찾는 방법</u>을 알아본다."
      ],
      "metadata": {
        "id": "VwjwADshqe3U"
      }
    },
    {
      "cell_type": "code",
      "source": [
        "Z = np.arange(100)\n",
        "print(f\"Z : {Z}\")\n",
        "v = np.random.uniform(0,100)                                                      # 주어진 값\n",
        "print(f\"주어진 값 : {v} \")\n",
        "index = np.abs((Z-v)).argmin()                                                    # np.argmin() : 최소값에 해당하는 인덱스\n",
        "print(f\"값 : {Z[index]}\")"
      ],
      "metadata": {
        "colab": {
          "base_uri": "https://localhost:8080/"
        },
        "id": "MWstWxf1SSpR",
        "outputId": "914aa0fc-8e08-417f-c87c-3a263cf8bad2"
      },
      "execution_count": null,
      "outputs": [
        {
          "output_type": "stream",
          "name": "stdout",
          "text": [
            "Z : [ 0  1  2  3  4  5  6  7  8  9 10 11 12 13 14 15 16 17 18 19 20 21 22 23\n",
            " 24 25 26 27 28 29 30 31 32 33 34 35 36 37 38 39 40 41 42 43 44 45 46 47\n",
            " 48 49 50 51 52 53 54 55 56 57 58 59 60 61 62 63 64 65 66 67 68 69 70 71\n",
            " 72 73 74 75 76 77 78 79 80 81 82 83 84 85 86 87 88 89 90 91 92 93 94 95\n",
            " 96 97 98 99]\n",
            "주어진 값 : 77.05255193044852 \n",
            "값 : 77\n"
          ]
        }
      ]
    },
    {
      "cell_type": "markdown",
      "source": [
        "**51.** `위치(x,y)`와 `색상(r,g,b)`을 나타내는 <u>구조화된 배열을 작성</u>한다."
      ],
      "metadata": {
        "id": "cean5-3xrX_o"
      }
    },
    {
      "cell_type": "code",
      "source": [
        "# np.zeros()를 통해 빈 배열 생성  -> 구조화된 배열 작성\n",
        "Z = np.zeros(10, [('position', [('x',float,1),\n",
        "                                ('y',float,1)]),\n",
        "                  ('color', [('r', float,1),\n",
        "                            ('g',float,1),\n",
        "                            ('b',float,1)])])\n",
        "print(Z)"
      ],
      "metadata": {
        "colab": {
          "base_uri": "https://localhost:8080/"
        },
        "id": "TCL8-LGRqmPE",
        "outputId": "0939c69b-2762-4caa-bc5a-ce2e19fa791f"
      },
      "execution_count": null,
      "outputs": [
        {
          "output_type": "stream",
          "name": "stdout",
          "text": [
            "[((0., 0.), (0., 0., 0.)) ((0., 0.), (0., 0., 0.))\n",
            " ((0., 0.), (0., 0., 0.)) ((0., 0.), (0., 0., 0.))\n",
            " ((0., 0.), (0., 0., 0.)) ((0., 0.), (0., 0., 0.))\n",
            " ((0., 0.), (0., 0., 0.)) ((0., 0.), (0., 0., 0.))\n",
            " ((0., 0.), (0., 0., 0.)) ((0., 0.), (0., 0., 0.))]\n"
          ]
        },
        {
          "output_type": "stream",
          "name": "stderr",
          "text": [
            "/usr/local/lib/python3.7/dist-packages/ipykernel_launcher.py:6: FutureWarning: Passing (type, 1) or '1type' as a synonym of type is deprecated; in a future version of numpy, it will be understood as (type, (1,)) / '(1,)type'.\n",
            "  \n"
          ]
        }
      ]
    },
    {
      "cell_type": "markdown",
      "source": [
        "**52.** 좌표를 나타내는 형태`(100,2)`를 갖는 랜덤 벡터를 고려하여, <u>점 거리를 기준으로 점을 찾는다</u>."
      ],
      "metadata": {
        "id": "RIoa2Dz8rw9I"
      }
    },
    {
      "cell_type": "code",
      "source": [
        "Z = np.random.random((10,2))\n",
        "X, Y = np.atleast_2d(Z[:,0], Z[:,1])                                              # np.atleat_2d() : 입력배열을 2차원으로 받아들이기\n",
        "D = np.sqrt((X-X.T)**2 +(Y-Y.T)**2)                                               # 각 점 원소를 기준으로 거리 계산 \n",
        "print(D)\n",
        "\n",
        "print() \n",
        "\n",
        "import scipy\n",
        "import scipy.spatial\n",
        "\n",
        "Z = np.random.random((10,2))\n",
        "D = scipy.spatial.distance.cdist(Z,Z)                                             # SciPy 모듈을 사용해서 각 원소 간 짝을 이루어서 유클리디언 거리를 계산\n",
        "print(D)"
      ],
      "metadata": {
        "colab": {
          "base_uri": "https://localhost:8080/"
        },
        "id": "XxaNuoLxrQBn",
        "outputId": "ab0429ca-22e4-4d86-ca36-e77dc366470a"
      },
      "execution_count": null,
      "outputs": [
        {
          "output_type": "stream",
          "name": "stdout",
          "text": [
            "[[0.         0.84424734 0.57580735 0.71521702 0.52118004 0.42856435\n",
            "  0.4303874  0.88474184 0.6769619  0.61560678]\n",
            " [0.84424734 0.         0.88668131 0.90529896 0.6739548  0.938409\n",
            "  1.21685398 0.07097158 0.88288166 0.23233069]\n",
            " [0.57580735 0.88668131 0.         0.14707844 0.98440384 0.99402092\n",
            "  0.58034601 0.95428673 0.11306797 0.74947796]\n",
            " [0.71521702 0.90529896 0.14707844 0.         1.09236633 1.12612509\n",
            "  0.7181024  0.9754488  0.0386462  0.80207256]\n",
            " [0.52118004 0.6739548  0.98440384 1.09236633 0.         0.30488053\n",
            "  0.94208447 0.67115673 1.05518466 0.48513704]\n",
            " [0.42856435 0.938409   0.99402092 1.12612509 0.30488053 0.\n",
            "  0.77182348 0.94805309 1.08747904 0.72177734]\n",
            " [0.4303874  1.21685398 0.58034601 0.7181024  0.94208447 0.77182348\n",
            "  0.         1.26806098 0.69028558 1.00326499]\n",
            " [0.88474184 0.07097158 0.95428673 0.9754488  0.67115673 0.94805309\n",
            "  1.26806098 0.         0.9526281  0.26924103]\n",
            " [0.6769619  0.88288166 0.11306797 0.0386462  1.05518466 1.08747904\n",
            "  0.69028558 0.9526281  0.         0.77264886]\n",
            " [0.61560678 0.23233069 0.74947796 0.80207256 0.48513704 0.72177734\n",
            "  1.00326499 0.26924103 0.77264886 0.        ]]\n",
            "\n",
            "[[0.         0.45681716 0.47426021 0.50798341 0.94555086 0.59940024\n",
            "  0.72723561 0.64891971 0.686158   0.47104921]\n",
            " [0.45681716 0.         0.49874275 0.13839375 0.53315015 0.70044019\n",
            "  0.82558444 0.19640092 0.56065803 0.05587562]\n",
            " [0.47426021 0.49874275 0.         0.63246498 0.7049747  0.20222458\n",
            "  0.32764826 0.58515619 0.23565692 0.55179074]\n",
            " [0.50798341 0.13839375 0.63246498 0.         0.5963686  0.83298771\n",
            "  0.96003552 0.24129486 0.6979776  0.08260251]\n",
            " [0.94555086 0.53315015 0.7049747  0.5963686  0.         0.86180724\n",
            "  0.93532618 0.35538542 0.55801396 0.55750685]\n",
            " [0.59940024 0.70044019 0.20222458 0.83298771 0.86180724 0.\n",
            "  0.13332971 0.78297724 0.31702909 0.75296685]\n",
            " [0.72723561 0.82558444 0.32764826 0.96003552 0.93532618 0.13332971\n",
            "  0.         0.89451426 0.3773446  0.87910655]\n",
            " [0.64891971 0.19640092 0.58515619 0.24129486 0.35538542 0.78297724\n",
            "  0.89451426 0.         0.56600789 0.2069476 ]\n",
            " [0.686158   0.56065803 0.23565692 0.6979776  0.55801396 0.31702909\n",
            "  0.3773446  0.56600789 0.         0.61629607]\n",
            " [0.47104921 0.05587562 0.55179074 0.08260251 0.55750685 0.75296685\n",
            "  0.87910655 0.2069476  0.61629607 0.        ]]\n"
          ]
        }
      ]
    },
    {
      "cell_type": "markdown",
      "source": [
        "**53.** `float(32 비트)` 배열을 `integer(32 비트)` 배열로 변환하는 방법을 알아본다."
      ],
      "metadata": {
        "id": "1QZT7SEWsZ2V"
      }
    },
    {
      "cell_type": "code",
      "source": [
        "Z = (np.random.rand(10)*100).astype(np.float32)                                   # astype : 타입 변환 지정 \n",
        "Y = Z.view(np.int32)                                                              # view : 복사하면서 type 변환 가능 \n",
        "Y[:]=Z\n",
        "print(Y)"
      ],
      "metadata": {
        "colab": {
          "base_uri": "https://localhost:8080/"
        },
        "id": "0CL8Vb4NsPQ3",
        "outputId": "de7d5c92-8475-4d97-9201-b6240c1cb251"
      },
      "execution_count": null,
      "outputs": [
        {
          "output_type": "stream",
          "name": "stdout",
          "text": [
            "[68 79 39 31 22 62 63 90 90 10]\n"
          ]
        }
      ]
    },
    {
      "cell_type": "markdown",
      "source": [
        "**54.** 다음 파일(*텍스트파일*)을 읽는 방법을 알아본다."
      ],
      "metadata": {
        "id": "0WK1dEdts69M"
      }
    },
    {
      "cell_type": "markdown",
      "source": [
        "```\n",
        "1, 2, 3, 4, 5\n",
        "6,  ,  , 7, 8\n",
        " ,  , 9, 10, 11\n",
        " ```"
      ],
      "metadata": {
        "id": "23psqwrEsd-3"
      }
    },
    {
      "cell_type": "markdown",
      "source": [
        "- `np.getfromtxt()`\n",
        "  - `np.getfromtxt(파일이름, delimiter=\"구분점\", dtype=\"데이터타입\")`\n",
        "  - 텍스트파일에서 데이터 로드하고 결측값을 지정값으로 바꿔주는 메소드"
      ],
      "metadata": {
        "id": "FGkBLe8t0qnd"
      }
    },
    {
      "cell_type": "code",
      "source": [
        "from io import StringIO\n",
        "\n",
        "s = StringIO('''1, 2, 3, 4, 5\n",
        "                6,  ,  , 7, 8\n",
        "                 ,  , 9, 10, 11\n",
        "                 ''')\n",
        "\n",
        "Z= np.genfromtxt(s, delimiter=\",\", dtype=np.int)                                  # \",\"로 구분하면서 정수값으로 해당 문자열의 데이터를 로드하기\n",
        "print(Z)"
      ],
      "metadata": {
        "colab": {
          "base_uri": "https://localhost:8080/"
        },
        "id": "w6YR1neIsZek",
        "outputId": "3794da8f-1fad-45e3-c4cc-f834c89e3fa5"
      },
      "execution_count": null,
      "outputs": [
        {
          "output_type": "stream",
          "name": "stdout",
          "text": [
            "[[ 1  2  3  4  5]\n",
            " [ 6 -1 -1  7  8]\n",
            " [-1 -1  9 10 11]]\n"
          ]
        },
        {
          "output_type": "stream",
          "name": "stderr",
          "text": [
            "/usr/local/lib/python3.7/dist-packages/ipykernel_launcher.py:8: DeprecationWarning: `np.int` is a deprecated alias for the builtin `int`. To silence this warning, use `int` by itself. Doing this will not modify any behavior and is safe. When replacing `np.int`, you may wish to use e.g. `np.int64` or `np.int32` to specify the precision. If you wish to review your current use, check the release note link for additional information.\n",
            "Deprecated in NumPy 1.20; for more details and guidance: https://numpy.org/devdocs/release/1.20.0-notes.html#deprecations\n",
            "  \n"
          ]
        }
      ]
    },
    {
      "cell_type": "markdown",
      "source": [
        "**55.** 어레이에 대한 <u>인덱스, 요소</u>를 구한다."
      ],
      "metadata": {
        "id": "LjJXUxMDtEqf"
      }
    },
    {
      "cell_type": "markdown",
      "source": [
        "> 다차원 배열에서 각 원소에 대한 인덱스를 리턴한다.\n",
        "\n",
        "```\n",
        "- np.ndenumerate \n",
        "  : 다차원 인덱스 반복기로, 배열 좌표 및 값 쌍을 생성하는 반복기를 반환한다.\n",
        "- np.nindex\n",
        "  : 인덱스 배열에 대한 N차원 반복 개체로, 배열 모양을 지정하면 인스턴스가 반복된다.\n",
        "```"
      ],
      "metadata": {
        "id": "6udtnSC8aF9b"
      }
    },
    {
      "cell_type": "code",
      "source": [
        "Z = np.arange(9).reshape(3,3)\n",
        "print(Z)\n",
        "print()\n",
        "for index, value in np.ndenumerate(Z) :\n",
        "    print(index, value)\n",
        "\n",
        "print()\n",
        "\n",
        "for index in np.ndindex(Z.shape) :\n",
        "    print(index, Z[index])"
      ],
      "metadata": {
        "colab": {
          "base_uri": "https://localhost:8080/"
        },
        "id": "FPuYTzjps4tk",
        "outputId": "c2dca42b-3e96-46ac-d662-2b23e02de99d"
      },
      "execution_count": null,
      "outputs": [
        {
          "output_type": "stream",
          "name": "stdout",
          "text": [
            "[[0 1 2]\n",
            " [3 4 5]\n",
            " [6 7 8]]\n",
            "\n",
            "(0, 0) 0\n",
            "(0, 1) 1\n",
            "(0, 2) 2\n",
            "(1, 0) 3\n",
            "(1, 1) 4\n",
            "(1, 2) 5\n",
            "(2, 0) 6\n",
            "(2, 1) 7\n",
            "(2, 2) 8\n",
            "\n",
            "(0, 0) 0\n",
            "(0, 1) 1\n",
            "(0, 2) 2\n",
            "(1, 0) 3\n",
            "(1, 1) 4\n",
            "(1, 2) 5\n",
            "(2, 0) 6\n",
            "(2, 1) 7\n",
            "(2, 2) 8\n"
          ]
        }
      ]
    },
    {
      "cell_type": "markdown",
      "source": [
        "**56.** `2차원 가우스 배열`을 만든다."
      ],
      "metadata": {
        "id": "_ZCfoCJ2tT0-"
      }
    },
    {
      "cell_type": "markdown",
      "source": [
        "- 가우시안 정규 분포의 개념\n",
        "- `np.meshgrid(xi, copy=True, sparse=False, indexing=\"xyb\")`\n",
        "  - 직사각형의 그리드 생성 \n",
        "  - `xi` : 그리드에 나타낼 1차원 배열 벡터\n",
        "  - `copy` : 디폴트는 True이고, False가 되면 메모리 절약을 위해 기존 배열로 반환\n",
        "  - `sparse` : 디폴트는 False이고, True로 하면 메모리 절약을 위해 희소 그리드를 반환\n",
        "  - `indexing` : {'xy',ij}. 카테시안 일반좌표 표시를 원하면 \"xy\", 행렬 인덱스는 \"ij\"\n",
        "- `np.linspace(a, b, c)` \n",
        "  - a부터 b까지의 범위에서 c개의 수를 순서대로 채우는 함수\n",
        "- `np.exp()`\n",
        "  - 밑이 자연상수 e인 지수함수($ e^x $)로 변환\n"
      ],
      "metadata": {
        "id": "1godk_yLZ0Iy"
      }
    },
    {
      "cell_type": "code",
      "source": [
        "X, Y = np.meshgrid(np.linspace(-1,1,10), np.linspace(-1,1,10))\n",
        "D = np.sqrt(X*X+Y*Y)\n",
        "sigma, mu = 1.0, 0.0\n",
        "G = np.exp((-((D-mu)**2 / (2.0 * sigma**2))))\n",
        "print(G)"
      ],
      "metadata": {
        "colab": {
          "base_uri": "https://localhost:8080/"
        },
        "id": "w0HrfJOetEZj",
        "outputId": "b272bd78-dde0-4f35-daea-b98d8e0319c0"
      },
      "execution_count": null,
      "outputs": [
        {
          "output_type": "stream",
          "name": "stdout",
          "text": [
            "[[0.36787944 0.44822088 0.51979489 0.57375342 0.60279818 0.60279818\n",
            "  0.57375342 0.51979489 0.44822088 0.36787944]\n",
            " [0.44822088 0.54610814 0.63331324 0.69905581 0.73444367 0.73444367\n",
            "  0.69905581 0.63331324 0.54610814 0.44822088]\n",
            " [0.51979489 0.63331324 0.73444367 0.81068432 0.85172308 0.85172308\n",
            "  0.81068432 0.73444367 0.63331324 0.51979489]\n",
            " [0.57375342 0.69905581 0.81068432 0.89483932 0.9401382  0.9401382\n",
            "  0.89483932 0.81068432 0.69905581 0.57375342]\n",
            " [0.60279818 0.73444367 0.85172308 0.9401382  0.98773022 0.98773022\n",
            "  0.9401382  0.85172308 0.73444367 0.60279818]\n",
            " [0.60279818 0.73444367 0.85172308 0.9401382  0.98773022 0.98773022\n",
            "  0.9401382  0.85172308 0.73444367 0.60279818]\n",
            " [0.57375342 0.69905581 0.81068432 0.89483932 0.9401382  0.9401382\n",
            "  0.89483932 0.81068432 0.69905581 0.57375342]\n",
            " [0.51979489 0.63331324 0.73444367 0.81068432 0.85172308 0.85172308\n",
            "  0.81068432 0.73444367 0.63331324 0.51979489]\n",
            " [0.44822088 0.54610814 0.63331324 0.69905581 0.73444367 0.73444367\n",
            "  0.69905581 0.63331324 0.54610814 0.44822088]\n",
            " [0.36787944 0.44822088 0.51979489 0.57375342 0.60279818 0.60279818\n",
            "  0.57375342 0.51979489 0.44822088 0.36787944]]\n"
          ]
        }
      ]
    },
    {
      "cell_type": "markdown",
      "source": [
        "**57.** 2차원 배열에 `p요소`를 <u>랜덤하게 배치</u>하는 방법을 알아본다."
      ],
      "metadata": {
        "id": "3vVFQPJrtj1c"
      }
    },
    {
      "cell_type": "code",
      "source": [
        "n = 10\n",
        "p = 3\n",
        "Z = np.zeros((n,n))\n",
        "np.put(Z, np.random.choice(range(n*n), p, replace=False), 1)                      # put : 원소 배치 / choice : 범위 내 랜덤으로 선택 -> 1을 삽입 \n",
        "print(Z)"
      ],
      "metadata": {
        "colab": {
          "base_uri": "https://localhost:8080/"
        },
        "id": "UbXcHQl-tTMG",
        "outputId": "140f9333-cc0c-4b49-ecd3-443329b5e260"
      },
      "execution_count": null,
      "outputs": [
        {
          "output_type": "stream",
          "name": "stdout",
          "text": [
            "[[0. 0. 0. 0. 0. 0. 0. 0. 0. 0.]\n",
            " [0. 0. 0. 0. 0. 0. 0. 0. 0. 0.]\n",
            " [0. 0. 0. 0. 0. 0. 0. 0. 0. 0.]\n",
            " [0. 0. 0. 0. 0. 0. 0. 0. 0. 1.]\n",
            " [0. 0. 0. 0. 0. 0. 0. 0. 0. 0.]\n",
            " [0. 0. 0. 0. 0. 0. 0. 0. 0. 0.]\n",
            " [0. 0. 0. 0. 0. 0. 0. 0. 0. 0.]\n",
            " [0. 0. 0. 0. 1. 0. 0. 0. 0. 0.]\n",
            " [0. 0. 0. 0. 0. 0. 0. 0. 0. 0.]\n",
            " [0. 0. 0. 0. 1. 0. 0. 0. 0. 0.]]\n"
          ]
        }
      ]
    },
    {
      "cell_type": "markdown",
      "source": [
        "**58.** 행렬의 <u>각 행의 평균을 출력</u>한다."
      ],
      "metadata": {
        "id": "7kHrgOBDttp9"
      }
    },
    {
      "cell_type": "code",
      "source": [
        "X = np.random.rand(5, 10)\n",
        "\n",
        "Y = X - X.mean(axis=1, keepdims=True)                                             # mean : 각 행의 평균을 구하기 -> keepdims 파라미터는 차원 유지를 의미 \n",
        "print(Y)\n",
        "\n",
        "print()\n",
        "\n",
        "Y = X - X.mean(axis=1).reshape(-1, 1)                                             # mean : 각 행의 평균을 구하기 -> reshape로 사이즈 설정\n",
        "print(Y)"
      ],
      "metadata": {
        "colab": {
          "base_uri": "https://localhost:8080/"
        },
        "id": "PKtF_RfutjYS",
        "outputId": "f15e8fcc-84da-4dee-c302-6620a5ee58a2"
      },
      "execution_count": null,
      "outputs": [
        {
          "output_type": "stream",
          "name": "stdout",
          "text": [
            "[[-0.4590064   0.27899857 -0.39198647  0.11286111  0.31052205  0.23369986\n",
            "   0.39702835  0.17933455 -0.32920672 -0.33224491]\n",
            " [ 0.15985499  0.38946443 -0.06065455  0.21492008 -0.02930929  0.4626335\n",
            "  -0.4074613  -0.01023278 -0.38454388 -0.33467121]\n",
            " [ 0.1387876   0.05630886 -0.23002643 -0.09655745  0.37244187  0.30762018\n",
            "  -0.14457423 -0.17372757  0.05566629 -0.28593912]\n",
            " [ 0.23807124  0.06085558 -0.27719531 -0.27086139  0.18526795  0.19483495\n",
            "  -0.48316395  0.33069682  0.27664873 -0.25515462]\n",
            " [-0.49602836  0.08017863 -0.05281663  0.17826245 -0.24687157  0.16521125\n",
            "   0.12030969 -0.28874355  0.20020076  0.34029732]]\n",
            "\n",
            "[[-0.4590064   0.27899857 -0.39198647  0.11286111  0.31052205  0.23369986\n",
            "   0.39702835  0.17933455 -0.32920672 -0.33224491]\n",
            " [ 0.15985499  0.38946443 -0.06065455  0.21492008 -0.02930929  0.4626335\n",
            "  -0.4074613  -0.01023278 -0.38454388 -0.33467121]\n",
            " [ 0.1387876   0.05630886 -0.23002643 -0.09655745  0.37244187  0.30762018\n",
            "  -0.14457423 -0.17372757  0.05566629 -0.28593912]\n",
            " [ 0.23807124  0.06085558 -0.27719531 -0.27086139  0.18526795  0.19483495\n",
            "  -0.48316395  0.33069682  0.27664873 -0.25515462]\n",
            " [-0.49602836  0.08017863 -0.05281663  0.17826245 -0.24687157  0.16521125\n",
            "   0.12030969 -0.28874355  0.20020076  0.34029732]]\n"
          ]
        }
      ]
    },
    {
      "cell_type": "markdown",
      "source": [
        "**59.** 배열을 <u>n번째 열로 정렬</u>하는 방법을 알아본다."
      ],
      "metadata": {
        "id": "lfPU7Bbgtzvx"
      }
    },
    {
      "cell_type": "code",
      "source": [
        "Z = np.random.randint(0, 10, (3,3))\n",
        "print(Z)\n",
        "print()\n",
        "print(Z[Z[:,1].argsort()])                                                        # 행의 두번째 원소를 기준으로 정렬 "
      ],
      "metadata": {
        "colab": {
          "base_uri": "https://localhost:8080/"
        },
        "id": "rbfLlj1wttaC",
        "outputId": "26319154-4fc3-4f72-9a74-cfab0674c733"
      },
      "execution_count": null,
      "outputs": [
        {
          "output_type": "stream",
          "name": "stdout",
          "text": [
            "[[5 3 8]\n",
            " [1 1 8]\n",
            " [3 7 1]]\n",
            "\n",
            "[[1 1 8]\n",
            " [5 3 8]\n",
            " [3 7 1]]\n"
          ]
        }
      ]
    },
    {
      "cell_type": "markdown",
      "source": [
        "**60.** 주어진 2차원 배열에 <u>null 열이 있는지 확인</u>하는 방법을 알아본다."
      ],
      "metadata": {
        "id": "ToZKc5Vlt7Cu"
      }
    },
    {
      "cell_type": "code",
      "source": [
        "Z = np.random.randint(0, 3, (3,10))\n",
        "print((~Z.any(axis=0)).any())                                                     # axis = 0 -> 행을 따라 동작 -> any함수는 인자로 받은 반복가능한 자료형 중 단 하나라도 True가 있으면 True 반환 => Z에서 행을 따라 null이 있는지 판단"
      ],
      "metadata": {
        "colab": {
          "base_uri": "https://localhost:8080/"
        },
        "id": "UJfxD7nUt60h",
        "outputId": "a2893b77-f845-4678-cd89-8e0fb22db1c5"
      },
      "execution_count": null,
      "outputs": [
        {
          "output_type": "stream",
          "name": "stdout",
          "text": [
            "False\n"
          ]
        }
      ]
    },
    {
      "cell_type": "markdown",
      "source": [
        "**61.** 배열의 지정된 값에서 <u>가장 가까운 값을 찾는다</u>."
      ],
      "metadata": {
        "id": "oYbcs6D3uAkE"
      }
    },
    {
      "cell_type": "code",
      "source": [
        "Z = np.random.uniform(0, 1, 10)\n",
        "z = 0.5\n",
        "m = Z.flat[np.abs(Z - z).argmin()]                                                # np.flat : 어레이를 flatten한 후에 인덱싱을 하는 것과 같은 정보를 제공  -> 배열을 벡터형태로 펴준 뒤 벡터의 방법과 같이 최소값 구하여 1차 어레이에 인덱싱\n",
        "print(m)"
      ],
      "metadata": {
        "colab": {
          "base_uri": "https://localhost:8080/"
        },
        "id": "FxvaPFE4uAcl",
        "outputId": "5e7ee849-04da-467c-bc7d-101471705b67"
      },
      "execution_count": null,
      "outputs": [
        {
          "output_type": "stream",
          "name": "stdout",
          "text": [
            "0.5243822995158113\n"
          ]
        }
      ]
    },
    {
      "cell_type": "markdown",
      "source": [
        "**62.** `반복문`을 사용하여 <u>합계를 계산하는 방법</u>을 알아본다."
      ],
      "metadata": {
        "id": "1htQVQQGuHcu"
      }
    },
    {
      "cell_type": "code",
      "source": [
        "A = np.arange(3).reshape(3, 1)\n",
        "B = np.arange(3).reshape(1, 3)\n",
        "it = np.nditer([A, B, None])                                                      # np.nditer : 배열의 모든 요소를 반복 접근하여 설정값에 따른 결과를 알려주는 함수 \n",
        "print(f\"A : \\n{A} \\n\\n B : \\n{B}\")\n",
        "for x, y, z in it :\n",
        "    z[...] = x+y\n",
        "print()\n",
        "print(it.operands[2])                                                             # np.nditer.operands : 반복기를 닫기 전에만 유효하는 반복할 어레이"
      ],
      "metadata": {
        "colab": {
          "base_uri": "https://localhost:8080/"
        },
        "id": "HHwUC5LZuHMw",
        "outputId": "2496bd17-6360-4b9a-cd1b-366070fbfb61"
      },
      "execution_count": null,
      "outputs": [
        {
          "output_type": "stream",
          "name": "stdout",
          "text": [
            "A : \n",
            "[[0]\n",
            " [1]\n",
            " [2]] \n",
            "\n",
            " B : \n",
            "[[0 1 2]]\n",
            "\n",
            "[[0 1 2]\n",
            " [1 2 3]\n",
            " [2 3 4]]\n"
          ]
        }
      ]
    },
    {
      "cell_type": "markdown",
      "source": [
        "**63.** 이름 속성을 가진 `어레이 클래스`를 생성한다."
      ],
      "metadata": {
        "id": "fKfbuvHXuYNB"
      }
    },
    {
      "cell_type": "code",
      "source": [
        "class NamedArray(np.ndarray) :                                                    # NamedArray라는 class를 선언하여 array에 이름이 붙을 수 있게 설정\n",
        "    def __new__(cls, array, name=\"no name\") : \n",
        "        obj = np.asarray(array).view(cls)\n",
        "        obj.name = name\n",
        "        return obj\n",
        "    def __array_finalize__(self, obj) :\n",
        "        if obj is None : return\n",
        "        self.info = getattr(obj, 'name', 'no name')\n",
        "\n",
        "Z = NamedArray(np.arange(10), \"range_10\")\n",
        "print(Z.name)"
      ],
      "metadata": {
        "colab": {
          "base_uri": "https://localhost:8080/"
        },
        "id": "UTUKuBRZuY30",
        "outputId": "d8d8eacf-6aac-4642-e0d6-3c061829b19e"
      },
      "execution_count": null,
      "outputs": [
        {
          "output_type": "stream",
          "name": "stdout",
          "text": [
            "range_10\n"
          ]
        }
      ]
    },
    {
      "cell_type": "markdown",
      "source": [
        "**64.** 주어진 벡터를 생각해보고, 두 번째 벡터에 의해 <u>인덱싱된 각 요소에 1을 추가하는 방법</u>을 알아본다."
      ],
      "metadata": {
        "id": "-C7pP5WKuxby"
      }
    },
    {
      "cell_type": "code",
      "source": [
        "Z = np.ones(10)\n",
        "I = np.random.randint(0, len(Z), 20)\n",
        "Z += np.bincount(I, minlength=len(Z))                                             # 객체의 원소 중 0부터 최대값 범위의 정수값을 올림차순으로 정리한 뒤 각 원소에 대한 빈도수를 반환 -> minlength : 출력 배열의 최소 구간 수  -> 0부터 minlength-1 까지의 숫자에 대해 각각 count \n",
        "print(Z)\n",
        "\n",
        "np.add.at(Z, I, 1)                                                                # np.add.at(A, idx, B) : 메소드로 A배열의 idx 위치에 B배열의 원소 순서대로 더하기\n",
        "print(Z)"
      ],
      "metadata": {
        "colab": {
          "base_uri": "https://localhost:8080/"
        },
        "id": "1k30qhRCuX_E",
        "outputId": "f37547ad-08fd-4527-b968-e977c9f1e3e0"
      },
      "execution_count": null,
      "outputs": [
        {
          "output_type": "stream",
          "name": "stdout",
          "text": [
            "[4. 3. 3. 3. 5. 2. 2. 4. 1. 3.]\n",
            "[7. 5. 5. 5. 9. 3. 3. 7. 1. 5.]\n"
          ]
        }
      ]
    },
    {
      "cell_type": "markdown",
      "source": [
        "**65.** `인덱스 목록(I)`을 기준으로 `배열(F)`에 `벡터(X)` 요소를 <u>누적하는 방법</u>을 알아본다."
      ],
      "metadata": {
        "id": "lHLupYAHu86o"
      }
    },
    {
      "cell_type": "code",
      "source": [
        "X = [1,2,3,4,5,6]\n",
        "I = [1,3,9,3,4,1]\n",
        "F = np.bincount(I,X)                                                              # np.bincount : 객체의 원소중 0부터 최대값의 정수값을 올림차순으로 정리한 뒤 각 원소에 대한 빈도수를 반환 -> X의 원소들을 I에 나와있는 인덱스에 각각 삽입 \n",
        "print(F)"
      ],
      "metadata": {
        "colab": {
          "base_uri": "https://localhost:8080/"
        },
        "id": "NkL4ooQ1u8s8",
        "outputId": "230e82f6-b90b-4036-edde-ff1f6d532793"
      },
      "execution_count": null,
      "outputs": [
        {
          "output_type": "stream",
          "name": "stdout",
          "text": [
            "[0. 7. 0. 6. 5. 0. 0. 0. 0. 3.]\n"
          ]
        }
      ]
    },
    {
      "cell_type": "markdown",
      "source": [
        "**66.** `dtype=ubyte`의 (w, h, 3) 이미지를 고려하여 <u>고유 색상의 수를 계산</u>한다."
      ],
      "metadata": {
        "id": "euQ8C5Q-vD3H"
      }
    },
    {
      "cell_type": "code",
      "source": [
        "w, h = 16, 16\n",
        "I = np.random.randint(0, 2, (h,w,3)).astype(np.ubyte)\n",
        "F = I[..., 0]*256*256 + I[..., 1]*256 + I[..., 2]\n",
        "n = len(np.unique(F))                                                             # np.unique : 고유한 값들만 모아서 반환\n",
        "print(np.unique(I))\n",
        "print(n)"
      ],
      "metadata": {
        "colab": {
          "base_uri": "https://localhost:8080/"
        },
        "id": "Rp8V8p-tvDt_",
        "outputId": "d80fd206-3d94-4b27-8064-6626b5d793be"
      },
      "execution_count": null,
      "outputs": [
        {
          "output_type": "stream",
          "name": "stdout",
          "text": [
            "[0 1]\n",
            "4\n"
          ]
        }
      ]
    },
    {
      "cell_type": "markdown",
      "source": [
        "**67.** 4차원 배열을 고려했을 때, <u>마지막 두 축에서 합계를 한번에 얻는 방법</u>을 알아본다."
      ],
      "metadata": {
        "id": "7rUvGe6BvTPC"
      }
    },
    {
      "cell_type": "code",
      "source": [
        "A = np.random.randint(0, 10, (3,4,3,4))\n",
        "print(A)\n",
        "print()\n",
        "sum = A.sum(axis=(-2,-1))                                                         # 행과 열이 고정된 채로 채널 방향으로 합계 구하기 \n",
        "print(sum)\n",
        "\n",
        "sum = A.reshape(A.shape[:-2] + (-1,)).sum(axis=-1)                                # 인덱싱으로 사이즈 조정 후 축 합계 구하기 \n",
        "print(sum)"
      ],
      "metadata": {
        "colab": {
          "base_uri": "https://localhost:8080/"
        },
        "id": "lrjuN7fNvTEq",
        "outputId": "52d55a26-015f-4024-c32d-fc533fb68e02"
      },
      "execution_count": null,
      "outputs": [
        {
          "output_type": "stream",
          "name": "stdout",
          "text": [
            "[[[[7 2 6 2]\n",
            "   [9 1 1 5]\n",
            "   [9 0 2 5]]\n",
            "\n",
            "  [[7 9 1 7]\n",
            "   [4 5 3 7]\n",
            "   [9 1 7 3]]\n",
            "\n",
            "  [[7 0 5 6]\n",
            "   [9 0 4 6]\n",
            "   [3 2 2 2]]\n",
            "\n",
            "  [[4 5 4 7]\n",
            "   [5 2 3 5]\n",
            "   [4 3 0 3]]]\n",
            "\n",
            "\n",
            " [[[7 7 2 3]\n",
            "   [3 7 0 9]\n",
            "   [8 2 8 0]]\n",
            "\n",
            "  [[5 3 0 9]\n",
            "   [5 1 0 0]\n",
            "   [2 8 1 1]]\n",
            "\n",
            "  [[2 6 3 1]\n",
            "   [4 9 2 1]\n",
            "   [4 1 8 5]]\n",
            "\n",
            "  [[2 0 7 8]\n",
            "   [2 2 1 4]\n",
            "   [0 1 8 4]]]\n",
            "\n",
            "\n",
            " [[[2 3 0 1]\n",
            "   [5 8 9 4]\n",
            "   [2 7 6 6]]\n",
            "\n",
            "  [[1 8 6 6]\n",
            "   [1 4 9 5]\n",
            "   [3 8 3 9]]\n",
            "\n",
            "  [[0 6 3 6]\n",
            "   [7 1 5 7]\n",
            "   [8 1 8 2]]\n",
            "\n",
            "  [[8 5 4 6]\n",
            "   [7 6 3 3]\n",
            "   [8 7 5 6]]]]\n",
            "\n",
            "[[49 63 46 45]\n",
            " [56 35 46 39]\n",
            " [53 63 54 68]]\n",
            "[[49 63 46 45]\n",
            " [56 35 46 39]\n",
            " [53 63 54 68]]\n"
          ]
        }
      ]
    },
    {
      "cell_type": "markdown",
      "source": [
        "**68.** 1차원 벡터를 고려했을 때, 부분집합 지수를 설명하는 동일한 크기의 `벡터 S`를 사용하여 `D`의 <u>부분 집합 평균을 계산하는 방법</u>을 알아본다."
      ],
      "metadata": {
        "id": "UFy50buGveLO"
      }
    },
    {
      "cell_type": "code",
      "source": [
        "D = np.random.uniform(0, 1, 100)\n",
        "S = np.random.randint(0, 10, 100)\n",
        "D_sums = np.bincount(S, weights=D)                                                # 객체의 원소 중 0부터 최대값 범위의 정수값을 올림차순으로 정리한 뒤 각 원소에 대한 빈도수를 반환\n",
        "D_counts = np.bincount(S)             \n",
        "D_means = D_sums / D_counts\n",
        "print(D_means)\n",
        "\n",
        "import pandas as pd\n",
        "print(pd.Series(D).groupby(S).mean())                                             # 그룹화 후 평균 -> 같은 값을 하나로 묶어 통계 결과를 얻기 위해 사용"
      ],
      "metadata": {
        "colab": {
          "base_uri": "https://localhost:8080/"
        },
        "id": "Vdp5S6n5vdqS",
        "outputId": "ab78e747-3f40-4ba5-a9a8-42ca3394deb6"
      },
      "execution_count": null,
      "outputs": [
        {
          "output_type": "stream",
          "name": "stdout",
          "text": [
            "[0.41204372 0.44978516 0.36043208 0.45648183 0.42473709 0.40630531\n",
            " 0.40459645 0.5592522  0.41133056 0.50472895]\n",
            "0    0.412044\n",
            "1    0.449785\n",
            "2    0.360432\n",
            "3    0.456482\n",
            "4    0.424737\n",
            "5    0.406305\n",
            "6    0.404596\n",
            "7    0.559252\n",
            "8    0.411331\n",
            "9    0.504729\n",
            "dtype: float64\n"
          ]
        }
      ]
    },
    {
      "cell_type": "markdown",
      "source": [
        "**69.** 도트 제품의 `대각선`을 구하는 방법을 알아본다."
      ],
      "metadata": {
        "id": "HsZKZ7Cvvuk-"
      }
    },
    {
      "cell_type": "code",
      "source": [
        "A = np.random.uniform(0, 1, (5,5))\n",
        "B = np.random.uniform(0, 1, (5,5))\n",
        "\n",
        "print(np.diag(np.dot(A,B)))                                                       # 내적의 대각행렬 -> np.dot : 곱 / np.diag : 대각 원소를 추출하고 대각 행렬 생성 \n",
        "\n",
        "print(np.sum(A * B.T, axis=1))                                     \n",
        "\n",
        "print(np.einsum(\"ij,ji->i\", A, B))"
      ],
      "metadata": {
        "colab": {
          "base_uri": "https://localhost:8080/"
        },
        "id": "vKDu97OMvswa",
        "outputId": "c3ad36c1-4702-475a-b026-b9bb23f4afa6"
      },
      "execution_count": null,
      "outputs": [
        {
          "output_type": "stream",
          "name": "stdout",
          "text": [
            "[1.84321155 1.32244161 0.8932828  1.08133231 0.46306339]\n",
            "[1.84321155 1.32244161 0.8932828  1.08133231 0.46306339]\n",
            "[1.84321155 1.32244161 0.8932828  1.08133231 0.46306339]\n"
          ]
        }
      ]
    },
    {
      "cell_type": "markdown",
      "source": [
        "**70.** 벡터 `[1, 2, 3, 4, 5]`를 고려하면 <u>각 값 사이에 3 개의 연속 0이 삽입 된 새로운 벡터를 만드는 방법</u>을 알아본다."
      ],
      "metadata": {
        "id": "eM6XWBrjv7Uw"
      }
    },
    {
      "cell_type": "code",
      "source": [
        "Z = np.array([1,2,3,4,5])\n",
        "print(Z)\n",
        "nz = 3\n",
        "Z0 = np.zeros(len(Z) + (len(Z)-1)*(nz))\n",
        "print(Z0)\n",
        "Z0[::nz+1] = Z                                                                    # 처음부터 끝까지 nz+1 간격으로 인덱스 값 가져오기 \n",
        "print(Z0)"
      ],
      "metadata": {
        "colab": {
          "base_uri": "https://localhost:8080/"
        },
        "id": "wZ5aQ7_Hv7DW",
        "outputId": "3eeed368-7dc3-4ae7-eb7e-2bf90377e838"
      },
      "execution_count": null,
      "outputs": [
        {
          "output_type": "stream",
          "name": "stdout",
          "text": [
            "[1 2 3 4 5]\n",
            "[0. 0. 0. 0. 0. 0. 0. 0. 0. 0. 0. 0. 0. 0. 0. 0. 0.]\n",
            "[1. 0. 0. 0. 2. 0. 0. 0. 3. 0. 0. 0. 4. 0. 0. 0. 5.]\n"
          ]
        }
      ]
    },
    {
      "cell_type": "markdown",
      "source": [
        "**71.** (5,5,3)차원의 배열과 (5,5)차원의 배열을 <u>곱하는 방법</u>을 알아본다."
      ],
      "metadata": {
        "id": "naG2libkwHZC"
      }
    },
    {
      "cell_type": "code",
      "source": [
        "A = np.ones((5,5,3))\n",
        "B = 2*np.ones((5,5))\n",
        "print(A*B[:,:,None])                                                              # 인덱싱으로 차원을 맞추고 곱"
      ],
      "metadata": {
        "colab": {
          "base_uri": "https://localhost:8080/"
        },
        "id": "O_qDw8UKwHLA",
        "outputId": "e002ef42-3d99-42d9-8e44-f9aa69a1b2be"
      },
      "execution_count": null,
      "outputs": [
        {
          "output_type": "stream",
          "name": "stdout",
          "text": [
            "[[[2. 2. 2.]\n",
            "  [2. 2. 2.]\n",
            "  [2. 2. 2.]\n",
            "  [2. 2. 2.]\n",
            "  [2. 2. 2.]]\n",
            "\n",
            " [[2. 2. 2.]\n",
            "  [2. 2. 2.]\n",
            "  [2. 2. 2.]\n",
            "  [2. 2. 2.]\n",
            "  [2. 2. 2.]]\n",
            "\n",
            " [[2. 2. 2.]\n",
            "  [2. 2. 2.]\n",
            "  [2. 2. 2.]\n",
            "  [2. 2. 2.]\n",
            "  [2. 2. 2.]]\n",
            "\n",
            " [[2. 2. 2.]\n",
            "  [2. 2. 2.]\n",
            "  [2. 2. 2.]\n",
            "  [2. 2. 2.]\n",
            "  [2. 2. 2.]]\n",
            "\n",
            " [[2. 2. 2.]\n",
            "  [2. 2. 2.]\n",
            "  [2. 2. 2.]\n",
            "  [2. 2. 2.]\n",
            "  [2. 2. 2.]]]\n"
          ]
        }
      ]
    },
    {
      "cell_type": "markdown",
      "source": [
        "**72.** 배열의 두 행을 바꾸는 방법을 알아본다."
      ],
      "metadata": {
        "id": "a9Muj_WbwMo-"
      }
    },
    {
      "cell_type": "code",
      "source": [
        "A = np.arange(25).reshape(5,5)\n",
        "print(f\"기존 A \\n{A}\")\n",
        "A[[0, 1]] = A[[1,0]]                                                              # 인덱스를 이용해 바꾸기\n",
        "print(f\"행변환 A \\n{A}\")"
      ],
      "metadata": {
        "colab": {
          "base_uri": "https://localhost:8080/"
        },
        "id": "_ab0wZfcwMea",
        "outputId": "1f5588cc-7e89-4be0-93e4-4f40a0bd248a"
      },
      "execution_count": null,
      "outputs": [
        {
          "output_type": "stream",
          "name": "stdout",
          "text": [
            "기존 A \n",
            "[[ 0  1  2  3  4]\n",
            " [ 5  6  7  8  9]\n",
            " [10 11 12 13 14]\n",
            " [15 16 17 18 19]\n",
            " [20 21 22 23 24]]\n",
            "행변환 A \n",
            "[[ 5  6  7  8  9]\n",
            " [ 0  1  2  3  4]\n",
            " [10 11 12 13 14]\n",
            " [15 16 17 18 19]\n",
            " [20 21 22 23 24]]\n"
          ]
        }
      ]
    },
    {
      "cell_type": "markdown",
      "source": [
        "**73.** *10개의 삼각형을 설명하는 10개의 세쌍둥이 집합*을 고려하여, <u>모든 삼각형을 구성하는 고유한 선분 집합</u>을 찾는다. "
      ],
      "metadata": {
        "id": "8ZoBeFG9wSab"
      }
    },
    {
      "cell_type": "markdown",
      "source": [
        "`numpy.roll(a, shift, axis=None)`\n",
        "  - 넘파이 배열을 굴리는 함수이다.\n",
        "  - shift에 의해서 몇 칸이나 밀지 결정할 수 있다.\n",
        "  - 다차원 배열에서는 어떤 axis를 기준으로 밀지 결정할 수 있다."
      ],
      "metadata": {
        "id": "fRVciMAJLdAw"
      }
    },
    {
      "cell_type": "code",
      "source": [
        "faces = np.random.randint(0, 100, (10,3))\n",
        "F = np.roll(faces.repeat(2, axis=1), -1, axis=1)\n",
        "F = F.reshape(len(F)*3,2)                                                         # 차원 설정\n",
        "F = np.sort(F, axis=1)                                                            # 정렬 \n",
        "G = F.view(dtype=[(\"p0\",F.dtype), (\"p1\",F.dtype)])                                # view : F의 데이터 타입을 각각 p0과 p1로 변경\n",
        "G = np.unique(G)                                                                  # np.unique : G배열의 모든 고유 값을 검색하고 이러한 고유 값을 정렬\n",
        "print(G)"
      ],
      "metadata": {
        "colab": {
          "base_uri": "https://localhost:8080/"
        },
        "id": "1oHYOot3wS8u",
        "outputId": "d2af3550-2f06-4ee1-dedd-3528f6c23567"
      },
      "execution_count": null,
      "outputs": [
        {
          "output_type": "stream",
          "name": "stdout",
          "text": [
            "[( 9, 20) ( 9, 37) ( 9, 42) ( 9, 53) ( 9, 74) (10, 45) (10, 49) (14, 18)\n",
            " (14, 45) (14, 52) (14, 64) (18, 45) (20, 42) (25, 29) (25, 85) (29, 85)\n",
            " (34, 49) (34, 87) (37, 74) (43, 88) (43, 98) (45, 49) (48, 65) (48, 86)\n",
            " (49, 87) (52, 64) (53, 74) (65, 86) (88, 98)]\n"
          ]
        }
      ]
    },
    {
      "cell_type": "markdown",
      "source": [
        "**74.** *빈 카운트에 해당*하는 정렬된 배열 `C`가 주어진 경우, `np.bincount(A) == C`와 같은 배열 `A`를 생성하는 방법을 알아본다."
      ],
      "metadata": {
        "id": "4elKcjBrwk3v"
      }
    },
    {
      "cell_type": "code",
      "source": [
        "C = np.bincount([1,1,2,3,4,4,6])                                                  # np.bincount :객체의 원소중 0부터 최대값 범위의 정수값을 올림차순으로 정리한 뒤 각 원소에 대한 빈도수를 반환\n",
        "A = np.repeat(np.arange(len(C)), C)                                               # np.repeat(a, b, axis=c) : a는 복사할 값, b는 몇번을 반복할지, c는 복사를 할 때 어떤 방향으로 할지를 의미 -> A와 C가 같아질때까지 반복 \n",
        "print(A)"
      ],
      "metadata": {
        "colab": {
          "base_uri": "https://localhost:8080/"
        },
        "id": "P-qUv4F2wSRd",
        "outputId": "0c6d7d90-9948-4551-dfd9-148b6e5927b3"
      },
      "execution_count": null,
      "outputs": [
        {
          "output_type": "stream",
          "name": "stdout",
          "text": [
            "[1 1 2 3 4 4 6]\n"
          ]
        }
      ]
    },
    {
      "cell_type": "markdown",
      "source": [
        "**75.** 배열 상의 슬라이딩 창을 사용하여 <u>평균을 계산하는 방법을 알아본다</u>."
      ],
      "metadata": {
        "id": "YL2Y2H1-wqQl"
      }
    },
    {
      "cell_type": "code",
      "source": [
        "def moving_average(a, n=3) :\n",
        "    ret = np.cumsum(a, dtype=float)                                               # 주어진 축을 따라 요소의 누적 합계를 리턴\n",
        "    ret[n:] = ret[n:] - ret[:-n]\n",
        "    return ret[n-1:]/n\n",
        "\n",
        "Z = np.arange(20)\n",
        "print(moving_average(Z, n=3))"
      ],
      "metadata": {
        "colab": {
          "base_uri": "https://localhost:8080/"
        },
        "id": "O__YIbaUwqGJ",
        "outputId": "a3e0c58e-0781-401d-f7ee-88281fb23603"
      },
      "execution_count": null,
      "outputs": [
        {
          "output_type": "stream",
          "name": "stdout",
          "text": [
            "[ 1.  2.  3.  4.  5.  6.  7.  8.  9. 10. 11. 12. 13. 14. 15. 16. 17. 18.]\n"
          ]
        }
      ]
    },
    {
      "cell_type": "markdown",
      "source": [
        "**76.** 1차원 배열 Z를 고려하여 첫 번째 행이 `(Z[0],Z[1],Z[2])`인 2차원 배열을 만들고, 각 다음 행이 1씩 이동한다.   \n",
        "이때, 마지막 행은 `(Z[-3],Z[-2]),Z[-1])`이어야 한다."
      ],
      "metadata": {
        "id": "XX1GC4uHw2Xi"
      }
    },
    {
      "cell_type": "code",
      "source": [
        "from numpy.lib import stride_tricks\n",
        "\n",
        "def rolling(a, window) : \n",
        "    shape = (a.size - window + 1, window)                                         # 모양과 보폭 각 인자에 따라 설정 \n",
        "    strides = (a.itemsize, a.itemsize)\n",
        "    return stride_tricks.as_strided(a, shape=shape, strides=strides)              # stride_tricks.as_strided :주어진 모양과 보폭으로 배열에 뷰를 만든다\n",
        "Z = rolling(np.arange(10), 3)\n",
        "print(Z)"
      ],
      "metadata": {
        "colab": {
          "base_uri": "https://localhost:8080/"
        },
        "id": "u6zln4csw2Px",
        "outputId": "7de7d901-36de-4dc3-bfec-d76d7e037506"
      },
      "execution_count": null,
      "outputs": [
        {
          "output_type": "stream",
          "name": "stdout",
          "text": [
            "[[0 1 2]\n",
            " [1 2 3]\n",
            " [2 3 4]\n",
            " [3 4 5]\n",
            " [4 5 6]\n",
            " [5 6 7]\n",
            " [6 7 8]\n",
            " [7 8 9]]\n"
          ]
        }
      ]
    },
    {
      "cell_type": "markdown",
      "source": [
        "**77.** <u>부울을 부정하는 방법</u> 또는 <u>부등 기호를 변경</u>하는 방법을 알아본다."
      ],
      "metadata": {
        "id": "7AL7G1_LxH73"
      }
    },
    {
      "cell_type": "code",
      "source": [
        "Z  = np.random.randint(0,2,100)\n",
        "np.logical_not(Z, out=Z)                                                          # 0과 1의 어레이일때, logical_not()을 통해 반전 가능\n",
        "\n",
        "Z = np.random.uniform(-1.0, 1.0, 100)\n",
        "np.negative(Z, out=Z)                                                             # negative()를 통해 부호 반전 가능"
      ],
      "metadata": {
        "colab": {
          "base_uri": "https://localhost:8080/"
        },
        "id": "ph4yhKWDxHtj",
        "outputId": "cf923bf4-2869-4937-b8b3-b2c330c5132b"
      },
      "execution_count": null,
      "outputs": [
        {
          "output_type": "execute_result",
          "data": {
            "text/plain": [
              "array([-0.85367304,  0.99171251,  0.95309835, -0.69566812, -0.06258744,\n",
              "        0.97617074,  0.67716675, -0.57015765,  0.83404494, -0.0457265 ,\n",
              "       -0.24757939,  0.31889378, -0.23232514,  0.60075276, -0.18000596,\n",
              "       -0.70903864,  0.16813166,  0.65475384, -0.19184065,  0.24963801,\n",
              "        0.10425002,  0.14653178, -0.94460171, -0.37074188,  0.30944201,\n",
              "       -0.70428863,  0.45619824, -0.41948951, -0.62563008,  0.87260921,\n",
              "       -0.92853824,  0.39497379, -0.85185278,  0.0241732 , -0.46288565,\n",
              "        0.03955828, -0.9950132 ,  0.54148321, -0.49916174, -0.01011508,\n",
              "       -0.12067216, -0.9218884 ,  0.83654713, -0.14789738, -0.40740942,\n",
              "        0.47361049, -0.0043183 , -0.80591751, -0.67065799,  0.56987231,\n",
              "        0.27274141, -0.03365393, -0.20141891,  0.24341419,  0.07451794,\n",
              "       -0.67559318, -0.52760339,  0.7772553 ,  0.92216821,  0.36640904,\n",
              "       -0.87563334, -0.1847089 , -0.50789326, -0.33354022, -0.97163715,\n",
              "       -0.77775922, -0.68391674, -0.71346006,  0.6654504 ,  0.59686868,\n",
              "        0.77628922, -0.59114541,  0.51134238,  0.20529489, -0.03305827,\n",
              "        0.98943463, -0.43112067, -0.3317743 ,  0.44099272, -0.47280155,\n",
              "       -0.79678075, -0.89928537,  0.11807452, -0.83614369, -0.27325042,\n",
              "       -0.50647929, -0.5826156 ,  0.06112218,  0.85362204,  0.98588655,\n",
              "        0.63485   ,  0.11070172, -0.04554553, -0.97201864,  0.71730217,\n",
              "       -0.68602498,  0.37488224,  0.99384348, -0.45302328,  0.35771151])"
            ]
          },
          "metadata": {},
          "execution_count": 83
        }
      ]
    },
    {
      "cell_type": "markdown",
      "source": [
        "**78.** `선(2d)`과 점 `p`를 설명하는 점 `P0`, `P1`의 두 집합을 고려하며, <u>p에서 각 선(i)까지의 거리를 계산하는 방법</u>을 알아본다.\n"
      ],
      "metadata": {
        "id": "RHUnmTv4xQMF"
      }
    },
    {
      "cell_type": "code",
      "source": [
        "# 거리 계산하는 함수 작성 \n",
        "def distance(P0, P1, p):\n",
        "    T = P1 - P0\n",
        "    L = (T**2).sum(axis=1)\n",
        "    U = -((P0[:,0]-p[...,0])*T[:,0] + (P0[:,1]-p[...,1])*T[:,1]) / L\n",
        "    U = U.reshape(len(U),1)\n",
        "    D = P0 + U*T - p\n",
        "    return np.sqrt((D**2).sum(axis=1))\n",
        "\n",
        "P0 = np.random.uniform(-10,10,(10,2))\n",
        "P1 = np.random.uniform(-10,10,(10,2))\n",
        "p  = np.random.uniform(-10,10,( 1,2))\n",
        "print(distance(P0, P1, p))"
      ],
      "metadata": {
        "colab": {
          "base_uri": "https://localhost:8080/"
        },
        "id": "My07es9kxP6_",
        "outputId": "1fef1e7c-ef89-42ff-a0e7-610321fa3c16"
      },
      "execution_count": null,
      "outputs": [
        {
          "output_type": "stream",
          "name": "stdout",
          "text": [
            "[ 3.90118809  6.56254966 14.48846322  6.04438893 18.84846319  3.59869628\n",
            "  7.12126429  7.3032637  15.05586534  5.64042138]\n"
          ]
        }
      ]
    },
    {
      "cell_type": "markdown",
      "source": [
        "**79.** 각 점 `j(P[j])`에서 각 선 `i(P0[i])`까지의 <u>거리를 계산하는 방법</u>을 알아본다."
      ],
      "metadata": {
        "id": "CNlrnGz6xz09"
      }
    },
    {
      "cell_type": "code",
      "source": [
        "P0 = np.random.uniform(-10, 10, (10,2))\n",
        "P1 = np.random.uniform(-10,10,(10,2))\n",
        "p = np.random.uniform(-10, 10, (10,2))\n",
        "print(np.array([distance(P0,P1,p_i) for p_i in p]))                               # 78번의 distance 함수 사용 "
      ],
      "metadata": {
        "colab": {
          "base_uri": "https://localhost:8080/"
        },
        "id": "pMfL0f_bxxUK",
        "outputId": "056c66a5-91d8-41a8-ba9f-b1b25e3586f0"
      },
      "execution_count": null,
      "outputs": [
        {
          "output_type": "stream",
          "name": "stdout",
          "text": [
            "[[ 3.37318365  4.97231165  0.18391329  3.33652116 10.4138784   2.00494536\n",
            "   2.79490846 10.85854164  8.09781685  4.07221995]\n",
            " [ 4.67407942  7.33921306  2.74258965  3.86095265  9.76411619  0.6860664\n",
            "   5.51716436 13.21249837 10.0261461   6.99614747]\n",
            " [ 5.65850155  7.57927837  3.86191222  4.67427891  8.92001524  1.79901596\n",
            "   5.96829127 13.44563366 10.05017159  7.59843407]\n",
            " [ 3.34205705  6.18442489  0.79091339  2.98329573 10.71769622  1.31398246\n",
            "   4.04583601 12.06862057  9.2256671   5.31950864]\n",
            " [ 2.23619975  5.90829584  4.98073138  1.91656739 15.74716112  6.97505803\n",
            "   2.61415489 11.82975756 10.09275959  3.03229066]\n",
            " [ 6.27743062  0.30355315  0.65419233  7.17980523  6.70190319  1.92272525\n",
            "   1.45170609  6.17927231  3.19327968  0.26652884]\n",
            " [ 3.84098391  6.00948109  5.12814173  6.7024238   7.49167379  8.08202083\n",
            "   8.50039908  0.10604437  2.1579397   7.16163303]\n",
            " [ 0.93132918 11.08498274  0.9381917   2.14306106 15.73217983  2.60731756\n",
            "   8.25180109 16.98828244 14.62022466  8.87484565]\n",
            " [ 5.98679412  7.6508341   4.23071404  4.94779634  8.63658605  2.16510851\n",
            "   6.10991631 13.51489402 10.05031577  7.79046104]\n",
            " [ 0.2564889   3.7459453   7.55129667  2.89841588 11.27813572 10.26649586\n",
            "   6.88836769  2.1769282   0.65790645  6.09707257]]\n"
          ]
        }
      ]
    },
    {
      "cell_type": "markdown",
      "source": [
        "**80.** 임의의 배열을 고려하여, <u>고정된 모양과 필요한 경우 채우기 값을 가진 패드와 같은 특정 요소의 중심에 있는 하위 파트를 추출하는 함수</u>를 작성한다."
      ],
      "metadata": {
        "id": "hx3r71alx96b"
      }
    },
    {
      "cell_type": "code",
      "source": [
        "Z = np.random.randint(0, 10, (10,10))                                             # 무작위 10 ×10차원의 Z배열 생성 \n",
        "shape = (5,5)                                                                     # 차원 설정 \n",
        "fill = 0                                                                          # fill 값이 있는 패드를 쓰기 위해 0 저장 \n",
        "position = (1,1)                                                                  # 포지션 설정 \n",
        "\n",
        "R = np.ones(shape, dtype=Z.dtype)*fill                                            # 지정한 shape 모양의 Z와 데이터 타입이 같은 배열 R을 생성하고 fill을 곱하기 \n",
        "P = np.array(list(position)).astype(int)                                          # position을 리스트로 바꾸어 이를 배열P로 생성 \n",
        "Rs = np.array(list(R.shape)).astype(int)                                          # R의 차원을 리스트로 바꾸어 이를 배열Rs로 생성 \n",
        "Zs = np.array(list(Z.shape)).astype(int)                                          # Z의 차원을 리스트로 바꾸어 이를 배열Zs로 생성 \n",
        "\n",
        "R_start = np.zeros((len(shape), )).astype(int)\n",
        "R_stop = np.array(list(shape)).astype(int)\n",
        "Z_start = (P-Rs//2)                                                               # 식\n",
        "Z_stop = (P+Rs//2)+Rs%2\n",
        "\n",
        "R_start = (R_start - np.minimum(Z_start,0)).tolist()                              # tolist() : 사용하여 같은 레벨(위치)에 있는 데이터 끼리 묶어주기\n",
        "Z_start = (np.maximum(Z_start,0)).tolist()\n",
        "R_stop = np.maximum(R_start, (R_stop-np.maximum(Z_stop-Zs,0))).tolist()\n",
        "Z_stop = (np.minimum(Z_stop,Zs)).tolist()\n",
        "\n",
        "r = [slice(start, stop) for start, stop in zip(R_start, R_stop)]                  # slice() :잘라내기 원하는 index 들을 정의\n",
        "z = [slice(start, stop) for start, stop in zip(Z_start, Z_stop)]\n",
        "R[r] = Z[z]\n",
        "print(Z)\n",
        "print(R)"
      ],
      "metadata": {
        "colab": {
          "base_uri": "https://localhost:8080/"
        },
        "id": "aS0NffbCx7b3",
        "outputId": "a3ffb750-4e0a-4096-fc8f-84a5c36c06b2"
      },
      "execution_count": null,
      "outputs": [
        {
          "output_type": "stream",
          "name": "stdout",
          "text": [
            "[[4 5 8 7 2 5 9 4 8 0]\n",
            " [4 6 3 0 6 6 1 9 9 7]\n",
            " [4 9 6 0 4 5 6 3 5 8]\n",
            " [6 7 4 8 8 3 8 7 2 0]\n",
            " [3 2 7 7 3 0 3 5 4 7]\n",
            " [2 8 9 5 4 0 3 9 9 3]\n",
            " [8 5 6 6 4 3 9 0 1 8]\n",
            " [8 8 0 9 8 3 8 1 8 9]\n",
            " [6 6 0 2 3 1 2 3 2 8]\n",
            " [5 4 3 4 4 9 1 4 9 6]]\n",
            "[[0 0 0 0 0]\n",
            " [0 4 5 8 7]\n",
            " [0 4 6 3 0]\n",
            " [0 4 9 6 0]\n",
            " [0 6 7 4 8]]\n"
          ]
        },
        {
          "output_type": "stream",
          "name": "stderr",
          "text": [
            "/usr/local/lib/python3.7/dist-packages/ipykernel_launcher.py:23: FutureWarning: Using a non-tuple sequence for multidimensional indexing is deprecated; use `arr[tuple(seq)]` instead of `arr[seq]`. In the future this will be interpreted as an array index, `arr[np.array(seq)]`, which will result either in an error or a different result.\n"
          ]
        }
      ]
    },
    {
      "cell_type": "markdown",
      "source": [
        "**81.** 배열 `[[1,2,3,4], [2,3,4,5], [3,4,5,6], ..., [11,12,13,14]]`와, 배열 `[1,2,3,4,5,6,7,8,9,10,11,12,13,14]`을 생성하는 방법을 알아본다."
      ],
      "metadata": {
        "id": "auVG_b7ey0lq"
      }
    },
    {
      "cell_type": "code",
      "source": [
        "Z = np.arange(1,15,dtype=np.uint32)\n",
        "print(Z)\n",
        "R = stride_tricks.as_strided(Z, (11,4), (4,4))                                    # stride_tricks.as_strided :주어진 모양과 보폭으로 배열에 뷰를 만든다\n",
        "print(R)"
      ],
      "metadata": {
        "colab": {
          "base_uri": "https://localhost:8080/"
        },
        "id": "j2nRIT7Oywbp",
        "outputId": "4d83b16b-55fb-443a-cbce-705019b10117"
      },
      "execution_count": null,
      "outputs": [
        {
          "output_type": "stream",
          "name": "stdout",
          "text": [
            "[ 1  2  3  4  5  6  7  8  9 10 11 12 13 14]\n",
            "[[ 1  2  3  4]\n",
            " [ 2  3  4  5]\n",
            " [ 3  4  5  6]\n",
            " [ 4  5  6  7]\n",
            " [ 5  6  7  8]\n",
            " [ 6  7  8  9]\n",
            " [ 7  8  9 10]\n",
            " [ 8  9 10 11]\n",
            " [ 9 10 11 12]\n",
            " [10 11 12 13]\n",
            " [11 12 13 14]]\n"
          ]
        }
      ]
    },
    {
      "cell_type": "markdown",
      "source": [
        "**82.** <u>행렬 순위를 계산</u>한다."
      ],
      "metadata": {
        "id": "YyigHczWy6aw"
      }
    },
    {
      "cell_type": "code",
      "source": [
        "Z = np.random.uniform(0, 1,(10,10))\n",
        "U, S, V = np.linalg.svd(Z)                                                        # SVD(특이값 분해)를 이용하여 계산\n",
        "rank = np.sum(S> 1e-10)\n",
        "print(rank)"
      ],
      "metadata": {
        "colab": {
          "base_uri": "https://localhost:8080/"
        },
        "id": "T_q3klWhy6P0",
        "outputId": "aa98d7ca-af22-4e41-979d-701a78cbdb5d"
      },
      "execution_count": null,
      "outputs": [
        {
          "output_type": "stream",
          "name": "stdout",
          "text": [
            "10\n"
          ]
        }
      ]
    },
    {
      "cell_type": "markdown",
      "source": [
        "**83.** <u>어레이에서 가장 빈번한 값</u>을 찾는 방법을 알아본다."
      ],
      "metadata": {
        "id": "zT3GaplgzXSW"
      }
    },
    {
      "cell_type": "code",
      "source": [
        "Z = np.random.randint(0, 10, 50)\n",
        "print(np.bincount(Z).argmax())                                                    # np.bincount() : 각 값을 count -> argmax() : 가장 큰 값을 찾기"
      ],
      "metadata": {
        "colab": {
          "base_uri": "https://localhost:8080/"
        },
        "id": "ADRtD56szV3d",
        "outputId": "be93e316-e55f-4572-eba3-a98ff86cdabc"
      },
      "execution_count": null,
      "outputs": [
        {
          "output_type": "stream",
          "name": "stdout",
          "text": [
            "7\n"
          ]
        }
      ]
    },
    {
      "cell_type": "markdown",
      "source": [
        "**84.** <u>랜덤 10×10 크기의 배열</u>에서 <u>모든 연속 3×3 블록을 추출</u>한다."
      ],
      "metadata": {
        "id": "VJpsj1byzbNs"
      }
    },
    {
      "cell_type": "code",
      "source": [
        "Z = np.random.randint(0, 5, (10, 10))\n",
        "n = 3\n",
        "i = 1 + (Z.shape[0]-3)\n",
        "j = 1 + (Z.shape[1]-3)\n",
        "C = stride_tricks.as_strided(Z, shape=(i,j,n,n),strides=Z.strides + Z.strides)    # stride_tricks.as_strided : 주어진 모양과 보폭으로 배열에 뷰를 만든다\n",
        "print(C)"
      ],
      "metadata": {
        "colab": {
          "base_uri": "https://localhost:8080/"
        },
        "id": "kaG5pRMJza-h",
        "outputId": "1c3e4f88-9399-4a51-9698-1f359115f67c"
      },
      "execution_count": null,
      "outputs": [
        {
          "output_type": "stream",
          "name": "stdout",
          "text": [
            "[[[[2 0 1]\n",
            "   [0 3 0]\n",
            "   [2 0 4]]\n",
            "\n",
            "  [[0 1 4]\n",
            "   [3 0 3]\n",
            "   [0 4 4]]\n",
            "\n",
            "  [[1 4 1]\n",
            "   [0 3 4]\n",
            "   [4 4 3]]\n",
            "\n",
            "  [[4 1 2]\n",
            "   [3 4 1]\n",
            "   [4 3 4]]\n",
            "\n",
            "  [[1 2 3]\n",
            "   [4 1 0]\n",
            "   [3 4 0]]\n",
            "\n",
            "  [[2 3 2]\n",
            "   [1 0 2]\n",
            "   [4 0 1]]\n",
            "\n",
            "  [[3 2 2]\n",
            "   [0 2 0]\n",
            "   [0 1 0]]\n",
            "\n",
            "  [[2 2 4]\n",
            "   [2 0 4]\n",
            "   [1 0 1]]]\n",
            "\n",
            "\n",
            " [[[0 3 0]\n",
            "   [2 0 4]\n",
            "   [1 0 3]]\n",
            "\n",
            "  [[3 0 3]\n",
            "   [0 4 4]\n",
            "   [0 3 0]]\n",
            "\n",
            "  [[0 3 4]\n",
            "   [4 4 3]\n",
            "   [3 0 2]]\n",
            "\n",
            "  [[3 4 1]\n",
            "   [4 3 4]\n",
            "   [0 2 4]]\n",
            "\n",
            "  [[4 1 0]\n",
            "   [3 4 0]\n",
            "   [2 4 4]]\n",
            "\n",
            "  [[1 0 2]\n",
            "   [4 0 1]\n",
            "   [4 4 1]]\n",
            "\n",
            "  [[0 2 0]\n",
            "   [0 1 0]\n",
            "   [4 1 4]]\n",
            "\n",
            "  [[2 0 4]\n",
            "   [1 0 1]\n",
            "   [1 4 0]]]\n",
            "\n",
            "\n",
            " [[[2 0 4]\n",
            "   [1 0 3]\n",
            "   [3 1 1]]\n",
            "\n",
            "  [[0 4 4]\n",
            "   [0 3 0]\n",
            "   [1 1 4]]\n",
            "\n",
            "  [[4 4 3]\n",
            "   [3 0 2]\n",
            "   [1 4 4]]\n",
            "\n",
            "  [[4 3 4]\n",
            "   [0 2 4]\n",
            "   [4 4 0]]\n",
            "\n",
            "  [[3 4 0]\n",
            "   [2 4 4]\n",
            "   [4 0 4]]\n",
            "\n",
            "  [[4 0 1]\n",
            "   [4 4 1]\n",
            "   [0 4 3]]\n",
            "\n",
            "  [[0 1 0]\n",
            "   [4 1 4]\n",
            "   [4 3 2]]\n",
            "\n",
            "  [[1 0 1]\n",
            "   [1 4 0]\n",
            "   [3 2 3]]]\n",
            "\n",
            "\n",
            " [[[1 0 3]\n",
            "   [3 1 1]\n",
            "   [0 1 3]]\n",
            "\n",
            "  [[0 3 0]\n",
            "   [1 1 4]\n",
            "   [1 3 0]]\n",
            "\n",
            "  [[3 0 2]\n",
            "   [1 4 4]\n",
            "   [3 0 4]]\n",
            "\n",
            "  [[0 2 4]\n",
            "   [4 4 0]\n",
            "   [0 4 0]]\n",
            "\n",
            "  [[2 4 4]\n",
            "   [4 0 4]\n",
            "   [4 0 2]]\n",
            "\n",
            "  [[4 4 1]\n",
            "   [0 4 3]\n",
            "   [0 2 2]]\n",
            "\n",
            "  [[4 1 4]\n",
            "   [4 3 2]\n",
            "   [2 2 1]]\n",
            "\n",
            "  [[1 4 0]\n",
            "   [3 2 3]\n",
            "   [2 1 2]]]\n",
            "\n",
            "\n",
            " [[[3 1 1]\n",
            "   [0 1 3]\n",
            "   [2 1 0]]\n",
            "\n",
            "  [[1 1 4]\n",
            "   [1 3 0]\n",
            "   [1 0 0]]\n",
            "\n",
            "  [[1 4 4]\n",
            "   [3 0 4]\n",
            "   [0 0 3]]\n",
            "\n",
            "  [[4 4 0]\n",
            "   [0 4 0]\n",
            "   [0 3 3]]\n",
            "\n",
            "  [[4 0 4]\n",
            "   [4 0 2]\n",
            "   [3 3 1]]\n",
            "\n",
            "  [[0 4 3]\n",
            "   [0 2 2]\n",
            "   [3 1 0]]\n",
            "\n",
            "  [[4 3 2]\n",
            "   [2 2 1]\n",
            "   [1 0 0]]\n",
            "\n",
            "  [[3 2 3]\n",
            "   [2 1 2]\n",
            "   [0 0 0]]]\n",
            "\n",
            "\n",
            " [[[0 1 3]\n",
            "   [2 1 0]\n",
            "   [0 1 1]]\n",
            "\n",
            "  [[1 3 0]\n",
            "   [1 0 0]\n",
            "   [1 1 1]]\n",
            "\n",
            "  [[3 0 4]\n",
            "   [0 0 3]\n",
            "   [1 1 1]]\n",
            "\n",
            "  [[0 4 0]\n",
            "   [0 3 3]\n",
            "   [1 1 0]]\n",
            "\n",
            "  [[4 0 2]\n",
            "   [3 3 1]\n",
            "   [1 0 1]]\n",
            "\n",
            "  [[0 2 2]\n",
            "   [3 1 0]\n",
            "   [0 1 3]]\n",
            "\n",
            "  [[2 2 1]\n",
            "   [1 0 0]\n",
            "   [1 3 4]]\n",
            "\n",
            "  [[2 1 2]\n",
            "   [0 0 0]\n",
            "   [3 4 3]]]\n",
            "\n",
            "\n",
            " [[[2 1 0]\n",
            "   [0 1 1]\n",
            "   [2 1 2]]\n",
            "\n",
            "  [[1 0 0]\n",
            "   [1 1 1]\n",
            "   [1 2 3]]\n",
            "\n",
            "  [[0 0 3]\n",
            "   [1 1 1]\n",
            "   [2 3 2]]\n",
            "\n",
            "  [[0 3 3]\n",
            "   [1 1 0]\n",
            "   [3 2 4]]\n",
            "\n",
            "  [[3 3 1]\n",
            "   [1 0 1]\n",
            "   [2 4 4]]\n",
            "\n",
            "  [[3 1 0]\n",
            "   [0 1 3]\n",
            "   [4 4 3]]\n",
            "\n",
            "  [[1 0 0]\n",
            "   [1 3 4]\n",
            "   [4 3 0]]\n",
            "\n",
            "  [[0 0 0]\n",
            "   [3 4 3]\n",
            "   [3 0 4]]]\n",
            "\n",
            "\n",
            " [[[0 1 1]\n",
            "   [2 1 2]\n",
            "   [2 4 0]]\n",
            "\n",
            "  [[1 1 1]\n",
            "   [1 2 3]\n",
            "   [4 0 0]]\n",
            "\n",
            "  [[1 1 1]\n",
            "   [2 3 2]\n",
            "   [0 0 1]]\n",
            "\n",
            "  [[1 1 0]\n",
            "   [3 2 4]\n",
            "   [0 1 2]]\n",
            "\n",
            "  [[1 0 1]\n",
            "   [2 4 4]\n",
            "   [1 2 4]]\n",
            "\n",
            "  [[0 1 3]\n",
            "   [4 4 3]\n",
            "   [2 4 1]]\n",
            "\n",
            "  [[1 3 4]\n",
            "   [4 3 0]\n",
            "   [4 1 1]]\n",
            "\n",
            "  [[3 4 3]\n",
            "   [3 0 4]\n",
            "   [1 1 2]]]]\n"
          ]
        }
      ]
    },
    {
      "cell_type": "markdown",
      "source": [
        "**85.** `Z[i,j] == Z[j,i]`와 같은 2차원 배열 하위 클래스를 만든다."
      ],
      "metadata": {
        "id": "Ach2ZVT1zpoM"
      }
    },
    {
      "cell_type": "code",
      "source": [
        "class Symetric(np.ndarray) :\n",
        "    def __setitem__(self, index, value) :\n",
        "        i, j = index\n",
        "        super(Symetric, self).__setitem__((i,j), value)                           # 인덱스를 사용하여 아이템(i,j)에 값을 할당\n",
        "        super(Symetric, self).__setitem__((j,i), value)\n",
        "\n",
        "def symetric(Z) :\n",
        "    return np.asarray(Z + Z.T - np.diag(Z.diagonal())).view(Symetric)             # np.asarray()는 입력된 데이터를 np.ndarray()형식으로 생성 \n",
        "\n",
        "S = symetric(np.random.randint(0, 10, (5,5)))\n",
        "S[2, 3] = 42\n",
        "print(S)"
      ],
      "metadata": {
        "colab": {
          "base_uri": "https://localhost:8080/"
        },
        "id": "DI7Y7eS0zpbp",
        "outputId": "728c515c-b25d-4d4b-fb45-6fc2023ca9a2"
      },
      "execution_count": null,
      "outputs": [
        {
          "output_type": "stream",
          "name": "stdout",
          "text": [
            "[[ 6 14 15  3  8]\n",
            " [14  4  9  7 10]\n",
            " [15  9  1 42 11]\n",
            " [ 3  7 42  4  1]\n",
            " [ 8 10 11  1  5]]\n"
          ]
        }
      ]
    },
    {
      "cell_type": "markdown",
      "source": [
        "**86.** `형상(n,n)`이 있는 `p 행렬 집합`과 `형상(n,1)`이 있는 `p 벡터 집합`을 고려하여, <u>p 매트릭스 제품의 합계를 한 번에 계산하는 방법</u>을 알아본다."
      ],
      "metadata": {
        "id": "0uHRBOfG0ONz"
      }
    },
    {
      "cell_type": "code",
      "source": [
        "p, n = 10, 20\n",
        "M = np.ones((p,n,n))\n",
        "V = np.ones((p,n,1))\n",
        "S = np.tensordot(M, V, axes=[[0,2],[0,1]])                                        # 지정 축에 따라 텐서 도트 곱을 계산 \n",
        "print(S)"
      ],
      "metadata": {
        "colab": {
          "base_uri": "https://localhost:8080/"
        },
        "id": "7bFShdLk0NdO",
        "outputId": "c1ce0dbc-9158-458a-c6ea-b9284ea785fc"
      },
      "execution_count": null,
      "outputs": [
        {
          "output_type": "stream",
          "name": "stdout",
          "text": [
            "[[200.]\n",
            " [200.]\n",
            " [200.]\n",
            " [200.]\n",
            " [200.]\n",
            " [200.]\n",
            " [200.]\n",
            " [200.]\n",
            " [200.]\n",
            " [200.]\n",
            " [200.]\n",
            " [200.]\n",
            " [200.]\n",
            " [200.]\n",
            " [200.]\n",
            " [200.]\n",
            " [200.]\n",
            " [200.]\n",
            " [200.]\n",
            " [200.]]\n"
          ]
        }
      ]
    },
    {
      "cell_type": "markdown",
      "source": [
        "**87.** 16×16 어레이가 주어질 때, <u>4×4의 블록합계로 결과값을 가져오는 방법</u>을 알아본다."
      ],
      "metadata": {
        "id": "OMFTDdSZ0aRV"
      }
    },
    {
      "cell_type": "markdown",
      "source": [
        "```\n",
        "- np.add.reduceat()\n",
        "   : 주어진 배열의 인덱스를 고려하여 해당 인덱스부터 끝까지의 합계를 구해 배열로 반환\n",
        "```"
      ],
      "metadata": {
        "id": "QIhTkbnwFdBK"
      }
    },
    {
      "cell_type": "code",
      "source": [
        "Z  = np.ones((16,16))\n",
        "k = 4\n",
        "S = np.add.reduceat(np.add.reduceat(Z, np.arange(0, Z.shape[0], k), axis = 0),\n",
        "                                        np.arange(0, Z.shape[1], k), axis = 1)\n",
        "print(S)"
      ],
      "metadata": {
        "colab": {
          "base_uri": "https://localhost:8080/"
        },
        "id": "lYefWC6J0aJS",
        "outputId": "bbcf8f7c-bf51-40f6-8566-bd94ca1c9692"
      },
      "execution_count": null,
      "outputs": [
        {
          "output_type": "stream",
          "name": "stdout",
          "text": [
            "[[16. 16. 16. 16.]\n",
            " [16. 16. 16. 16.]\n",
            " [16. 16. 16. 16.]\n",
            " [16. 16. 16. 16.]]\n"
          ]
        }
      ]
    },
    {
      "cell_type": "markdown",
      "source": [
        "**88.** `numpy 배열`을 사용하여 <u>Game of Life를 구현하는 방법</u>을 알아본다."
      ],
      "metadata": {
        "id": "q9o-N0z20oNJ"
      }
    },
    {
      "cell_type": "markdown",
      "source": [
        "`Game Of Life` : 영국의 수학자 존 호턴 콘웨이가 고안해낸 세포 자동자의 일종으로, 가장 널리 알려진 세포 자동자 가운데 하나이다."
      ],
      "metadata": {
        "id": "G2CBAP6-ImdY"
      }
    },
    {
      "cell_type": "code",
      "source": [
        "def iterate(Z) :\n",
        "    N = (Z[0:-2,0:-2] + Z[0:-2,1:-1] + Z[0:-2, 2:] +\n",
        "         Z[1:-1,0:-2]                + Z[1:-1, 2:] + \n",
        "         Z[2:  ,0:-2] + Z[2:  ,1:-1] + Z[2:  , 2:])\n",
        "    \n",
        "    # 규칙 \n",
        "    birth = (N==3) & (Z[1:-1,1:-1]==0)                                            # AND 조건으로 두 조건이 모두 성립해야 True\n",
        "    survive = ((N==2) | (N==3)) & (Z[1:-1,1:-1]==1)                               # N의 값 조건은 OR 조건으로, 하나라도 True면 True, 둘 다 틀려야 False -> Z 조건과는 AND 조건 \n",
        "    Z[...] = 0                                                                    # Z의 모든 값 = 0 \n",
        "    Z[1:-1,1:-1][birth | survive] = 1                                             # 조건에 맞는 Z의 값 = 1 \n",
        "    return Z\n",
        "\n",
        "Z = np.random.randint(0,2,(50,50))\n",
        "for i in range(100) : Z = iterate(Z)\n",
        "print(Z)"
      ],
      "metadata": {
        "colab": {
          "base_uri": "https://localhost:8080/"
        },
        "id": "dmYI8Sio0oF2",
        "outputId": "00b069ba-4f68-4bf4-919c-503cc334b0b7"
      },
      "execution_count": null,
      "outputs": [
        {
          "output_type": "stream",
          "name": "stdout",
          "text": [
            "[[0 0 0 0 0 0 0 0 0 0 0 0 0 0 0 0 0 0 0 0 0 0 0 0 0 0 0 0 0 0 0 0 0 0 0 0\n",
            "  0 0 0 0 0 0 0 0 0 0 0 0 0 0]\n",
            " [0 0 0 0 0 0 0 0 0 0 0 0 0 0 0 0 0 0 0 0 0 0 0 0 0 0 0 0 0 0 0 0 0 0 0 0\n",
            "  0 0 0 0 0 0 0 0 0 0 0 0 0 0]\n",
            " [0 0 0 0 0 0 0 0 0 0 0 0 0 0 0 0 0 0 0 0 0 0 0 0 0 0 0 0 0 0 0 0 0 0 0 0\n",
            "  0 0 0 0 0 0 0 0 0 0 0 0 0 0]\n",
            " [0 0 0 0 0 0 0 0 0 0 0 0 0 0 0 0 0 0 0 0 0 0 0 0 0 0 0 0 0 0 0 0 0 0 0 0\n",
            "  0 0 0 0 0 0 0 0 0 0 0 0 0 0]\n",
            " [0 0 0 0 0 0 0 0 0 0 0 0 0 0 0 0 0 0 0 0 0 0 0 0 0 0 0 0 0 0 0 0 0 0 0 0\n",
            "  0 0 0 0 0 0 0 0 0 0 0 0 0 0]\n",
            " [0 0 0 0 0 0 0 0 0 0 0 0 0 0 0 0 0 0 0 0 0 0 0 0 0 0 0 0 0 0 0 0 0 0 0 0\n",
            "  0 0 0 0 0 0 0 0 0 0 0 0 0 0]\n",
            " [0 0 0 0 0 0 0 0 0 0 0 0 0 0 0 0 0 0 0 0 0 0 0 0 0 0 0 0 0 0 0 0 0 0 0 0\n",
            "  0 0 0 0 0 0 0 0 0 0 0 0 0 0]\n",
            " [0 0 0 0 0 0 0 0 0 0 0 0 0 0 0 0 0 0 0 0 0 0 0 0 0 0 0 0 0 0 0 0 0 0 0 0\n",
            "  0 0 0 0 0 0 0 0 0 0 0 0 0 0]\n",
            " [0 0 0 0 0 0 0 0 0 0 0 0 0 0 0 0 0 1 0 0 0 0 0 0 0 0 0 0 0 1 1 0 0 0 0 0\n",
            "  0 0 0 0 0 0 0 0 0 0 0 0 0 0]\n",
            " [0 0 0 0 0 0 0 0 0 0 0 0 0 0 0 0 1 0 1 0 0 0 0 0 0 0 0 0 0 1 1 0 0 0 0 0\n",
            "  0 0 0 0 0 0 0 0 0 0 0 0 0 0]\n",
            " [0 0 0 1 1 0 1 1 0 0 0 0 0 0 0 0 1 0 1 0 0 0 0 0 0 0 0 0 0 0 0 0 0 0 0 0\n",
            "  0 0 0 0 0 0 0 0 0 0 0 0 0 0]\n",
            " [0 0 0 1 1 0 1 1 0 0 0 0 0 0 0 0 0 1 0 0 0 0 0 0 0 0 0 0 0 0 0 0 0 0 0 0\n",
            "  0 0 0 0 0 0 0 0 0 0 0 0 0 0]\n",
            " [0 0 0 0 0 0 0 0 0 0 0 0 0 0 0 0 0 0 0 0 0 0 0 0 0 0 0 0 0 0 0 0 0 0 0 0\n",
            "  0 0 0 0 0 0 0 0 0 0 0 0 0 0]\n",
            " [0 0 0 0 0 0 0 0 0 0 0 0 0 0 0 0 0 0 0 0 0 0 0 0 0 0 0 0 0 0 0 0 0 0 0 0\n",
            "  0 0 0 0 0 0 0 0 0 0 0 0 0 0]\n",
            " [0 0 0 0 0 0 0 0 0 0 0 0 0 0 0 0 0 0 0 0 0 0 0 0 0 0 0 0 0 0 0 0 0 0 0 0\n",
            "  0 0 0 0 0 0 0 0 0 0 0 0 0 0]\n",
            " [0 0 0 0 0 0 0 0 0 0 0 0 0 0 0 0 0 0 0 0 0 0 0 0 0 0 0 0 0 0 0 0 0 0 0 0\n",
            "  0 0 0 0 0 0 0 0 0 0 0 0 0 0]\n",
            " [0 0 0 0 0 0 0 0 0 0 0 0 0 0 0 0 0 0 0 0 0 0 0 0 0 0 0 0 0 0 0 0 0 0 0 0\n",
            "  0 0 0 0 0 0 0 0 0 0 0 0 0 0]\n",
            " [0 0 0 0 0 0 0 1 1 0 0 0 0 0 0 0 0 0 0 0 0 0 0 0 0 0 0 0 0 0 0 0 0 0 0 0\n",
            "  0 0 0 0 0 0 0 0 0 0 0 0 0 0]\n",
            " [0 0 0 0 0 0 1 0 0 1 0 0 0 0 0 0 0 0 0 0 0 0 0 0 0 0 0 0 0 0 0 0 0 0 0 0\n",
            "  0 1 1 0 0 0 0 0 0 0 0 0 0 0]\n",
            " [0 0 0 0 0 0 0 1 1 0 0 0 0 0 0 0 0 0 0 0 0 0 0 0 0 0 1 1 0 0 0 0 0 0 0 0\n",
            "  1 0 0 1 0 0 0 0 0 0 0 0 0 0]\n",
            " [0 0 0 0 0 0 0 0 0 0 0 0 0 0 0 0 0 0 0 0 0 0 0 0 0 0 1 1 0 0 0 0 0 0 0 0\n",
            "  0 1 1 0 0 0 1 1 0 0 0 0 0 0]\n",
            " [0 0 0 0 0 0 0 0 0 0 0 0 0 0 0 0 0 0 0 0 0 0 0 0 0 0 0 0 0 0 0 0 0 0 0 0\n",
            "  0 0 0 0 0 1 0 0 1 0 0 0 0 0]\n",
            " [0 0 0 0 0 0 0 0 0 0 0 0 0 0 0 0 0 0 0 0 0 0 0 0 0 0 0 0 0 0 0 0 0 0 0 0\n",
            "  0 0 0 0 0 0 1 1 0 0 0 0 0 0]\n",
            " [0 0 0 0 0 0 0 0 0 0 0 0 0 0 0 0 0 0 0 0 0 0 0 0 0 0 0 0 0 0 0 0 0 0 0 0\n",
            "  0 0 0 0 0 0 0 0 0 0 0 0 0 0]\n",
            " [0 0 0 0 0 0 0 0 0 0 0 0 0 0 0 0 0 0 0 0 0 0 0 0 0 0 0 0 0 0 0 0 0 0 0 0\n",
            "  0 0 0 0 0 0 0 0 0 0 0 0 0 0]\n",
            " [0 0 0 0 0 0 0 0 0 0 0 0 1 0 0 0 0 0 0 0 0 0 0 0 0 0 0 0 0 0 0 0 0 0 0 0\n",
            "  0 0 0 0 0 0 0 0 0 0 0 0 0 0]\n",
            " [0 0 0 0 0 0 0 0 0 0 0 0 1 0 0 0 0 0 0 0 0 0 0 0 0 0 0 0 0 0 0 0 0 0 0 0\n",
            "  0 0 0 0 0 0 0 0 0 0 0 0 0 0]\n",
            " [0 0 0 0 0 0 0 0 0 0 0 0 1 0 0 0 0 0 0 0 0 0 0 0 0 0 0 0 0 0 0 0 0 0 0 0\n",
            "  0 0 0 0 0 0 0 0 0 0 0 0 0 0]\n",
            " [0 0 0 0 0 0 0 0 0 0 0 0 0 0 0 0 0 0 0 0 0 0 0 0 0 0 0 0 0 0 0 0 0 0 0 0\n",
            "  0 0 0 0 0 0 0 0 0 0 0 0 0 0]\n",
            " [0 0 0 0 0 0 0 0 0 0 0 0 0 0 0 0 0 0 0 0 0 0 0 0 0 0 0 0 0 0 0 0 0 0 1 0\n",
            "  0 0 0 0 0 0 0 0 0 0 0 0 0 0]\n",
            " [0 0 0 0 0 0 0 0 0 0 0 0 0 0 0 0 0 0 0 0 0 0 0 0 0 0 0 0 0 0 0 0 0 0 1 0\n",
            "  0 0 0 0 0 0 0 0 0 0 0 0 0 0]\n",
            " [0 0 0 0 0 0 0 0 0 0 0 0 0 0 0 0 0 0 0 0 0 0 0 0 0 0 0 0 0 0 0 0 0 0 1 0\n",
            "  0 0 0 0 0 0 0 0 0 0 0 0 0 0]\n",
            " [0 0 0 0 0 0 0 0 0 0 0 0 0 0 0 0 1 1 0 0 0 0 0 0 0 0 0 0 0 0 0 0 0 0 0 0\n",
            "  0 0 0 0 0 0 0 0 0 0 0 0 0 0]\n",
            " [0 0 0 0 0 0 0 0 0 0 0 0 0 0 0 1 1 0 0 0 0 0 0 0 0 0 0 0 0 0 0 0 0 0 0 0\n",
            "  0 0 0 0 0 0 0 0 0 0 0 0 0 0]\n",
            " [0 0 0 0 0 0 0 0 0 0 0 0 0 0 0 0 0 1 0 0 0 0 0 0 0 0 0 0 0 0 0 0 0 0 0 0\n",
            "  0 0 0 0 0 0 0 0 0 0 0 0 0 0]\n",
            " [0 0 0 0 0 0 0 0 0 0 0 0 0 0 0 0 0 1 0 0 0 0 0 0 1 1 0 0 0 0 0 0 0 0 0 0\n",
            "  0 0 0 0 0 1 1 0 0 0 0 0 0 0]\n",
            " [0 0 0 0 0 0 0 0 0 0 0 0 0 0 0 0 0 1 1 1 0 0 0 0 1 1 1 0 0 0 0 0 0 0 0 0\n",
            "  0 0 0 0 1 0 0 1 0 0 0 0 0 0]\n",
            " [0 0 0 0 0 0 0 0 0 0 0 0 0 0 0 0 0 0 0 0 0 0 0 0 0 1 0 0 0 0 0 0 0 0 0 0\n",
            "  0 0 0 0 0 1 0 1 0 0 0 0 0 0]\n",
            " [0 0 0 0 0 0 0 0 0 0 0 0 0 0 0 0 0 1 0 0 0 0 1 0 1 0 0 0 0 0 0 0 0 0 0 0\n",
            "  0 0 0 0 0 0 1 0 0 0 0 0 0 0]\n",
            " [0 0 0 0 0 0 0 0 0 0 0 0 1 1 0 1 1 1 0 0 0 1 1 0 0 0 0 0 0 0 0 0 0 0 0 0\n",
            "  0 0 0 0 0 0 0 0 0 0 0 0 0 0]\n",
            " [0 0 0 0 0 0 0 0 0 0 0 1 0 1 0 0 1 0 0 1 1 1 0 0 0 0 0 0 0 0 0 0 0 0 0 0\n",
            "  0 0 0 0 0 0 0 0 0 0 0 0 0 0]\n",
            " [0 0 0 0 0 0 0 0 0 0 1 1 0 1 0 1 0 0 0 0 1 0 0 0 0 0 0 0 0 0 0 0 0 1 1 1\n",
            "  0 0 0 0 0 0 0 0 0 0 0 0 0 0]\n",
            " [0 0 0 0 0 0 0 0 0 0 0 1 1 0 0 0 1 0 1 1 0 0 0 0 0 0 0 0 0 0 0 0 0 0 0 0\n",
            "  0 0 0 0 0 0 0 0 0 0 0 0 0 0]\n",
            " [0 0 0 0 0 0 0 0 0 0 0 0 1 0 0 0 0 1 1 0 0 0 0 0 0 0 0 0 0 0 0 0 0 0 0 0\n",
            "  0 0 0 0 0 0 0 0 0 0 0 0 0 0]\n",
            " [0 0 0 0 0 0 0 0 0 0 0 0 0 0 0 0 0 1 0 0 0 0 0 0 0 0 0 0 0 0 0 0 0 0 0 0\n",
            "  0 0 0 0 0 0 0 0 0 1 0 0 0 0]\n",
            " [0 0 0 0 0 0 0 0 0 0 0 0 0 0 0 0 0 0 0 0 0 0 0 0 0 0 0 0 0 0 0 0 0 0 0 0\n",
            "  0 0 0 0 0 0 0 0 0 1 0 0 0 0]\n",
            " [0 0 0 0 0 0 0 0 0 0 0 0 0 0 0 0 0 0 0 0 0 0 0 0 0 0 0 0 0 0 0 0 0 0 0 0\n",
            "  0 0 0 0 0 0 0 0 0 1 0 0 0 0]\n",
            " [0 0 0 0 0 0 0 0 0 0 0 0 0 0 0 0 0 0 0 0 0 0 0 0 0 0 0 0 0 0 0 0 0 0 0 0\n",
            "  0 0 0 0 0 0 0 0 0 0 0 0 0 0]\n",
            " [0 0 0 0 0 0 0 0 0 0 0 0 0 0 0 0 0 0 0 0 0 0 0 0 0 0 0 0 0 0 0 0 0 0 0 0\n",
            "  0 0 0 0 0 0 0 0 0 0 0 0 0 0]\n",
            " [0 0 0 0 0 0 0 0 0 0 0 0 0 0 0 0 0 0 0 0 0 0 0 0 0 0 0 0 0 0 0 0 0 0 0 0\n",
            "  0 0 0 0 0 0 0 0 0 0 0 0 0 0]]\n"
          ]
        }
      ]
    },
    {
      "cell_type": "markdown",
      "source": [
        "**89.** `배열의 최대값 n개`를 가져오는 방법을 알아본다."
      ],
      "metadata": {
        "id": "RCjn7zdB1hAq"
      }
    },
    {
      "cell_type": "code",
      "source": [
        "Z = np.arange(10000)\n",
        "np.random.shuffle(Z)                                                              # 원소 순서를 무작위로 섞기\n",
        "n = 5\n",
        "\n",
        "print(Z[np.argsort(Z)[-n:]])                                                      # 전체 배열을 정렬 후 인덱스로 가져오기\n",
        "\n",
        "print(Z[np.argpartition(-Z,n)[:n]])                                               # 배열 내 가장 작은 값을 찾고 인덱스 반환 "
      ],
      "metadata": {
        "colab": {
          "base_uri": "https://localhost:8080/"
        },
        "id": "N4M_fOoY1gjE",
        "outputId": "678fc823-9398-4695-abf0-8c5b6b23b61d"
      },
      "execution_count": null,
      "outputs": [
        {
          "output_type": "stream",
          "name": "stdout",
          "text": [
            "[9995 9996 9997 9998 9999]\n",
            "[9997 9998 9996 9999 9995]\n"
          ]
        }
      ]
    },
    {
      "cell_type": "markdown",
      "source": [
        "**90.** 임의의 수의 벡터가 주어지면, `데카르트 곱(모든 항목의 모든 조합)을` 작성한다."
      ],
      "metadata": {
        "id": "T8T9C6An1rzF"
      }
    },
    {
      "cell_type": "code",
      "source": [
        "from pandas.core.arrays import categorical\n",
        "def cartesian(arrays) :\n",
        "    arrays = [np.asarray(a) for a in arrays]                                      # 이미 ndarray의 데이터 형태가 설정되어 있다면, 데이터 형태가 다를 경우에만 복사 -> 데이터형태가 같을 때는 복사하지 않는다.\n",
        "    shape = (len(x) for x in arrays)\n",
        "\n",
        "    ix = np.indices(shape, dtype=int)                                             # 격자의 인덱스를 나타내는 배열\n",
        "    ix  = ix.reshape(len(arrays), -1).T\n",
        "\n",
        "    for n, arr in enumerate(arrays) : \n",
        "        ix[:, n] = arrays[n][ix[:,n]]\n",
        "\n",
        "    return ix\n",
        "\n",
        "print(cartesian(([1,2,3],[4,5],[6,7])))"
      ],
      "metadata": {
        "colab": {
          "base_uri": "https://localhost:8080/"
        },
        "id": "Z_igV-JU1rQQ",
        "outputId": "deaf98e4-1156-4dfe-c1e3-31eb657617a3"
      },
      "execution_count": null,
      "outputs": [
        {
          "output_type": "stream",
          "name": "stdout",
          "text": [
            "[[1 4 6]\n",
            " [1 4 7]\n",
            " [1 5 6]\n",
            " [1 5 7]\n",
            " [2 4 6]\n",
            " [2 4 7]\n",
            " [2 5 6]\n",
            " [2 5 7]\n",
            " [3 4 6]\n",
            " [3 4 7]\n",
            " [3 5 6]\n",
            " [3 5 7]]\n"
          ]
        }
      ]
    },
    {
      "cell_type": "markdown",
      "source": [
        "**91.** 정규 배열에서 레코드 배열을 만드는 방법을 알아본다."
      ],
      "metadata": {
        "id": "HpV_HpLav0Sw"
      }
    },
    {
      "cell_type": "code",
      "source": [
        "Z = np.array([(\"Hello\", 2.5, 3),\n",
        "              (\"World\", 3.6, 2)])\n",
        "\n",
        "R = np.core.records.fromarrays(Z.T, names=\"col1, col2, col3\",\n",
        "                               formats = \"S8, f8, i8,\")                           # 정규 배열에서 레코드 배열 생성 -> 레코드 배열은 인덱스 대신 속성별로 구조화된 배열 필드에 엑세스 가능 \n",
        "\n",
        "print(R)"
      ],
      "metadata": {
        "colab": {
          "base_uri": "https://localhost:8080/"
        },
        "id": "ZQ0tyOS5vzTD",
        "outputId": "671a131e-b0d1-4b8b-93e9-765c580063d4"
      },
      "execution_count": null,
      "outputs": [
        {
          "output_type": "stream",
          "name": "stdout",
          "text": [
            "[(b'Hello', 2.5, 3) (b'World', 3.6, 2)]\n"
          ]
        }
      ]
    },
    {
      "cell_type": "markdown",
      "source": [
        "**92.** `큰 벡터 Z`를 고려하여, 3개의 다른 방법을 사용하여 <u>Z를 3의 거듭제곱으로 계산한다.</u>"
      ],
      "metadata": {
        "id": "16W1j9uS2CuY"
      }
    },
    {
      "cell_type": "markdown",
      "source": [
        "`% timeit` : 함수 및 코드 실행시간 측정 "
      ],
      "metadata": {
        "id": "r4UX7NIq8xOO"
      }
    },
    {
      "cell_type": "code",
      "source": [
        "x = np.random.rand(int(5e7))\n",
        "\n",
        "%timeit np.power(x,3)                                                             # 제곱 함수 \n",
        "%timeit x*x*x                                                                     # 벡터의 3번 곱\n",
        "%timeit np.einsum('i,i,i -> i', x,x,x)                                            # Einsum 표기법은 특수한 Domain Specific Language를 이용해 이 모든 행렬 연산을 표기하는 방법"
      ],
      "metadata": {
        "colab": {
          "base_uri": "https://localhost:8080/"
        },
        "id": "BDuB9aiZ2B-v",
        "outputId": "3d63e92f-b838-413f-a92e-ed240e29650c"
      },
      "execution_count": null,
      "outputs": [
        {
          "output_type": "stream",
          "name": "stdout",
          "text": [
            "2.14 s ± 10.9 ms per loop (mean ± std. dev. of 7 runs, 1 loop each)\n",
            "62.3 ms ± 977 µs per loop (mean ± std. dev. of 7 runs, 10 loops each)\n",
            "54 ms ± 1.27 ms per loop (mean ± std. dev. of 7 runs, 10 loops each)\n"
          ]
        }
      ]
    },
    {
      "cell_type": "markdown",
      "source": [
        "**93.**  `형상 (8,3)`과 `(2,2)`의 두 배열 A와 B를 고려하여, *B의 원소 순서와 상관없이* <u>B의 각 행이 포함된 A의 행을 찾는 방법</u>을 알아본다."
      ],
      "metadata": {
        "id": "iKjvwIKX2KkM"
      }
    },
    {
      "cell_type": "code",
      "source": [
        "A = np.random.randint(0,5,(8,3))\n",
        "B = np.random.randint(0,5,(2,2))\n",
        "C = (A[..., np.newaxis, np.newaxis] == B)                                         # A에 2차원을 추가한 배열과 B를 비교\n",
        "\n",
        "# any()를 통해 각 그룹 행별로 값을 비교하여 True값이 하나라도 있으면 True\n",
        "# all()을 통해 각 행이 모두 True인 것만 반환\n",
        "rows = np.where(C.any((3,1)).all(1))[0]                                           # 구한 값의 행 인덱스 구하기\n",
        "print(rows)"
      ],
      "metadata": {
        "colab": {
          "base_uri": "https://localhost:8080/"
        },
        "id": "6BDbAiEU2KU9",
        "outputId": "5281f395-4b6b-4565-816b-09255fcdecff"
      },
      "execution_count": null,
      "outputs": [
        {
          "output_type": "stream",
          "name": "stdout",
          "text": [
            "[1 3]\n"
          ]
        }
      ]
    },
    {
      "cell_type": "markdown",
      "source": [
        "**94.** 10×3 행렬을 고려하여, <u>값이 동일하지 않은 행</u>을 추출한다."
      ],
      "metadata": {
        "id": "Zbb45XKl2YQG"
      }
    },
    {
      "cell_type": "code",
      "source": [
        "Z = np.random.randint(0,5,(10,3))\n",
        "print(f\"Z: {Z}\")\n",
        "\n",
        "E = np.all(Z[:, 1:] == Z[:, :-1], axis=1)                                         # 문자열 배열과 레코드 배열을 포함하는 모든 dtype 배열의 방법\n",
        "U = Z[~E]\n",
        "print(f\"U: {U}\")\n",
        "\n",
        "U = Z[Z.max(axis=1) != Z.min(axis=1), :]                                          # 숫자 배열에 대한 방법으로, Z의 모든 열에 대해 작동 \n",
        "print(f\"U: {U}\")"
      ],
      "metadata": {
        "colab": {
          "base_uri": "https://localhost:8080/"
        },
        "id": "KX-YNf7j2Y-S",
        "outputId": "723105ba-3f4e-420b-e27f-15283255933b"
      },
      "execution_count": null,
      "outputs": [
        {
          "output_type": "stream",
          "name": "stdout",
          "text": [
            "Z: [[3 0 2]\n",
            " [1 3 0]\n",
            " [0 0 3]\n",
            " [4 4 2]\n",
            " [3 2 3]\n",
            " [2 4 0]\n",
            " [4 1 4]\n",
            " [1 1 0]\n",
            " [1 3 4]\n",
            " [4 1 1]]\n",
            "U: [[3 0 2]\n",
            " [1 3 0]\n",
            " [0 0 3]\n",
            " [4 4 2]\n",
            " [3 2 3]\n",
            " [2 4 0]\n",
            " [4 1 4]\n",
            " [1 1 0]\n",
            " [1 3 4]\n",
            " [4 1 1]]\n",
            "U: [[3 0 2]\n",
            " [1 3 0]\n",
            " [0 0 3]\n",
            " [4 4 2]\n",
            " [3 2 3]\n",
            " [2 4 0]\n",
            " [4 1 4]\n",
            " [1 1 0]\n",
            " [1 3 4]\n",
            " [4 1 1]]\n"
          ]
        }
      ]
    },
    {
      "cell_type": "markdown",
      "source": [
        "**95.** `int의 벡터`를 `행렬 이항 표현`으로 변환한다. "
      ],
      "metadata": {
        "id": "hVFH6ABm2pVn"
      }
    },
    {
      "cell_type": "code",
      "source": [
        "I = np.array([0,1,2,3,15,16,32,64,128])\n",
        "B = ((I.reshape(-1,1) & (2**np.arange(8))) != 0).astype(int)\n",
        "print(B[:,::-1])                                                                  # 기존 B를 반대로 출력\n",
        "\n",
        "print()\n",
        "\n",
        "I = np.array([0,1,2,3,15,16,32,64,128], dtype=np.uint8)                           \n",
        "print(np.unpackbits(I[:, np.newaxis], axis=1))                                    # np.unpackbits : 배열의 요소를 이진 값 출력 배열로 압축 해제"
      ],
      "metadata": {
        "colab": {
          "base_uri": "https://localhost:8080/"
        },
        "id": "A2YyXuqe2nvc",
        "outputId": "dec0d032-74e4-491e-a745-ce13d19bb5ab"
      },
      "execution_count": null,
      "outputs": [
        {
          "output_type": "stream",
          "name": "stdout",
          "text": [
            "[[0 0 0 0 0 0 0 0]\n",
            " [0 0 0 0 0 0 0 1]\n",
            " [0 0 0 0 0 0 1 0]\n",
            " [0 0 0 0 0 0 1 1]\n",
            " [0 0 0 0 1 1 1 1]\n",
            " [0 0 0 1 0 0 0 0]\n",
            " [0 0 1 0 0 0 0 0]\n",
            " [0 1 0 0 0 0 0 0]\n",
            " [1 0 0 0 0 0 0 0]]\n",
            "\n",
            "[[0 0 0 0 0 0 0 0]\n",
            " [0 0 0 0 0 0 0 1]\n",
            " [0 0 0 0 0 0 1 0]\n",
            " [0 0 0 0 0 0 1 1]\n",
            " [0 0 0 0 1 1 1 1]\n",
            " [0 0 0 1 0 0 0 0]\n",
            " [0 0 1 0 0 0 0 0]\n",
            " [0 1 0 0 0 0 0 0]\n",
            " [1 0 0 0 0 0 0 0]]\n"
          ]
        }
      ]
    },
    {
      "cell_type": "markdown",
      "source": [
        "**96.** 2차원 배열이 주어진 경우, <u>고유 행을 추출하는 방법을 알아본다</u>."
      ],
      "metadata": {
        "id": "jCyB81Zp2_yP"
      }
    },
    {
      "cell_type": "markdown",
      "source": [
        "```\n",
        "- np.ascontiguousarray\n",
        "  : 메모리에 연속적으로 저장되지 않는 배열을 연속적으로 저장되는 배열로 변환하기 때문에 더 빠르게 데이터를 불러올 수 있다.\n",
        "- np.unique \n",
        "  : 고유한 값들만 모아서 반환한다.\n",
        "```"
      ],
      "metadata": {
        "id": "poL06G0H6aDW"
      }
    },
    {
      "cell_type": "code",
      "source": [
        "Z = np.random.randint(0,2,(6,3))\n",
        "T = np.ascontiguousarray(Z).view(np.dtype((np.void, Z.dtype.itemsize*Z.shape[1])))\n",
        "_, idx = np.unique(T, return_index=True)\n",
        "uZ = Z[idx]\n",
        "print(uZ)\n",
        "\n",
        "print() \n",
        "\n",
        "uZ = np.unique(Z, axis=0)\n",
        "print(uZ)"
      ],
      "metadata": {
        "colab": {
          "base_uri": "https://localhost:8080/"
        },
        "id": "Z_CRXOG22_nh",
        "outputId": "aa6bdfeb-a4c9-4534-a0b2-933208af4f50"
      },
      "execution_count": null,
      "outputs": [
        {
          "output_type": "stream",
          "name": "stdout",
          "text": [
            "[[0 0 1]\n",
            " [0 1 0]\n",
            " [1 0 0]\n",
            " [1 0 1]\n",
            " [1 1 1]]\n",
            "\n",
            "[[0 0 1]\n",
            " [0 1 0]\n",
            " [1 0 0]\n",
            " [1 0 1]\n",
            " [1 1 1]]\n"
          ]
        }
      ]
    },
    {
      "cell_type": "markdown",
      "source": [
        "**97.** 2개의 벡터 A와 B를 고려하여, <u> 내부 곱, 외부 곱, 더하기, 곱하기 함수에 해당</u>하는 `einsum`을 작성해본다."
      ],
      "metadata": {
        "id": "g84zbDIi3iTy"
      }
    },
    {
      "cell_type": "markdown",
      "source": [
        "> **Einsum 표기법** 은 특수한 Domain Specific Language를 이용해 **이 모든 행렬 연산을 표기하는 방법**이다."
      ],
      "metadata": {
        "id": "IkZCCqBA5j5S"
      }
    },
    {
      "cell_type": "code",
      "source": [
        "A = np.random.uniform(0,1,10)\n",
        "B = np.random.uniform(0,1,10)\n",
        "\n",
        "print(np.einsum('i->', A))                                                        # 합\n",
        "print(np.einsum('i, i->i', A,B))                                                  # 곱\n",
        "print(np.einsum('i, i', A, B))                                                    # 내적\n",
        "print(np.einsum('i, j->ij', A,B))                                                 # 외적"
      ],
      "metadata": {
        "colab": {
          "base_uri": "https://localhost:8080/"
        },
        "id": "lfWx0T1E3gZ0",
        "outputId": "6882506c-def5-45eb-bca5-249549e6f217"
      },
      "execution_count": null,
      "outputs": [
        {
          "output_type": "stream",
          "name": "stdout",
          "text": [
            "5.035524720928564\n",
            "[2.84895362e-02 2.69056131e-01 1.00734317e-01 1.83066758e-01\n",
            " 3.13869624e-01 5.94242849e-01 1.49728980e-01 2.19988621e-02\n",
            " 3.88546778e-05 3.86300081e-01]\n",
            "2.0475259920646023\n",
            "[[2.84895362e-02 8.05292730e-02 2.76480842e-02 1.18435039e-01\n",
            "  7.88902725e-02 2.01357106e-01 4.92662216e-02 1.44874056e-01\n",
            "  1.96576225e-02 1.39363491e-01]\n",
            " [9.51863105e-02 2.69056131e-01 9.23749375e-02 3.95702981e-01\n",
            "  2.63580071e-01 6.72753668e-01 1.64603236e-01 4.84038308e-01\n",
            "  6.56780279e-02 4.65626974e-01]\n",
            " [1.03800102e-01 2.93404101e-01 1.00734317e-01 4.31511734e-01\n",
            "  2.87432490e-01 7.33633850e-01 1.79498845e-01 5.27840879e-01\n",
            "  7.16214966e-02 5.07763430e-01]\n",
            " [4.40366894e-02 1.24475265e-01 4.27360449e-02 1.83066758e-01\n",
            "  1.21941839e-01 3.11240599e-01 7.61515134e-02 2.23933930e-01\n",
            "  3.03850722e-02 2.15416170e-01]\n",
            " [1.13347308e-01 3.20390484e-01 1.09999541e-01 4.71200822e-01\n",
            "  3.13869624e-01 8.01111176e-01 1.96008582e-01 5.76390018e-01\n",
            "  7.82090158e-02 5.54465908e-01]\n",
            " [8.40780022e-02 2.37657094e-01 8.15947184e-02 3.49524169e-01\n",
            "  2.32820094e-01 5.94242849e-01 1.45393925e-01 4.27550702e-01\n",
            "  5.80133566e-02 4.11287984e-01]\n",
            " [8.65848661e-02 2.44743062e-01 8.40275410e-02 3.59945558e-01\n",
            "  2.39761842e-01 6.11960753e-01 1.49728980e-01 4.40298525e-01\n",
            "  5.97430789e-02 4.23550919e-01]\n",
            " [4.32608428e-03 1.22282237e-02 4.19831132e-03 1.79841454e-02\n",
            "  1.19793444e-02 3.05757104e-02 7.48098617e-03 2.19988621e-02\n",
            "  2.98497423e-03 2.11620928e-02]\n",
            " [5.63115784e-05 1.59171790e-04 5.46483892e-05 2.34095211e-04\n",
            "  1.55932190e-04 3.97996526e-04 9.73781629e-05 2.86353794e-04\n",
            "  3.88546778e-05 2.75461773e-04]\n",
            " [7.89698223e-02 2.23218178e-01 7.66374111e-02 3.28288742e-01\n",
            "  2.18675051e-01 5.58139477e-01 1.36560481e-01 4.01574754e-01\n",
            "  5.44887408e-02 3.86300081e-01]]\n"
          ]
        }
      ]
    },
    {
      "cell_type": "markdown",
      "source": [
        "**98.** `두 벡터(X,Y)`가 설명하는 경로를 고려하여, <u>등거리 표본을 사용하여 샘플링하는 방법</u>을 알아본다.\n"
      ],
      "metadata": {
        "id": "6S5ePauv3q4R"
      }
    },
    {
      "cell_type": "code",
      "source": [
        "phi = np.arange(0, 10*np.pi, 0.1)\n",
        "a = 1\n",
        "x = a*phi*np.cos(phi)\n",
        "y = a*phi*np.sin(phi)\n",
        "\n",
        "dr = (np.diff(x)**2 + np.diff(y)**2)**.5                                          # numpy.diff : 주어진 축을 따라 n번째 이산 차이 계산 -> 각각의 배열 원소 간 1차 차분 구하기\n",
        "r = np.zeros_like(x)                                                              # np.zeros_like : 어떤 특정 어레이와 같은 사이즈, 크기의 zeros 어레이 구하기 \n",
        "r[1:] = np.cumsum(dr)                                                             # np.cumsum : 배열에서 주어진 축에 따라 누적되는 원소들의 누적 합을 계산하기\n",
        "r_int = np.linspace(0, r.max(), 200)                                              # np.linspace : 구간 내 숫자 배열 생성하기\n",
        "x_int = np.interp(r_int, r,x)                                                     # np.interp(a, b, c) : 진행할 a 범위, 원래 데이터가 존재하는 배열 b, 원래 데이터가 존재하는 c 배열 \n",
        "y_int = np.interp(r_int, r, y)"
      ],
      "metadata": {
        "id": "xIjA9HhS3yp_"
      },
      "execution_count": null,
      "outputs": []
    },
    {
      "cell_type": "markdown",
      "source": [
        "**99.** `정수 n`과 `2차원 배열 X`가 주어지면, <u>X에서 n도를 갖는 다항 분포에서 끌어온 것으로 해석될 수 있는 행을 선택</u>한다."
      ],
      "metadata": {
        "id": "kdlBlt9D3rCx"
      }
    },
    {
      "cell_type": "markdown",
      "source": [
        "`np.asarray()`\n",
        "  - 이미 ndarray의 데이터 형태가 설정되어 있다면, 데이터 형태가 다를 경우에만 복사   \n",
        "-> 데이터형태가 같을 때는 복사하지 않는다.\n",
        "\n",
        "`np.mod()`\n",
        "  - 요소별 나눗셈의 나머지\n",
        "\n"
      ],
      "metadata": {
        "id": "uwfKaxLdHYDA"
      }
    },
    {
      "cell_type": "code",
      "source": [
        "X = np.asarray([[1.0, 0.0, 3.0, 8.0],\n",
        "                [2.0, 0.0, 1.0, 1.0],\n",
        "                [1.5, 2.5, 1.0, 0.0]])\n",
        "\n",
        "n = 4\n",
        "M = np.logical_and.reduce(np.mod(X, 1) == 0, axis=-1)\n",
        "M &= (X.sum(axis=-1) == n)\n",
        "print(X[M])"
      ],
      "metadata": {
        "colab": {
          "base_uri": "https://localhost:8080/"
        },
        "id": "Q7MkFmUy31UH",
        "outputId": "28991023-8e38-4449-e49a-5e6ee94f2fd7"
      },
      "execution_count": null,
      "outputs": [
        {
          "output_type": "stream",
          "name": "stdout",
          "text": [
            "[[2. 0. 1. 1.]]\n"
          ]
        }
      ]
    },
    {
      "cell_type": "markdown",
      "source": [
        "**100.** `1차원 어레이 X의 평균`에 대한 <u>부트스트랩 95% 신뢰 구간 계산</u>을 한다.   \n",
        "*즉, 어레이의 요소를 교체 N번으로 다시 샘플링하고 각 표본의 평균을 계산한 다음, 평균에 대한 백분위수를 계산한 것을 의미한다.*\n",
        "\n",
        "**부트스트랩 계산** \n",
        "  > 모수의 분포를 추정하는 방법에 있어서 강력한 방법으로 기존의 표본으로부터 추가적인 표본을 복원 추출을 하여 표본에 대한 통계랑을 다시 계산하는 것이다.\n",
        "```\n",
        "(1) n개의 표본으로부터 m개의 중복을 허용하는 표본을 뽑는다.\n",
        "(2) m개의 추출된 추가 표본의 평균을 구한다.\n",
        "(3) 이렇게 평균을 구하는 과정을 총 k번 반복한다.(여기서 k는 부트스트랩의 반복 횟수가 된다.)\n",
        "(4) 평균에 대한 k번의 결과를 사용하여 신뢰구간을 구하여 분포에 대한 정보를 얻을 수 있다.\n",
        "```\n",
        "\n",
        "  "
      ],
      "metadata": {
        "id": "QYESI7rI3rN4"
      }
    },
    {
      "cell_type": "code",
      "source": [
        "X = np.random.randn(100)\n",
        "N = 1000\n",
        "idx = np.random.randint(0, X.size, (N,X.size))\n",
        "means = X[idx].mean(axis=1)\n",
        "confint = np.percentile(means, [2.5, 97.5])                                       # np.percentile : 백분위수 구하기 -> 2.5%, 97.5%의 백분율의 중분위수\n",
        "print(confint)"
      ],
      "metadata": {
        "colab": {
          "base_uri": "https://localhost:8080/"
        },
        "id": "TTxdSJoM311B",
        "outputId": "53dc615e-ec33-4c9b-a49a-ed17ebdc8184"
      },
      "execution_count": null,
      "outputs": [
        {
          "output_type": "stream",
          "name": "stdout",
          "text": [
            "[-0.30997555  0.08257293]\n"
          ]
        }
      ]
    }
  ]
}