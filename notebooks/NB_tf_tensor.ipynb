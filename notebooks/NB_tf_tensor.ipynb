{
  "cells": [
    {
      "cell_type": "markdown",
      "metadata": {
        "id": "qFdPvlXBOdUN"
      },
      "source": [
        "# 2.6. 부록: 텐서플로우 텐서"
      ]
    },
    {
      "cell_type": "markdown",
      "metadata": {
        "id": "y39VTN9WFAG1"
      },
      "source": [
        "**참고**\n",
        "\n",
        "[Introduction to Tensors](https://www.tensorflow.org/guide/tensor)를 요약, 정리한 내용입니다."
      ]
    },
    {
      "cell_type": "code",
      "execution_count": 1,
      "metadata": {
        "id": "ztRnHSFJFAG1"
      },
      "outputs": [],
      "source": [
        "import tensorflow as tf\n",
        "import numpy as np"
      ]
    },
    {
      "cell_type": "markdown",
      "metadata": {
        "id": "TPl7tN7qFAG2"
      },
      "source": [
        "## 상수 텐서와 변수 텐서"
      ]
    },
    {
      "cell_type": "markdown",
      "metadata": {
        "id": "ndQbmG6DFAG2"
      },
      "source": [
        "텐서플로우는 두 종류의 텐서 자료형을 지원한다.\n",
        "\n",
        "- `tf.Tensor` 자료형\n",
        "    - 상수 텐서\n",
        "    - 입출력 데이터 등 변하지 않는 값을 다룰 때 사용.\n",
        "    - 불변 자료형\n",
        "- `tf.Variable` 자료형\n",
        "    - 변수 텐서\n",
        "    - 모델의 가중치, 편향 등 항목의 업데이트가 필요할 때 사용되는 텐서.\n",
        "    - 가변 자료형\n",
        "\n",
        "사용법은 기본적으로 넘파이 어레이와 유사하며, GPU 연산과 그레이디언트 자동계산 등\n",
        "신경망 모델 훈련에 최적화된 기능을 제공한다.\n"
      ]
    },
    {
      "cell_type": "markdown",
      "metadata": {
        "id": "H5vru5j1FAG2"
      },
      "source": [
        "### 상수 텐서"
      ]
    },
    {
      "cell_type": "markdown",
      "metadata": {
        "id": "m0vwISUoFAG3"
      },
      "source": [
        "상수 텐서를 다양한 방식으로 생성할 수 있다.\n",
        "아래 코드는 직접 상수 텐서의 모양과 항목을 지정한다."
      ]
    },
    {
      "cell_type": "code",
      "execution_count": 2,
      "metadata": {
        "id": "Ik-7kgRvFAG3",
        "outputId": "5e6203c3-d986-438e-de77-3de29930ccde",
        "colab": {
          "base_uri": "https://localhost:8080/"
        }
      },
      "outputs": [
        {
          "output_type": "stream",
          "name": "stdout",
          "text": [
            "tf.Tensor(\n",
            "[[1. 2.]\n",
            " [3. 4.]], shape=(2, 2), dtype=float32)\n"
          ]
        }
      ],
      "source": [
        "x = tf.constant([[1., 2.], [3., 4.]])\n",
        "print(x)"
      ]
    },
    {
      "cell_type": "markdown",
      "metadata": {
        "id": "RWRNWl6ZFAG4"
      },
      "source": [
        "넘파이 어레이의 경우와 거의 유사하게 다양한 텐서를 생성하는 함수들이 제공된다.\n",
        "`tf.ones()` 함수는 1로만 이루어진 상수 텐서를 생성한다."
      ]
    },
    {
      "cell_type": "code",
      "execution_count": 3,
      "metadata": {
        "id": "i9cKkurOFAG4",
        "outputId": "5208ce93-96ca-49a0-f184-28a23df68a27",
        "colab": {
          "base_uri": "https://localhost:8080/"
        }
      },
      "outputs": [
        {
          "output_type": "stream",
          "name": "stdout",
          "text": [
            "tf.Tensor(\n",
            "[[1.]\n",
            " [1.]], shape=(2, 1), dtype=float32)\n"
          ]
        }
      ],
      "source": [
        "x = tf.ones(shape=(2, 1))\n",
        "print(x)"
      ]
    },
    {
      "cell_type": "markdown",
      "metadata": {
        "id": "G7j6TGhMFAG4"
      },
      "source": [
        "반면에 `tf.zeros()` 텐서는 0으로만 이루어진 상수 텐서를 생성한다."
      ]
    },
    {
      "cell_type": "code",
      "execution_count": 4,
      "metadata": {
        "id": "RnQI7pjoFAG4",
        "outputId": "36a7a2c3-b07f-46d8-d571-aec48ab40bc1",
        "colab": {
          "base_uri": "https://localhost:8080/"
        }
      },
      "outputs": [
        {
          "output_type": "stream",
          "name": "stdout",
          "text": [
            "tf.Tensor(\n",
            "[[0.]\n",
            " [0.]], shape=(2, 1), dtype=float32)\n"
          ]
        }
      ],
      "source": [
        "x = tf.zeros(shape=(2, 1))\n",
        "print(x)"
      ]
    },
    {
      "cell_type": "markdown",
      "metadata": {
        "id": "jObv20fhFAG4"
      },
      "source": [
        "확률적 통계 분포를 따르는 항목으로 구성된 상수 텐서를 생성하는 함수는 딥러닝에서 매우 유용하다."
      ]
    },
    {
      "cell_type": "markdown",
      "metadata": {
        "id": "IhYg7coSFAG4"
      },
      "source": [
        "- `normal()` 함수: 평균값(`mean`)과 표준편차(`stddev`)를 지정하면 해당 정규분포를 따르는 항목들을 이용하여\n",
        "원하는 모양의 상수 텐서를 생성한다."
      ]
    },
    {
      "cell_type": "code",
      "execution_count": 5,
      "metadata": {
        "id": "Sbkziq-8FAG5",
        "outputId": "30a65b88-c0d9-44aa-d64c-0685d39beb09",
        "colab": {
          "base_uri": "https://localhost:8080/"
        }
      },
      "outputs": [
        {
          "output_type": "stream",
          "name": "stdout",
          "text": [
            "tf.Tensor(\n",
            "[[-0.5644841 ]\n",
            " [-0.76016265]\n",
            " [ 0.30502525]], shape=(3, 1), dtype=float32)\n"
          ]
        }
      ],
      "source": [
        "x = tf.random.normal(shape=(3, 1), mean=0., stddev=1.)\n",
        "print(x)"
      ]
    },
    {
      "cell_type": "markdown",
      "metadata": {
        "id": "-zqwCJ7hFAG5"
      },
      "source": [
        "- `uniform()` 함수: 지정된 구간 최솟값(`minval`)과 최댓값(`maxval`) 사이에서 균등분포를 따르는 항목들을 이용하여 상수 텐서를 생성한다."
      ]
    },
    {
      "cell_type": "code",
      "execution_count": 6,
      "metadata": {
        "id": "qmYorXi5FAG5",
        "outputId": "06edee6b-0c9b-4243-d03f-54cdfc969fa3",
        "colab": {
          "base_uri": "https://localhost:8080/"
        }
      },
      "outputs": [
        {
          "output_type": "stream",
          "name": "stdout",
          "text": [
            "tf.Tensor(\n",
            "[[0.33661604]\n",
            " [0.09824598]\n",
            " [0.32487237]], shape=(3, 1), dtype=float32)\n"
          ]
        }
      ],
      "source": [
        "x = tf.random.uniform(shape=(3, 1), minval=0., maxval=1.)\n",
        "print(x)"
      ]
    },
    {
      "cell_type": "markdown",
      "metadata": {
        "id": "CV8pyHNnFAG5"
      },
      "source": [
        "**수정 불가능성**"
      ]
    },
    {
      "cell_type": "markdown",
      "metadata": {
        "id": "K-bMeTbTFAG5"
      },
      "source": [
        "한 번 생성된 상수 텐서는 수정이 불가능하다.\n",
        "예를 들어 인덱싱으로 항목을 수정할 수 없다."
      ]
    },
    {
      "cell_type": "markdown",
      "metadata": {
        "id": "Vg5KyONiFAG6"
      },
      "source": [
        "```python\n",
        ">>> x[0, 0] = 1.0\n",
        "TypeError                                 Traceback (most recent call last)\n",
        "<ipython-input-7-242a5d4d3c4a> in <module>\n",
        "----> 1 x[0, 0] = 1.0\n",
        "\n",
        "TypeError: 'tensorflow.python.framework.ops.EagerTensor' object does not support item assignment\n",
        "```"
      ]
    },
    {
      "cell_type": "markdown",
      "metadata": {
        "id": "Ll1rQVG3FAG6"
      },
      "source": [
        "반면에 넘파이 어레이는 수정이 가능하다."
      ]
    },
    {
      "cell_type": "code",
      "execution_count": 7,
      "metadata": {
        "id": "l5lUVJ3bFAG6",
        "outputId": "a18e4480-b231-429c-b5d6-e525e1fafac9",
        "colab": {
          "base_uri": "https://localhost:8080/"
        }
      },
      "outputs": [
        {
          "output_type": "stream",
          "name": "stdout",
          "text": [
            "[[0. 1.]\n",
            " [1. 1.]]\n"
          ]
        }
      ],
      "source": [
        "y = np.ones(shape=(2, 2))\n",
        "\n",
        "y[0, 0] = 0.0\n",
        "print(y)"
      ]
    },
    {
      "cell_type": "markdown",
      "metadata": {
        "id": "RaMXIVgVFAG6"
      },
      "source": [
        "**텐서 항목의 자료형**"
      ]
    },
    {
      "cell_type": "markdown",
      "metadata": {
        "id": "k2xvuVdJFAG7"
      },
      "source": [
        "텐서 항목의 자료형은 `EagerTensor` 라는 텐서다."
      ]
    },
    {
      "cell_type": "code",
      "execution_count": 8,
      "metadata": {
        "id": "96zsfMQzFAG7",
        "outputId": "4e84cd10-b13f-48a7-bad6-19cc07e7a69e",
        "colab": {
          "base_uri": "https://localhost:8080/"
        }
      },
      "outputs": [
        {
          "output_type": "execute_result",
          "data": {
            "text/plain": [
              "tensorflow.python.framework.ops.EagerTensor"
            ]
          },
          "metadata": {},
          "execution_count": 8
        }
      ],
      "source": [
        "type(x[0, 0])"
      ]
    },
    {
      "cell_type": "markdown",
      "metadata": {
        "id": "VujYaZeAFAG7"
      },
      "source": [
        "### 변수 텐서"
      ]
    },
    {
      "cell_type": "markdown",
      "metadata": {
        "id": "DDnj9VdMFAG7"
      },
      "source": [
        "`tf.Variaible` 객체는 항목을 수정할 수 있는 가변 텐서이다.\n",
        "아래 코드는 정규 분포를 이용하여 (3. 1) 모양의 변수 텐서를 생성한다."
      ]
    },
    {
      "cell_type": "code",
      "execution_count": 9,
      "metadata": {
        "id": "0aTLKr4mFAG7",
        "outputId": "69422e5c-3eaa-421d-d941-350ee753dcef",
        "colab": {
          "base_uri": "https://localhost:8080/"
        }
      },
      "outputs": [
        {
          "output_type": "stream",
          "name": "stdout",
          "text": [
            "<tf.Variable 'Variable:0' shape=(3, 1) dtype=float32, numpy=\n",
            "array([[-1.3837979 ],\n",
            "       [-0.23704937],\n",
            "       [-0.9790895 ]], dtype=float32)>\n"
          ]
        }
      ],
      "source": [
        "v = tf.Variable(initial_value=tf.random.normal(shape=(3, 1)))\n",
        "print(v)"
      ]
    },
    {
      "cell_type": "markdown",
      "metadata": {
        "id": "3cHdR9y3FAG7"
      },
      "source": [
        "**변수 텐서 교체**"
      ]
    },
    {
      "cell_type": "markdown",
      "metadata": {
        "id": "3UhHAaaIFAG7"
      },
      "source": [
        "`assign()` 메서드는 해당 텐서를 통채로 다른 텐서로 대체한다."
      ]
    },
    {
      "cell_type": "code",
      "execution_count": 10,
      "metadata": {
        "id": "x6Q4b_S6FAG7",
        "outputId": "b8bfc8de-6547-4534-fd15-bca4e3edcf56",
        "colab": {
          "base_uri": "https://localhost:8080/"
        }
      },
      "outputs": [
        {
          "output_type": "execute_result",
          "data": {
            "text/plain": [
              "<tf.Variable 'UnreadVariable' shape=(3, 1) dtype=float32, numpy=\n",
              "array([[1.],\n",
              "       [1.],\n",
              "       [1.]], dtype=float32)>"
            ]
          },
          "metadata": {},
          "execution_count": 10
        }
      ],
      "source": [
        "v.assign(tf.ones((3, 1)))"
      ]
    },
    {
      "cell_type": "markdown",
      "metadata": {
        "id": "QpdPpCRGFAG7"
      },
      "source": [
        "단, 대체하는 텐서의 모양(shape)이 기존 텐서의 모양과 동일해야 한다."
      ]
    },
    {
      "cell_type": "markdown",
      "metadata": {
        "id": "mCCnDJrXFAG8"
      },
      "source": [
        "```python\n",
        ">>> v.assign(tf.ones((3, 2)))\n",
        "ValueError                                Traceback (most recent call last)\n",
        "<ipython-input-13-e381ab0c94e6> in <module>\n",
        "----> 1 v.assign(tf.ones((3, 2)))\n",
        "\n",
        "~\\anaconda3\\lib\\site-packages\\tensorflow\\python\\ops\\resource_variable_ops.py in assign(self, value, use_locking, name, read_value)\n",
        "    886         else:\n",
        "    887           tensor_name = \" \" + str(self.name)\n",
        "--> 888         raise ValueError(\n",
        "    889             (\"Cannot assign to variable%s due to variable shape %s and value \"\n",
        "    890              \"shape %s are incompatible\") %\n",
        "\n",
        "ValueError: Cannot assign to variable Variable:0 due to variable shape (3, 1) and value shape (3, 2) are incompatible\n",
        "```"
      ]
    },
    {
      "cell_type": "markdown",
      "metadata": {
        "id": "jdwzz0TTFAG8"
      },
      "source": [
        "**변수 텐서 항목 변경**"
      ]
    },
    {
      "cell_type": "markdown",
      "metadata": {
        "id": "Hj152rUhFAG8"
      },
      "source": [
        "변수 텐서의 특정 항목을 수정하려면 인덱싱과 `assign()` 메서드를 함께 사용한다.\n",
        "이것이 가능한 이유는 텐서의 항목 또한 텐서이기 때문이다."
      ]
    },
    {
      "cell_type": "code",
      "execution_count": 11,
      "metadata": {
        "id": "PzUFJcg6FAG8",
        "outputId": "b08c53e2-f8f4-4ca2-a158-26b1a004d2f4",
        "colab": {
          "base_uri": "https://localhost:8080/"
        }
      },
      "outputs": [
        {
          "output_type": "execute_result",
          "data": {
            "text/plain": [
              "<tf.Tensor: shape=(), dtype=float32, numpy=1.0>"
            ]
          },
          "metadata": {},
          "execution_count": 11
        }
      ],
      "source": [
        "v[0, 0]"
      ]
    },
    {
      "cell_type": "code",
      "execution_count": 12,
      "metadata": {
        "id": "IwTXxgGDFAG8",
        "outputId": "1985fa71-596d-4c9b-ea61-b16f8736f40c",
        "colab": {
          "base_uri": "https://localhost:8080/"
        }
      },
      "outputs": [
        {
          "output_type": "execute_result",
          "data": {
            "text/plain": [
              "tensorflow.python.framework.ops.EagerTensor"
            ]
          },
          "metadata": {},
          "execution_count": 12
        }
      ],
      "source": [
        "type(v[0, 0])"
      ]
    },
    {
      "cell_type": "markdown",
      "metadata": {
        "id": "4OJZrvZiFAG8"
      },
      "source": [
        "상수 텐서의 경우처럼 각 항목은 `EagerTensor` 객체이지만 이번엔 항목 변환이 가능하다.\n",
        "텐서플로우 내부에서 변수 텐서인 경우와 아닌 경우를 구분해서 `assign()` 메서드의 지원여부를\n",
        "판단하는 것으로 보인다."
      ]
    },
    {
      "cell_type": "code",
      "execution_count": 13,
      "metadata": {
        "id": "AEVgeGYIFAG8",
        "outputId": "8236ec7e-bf07-4eb2-929a-60a50861cbc8",
        "colab": {
          "base_uri": "https://localhost:8080/"
        }
      },
      "outputs": [
        {
          "output_type": "execute_result",
          "data": {
            "text/plain": [
              "<tf.Variable 'UnreadVariable' shape=(3, 1) dtype=float32, numpy=\n",
              "array([[3.],\n",
              "       [1.],\n",
              "       [1.]], dtype=float32)>"
            ]
          },
          "metadata": {},
          "execution_count": 13
        }
      ],
      "source": [
        "v[0, 0].assign(3.)"
      ]
    },
    {
      "cell_type": "markdown",
      "metadata": {
        "id": "X-gFG2uaFAG_"
      },
      "source": [
        "* `assign_add()`와 `assign_sub()`"
      ]
    },
    {
      "cell_type": "markdown",
      "metadata": {
        "id": "CYM5RzvMFAHA"
      },
      "source": [
        "`assign_sub()` 함수는 텐서 자료형의 메서드이며 `-=` 연산자와 동일한 기능을 수행한다.\n",
        "이외에 `assign_add()` 메서드는 `+=` 연산자의 기능을 갖는다."
      ]
    },
    {
      "cell_type": "code",
      "execution_count": 14,
      "metadata": {
        "id": "M-42Xd2hFAHA",
        "outputId": "3d0dcab7-a8d1-4dad-efd6-2a75f12fee7f",
        "colab": {
          "base_uri": "https://localhost:8080/"
        }
      },
      "outputs": [
        {
          "output_type": "execute_result",
          "data": {
            "text/plain": [
              "<tf.Variable 'UnreadVariable' shape=(3, 1) dtype=float32, numpy=\n",
              "array([[4.],\n",
              "       [2.],\n",
              "       [2.]], dtype=float32)>"
            ]
          },
          "metadata": {},
          "execution_count": 14
        }
      ],
      "source": [
        "v.assign_add(tf.ones((3, 1)))"
      ]
    },
    {
      "cell_type": "markdown",
      "metadata": {
        "id": "DRK5-9EpYbzG"
      },
      "source": [
        "## 랭크(차원)와 축"
      ]
    },
    {
      "cell_type": "markdown",
      "metadata": {
        "id": "H8BfYqp2FAHA"
      },
      "source": [
        "텐서는 사용되는 축<font size='2'>axis</font>의 개수에 따라\n",
        "랭크<font size='2'>rank</font>가 정해진다.\n",
        "랭크를 차원<font size='2'>dimension</font>이라 부르기도 한다.\n",
        "텐서는 보통 `tf.constant()` 함수를 이용하여 생성한다."
      ]
    },
    {
      "cell_type": "markdown",
      "metadata": {
        "id": "uSHRFT6LJbxq"
      },
      "source": [
        "**스칼라: 랭크-0 텐서**\n",
        "\n",
        "스칼라는 하나의 정수 또는 하나의 부동소수점만 포함하며 따라서 축이 없다.\n",
        "스칼라는 랭크-0 텐서라고도 불린다.\n",
        "아래 `rank_0_tensor`는 int32 자료형인 정수 4를 포함한 스칼라를 가리킨다."
      ]
    },
    {
      "cell_type": "code",
      "execution_count": 15,
      "metadata": {
        "colab": {
          "base_uri": "https://localhost:8080/"
        },
        "id": "d5JcgLFR6gHv",
        "outputId": "92062dc0-8ee8-4ab1-c48b-5f3dbdbac72e"
      },
      "outputs": [
        {
          "output_type": "stream",
          "name": "stdout",
          "text": [
            "tf.Tensor(4, shape=(), dtype=int32)\n"
          ]
        }
      ],
      "source": [
        "rank_0_tensor = tf.constant(4)\n",
        "print(rank_0_tensor)"
      ]
    },
    {
      "cell_type": "markdown",
      "metadata": {
        "id": "tdmPAn9fWYs5"
      },
      "source": [
        "**벡터: 랭크-1 텐서**\n",
        "\n",
        "벡터는 하나의 축을 가지며 여러 개의 값을 포함한다.\n",
        "아래 `rank_1_tensor`는 세 개의 부동소수점으로 구성된 벡터를 가리킨다."
      ]
    },
    {
      "cell_type": "code",
      "execution_count": 16,
      "metadata": {
        "colab": {
          "base_uri": "https://localhost:8080/"
        },
        "id": "oZos8o_R6oE7",
        "outputId": "bb0bd995-39df-4c8c-f14a-b199abcc4e39"
      },
      "outputs": [
        {
          "output_type": "stream",
          "name": "stdout",
          "text": [
            "tf.Tensor([2. 3. 4.], shape=(3,), dtype=float32)\n"
          ]
        }
      ],
      "source": [
        "rank_1_tensor = tf.constant([2.0, 3.0, 4.0])\n",
        "print(rank_1_tensor)"
      ]
    },
    {
      "cell_type": "markdown",
      "metadata": {
        "id": "G3IJG-ug_H4u"
      },
      "source": [
        "**행렬: 랭크-2 텐서**\n",
        "\n",
        "행렬에는 두 개의 축이 있다.\n",
        "아래 `rank_2_tensor`는 랭크-2 텐서를 가리킨다.\n",
        "또한 `dtype` 키워드 인자를 이용하여 자료형을 `float16`으로 지정하였다.\n",
        "지정하지 않았다면 `rank_0_tensor`의 경우처럼 `float32`로\n",
        "`dtype`으로 자동 지정되었을 것이다.\n",
        "참고로 `float32`는 `float16` 보다 보다 큰 정수를 다룰 수 있으며\n",
        "따라서 보다 많은 메모리와 계산 시간이 소비된다.\n",
        "\n",
        "딥러닝 모델은 경우에 따라 매우 큰 텐서 연산을 실행해야 하기에\n",
        "계산의 시간적, 공간적 효율성이 매우 중요하다.\n",
        "따라서 반드시 필요한 만큼의 메모리를 확보하는\n",
        "`dtype`을 지정하는 일이 중요하다."
      ]
    },
    {
      "cell_type": "code",
      "execution_count": 17,
      "metadata": {
        "colab": {
          "base_uri": "https://localhost:8080/"
        },
        "id": "cnOIA_xb6u0M",
        "outputId": "0ce161c5-204f-4fb8-f8e6-e02125f5e847"
      },
      "outputs": [
        {
          "output_type": "stream",
          "name": "stdout",
          "text": [
            "tf.Tensor(\n",
            "[[1. 2.]\n",
            " [3. 4.]\n",
            " [5. 6.]], shape=(3, 2), dtype=float16)\n"
          ]
        }
      ],
      "source": [
        "rank_2_tensor = tf.constant([[1, 2],\n",
        "                             [3, 4],\n",
        "                             [5, 6]], dtype=tf.float16)\n",
        "print(rank_2_tensor)"
      ]
    },
    {
      "cell_type": "markdown",
      "metadata": {
        "id": "tLKeaT2x0VDA"
      },
      "source": [
        "**스칼라, 벡터, 행렬의 모양**"
      ]
    },
    {
      "cell_type": "markdown",
      "metadata": {
        "id": "bIOtzJkx1Sx4"
      },
      "source": [
        "텐서의 모양<font size='2'>shape</font>은 텐서의 축 별로 포함된\n",
        "항목의 수에 대한 정보를 담는다."
      ]
    },
    {
      "cell_type": "markdown",
      "metadata": {
        "id": "vwoSeifA11i3"
      },
      "source": [
        "- `rank_0_tensor` 스칼라의 모양: 스칼라는 축이 없기에 모양 정보도 없음"
      ]
    },
    {
      "cell_type": "code",
      "execution_count": 18,
      "metadata": {
        "colab": {
          "base_uri": "https://localhost:8080/"
        },
        "id": "_UoKVkxx1wa3",
        "outputId": "be2c0f5f-e310-48a6-e612-f3ef8876c5e5"
      },
      "outputs": [
        {
          "output_type": "execute_result",
          "data": {
            "text/plain": [
              "TensorShape([])"
            ]
          },
          "metadata": {},
          "execution_count": 18
        }
      ],
      "source": [
        "rank_0_tensor.shape"
      ]
    },
    {
      "cell_type": "markdown",
      "metadata": {
        "id": "j1bONVnP14tu"
      },
      "source": [
        "- `rank_1_tensor` 벡터의 모양: 0번 축에 3개의 항목"
      ]
    },
    {
      "cell_type": "code",
      "execution_count": 19,
      "metadata": {
        "colab": {
          "base_uri": "https://localhost:8080/"
        },
        "id": "T4qTC9xj1r2-",
        "outputId": "9d97c36c-817d-4bb9-eaad-421eb01c4fbf"
      },
      "outputs": [
        {
          "output_type": "execute_result",
          "data": {
            "text/plain": [
              "TensorShape([3])"
            ]
          },
          "metadata": {},
          "execution_count": 19
        }
      ],
      "source": [
        "rank_1_tensor.shape"
      ]
    },
    {
      "cell_type": "markdown",
      "metadata": {
        "id": "nV66kknc16am"
      },
      "source": [
        "- `rank_2_tensor` 행렬의 모양: 0번 축에 3개의 항목, 1번 축에 2개의 항목"
      ]
    },
    {
      "cell_type": "code",
      "execution_count": 20,
      "metadata": {
        "colab": {
          "base_uri": "https://localhost:8080/"
        },
        "id": "ae2gUXM00ddx",
        "outputId": "39aa294b-83ce-43cb-f59b-de3027bcad7a"
      },
      "outputs": [
        {
          "output_type": "execute_result",
          "data": {
            "text/plain": [
              "TensorShape([3, 2])"
            ]
          },
          "metadata": {},
          "execution_count": 20
        }
      ],
      "source": [
        "rank_2_tensor.shape"
      ]
    },
    {
      "cell_type": "markdown",
      "metadata": {
        "id": "GTJyzLFG1-Vz"
      },
      "source": [
        "그림으로 나타내면 다음과 같다."
      ]
    },
    {
      "cell_type": "markdown",
      "metadata": {
        "id": "19m72qEPkfxi"
      },
      "source": [
        "<table>\n",
        "<tr>\n",
        "  <th>스칼라, 모양: <code>[]</code> </th>\n",
        "  <th>벡터, 모양: <code>[3]</code> </th>\n",
        "  <th>행렬, 모양: <code>[3, 2]</code> </th>\n",
        "</tr>\n",
        "<tr>\n",
        "  <td>    <img src=\"https://raw.githubusercontent.com/tensorflow/docs/master/site/en/guide/images/tensor/scalar.png\" alt=\"A scalar, the number 4\"> </td>\n",
        "  <td>    <img src=\"https://raw.githubusercontent.com/tensorflow/docs/master/site/en/guide/images/tensor/vector.png\" alt=\"The line with 3 sections, each one containing a number.\">   </td>\n",
        "  <td>    <img src=\"https://raw.githubusercontent.com/tensorflow/docs/master/site/en/guide/images/tensor/matrix.png\" alt=\"A 3x2 grid, with each cell containing a number.\">   </td>\n",
        "</tr>\n",
        "</table>\n"
      ]
    },
    {
      "cell_type": "markdown",
      "metadata": {
        "id": "fjFvzcn4_ehD"
      },
      "source": [
        "**랭크-3 텐서**\n",
        "\n",
        "세 개의 축을 사용한다."
      ]
    },
    {
      "cell_type": "code",
      "execution_count": 21,
      "metadata": {
        "colab": {
          "base_uri": "https://localhost:8080/"
        },
        "id": "sesW7gw6JkXy",
        "outputId": "82e1df64-6d21-4521-d4b8-a888d408f1eb"
      },
      "outputs": [
        {
          "output_type": "stream",
          "name": "stdout",
          "text": [
            "tf.Tensor(\n",
            "[[[ 0  1  2  3  4]\n",
            "  [ 5  6  7  8  9]]\n",
            "\n",
            " [[10 11 12 13 14]\n",
            "  [15 16 17 18 19]]\n",
            "\n",
            " [[20 21 22 23 24]\n",
            "  [25 26 27 28 29]]], shape=(3, 2, 5), dtype=int32)\n"
          ]
        }
      ],
      "source": [
        "rank_3_tensor = tf.constant([\n",
        "  [[0, 1, 2, 3, 4],\n",
        "   [5, 6, 7, 8, 9]],\n",
        "  [[10, 11, 12, 13, 14],\n",
        "   [15, 16, 17, 18, 19]],\n",
        "  [[20, 21, 22, 23, 24],\n",
        "   [25, 26, 27, 28, 29]]\n",
        "  ])\n",
        "\n",
        "print(rank_3_tensor)"
      ]
    },
    {
      "cell_type": "markdown",
      "metadata": {
        "id": "jL8vtmlPEPc2"
      },
      "source": [
        "모양은 다음과 같이 세 개의 축 각각에 사용된 항목의 수로 구성된\n",
        "길이가 3인 리스트처럼 생겼다."
      ]
    },
    {
      "cell_type": "code",
      "execution_count": 22,
      "metadata": {
        "colab": {
          "base_uri": "https://localhost:8080/"
        },
        "id": "bwJOO9393pZU",
        "outputId": "8a4f6e7b-ecd4-4aca-ba75-f1833faf3cab"
      },
      "outputs": [
        {
          "output_type": "execute_result",
          "data": {
            "text/plain": [
              "TensorShape([3, 2, 5])"
            ]
          },
          "metadata": {},
          "execution_count": 22
        }
      ],
      "source": [
        "rank_3_tensor.shape"
      ]
    },
    {
      "cell_type": "markdown",
      "metadata": {
        "id": "rM2sTGIkoE3S"
      },
      "source": [
        "랭크-3 텐서를 여러 가지 방식으로 시각화할 수 있다."
      ]
    },
    {
      "cell_type": "markdown",
      "metadata": {
        "id": "NFiYfNMMhDgL"
      },
      "source": [
        "<table>\n",
        "<tr>\n",
        "  <th colspan=\"3\">rank_3_tensor의 모양: <code>[3, 2, 5]</code> </th>\n",
        "</tr>\n",
        "<tr>\n",
        "</tr>\n",
        "<tr>\n",
        "  <td>    <img src=\"https://raw.githubusercontent.com/tensorflow/docs/master/site/en/guide/images/tensor/3-axis_numpy.png\">   </td>\n",
        "  <td>    <img src=\"https://raw.githubusercontent.com/tensorflow/docs/master/site/en/guide/images/tensor/3-axis_front.png\">   </td>\n",
        "  <td>    <img src=\"https://raw.githubusercontent.com/tensorflow/docs/master/site/en/guide/images/tensor/3-axis_block.png\">   </td>\n",
        "</tr>\n",
        "</table>"
      ]
    },
    {
      "cell_type": "markdown",
      "metadata": {
        "id": "UVEXofKY4aQA"
      },
      "source": [
        "## 넘파이 어레이로의 변환"
      ]
    },
    {
      "cell_type": "markdown",
      "metadata": {
        "id": "oWAc0U8OZwNb"
      },
      "source": [
        "`np.array()` 함수 또는 `tensor.numpy()` 메서드를 이용하여\n",
        "`tf.tensor`를 `np.ndarray` 로 변환할 수 있다."
      ]
    },
    {
      "cell_type": "code",
      "execution_count": 23,
      "metadata": {
        "colab": {
          "base_uri": "https://localhost:8080/"
        },
        "id": "J5u6_6ZYaS7B",
        "outputId": "e94a904a-81b5-48dd-88d3-b731306265d5"
      },
      "outputs": [
        {
          "output_type": "execute_result",
          "data": {
            "text/plain": [
              "array([[1., 2.],\n",
              "       [3., 4.],\n",
              "       [5., 6.]], dtype=float16)"
            ]
          },
          "metadata": {},
          "execution_count": 23
        }
      ],
      "source": [
        "np.array(rank_2_tensor)"
      ]
    },
    {
      "cell_type": "code",
      "execution_count": 24,
      "metadata": {
        "colab": {
          "base_uri": "https://localhost:8080/"
        },
        "id": "c6Taz2gIaZeo",
        "outputId": "1606f4f9-02f5-4b31-c175-6bc3a6d69b20"
      },
      "outputs": [
        {
          "output_type": "execute_result",
          "data": {
            "text/plain": [
              "array([[1., 2.],\n",
              "       [3., 4.],\n",
              "       [5., 6.]], dtype=float16)"
            ]
          },
          "metadata": {},
          "execution_count": 24
        }
      ],
      "source": [
        "rank_2_tensor.numpy()"
      ]
    },
    {
      "cell_type": "markdown",
      "metadata": {
        "id": "iC4qi08M6ECo"
      },
      "source": [
        "## 텐서 연산"
      ]
    },
    {
      "cell_type": "markdown",
      "metadata": {
        "id": "SDC7OGeAIJr8"
      },
      "source": [
        "텐서의 덧셈과 곱셈은 항목별로 이루어진다."
      ]
    },
    {
      "cell_type": "code",
      "execution_count": 25,
      "metadata": {
        "id": "-DTkjwDOIIDa"
      },
      "outputs": [],
      "source": [
        "a = tf.constant([[1, 2],\n",
        "                 [3, 4]])"
      ]
    },
    {
      "cell_type": "code",
      "execution_count": 26,
      "metadata": {
        "id": "NhKbjOVRIt9t"
      },
      "outputs": [],
      "source": [
        "b = tf.ones([2, 2], dtype='int32')"
      ]
    },
    {
      "cell_type": "markdown",
      "metadata": {
        "id": "znHZXDv2JO4A"
      },
      "source": [
        "- 항목별 덧셈: `tf.add()` 함수 또는 `+` 연산자 이용"
      ]
    },
    {
      "cell_type": "code",
      "source": [
        "a"
      ],
      "metadata": {
        "id": "zPyno7xAFW5q",
        "outputId": "035b977a-946f-4cc3-e333-9642115f9402",
        "colab": {
          "base_uri": "https://localhost:8080/"
        }
      },
      "execution_count": 27,
      "outputs": [
        {
          "output_type": "execute_result",
          "data": {
            "text/plain": [
              "<tf.Tensor: shape=(2, 2), dtype=int32, numpy=\n",
              "array([[1, 2],\n",
              "       [3, 4]], dtype=int32)>"
            ]
          },
          "metadata": {},
          "execution_count": 27
        }
      ]
    },
    {
      "cell_type": "code",
      "source": [
        "b"
      ],
      "metadata": {
        "id": "nMMB14_NFZmP",
        "outputId": "4fca91ce-3dfe-4c39-afba-1d71a36c9e63",
        "colab": {
          "base_uri": "https://localhost:8080/"
        }
      },
      "execution_count": 28,
      "outputs": [
        {
          "output_type": "execute_result",
          "data": {
            "text/plain": [
              "<tf.Tensor: shape=(2, 2), dtype=int32, numpy=\n",
              "array([[1, 1],\n",
              "       [1, 1]], dtype=int32)>"
            ]
          },
          "metadata": {},
          "execution_count": 28
        }
      ]
    },
    {
      "cell_type": "code",
      "execution_count": 29,
      "metadata": {
        "colab": {
          "base_uri": "https://localhost:8080/"
        },
        "id": "rVwcWTZVIaWs",
        "outputId": "fb29bb3d-5d0e-41c9-9c53-e1bffb6c0b7e"
      },
      "outputs": [
        {
          "output_type": "execute_result",
          "data": {
            "text/plain": [
              "<tf.Tensor: shape=(2, 2), dtype=int32, numpy=\n",
              "array([[2, 3],\n",
              "       [4, 5]], dtype=int32)>"
            ]
          },
          "metadata": {},
          "execution_count": 29
        }
      ],
      "source": [
        "tf.add(a, b)"
      ]
    },
    {
      "cell_type": "code",
      "execution_count": 30,
      "metadata": {
        "colab": {
          "base_uri": "https://localhost:8080/"
        },
        "id": "Hy0Z7DMoJSvh",
        "outputId": "b6ce0d64-a0de-40dd-9f89-d217e1714b41"
      },
      "outputs": [
        {
          "output_type": "execute_result",
          "data": {
            "text/plain": [
              "<tf.Tensor: shape=(2, 2), dtype=int32, numpy=\n",
              "array([[2, 3],\n",
              "       [4, 5]], dtype=int32)>"
            ]
          },
          "metadata": {},
          "execution_count": 30
        }
      ],
      "source": [
        "a + b"
      ]
    },
    {
      "cell_type": "markdown",
      "metadata": {
        "id": "WyjB5xH1JolF"
      },
      "source": [
        "- 항목별 곱셈: `tf.multiply()` 함수 또는 `+` 연산자 이용"
      ]
    },
    {
      "cell_type": "code",
      "execution_count": 31,
      "metadata": {
        "colab": {
          "base_uri": "https://localhost:8080/"
        },
        "id": "jpsE-F7RIbWt",
        "outputId": "44deeda4-3853-48e5-c32b-37688b002d89"
      },
      "outputs": [
        {
          "output_type": "execute_result",
          "data": {
            "text/plain": [
              "<tf.Tensor: shape=(2, 2), dtype=int32, numpy=\n",
              "array([[1, 2],\n",
              "       [3, 4]], dtype=int32)>"
            ]
          },
          "metadata": {},
          "execution_count": 31
        }
      ],
      "source": [
        "tf.multiply(a, b)"
      ]
    },
    {
      "cell_type": "code",
      "execution_count": 32,
      "metadata": {
        "colab": {
          "base_uri": "https://localhost:8080/"
        },
        "id": "hR3P68mzJXuU",
        "outputId": "76500260-1e26-4282-9046-f6c3d5b24a88"
      },
      "outputs": [
        {
          "output_type": "execute_result",
          "data": {
            "text/plain": [
              "<tf.Tensor: shape=(2, 2), dtype=int32, numpy=\n",
              "array([[1, 2],\n",
              "       [3, 4]], dtype=int32)>"
            ]
          },
          "metadata": {},
          "execution_count": 32
        }
      ],
      "source": [
        "a * b"
      ]
    },
    {
      "cell_type": "markdown",
      "metadata": {
        "id": "cvedOlDNKrf0"
      },
      "source": [
        "행렬(랭크-2 텐서) 연산은 항목별 연산과 다르다."
      ]
    },
    {
      "cell_type": "markdown",
      "metadata": {
        "id": "cICxfBgbJCzT"
      },
      "source": [
        "- 행렬 연산: `tf.matmul()` 함수 또는 `@` 연산자 이용"
      ]
    },
    {
      "cell_type": "code",
      "execution_count": 33,
      "metadata": {
        "colab": {
          "base_uri": "https://localhost:8080/"
        },
        "id": "raXYqSlzIcMF",
        "outputId": "eb037daa-1643-4e2c-873c-c1a5f964e007"
      },
      "outputs": [
        {
          "output_type": "execute_result",
          "data": {
            "text/plain": [
              "<tf.Tensor: shape=(2, 2), dtype=int32, numpy=\n",
              "array([[3, 3],\n",
              "       [7, 7]], dtype=int32)>"
            ]
          },
          "metadata": {},
          "execution_count": 33
        }
      ],
      "source": [
        "tf.matmul(a, b)"
      ]
    },
    {
      "cell_type": "code",
      "execution_count": 34,
      "metadata": {
        "colab": {
          "base_uri": "https://localhost:8080/"
        },
        "id": "2smoWeUz-N2q",
        "outputId": "d50981a1-4c73-42bc-f3a1-74b5ce8d6bcf"
      },
      "outputs": [
        {
          "output_type": "execute_result",
          "data": {
            "text/plain": [
              "<tf.Tensor: shape=(2, 2), dtype=int32, numpy=\n",
              "array([[3, 3],\n",
              "       [7, 7]], dtype=int32)>"
            ]
          },
          "metadata": {},
          "execution_count": 34
        }
      ],
      "source": [
        "a @ b"
      ]
    },
    {
      "cell_type": "markdown",
      "metadata": {
        "id": "S3_vIAl2JPVc"
      },
      "source": [
        "이외에도 텐서는 다양한 종류의 연산에 활용된다."
      ]
    },
    {
      "cell_type": "code",
      "execution_count": 35,
      "metadata": {
        "id": "Gp4WUYzGIbnv"
      },
      "outputs": [],
      "source": [
        "c = tf.constant([[4.0, 5.0], [10.0, 1.0]])"
      ]
    },
    {
      "cell_type": "markdown",
      "metadata": {
        "id": "v9YXrXULK-cO"
      },
      "source": [
        "- 최대 항목 찾기"
      ]
    },
    {
      "cell_type": "code",
      "execution_count": 36,
      "metadata": {
        "colab": {
          "base_uri": "https://localhost:8080/"
        },
        "id": "-sYXzOW5KDYt",
        "outputId": "5e762372-1e84-497f-9f73-f58955340421"
      },
      "outputs": [
        {
          "output_type": "execute_result",
          "data": {
            "text/plain": [
              "<tf.Tensor: shape=(), dtype=float32, numpy=10.0>"
            ]
          },
          "metadata": {},
          "execution_count": 36
        }
      ],
      "source": [
        "tf.reduce_max(c)"
      ]
    },
    {
      "cell_type": "markdown",
      "metadata": {
        "id": "aPFlVC8DLClr"
      },
      "source": [
        "- 최대 항목의 인덱스 확인"
      ]
    },
    {
      "cell_type": "code",
      "execution_count": 37,
      "metadata": {
        "colab": {
          "base_uri": "https://localhost:8080/"
        },
        "id": "wJlpILnWKFJe",
        "outputId": "e8394a77-7286-4697-b200-888a9d7db1a8"
      },
      "outputs": [
        {
          "output_type": "execute_result",
          "data": {
            "text/plain": [
              "<tf.Tensor: shape=(2,), dtype=int64, numpy=array([1, 0])>"
            ]
          },
          "metadata": {},
          "execution_count": 37
        }
      ],
      "source": [
        "tf.math.argmax(c)"
      ]
    },
    {
      "cell_type": "markdown",
      "metadata": {
        "id": "uGcIB1TXLFPG"
      },
      "source": [
        "- `softmax()` 함수 적용"
      ]
    },
    {
      "cell_type": "code",
      "execution_count": 38,
      "metadata": {
        "colab": {
          "base_uri": "https://localhost:8080/"
        },
        "id": "oW1wT4RoKF0b",
        "outputId": "11f1a840-8552-4e26-bdda-cdab18a6be85"
      },
      "outputs": [
        {
          "output_type": "execute_result",
          "data": {
            "text/plain": [
              "<tf.Tensor: shape=(2, 2), dtype=float32, numpy=\n",
              "array([[2.6894143e-01, 7.3105860e-01],\n",
              "       [9.9987662e-01, 1.2339458e-04]], dtype=float32)>"
            ]
          },
          "metadata": {},
          "execution_count": 38
        }
      ],
      "source": [
        "tf.nn.softmax(c)"
      ]
    },
    {
      "cell_type": "markdown",
      "metadata": {
        "id": "VA1iadRrSo2l"
      },
      "source": [
        "**텐서로의 자동 변환**"
      ]
    },
    {
      "cell_type": "markdown",
      "metadata": {
        "id": "0MNM-q7-MZLz"
      },
      "source": [
        "텐서플로우의 함수가 `tf.Tensor`를 인자로 입력받아야 하는데\n",
        "인자가 `tf.Tensor` 자료형이 아니지만 텐서로 변환될 수 있으면\n",
        "`tf.Tensor`로 자동 변환되어 처리된다.\n",
        "이유는 내부적으로 `tf.convert_to_tensor()` 함수가\n",
        "형변환을 실행하기 때문이다.\n",
        "예를 들어, 리스트와 넘파이 어레이가 이에 해당한다."
      ]
    },
    {
      "cell_type": "code",
      "execution_count": 39,
      "metadata": {
        "colab": {
          "base_uri": "https://localhost:8080/"
        },
        "id": "_wch0N8xNEt-",
        "outputId": "0d29c8f7-e0ff-4c85-ece1-8ee79632862b"
      },
      "outputs": [
        {
          "output_type": "execute_result",
          "data": {
            "text/plain": [
              "<tf.Tensor: shape=(3,), dtype=int32, numpy=array([1, 2, 3], dtype=int32)>"
            ]
          },
          "metadata": {},
          "execution_count": 39
        }
      ],
      "source": [
        "tf.convert_to_tensor([1,2,3])"
      ]
    },
    {
      "cell_type": "code",
      "execution_count": 40,
      "metadata": {
        "colab": {
          "base_uri": "https://localhost:8080/"
        },
        "id": "ngqIeWYeNJVI",
        "outputId": "1fb4142c-bec2-4df5-f95c-adf1f4d1d6ef"
      },
      "outputs": [
        {
          "output_type": "execute_result",
          "data": {
            "text/plain": [
              "<tf.Tensor: shape=(), dtype=int32, numpy=3>"
            ]
          },
          "metadata": {},
          "execution_count": 40
        }
      ],
      "source": [
        "tf.reduce_max([1, 2, 3])"
      ]
    },
    {
      "cell_type": "code",
      "execution_count": 41,
      "metadata": {
        "colab": {
          "base_uri": "https://localhost:8080/"
        },
        "id": "NbPz0dpmXM-F",
        "outputId": "f2aae993-91a4-4f7d-b831-285eee85a958"
      },
      "outputs": [
        {
          "output_type": "execute_result",
          "data": {
            "text/plain": [
              "<tf.Tensor: shape=(), dtype=int64, numpy=2>"
            ]
          },
          "metadata": {},
          "execution_count": 41
        }
      ],
      "source": [
        "tf.math.argmax([1, 2, 3])"
      ]
    },
    {
      "cell_type": "code",
      "execution_count": 42,
      "metadata": {
        "colab": {
          "base_uri": "https://localhost:8080/"
        },
        "id": "ThVMxqbVNOq3",
        "outputId": "6f519783-519b-40ce-8e5d-a789dfd2c350"
      },
      "outputs": [
        {
          "output_type": "execute_result",
          "data": {
            "text/plain": [
              "<tf.Tensor: shape=(3,), dtype=float64, numpy=array([1.26641655e-14, 7.58256042e-10, 9.99999999e-01])>"
            ]
          },
          "metadata": {},
          "execution_count": 42
        }
      ],
      "source": [
        "tf.nn.softmax(np.array([1.0, 12.0, 33.0]))"
      ]
    },
    {
      "cell_type": "markdown",
      "metadata": {
        "id": "NvSAbowVVuRr"
      },
      "source": [
        "## 텐서의 모양, 랭크, 축, 크기"
      ]
    },
    {
      "cell_type": "markdown",
      "metadata": {
        "id": "hkaBIqkTCcGY"
      },
      "source": [
        "다음 네 개념이 텐서의 모양을 설명한다.\n",
        "\n",
        "- **모양**: 텐서에 사용된 각각의 축에 사용된 항목의 개수로 구성된 벡터\n",
        "- **랭크** 또는 **차원**: 텐서에 사용된 축의 개수\n",
        "    - 스칼라의 랭크는 0,\n",
        "    - 벡터의 랭크는 1,\n",
        "    - 행렬의 랭크는 2.\n",
        "- **축**: 텐서 구성에 사용된 축\n",
        "- **크기**: 텐서에 포함된 항목의 개수\n"
      ]
    },
    {
      "cell_type": "markdown",
      "metadata": {
        "id": "VFOyG2tn8LhW"
      },
      "source": [
        "예를 들어 아래 그림은 `rank_4_tensor`가 가리키는\n",
        "랭크-4 텐서의 모양과 관련된 정보를 보여준다.\n",
        "`tf.zeros()` 함수는 인자로 주어진 모양의 정보를 이용하여\n",
        "모든 항목이 0으로 채워진 지정된 모양의 텐서를 생성한다."
      ]
    },
    {
      "cell_type": "code",
      "execution_count": 43,
      "metadata": {
        "colab": {
          "base_uri": "https://localhost:8080/"
        },
        "id": "RyD3yewUKdnK",
        "outputId": "51c7ab93-c955-40e6-eef7-086144826f4a"
      },
      "outputs": [
        {
          "output_type": "execute_result",
          "data": {
            "text/plain": [
              "<tf.Tensor: shape=(3, 2, 4, 5), dtype=float32, numpy=\n",
              "array([[[[0., 0., 0., 0., 0.],\n",
              "         [0., 0., 0., 0., 0.],\n",
              "         [0., 0., 0., 0., 0.],\n",
              "         [0., 0., 0., 0., 0.]],\n",
              "\n",
              "        [[0., 0., 0., 0., 0.],\n",
              "         [0., 0., 0., 0., 0.],\n",
              "         [0., 0., 0., 0., 0.],\n",
              "         [0., 0., 0., 0., 0.]]],\n",
              "\n",
              "\n",
              "       [[[0., 0., 0., 0., 0.],\n",
              "         [0., 0., 0., 0., 0.],\n",
              "         [0., 0., 0., 0., 0.],\n",
              "         [0., 0., 0., 0., 0.]],\n",
              "\n",
              "        [[0., 0., 0., 0., 0.],\n",
              "         [0., 0., 0., 0., 0.],\n",
              "         [0., 0., 0., 0., 0.],\n",
              "         [0., 0., 0., 0., 0.]]],\n",
              "\n",
              "\n",
              "       [[[0., 0., 0., 0., 0.],\n",
              "         [0., 0., 0., 0., 0.],\n",
              "         [0., 0., 0., 0., 0.],\n",
              "         [0., 0., 0., 0., 0.]],\n",
              "\n",
              "        [[0., 0., 0., 0., 0.],\n",
              "         [0., 0., 0., 0., 0.],\n",
              "         [0., 0., 0., 0., 0.],\n",
              "         [0., 0., 0., 0., 0.]]]], dtype=float32)>"
            ]
          },
          "metadata": {},
          "execution_count": 43
        }
      ],
      "source": [
        "rank_4_tensor = tf.zeros([3, 2, 4, 5])\n",
        "rank_4_tensor"
      ]
    },
    {
      "cell_type": "markdown",
      "metadata": {
        "id": "oTZZW9ziq4og"
      },
      "source": [
        "<table>\n",
        "<tr>\n",
        "  <th colspan=\"2\">랭크-4 텐서, 모양: <code>[3, 2, 4, 5]</code> </th>\n",
        "</tr>\n",
        "<tr>\n",
        "  <td> <img src=\"https://raw.githubusercontent.com/tensorflow/docs/master/site/en/guide/images/tensor/shape.png\" alt=\"A tensor shape is like a vector.\">     </td>\n",
        "<td> <img src=\"https://raw.githubusercontent.com/tensorflow/docs/master/site/en/guide/images/tensor/4-axis_block.png\" alt=\"A 4-axis tensor\">   </td>\n",
        "  </tr>\n",
        "</table>\n"
      ]
    },
    {
      "cell_type": "markdown",
      "metadata": {
        "id": "Rkd8HSJ_fHAI"
      },
      "source": [
        "- 항목의 자료형"
      ]
    },
    {
      "cell_type": "code",
      "execution_count": 44,
      "metadata": {
        "colab": {
          "base_uri": "https://localhost:8080/"
        },
        "id": "MHm9vSqogsBk",
        "outputId": "62e182cb-b86a-4a3d-842b-efce64ea9e39"
      },
      "outputs": [
        {
          "output_type": "execute_result",
          "data": {
            "text/plain": [
              "tf.float32"
            ]
          },
          "metadata": {},
          "execution_count": 44
        }
      ],
      "source": [
        "rank_4_tensor.dtype"
      ]
    },
    {
      "cell_type": "markdown",
      "metadata": {
        "id": "PMUP22IKfKaA"
      },
      "source": [
        "- 텐서의 차원(랭크)"
      ]
    },
    {
      "cell_type": "code",
      "execution_count": 45,
      "metadata": {
        "colab": {
          "base_uri": "https://localhost:8080/"
        },
        "id": "tp9PJvAQe0Rk",
        "outputId": "79661093-39f3-48a5-c090-425ad2c9270b"
      },
      "outputs": [
        {
          "output_type": "execute_result",
          "data": {
            "text/plain": [
              "4"
            ]
          },
          "metadata": {},
          "execution_count": 45
        }
      ],
      "source": [
        "rank_4_tensor.ndim"
      ]
    },
    {
      "cell_type": "markdown",
      "metadata": {
        "id": "lB07MxUefOZZ"
      },
      "source": [
        "- 텐서의 모양"
      ]
    },
    {
      "cell_type": "code",
      "execution_count": 46,
      "metadata": {
        "colab": {
          "base_uri": "https://localhost:8080/"
        },
        "id": "dnR-vU6ce2oC",
        "outputId": "c03868b8-5ba7-40f6-b4f9-331682822faf"
      },
      "outputs": [
        {
          "output_type": "execute_result",
          "data": {
            "text/plain": [
              "TensorShape([3, 2, 4, 5])"
            ]
          },
          "metadata": {},
          "execution_count": 46
        }
      ],
      "source": [
        "rank_4_tensor.shape"
      ]
    },
    {
      "cell_type": "markdown",
      "metadata": {
        "id": "IFxnqMIRfQiV"
      },
      "source": [
        "- 0번 축에 사용되는 항목의 개수"
      ]
    },
    {
      "cell_type": "code",
      "execution_count": 47,
      "metadata": {
        "colab": {
          "base_uri": "https://localhost:8080/"
        },
        "id": "E6FaoQsre4HR",
        "outputId": "0421277f-254a-4e47-d62b-3611e5043e0f"
      },
      "outputs": [
        {
          "output_type": "execute_result",
          "data": {
            "text/plain": [
              "3"
            ]
          },
          "metadata": {},
          "execution_count": 47
        }
      ],
      "source": [
        "rank_4_tensor.shape[0]"
      ]
    },
    {
      "cell_type": "markdown",
      "metadata": {
        "id": "eKvdN7lcfXyj"
      },
      "source": [
        "- -1번 축, 즉 마지막 축에 사용되는 항목의 개수"
      ]
    },
    {
      "cell_type": "code",
      "execution_count": 48,
      "metadata": {
        "colab": {
          "base_uri": "https://localhost:8080/"
        },
        "id": "LUIcs6F9e57v",
        "outputId": "a55d9c2f-7d5f-474c-a17c-43af5fdad561"
      },
      "outputs": [
        {
          "output_type": "execute_result",
          "data": {
            "text/plain": [
              "5"
            ]
          },
          "metadata": {},
          "execution_count": 48
        }
      ],
      "source": [
        "rank_4_tensor.shape[-1]"
      ]
    },
    {
      "cell_type": "markdown",
      "metadata": {
        "id": "HZzF-nuvfcZT"
      },
      "source": [
        "- 텐서의 크기"
      ]
    },
    {
      "cell_type": "code",
      "execution_count": 49,
      "metadata": {
        "colab": {
          "base_uri": "https://localhost:8080/"
        },
        "id": "BdclQU20e7dV",
        "outputId": "d68f399f-fef8-457d-d449-fa258a955bb9"
      },
      "outputs": [
        {
          "output_type": "execute_result",
          "data": {
            "text/plain": [
              "<tf.Tensor: shape=(), dtype=int32, numpy=120>"
            ]
          },
          "metadata": {},
          "execution_count": 49
        }
      ],
      "source": [
        "tf.size(rank_4_tensor)"
      ]
    },
    {
      "cell_type": "markdown",
      "metadata": {
        "id": "2ZGZp_JOOPOv"
      },
      "source": [
        "`ndim`과 `shape` 속성에 저장된 값은 `tf.Tensor` 객체가 아니다.\n",
        "반면에  `tf.rank()` 함수 또는 `tf.shape()` 함수는 동일한 정보를\n",
        "텐서로 반환한다."
      ]
    },
    {
      "cell_type": "code",
      "execution_count": 50,
      "metadata": {
        "colab": {
          "base_uri": "https://localhost:8080/"
        },
        "id": "Ptq0-y6APCpD",
        "outputId": "71bd67ed-c068-4874-b64a-61b94c5a0336"
      },
      "outputs": [
        {
          "output_type": "execute_result",
          "data": {
            "text/plain": [
              "<tf.Tensor: shape=(), dtype=int32, numpy=4>"
            ]
          },
          "metadata": {},
          "execution_count": 50
        }
      ],
      "source": [
        "tf.rank(rank_4_tensor)"
      ]
    },
    {
      "cell_type": "code",
      "execution_count": 51,
      "metadata": {
        "colab": {
          "base_uri": "https://localhost:8080/"
        },
        "id": "HslrDOEBPICN",
        "outputId": "446276c7-dd3b-40ea-fc63-1fa88357ed92"
      },
      "outputs": [
        {
          "output_type": "execute_result",
          "data": {
            "text/plain": [
              "<tf.Tensor: shape=(4,), dtype=int32, numpy=array([3, 2, 4, 5], dtype=int32)>"
            ]
          },
          "metadata": {},
          "execution_count": 51
        }
      ],
      "source": [
        "tf.shape(rank_4_tensor)"
      ]
    },
    {
      "cell_type": "markdown",
      "metadata": {
        "id": "bQmE_Vx5JilS"
      },
      "source": [
        "아래 그림은 랭크-4 텐서에 사용된 축 각각의 의미를 설명한다.\n",
        "축은 텐서의 겉모양에서부터 출발하여 각각의 항목이 포함된 벡터까지\n",
        "차례대로 배치<font size='2'>batch</font>,\n",
        "높이<font size='2'>height</font>,\n",
        "폭<font size='2'>width</font>,\n",
        "특성<font size='2'>features</font>의\n",
        "정보를 가리킨다.\n",
        "\n",
        "<table>\n",
        "<tr>\n",
        "<th>축의 순서 이해</th>\n",
        "</tr>\n",
        "<tr>\n",
        "    <td> <img src=\"https://raw.githubusercontent.com/tensorflow/docs/master/site/en/guide/images/tensor/shape2.png\" alt=\"Keep track of what each axis is. A 4-axis tensor might be: Batch, Width, Height, Features\">   </td>\n",
        "</tr>\n",
        "</table>"
      ]
    },
    {
      "cell_type": "markdown",
      "metadata": {
        "id": "FlPoVvJS75Bb"
      },
      "source": [
        "## 인덱싱/슬라이싱"
      ]
    },
    {
      "cell_type": "markdown",
      "metadata": {
        "id": "P45TwSUVSK6G"
      },
      "source": [
        "예를 들어 아래 랭크-3 텐서를 이용한 인덱싱/슬라이싱 예를 하나 살펴보자."
      ]
    },
    {
      "cell_type": "code",
      "execution_count": 52,
      "metadata": {
        "colab": {
          "base_uri": "https://localhost:8080/"
        },
        "id": "UMwp0U5jP2Xf",
        "outputId": "61e14eb5-0ffb-419b-ee30-8d41d59a104d"
      },
      "outputs": [
        {
          "output_type": "execute_result",
          "data": {
            "text/plain": [
              "<tf.Tensor: shape=(3, 2, 5), dtype=int32, numpy=\n",
              "array([[[ 0,  1,  2,  3,  4],\n",
              "        [ 5,  6,  7,  8,  9]],\n",
              "\n",
              "       [[10, 11, 12, 13, 14],\n",
              "        [15, 16, 17, 18, 19]],\n",
              "\n",
              "       [[20, 21, 22, 23, 24],\n",
              "        [25, 26, 27, 28, 29]]], dtype=int32)>"
            ]
          },
          "metadata": {},
          "execution_count": 52
        }
      ],
      "source": [
        "rank_3_tensor"
      ]
    },
    {
      "cell_type": "markdown",
      "metadata": {
        "id": "mbloVQ-2QT1v"
      },
      "source": [
        "`rank_3_tensor` 텐서는 세 개의 축을 사용하는 랭크-3 텐서이며\n",
        "모양은 다음과 같다."
      ]
    },
    {
      "cell_type": "code",
      "execution_count": 53,
      "metadata": {
        "colab": {
          "base_uri": "https://localhost:8080/"
        },
        "id": "6vzCqyhmQcUC",
        "outputId": "f304e83f-2423-4a57-f70e-06402ae8d446"
      },
      "outputs": [
        {
          "output_type": "execute_result",
          "data": {
            "text/plain": [
              "TensorShape([3, 2, 5])"
            ]
          },
          "metadata": {},
          "execution_count": 53
        }
      ],
      "source": [
        "rank_3_tensor.shape"
      ]
    },
    {
      "cell_type": "markdown",
      "metadata": {
        "id": "XM9TrMpWQF1a"
      },
      "source": [
        "즉, 0번 축은 3 개의 항목을,\n",
        "1번 축은 2 개의 항목을,\n",
        "2번 축은 5 개의 항목을 각각 갖는다.\n",
        "\n",
        "아래 코드는 0번 축과 1번 축의 모든 항목에 대해\n",
        "2번 축의 4번 인덱스에 해당하는 값만 추출한다."
      ]
    },
    {
      "cell_type": "code",
      "execution_count": 54,
      "metadata": {
        "colab": {
          "base_uri": "https://localhost:8080/"
        },
        "id": "GuLoMoCVSLxK",
        "outputId": "27216176-d5c2-49cb-958a-6a070a561d3f"
      },
      "outputs": [
        {
          "output_type": "execute_result",
          "data": {
            "text/plain": [
              "<tf.Tensor: shape=(3, 2), dtype=int32, numpy=\n",
              "array([[ 4,  9],\n",
              "       [14, 19],\n",
              "       [24, 29]], dtype=int32)>"
            ]
          },
          "metadata": {},
          "execution_count": 54
        }
      ],
      "source": [
        "rank_3_tensor[:, :, 4]"
      ]
    },
    {
      "cell_type": "markdown",
      "metadata": {
        "id": "9NgmHq27TJOE"
      },
      "source": [
        "<table>\n",
        "<tr>\n",
        "<th colspan=\"2\">배치에서 각 예의 모든 위치에서 마지막 특성 선택하기</th>\n",
        "</tr>\n",
        "<tr>\n",
        "    <td> <img src=\"https://raw.githubusercontent.com/tensorflow/docs/master/site/en/guide/images/tensor/index1.png\" alt=\"A 3x2x5 tensor with all the values at the index-4 of the last axis selected.\">   </td>\n",
        "      <td> <img src=\"https://raw.githubusercontent.com/tensorflow/docs/master/site/en/guide/images/tensor/index2.png\" alt=\"The selected values packed into a 2-axis tensor.\">   </td>\n",
        "</tr>\n",
        "</table>"
      ]
    },
    {
      "cell_type": "markdown",
      "metadata": {
        "id": "fpr7R0t4SVb0"
      },
      "source": [
        "## 모양 변환"
      ]
    },
    {
      "cell_type": "markdown",
      "metadata": {
        "id": "38Op9Rnibfx2"
      },
      "source": [
        "주어진 텐서의 모양을 변환해서 새로운 모양의 텐서를 생성할 수 있다.\n",
        "단, 새로운 텐서를 위해 메모리를 더 사용하는 것은 아니며\n",
        "단지 주어진 텐서의 정보를 활용하기에 매우 빠르고 메모리\n",
        "효율적으로 작동한다.\n",
        "이렇게 새로운 텐서를 생성하는 방식을 **뷰**<font size='2'>view</font>라 부른다.\n"
      ]
    },
    {
      "cell_type": "code",
      "execution_count": 55,
      "metadata": {
        "colab": {
          "base_uri": "https://localhost:8080/"
        },
        "id": "pa9JCgMLWy87",
        "outputId": "4c1ed5fe-c370-4120-a5f2-f2e4d93d5505"
      },
      "outputs": [
        {
          "output_type": "execute_result",
          "data": {
            "text/plain": [
              "<tf.Tensor: shape=(3, 1), dtype=int32, numpy=\n",
              "array([[1],\n",
              "       [2],\n",
              "       [3]], dtype=int32)>"
            ]
          },
          "metadata": {},
          "execution_count": 55
        }
      ],
      "source": [
        "x = tf.constant([[1], [2], [3]])\n",
        "x"
      ]
    },
    {
      "cell_type": "code",
      "execution_count": 56,
      "metadata": {
        "colab": {
          "base_uri": "https://localhost:8080/"
        },
        "id": "vjU236vSeZx0",
        "outputId": "a666e77c-0b5d-487a-ebe4-3c39bd42085f"
      },
      "outputs": [
        {
          "output_type": "execute_result",
          "data": {
            "text/plain": [
              "TensorShape([3, 1])"
            ]
          },
          "metadata": {},
          "execution_count": 56
        }
      ],
      "source": [
        "x.shape"
      ]
    },
    {
      "cell_type": "code",
      "execution_count": 57,
      "metadata": {
        "colab": {
          "base_uri": "https://localhost:8080/"
        },
        "id": "msyTzgd3eWsk",
        "outputId": "146d2f18-eec0-438d-ffe5-fb40bcf7da4b"
      },
      "outputs": [
        {
          "output_type": "execute_result",
          "data": {
            "text/plain": [
              "<tf.Tensor: shape=(1, 3), dtype=int32, numpy=array([[1, 2, 3]], dtype=int32)>"
            ]
          },
          "metadata": {},
          "execution_count": 57
        }
      ],
      "source": [
        "reshaped = tf.reshape(x, [1, 3])\n",
        "reshaped"
      ]
    },
    {
      "cell_type": "code",
      "execution_count": 58,
      "metadata": {
        "colab": {
          "base_uri": "https://localhost:8080/"
        },
        "id": "Mcq7iXOkW3LK",
        "outputId": "1f707ef5-9c95-4548-d1f1-a08c03fae32e"
      },
      "outputs": [
        {
          "output_type": "execute_result",
          "data": {
            "text/plain": [
              "TensorShape([1, 3])"
            ]
          },
          "metadata": {},
          "execution_count": 58
        }
      ],
      "source": [
        "reshaped.shape"
      ]
    },
    {
      "cell_type": "markdown",
      "metadata": {
        "id": "23mT1CUYdQK6"
      },
      "source": [
        "모양을 변환할 때 -1을 사용하면 그것은 해당 축의 항목의 개수는\n",
        "다른 축의 항목의 개수에 맞춰서 자동으로 지정된다는 의미다.\n",
        "이것이 가능한 이유는\n",
        "텐서의 모양 변환을 통해 생성된 텐서는 기존의 텐서와\n",
        "동일한 크기, 동일한 항목의 수를 가져야만 하기 때문이다.\n",
        "\n",
        "예를 들어 아래 코드에서 사용된 -1은 3을 가리킨다.\n",
        "이유는 총 세 개의 항목이 있는데 0번 축에 1개의 항목이 있어야 한다면\n",
        "1번 축엔 세 개의 항목이 있어야 하기 때문이다."
      ]
    },
    {
      "cell_type": "code",
      "execution_count": 59,
      "metadata": {
        "colab": {
          "base_uri": "https://localhost:8080/"
        },
        "id": "FJPl41ned-oI",
        "outputId": "1674b4ae-5463-4c0d-9063-e055f8060cf3"
      },
      "outputs": [
        {
          "output_type": "execute_result",
          "data": {
            "text/plain": [
              "<tf.Tensor: shape=(1, 3), dtype=int32, numpy=array([[1, 2, 3]], dtype=int32)>"
            ]
          },
          "metadata": {},
          "execution_count": 59
        }
      ],
      "source": [
        "reshaped = tf.reshape(x, [1, -1])\n",
        "reshaped"
      ]
    },
    {
      "cell_type": "markdown",
      "metadata": {
        "id": "yszRB8MZc9dY"
      },
      "source": [
        "**항목 저장 순서**"
      ]
    },
    {
      "cell_type": "markdown",
      "metadata": {
        "id": "XM0aLZKEcwLJ"
      },
      "source": [
        "임의의 텐서를 rank-1 텐서로 만들면 텐서의 항목들이 메모리상에서\n",
        "저장되는 순서를 확인할 수 있다."
      ]
    },
    {
      "cell_type": "code",
      "execution_count": 60,
      "metadata": {
        "colab": {
          "base_uri": "https://localhost:8080/"
        },
        "id": "7kMfM0RpUgI8",
        "outputId": "084d5a60-84c2-47c8-b12a-cae535b90b8b"
      },
      "outputs": [
        {
          "output_type": "execute_result",
          "data": {
            "text/plain": [
              "<tf.Tensor: shape=(3, 2, 5), dtype=int32, numpy=\n",
              "array([[[ 0,  1,  2,  3,  4],\n",
              "        [ 5,  6,  7,  8,  9]],\n",
              "\n",
              "       [[10, 11, 12, 13, 14],\n",
              "        [15, 16, 17, 18, 19]],\n",
              "\n",
              "       [[20, 21, 22, 23, 24],\n",
              "        [25, 26, 27, 28, 29]]], dtype=int32)>"
            ]
          },
          "metadata": {},
          "execution_count": 60
        }
      ],
      "source": [
        "rank_3_tensor"
      ]
    },
    {
      "cell_type": "markdown",
      "metadata": {
        "id": "Xx5Shy_qdto5"
      },
      "source": [
        "랭크-1 텐서로 변환하려면 모양을 `[-1]`로 지정하면 된다.\n",
        "그러면 1개의 축만 사용하고, -1은 자동으로 전체 항목의 개수를\n",
        "가기키기 때문이다."
      ]
    },
    {
      "cell_type": "code",
      "execution_count": 61,
      "metadata": {
        "colab": {
          "base_uri": "https://localhost:8080/"
        },
        "id": "COnHEPuaWDQp",
        "outputId": "5e87ba1c-02a5-44d7-bc17-c2c2bef0a408"
      },
      "outputs": [
        {
          "output_type": "execute_result",
          "data": {
            "text/plain": [
              "<tf.Tensor: shape=(30,), dtype=int32, numpy=\n",
              "array([ 0,  1,  2,  3,  4,  5,  6,  7,  8,  9, 10, 11, 12, 13, 14, 15, 16,\n",
              "       17, 18, 19, 20, 21, 22, 23, 24, 25, 26, 27, 28, 29], dtype=int32)>"
            ]
          },
          "metadata": {},
          "execution_count": 61
        }
      ],
      "source": [
        "tf.reshape(rank_3_tensor, [-1])"
      ]
    },
    {
      "cell_type": "markdown",
      "metadata": {
        "id": "rrhT4dcXfQfK"
      },
      "source": [
        "**축의 순서를 고려하는 좋은 모양 변환**"
      ]
    },
    {
      "cell_type": "markdown",
      "metadata": {
        "id": "jJZRira2W--c"
      },
      "source": [
        "`tf.reshape()` 함수는 앞서 확인한 항목들의 순서를 그대로 유지하며\n",
        "단순히 인접한 두 개의 축을 합치거나, 하나의 축을 두 개의 축으로 나누거나,\n",
        "또는 새로운 축을 추가하는 기능을 수행한다.\n",
        "\n",
        "**주의사항:** 모양 변환은 축의 순서를 바꾸지는 않는다.\n",
        "축의 순서를 바꾸러면 [`tf.transpose()`](https://www.tensorflow.org/api_docs/python/tf/transpose) 함수를 이용해야 하는데,\n",
        "여기서는 자세히 다루지 않는다."
      ]
    },
    {
      "cell_type": "markdown",
      "metadata": {
        "id": "FobxFt2PgDIz"
      },
      "source": [
        "- `3x2x5` 텐서 => `(3x2)x5` 텐서"
      ]
    },
    {
      "cell_type": "code",
      "execution_count": 62,
      "metadata": {
        "colab": {
          "base_uri": "https://localhost:8080/"
        },
        "id": "P5ZGVWXpgH7R",
        "outputId": "09c4d499-1bb2-4965-f155-acfe3f361d30"
      },
      "outputs": [
        {
          "output_type": "execute_result",
          "data": {
            "text/plain": [
              "<tf.Tensor: shape=(6, 5), dtype=int32, numpy=\n",
              "array([[ 0,  1,  2,  3,  4],\n",
              "       [ 5,  6,  7,  8,  9],\n",
              "       [10, 11, 12, 13, 14],\n",
              "       [15, 16, 17, 18, 19],\n",
              "       [20, 21, 22, 23, 24],\n",
              "       [25, 26, 27, 28, 29]], dtype=int32)>"
            ]
          },
          "metadata": {},
          "execution_count": 62
        }
      ],
      "source": [
        "tf.reshape(rank_3_tensor, [3*2, 5])"
      ]
    },
    {
      "cell_type": "markdown",
      "metadata": {
        "id": "8mKoP_r9gTFS"
      },
      "source": [
        "- `3x2x5` 텐서 => `3x(2x5)` 텐서"
      ]
    },
    {
      "cell_type": "code",
      "execution_count": 63,
      "metadata": {
        "colab": {
          "base_uri": "https://localhost:8080/"
        },
        "id": "zP2Iqc7zWu_J",
        "outputId": "4532a2bc-5276-45ee-ef6a-c581ee794572"
      },
      "outputs": [
        {
          "output_type": "execute_result",
          "data": {
            "text/plain": [
              "<tf.Tensor: shape=(3, 10), dtype=int32, numpy=\n",
              "array([[ 0,  1,  2,  3,  4,  5,  6,  7,  8,  9],\n",
              "       [10, 11, 12, 13, 14, 15, 16, 17, 18, 19],\n",
              "       [20, 21, 22, 23, 24, 25, 26, 27, 28, 29]], dtype=int32)>"
            ]
          },
          "metadata": {},
          "execution_count": 63
        }
      ],
      "source": [
        "tf.reshape(rank_3_tensor, [3, -1])"
      ]
    },
    {
      "cell_type": "markdown",
      "metadata": {
        "id": "6ZsZRUhihlDB"
      },
      "source": [
        "<table>\n",
        "<th colspan=\"3\">축의 순서를 반영하는 좋은 변환</th>\n",
        "<tr>\n",
        "  <td> <img src=\"https://raw.githubusercontent.com/tensorflow/docs/master/site/en/guide/images/tensor/reshape-before.png\" alt=\"A 3x2x5 tensor\">   </td>\n",
        "  <td>   <img src=\"https://raw.githubusercontent.com/tensorflow/docs/master/site/en/guide/images/tensor/reshape-good1.png\" alt=\"The same data reshaped to (3x2)x5\">   </td>\n",
        "  <td> <img src=\"https://raw.githubusercontent.com/tensorflow/docs/master/site/en/guide/images/tensor/reshape-good2.png\" alt=\"The same data reshaped to 3x(2x5)\">   </td>\n",
        "</tr>\n",
        "</table>\n"
      ]
    },
    {
      "cell_type": "markdown",
      "metadata": {
        "id": "OlSRiTpUgnPX"
      },
      "source": [
        "**축의 순서를 고려하지 않는 나쁜 모양 변환**"
      ]
    },
    {
      "cell_type": "markdown",
      "metadata": {
        "id": "nOcRxDC3jNIU"
      },
      "source": [
        "축의 순서를 고려하지 않으면\n",
        "완전히 엉뚱한 텐서가 생성되거\n",
        "모양 변환이 되지 않고 실행오류가 발생한다."
      ]
    },
    {
      "cell_type": "code",
      "execution_count": 64,
      "metadata": {
        "colab": {
          "base_uri": "https://localhost:8080/"
        },
        "id": "I9qDL_8u7cBH",
        "outputId": "4bd51bf1-a82d-4fb2-98f4-4855f04edde1"
      },
      "outputs": [
        {
          "output_type": "execute_result",
          "data": {
            "text/plain": [
              "<tf.Tensor: shape=(2, 3, 5), dtype=int32, numpy=\n",
              "array([[[ 0,  1,  2,  3,  4],\n",
              "        [ 5,  6,  7,  8,  9],\n",
              "        [10, 11, 12, 13, 14]],\n",
              "\n",
              "       [[15, 16, 17, 18, 19],\n",
              "        [20, 21, 22, 23, 24],\n",
              "        [25, 26, 27, 28, 29]]], dtype=int32)>"
            ]
          },
          "metadata": {},
          "execution_count": 64
        }
      ],
      "source": [
        "tf.reshape(rank_3_tensor, [2, 3, 5])"
      ]
    },
    {
      "cell_type": "code",
      "execution_count": 65,
      "metadata": {
        "colab": {
          "base_uri": "https://localhost:8080/"
        },
        "id": "BJog8dLxgt89",
        "outputId": "462a2fc9-ae5f-4005-ffc0-a8d5526857c8"
      },
      "outputs": [
        {
          "output_type": "execute_result",
          "data": {
            "text/plain": [
              "<tf.Tensor: shape=(5, 6), dtype=int32, numpy=\n",
              "array([[ 0,  1,  2,  3,  4,  5],\n",
              "       [ 6,  7,  8,  9, 10, 11],\n",
              "       [12, 13, 14, 15, 16, 17],\n",
              "       [18, 19, 20, 21, 22, 23],\n",
              "       [24, 25, 26, 27, 28, 29]], dtype=int32)>"
            ]
          },
          "metadata": {},
          "execution_count": 65
        }
      ],
      "source": [
        "tf.reshape(rank_3_tensor, [5, 6])"
      ]
    },
    {
      "cell_type": "code",
      "execution_count": 66,
      "metadata": {
        "colab": {
          "base_uri": "https://localhost:8080/"
        },
        "id": "dRTIowmwguCc",
        "outputId": "d6dc3431-d98e-404f-a5ea-4081e347bb71"
      },
      "outputs": [
        {
          "output_type": "stream",
          "name": "stdout",
          "text": [
            "InvalidArgumentError: {{function_node __wrapped__Reshape_device_/job:localhost/replica:0/task:0/device:CPU:0}} Input to reshape is a tensor with 30 values, but the requested shape requires a multiple of 7 [Op:Reshape]\n"
          ]
        }
      ],
      "source": [
        "try:\n",
        "  tf.reshape(rank_3_tensor, [7, -1])\n",
        "except Exception as e:\n",
        "  print(f\"{type(e).__name__}: {e}\")"
      ]
    },
    {
      "cell_type": "markdown",
      "metadata": {
        "id": "OLsd_cZOhfQ3"
      },
      "source": [
        "아래 그림이 축의 순서를 고려하지 않은 잘못된 모양 변환의\n",
        "결과를 보여준다."
      ]
    },
    {
      "cell_type": "markdown",
      "metadata": {
        "id": "qTM9-5eh68oo"
      },
      "source": [
        "<table>\n",
        "<th colspan=\"3\">몇 가지 잘못된 재구성</th>\n",
        "<tr>\n",
        "  <td> <img src=\"https://raw.githubusercontent.com/tensorflow/docs/master/site/en/guide/images/tensor/reshape-bad.png\" alt=\"You can't reorder axes, use tf.transpose for that\">   </td>\n",
        "  <td> <img src=\"https://raw.githubusercontent.com/tensorflow/docs/master/site/en/guide/images/tensor/reshape-bad4.png\" alt=\"Anything that mixes the slices of data together is probably wrong.\">   </td>\n",
        "  <td> <img src=\"https://raw.githubusercontent.com/tensorflow/docs/master/site/en/guide/images/tensor/reshape-bad2.png\" alt=\"The new shape must fit exactly.\">   </td>\n",
        "</tr>\n",
        "</table>"
      ]
    },
    {
      "cell_type": "markdown",
      "metadata": {
        "id": "fDmFtFM7k0R2"
      },
      "source": [
        "## 텐서 항목의 자료형(`dtype`) 변환"
      ]
    },
    {
      "cell_type": "markdown",
      "metadata": {
        "id": "pp8oOWCBimh5"
      },
      "source": [
        "`tf.cast()` 함수를 이용하여 `dtype` 속성에 저장된\n",
        "항목들의 자료형을 강제로 형변환하여\n",
        "새로운 텐서를 생성할 수 있다."
      ]
    },
    {
      "cell_type": "markdown",
      "metadata": {
        "id": "jx8Yy_TejRgY"
      },
      "source": [
        "- 예제: 64비트 부동소수점 항목으로 구성된 텐서 선언"
      ]
    },
    {
      "cell_type": "code",
      "execution_count": 67,
      "metadata": {
        "colab": {
          "base_uri": "https://localhost:8080/"
        },
        "id": "5mSTDWbelUvu",
        "outputId": "26faed3a-89d6-4d43-d4e9-4109524fec4d"
      },
      "outputs": [
        {
          "output_type": "execute_result",
          "data": {
            "text/plain": [
              "<tf.Tensor: shape=(3,), dtype=float64, numpy=array([2.2, 3.3, 4.4])>"
            ]
          },
          "metadata": {},
          "execution_count": 67
        }
      ],
      "source": [
        "the_f64_tensor = tf.constant([2.2, 3.3, 4.4], dtype=tf.float64)\n",
        "the_f64_tensor"
      ]
    },
    {
      "cell_type": "markdown",
      "metadata": {
        "id": "XbpGVhbMjdg0"
      },
      "source": [
        "- 16비트 부동소수점 항목으로 구성된 텐서로 형변환하여 텐서 선언"
      ]
    },
    {
      "cell_type": "code",
      "execution_count": 68,
      "metadata": {
        "colab": {
          "base_uri": "https://localhost:8080/"
        },
        "id": "CL3ufiPjjCoR",
        "outputId": "c50d8dbd-c3a1-4413-d3b4-b1a7d6d807b4"
      },
      "outputs": [
        {
          "output_type": "execute_result",
          "data": {
            "text/plain": [
              "<tf.Tensor: shape=(3,), dtype=float16, numpy=array([2.2, 3.3, 4.4], dtype=float16)>"
            ]
          },
          "metadata": {},
          "execution_count": 68
        }
      ],
      "source": [
        "the_f16_tensor = tf.cast(the_f64_tensor, dtype=tf.float16)\n",
        "the_f16_tensor"
      ]
    },
    {
      "cell_type": "markdown",
      "metadata": {
        "id": "5W0EKbkhjlN7"
      },
      "source": [
        "- 8비트 음이 아닌 정수<font size='2'>unsigned int</font>로 구성된 텐서로 형변환"
      ]
    },
    {
      "cell_type": "code",
      "execution_count": 69,
      "metadata": {
        "colab": {
          "base_uri": "https://localhost:8080/"
        },
        "id": "Lf1wSvBDjCsw",
        "outputId": "7ed37b5a-94e1-492e-9f61-35c73f00b495"
      },
      "outputs": [
        {
          "output_type": "execute_result",
          "data": {
            "text/plain": [
              "<tf.Tensor: shape=(3,), dtype=uint8, numpy=array([2, 3, 4], dtype=uint8)>"
            ]
          },
          "metadata": {},
          "execution_count": 69
        }
      ],
      "source": [
        "the_u8_tensor = tf.cast(the_f16_tensor, dtype=tf.uint8)\n",
        "the_u8_tensor"
      ]
    },
    {
      "cell_type": "markdown",
      "metadata": {
        "id": "s1yBlJsVlFSu"
      },
      "source": [
        "## 브로드캐스팅"
      ]
    },
    {
      "cell_type": "markdown",
      "metadata": {
        "id": "c61O2XHQCpPw"
      },
      "source": [
        "예를 들어 벡터에 스칼라를 더하려 하면 스칼라가 벡터와 모양을 맞춘 후 항목별 덧셈이 실행된다. 이때 새로 생성되는 벡터의 항목은 모두 스칼라로 지정된다.\n",
        "이처럼 두 연산자의 모양을 자동으로 맞춘 후 연산이 실행되도록 하는 것을\n",
        "**브로드캐스팅**<font size='2'>broadcasting</font>이라 하며 넘파이 어레이 연산에 적용디는 그것과 동일하게 작동한다."
      ]
    },
    {
      "cell_type": "code",
      "execution_count": 70,
      "metadata": {
        "id": "P8sypqmagHQN"
      },
      "outputs": [],
      "source": [
        "x = tf.constant([1, 2, 3])\n",
        "y = tf.constant(2)\n",
        "z = tf.constant([2, 2, 2])"
      ]
    },
    {
      "cell_type": "markdown",
      "metadata": {
        "id": "Pd-0lRkOExlq"
      },
      "source": [
        "다음 세 개의 연산 결과가 모두 동일하다."
      ]
    },
    {
      "cell_type": "code",
      "execution_count": 71,
      "metadata": {
        "colab": {
          "base_uri": "https://localhost:8080/"
        },
        "id": "48i35zWsEufr",
        "outputId": "517c0511-5386-4c8e-c08f-e4001be19e08"
      },
      "outputs": [
        {
          "output_type": "stream",
          "name": "stdout",
          "text": [
            "tf.Tensor([2 4 6], shape=(3,), dtype=int32)\n",
            "tf.Tensor([2 4 6], shape=(3,), dtype=int32)\n",
            "tf.Tensor([2 4 6], shape=(3,), dtype=int32)\n"
          ]
        }
      ],
      "source": [
        "print(tf.multiply(x, 2))\n",
        "print(x * y)\n",
        "print(x * z)"
      ]
    },
    {
      "cell_type": "markdown",
      "metadata": {
        "id": "o0SBoR6voWcb"
      },
      "source": [
        "벡터와 행렬의 연산도 유사하게 작동한다."
      ]
    },
    {
      "cell_type": "code",
      "execution_count": 72,
      "metadata": {
        "colab": {
          "base_uri": "https://localhost:8080/"
        },
        "id": "6sGmkPg3XANr",
        "outputId": "706a5617-5f9b-4e89-8bbb-9c252ea97ff4"
      },
      "outputs": [
        {
          "output_type": "execute_result",
          "data": {
            "text/plain": [
              "<tf.Tensor: shape=(3, 1), dtype=int32, numpy=\n",
              "array([[1],\n",
              "       [2],\n",
              "       [3]], dtype=int32)>"
            ]
          },
          "metadata": {},
          "execution_count": 72
        }
      ],
      "source": [
        "x = tf.reshape(x,[3,1])\n",
        "x"
      ]
    },
    {
      "cell_type": "code",
      "execution_count": 73,
      "metadata": {
        "colab": {
          "base_uri": "https://localhost:8080/"
        },
        "id": "AlDKXkMmE7V7",
        "outputId": "90ff8ad7-6824-4266-b959-58cacc80c6ab"
      },
      "outputs": [
        {
          "output_type": "execute_result",
          "data": {
            "text/plain": [
              "<tf.Tensor: shape=(4,), dtype=int32, numpy=array([1, 2, 3, 4], dtype=int32)>"
            ]
          },
          "metadata": {},
          "execution_count": 73
        }
      ],
      "source": [
        "y = tf.range(1, 5)\n",
        "y"
      ]
    },
    {
      "cell_type": "markdown",
      "metadata": {
        "id": "xS_Tx-DJFH-X"
      },
      "source": [
        "아래 곱셈 연산은 먼저 `x`와 `y`를 모두\n",
        "`[3, 4]` 모양의 행렬로 브로드캐스팅을 한 다음에\n",
        "항목별 곱셈을 실행한다."
      ]
    },
    {
      "cell_type": "code",
      "execution_count": 74,
      "metadata": {
        "colab": {
          "base_uri": "https://localhost:8080/"
        },
        "id": "ACbY-0LbE5TI",
        "outputId": "a427e93e-f11c-44ab-b228-7903e9f9ecdd"
      },
      "outputs": [
        {
          "output_type": "execute_result",
          "data": {
            "text/plain": [
              "<tf.Tensor: shape=(3, 4), dtype=int32, numpy=\n",
              "array([[ 1,  2,  3,  4],\n",
              "       [ 2,  4,  6,  8],\n",
              "       [ 3,  6,  9, 12]], dtype=int32)>"
            ]
          },
          "metadata": {},
          "execution_count": 74
        }
      ],
      "source": [
        "x * y"
      ]
    },
    {
      "cell_type": "markdown",
      "metadata": {
        "id": "t_7sh-EUYLrE"
      },
      "source": [
        "<table>\n",
        "<tr>\n",
        "  <th>추가 시 브로드캐스팅: <code>[1, 4]</code>와 <code>[3, 1]</code>의 곱하기는 <code>[3,4]</code>입니다.</th>\n",
        "</tr>\n",
        "<tr>\n",
        "  <td> <img src=\"https://raw.githubusercontent.com/tensorflow/docs/master/site/en/guide/images/tensor/broadcasting.png\" alt=\"Adding a 3x1 matrix to a 4x1 matrix results in a 3x4 matrix\">   </td>\n",
        "</tr>\n",
        "</table>\n"
      ]
    },
    {
      "cell_type": "markdown",
      "metadata": {
        "id": "9V3KgSJcKDRz"
      },
      "source": [
        "실제로 내부적으로 아래 연산과 동일하게 작동한다."
      ]
    },
    {
      "cell_type": "code",
      "execution_count": 75,
      "metadata": {
        "colab": {
          "base_uri": "https://localhost:8080/"
        },
        "id": "elrF6v63igY8",
        "outputId": "66c6cfd7-205a-4f7a-b42f-0c994d0f9314"
      },
      "outputs": [
        {
          "output_type": "stream",
          "name": "stdout",
          "text": [
            "tf.Tensor(\n",
            "[[ 1  2  3  4]\n",
            " [ 2  4  6  8]\n",
            " [ 3  6  9 12]], shape=(3, 4), dtype=int32)\n"
          ]
        }
      ],
      "source": [
        "x_stretch = tf.constant([[1, 1, 1, 1],\n",
        "                         [2, 2, 2, 2],\n",
        "                         [3, 3, 3, 3]])\n",
        "\n",
        "y_stretch = tf.constant([[1, 2, 3, 4],\n",
        "                         [1, 2, 3, 4],\n",
        "                         [1, 2, 3, 4]])\n",
        "\n",
        "print(x_stretch * y_stretch)"
      ]
    },
    {
      "cell_type": "markdown",
      "metadata": {
        "id": "cJxeYjZwRUSh"
      },
      "source": [
        "## 다양한 종류의 텐서"
      ]
    },
    {
      "cell_type": "markdown",
      "metadata": {
        "id": "05bBVBVYV0y6"
      },
      "source": [
        "### 비정형 텐서"
      ]
    },
    {
      "cell_type": "markdown",
      "metadata": {
        "id": "ZG78SDEVPHJL"
      },
      "source": [
        "**비정형 텐서**<font size='2'>raggedn tensor</font>는\n",
        "벡터의 길이가 일정하지 않은 축이 사용되는 텐서를 가리킨다.\n",
        "`tf.Tensor` 자료형으로는 선언할 수 없으며\n",
        "대신 `tf.ragged.RaggedTensor` 자료형으로 선언한다.\n",
        "\n",
        "예를 들어, 아래 그림은 0번 축의 길이는 4이지만 1번 축의\n",
        "길이가 일정하지 않는 비정형 텐서를 보여준다.\n",
        "아래 비정형 텐서의 모양은 `[4, None]`으로 표시한다.\n",
        "`None`은 해당 축에 포함된 벡터들의 길이가 일정하지 않음을 의미한다."
      ]
    },
    {
      "cell_type": "markdown",
      "metadata": {
        "id": "VPc3jGoeJqB7"
      },
      "source": [
        "<table>\n",
        "<tr>\n",
        "  <th><code>[4, None]</code> 모양의 비정형 텐서 </th>\n",
        "</tr>\n",
        "<tr>\n",
        "  <td> <img src=\"https://raw.githubusercontent.com/tensorflow/docs/master/site/en/guide/images/tensor/ragged.png\" alt=\"A 2-axis ragged tensor, each row can have a different length.\">   </td>\n",
        "</tr>\n",
        "</table>"
      ]
    },
    {
      "cell_type": "markdown",
      "metadata": {
        "id": "Apu-EcvFQsO2"
      },
      "source": [
        "위 그림 모양의 비정형 텐서를 선언해 보자.\n",
        "이를 위해 아래 리스트를 이용한다."
      ]
    },
    {
      "cell_type": "code",
      "execution_count": 76,
      "metadata": {
        "id": "VsbTjoFfNVBF"
      },
      "outputs": [],
      "source": [
        "ragged_list = [\n",
        "    [0, 1, 2, 3],\n",
        "    [4, 5],\n",
        "    [6, 7, 8],\n",
        "    [9]]"
      ]
    },
    {
      "cell_type": "markdown",
      "metadata": {
        "id": "MbmVJq_GQMub"
      },
      "source": [
        "정규 텐서로는 선언할 수 없다."
      ]
    },
    {
      "cell_type": "code",
      "execution_count": 77,
      "metadata": {
        "colab": {
          "base_uri": "https://localhost:8080/"
        },
        "id": "p4xKTo57tutG",
        "outputId": "c31286cf-4f87-49cf-fba3-788b3851c07f"
      },
      "outputs": [
        {
          "output_type": "stream",
          "name": "stdout",
          "text": [
            "ValueError: Can't convert non-rectangular Python sequence to Tensor.\n"
          ]
        }
      ],
      "source": [
        "try:\n",
        "  tensor = tf.constant(ragged_list)\n",
        "except Exception as e:\n",
        "  print(f\"{type(e).__name__}: {e}\")"
      ]
    },
    {
      "cell_type": "markdown",
      "metadata": {
        "id": "0cm9KuEeMLGI"
      },
      "source": [
        "대신 `tf.ragged.constant`를 사용하여 `tf.RaggedTensor`로 선언할 수 있다."
      ]
    },
    {
      "cell_type": "code",
      "execution_count": 78,
      "metadata": {
        "colab": {
          "base_uri": "https://localhost:8080/"
        },
        "id": "XhF3QV3jiqTj",
        "outputId": "171618c2-b19e-4594-fc6a-5d6941aa10ad"
      },
      "outputs": [
        {
          "output_type": "stream",
          "name": "stdout",
          "text": [
            "<tf.RaggedTensor [[0, 1, 2, 3], [4, 5], [6, 7, 8], [9]]>\n"
          ]
        }
      ],
      "source": [
        "ragged_tensor = tf.ragged.constant(ragged_list)\n",
        "print(ragged_tensor)"
      ]
    },
    {
      "cell_type": "markdown",
      "metadata": {
        "id": "sFgHduHVNoIE"
      },
      "source": [
        "`tf.RaggedTensor`의 모양에서 축의 길이를 알 수 없는 축은 `None`으로 나타낸다."
      ]
    },
    {
      "cell_type": "code",
      "execution_count": 79,
      "metadata": {
        "colab": {
          "base_uri": "https://localhost:8080/"
        },
        "id": "Eo_3wJUWNgqB",
        "outputId": "99f71038-5778-41b0-ce4d-c0ee9df2a2e9"
      },
      "outputs": [
        {
          "output_type": "stream",
          "name": "stdout",
          "text": [
            "(4, None)\n"
          ]
        }
      ],
      "source": [
        "print(ragged_tensor.shape)"
      ]
    },
    {
      "cell_type": "markdown",
      "metadata": {
        "id": "ua8BnAzxkRKV"
      },
      "source": [
        "### 희소 텐서"
      ]
    },
    {
      "cell_type": "markdown",
      "metadata": {
        "id": "u5M5SIHVRgRa"
      },
      "source": [
        "텐서의 크기가 매우 큰 반면에 0이 아닌 항목의 개수가 상대적으로\n",
        "적을 때 희소 텐서<font size='2'>sparse tensor</font>를\n",
        "사용하면 메모리를 보다 효율적으로 활용할 수 있다.\n",
        "희소 텐서는 `tf.sparse.SparseTensor` 자료형이 지원한다.\n",
        "\n",
        "아래 그림은 `[3, 4]` 모양의 텐서 단 두 개의 값을 제외한 나머지는\n",
        "0인 희소 텐서를 보여준다."
      ]
    },
    {
      "cell_type": "markdown",
      "metadata": {
        "id": "mS5zgqgUTPRb"
      },
      "source": [
        "<table>\n",
        "<tr>\n",
        "  <th>`tf.SparseTensor`, 모양: <code>[3, 4]</code> </th>\n",
        "</tr>\n",
        "<tr>\n",
        "  <td> <img src=\"https://raw.githubusercontent.com/tensorflow/docs/master/site/en/guide/images/tensor/sparse.png\" alt=\"An 3x4 grid, with values in only two of the cells.\">   </td>\n",
        "</tr>\n",
        "</table>"
      ]
    },
    {
      "cell_type": "markdown",
      "metadata": {
        "id": "6Z0czxlsfRlC"
      },
      "source": [
        "아래 `sparse_tensor` 변수는 위 그림으로 표현된\n",
        "희소 텐서를 가리킨다.\n",
        "`tf.sparse.SparseTensor` 객체를 선언할 때\n",
        "다음 세 개의 인자를 지정한다.\n",
        "\n",
        "- `indices`: 0이 아닌 항목들의 인덱스로 구성된 리스트\n",
        "- `values`: 지정된 인덱스에 위치하는 항목들의 리스트\n",
        "- `dense_shape`: 텐서의 모양"
      ]
    },
    {
      "cell_type": "code",
      "execution_count": 80,
      "metadata": {
        "colab": {
          "base_uri": "https://localhost:8080/"
        },
        "id": "B9nbO1E2kSUN",
        "outputId": "5210615a-b15d-436c-fab5-cc592dc1f2d7"
      },
      "outputs": [
        {
          "output_type": "execute_result",
          "data": {
            "text/plain": [
              "SparseTensor(indices=tf.Tensor(\n",
              "[[0 0]\n",
              " [1 2]], shape=(2, 2), dtype=int64), values=tf.Tensor([1 2], shape=(2,), dtype=int32), dense_shape=tf.Tensor([3 4], shape=(2,), dtype=int64))"
            ]
          },
          "metadata": {},
          "execution_count": 80
        }
      ],
      "source": [
        "sparse_tensor = tf.sparse.SparseTensor(indices=[[0, 0], [1, 2]],\n",
        "                                       values=[1, 2],\n",
        "                                       dense_shape=[3, 4])\n",
        "sparse_tensor"
      ]
    },
    {
      "cell_type": "markdown",
      "metadata": {
        "id": "XY5k5kKqf-ST"
      },
      "source": [
        "**밀집 텐서 대 희소 텐서**\n",
        "\n",
        "일반적인 텐서를 **밀집 텐서**<font size='2'>dense tensor</font>라\n",
        "부른다.\n",
        "텐서플로우는 내부적으로 희소 텐서와 밀집 텐서를 모두 다룰 수 있으며\n",
        "필요에 따라 변환해서 사용한다.\n",
        "\n",
        "희소 텐서를 밀집 텐서로 직접 변환하려면\n",
        "`tf.sparse.to_dense()` 함수를 이용하면 된다."
      ]
    },
    {
      "cell_type": "code",
      "execution_count": 81,
      "metadata": {
        "colab": {
          "base_uri": "https://localhost:8080/"
        },
        "id": "CpRtagaZf5D5",
        "outputId": "f79a4141-6fb7-4ece-8727-8e34e1a71df9"
      },
      "outputs": [
        {
          "output_type": "execute_result",
          "data": {
            "text/plain": [
              "<tf.Tensor: shape=(3, 4), dtype=int32, numpy=\n",
              "array([[1, 0, 0, 0],\n",
              "       [0, 0, 2, 0],\n",
              "       [0, 0, 0, 0]], dtype=int32)>"
            ]
          },
          "metadata": {},
          "execution_count": 81
        }
      ],
      "source": [
        "dense_tensor = tf.sparse.to_dense(sparse_tensor)\n",
        "dense_tensor"
      ]
    },
    {
      "cell_type": "markdown",
      "metadata": {
        "id": "ct0dZkb0gypV"
      },
      "source": [
        "반면에 `tf.sparse.from_dense()` 함수는 밀집 텐서를 희소 텐서로 변환한다."
      ]
    },
    {
      "cell_type": "code",
      "execution_count": 82,
      "metadata": {
        "colab": {
          "base_uri": "https://localhost:8080/"
        },
        "id": "v1xx6y5ygrow",
        "outputId": "169ee11d-b5f7-420e-897c-1724da05be04"
      },
      "outputs": [
        {
          "output_type": "execute_result",
          "data": {
            "text/plain": [
              "SparseTensor(indices=tf.Tensor(\n",
              "[[0 0]\n",
              " [1 2]], shape=(2, 2), dtype=int64), values=tf.Tensor([1 2], shape=(2,), dtype=int32), dense_shape=tf.Tensor([3 4], shape=(2,), dtype=int64))"
            ]
          },
          "metadata": {},
          "execution_count": 82
        }
      ],
      "source": [
        "tf.sparse.from_dense(dense_tensor)"
      ]
    }
  ],
  "metadata": {
    "colab": {
      "collapsed_sections": [
        "Tce3stUlHN0L"
      ],
      "provenance": []
    },
    "kernelspec": {
      "display_name": "Python 3 (ipykernel)",
      "language": "python",
      "name": "python3"
    },
    "language_info": {
      "codemirror_mode": {
        "name": "ipython",
        "version": 3
      },
      "file_extension": ".py",
      "mimetype": "text/x-python",
      "name": "python",
      "nbconvert_exporter": "python",
      "pygments_lexer": "ipython3",
      "version": "3.9.13"
    }
  },
  "nbformat": 4,
  "nbformat_minor": 0
}