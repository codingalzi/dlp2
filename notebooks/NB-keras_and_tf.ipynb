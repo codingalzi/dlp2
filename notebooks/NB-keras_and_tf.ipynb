{
 "cells": [
  {
   "cell_type": "markdown",
   "metadata": {
    "id": "MErWGz453MSu"
   },
   "source": [
    "# 3. 케라스와 텐서플로우"
   ]
  },
  {
   "cell_type": "markdown",
   "metadata": {
    "id": "Vko88FVc3MSx"
   },
   "source": [
    "__감사말__\n",
    "\n",
    "프랑소와 숄레의 [Deep Learning with Python, Second Edition](https://www.manning.com/books/deep-learning-with-python-second-edition?a_aid=keras&a_bid=76564dff) 3장에 사용된 코드에 대한 설명을 담고 있으며 텐서플로우 2.6 버전 이상에서 작성되었습니다. 소스코드를 공개한 저자에게 감사드립니다."
   ]
  },
  {
   "cell_type": "markdown",
   "metadata": {
    "id": "W66796Q63MSx"
   },
   "source": [
    "__구글 코랩 설정__\n",
    "\n",
    "'런타임 -> 런타임 유형 변경' 메뉴에서 GPU를 지정한다.\n",
    "TensorFlow 버전을 확인하려면 아래 명령문을 실행한다."
   ]
  },
  {
   "cell_type": "code",
   "execution_count": 1,
   "metadata": {
    "colab": {
     "base_uri": "https://localhost:8080/",
     "height": 35
    },
    "id": "XF9dJNGu3MSx",
    "outputId": "0138fb6c-0fb3-41ba-f06e-b996e27fe765"
   },
   "outputs": [
    {
     "data": {
      "text/plain": [
       "'2.8.2'"
      ]
     },
     "execution_count": 1,
     "metadata": {},
     "output_type": "execute_result"
    }
   ],
   "source": [
    "import tensorflow as tf\n",
    "tf.__version__"
   ]
  },
  {
   "cell_type": "markdown",
   "metadata": {
    "id": "GJz9zdWv3MSz"
   },
   "source": [
    "TensorFlow가 GPU를 사용하는지 여부를 확인하려면 아래 명령문을 실행한다.\n",
    "아래와 같은 결과가 나오면 GPU가 제대로 지원됨을 의미한다.\n",
    "\n",
    "```\n",
    "[PhysicalDevice(name='/physical_device:GPU:0', device_type='GPU')]\n",
    "```"
   ]
  },
  {
   "cell_type": "code",
   "execution_count": 2,
   "metadata": {
    "colab": {
     "base_uri": "https://localhost:8080/"
    },
    "id": "Snx-SE4j3MSz",
    "outputId": "7c74164e-accb-4b30-a8cb-99ec91d8d23f"
   },
   "outputs": [
    {
     "data": {
      "text/plain": [
       "[]"
      ]
     },
     "execution_count": 2,
     "metadata": {},
     "output_type": "execute_result"
    }
   ],
   "source": [
    "tf.config.list_physical_devices('GPU')"
   ]
  },
  {
   "cell_type": "markdown",
   "metadata": {
    "id": "0iLaYjTI3MS0"
   },
   "source": [
    "**참고**\n",
    "\n",
    "아래 코드에 대한 자세한 설명은\n",
    "[케라스와 텐서플로우](https://codingalzi.github.io/dlp2/keras_and_tf.html)를\n",
    "참고한다."
   ]
  },
  {
   "cell_type": "markdown",
   "metadata": {
    "id": "uySrPGGkVk-l"
   },
   "source": [
    "## 텐서플로우 텐서"
   ]
  },
  {
   "cell_type": "markdown",
   "metadata": {
    "id": "NvI7I3KKVk-l"
   },
   "source": [
    "케라스 없이 텐서플로우만 이용해서 신경망 모델을 지정하고 훈련시킬 수 있다.\n",
    "하지만 아래에 언급된 개념, 기능, 도구를 모두 직접 구현해야 한다.\n",
    "\n",
    "- 가중치, 편향 등을 저장할 텐서 지정\n",
    "- 순전파 실행(덧셈, 행렬 곱, `relu()` 함수 등 활용)\n",
    "- 역전파 실행\n",
    "- 층과 모델\n",
    "- 손실 함수\n",
    "- 옵티마이저\n",
    "- 평가지표\n",
    "- 훈련 루프"
   ]
  },
  {
   "cell_type": "markdown",
   "metadata": {
    "id": "ys-ZncpWVk-m"
   },
   "source": [
    "텐서플로우는 두 종류의 텐서 자료형을 지원한다.\n",
    "\n",
    "- `tf.Tensor` 자료형\n",
    "    - 상수 텐서\n",
    "    - 입출력 데이터 등 변하지 않는 값을 다룰 때 사용.\n",
    "    - 불변 자료형\n",
    "- `tf.Variable` 자료형\n",
    "    - 변수 텐서\n",
    "    - 모델의 가중치, 편향 등 항목의 업데이트가 필요할 때 사용되는 텐서.\n",
    "    - 가변 자료형\n",
    "\n",
    "사용법은 기본적으로 넘파이 어레이와 유사하며, GPU 연산과 그레이디언트 자동계산 등\n",
    "신경망 모델 훈련에 최적화된 기능을 제공한다.\n"
   ]
  },
  {
   "cell_type": "markdown",
   "metadata": {
    "id": "TPl7tN7qFAG2"
   },
   "source": [
    "### 상수 텐서"
   ]
  },
  {
   "cell_type": "markdown",
   "metadata": {
    "id": "m0vwISUoFAG3"
   },
   "source": [
    "상수 텐서를 다양한 방식으로 생성할 수 있다.\n",
    "아래 코드는 직접 상수 텐서의 모양과 항목을 지정한다."
   ]
  },
  {
   "cell_type": "code",
   "execution_count": 3,
   "metadata": {
    "colab": {
     "base_uri": "https://localhost:8080/"
    },
    "id": "Ik-7kgRvFAG3",
    "outputId": "3ab2c957-81be-4086-9c51-eacee8792e5a"
   },
   "outputs": [
    {
     "name": "stdout",
     "output_type": "stream",
     "text": [
      "tf.Tensor(\n",
      "[[1. 2.]\n",
      " [3. 4.]], shape=(2, 2), dtype=float32)\n"
     ]
    }
   ],
   "source": [
    "x = tf.constant([[1., 2.], [3., 4.]])\n",
    "print(x)"
   ]
  },
  {
   "cell_type": "markdown",
   "metadata": {
    "id": "RWRNWl6ZFAG4"
   },
   "source": [
    "넘파이 어레이의 경우와 거의 유사하게 다양한 텐서를 생성하는 함수들이 제공된다.\n",
    "`tf.ones()` 함수는 1로만 이루어진 상수 텐서를 생성한다."
   ]
  },
  {
   "cell_type": "code",
   "execution_count": 4,
   "metadata": {
    "colab": {
     "base_uri": "https://localhost:8080/"
    },
    "id": "i9cKkurOFAG4",
    "outputId": "3bc3a331-5ed6-4169-9552-58895b46985d"
   },
   "outputs": [
    {
     "name": "stdout",
     "output_type": "stream",
     "text": [
      "tf.Tensor(\n",
      "[[1.]\n",
      " [1.]], shape=(2, 1), dtype=float32)\n"
     ]
    }
   ],
   "source": [
    "x = tf.ones(shape=(2, 1))\n",
    "print(x)"
   ]
  },
  {
   "cell_type": "markdown",
   "metadata": {
    "id": "G7j6TGhMFAG4"
   },
   "source": [
    "반면에 `tf.zeros()` 텐서는 0으로만 이루어진 상수 텐서를 생성한다."
   ]
  },
  {
   "cell_type": "code",
   "execution_count": 5,
   "metadata": {
    "colab": {
     "base_uri": "https://localhost:8080/"
    },
    "id": "RnQI7pjoFAG4",
    "outputId": "67701a07-05da-488f-ba45-2e7cbb01f9cf"
   },
   "outputs": [
    {
     "name": "stdout",
     "output_type": "stream",
     "text": [
      "tf.Tensor(\n",
      "[[0.]\n",
      " [0.]], shape=(2, 1), dtype=float32)\n"
     ]
    }
   ],
   "source": [
    "x = tf.zeros(shape=(2, 1))\n",
    "print(x)"
   ]
  },
  {
   "cell_type": "markdown",
   "metadata": {
    "id": "jObv20fhFAG4"
   },
   "source": [
    "확률적 통계 분포를 따르는 항목으로 구성된 상수 텐서를 생성하는 함수는 딥러닝에서 매우 유용하다."
   ]
  },
  {
   "cell_type": "markdown",
   "metadata": {
    "id": "IhYg7coSFAG4"
   },
   "source": [
    "- `normal()` 함수: 평균값(`mean`)과 표준편차(`stddev`)를 지정하면 해당 정규분포를 따르는 항목들을 이용하여\n",
    "원하는 모양의 상수 텐서를 생성한다."
   ]
  },
  {
   "cell_type": "code",
   "execution_count": 6,
   "metadata": {
    "colab": {
     "base_uri": "https://localhost:8080/"
    },
    "id": "Sbkziq-8FAG5",
    "outputId": "3fc51952-d03b-4e15-cd4c-f1d47284b227"
   },
   "outputs": [
    {
     "name": "stdout",
     "output_type": "stream",
     "text": [
      "tf.Tensor(\n",
      "[[ 1.0422782 ]\n",
      " [-0.32193935]\n",
      " [ 0.7487146 ]], shape=(3, 1), dtype=float32)\n"
     ]
    }
   ],
   "source": [
    "x = tf.random.normal(shape=(3, 1), mean=0., stddev=1.)\n",
    "print(x)"
   ]
  },
  {
   "cell_type": "markdown",
   "metadata": {
    "id": "-zqwCJ7hFAG5"
   },
   "source": [
    "- `uniform()` 함수: 지정된 구간 최솟값(`minval`)과 최댓값(`maxval`) 사이에서 균등분포를 따르는 항목들을 이용하여 상수 텐서를 생성한다."
   ]
  },
  {
   "cell_type": "code",
   "execution_count": 7,
   "metadata": {
    "colab": {
     "base_uri": "https://localhost:8080/"
    },
    "id": "qmYorXi5FAG5",
    "outputId": "724bf6e1-cf6f-4f0f-aa33-ee03e2c89abc"
   },
   "outputs": [
    {
     "name": "stdout",
     "output_type": "stream",
     "text": [
      "tf.Tensor(\n",
      "[[0.25453353]\n",
      " [0.93360615]\n",
      " [0.40943944]], shape=(3, 1), dtype=float32)\n"
     ]
    }
   ],
   "source": [
    "x = tf.random.uniform(shape=(3, 1), minval=0., maxval=1.)\n",
    "print(x)"
   ]
  },
  {
   "cell_type": "markdown",
   "metadata": {
    "id": "CV8pyHNnFAG5"
   },
   "source": [
    "**상수 텐서의 수정 불가능성**"
   ]
  },
  {
   "cell_type": "markdown",
   "metadata": {
    "id": "K-bMeTbTFAG5"
   },
   "source": [
    "한 번 생성된 상수 텐서는 수정이 불가능하다.\n",
    "예를 들어 인덱싱으로 항목을 수정할 수 없다."
   ]
  },
  {
   "cell_type": "markdown",
   "metadata": {
    "id": "Vg5KyONiFAG6"
   },
   "source": [
    "```python\n",
    ">>> x[0, 0] = 1.0\n",
    "TypeError                                 Traceback (most recent call last)\n",
    "<ipython-input-7-242a5d4d3c4a> in <module>\n",
    "----> 1 x[0, 0] = 1.0\n",
    "\n",
    "TypeError: 'tensorflow.python.framework.ops.EagerTensor' object does not support item assignment\n",
    "```"
   ]
  },
  {
   "cell_type": "markdown",
   "metadata": {
    "id": "Ll1rQVG3FAG6"
   },
   "source": [
    "반면에 넘파이 어레이는 수정이 가능하다."
   ]
  },
  {
   "cell_type": "code",
   "execution_count": 8,
   "metadata": {
    "colab": {
     "base_uri": "https://localhost:8080/"
    },
    "id": "l5lUVJ3bFAG6",
    "outputId": "928627c3-ae20-4d8e-884d-a5fccf819d1f"
   },
   "outputs": [
    {
     "name": "stdout",
     "output_type": "stream",
     "text": [
      "[[0. 1.]\n",
      " [1. 1.]]\n"
     ]
    }
   ],
   "source": [
    "import numpy as np\n",
    "\n",
    "y = np.ones(shape=(2, 2))\n",
    "\n",
    "y[0, 0] = 0.0\n",
    "print(y)"
   ]
  },
  {
   "cell_type": "markdown",
   "metadata": {
    "id": "RaMXIVgVFAG6"
   },
   "source": [
    "**텐서 항목의 자료형**"
   ]
  },
  {
   "cell_type": "markdown",
   "metadata": {
    "id": "k2xvuVdJFAG7"
   },
   "source": [
    "텐서 항목의 자료형은 `EagerTensor` 라는 텐서다."
   ]
  },
  {
   "cell_type": "code",
   "execution_count": 9,
   "metadata": {
    "colab": {
     "base_uri": "https://localhost:8080/"
    },
    "id": "96zsfMQzFAG7",
    "outputId": "121f5dd4-1551-426e-c12b-66fe4fca3117"
   },
   "outputs": [
    {
     "data": {
      "text/plain": [
       "tensorflow.python.framework.ops.EagerTensor"
      ]
     },
     "execution_count": 9,
     "metadata": {},
     "output_type": "execute_result"
    }
   ],
   "source": [
    "type(x[0, 0])"
   ]
  },
  {
   "cell_type": "markdown",
   "metadata": {
    "id": "VujYaZeAFAG7"
   },
   "source": [
    "### 변수 텐서"
   ]
  },
  {
   "cell_type": "markdown",
   "metadata": {
    "id": "DDnj9VdMFAG7"
   },
   "source": [
    "`tf.Variaible` 객체는 항목을 수정할 수 있는 가변 텐서이다.\n",
    "아래 코드는 정규 분포를 이용하여 (3. 1) 모양의 변수 텐서를 생성한다."
   ]
  },
  {
   "cell_type": "code",
   "execution_count": 10,
   "metadata": {
    "colab": {
     "base_uri": "https://localhost:8080/"
    },
    "id": "0aTLKr4mFAG7",
    "outputId": "cfaa7676-a7c1-42ac-e4fc-b607f15e46cb"
   },
   "outputs": [
    {
     "name": "stdout",
     "output_type": "stream",
     "text": [
      "<tf.Variable 'Variable:0' shape=(3, 1) dtype=float32, numpy=\n",
      "array([[-1.6007057 ],\n",
      "       [-0.06321528],\n",
      "       [-0.46969637]], dtype=float32)>\n"
     ]
    }
   ],
   "source": [
    "v = tf.Variable(initial_value=tf.random.normal(shape=(3, 1)))\n",
    "print(v)"
   ]
  },
  {
   "cell_type": "markdown",
   "metadata": {
    "id": "3cHdR9y3FAG7"
   },
   "source": [
    "**변수 텐서 교체**"
   ]
  },
  {
   "cell_type": "markdown",
   "metadata": {
    "id": "3UhHAaaIFAG7"
   },
   "source": [
    "`assign()` 메서드는 해당 텐서를 통채로 다른 텐서로 대체한다."
   ]
  },
  {
   "cell_type": "code",
   "execution_count": 11,
   "metadata": {
    "colab": {
     "base_uri": "https://localhost:8080/"
    },
    "id": "x6Q4b_S6FAG7",
    "outputId": "590f3928-a5ce-4af7-e113-eebd70cf0f31"
   },
   "outputs": [
    {
     "data": {
      "text/plain": [
       "<tf.Variable 'UnreadVariable' shape=(3, 1) dtype=float32, numpy=\n",
       "array([[1.],\n",
       "       [1.],\n",
       "       [1.]], dtype=float32)>"
      ]
     },
     "execution_count": 11,
     "metadata": {},
     "output_type": "execute_result"
    }
   ],
   "source": [
    "v.assign(tf.ones((3, 1)))"
   ]
  },
  {
   "cell_type": "markdown",
   "metadata": {
    "id": "QpdPpCRGFAG7"
   },
   "source": [
    "단, 대체하는 텐서의 모양(shape)이 기존 텐서의 모양과 동일해야 한다."
   ]
  },
  {
   "cell_type": "markdown",
   "metadata": {
    "id": "mCCnDJrXFAG8"
   },
   "source": [
    "```python\n",
    ">>> v.assign(tf.ones((3, 2)))\n",
    "ValueError                                Traceback (most recent call last)\n",
    "<ipython-input-13-e381ab0c94e6> in <module>\n",
    "----> 1 v.assign(tf.ones((3, 2)))\n",
    "\n",
    "~\\anaconda3\\lib\\site-packages\\tensorflow\\python\\ops\\resource_variable_ops.py in assign(self, value, use_locking, name, read_value)\n",
    "    886         else:\n",
    "    887           tensor_name = \" \" + str(self.name)\n",
    "--> 888         raise ValueError(\n",
    "    889             (\"Cannot assign to variable%s due to variable shape %s and value \"\n",
    "    890              \"shape %s are incompatible\") %\n",
    "\n",
    "ValueError: Cannot assign to variable Variable:0 due to variable shape (3, 1) and value shape (3, 2) are incompatible\n",
    "```"
   ]
  },
  {
   "cell_type": "markdown",
   "metadata": {
    "id": "jdwzz0TTFAG8"
   },
   "source": [
    "**변수 텐서 항목 수정**"
   ]
  },
  {
   "cell_type": "markdown",
   "metadata": {
    "id": "Hj152rUhFAG8"
   },
   "source": [
    "변수 텐서의 특정 항목을 수정하려면 인덱싱과 `assign()` 메서드를 함께 사용한다.\n",
    "이것이 가능한 이유는 텐서의 항목 또한 텐서이기 때문이다."
   ]
  },
  {
   "cell_type": "code",
   "execution_count": 12,
   "metadata": {
    "colab": {
     "base_uri": "https://localhost:8080/"
    },
    "id": "PzUFJcg6FAG8",
    "outputId": "f5146d10-6438-4b45-bda5-b8762c9569d8"
   },
   "outputs": [
    {
     "data": {
      "text/plain": [
       "<tf.Tensor: shape=(), dtype=float32, numpy=1.0>"
      ]
     },
     "execution_count": 12,
     "metadata": {},
     "output_type": "execute_result"
    }
   ],
   "source": [
    "v[0, 0]"
   ]
  },
  {
   "cell_type": "code",
   "execution_count": 13,
   "metadata": {
    "colab": {
     "base_uri": "https://localhost:8080/"
    },
    "id": "IwTXxgGDFAG8",
    "outputId": "68437a9a-28dd-43b3-ca24-1c929372c2fa"
   },
   "outputs": [
    {
     "data": {
      "text/plain": [
       "tensorflow.python.framework.ops.EagerTensor"
      ]
     },
     "execution_count": 13,
     "metadata": {},
     "output_type": "execute_result"
    }
   ],
   "source": [
    "type(v[0, 0])"
   ]
  },
  {
   "cell_type": "markdown",
   "metadata": {
    "id": "4OJZrvZiFAG8"
   },
   "source": [
    "상수 텐서의 경우처럼 각 항목은 `EagerTensor` 객체이지만 이번엔 항목 변환이 가능하다.\n",
    "텐서플로우 내부에서 변수 텐서인 경우와 아닌 경우를 구분해서 `assign()` 메서드의 지원여부를\n",
    "판단하는 것으로 보인다."
   ]
  },
  {
   "cell_type": "code",
   "execution_count": 14,
   "metadata": {
    "colab": {
     "base_uri": "https://localhost:8080/"
    },
    "id": "AEVgeGYIFAG8",
    "outputId": "90d300bc-82df-4983-892a-9d2fa02144ca"
   },
   "outputs": [
    {
     "data": {
      "text/plain": [
       "<tf.Variable 'UnreadVariable' shape=(3, 1) dtype=float32, numpy=\n",
       "array([[3.],\n",
       "       [1.],\n",
       "       [1.]], dtype=float32)>"
      ]
     },
     "execution_count": 14,
     "metadata": {},
     "output_type": "execute_result"
    }
   ],
   "source": [
    "v[0, 0].assign(3.)"
   ]
  },
  {
   "cell_type": "markdown",
   "metadata": {
    "id": "X-gFG2uaFAG_"
   },
   "source": [
    "* `assign_add()`와 `assign_sub()`"
   ]
  },
  {
   "cell_type": "markdown",
   "metadata": {
    "id": "15JdHsvqVk-t"
   },
   "source": [
    "`assign_sub()` 메서드는 `-=` 연산자,\n",
    "`assign_add()` 메서드는 `+=` 연산자의 기능을 갖는다.\n",
    "특히 `assign_sub()` 메서드가 경사하강법 적용과정에서 가중치와 편향 텐서를 업데이트할 때 사용된다."
   ]
  },
  {
   "cell_type": "code",
   "execution_count": 15,
   "metadata": {
    "colab": {
     "base_uri": "https://localhost:8080/"
    },
    "id": "M-42Xd2hFAHA",
    "outputId": "c65a6f3b-6461-4c55-9aa3-8cd4c8ca5ffe"
   },
   "outputs": [
    {
     "data": {
      "text/plain": [
       "<tf.Variable 'UnreadVariable' shape=(3, 1) dtype=float32, numpy=\n",
       "array([[2.],\n",
       "       [0.],\n",
       "       [0.]], dtype=float32)>"
      ]
     },
     "execution_count": 15,
     "metadata": {},
     "output_type": "execute_result"
    }
   ],
   "source": [
    "v.assign_sub(tf.ones((3, 1)))"
   ]
  },
  {
   "cell_type": "markdown",
   "metadata": {
    "id": "xG5fON0_Vk-t"
   },
   "source": [
    "## 텐서플로우 활용법 기초"
   ]
  },
  {
   "cell_type": "markdown",
   "metadata": {
    "id": "jwExwowJVk-t"
   },
   "source": [
    "### 그레이디언트 테이프"
   ]
  },
  {
   "cell_type": "markdown",
   "metadata": {
    "id": "uPhlG16W3MTG"
   },
   "source": [
    "*경우 1) 하나의 변수에 대한 그레이디언트*"
   ]
  },
  {
   "cell_type": "markdown",
   "metadata": {
    "id": "lyLQKOfv3MTG"
   },
   "source": [
    "아래 코드는 제곱 함수의 $x = 3$에서의 미분값인 6을 계산한다.\n",
    "\n",
    "$$\n",
    "f(x) = x^2 \\quad \\Longrightarrow \\quad \\nabla f(x) = \\frac{df(x)}{dx} = 2x\n",
    "$$"
   ]
  },
  {
   "cell_type": "code",
   "execution_count": 16,
   "metadata": {
    "colab": {
     "base_uri": "https://localhost:8080/"
    },
    "id": "g-6-RoZn3MTG",
    "outputId": "99f5b3cb-1543-48b9-f48d-7289592d65cd"
   },
   "outputs": [
    {
     "name": "stdout",
     "output_type": "stream",
     "text": [
      "tf.Tensor(6.0, shape=(), dtype=float32)\n"
     ]
    }
   ],
   "source": [
    "input_var = tf.Variable(initial_value=3.)\n",
    "\n",
    "with tf.GradientTape() as tape:\n",
    "    result = tf.square(input_var)\n",
    "\n",
    "gradient = tape.gradient(result, input_var)\n",
    "\n",
    "print(gradient)"
   ]
  },
  {
   "cell_type": "markdown",
   "metadata": {
    "id": "P6KeSrEm3MTH"
   },
   "source": [
    "*경우 2) 임의의 텐서 연산에 대한 그레이디언트*"
   ]
  },
  {
   "cell_type": "code",
   "execution_count": 17,
   "metadata": {
    "id": "mQ2w_3XZ3MTH"
   },
   "outputs": [],
   "source": [
    "x = tf.Variable(tf.random.uniform((2, 2)))\n",
    "\n",
    "with tf.GradientTape() as tape:\n",
    "    y = x**2 + 3\n",
    "\n",
    "grad_of_y_wrt_x = tape.gradient(y, x)"
   ]
  },
  {
   "cell_type": "markdown",
   "metadata": {
    "id": "u2Sa0TVW3MTH"
   },
   "source": [
    "변수 `x`의 모양은 다음과 같다."
   ]
  },
  {
   "cell_type": "markdown",
   "metadata": {
    "id": "ZaJuYIat3MTH"
   },
   "source": [
    "$$\n",
    "x =\n",
    "\\begin{bmatrix}\n",
    "x_{11} & x_{12} \\\\\n",
    "x_{21} & x_{22}\n",
    "\\end{bmatrix}\n",
    "$$"
   ]
  },
  {
   "cell_type": "markdown",
   "metadata": {
    "id": "faWMBLTt3MTH"
   },
   "source": [
    "`y`를 `x`의 함수로 표현하면 다음과 같다."
   ]
  },
  {
   "cell_type": "markdown",
   "metadata": {
    "id": "tgbKrgOH3MTH"
   },
   "source": [
    "$$\n",
    "y = f(x) = x^2 + 3 =\n",
    "\\begin{bmatrix}\n",
    "x_{11}^2 + 3 & x_{12}^2 + 3 \\\\\n",
    "x_{21}^2 + 3 & x_{22}^2 + 3\n",
    "\\end{bmatrix}\n",
    "$$"
   ]
  },
  {
   "cell_type": "markdown",
   "metadata": {
    "id": "3YCVdWcx3MTH"
   },
   "source": [
    "텐서 `x`에 대한 그레이디언트는 다음과 같다."
   ]
  },
  {
   "cell_type": "markdown",
   "metadata": {
    "id": "G4mxFOyw3MTH"
   },
   "source": [
    "$$\n",
    "\\nabla f(x) =\n",
    "\\begin{bmatrix}\n",
    "2 x_{11} & 2 x_{12} \\\\\n",
    "2 x_{21} & 2 x_{22}\n",
    "\\end{bmatrix}\n",
    "$$"
   ]
  },
  {
   "cell_type": "markdown",
   "metadata": {
    "id": "B5_3gAB3OCLF"
   },
   "source": [
    "그레이디언트 계산 결과는 다음과 같다."
   ]
  },
  {
   "cell_type": "code",
   "execution_count": 18,
   "metadata": {
    "colab": {
     "base_uri": "https://localhost:8080/"
    },
    "id": "Qkvf5a8Z3MTH",
    "outputId": "1fa9229b-c015-4240-fd4e-639ba0e50fd8"
   },
   "outputs": [
    {
     "data": {
      "text/plain": [
       "<tf.Tensor: shape=(2, 2), dtype=float32, numpy=\n",
       "array([[1.3317842 , 0.66027117],\n",
       "       [0.30813575, 0.02825212]], dtype=float32)>"
      ]
     },
     "execution_count": 18,
     "metadata": {},
     "output_type": "execute_result"
    }
   ],
   "source": [
    "grad_of_y_wrt_x"
   ]
  },
  {
   "cell_type": "markdown",
   "metadata": {
    "id": "FNufbcPh3MTI"
   },
   "source": [
    "실제로 그레이디언트 계산에 사용된 `x`는 다음과 같으며\n",
    "앞서 설명한 식으로 그레이디언트가 계산되었음을\n",
    "쉽게 확인할 수 있다."
   ]
  },
  {
   "cell_type": "code",
   "execution_count": 19,
   "metadata": {
    "colab": {
     "base_uri": "https://localhost:8080/"
    },
    "id": "yxLegV0T3MTI",
    "outputId": "2b6e25b7-c341-4a03-d3bc-d22c252a0a99"
   },
   "outputs": [
    {
     "data": {
      "text/plain": [
       "<tf.Variable 'Variable:0' shape=(2, 2) dtype=float32, numpy=\n",
       "array([[0.6658921 , 0.33013558],\n",
       "       [0.15406787, 0.01412606]], dtype=float32)>"
      ]
     },
     "execution_count": 19,
     "metadata": {},
     "output_type": "execute_result"
    }
   ],
   "source": [
    "x"
   ]
  },
  {
   "cell_type": "markdown",
   "metadata": {
    "id": "IBtY5UoA3MTI"
   },
   "source": [
    "*경우 3) 변수들의 리스트에 대한 그레이언트*"
   ]
  },
  {
   "cell_type": "code",
   "execution_count": 20,
   "metadata": {
    "id": "V75HRT683MTI"
   },
   "outputs": [],
   "source": [
    "W = tf.Variable(tf.random.uniform((2, 2)))\n",
    "b = tf.Variable(tf.zeros((2,)))\n",
    "x = tf.random.uniform((2, 2))\n",
    "\n",
    "with tf.GradientTape() as tape:\n",
    "    y = tf.matmul(x, W) + b\n",
    "\n",
    "grad_of_y_wrt_W_and_b = tape.gradient(y, [W, b])"
   ]
  },
  {
   "cell_type": "markdown",
   "metadata": {
    "id": "4urKIWqK3MTI"
   },
   "source": [
    "텐서 `x`와 변수 `W`, `b`의 모양은 다음과 같다."
   ]
  },
  {
   "cell_type": "markdown",
   "metadata": {
    "id": "jbS5GsDA3MTI"
   },
   "source": [
    "$$\n",
    "x =\n",
    "\\begin{bmatrix}\n",
    "x_{11} & x_{12} \\\\\n",
    "x_{21} & x_{22}\n",
    "\\end{bmatrix},\n",
    "\\qquad\n",
    "W =\n",
    "\\begin{bmatrix}\n",
    "w_{11} & w_{12} \\\\\n",
    "w_{21} & w_{22}\n",
    "\\end{bmatrix},\n",
    "\\qquad\n",
    "b =\n",
    "\\begin{bmatrix}\n",
    "b_{1} & b_{2}\n",
    "\\end{bmatrix}\n",
    "$$"
   ]
  },
  {
   "cell_type": "markdown",
   "metadata": {
    "id": "bifIDK_e3MTI"
   },
   "source": [
    "`y`를 `W`와 `b`의 함수로 표현하면 다음과 같다."
   ]
  },
  {
   "cell_type": "markdown",
   "metadata": {
    "id": "twSWVs7_3MTI"
   },
   "source": [
    "$$\n",
    "y = f(W, b) = x\\cdot W + b =\n",
    "\\begin{bmatrix}\n",
    "x_{11}\\cdot w_{11} + x_{12}\\cdot w_{21} + b_1 & x_{11}\\cdot w_{12} + x_{12}\\cdot w_{22} + b_2 \\\\\n",
    "x_{21}\\cdot w_{11} + x_{22}\\cdot w_{21} + b_1 & x_{21}\\cdot w_{12} + x_{22}\\cdot w_{22} + b_2 \\\\\n",
    "\\end{bmatrix}\n",
    "$$"
   ]
  },
  {
   "cell_type": "markdown",
   "metadata": {
    "id": "VvD8fGcs3MTI"
   },
   "source": [
    "텐서 `x`에 대한 그레이디언트는 다음과 같다."
   ]
  },
  {
   "cell_type": "markdown",
   "metadata": {
    "id": "esYciCXu3MTJ"
   },
   "source": [
    "$$\n",
    "\\nabla f(W, b) =\n",
    "\\begin{bmatrix}\n",
    "    \\begin{bmatrix}\n",
    "    x_{11} + x_{21} & x_{11} + x_{21} \\\\\n",
    "    x_{12} + x_{22} & x_{12} + x_{22}\n",
    "    \\end{bmatrix},\n",
    "    \\begin{bmatrix}\n",
    "    2 & 2\n",
    "    \\end{bmatrix}    \n",
    "\\end{bmatrix}\n",
    "$$"
   ]
  },
  {
   "cell_type": "markdown",
   "metadata": {
    "id": "ubiYoL9COUmg"
   },
   "source": [
    "그레이디언트 계산 결과는 다음과 같다."
   ]
  },
  {
   "cell_type": "code",
   "execution_count": 21,
   "metadata": {
    "colab": {
     "base_uri": "https://localhost:8080/"
    },
    "id": "V3csw0fB3MTJ",
    "outputId": "6d3390ae-0a8c-4db4-e30e-f6dfbc7f7898"
   },
   "outputs": [
    {
     "data": {
      "text/plain": [
       "[<tf.Tensor: shape=(2, 2), dtype=float32, numpy=\n",
       " array([[0.8950006 , 0.8950006 ],\n",
       "        [0.40556693, 0.40556693]], dtype=float32)>,\n",
       " <tf.Tensor: shape=(2,), dtype=float32, numpy=array([2., 2.], dtype=float32)>]"
      ]
     },
     "execution_count": 21,
     "metadata": {},
     "output_type": "execute_result"
    }
   ],
   "source": [
    "grad_of_y_wrt_W_and_b"
   ]
  },
  {
   "cell_type": "markdown",
   "metadata": {
    "id": "VzTLmj0y3MTJ"
   },
   "source": [
    "실제로 그레이디언트 계산에 사용된 `x`는 다음과 같으며\n",
    "앞서 설명한 식으로 그레이디언트가 계산되었음을\n",
    "쉽게 확인할 수 있다."
   ]
  },
  {
   "cell_type": "code",
   "execution_count": 22,
   "metadata": {
    "colab": {
     "base_uri": "https://localhost:8080/"
    },
    "id": "p_tsUmFh3MTJ",
    "outputId": "36cfc9d2-c714-4075-edf6-2f29ecdc091d"
   },
   "outputs": [
    {
     "data": {
      "text/plain": [
       "<tf.Tensor: shape=(2, 2), dtype=float32, numpy=\n",
       "array([[0.269902  , 0.28763115],\n",
       "       [0.6250986 , 0.11793578]], dtype=float32)>"
      ]
     },
     "execution_count": 22,
     "metadata": {},
     "output_type": "execute_result"
    }
   ],
   "source": [
    "x"
   ]
  },
  {
   "cell_type": "markdown",
   "metadata": {
    "id": "lSqrAEGRVk-v"
   },
   "source": [
    "### 예제: 선형 이진 분류기"
   ]
  },
  {
   "cell_type": "markdown",
   "metadata": {
    "id": "Z8oUPEZMVk-v"
   },
   "source": [
    "케라스를 전혀 사용하지 않으면서 간단한 선형 분류기를 구현하는 과정을 통해\n",
    "텐서플로우 API의 기본 기능을 살펴 본다."
   ]
  },
  {
   "cell_type": "markdown",
   "metadata": {
    "id": "R2xFQuAC3MTK"
   },
   "source": [
    "**1단계: 데이터셋 생성**"
   ]
  },
  {
   "cell_type": "markdown",
   "metadata": {
    "id": "kHnvmtDHVk-w"
   },
   "source": [
    "`np.random.multivariate.normal()` 함수는 다변량 정규 분포를 이용하여 지정된 크기의 데이터셋을 생성하며,\n",
    "사용된 인자의 의미는 다음과 같다.\n",
    "\n",
    "- `mean`: 데이터셋의 축별 평균값\n",
    "    - 음성 데이터셋\n",
    "        - `x` 좌표의 평균값 0\n",
    "        - `y` 좌표의 평균값 3\n",
    "    - 양성 데이터셋\n",
    "        - `x` 좌표의 평균값 3\n",
    "        - `y` 좌표의 평균값 0\n",
    "- `cov=[[1, 0.5],[0.5, 1]]`: 공분산 지정\n",
    "    - 0번 특성과 1번 특성의 분포를 1대 0.5 비율로 지정.\n",
    "    - 따라서 0번 특성의 축(x-축)으로 보다 넓게 분포됨.\n",
    "- `size=1000`: 생성되는 데이터셋의 크기"
   ]
  },
  {
   "cell_type": "code",
   "execution_count": 23,
   "metadata": {
    "id": "SnusrAwA6dRz"
   },
   "outputs": [],
   "source": [
    "import numpy as np"
   ]
  },
  {
   "cell_type": "code",
   "execution_count": 24,
   "metadata": {
    "id": "gcIByjoF3MTK"
   },
   "outputs": [],
   "source": [
    "num_samples_per_class = 1000\n",
    "\n",
    "# 음성 데이터셋\n",
    "negative_samples = np.random.multivariate_normal(\n",
    "    mean=[0, 3], cov=[[1, 0.5],[0.5, 1]], size=num_samples_per_class)\n",
    "\n",
    "# 양성 데이터셋\n",
    "positive_samples = np.random.multivariate_normal(\n",
    "    mean=[3, 0], cov=[[1, 0.5],[0.5, 1]], size=num_samples_per_class)"
   ]
  },
  {
   "cell_type": "markdown",
   "metadata": {
    "id": "bg6qERiHVk-w"
   },
   "source": [
    "두 데이터셋을 합쳐서 훈련셋, 즉, 모델의 입력값으로 지정한다.\n",
    "`np.vstack()` 함수는 여러 개의 데이터셋을 위아래로 쌓는다.\n",
    "자료형을 `np.float32`로 지정함에 주의하라.\n",
    "그렇게 하지 않으면 기본 자료형인 `np.float64`로 지정되어 보다 많은 메모리와 실행시간을 요구한다."
   ]
  },
  {
   "cell_type": "markdown",
   "metadata": {
    "id": "ARoM8tjdVk-w"
   },
   "source": [
    "- `negative_sample`: (1000, 2) 모양의 텐서\n",
    "- `positive_sample`: (1000, 2) 모양의 텐서\n",
    "- `inputs = np.vstack(negative_sample, positive_sample)`: (2000, 2) 모양의 텐서\n",
    "    - `negative_sample` 데이터셋이 0번부터 999번까지 인덱스.\n",
    "    - `positive_sample` 데이터셋이 1000번부터 1999번까지 인덱스."
   ]
  },
  {
   "cell_type": "code",
   "execution_count": 25,
   "metadata": {
    "id": "ag2ehOQA3MTK"
   },
   "outputs": [],
   "source": [
    "inputs = np.vstack((negative_samples, positive_samples)).astype(np.float32)"
   ]
  },
  {
   "cell_type": "markdown",
   "metadata": {
    "id": "mOMcMl9zVk-w"
   },
   "source": [
    "음성 샘플의 레이블은 0, 양성 샘플의 레이블은 1로 지정한다.\n",
    "레이블 데이터셋 또한 2차원 어레이로 지정됨에 주의하라.\n",
    "이유는 케라스의 신경망 모델은 하나의 입력 샘플에 대해 여러 종류의 예측값을 계산하도록 설계되어 있기 때문에\n",
    "여기서처럼 입력 샘플 각각에 대해 양성/음성 여부 하나만 예측하더라도 길이가 1인 벡터로 출력값이 계산된다.\n",
    "즉, 층에 사용되는 유닛이 하나라 하더라도 스칼라가 아닌 길이가 1인 벡터로 층의 출력값이 계산된다."
   ]
  },
  {
   "cell_type": "markdown",
   "metadata": {
    "id": "DOqcZ-zSVk-w"
   },
   "source": [
    "- `np.zeros((num_samples_per_class, 1), dtype=\"float32\")`: (1000, 1) 모양의 어레이. 0으로 채워짐.\n",
    "    0번부터 999번 인덱스까지의 모든 음성 데이터의 타깃은 0임.\n",
    "- `np.ones((num_samples_per_class, 1), dtype=\"float32\")`: (1000, 1) 모양의 어레이. 1로 채워짐.\n",
    "    999번부터 1999번 인덱스까지의 모든 양성 데이터의 타깃은 1임.\n",
    "- `targets`: (2000, 1) 모양의 어레이."
   ]
  },
  {
   "cell_type": "code",
   "execution_count": 26,
   "metadata": {
    "id": "0dw_f8rp3MTK"
   },
   "outputs": [],
   "source": [
    "targets = np.vstack((np.zeros((num_samples_per_class, 1), dtype=\"float32\"),\n",
    "                     np.ones((num_samples_per_class, 1), dtype=\"float32\")))"
   ]
  },
  {
   "cell_type": "markdown",
   "metadata": {
    "id": "qslmk_D13MTK"
   },
   "source": [
    "양성, 음성 샘플을 색깔로 구분하면 다음과 같다.\n",
    "\n",
    "- `inputs[:, 0]`: x 좌표\n",
    "- `inputs[:, 1]`: y 좌표\n",
    "- `c=targets[:, 0]`: 0 또는 1에 따른 색상 지정"
   ]
  },
  {
   "cell_type": "code",
   "execution_count": 27,
   "metadata": {
    "colab": {
     "base_uri": "https://localhost:8080/",
     "height": 430
    },
    "id": "5tAd9Wwx3MTK",
    "outputId": "08071bfb-d3c2-44c6-b41f-1477dcd307f8"
   },
   "outputs": [
    {
     "data": {
      "image/png": "[encoded data removed]",
      "text/plain": [
       "<Figure size 432x288 with 1 Axes>"
      ]
     },
     "metadata": {
      "needs_background": "light"
     },
     "output_type": "display_data"
    }
   ],
   "source": [
    "import matplotlib.pyplot as plt\n",
    "\n",
    "plt.scatter(inputs[:, 0], inputs[:, 1], c=targets[:, 0])\n",
    "plt.show()"
   ]
  },
  {
   "cell_type": "markdown",
   "metadata": {
    "id": "fVrX8R3lVk-x"
   },
   "source": [
    "**2단계: 선형 회귀 모델 훈련에 필요한 가중치 변수 텐서와 편향 변수 텐서 생성**"
   ]
  },
  {
   "cell_type": "markdown",
   "metadata": {
    "id": "5UuepWpdICh9"
   },
   "source": [
    "선형 분류기 모델의 예측값 계산은 다음과 같이 이뤄진다.\n",
    "\n",
    "```python\n",
    "inputs @ W + b\n",
    "```\n",
    "\n",
    "- `inputs`: (2000, 2) 모양의 입력 데이터셋 행렬\n",
    "- `W`: (2, 1) 모양의 가중치 행렬\n",
    "- `inputs @ W`: (2000, 1) 모양의 행렬\n",
    "-  `b`: (1,) 모양의 벡터\n",
    "- `inputs @ W + b`: (2000, 1) 모양의 출력값 행렬. 즉, 2000 개의 입력 데이터 각각에 대해 하나의 값의 계산됨."
   ]
  },
  {
   "cell_type": "markdown",
   "metadata": {
    "id": "bVj-gZ0dVk-x"
   },
   "source": [
    "위 식을 구현하기 위해 먼저 아핀 변환에 사용될 가중치 행렬과 편향 벡터를 각각\n",
    "(2000, 2) 모양의 변수 텐서와 (1, ) 모양의 변수 텐서로 선언한다.\n",
    "`input_dim`과 `output_dim` 은 각각 입력 샘플의 차원고하 출력 샘플의 차원을 가리킨다."
   ]
  },
  {
   "cell_type": "code",
   "execution_count": 28,
   "metadata": {
    "id": "uk9_Dip93MTK"
   },
   "outputs": [],
   "source": [
    "input_dim = 2     # 입력 샘플의 특성이 2개\n",
    "output_dim = 1    # 하나의 값으로 출력"
   ]
  },
  {
   "cell_type": "markdown",
   "metadata": {
    "id": "aDpdxUbRVk-x"
   },
   "source": [
    "가중치 행렬은 정규 분포를 이용하여 무작위로, 편향 벡터는 0 벡터로 초기화 한다."
   ]
  },
  {
   "cell_type": "code",
   "execution_count": 29,
   "metadata": {
    "id": "dZeXvh_HVk-x"
   },
   "outputs": [],
   "source": [
    "# 가중치: 무작위 초기화\n",
    "W = tf.Variable(initial_value=tf.random.uniform(shape=(input_dim, output_dim)))\n",
    "\n",
    "# 편향: 0으로 초기화\n",
    "b = tf.Variable(initial_value=tf.zeros(shape=(output_dim,)))"
   ]
  },
  {
   "cell_type": "markdown",
   "metadata": {
    "id": "lv1h9Xom3MTL"
   },
   "source": [
    "**3단계: 모델 선언(포워드 패스)**"
   ]
  },
  {
   "cell_type": "markdown",
   "metadata": {
    "id": "gG4TjUmIVk-x"
   },
   "source": [
    "아래 `dense()` 함수는 밀집층(dense layer)에서의 아핀 변환을 담당한다."
   ]
  },
  {
   "cell_type": "code",
   "execution_count": 30,
   "metadata": {
    "id": "w0zZElKbVk-x"
   },
   "outputs": [],
   "source": [
    "def dense(inputs, W, b, activation=None):\n",
    "    outputs = tf.matmul(inputs, W) + b\n",
    "    if activation != None:\n",
    "        return activation(outputs)\n",
    "    else:\n",
    "        return outputs"
   ]
  },
  {
   "cell_type": "markdown",
   "metadata": {
    "id": "natgAQ4MVk-y"
   },
   "source": [
    "신경망 모델을 훈련할 때 입력값에 대한 예측값을 계산하는 과정인\n",
    "포워드 패스를 함수로 구현한다.\n",
    "여기서는 간단한 모델 표현을 위해 하나의 유닛으로 구성된 층 하나로 구성된 모델을 설정한다.\n",
    "즉, 앞서 언급한 아핀 변환으로 바로 모델의 출력값을 계산하는 모델을 사용한다.\n",
    "또한 보다 간단한 설명을 위해 활성화 함수는 사용하지 않는다."
   ]
  },
  {
   "cell_type": "code",
   "execution_count": 31,
   "metadata": {
    "id": "Zx5B9SVfVk-y"
   },
   "outputs": [],
   "source": [
    "def model(inputs):\n",
    "    outputs = dense(inputs, W, b)\n",
    "    return outputs"
   ]
  },
  {
   "cell_type": "markdown",
   "metadata": {
    "id": "xTKXHNC13MTL"
   },
   "source": [
    "**4단계: 손실 함수 지정**"
   ]
  },
  {
   "cell_type": "markdown",
   "metadata": {
    "id": "CUVFolU_Vk-y"
   },
   "source": [
    "타깃과 예측값 사이의 평균 제곱 오차를 손실값으로 사용한다.\n",
    "아래 식에서 $m_b$은 배치 크기를 가리킨다.\n",
    "\n",
    "$$\n",
    "\\frac{1}{m_b}\\sum (y - \\hat y)^2\n",
    "$$\n",
    "\n",
    "아래 코드에서 `tf.reduce_mean()` 함수는 텐서 항목들의 평균값을 계산한다."
   ]
  },
  {
   "cell_type": "code",
   "execution_count": 32,
   "metadata": {
    "id": "qt0wyORc3MTL"
   },
   "outputs": [],
   "source": [
    "def square_loss(targets, predictions):\n",
    "    per_sample_losses = tf.square(targets - predictions)\n",
    "    return tf.reduce_mean(per_sample_losses)"
   ]
  },
  {
   "cell_type": "markdown",
   "metadata": {
    "id": "oDk-PlGkVk-y"
   },
   "source": [
    "**5단계: 훈련 스텝(역전파) 지정**"
   ]
  },
  {
   "cell_type": "markdown",
   "metadata": {
    "id": "nUavv5NJVk-y"
   },
   "source": [
    "아래 `training_step()` 함수는\n",
    "하나의 배치 입력 데이터셋에 대해 역전파 기능을 수행한다.\n",
    "\n",
    "- 그레이디언트 테이프\n",
    "    - 모델의 예측값을 이용하여 손실 함수 계산\n",
    "    - 손실 함수의 그레이디언트 계산 준비\n",
    "- 가중치 변수 텐서와 편향 변수 텐서에 대한 손실 함수의 그레이디언트 계산\n",
    "- 가중치 행렬과 편향 벡터 업데이트"
   ]
  },
  {
   "cell_type": "code",
   "execution_count": 33,
   "metadata": {
    "id": "vkZgu7cu3MTM"
   },
   "outputs": [],
   "source": [
    "learning_rate = 0.1\n",
    "\n",
    "def training_step(inputs, targets):\n",
    "    \"\"\"\n",
    "    - inputs: 입력 데이터 배치\n",
    "    - targets: 타깃 배치\n",
    "    \"\"\"\n",
    "\n",
    "    # 손실 함수의 그레이디언트 계산 준비\n",
    "    with tf.GradientTape() as tape:\n",
    "        predictions = model(inputs)\n",
    "        loss = square_loss(targets, predictions)\n",
    "\n",
    "    # 가중치와 편향에 대한 그레이디언트 계산\n",
    "    grad_loss_wrt_W, grad_loss_wrt_b = tape.gradient(loss, [W, b])\n",
    "\n",
    "    # 가중치 행렬과 편향 벡터 업데이트(경사하강법 적용)\n",
    "    W.assign_sub(grad_loss_wrt_W * learning_rate) # 가중치 행렬 업데이트\n",
    "    b.assign_sub(grad_loss_wrt_b * learning_rate) # 편향 업데이트\n",
    "\n",
    "    return loss"
   ]
  },
  {
   "cell_type": "markdown",
   "metadata": {
    "id": "knMi10Uq3MTM"
   },
   "source": [
    "**6단계: 훈련 루프 지정**"
   ]
  },
  {
   "cell_type": "markdown",
   "metadata": {
    "id": "HKwUXN_rVk-y"
   },
   "source": [
    "반복해서 훈련한 내용을 출력한다.\n",
    "여기서는 설명을 간단하게 하기 위해 전체 데이터셋을 하나의 배치로 사용하는 훈련을 구현한다.\n",
    "전체 훈련셋을 총 40번 반복 학습할 때마다 손실값을 출력하도록 한다."
   ]
  },
  {
   "cell_type": "code",
   "execution_count": 34,
   "metadata": {
    "colab": {
     "base_uri": "https://localhost:8080/"
    },
    "id": "K4wUxxEc3MTM",
    "outputId": "65bb615d-45a9-4f3b-e205-5e15f44570f5"
   },
   "outputs": [
    {
     "name": "stdout",
     "output_type": "stream",
     "text": [
      "Loss at step 0: 1.5860\n",
      "Loss at step 1: 0.2955\n",
      "Loss at step 2: 0.1368\n",
      "Loss at step 3: 0.1109\n",
      "Loss at step 4: 0.1016\n",
      "Loss at step 5: 0.0949\n",
      "Loss at step 6: 0.0889\n",
      "Loss at step 7: 0.0836\n",
      "Loss at step 8: 0.0786\n",
      "Loss at step 9: 0.0741\n",
      "Loss at step 10: 0.0701\n",
      "Loss at step 11: 0.0663\n",
      "Loss at step 12: 0.0629\n",
      "Loss at step 13: 0.0598\n",
      "Loss at step 14: 0.0569\n",
      "Loss at step 15: 0.0544\n",
      "Loss at step 16: 0.0520\n",
      "Loss at step 17: 0.0498\n",
      "Loss at step 18: 0.0479\n",
      "Loss at step 19: 0.0461\n",
      "Loss at step 20: 0.0444\n",
      "Loss at step 21: 0.0429\n",
      "Loss at step 22: 0.0416\n",
      "Loss at step 23: 0.0403\n",
      "Loss at step 24: 0.0392\n",
      "Loss at step 25: 0.0381\n",
      "Loss at step 26: 0.0372\n",
      "Loss at step 27: 0.0363\n",
      "Loss at step 28: 0.0355\n",
      "Loss at step 29: 0.0348\n",
      "Loss at step 30: 0.0342\n",
      "Loss at step 31: 0.0336\n",
      "Loss at step 32: 0.0330\n",
      "Loss at step 33: 0.0325\n",
      "Loss at step 34: 0.0320\n",
      "Loss at step 35: 0.0316\n",
      "Loss at step 36: 0.0313\n",
      "Loss at step 37: 0.0309\n",
      "Loss at step 38: 0.0306\n",
      "Loss at step 39: 0.0303\n"
     ]
    }
   ],
   "source": [
    "for step in range(40):\n",
    "    loss = training_step(inputs, targets)\n",
    "    print(f\"Loss at step {step}: {loss:.4f}\")"
   ]
  },
  {
   "cell_type": "markdown",
   "metadata": {
    "id": "2InqUHf23MTM"
   },
   "source": [
    "훈련상태를 보면 여전히 개선의 여지가 보인다. 따라서 학습을 좀 더 시켜본다."
   ]
  },
  {
   "cell_type": "code",
   "execution_count": 35,
   "metadata": {
    "colab": {
     "base_uri": "https://localhost:8080/"
    },
    "id": "ymKTmAVg3MTM",
    "outputId": "d53dd076-5217-4c43-ad9c-ab26ebd417d7"
   },
   "outputs": [
    {
     "name": "stdout",
     "output_type": "stream",
     "text": [
      "Loss at step 0: 0.0300\n",
      "Loss at step 10: 0.0284\n",
      "Loss at step 20: 0.0277\n",
      "Loss at step 30: 0.0275\n",
      "Loss at step 40: 0.0274\n",
      "Loss at step 50: 0.0273\n",
      "Loss at step 60: 0.0273\n",
      "Loss at step 70: 0.0273\n",
      "Loss at step 80: 0.0273\n",
      "Loss at step 90: 0.0273\n"
     ]
    }
   ],
   "source": [
    "for step in range(100):\n",
    "    loss = training_step(inputs, targets)\n",
    "    if step % 10 == 0:\n",
    "        print(f\"Loss at step {step}: {loss:.4f}\")"
   ]
  },
  {
   "cell_type": "markdown",
   "metadata": {
    "id": "vxr_ad5xVk-z"
   },
   "source": [
    "**7단계: 결정경계**"
   ]
  },
  {
   "cell_type": "code",
   "execution_count": 36,
   "metadata": {
    "id": "QYzRUYxU3MTM"
   },
   "outputs": [],
   "source": [
    "predictions = model(inputs)"
   ]
  },
  {
   "cell_type": "markdown",
   "metadata": {
    "id": "RwStHTmxVk-z"
   },
   "source": [
    "모델의 예측값이 0.5보다 클 때 양성으로 판정한다.\n",
    "이유는 샘플들의 레이블이 0 또는 1이기 때문이다.\n",
    "모델은 훈련과정 중에 음성 샘플은 최대한 0에,\n",
    "양성 샘플은 최대한 1에 가까운 값으로 예측하여 손실값을 최대한 줄여야 하는데\n",
    "`training_step()` 함수에서 구현된 경사하강법이 그렇게 유도한다.\n",
    "따라서 예측값이 0과 1의 중간값인 0.5일 때를 결정경계로 사용한다.\n",
    "\n",
    "아래 코드는 예측 결과에 따른 산점도로 보여준다.\n",
    "거의 모든 샘플에 대해 원래의 레이블과 동일한 예측값을 계산함을 알 수 있다."
   ]
  },
  {
   "cell_type": "code",
   "execution_count": 37,
   "metadata": {
    "colab": {
     "base_uri": "https://localhost:8080/",
     "height": 430
    },
    "id": "CD5uY2kP3MTN",
    "outputId": "2821af1c-4980-4495-8ddd-e736f2777cbe"
   },
   "outputs": [
    {
     "data": {
      "image/png": "[encoded data removed]",
      "text/plain": [
       "<Figure size 432x288 with 1 Axes>"
      ]
     },
     "metadata": {
      "needs_background": "light"
     },
     "output_type": "display_data"
    }
   ],
   "source": [
    "plt.scatter(inputs[:, 0], inputs[:, 1], c=predictions[:, 0] > 0.5)\n",
    "plt.show()"
   ]
  },
  {
   "cell_type": "markdown",
   "metadata": {
    "id": "TEF1YnhsVk-z"
   },
   "source": [
    "결정경계를 직선으로 그리려면 아래 일차 함수를 이용한다.\n",
    "\n",
    "```python\n",
    "y = - W[0] /  W[1] * x + (0.5 - b) / W[1]\n",
    "```\n",
    "\n",
    "이유는 아래 식으로 계산되는 모델의 예측값이\n",
    "0.5보다 큰지 여부에 따라 양성/음성이 판단되기 때문이다.\n",
    "\n",
    "```python\n",
    "W[0]*x + W[1]*y + b\n",
    "```"
   ]
  },
  {
   "cell_type": "code",
   "execution_count": 38,
   "metadata": {
    "colab": {
     "base_uri": "https://localhost:8080/",
     "height": 430
    },
    "id": "l4ymdFGT3MTN",
    "outputId": "920ce299-ff51-4b10-c8be-78437d5d3822"
   },
   "outputs": [
    {
     "data": {
      "image/png": "[encoded data removed]",
      "text/plain": [
       "<Figure size 432x288 with 1 Axes>"
      ]
     },
     "metadata": {
      "needs_background": "light"
     },
     "output_type": "display_data"
    }
   ],
   "source": [
    "x = np.linspace(-2.5, 6, 150)\n",
    "y = - W[0] /  W[1] * x + (0.5 - b) / W[1]\n",
    "\n",
    "plt.plot(x, y, \"-r\")\n",
    "plt.scatter(inputs[:, 0], inputs[:, 1], c=predictions[:, 0] > 0.5)\n",
    "plt.show()"
   ]
  },
  {
   "cell_type": "markdown",
   "metadata": {
    "id": "zMRmlKOj3MTN"
   },
   "source": [
    "## 케라스 신경망 모델의 핵심 API"
   ]
  },
  {
   "cell_type": "markdown",
   "metadata": {
    "id": "FdiQWlPJ3MTO"
   },
   "source": [
    "### 층"
   ]
  },
  {
   "cell_type": "markdown",
   "metadata": {
    "id": "Ok4fVRn73MTO"
   },
   "source": [
    "**`Dense` 클래스 직접 구현하기**"
   ]
  },
  {
   "cell_type": "markdown",
   "metadata": {
    "id": "UKtpzohg3MTO"
   },
   "source": [
    "`Dense` 클래스와 유사하게 작동하는 클래스를 직접 정의하려면\n",
    "상속해야 하는 `keras.layers.Layer` 클래스의 `__call()__` 메서드에 의해 호출되는\n",
    "`build()` 메서드와 `call()` 메서드를 구현해야 한다.\n",
    "아래 `SimpleDense` 클래스가 `Dense` 클래스의 기능을 단순화하여 구현한다."
   ]
  },
  {
   "cell_type": "code",
   "execution_count": 39,
   "metadata": {
    "id": "mHjearob3MTO"
   },
   "outputs": [],
   "source": [
    "from tensorflow import keras\n",
    "\n",
    "class SimpleDense(keras.layers.Layer):\n",
    "\n",
    "    def __init__(self, units, activation=None):\n",
    "        super().__init__()\n",
    "        self.units = units\n",
    "        self.activation = activation\n",
    "\n",
    "    def build(self, input_shape):\n",
    "        input_dim = input_shape[-1]   # 입력 샘플의 특성 수\n",
    "        self.W = self.add_weight(shape=(input_dim, self.units),\n",
    "                                 initializer=\"random_normal\")\n",
    "        self.b = self.add_weight(shape=(self.units,),\n",
    "                                 initializer=\"zeros\")\n",
    "\n",
    "    def call(self, inputs):\n",
    "        y = tf.matmul(inputs, self.W) + self.b\n",
    "        if self.activation is not None:\n",
    "            y = self.activation(y)\n",
    "        return y"
   ]
  },
  {
   "cell_type": "markdown",
   "metadata": {
    "id": "67EsoEdL3MTO"
   },
   "source": [
    "**Example (`SimpleDense` 층의 데이터 변환)**"
   ]
  },
  {
   "cell_type": "markdown",
   "metadata": {
    "id": "3P2zkId53MTP"
   },
   "source": [
    "- 모델 구성: 생성자에 의해 출력 샘플의 특성수와 활성화 함수 지정.\n",
    "    - 입력 데이터셋 샘플의 특성수는 지정할 필요 없음."
   ]
  },
  {
   "cell_type": "code",
   "execution_count": 40,
   "metadata": {
    "id": "yNMcflq43MTP"
   },
   "outputs": [],
   "source": [
    "my_dense = SimpleDense(units=512, activation=tf.nn.relu)"
   ]
  },
  {
   "cell_type": "markdown",
   "metadata": {
    "id": "gMjS-p5s3MTP"
   },
   "source": [
    "- 입력 데이터셋 지정: 입력 샘플 하나의 특성수는 784. 샘플 수는 128 개."
   ]
  },
  {
   "cell_type": "code",
   "execution_count": 41,
   "metadata": {
    "id": "9klaNjsE3MTP"
   },
   "outputs": [],
   "source": [
    "input_tensor = tf.ones(shape=(128, 784))"
   ]
  },
  {
   "cell_type": "markdown",
   "metadata": {
    "id": "drGTNL9P3MTP"
   },
   "source": [
    "출력값 생성: `__call__()` 메서드를  실행하면 다음 사항들이 연속적으로 처리된다.\n",
    "\n",
    "- 가중치 텐서와 와 편향 텐서가 생성되지 않은 경우\n",
    "    - 가중치 텐서 `W` 생성 및 초기화: `(784, 512)`\n",
    "    - 편향 텐서 `b` 생성 및 초기화: `(512, )`\n",
    "- 생성된 가중치와 편향을 이용하여 출력값 계산(아핀 변환 및 활성화 함수 적용)"
   ]
  },
  {
   "cell_type": "code",
   "execution_count": 42,
   "metadata": {
    "colab": {
     "base_uri": "https://localhost:8080/"
    },
    "id": "oHNXYr-S3MTP",
    "outputId": "8fefedf8-16c1-4c04-dbfa-7505fca9013c"
   },
   "outputs": [
    {
     "name": "stdout",
     "output_type": "stream",
     "text": [
      "(128, 512)\n"
     ]
    }
   ],
   "source": [
    "output_tensor = my_dense(input_tensor)\n",
    "\n",
    "print(output_tensor.shape)"
   ]
  },
  {
   "cell_type": "markdown",
   "metadata": {
    "id": "jGUFehOY3MTP"
   },
   "source": [
    "### 모델"
   ]
  },
  {
   "cell_type": "markdown",
   "metadata": {},
   "source": [
    "`Sequential` 모델처럼 작동하는 클래스를 직접 정의한다."
   ]
  },
  {
   "cell_type": "code",
   "execution_count": 43,
   "metadata": {
    "id": "Z9sHarxnXKnV"
   },
   "outputs": [],
   "source": [
    "class MySequential(keras.Model):\n",
    "    def __init__(self, list_layers): # 층들의 리스트 지정\n",
    "        super().__init__()\n",
    "        self.list_layers = list_layers\n",
    "\n",
    "    # 포워드 패스: 층과 층을 연결하는 방식으로 구현\n",
    "    def call(self, inputs):\n",
    "        outputs = inputs\n",
    "        for layer in self.list_layers:\n",
    "            outputs = layer(outputs)\n",
    "        return outputs"
   ]
  },
  {
   "cell_type": "markdown",
   "metadata": {},
   "source": [
    "아래 두 개의 층을 이용하여 모델을 지정하고 다중 클래스 분류 모델에 맞게 모델을 컴파일한다."
   ]
  },
  {
   "cell_type": "code",
   "execution_count": 44,
   "metadata": {},
   "outputs": [],
   "source": [
    "layer_1 = SimpleDense(units=512, activation=tf.nn.relu)   # 첫째 밀집층\n",
    "layer_2 = SimpleDense(units=10, activation=tf.nn.softmax) # 둘째 밀집층"
   ]
  },
  {
   "cell_type": "code",
   "execution_count": 45,
   "metadata": {
    "id": "vSx-mAmNXNE6"
   },
   "outputs": [],
   "source": [
    "model = MySequential([layer_1, layer_2])"
   ]
  },
  {
   "cell_type": "markdown",
   "metadata": {
    "id": "OChs9hXr3MTP"
   },
   "source": [
    "**모델 컴파일**"
   ]
  },
  {
   "cell_type": "markdown",
   "metadata": {
    "id": "JwfeVOB53MTP"
   },
   "source": [
    "모델의 훈련을 위해서 먼저 다음 세 가지 설정을 추가로 지정해야 한다.\n",
    "\n",
    "- 손실 함수: 훈련 중 모델의 성능이 얼마나 나쁜지 측정.\n",
    "    미분가능한 함수이어야 하며 옵티마이저가 역전파를 통해\n",
    "    모델의 성능을 향상시키는 방향으로 모델의 가중치를 업데이트할 때\n",
    "    참고하는 함수임.\n",
    "- 옵티마이저: 백워드 패스와 역전파를 담당하는 알고리즘\n",
    "- 평가지표: 훈련과 테스트 과정을 모니터링 할 때 사용되는 모델 평가 지표.\n",
    "    옵티마이저와 손실함수와는 달리 훈련에 관여하지 않으면서\n",
    "    모델 성능 평가에 사용됨."
   ]
  },
  {
   "cell_type": "code",
   "execution_count": 46,
   "metadata": {
    "id": "eQzEjFHlXWJF"
   },
   "outputs": [],
   "source": [
    "model.compile(optimizer=\"rmsprop\",\n",
    "              loss=\"sparse_categorical_crossentropy\",\n",
    "              metrics=[\"accuracy\"])"
   ]
  },
  {
   "cell_type": "markdown",
   "metadata": {
    "id": "Hg8tWVMH3MTQ"
   },
   "source": [
    "### 훈련 루프"
   ]
  },
  {
   "cell_type": "markdown",
   "metadata": {
    "id": "hrnAXUBU3MTQ"
   },
   "source": [
    "모델을 컴파일한 다음에 `fit()` 메서드를 호출하면\n",
    "모델은 스텝과 에포크 단위로 반복되는 **훈련 루프**<font size='2'>training loop</font>를\n",
    "지정된 횟수만큼 또는 학습이 충분히 이루어졌다는 평가가 내려질 때까지\n",
    "반복하는 훈련을 시작한다."
   ]
  },
  {
   "cell_type": "code",
   "execution_count": 47,
   "metadata": {
    "id": "ZAkXahW9jE48"
   },
   "outputs": [],
   "source": [
    "from tensorflow.keras.datasets import mnist\n",
    "(train_images, train_labels), (test_images, test_labels) = mnist.load_data()"
   ]
  },
  {
   "cell_type": "code",
   "execution_count": 48,
   "metadata": {
    "id": "iwUYuuaVjFR8"
   },
   "outputs": [],
   "source": [
    "train_images = train_images.reshape((60000, 28 * 28))\n",
    "train_images = train_images.astype(\"float32\") / 255   # 0과 1사이의 값\n",
    "test_images = test_images.reshape((10000, 28 * 28))\n",
    "test_images = test_images.astype(\"float32\") / 255     # 0과 1사이의 값"
   ]
  },
  {
   "cell_type": "markdown",
   "metadata": {
    "id": "4kqMLXB23MTQ"
   },
   "source": [
    "**지도 학습 모델 훈련**"
   ]
  },
  {
   "cell_type": "code",
   "execution_count": 49,
   "metadata": {
    "colab": {
     "base_uri": "https://localhost:8080/"
    },
    "id": "pqNgZjzajSmg",
    "outputId": "60eada03-668a-42d6-a928-7a0ccc953f8a",
    "scrolled": true
   },
   "outputs": [
    {
     "name": "stdout",
     "output_type": "stream",
     "text": [
      "Epoch 1/5\n",
      "469/469 [==============================] - 2s 4ms/step - loss: 0.2647 - accuracy: 0.9243\n",
      "Epoch 2/5\n",
      "469/469 [==============================] - 2s 4ms/step - loss: 0.1062 - accuracy: 0.9687\n",
      "Epoch 3/5\n",
      "469/469 [==============================] - 2s 4ms/step - loss: 0.0698 - accuracy: 0.9791\n",
      "Epoch 4/5\n",
      "469/469 [==============================] - 2s 4ms/step - loss: 0.0510 - accuracy: 0.9845\n",
      "Epoch 5/5\n",
      "469/469 [==============================] - 2s 4ms/step - loss: 0.0381 - accuracy: 0.9885\n"
     ]
    }
   ],
   "source": [
    "training_history = model.fit(train_images, train_labels, epochs=5, batch_size=128)"
   ]
  },
  {
   "cell_type": "markdown",
   "metadata": {
    "id": "W_JI-5Rc3MTQ"
   },
   "source": [
    "**훈련 결과**"
   ]
  },
  {
   "cell_type": "markdown",
   "metadata": {
    "id": "E71icA5H3MTQ"
   },
   "source": [
    "훈련이 종료되면 `fit()` 메서드는 `History` 객체를 반환하며,\n",
    "`history` 속성에 훈련 과정 중에 측정된 손실값, 평가지표를 에포크 단위로 기억한다."
   ]
  },
  {
   "cell_type": "code",
   "execution_count": 50,
   "metadata": {
    "colab": {
     "base_uri": "https://localhost:8080/"
    },
    "id": "5x-eBSZn3MTQ",
    "outputId": "c4985496-ab63-492e-caad-198516ac9f8c"
   },
   "outputs": [
    {
     "data": {
      "text/plain": [
       "{'loss': [0.2646557688713074,\n",
       "  0.10615721344947815,\n",
       "  0.06981465965509415,\n",
       "  0.05098618566989899,\n",
       "  0.03809049725532532],\n",
       " 'accuracy': [0.9243000149726868,\n",
       "  0.9686833620071411,\n",
       "  0.9790999889373779,\n",
       "  0.9845499992370605,\n",
       "  0.9884833097457886]}"
      ]
     },
     "execution_count": 50,
     "metadata": {},
     "output_type": "execute_result"
    }
   ],
   "source": [
    "training_history.history"
   ]
  },
  {
   "cell_type": "markdown",
   "metadata": {
    "id": "G5_E9B2a3MTQ"
   },
   "source": [
    "**검증 데이터 활용**"
   ]
  },
  {
   "cell_type": "markdown",
   "metadata": {
    "id": "UvCq2dRV3MTQ"
   },
   "source": [
    "아래 과정은 훈련셋와 검증셋를 수동으로 구분하는 방법을 보여준다."
   ]
  },
  {
   "cell_type": "markdown",
   "metadata": {
    "id": "BSEsWNYq3MTQ"
   },
   "source": [
    "- `np.random.permutation()` 함수는 숫자들을 무작위로 섞는다.\n",
    "    이를 이용하여 훈련세트의 인덱스를 무작위로 섞는다."
   ]
  },
  {
   "cell_type": "code",
   "execution_count": 51,
   "metadata": {
    "id": "giDaw6Vf3MTQ"
   },
   "outputs": [],
   "source": [
    "indices_permutation = np.random.permutation(len(train_images))"
   ]
  },
  {
   "cell_type": "markdown",
   "metadata": {
    "id": "GCF2ZpIP3MTQ"
   },
   "source": [
    "- 무작위로 섞인 인덱스를 이용하여 데이터셋으르 재정렬 한다."
   ]
  },
  {
   "cell_type": "code",
   "execution_count": 52,
   "metadata": {
    "id": "5TCAKjgG3MTQ"
   },
   "outputs": [],
   "source": [
    "shuffled_inputs = train_images[indices_permutation]\n",
    "shuffled_targets = train_labels[indices_permutation]"
   ]
  },
  {
   "cell_type": "markdown",
   "metadata": {
    "id": "G3Oweohz3MTQ"
   },
   "source": [
    "- 재정렬된 데이터셋의 30%를 검증셋로 분류한다."
   ]
  },
  {
   "cell_type": "code",
   "execution_count": 53,
   "metadata": {
    "id": "z5mP-XsK3MTR"
   },
   "outputs": [],
   "source": [
    "num_validation_samples = int(0.3 * len(train_images))\n",
    "\n",
    "val_inputs = shuffled_inputs[:num_validation_samples]\n",
    "val_targets = shuffled_targets[:num_validation_samples]"
   ]
  },
  {
   "cell_type": "markdown",
   "metadata": {
    "id": "QBPXVuQy3MTR"
   },
   "source": [
    "- 나머지는 훈련셋로 지정한다."
   ]
  },
  {
   "cell_type": "code",
   "execution_count": 54,
   "metadata": {
    "id": "GV_Dg2-M3MTR"
   },
   "outputs": [],
   "source": [
    "training_inputs = shuffled_inputs[num_validation_samples:]\n",
    "training_targets = shuffled_targets[num_validation_samples:]"
   ]
  },
  {
   "cell_type": "markdown",
   "metadata": {
    "id": "zYwY58wM3MTR"
   },
   "source": [
    "*훈련 중 모델 검증*"
   ]
  },
  {
   "cell_type": "markdown",
   "metadata": {
    "id": "JL075f2Y3MTR"
   },
   "source": [
    "- 훈련셋를 대상으로 하는 훈련과 검증셋를 대상으로 하는 평가를 동시에 진행할 수 있다."
   ]
  },
  {
   "cell_type": "code",
   "execution_count": 55,
   "metadata": {
    "colab": {
     "base_uri": "https://localhost:8080/"
    },
    "id": "L5Plrxp33MTR",
    "outputId": "22e5d183-29d5-4875-ba5c-3a7cc808f78a"
   },
   "outputs": [
    {
     "name": "stdout",
     "output_type": "stream",
     "text": [
      "Epoch 1/5\n",
      "329/329 [==============================] - 2s 5ms/step - loss: 0.0289 - accuracy: 0.9914 - val_loss: 0.0291 - val_accuracy: 0.9911\n",
      "Epoch 2/5\n",
      "329/329 [==============================] - 2s 5ms/step - loss: 0.0208 - accuracy: 0.9939 - val_loss: 0.0346 - val_accuracy: 0.9894\n",
      "Epoch 3/5\n",
      "329/329 [==============================] - 2s 5ms/step - loss: 0.0161 - accuracy: 0.9953 - val_loss: 0.0308 - val_accuracy: 0.9903\n",
      "Epoch 4/5\n",
      "329/329 [==============================] - 2s 5ms/step - loss: 0.0113 - accuracy: 0.9970 - val_loss: 0.0422 - val_accuracy: 0.9868\n",
      "Epoch 5/5\n",
      "329/329 [==============================] - 2s 5ms/step - loss: 0.0090 - accuracy: 0.9972 - val_loss: 0.0359 - val_accuracy: 0.9893\n"
     ]
    }
   ],
   "source": [
    "training_history = model.fit(\n",
    "    training_inputs,\n",
    "    training_targets,\n",
    "    epochs=5,\n",
    "    batch_size=128,\n",
    "    validation_data=(val_inputs, val_targets)\n",
    ")"
   ]
  },
  {
   "cell_type": "markdown",
   "metadata": {
    "id": "CHEt0hY03MTR"
   },
   "source": [
    "`History` 객체는 훈련셋 뿐만 아니라 검증셋를 대상으로도 손실값과 평가지표를 기억한다."
   ]
  },
  {
   "cell_type": "code",
   "execution_count": 56,
   "metadata": {
    "colab": {
     "base_uri": "https://localhost:8080/"
    },
    "id": "-Bz6M9D73MTR",
    "outputId": "cf0b2823-3fdf-4723-ca66-bbeb49bd9a55"
   },
   "outputs": [
    {
     "data": {
      "text/plain": [
       "{'loss': [0.028907116502523422,\n",
       "  0.020808285102248192,\n",
       "  0.016080817207694054,\n",
       "  0.011315716430544853,\n",
       "  0.009036778472363949],\n",
       " 'accuracy': [0.9913809299468994,\n",
       "  0.9938809275627136,\n",
       "  0.9953333139419556,\n",
       "  0.9970476031303406,\n",
       "  0.9972380995750427],\n",
       " 'val_loss': [0.029058611020445824,\n",
       "  0.034578707069158554,\n",
       "  0.030751166865229607,\n",
       "  0.04220807924866676,\n",
       "  0.0358734093606472],\n",
       " 'val_accuracy': [0.9911110997200012,\n",
       "  0.9894444346427917,\n",
       "  0.9903333187103271,\n",
       "  0.9868333339691162,\n",
       "  0.9892777800559998]}"
      ]
     },
     "execution_count": 56,
     "metadata": {},
     "output_type": "execute_result"
    }
   ],
   "source": [
    "training_history.history"
   ]
  },
  {
   "cell_type": "markdown",
   "metadata": {
    "id": "65_FczOk3MTR"
   },
   "source": [
    "*훈련 후 모델 검증*"
   ]
  },
  {
   "cell_type": "markdown",
   "metadata": {
    "id": "g6JPYczC3MTS"
   },
   "source": [
    "훈련 후에 테스트셋을 이용하여 평가하려면 `evaluate()` 메서드를 이용한다."
   ]
  },
  {
   "cell_type": "code",
   "execution_count": 57,
   "metadata": {
    "colab": {
     "base_uri": "https://localhost:8080/"
    },
    "id": "TImidpa83MTS",
    "outputId": "141bb4e5-ddee-4013-f4c5-f36e7f825f66"
   },
   "outputs": [
    {
     "name": "stdout",
     "output_type": "stream",
     "text": [
      "79/79 [==============================] - 0s 2ms/step - loss: 0.0767 - accuracy: 0.9811\n"
     ]
    }
   ],
   "source": [
    "loss_and_metrics = model.evaluate(test_images, test_labels, batch_size=128)"
   ]
  },
  {
   "cell_type": "code",
   "execution_count": 58,
   "metadata": {
    "colab": {
     "base_uri": "https://localhost:8080/"
    },
    "id": "KVJzAHQT3MTS",
    "outputId": "c982f4a0-8507-436e-e51c-76724ea2e020"
   },
   "outputs": [
    {
     "name": "stdout",
     "output_type": "stream",
     "text": [
      "[0.07674925774335861, 0.9811000227928162]\n"
     ]
    }
   ],
   "source": [
    "print(loss_and_metrics)"
   ]
  },
  {
   "cell_type": "markdown",
   "metadata": {
    "id": "Mi43Gd833MTS"
   },
   "source": [
    "### 예측"
   ]
  },
  {
   "cell_type": "markdown",
   "metadata": {
    "id": "Qo7I5y9b3MTS"
   },
   "source": [
    "훈련된 모델을 활용하는 두 가지 방법이 있다."
   ]
  },
  {
   "cell_type": "markdown",
   "metadata": {
    "id": "VLQP1ZXQ3MTS"
   },
   "source": [
    "**모델 적용**"
   ]
  },
  {
   "cell_type": "markdown",
   "metadata": {
    "id": "JptB1tGR3MTS"
   },
   "source": [
    "먼저, `__call__()` 메서드를 활용한다. 즉,\n",
    "모델을 마치 함수처럼 데이터셋을 인자로 사용하여 호출한다."
   ]
  },
  {
   "cell_type": "code",
   "execution_count": 59,
   "metadata": {
    "colab": {
     "base_uri": "https://localhost:8080/"
    },
    "id": "TvbxbNIG3MTS",
    "outputId": "5bf2539d-c3a4-489b-a08b-4ee7f66c9a6e"
   },
   "outputs": [
    {
     "name": "stdout",
     "output_type": "stream",
     "text": [
      "tf.Tensor(\n",
      "[[2.4418665e-11 1.7480213e-15 6.3462902e-09 2.5399342e-05 7.0157032e-17\n",
      "  1.8367609e-10 4.4069197e-20 9.9997461e-01 3.7994707e-10 3.1813752e-08]\n",
      " [4.6918269e-15 1.2111651e-07 9.9999988e-01 6.6467047e-11 2.0108105e-26\n",
      "  6.2426196e-11 8.9653518e-14 3.3553213e-24 4.3448188e-12 4.3559324e-22]\n",
      " [1.2340856e-09 9.9958247e-01 4.5355013e-05 2.0117452e-07 1.1824810e-06\n",
      "  1.6022017e-07 3.1727890e-07 9.9935554e-05 2.7047962e-04 4.3762757e-08]\n",
      " [9.9996889e-01 4.9163662e-17 1.3179718e-07 3.1452674e-10 1.7990340e-10\n",
      "  3.2809108e-08 7.1560464e-08 3.0626499e-05 2.4037877e-12 2.7862538e-07]\n",
      " [8.8742902e-10 2.6191188e-15 1.3556793e-08 1.5351349e-11 9.9991298e-01\n",
      "  6.0876831e-11 2.8038203e-09 1.7253505e-07 2.1786919e-09 8.6921340e-05]], shape=(5, 10), dtype=float32)\n"
     ]
    }
   ],
   "source": [
    "predictions = model(test_images)\n",
    "print(predictions[:5])"
   ]
  },
  {
   "cell_type": "markdown",
   "metadata": {
    "id": "DCfQGJ4M3MTS"
   },
   "source": [
    "**`predict()` 메서드**"
   ]
  },
  {
   "cell_type": "markdown",
   "metadata": {
    "id": "bqrcckuQ3MTS"
   },
   "source": [
    "하지만 위 방식은 데이터셋이 매우 크면 적절하지 않을 수 있다.\n",
    "따라서 `predict()` 메서드를 이용하여 배치를 활용하는 것을 추천한다."
   ]
  },
  {
   "cell_type": "code",
   "execution_count": 60,
   "metadata": {
    "colab": {
     "base_uri": "https://localhost:8080/"
    },
    "id": "OU7jAwyZ3MTS",
    "outputId": "87bcdcc1-cdf7-4525-dce0-524e1842af60"
   },
   "outputs": [
    {
     "name": "stdout",
     "output_type": "stream",
     "text": [
      "[[2.4418618e-11 1.7480079e-15 6.3463022e-09 2.5399318e-05 7.0157568e-17\n",
      "  1.8367680e-10 4.4069533e-20 9.9997461e-01 3.7994924e-10 3.1813691e-08]\n",
      " [4.6918091e-15 1.2111617e-07 9.9999988e-01 6.6467047e-11 2.0108182e-26\n",
      "  6.2426432e-11 8.9653172e-14 3.3553086e-24 4.3448357e-12 4.3559657e-22]\n",
      " [1.2340833e-09 9.9958247e-01 4.5355013e-05 2.0117395e-07 1.1824766e-06\n",
      "  1.6022017e-07 3.1727799e-07 9.9935460e-05 2.7047936e-04 4.3762839e-08]\n",
      " [9.9996889e-01 4.9163662e-17 1.3179707e-07 3.1452674e-10 1.7990373e-10\n",
      "  3.2809108e-08 7.1560464e-08 3.0626441e-05 2.4037877e-12 2.7862458e-07]\n",
      " [8.8742730e-10 2.6191089e-15 1.3556793e-08 1.5351378e-11 9.9991298e-01\n",
      "  6.0876713e-11 2.8038203e-09 1.7253505e-07 2.1786877e-09 8.6921253e-05]]\n"
     ]
    }
   ],
   "source": [
    "predictions = model.predict(test_images, batch_size=128)\n",
    "print(predictions[:5])"
   ]
  }
 ],
 "metadata": {
  "accelerator": "GPU",
  "colab": {
   "gpuType": "T4",
   "provenance": []
  },
  "kernelspec": {
   "display_name": "Python 3 (ipykernel)",
   "language": "python",
   "name": "python3"
  },
  "language_info": {
   "codemirror_mode": {
    "name": "ipython",
    "version": 3
   },
   "file_extension": ".py",
   "mimetype": "text/x-python",
   "name": "python",
   "nbconvert_exporter": "python",
   "pygments_lexer": "ipython3",
   "version": "3.9.13"
  },
  "vscode": {
   "interpreter": {
    "hash": "33b995ba57ec8806df76ad412cbfca6e91844af7e84c0aab5f00a2382a2b11c8"
   }
  }
 },
 "nbformat": 4,
 "nbformat_minor": 1
}
