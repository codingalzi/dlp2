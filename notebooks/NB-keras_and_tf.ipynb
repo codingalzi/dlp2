{
  "cells": [
    {
      "cell_type": "markdown",
      "metadata": {
        "id": "MErWGz453MSu"
      },
      "source": [
        "# 3. 케라스와 텐서플로우"
      ]
    },
    {
      "cell_type": "markdown",
      "metadata": {
        "id": "Vko88FVc3MSx"
      },
      "source": [
        "__감사말__\n",
        "\n",
        "프랑소와 숄레의 [Deep Learning with Python, Second Edition](https://www.manning.com/books/deep-learning-with-python-second-edition?a_aid=keras&a_bid=76564dff) 3장에 사용된 코드에 대한 설명을 담고 있으며 텐서플로우 2.6 버전 이상에서 작성되었습니다. 소스코드를 공개한 저자에게 감사드립니다."
      ]
    },
    {
      "cell_type": "markdown",
      "metadata": {
        "id": "W66796Q63MSx"
      },
      "source": [
        "__구글 코랩 설정__\n",
        "\n",
        "'런타임 -> 런타임 유형 변경' 메뉴에서 GPU를 지정한다.\n",
        "TensorFlow 버전을 확인하려면 아래 명령문을 실행한다."
      ]
    },
    {
      "cell_type": "code",
      "execution_count": 2,
      "metadata": {
        "id": "XF9dJNGu3MSx",
        "outputId": "a3f91d7c-d7ae-42c3-e7d0-d2fdbab33f8a",
        "colab": {
          "base_uri": "https://localhost:8080/",
          "height": 36
        }
      },
      "outputs": [
        {
          "output_type": "execute_result",
          "data": {
            "text/plain": [
              "'2.13.0'"
            ],
            "application/vnd.google.colaboratory.intrinsic+json": {
              "type": "string"
            }
          },
          "metadata": {},
          "execution_count": 2
        }
      ],
      "source": [
        "import tensorflow as tf\n",
        "tf.__version__"
      ]
    },
    {
      "cell_type": "markdown",
      "metadata": {
        "id": "GJz9zdWv3MSz"
      },
      "source": [
        "TensorFlow가 GPU를 사용하는지 여부를 확인하려면 아래 명령문을 실행한다.\n",
        "아래와 같은 결과가 나오면 GPU가 제대로 지원됨을 의미한다.\n",
        "\n",
        "```\n",
        "[PhysicalDevice(name='/physical_device:GPU:0', device_type='GPU')]\n",
        "```"
      ]
    },
    {
      "cell_type": "code",
      "execution_count": 3,
      "metadata": {
        "id": "Snx-SE4j3MSz",
        "outputId": "f04a8cf8-fd5c-4694-840e-a96c3336fff5",
        "colab": {
          "base_uri": "https://localhost:8080/"
        }
      },
      "outputs": [
        {
          "output_type": "execute_result",
          "data": {
            "text/plain": [
              "[PhysicalDevice(name='/physical_device:GPU:0', device_type='GPU')]"
            ]
          },
          "metadata": {},
          "execution_count": 3
        }
      ],
      "source": [
        "tf.config.list_physical_devices('GPU')"
      ]
    },
    {
      "cell_type": "markdown",
      "metadata": {
        "id": "0iLaYjTI3MS0"
      },
      "source": [
        "**참고**\n",
        "\n",
        "아래 코드에 대한 자세한 설명은\n",
        "[케라스와 텐서플로우](https://codingalzi.github.io/dlp2/keras_and_tf.html)를\n",
        "참고한다."
      ]
    },
    {
      "cell_type": "markdown",
      "metadata": {
        "id": "FWHPq7x_3MTG"
      },
      "source": [
        "## `GradientTape` 활용"
      ]
    },
    {
      "cell_type": "markdown",
      "metadata": {
        "id": "uPhlG16W3MTG"
      },
      "source": [
        "*경우 1) 하나의 변수에 대한 그레이디언트*"
      ]
    },
    {
      "cell_type": "markdown",
      "metadata": {
        "id": "lyLQKOfv3MTG"
      },
      "source": [
        "아래 코드는 제곱 함수의 $x = 3$에서의 미분값인 6을 계산한다.\n",
        "\n",
        "$$\n",
        "f(x) = x^2 \\quad \\Longrightarrow \\quad \\nabla f(x) = \\frac{df(x)}{dx} = 2x\n",
        "$$"
      ]
    },
    {
      "cell_type": "code",
      "execution_count": 4,
      "metadata": {
        "id": "g-6-RoZn3MTG",
        "outputId": "7efdd29e-3fde-46ec-b1d8-fd9a0960e0e7",
        "colab": {
          "base_uri": "https://localhost:8080/"
        }
      },
      "outputs": [
        {
          "output_type": "stream",
          "name": "stdout",
          "text": [
            "tf.Tensor(6.0, shape=(), dtype=float32)\n"
          ]
        }
      ],
      "source": [
        "input_var = tf.Variable(initial_value=3.)\n",
        "\n",
        "with tf.GradientTape() as tape:\n",
        "    result = tf.square(input_var)\n",
        "\n",
        "gradient = tape.gradient(result, input_var)\n",
        "\n",
        "print(gradient)"
      ]
    },
    {
      "cell_type": "markdown",
      "metadata": {
        "id": "P6KeSrEm3MTH"
      },
      "source": [
        "*경우 2) 임의의 텐서 연산에 대한 그레이디언트*"
      ]
    },
    {
      "cell_type": "code",
      "execution_count": 5,
      "metadata": {
        "id": "mQ2w_3XZ3MTH"
      },
      "outputs": [],
      "source": [
        "x = tf.Variable(tf.random.uniform((2, 2)))\n",
        "\n",
        "with tf.GradientTape() as tape:\n",
        "    y = x**2 + 3\n",
        "\n",
        "grad_of_y_wrt_x = tape.gradient(y, x)"
      ]
    },
    {
      "cell_type": "markdown",
      "metadata": {
        "id": "u2Sa0TVW3MTH"
      },
      "source": [
        "변수 `x`의 모양은 다음과 같다."
      ]
    },
    {
      "cell_type": "markdown",
      "metadata": {
        "id": "ZaJuYIat3MTH"
      },
      "source": [
        "$$\n",
        "x =\n",
        "\\begin{bmatrix}\n",
        "x_{11} & x_{12} \\\\\n",
        "x_{21} & x_{22}\n",
        "\\end{bmatrix}\n",
        "$$"
      ]
    },
    {
      "cell_type": "markdown",
      "metadata": {
        "id": "faWMBLTt3MTH"
      },
      "source": [
        "`y`를 `x`의 함수로 표현하면 다음과 같다."
      ]
    },
    {
      "cell_type": "markdown",
      "metadata": {
        "id": "tgbKrgOH3MTH"
      },
      "source": [
        "$$\n",
        "y = f(x) = x^2 + 3 =\n",
        "\\begin{bmatrix}\n",
        "x_{11}^2 + 3 & x_{12}^2 + 3 \\\\\n",
        "x_{21}^2 + 3 & x_{22}^2 + 3\n",
        "\\end{bmatrix}\n",
        "$$"
      ]
    },
    {
      "cell_type": "markdown",
      "metadata": {
        "id": "3YCVdWcx3MTH"
      },
      "source": [
        "텐서 `x`에 대한 그레이디언트는 다음과 같다."
      ]
    },
    {
      "cell_type": "markdown",
      "metadata": {
        "id": "G4mxFOyw3MTH"
      },
      "source": [
        "$$\n",
        "\\nabla f(x) =\n",
        "\\begin{bmatrix}\n",
        "2 x_{11} & 2 x_{12} \\\\\n",
        "2 x_{21} & 2 x_{22}\n",
        "\\end{bmatrix}\n",
        "$$"
      ]
    },
    {
      "cell_type": "code",
      "execution_count": 6,
      "metadata": {
        "id": "Qkvf5a8Z3MTH",
        "outputId": "5597f2ac-88ca-4790-817f-50180491d93b",
        "colab": {
          "base_uri": "https://localhost:8080/"
        }
      },
      "outputs": [
        {
          "output_type": "execute_result",
          "data": {
            "text/plain": [
              "<tf.Tensor: shape=(2, 2), dtype=float32, numpy=\n",
              "array([[0.49534583, 1.7430537 ],\n",
              "       [0.7332664 , 0.11324262]], dtype=float32)>"
            ]
          },
          "metadata": {},
          "execution_count": 6
        }
      ],
      "source": [
        "grad_of_y_wrt_x"
      ]
    },
    {
      "cell_type": "markdown",
      "metadata": {
        "id": "FNufbcPh3MTI"
      },
      "source": [
        "그레이디언트 계산에 사용된 `x`는 다음과 같다."
      ]
    },
    {
      "cell_type": "code",
      "execution_count": 7,
      "metadata": {
        "id": "yxLegV0T3MTI",
        "outputId": "dfca806e-2635-40db-a9ce-edc984c61d6e",
        "colab": {
          "base_uri": "https://localhost:8080/"
        }
      },
      "outputs": [
        {
          "output_type": "execute_result",
          "data": {
            "text/plain": [
              "<tf.Variable 'Variable:0' shape=(2, 2) dtype=float32, numpy=\n",
              "array([[0.24767292, 0.87152684],\n",
              "       [0.36663318, 0.05662131]], dtype=float32)>"
            ]
          },
          "metadata": {},
          "execution_count": 7
        }
      ],
      "source": [
        "x"
      ]
    },
    {
      "cell_type": "markdown",
      "metadata": {
        "id": "IBtY5UoA3MTI"
      },
      "source": [
        "*경우 3) 변수들의 리스트에 대한 그레이언트*"
      ]
    },
    {
      "cell_type": "code",
      "execution_count": 8,
      "metadata": {
        "id": "V75HRT683MTI"
      },
      "outputs": [],
      "source": [
        "W = tf.Variable(tf.random.uniform((2, 2)))\n",
        "b = tf.Variable(tf.zeros((2,)))\n",
        "x = tf.random.uniform((2, 2))\n",
        "\n",
        "with tf.GradientTape() as tape:\n",
        "    y = tf.matmul(x, W) + b\n",
        "\n",
        "grad_of_y_wrt_W_and_b = tape.gradient(y, [W, b])"
      ]
    },
    {
      "cell_type": "markdown",
      "metadata": {
        "id": "4urKIWqK3MTI"
      },
      "source": [
        "텐서 `x`와 변수 `W`, `b`의 모양은 다음과 같다."
      ]
    },
    {
      "cell_type": "markdown",
      "metadata": {
        "id": "jbS5GsDA3MTI"
      },
      "source": [
        "$$\n",
        "x =\n",
        "\\begin{bmatrix}\n",
        "x_{11} & x_{12} \\\\\n",
        "x_{21} & x_{22}\n",
        "\\end{bmatrix},\n",
        "\\qquad\n",
        "W =\n",
        "\\begin{bmatrix}\n",
        "w_{11} & w_{12} \\\\\n",
        "w_{21} & w_{22}\n",
        "\\end{bmatrix},\n",
        "\\qquad\n",
        "b =\n",
        "\\begin{bmatrix}\n",
        "b_{1} & b_{2}\n",
        "\\end{bmatrix}\n",
        "$$"
      ]
    },
    {
      "cell_type": "markdown",
      "metadata": {
        "id": "bifIDK_e3MTI"
      },
      "source": [
        "`y`를 `W`와 `b`의 함수로 표현하면 다음과 같다."
      ]
    },
    {
      "cell_type": "markdown",
      "metadata": {
        "id": "twSWVs7_3MTI"
      },
      "source": [
        "$$\n",
        "y = f(W, b) = x\\cdot W + b =\n",
        "\\begin{bmatrix}\n",
        "x_{11}\\cdot w_{11} + x_{12}\\cdot w_{21} + b_1 & x_{11}\\cdot w_{12} + x_{12}\\cdot w_{22} + b_2 \\\\\n",
        "x_{21}\\cdot w_{11} + x_{22}\\cdot w_{21} + b_1 & x_{21}\\cdot w_{12} + x_{22}\\cdot w_{22} + b_2 \\\\\n",
        "\\end{bmatrix}\n",
        "$$"
      ]
    },
    {
      "cell_type": "markdown",
      "metadata": {
        "id": "VvD8fGcs3MTI"
      },
      "source": [
        "텐서 `x`에 대한 그레이디언트는 다음과 같다."
      ]
    },
    {
      "cell_type": "markdown",
      "metadata": {
        "id": "esYciCXu3MTJ"
      },
      "source": [
        "$$\n",
        "\\nabla f(W, b) =\n",
        "\\begin{bmatrix}\n",
        "    \\begin{bmatrix}\n",
        "    x_{11} + x_{21} & x_{11} + x_{21} \\\\\n",
        "    x_{12} + x_{22} & x_{12} + x_{22}\n",
        "    \\end{bmatrix},\n",
        "    \\begin{bmatrix}\n",
        "    2 & 2\n",
        "    \\end{bmatrix}    \n",
        "\\end{bmatrix}\n",
        "$$"
      ]
    },
    {
      "cell_type": "code",
      "execution_count": 9,
      "metadata": {
        "id": "V3csw0fB3MTJ",
        "outputId": "a007c58c-cd31-435d-a876-f1c0a5d1d1b0",
        "colab": {
          "base_uri": "https://localhost:8080/"
        }
      },
      "outputs": [
        {
          "output_type": "execute_result",
          "data": {
            "text/plain": [
              "[<tf.Tensor: shape=(2, 2), dtype=float32, numpy=\n",
              " array([[0.09243417, 0.09243417],\n",
              "        [1.2872581 , 1.2872581 ]], dtype=float32)>,\n",
              " <tf.Tensor: shape=(2,), dtype=float32, numpy=array([2., 2.], dtype=float32)>]"
            ]
          },
          "metadata": {},
          "execution_count": 9
        }
      ],
      "source": [
        "grad_of_y_wrt_W_and_b"
      ]
    },
    {
      "cell_type": "markdown",
      "metadata": {
        "id": "VzTLmj0y3MTJ"
      },
      "source": [
        "그레이디언트 계산에 사용된 `x`는 다음과 같다."
      ]
    },
    {
      "cell_type": "code",
      "execution_count": 10,
      "metadata": {
        "id": "p_tsUmFh3MTJ",
        "outputId": "9886ab04-160f-40e5-e7db-57bbaf65941c",
        "colab": {
          "base_uri": "https://localhost:8080/"
        }
      },
      "outputs": [
        {
          "output_type": "execute_result",
          "data": {
            "text/plain": [
              "<tf.Tensor: shape=(2, 2), dtype=float32, numpy=\n",
              "array([[0.08821833, 0.8131149 ],\n",
              "       [0.00421584, 0.47414327]], dtype=float32)>"
            ]
          },
          "metadata": {},
          "execution_count": 10
        }
      ],
      "source": [
        "x"
      ]
    },
    {
      "cell_type": "markdown",
      "metadata": {
        "id": "Wxf3n1oR3MTJ"
      },
      "source": [
        "**예제: 순수 텐서플로우로 선형 분류기 구현**"
      ]
    },
    {
      "cell_type": "markdown",
      "metadata": {
        "id": "bbzAgKDO3MTJ"
      },
      "source": [
        "순수 텐서플로우 API만을 이용하여 선형 분류 신경망을 구현한다."
      ]
    },
    {
      "cell_type": "markdown",
      "metadata": {
        "id": "R2xFQuAC3MTK"
      },
      "source": [
        "**_1단계: 데이터셋 생성_**"
      ]
    },
    {
      "cell_type": "code",
      "source": [
        "import numpy as np"
      ],
      "metadata": {
        "id": "SnusrAwA6dRz"
      },
      "execution_count": 12,
      "outputs": []
    },
    {
      "cell_type": "code",
      "execution_count": 13,
      "metadata": {
        "id": "gcIByjoF3MTK"
      },
      "outputs": [],
      "source": [
        "num_samples_per_class = 1000\n",
        "\n",
        "# 음성 데이터셋\n",
        "negative_samples = np.random.multivariate_normal(\n",
        "    mean=[0, 3], cov=[[1, 0.5],[0.5, 1]], size=num_samples_per_class)\n",
        "\n",
        "# 양성 데이터셋\n",
        "positive_samples = np.random.multivariate_normal(\n",
        "    mean=[3, 0], cov=[[1, 0.5],[0.5, 1]], size=num_samples_per_class)"
      ]
    },
    {
      "cell_type": "markdown",
      "metadata": {
        "id": "ddArvSJO3MTK"
      },
      "source": [
        "두 데이터셋을 합쳐서 훈련셋, 즉, 모델의 입력값으로 지정한다.\n",
        "자료형을 `np.float32`로 지정함에 주의하라.\n",
        "그렇게 하지 않으면 `np.float64`로 지정되어 보다 많은 메모리와 실행시간을 요구한다."
      ]
    },
    {
      "cell_type": "code",
      "execution_count": 14,
      "metadata": {
        "id": "ag2ehOQA3MTK"
      },
      "outputs": [],
      "source": [
        "inputs = np.vstack((negative_samples, positive_samples)).astype(np.float32)"
      ]
    },
    {
      "cell_type": "markdown",
      "metadata": {
        "id": "Nta3OznI3MTK"
      },
      "source": [
        "음성 샘플의 타깃은 0, 양성 샘플의 타깃은 1로 지정한다."
      ]
    },
    {
      "cell_type": "code",
      "execution_count": 15,
      "metadata": {
        "id": "0dw_f8rp3MTK"
      },
      "outputs": [],
      "source": [
        "targets = np.vstack((np.zeros((num_samples_per_class, 1), dtype=\"float32\"),\n",
        "                     np.ones((num_samples_per_class, 1), dtype=\"float32\")))"
      ]
    },
    {
      "cell_type": "markdown",
      "metadata": {
        "id": "qslmk_D13MTK"
      },
      "source": [
        "양성, 음성 샘플을 색깔로 구분하면 다음과 같다.\n",
        "\n",
        "- `inputs[:, 0]`: x 좌표\n",
        "- `inputs[:, 1]`: x 좌표\n",
        "- `c=targets[:, 0]`: 0 또는 1에 따른 색상 지정"
      ]
    },
    {
      "cell_type": "code",
      "execution_count": 16,
      "metadata": {
        "id": "5tAd9Wwx3MTK",
        "outputId": "5f0ddc9a-84fe-42ad-ac5e-2178373a2222",
        "colab": {
          "base_uri": "https://localhost:8080/",
          "height": 430
        }
      },
      "outputs": [
        {
          "output_type": "display_data",
          "data": {
            "text/plain": [
              "<Figure size 640x480 with 1 Axes>"
            ],
            "image/png": "[encoded data removed]"
          },
          "metadata": {}
        }
      ],
      "source": [
        "import matplotlib.pyplot as plt\n",
        "\n",
        "plt.scatter(inputs[:, 0], inputs[:, 1], c=targets[:, 0])\n",
        "plt.show()"
      ]
    },
    {
      "cell_type": "markdown",
      "metadata": {
        "id": "qDYqH8ns3MTK"
      },
      "source": [
        "**_2단계: 선형 회귀 모델 훈련에 필요한 가중치와 편향 변수 텐서 생성_**"
      ]
    },
    {
      "cell_type": "code",
      "execution_count": 17,
      "metadata": {
        "id": "uk9_Dip93MTK"
      },
      "outputs": [],
      "source": [
        "input_dim = 2     # 입력 샘플의 특성이 2개\n",
        "output_dim = 1    # 하나의 값으로 출력\n",
        "\n",
        "# 가중치: 무작위 초기화\n",
        "W = tf.Variable(initial_value=tf.random.uniform(shape=(input_dim, output_dim)))\n",
        "\n",
        "# 편향: 0으로 초기화\n",
        "b = tf.Variable(initial_value=tf.zeros(shape=(output_dim,)))"
      ]
    },
    {
      "cell_type": "markdown",
      "metadata": {
        "id": "lv1h9Xom3MTL"
      },
      "source": [
        "**_3단계: 모델 선언(포워드 패스 담당)_**"
      ]
    },
    {
      "cell_type": "markdown",
      "metadata": {
        "id": "pkIly2By3MTL"
      },
      "source": [
        "신경망 모델을 훈련할 때 입력값에 대한 예측값을 계산하는 과정인\n",
        "포워드 패스를 함수로 구현한다.\n",
        "간단한 모델 표현을 위해 활성화 함수는 사용하지 않는다."
      ]
    },
    {
      "cell_type": "code",
      "execution_count": 18,
      "metadata": {
        "id": "YSOvmfzk3MTL"
      },
      "outputs": [],
      "source": [
        "def model(inputs):\n",
        "    return tf.matmul(inputs, W) + b"
      ]
    },
    {
      "cell_type": "markdown",
      "metadata": {
        "id": "xTKXHNC13MTL"
      },
      "source": [
        "**_4단계: 손실 함수 지정_**"
      ]
    },
    {
      "cell_type": "markdown",
      "metadata": {
        "id": "YltXKd2U3MTL"
      },
      "source": [
        "타깃과 예측값 사이의 평균 제곱 오차를 손실값으로 사용한다.\n",
        "아래 코드에서 `tf.reduce_mean()` 함수는 넘파이의 `np.mean()`처럼\n",
        "평균값을 계산하지만 텐서플로우의 텐서를 대상으로 한다."
      ]
    },
    {
      "cell_type": "code",
      "execution_count": 19,
      "metadata": {
        "id": "qt0wyORc3MTL"
      },
      "outputs": [],
      "source": [
        "def square_loss(targets, predictions):\n",
        "    per_sample_losses = tf.square(targets - predictions)\n",
        "    return tf.reduce_mean(per_sample_losses)"
      ]
    },
    {
      "cell_type": "markdown",
      "metadata": {
        "id": "JDyyOtAZ3MTL"
      },
      "source": [
        "**_5단계: 훈련 스텝(백워드 패스와 역전파) 지정_**"
      ]
    },
    {
      "cell_type": "markdown",
      "metadata": {
        "id": "ysOqNX0F3MTL"
      },
      "source": [
        "하나의 배치에 대해 예측값을 계산한 후에 손실 함수의 그레이디언트를\n",
        "계산한 후에 가중치와 편향을 업데이트하는 함수를 선언한다.\n",
        "그레이디언트 계산은 그레이디언트 테이프를 이용한다."
      ]
    },
    {
      "cell_type": "code",
      "execution_count": 20,
      "metadata": {
        "id": "vkZgu7cu3MTM"
      },
      "outputs": [],
      "source": [
        "learning_rate = 0.1\n",
        "\n",
        "def training_step(inputs, targets):\n",
        "    with tf.GradientTape() as tape:\n",
        "        predictions = model(inputs)\n",
        "        loss = square_loss(targets, predictions)\n",
        "    grad_loss_wrt_W, grad_loss_wrt_b = tape.gradient(loss, [W, b])\n",
        "    W.assign_sub(grad_loss_wrt_W * learning_rate)\n",
        "    b.assign_sub(grad_loss_wrt_b * learning_rate)\n",
        "    return loss"
      ]
    },
    {
      "cell_type": "markdown",
      "metadata": {
        "id": "knMi10Uq3MTM"
      },
      "source": [
        "**_6단계: 훈련 루프 지정_**"
      ]
    },
    {
      "cell_type": "markdown",
      "metadata": {
        "id": "VxuTTa653MTM"
      },
      "source": [
        "반복해서 훈련한 내용을 지정한다.\n",
        "여기서는 설명을 간단하게 하기 위해 미니 배치가 아닌 배치 훈련을 구현한다.\n",
        "전체 훈련셋을 총 40번 반복 학습할 때마다 손실값을 출력하도록 한다."
      ]
    },
    {
      "cell_type": "code",
      "execution_count": 21,
      "metadata": {
        "id": "K4wUxxEc3MTM",
        "outputId": "7dd5a996-476a-40b1-cdfc-a67c3586822a",
        "colab": {
          "base_uri": "https://localhost:8080/"
        }
      },
      "outputs": [
        {
          "output_type": "stream",
          "name": "stdout",
          "text": [
            "Loss at step 0: 4.6593\n",
            "Loss at step 1: 0.5085\n",
            "Loss at step 2: 0.1849\n",
            "Loss at step 3: 0.1410\n",
            "Loss at step 4: 0.1276\n",
            "Loss at step 5: 0.1182\n",
            "Loss at step 6: 0.1099\n",
            "Loss at step 7: 0.1024\n",
            "Loss at step 8: 0.0956\n",
            "Loss at step 9: 0.0894\n",
            "Loss at step 10: 0.0838\n",
            "Loss at step 11: 0.0786\n",
            "Loss at step 12: 0.0739\n",
            "Loss at step 13: 0.0696\n",
            "Loss at step 14: 0.0657\n",
            "Loss at step 15: 0.0622\n",
            "Loss at step 16: 0.0590\n",
            "Loss at step 17: 0.0560\n",
            "Loss at step 18: 0.0533\n",
            "Loss at step 19: 0.0509\n",
            "Loss at step 20: 0.0487\n",
            "Loss at step 21: 0.0466\n",
            "Loss at step 22: 0.0448\n",
            "Loss at step 23: 0.0431\n",
            "Loss at step 24: 0.0416\n",
            "Loss at step 25: 0.0402\n",
            "Loss at step 26: 0.0389\n",
            "Loss at step 27: 0.0377\n",
            "Loss at step 28: 0.0367\n",
            "Loss at step 29: 0.0357\n",
            "Loss at step 30: 0.0348\n",
            "Loss at step 31: 0.0340\n",
            "Loss at step 32: 0.0333\n",
            "Loss at step 33: 0.0327\n",
            "Loss at step 34: 0.0321\n",
            "Loss at step 35: 0.0315\n",
            "Loss at step 36: 0.0310\n",
            "Loss at step 37: 0.0305\n",
            "Loss at step 38: 0.0301\n",
            "Loss at step 39: 0.0298\n"
          ]
        }
      ],
      "source": [
        "for step in range(40):\n",
        "    loss = training_step(inputs, targets)\n",
        "    print(f\"Loss at step {step}: {loss:.4f}\")"
      ]
    },
    {
      "cell_type": "markdown",
      "metadata": {
        "id": "2InqUHf23MTM"
      },
      "source": [
        "훈련상태를 보면 여전히 개선의 여지가 보인다. 따라서 학습을 좀 더 시켜본다."
      ]
    },
    {
      "cell_type": "code",
      "execution_count": 22,
      "metadata": {
        "id": "ymKTmAVg3MTM",
        "outputId": "396949b4-f69d-4ed0-bd2e-30bf6e32ba7d",
        "colab": {
          "base_uri": "https://localhost:8080/"
        }
      },
      "outputs": [
        {
          "output_type": "stream",
          "name": "stdout",
          "text": [
            "Loss at step 0: 0.0294\n",
            "Loss at step 10: 0.0273\n",
            "Loss at step 20: 0.0264\n",
            "Loss at step 30: 0.0261\n",
            "Loss at step 40: 0.0260\n",
            "Loss at step 50: 0.0259\n",
            "Loss at step 60: 0.0259\n",
            "Loss at step 70: 0.0259\n",
            "Loss at step 80: 0.0259\n",
            "Loss at step 90: 0.0259\n"
          ]
        }
      ],
      "source": [
        "for step in range(100):\n",
        "    loss = training_step(inputs, targets)\n",
        "    if step % 10 == 0:\n",
        "        print(f\"Loss at step {step}: {loss:.4f}\")"
      ]
    },
    {
      "cell_type": "markdown",
      "metadata": {
        "id": "_KRE-NCq3MTM"
      },
      "source": [
        "**_7단계: 결정경계 예측_**"
      ]
    },
    {
      "cell_type": "code",
      "execution_count": 23,
      "metadata": {
        "id": "QYzRUYxU3MTM"
      },
      "outputs": [],
      "source": [
        "predictions = model(inputs)"
      ]
    },
    {
      "cell_type": "markdown",
      "metadata": {
        "id": "FGWrmVLx3MTM"
      },
      "source": [
        "모델의 예측값이 0.5보다 클 때 양성으로 판정하는 것이 좋은데\n",
        "이유는 샘플들의 레이블이 0 또는 1이기 때문이다.\n",
        "모델은 훈련과정 중에 음성 샘플은 최대한 0에,\n",
        "양성 샘플은 최대한 1에 가까운 값으로 예측하여 손실값을 최대한 줄여야 하는데\n",
        "옵티마이저가 그렇게 유도한다.\n",
        "따라서 예측값이 0과 1의 중간값인 0.5일 때를 결정경계로 사용한다.\n",
        "\n",
        "아래 코드는 예측 결과를 산점도로 보여준다.\n",
        "거의 모든 샘플에 대해 원래의 레이블과 동일한 예측값을 계산함을 알 수 있다."
      ]
    },
    {
      "cell_type": "code",
      "execution_count": 24,
      "metadata": {
        "id": "CD5uY2kP3MTN",
        "outputId": "0401dc22-b77b-49bb-cb84-5e36319c60d6",
        "colab": {
          "base_uri": "https://localhost:8080/",
          "height": 430
        }
      },
      "outputs": [
        {
          "output_type": "display_data",
          "data": {
            "text/plain": [
              "<Figure size 640x480 with 1 Axes>"
            ],
            "image/png": "[encoded data removed]"
          },
          "metadata": {}
        }
      ],
      "source": [
        "plt.scatter(inputs[:, 0], inputs[:, 1], c=predictions[:, 0] > 0.5)\n",
        "plt.show()"
      ]
    },
    {
      "cell_type": "markdown",
      "metadata": {
        "id": "Pj9zwqKO3MTN"
      },
      "source": [
        "결정경계를 직선으로 그리려면 아래 식을 이용한다.\n",
        "\n",
        "```python\n",
        "y = - W[0] /  W[1] * x + (0.5 - b) / W[1]\n",
        "```\n",
        "\n",
        "이유는 위 모델의 예측값이 다음과 같이 계산되며,\n",
        "\n",
        "```python\n",
        "W[0]*x + W[1]*y + b\n",
        "```\n",
        "\n",
        "위 예측값이 0.5보다 큰지 여부에 따라 음성, 양성이 판단되기 때문이다."
      ]
    },
    {
      "cell_type": "code",
      "execution_count": 25,
      "metadata": {
        "id": "l4ymdFGT3MTN",
        "outputId": "f837736d-d880-4fa7-acef-c2774673835d",
        "colab": {
          "base_uri": "https://localhost:8080/",
          "height": 449
        }
      },
      "outputs": [
        {
          "output_type": "execute_result",
          "data": {
            "text/plain": [
              "<matplotlib.collections.PathCollection at 0x79bd22168730>"
            ]
          },
          "metadata": {},
          "execution_count": 25
        },
        {
          "output_type": "display_data",
          "data": {
            "text/plain": [
              "<Figure size 640x480 with 1 Axes>"
            ],
            "image/png": "[encoded data removed]"
          },
          "metadata": {}
        }
      ],
      "source": [
        "x = np.linspace(-1, 4, 100)\n",
        "y = - W[0] /  W[1] * x + (0.5 - b) / W[1]\n",
        "\n",
        "plt.plot(x, y, \"-r\")\n",
        "plt.scatter(inputs[:, 0], inputs[:, 1], c=predictions[:, 0] > 0.5)"
      ]
    },
    {
      "cell_type": "markdown",
      "metadata": {
        "id": "zMRmlKOj3MTN"
      },
      "source": [
        "## 3.6 케라스 신경망 모델의 핵심 API"
      ]
    },
    {
      "cell_type": "markdown",
      "metadata": {
        "id": "FdiQWlPJ3MTO"
      },
      "source": [
        "### 3.6.1. 층"
      ]
    },
    {
      "cell_type": "markdown",
      "metadata": {
        "id": "Ok4fVRn73MTO"
      },
      "source": [
        "**`Dense` 클래스 직접 구현하기**"
      ]
    },
    {
      "cell_type": "markdown",
      "metadata": {
        "id": "UKtpzohg3MTO"
      },
      "source": [
        "`Dense` 클래스와 유사하게 작동하는 클래스를 직접 정의하려면\n",
        "상속해야 하는 `keras.layers.Layer` 클래스의 `__call()__` 메서드에 의해 호출되는\n",
        "`build()` 메서드와 `call()` 메서드를 구현해야 한다.\n",
        "아래 `SimpleDense` 클래스가 `Dense` 클래스의 기능을 단순화하여 구현한다."
      ]
    },
    {
      "cell_type": "code",
      "execution_count": 26,
      "metadata": {
        "id": "mHjearob3MTO"
      },
      "outputs": [],
      "source": [
        "from tensorflow import keras\n",
        "\n",
        "class SimpleDense(keras.layers.Layer):\n",
        "\n",
        "    def __init__(self, units, activation=None):\n",
        "        super().__init__()\n",
        "        self.units = units\n",
        "        self.activation = activation\n",
        "\n",
        "    def build(self, input_shape):\n",
        "        input_dim = input_shape[-1]   # 입력 샘플의 특성 수\n",
        "        self.W = self.add_weight(shape=(input_dim, self.units),\n",
        "                                 initializer=\"random_normal\")\n",
        "        self.b = self.add_weight(shape=(self.units,),\n",
        "                                 initializer=\"zeros\")\n",
        "\n",
        "    def call(self, inputs):\n",
        "        y = tf.matmul(inputs, self.W) + self.b\n",
        "        if self.activation is not None:\n",
        "            y = self.activation(y)\n",
        "        return y"
      ]
    },
    {
      "cell_type": "markdown",
      "metadata": {
        "id": "67EsoEdL3MTO"
      },
      "source": [
        "**Example 3.1 (`SimpleDense` 층의 데이터 변환)**"
      ]
    },
    {
      "cell_type": "markdown",
      "metadata": {
        "id": "3P2zkId53MTP"
      },
      "source": [
        "- 모델 구성: 생성자에 의해 출력 샘플의 특성수와 활성화 함수 지정.\n",
        "    - 입력 데이터셋 샘플의 특성수는 지정할 필요 없음."
      ]
    },
    {
      "cell_type": "code",
      "execution_count": 27,
      "metadata": {
        "id": "yNMcflq43MTP"
      },
      "outputs": [],
      "source": [
        "my_dense = SimpleDense(units=32, activation=tf.nn.relu)"
      ]
    },
    {
      "cell_type": "markdown",
      "metadata": {
        "id": "gMjS-p5s3MTP"
      },
      "source": [
        "- 입력 데이터셋 지정: 입력 샘플 하나의 특성수는 784. 샘플 수는 128 개."
      ]
    },
    {
      "cell_type": "code",
      "execution_count": 28,
      "metadata": {
        "id": "9klaNjsE3MTP"
      },
      "outputs": [],
      "source": [
        "input_tensor = tf.ones(shape=(128, 784))"
      ]
    },
    {
      "cell_type": "markdown",
      "metadata": {
        "id": "drGTNL9P3MTP"
      },
      "source": [
        "출력값 생성: `__call__()` 메서드를  실행하면 다음 사항들이 연속적으로 처리된다.\n",
        "\n",
        "- 가중치 텐서와 와 편향 텐서가 생성되지 않은 경우\n",
        "    - 가중치 텐서 `W` 생성 및 초기화: `(784, 32)`\n",
        "    - 편향 텐서 `b` 생성 및 초기화: `(32, )`\n",
        "- 생성된 가중치와 편향을 이용하여 출력값 계산(아핀 변환 및 활성화 함수 적용)"
      ]
    },
    {
      "cell_type": "code",
      "execution_count": 29,
      "metadata": {
        "id": "oHNXYr-S3MTP",
        "outputId": "189ca2ed-b98c-4e33-c605-08c6437f894d",
        "colab": {
          "base_uri": "https://localhost:8080/"
        }
      },
      "outputs": [
        {
          "output_type": "stream",
          "name": "stdout",
          "text": [
            "(128, 32)\n"
          ]
        }
      ],
      "source": [
        "output_tensor = my_dense(input_tensor)\n",
        "\n",
        "print(output_tensor.shape)"
      ]
    },
    {
      "cell_type": "markdown",
      "metadata": {
        "id": "jGUFehOY3MTP"
      },
      "source": [
        "### 3.6.2. 모델"
      ]
    },
    {
      "cell_type": "markdown",
      "metadata": {
        "id": "OChs9hXr3MTP"
      },
      "source": [
        "**모델 컴파일**"
      ]
    },
    {
      "cell_type": "markdown",
      "metadata": {
        "id": "JwfeVOB53MTP"
      },
      "source": [
        "모델의 훈련을 위해서 먼저 다음 세 가지 설정을 추가로 지정해야 한다.\n",
        "\n",
        "- 손실 함수: 훈련 중 모델의 성능이 얼마나 나쁜지 측정.\n",
        "    미분가능한 함수이어야 하며 옵티마이저가 역전파를 통해\n",
        "    모델의 성능을 향상시키는 방향으로 모델의 가중치를 업데이트할 때\n",
        "    참고하는 함수임.\n",
        "- 옵티마이저: 백워드 패스와 역전파를 담당하는 알고리즘\n",
        "- 평가지표: 훈련과 테스트 과정을 모니터링 할 때 사용되는 모델 평가 지표.\n",
        "    옵티마이저와 손실함수와는 달리 훈련에 관여하지 않으면서\n",
        "    모델 성능 평가에 사용됨."
      ]
    },
    {
      "cell_type": "code",
      "execution_count": 30,
      "metadata": {
        "id": "L5PxNWso3MTP"
      },
      "outputs": [],
      "source": [
        "model = keras.Sequential([keras.layers.Dense(1)])"
      ]
    },
    {
      "cell_type": "code",
      "execution_count": 31,
      "metadata": {
        "id": "s5DhmnnJ3MTP"
      },
      "outputs": [],
      "source": [
        "model.compile(optimizer=\"rmsprop\",\n",
        "              loss=\"mean_squared_error\",\n",
        "              metrics=[\"accuracy\"])"
      ]
    },
    {
      "cell_type": "markdown",
      "metadata": {
        "id": "lN-EbeR13MTP"
      },
      "source": [
        "지정된 문자열을 사용하는 대신 파이썬 객체를 직접 작성해도 된다."
      ]
    },
    {
      "cell_type": "code",
      "execution_count": 32,
      "metadata": {
        "id": "qCLlGf9A3MTQ"
      },
      "outputs": [],
      "source": [
        "model.compile(optimizer=keras.optimizers.RMSprop(),\n",
        "              loss=keras.losses.MeanSquaredError(),\n",
        "              metrics=[keras.metrics.BinaryAccuracy()])"
      ]
    },
    {
      "cell_type": "markdown",
      "metadata": {
        "id": "Hg8tWVMH3MTQ"
      },
      "source": [
        "### 3.6.3. 훈련 루프"
      ]
    },
    {
      "cell_type": "markdown",
      "metadata": {
        "id": "hrnAXUBU3MTQ"
      },
      "source": [
        "모델을 컴파일한 다음에 `fit()` 메서드를 호출하면\n",
        "모델은 스텝과 에포크 단위로 반복되는 **훈련 루프**<font size='2'>training loop</font>를\n",
        "지정된 횟수만큼 또는 학습이 충분히 이루어졌다는 평가가 내려질 때까지\n",
        "반복하는 훈련을 시작한다."
      ]
    },
    {
      "cell_type": "markdown",
      "metadata": {
        "id": "4kqMLXB23MTQ"
      },
      "source": [
        "**모델 훈련**"
      ]
    },
    {
      "cell_type": "code",
      "execution_count": 33,
      "metadata": {
        "id": "uWYSGSPf3MTQ",
        "outputId": "da281f29-cd4f-49d0-c10a-68269f0ce477",
        "colab": {
          "base_uri": "https://localhost:8080/"
        }
      },
      "outputs": [
        {
          "output_type": "stream",
          "name": "stdout",
          "text": [
            "Epoch 1/5\n",
            "16/16 [==============================] - 2s 3ms/step - loss: 6.9806 - binary_accuracy: 0.5655\n",
            "Epoch 2/5\n",
            "16/16 [==============================] - 0s 3ms/step - loss: 6.5739 - binary_accuracy: 0.5695\n",
            "Epoch 3/5\n",
            "16/16 [==============================] - 0s 3ms/step - loss: 6.2348 - binary_accuracy: 0.5710\n",
            "Epoch 4/5\n",
            "16/16 [==============================] - 0s 3ms/step - loss: 5.9102 - binary_accuracy: 0.5740\n",
            "Epoch 5/5\n",
            "16/16 [==============================] - 0s 3ms/step - loss: 5.5937 - binary_accuracy: 0.5770\n"
          ]
        }
      ],
      "source": [
        "training_history = model.fit(\n",
        "    inputs,\n",
        "    targets,\n",
        "    epochs=5,\n",
        "    batch_size=128\n",
        ")"
      ]
    },
    {
      "cell_type": "markdown",
      "metadata": {
        "id": "W_JI-5Rc3MTQ"
      },
      "source": [
        "**훈련 결과**"
      ]
    },
    {
      "cell_type": "markdown",
      "metadata": {
        "id": "E71icA5H3MTQ"
      },
      "source": [
        "훈련이 종료되면 `fit()` 메서드는 `History` 객체를 반환하며,\n",
        "`history` 속성에 훈련 과정 중에 측정된 손실값, 평가지표를 에포크 단위로 기억한다."
      ]
    },
    {
      "cell_type": "code",
      "execution_count": 34,
      "metadata": {
        "id": "5x-eBSZn3MTQ",
        "outputId": "a15a7ba8-9430-4b38-99f4-d1d22c119465",
        "colab": {
          "base_uri": "https://localhost:8080/"
        }
      },
      "outputs": [
        {
          "output_type": "execute_result",
          "data": {
            "text/plain": [
              "{'loss': [6.980559825897217,\n",
              "  6.573873043060303,\n",
              "  6.234823226928711,\n",
              "  5.9101762771606445,\n",
              "  5.593691825866699],\n",
              " 'binary_accuracy': [0.565500020980835,\n",
              "  0.5695000290870667,\n",
              "  0.5709999799728394,\n",
              "  0.5740000009536743,\n",
              "  0.5770000219345093]}"
            ]
          },
          "metadata": {},
          "execution_count": 34
        }
      ],
      "source": [
        "training_history.history"
      ]
    },
    {
      "cell_type": "markdown",
      "metadata": {
        "id": "G5_E9B2a3MTQ"
      },
      "source": [
        "**검증 데이터 활용**"
      ]
    },
    {
      "cell_type": "markdown",
      "metadata": {
        "id": "UvCq2dRV3MTQ"
      },
      "source": [
        "아래 과정은 훈련 세트와 검증 세트를 수동으로 구분하는 방법을 보여준다."
      ]
    },
    {
      "cell_type": "markdown",
      "metadata": {
        "id": "BSEsWNYq3MTQ"
      },
      "source": [
        "- `np.random.permutation()` 함수는 숫자들을 무작위로 섞는다.\n",
        "    이를 이용하여 훈련세트의 인덱스를 무작위로 섞는다."
      ]
    },
    {
      "cell_type": "code",
      "execution_count": 35,
      "metadata": {
        "id": "giDaw6Vf3MTQ"
      },
      "outputs": [],
      "source": [
        "indices_permutation = np.random.permutation(len(inputs))"
      ]
    },
    {
      "cell_type": "markdown",
      "metadata": {
        "id": "GCF2ZpIP3MTQ"
      },
      "source": [
        "- 무작위로 섞인 인덱스를 이용하여 데이터셋으르 재정렬 한다."
      ]
    },
    {
      "cell_type": "code",
      "execution_count": 36,
      "metadata": {
        "id": "5TCAKjgG3MTQ"
      },
      "outputs": [],
      "source": [
        "shuffled_inputs = inputs[indices_permutation]\n",
        "shuffled_targets = targets[indices_permutation]"
      ]
    },
    {
      "cell_type": "markdown",
      "metadata": {
        "id": "G3Oweohz3MTQ"
      },
      "source": [
        "- 재정렬된 데이터셋의 30%를 검증 세트로 분류한다."
      ]
    },
    {
      "cell_type": "code",
      "execution_count": 37,
      "metadata": {
        "id": "z5mP-XsK3MTR"
      },
      "outputs": [],
      "source": [
        "num_validation_samples = int(0.3 * len(inputs))\n",
        "\n",
        "val_inputs = shuffled_inputs[:num_validation_samples]\n",
        "val_targets = shuffled_targets[:num_validation_samples]"
      ]
    },
    {
      "cell_type": "markdown",
      "metadata": {
        "id": "QBPXVuQy3MTR"
      },
      "source": [
        "- 나머지는 훈련 세트로 지정한다."
      ]
    },
    {
      "cell_type": "code",
      "execution_count": 38,
      "metadata": {
        "id": "GV_Dg2-M3MTR"
      },
      "outputs": [],
      "source": [
        "training_inputs = shuffled_inputs[num_validation_samples:]\n",
        "training_targets = shuffled_targets[num_validation_samples:]"
      ]
    },
    {
      "cell_type": "markdown",
      "metadata": {
        "id": "zYwY58wM3MTR"
      },
      "source": [
        "*훈련 중 모델 검증*"
      ]
    },
    {
      "cell_type": "markdown",
      "metadata": {
        "id": "JL075f2Y3MTR"
      },
      "source": [
        "- 훈련 세트를 대상으로 하는 훈련과 검증 세트를 대상으로 하는 평가를 동시에 진행할 수 있다."
      ]
    },
    {
      "cell_type": "code",
      "execution_count": 39,
      "metadata": {
        "id": "L5Plrxp33MTR",
        "outputId": "36223dde-3bee-4478-c3fd-0ec5d4d73227",
        "colab": {
          "base_uri": "https://localhost:8080/"
        }
      },
      "outputs": [
        {
          "output_type": "stream",
          "name": "stdout",
          "text": [
            "Epoch 1/5\n",
            "88/88 [==============================] - 0s 5ms/step - loss: 4.7834 - binary_accuracy: 0.5721 - val_loss: 3.6862 - val_binary_accuracy: 0.6117\n",
            "Epoch 2/5\n",
            "88/88 [==============================] - 0s 4ms/step - loss: 3.4514 - binary_accuracy: 0.5843 - val_loss: 2.5390 - val_binary_accuracy: 0.6400\n",
            "Epoch 3/5\n",
            "88/88 [==============================] - 0s 3ms/step - loss: 2.3223 - binary_accuracy: 0.6150 - val_loss: 1.6349 - val_binary_accuracy: 0.6833\n",
            "Epoch 4/5\n",
            "88/88 [==============================] - 0s 4ms/step - loss: 1.4795 - binary_accuracy: 0.6479 - val_loss: 0.9754 - val_binary_accuracy: 0.7183\n",
            "Epoch 5/5\n",
            "88/88 [==============================] - 0s 4ms/step - loss: 0.8943 - binary_accuracy: 0.6986 - val_loss: 0.5652 - val_binary_accuracy: 0.7650\n"
          ]
        }
      ],
      "source": [
        "training_history = model.fit(\n",
        "    training_inputs,\n",
        "    training_targets,\n",
        "    epochs=5,\n",
        "    batch_size=16,\n",
        "    validation_data=(val_inputs, val_targets)\n",
        ")"
      ]
    },
    {
      "cell_type": "markdown",
      "metadata": {
        "id": "CHEt0hY03MTR"
      },
      "source": [
        "`History` 객체는 훈련 세트 뿐만 아니라 검증 세트를 대상으로도 손실값과 평가지표를 기억한다."
      ]
    },
    {
      "cell_type": "code",
      "execution_count": 40,
      "metadata": {
        "id": "-Bz6M9D73MTR",
        "outputId": "fd013dc7-6a0b-4f5b-9fca-8018e9c1ebb9",
        "colab": {
          "base_uri": "https://localhost:8080/"
        }
      },
      "outputs": [
        {
          "output_type": "execute_result",
          "data": {
            "text/plain": [
              "{'loss': [4.783360004425049,\n",
              "  3.451397180557251,\n",
              "  2.322317123413086,\n",
              "  1.4795068502426147,\n",
              "  0.8943332433700562],\n",
              " 'binary_accuracy': [0.5721428394317627,\n",
              "  0.5842857360839844,\n",
              "  0.6150000095367432,\n",
              "  0.647857129573822,\n",
              "  0.6985714435577393],\n",
              " 'val_loss': [3.6862316131591797,\n",
              "  2.5389797687530518,\n",
              "  1.6348626613616943,\n",
              "  0.975370466709137,\n",
              "  0.5652150511741638],\n",
              " 'val_binary_accuracy': [0.6116666793823242,\n",
              "  0.6399999856948853,\n",
              "  0.6833333373069763,\n",
              "  0.7183333039283752,\n",
              "  0.7649999856948853]}"
            ]
          },
          "metadata": {},
          "execution_count": 40
        }
      ],
      "source": [
        "training_history.history"
      ]
    },
    {
      "cell_type": "markdown",
      "metadata": {
        "id": "65_FczOk3MTR"
      },
      "source": [
        "*훈련 후 모델 검증*"
      ]
    },
    {
      "cell_type": "markdown",
      "metadata": {
        "id": "g6JPYczC3MTS"
      },
      "source": [
        "훈련 후에 검증 세트를 이용하여 평가하려면 `evaluate()` 메서드를 이용한다."
      ]
    },
    {
      "cell_type": "code",
      "execution_count": 41,
      "metadata": {
        "id": "TImidpa83MTS",
        "outputId": "6b4f6a46-cd71-4469-f4f3-ae63053e95f7",
        "colab": {
          "base_uri": "https://localhost:8080/"
        }
      },
      "outputs": [
        {
          "output_type": "stream",
          "name": "stdout",
          "text": [
            "5/5 [==============================] - 0s 4ms/step - loss: 0.5652 - binary_accuracy: 0.7650\n"
          ]
        }
      ],
      "source": [
        "loss_and_metrics = model.evaluate(val_inputs, val_targets, batch_size=128)"
      ]
    },
    {
      "cell_type": "code",
      "execution_count": 42,
      "metadata": {
        "id": "KVJzAHQT3MTS",
        "outputId": "65a6b09a-0735-49af-e689-296da8042537",
        "colab": {
          "base_uri": "https://localhost:8080/"
        }
      },
      "outputs": [
        {
          "output_type": "stream",
          "name": "stdout",
          "text": [
            "[0.5652151107788086, 0.7649999856948853]\n"
          ]
        }
      ],
      "source": [
        "print(loss_and_metrics)"
      ]
    },
    {
      "cell_type": "markdown",
      "metadata": {
        "id": "Mi43Gd833MTS"
      },
      "source": [
        "## 3.6.4 예측"
      ]
    },
    {
      "cell_type": "markdown",
      "metadata": {
        "id": "Qo7I5y9b3MTS"
      },
      "source": [
        "훈련된 모델을 활용하는 두 가지 방법이 있다."
      ]
    },
    {
      "cell_type": "markdown",
      "metadata": {
        "id": "VLQP1ZXQ3MTS"
      },
      "source": [
        "**모델 적용**"
      ]
    },
    {
      "cell_type": "markdown",
      "metadata": {
        "id": "JptB1tGR3MTS"
      },
      "source": [
        "먼저, `__call__()` 메서드를 활용한다. 즉,\n",
        "데이터셋을 모델과 함께 직접 호출한다."
      ]
    },
    {
      "cell_type": "code",
      "execution_count": 43,
      "metadata": {
        "id": "TvbxbNIG3MTS",
        "outputId": "755c800d-d588-41f8-bc2e-cf5cb0670591",
        "colab": {
          "base_uri": "https://localhost:8080/"
        }
      },
      "outputs": [
        {
          "output_type": "stream",
          "name": "stdout",
          "text": [
            "tf.Tensor(\n",
            "[[ 1.8730004 ]\n",
            " [ 0.22573581]\n",
            " [ 1.3456793 ]\n",
            " [ 1.9033823 ]\n",
            " [ 0.02351168]\n",
            " [ 1.6470635 ]\n",
            " [ 0.38063893]\n",
            " [ 1.0525749 ]\n",
            " [-0.26471642]\n",
            " [-0.2573395 ]], shape=(10, 1), dtype=float32)\n"
          ]
        }
      ],
      "source": [
        "predictions = model(val_inputs)\n",
        "print(predictions[:10])"
      ]
    },
    {
      "cell_type": "markdown",
      "metadata": {
        "id": "DCfQGJ4M3MTS"
      },
      "source": [
        "**`predict()` 메서드**"
      ]
    },
    {
      "cell_type": "markdown",
      "metadata": {
        "id": "bqrcckuQ3MTS"
      },
      "source": [
        "하지만 이 방식은 데이터셋이 매우 크면 적절하지 않을 수 있다.\n",
        "따라서 `predict()` 메서드를 이용하여 배치를 활용하는 것을 추천한다."
      ]
    },
    {
      "cell_type": "code",
      "execution_count": 44,
      "metadata": {
        "id": "OU7jAwyZ3MTS",
        "outputId": "65e0350b-e8a3-4441-cfc9-6dfab3d52e63",
        "colab": {
          "base_uri": "https://localhost:8080/"
        }
      },
      "outputs": [
        {
          "output_type": "stream",
          "name": "stdout",
          "text": [
            "5/5 [==============================] - 0s 2ms/step\n",
            "[[ 1.8730004 ]\n",
            " [ 0.22573581]\n",
            " [ 1.3456793 ]\n",
            " [ 1.9033823 ]\n",
            " [ 0.02351168]\n",
            " [ 1.6470635 ]\n",
            " [ 0.38063893]\n",
            " [ 1.0525749 ]\n",
            " [-0.26471642]\n",
            " [-0.2573395 ]]\n"
          ]
        }
      ],
      "source": [
        "predictions = model.predict(val_inputs, batch_size=128)\n",
        "print(predictions[:10])"
      ]
    },
    {
      "cell_type": "code",
      "source": [],
      "metadata": {
        "id": "fPPF3MY96rzl"
      },
      "execution_count": 44,
      "outputs": []
    }
  ],
  "metadata": {
    "colab": {
      "name": "dlp03_introduction_to_keras_and_tf",
      "provenance": [],
      "gpuType": "T4"
    },
    "kernelspec": {
      "display_name": "Python 3",
      "name": "python3"
    },
    "language_info": {
      "codemirror_mode": {
        "name": "ipython",
        "version": 3
      },
      "file_extension": ".py",
      "mimetype": "text/x-python",
      "name": "python",
      "nbconvert_exporter": "python",
      "pygments_lexer": "ipython3",
      "version": "3.10.9"
    },
    "vscode": {
      "interpreter": {
        "hash": "33b995ba57ec8806df76ad412cbfca6e91844af7e84c0aab5f00a2382a2b11c8"
      }
    },
    "accelerator": "GPU"
  },
  "nbformat": 4,
  "nbformat_minor": 0
}