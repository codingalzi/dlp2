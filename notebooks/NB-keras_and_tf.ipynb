{
 "cells": [
  {
   "cell_type": "markdown",
   "metadata": {
    "colab_type": "text"
   },
   "source": [
    "# 3장 케라스와 텐서플로우"
   ]
  },
  {
   "cell_type": "markdown",
   "metadata": {
    "colab_type": "text"
   },
   "source": [
    "__감사말__\n",
    "\n",
    "프랑소와 숄레의 [Deep Learning with Python, Second Edition](https://www.manning.com/books/deep-learning-with-python-second-edition?a_aid=keras&a_bid=76564dff) 2장에 사용된 코드에 대한 설명을 담고 있으며 텐서플로우 2.6 버전 이상에서 작성되었습니다. 소스코드를 공개한 저자에게 감사드립니다."
   ]
  },
  {
   "cell_type": "markdown",
   "metadata": {},
   "source": [
    "__구글 코랩 설정__\n",
    "\n",
    "'런타임 -> 런타임 유형 변경' 메뉴에서 GPU를 지정한다.\n",
    "TensorFlow 버전을 확인하려면 아래 명령문을 실행한다."
   ]
  },
  {
   "cell_type": "code",
   "execution_count": 1,
   "metadata": {},
   "outputs": [
    {
     "data": {
      "text/plain": [
       "'2.8.2'"
      ]
     },
     "execution_count": 1,
     "metadata": {},
     "output_type": "execute_result"
    }
   ],
   "source": [
    "import tensorflow as tf\n",
    "tf.__version__"
   ]
  },
  {
   "cell_type": "markdown",
   "metadata": {},
   "source": [
    "TensorFlow가 GPU를 사용하는지 여부를 확인하려면 아래 명령문을 실행한다.\n",
    "아래와 같은 결과가 나오면 GPU가 제대로 지원됨을 의미한다.\n",
    "\n",
    "```\n",
    "[PhysicalDevice(name='/physical_device:GPU:0', device_type='GPU')]\n",
    "```"
   ]
  },
  {
   "cell_type": "code",
   "execution_count": 2,
   "metadata": {},
   "outputs": [
    {
     "data": {
      "text/plain": [
       "[PhysicalDevice(name='/physical_device:GPU:0', device_type='GPU')]"
      ]
     },
     "execution_count": 2,
     "metadata": {},
     "output_type": "execute_result"
    }
   ],
   "source": [
    "tf.config.list_physical_devices('GPU')"
   ]
  },
  {
   "cell_type": "markdown",
   "metadata": {},
   "source": [
    "**참고**\n",
    "\n",
    "아래 코드에 대한 자세한 설명은\n",
    "[케라스와 텐서플로우](https://codingalzi.github.io/dlp2/keras_and_tf.html)를 \n",
    "참고한다."
   ]
  },
  {
   "cell_type": "markdown",
   "metadata": {
    "colab_type": "text"
   },
   "source": [
    "## 3.5 텐서플로우 기본 사용법"
   ]
  },
  {
   "cell_type": "markdown",
   "metadata": {},
   "source": [
    "### 신경망 모델 훈련 핵심 1\n",
    "\n",
    "1. 상수 텐서와 변수 텐서\n",
    "    - 상수 텐서(constant tensor): 입출력 데이터 등 변하지 않는 텐서\n",
    "    - 변수 텐서(variable): 모델 가중치, 편향 등 업데이트 되는 텐서\n",
    "1. 텐서 연산: 덧셈, relu, 점곱 등\n",
    "1. 역전파(backpropagation): \n",
    "    - 손실함수의 그레이디언트 계산 후 모델 가중치 업데이트\n",
    "    - 그레이디언트 테이프(`GradientTape`) 이용"
   ]
  },
  {
   "cell_type": "markdown",
   "metadata": {},
   "source": [
    "### 텐서플로우 기본 API 활용법"
   ]
  },
  {
   "cell_type": "code",
   "execution_count": 3,
   "metadata": {
    "colab_type": "code"
   },
   "outputs": [],
   "source": [
    "import tensorflow as tf"
   ]
  },
  {
   "cell_type": "markdown",
   "metadata": {
    "colab_type": "text"
   },
   "source": [
    "#### 상수 텐서\n",
    "\n",
    "상수 텐서는 한 번 생성되면 값을 수정할 수 없다.\n",
    "딥러닝 연산에 많이 사용되는 상수 텐서는 다음과 같다."
   ]
  },
  {
   "cell_type": "markdown",
   "metadata": {
    "colab_type": "text"
   },
   "source": [
    "- 상수 텐서 수동 생성"
   ]
  },
  {
   "cell_type": "code",
   "execution_count": 4,
   "metadata": {
    "colab_type": "code"
   },
   "outputs": [
    {
     "name": "stdout",
     "output_type": "stream",
     "text": [
      "tf.Tensor(\n",
      "[[1. 2.]\n",
      " [3. 4.]], shape=(2, 2), dtype=float32)\n"
     ]
    }
   ],
   "source": [
    "x = tf.constant([[1., 2.], [3., 4.]])\n",
    "print(x)"
   ]
  },
  {
   "cell_type": "markdown",
   "metadata": {
    "colab_type": "text"
   },
   "source": [
    "- 1로만 이루어진 텐서"
   ]
  },
  {
   "cell_type": "code",
   "execution_count": 5,
   "metadata": {
    "colab_type": "code"
   },
   "outputs": [
    {
     "name": "stdout",
     "output_type": "stream",
     "text": [
      "tf.Tensor(\n",
      "[[1.]\n",
      " [1.]], shape=(2, 1), dtype=float32)\n"
     ]
    }
   ],
   "source": [
    "x = tf.ones(shape=(2, 1))\n",
    "print(x)"
   ]
  },
  {
   "cell_type": "markdown",
   "metadata": {
    "colab_type": "text"
   },
   "source": [
    "- 0으로만 이루어진 텐서"
   ]
  },
  {
   "cell_type": "code",
   "execution_count": 6,
   "metadata": {
    "colab_type": "code"
   },
   "outputs": [
    {
     "name": "stdout",
     "output_type": "stream",
     "text": [
      "tf.Tensor(\n",
      "[[0.]\n",
      " [0.]], shape=(2, 1), dtype=float32)\n"
     ]
    }
   ],
   "source": [
    "x = tf.zeros(shape=(2, 1))\n",
    "print(x)"
   ]
  },
  {
   "cell_type": "markdown",
   "metadata": {
    "colab_type": "text"
   },
   "source": [
    "- `normal()` 함수: 0과 1사이의 부동소수점을 정규분포를 따르도록 무작위적으로 선택\n",
    "    - `mean`: 평균값\n",
    "    - `stddev`: 표준편차"
   ]
  },
  {
   "cell_type": "code",
   "execution_count": 7,
   "metadata": {
    "colab_type": "code"
   },
   "outputs": [
    {
     "name": "stdout",
     "output_type": "stream",
     "text": [
      "tf.Tensor(\n",
      "[[-0.06393494]\n",
      " [-0.77504534]\n",
      " [-1.5976512 ]], shape=(3, 1), dtype=float32)\n"
     ]
    }
   ],
   "source": [
    "x = tf.random.normal(shape=(3, 1), mean=0., stddev=1.)\n",
    "print(x)"
   ]
  },
  {
   "cell_type": "markdown",
   "metadata": {
    "colab_type": "text"
   },
   "source": [
    "- `uniform()` 함수: 지정된 구간에서 부동소수점을 균등분포를 따르도록 무작위적으로 선택\n",
    "    - `minval`: 구간 최솟값\n",
    "    - `maxval`: 구간 최댓값"
   ]
  },
  {
   "cell_type": "code",
   "execution_count": 8,
   "metadata": {
    "colab_type": "code"
   },
   "outputs": [
    {
     "name": "stdout",
     "output_type": "stream",
     "text": [
      "tf.Tensor(\n",
      "[[0.41822243]\n",
      " [0.9012493 ]\n",
      " [0.60326064]], shape=(3, 1), dtype=float32)\n"
     ]
    }
   ],
   "source": [
    "x = tf.random.uniform(shape=(3, 1), minval=0., maxval=1.)\n",
    "print(x)"
   ]
  },
  {
   "cell_type": "markdown",
   "metadata": {},
   "source": [
    "한 번 생성된 상수 텐서는 수정이 불가능하다. "
   ]
  },
  {
   "cell_type": "markdown",
   "metadata": {},
   "source": [
    "```python\n",
    ">>> x[0, 0] = 1.0\n",
    "\n",
    "---------------------------------------------------------------------------\n",
    "TypeError                                 Traceback (most recent call last)\n",
    "<ipython-input-7-242a5d4d3c4a> in <module>\n",
    "----> 1 x[0, 0] = 1.0\n",
    "\n",
    "TypeError: 'tensorflow.python.framework.ops.EagerTensor' object does not support item assignment\n",
    "```"
   ]
  },
  {
   "cell_type": "code",
   "execution_count": 9,
   "metadata": {},
   "outputs": [
    {
     "data": {
      "text/plain": [
       "<tf.Tensor: shape=(), dtype=float32, numpy=0.41822243>"
      ]
     },
     "execution_count": 9,
     "metadata": {},
     "output_type": "execute_result"
    }
   ],
   "source": [
    "x[0, 0]"
   ]
  },
  {
   "cell_type": "code",
   "execution_count": 10,
   "metadata": {},
   "outputs": [
    {
     "data": {
      "text/plain": [
       "tensorflow.python.framework.ops.EagerTensor"
      ]
     },
     "execution_count": 10,
     "metadata": {},
     "output_type": "execute_result"
    }
   ],
   "source": [
    "type(x[0, 0])"
   ]
  },
  {
   "cell_type": "markdown",
   "metadata": {
    "colab_type": "text"
   },
   "source": [
    "넘파이 어레이는 반면에 수정 가능하다."
   ]
  },
  {
   "cell_type": "code",
   "execution_count": 11,
   "metadata": {
    "colab_type": "code"
   },
   "outputs": [
    {
     "name": "stdout",
     "output_type": "stream",
     "text": [
      "[[0. 1.]\n",
      " [1. 1.]]\n"
     ]
    }
   ],
   "source": [
    "import numpy as np\n",
    "\n",
    "x = np.ones(shape=(2, 2))\n",
    "\n",
    "x[0, 0] = 0.0\n",
    "print(x)"
   ]
  },
  {
   "cell_type": "markdown",
   "metadata": {
    "colab_type": "text"
   },
   "source": [
    "#### 변수 텐서"
   ]
  },
  {
   "cell_type": "markdown",
   "metadata": {},
   "source": [
    "신경망 모델 훈련 도중에 가중치 텐서는 업데이트될 수 있어야 한다.\n",
    "이런 텐서는 변수 텐서로 선언해야 하며, \n",
    "`Variaible` 클래스로 감싼다."
   ]
  },
  {
   "cell_type": "code",
   "execution_count": 12,
   "metadata": {
    "colab_type": "code"
   },
   "outputs": [
    {
     "name": "stdout",
     "output_type": "stream",
     "text": [
      "<tf.Variable 'Variable:0' shape=(3, 1) dtype=float32, numpy=\n",
      "array([[1.1498089 ],\n",
      "       [0.14432618],\n",
      "       [1.1919965 ]], dtype=float32)>\n"
     ]
    }
   ],
   "source": [
    "v = tf.Variable(initial_value=tf.random.normal(shape=(3, 1)))\n",
    "print(v)"
   ]
  },
  {
   "cell_type": "markdown",
   "metadata": {},
   "source": [
    "`Variable` 클래스의 `assign()` 메서드를 활용하여 텐서 항목 전체 또는 \n",
    "일부를 수정할 수 있다."
   ]
  },
  {
   "cell_type": "code",
   "execution_count": 13,
   "metadata": {
    "colab_type": "code"
   },
   "outputs": [
    {
     "data": {
      "text/plain": [
       "<tf.Variable 'UnreadVariable' shape=(3, 1) dtype=float32, numpy=\n",
       "array([[1.],\n",
       "       [1.],\n",
       "       [1.]], dtype=float32)>"
      ]
     },
     "execution_count": 13,
     "metadata": {},
     "output_type": "execute_result"
    }
   ],
   "source": [
    "v.assign(tf.ones((3, 1)))"
   ]
  },
  {
   "cell_type": "markdown",
   "metadata": {},
   "source": [
    "__주의사항__: 모양(shape)이 동일한 텐서를 사용해야 한다.\n",
    "\n",
    "```python\n",
    ">>> v.assign(tf.ones((3, 2)))\n",
    "\n",
    "---------------------------------------------------------------------------\n",
    "ValueError                                Traceback (most recent call last)\n",
    "<ipython-input-13-e381ab0c94e6> in <module>\n",
    "----> 1 v.assign(tf.ones((3, 2)))\n",
    "\n",
    "~\\anaconda3\\lib\\site-packages\\tensorflow\\python\\ops\\resource_variable_ops.py in assign(self, value, use_locking, name, read_value)\n",
    "    886         else:\n",
    "    887           tensor_name = \" \" + str(self.name)\n",
    "--> 888         raise ValueError(\n",
    "    889             (\"Cannot assign to variable%s due to variable shape %s and value \"\n",
    "    890              \"shape %s are incompatible\") %\n",
    "\n",
    "ValueError: Cannot assign to variable Variable:0 due to variable shape (3, 1) and value shape (3, 2) are incompatible\n",
    "```"
   ]
  },
  {
   "cell_type": "markdown",
   "metadata": {},
   "source": [
    "특정 항목을 수정하려면 인덱싱과 함께 사용한다."
   ]
  },
  {
   "cell_type": "code",
   "execution_count": 14,
   "metadata": {},
   "outputs": [
    {
     "data": {
      "text/plain": [
       "<tf.Tensor: shape=(), dtype=float32, numpy=1.0>"
      ]
     },
     "execution_count": 14,
     "metadata": {},
     "output_type": "execute_result"
    }
   ],
   "source": [
    "v[0, 0]"
   ]
  },
  {
   "cell_type": "code",
   "execution_count": 15,
   "metadata": {},
   "outputs": [
    {
     "data": {
      "text/plain": [
       "tensorflow.python.framework.ops.EagerTensor"
      ]
     },
     "execution_count": 15,
     "metadata": {},
     "output_type": "execute_result"
    }
   ],
   "source": [
    "type(v[0, 0])"
   ]
  },
  {
   "cell_type": "markdown",
   "metadata": {},
   "source": [
    "상수 텐서의 경우처럼 각 항목은 `EagerTensor` 객체이지만 이번엔 항목 변환이 가능하다.\n",
    "텐서플로우 내부에서 변수 텐서인 경우와 아닌 경우를 구분해서 `assign()` 메서드의 지원여부를 \n",
    "판단하는 것으로 보인다."
   ]
  },
  {
   "cell_type": "code",
   "execution_count": 16,
   "metadata": {
    "colab_type": "code"
   },
   "outputs": [
    {
     "data": {
      "text/plain": [
       "<tf.Variable 'UnreadVariable' shape=(3, 1) dtype=float32, numpy=\n",
       "array([[3.],\n",
       "       [1.],\n",
       "       [1.]], dtype=float32)>"
      ]
     },
     "execution_count": 16,
     "metadata": {},
     "output_type": "execute_result"
    }
   ],
   "source": [
    "v[0, 0].assign(3.)"
   ]
  },
  {
   "cell_type": "markdown",
   "metadata": {
    "colab_type": "text"
   },
   "source": [
    "`assign_add()` 메서드는 변수 텐서에 대한 덧셈 연산을 수행한다.\n",
    "단, 해당 객체의 항목이 업데이트된다."
   ]
  },
  {
   "cell_type": "code",
   "execution_count": 17,
   "metadata": {
    "colab_type": "code"
   },
   "outputs": [
    {
     "data": {
      "text/plain": [
       "<tf.Variable 'UnreadVariable' shape=(3, 1) dtype=float32, numpy=\n",
       "array([[4.],\n",
       "       [2.],\n",
       "       [2.]], dtype=float32)>"
      ]
     },
     "execution_count": 17,
     "metadata": {},
     "output_type": "execute_result"
    }
   ],
   "source": [
    "v.assign_add(tf.ones((3, 1)))"
   ]
  },
  {
   "cell_type": "markdown",
   "metadata": {
    "colab_type": "text"
   },
   "source": [
    "#### 텐서 연산"
   ]
  },
  {
   "cell_type": "markdown",
   "metadata": {
    "colab_type": "text"
   },
   "source": [
    "텐서 연산은 넘파이 어레이에 대한 연산과 거의 같다.\n",
    "다음은 몇 가지 예제를 보여준다.\n",
    "\n",
    "__참고__: 보다 다양한 텐서와 텐서 연산에 대한 자세한 설명은 [텐서플로우 가이드(TensorFlow Guide)](https://www.tensorflow.org/guide/tensor) 영어판을 참고하라."
   ]
  },
  {
   "cell_type": "code",
   "execution_count": 18,
   "metadata": {},
   "outputs": [],
   "source": [
    "import numpy as np\n",
    "\n",
    "a = np.array([[2., 1.],\n",
    "              [3., -2.]], dtype=np.float32)"
   ]
  },
  {
   "cell_type": "code",
   "execution_count": 19,
   "metadata": {},
   "outputs": [
    {
     "name": "stdout",
     "output_type": "stream",
     "text": [
      "tf.Tensor(\n",
      "[[ 3.  2.]\n",
      " [ 4. -1.]], shape=(2, 2), dtype=float32)\n"
     ]
    }
   ],
   "source": [
    "a = tf.convert_to_tensor(a)\n",
    "a += tf.ones((2, 2))\n",
    "print(a)"
   ]
  },
  {
   "cell_type": "code",
   "execution_count": 20,
   "metadata": {
    "colab_type": "code"
   },
   "outputs": [
    {
     "name": "stdout",
     "output_type": "stream",
     "text": [
      "tf.Tensor(\n",
      "[[ 9.  4.]\n",
      " [16.  1.]], shape=(2, 2), dtype=float32)\n"
     ]
    }
   ],
   "source": [
    "b = tf.square(a)\n",
    "print(b)"
   ]
  },
  {
   "cell_type": "code",
   "execution_count": 21,
   "metadata": {
    "colab_type": "code"
   },
   "outputs": [
    {
     "name": "stdout",
     "output_type": "stream",
     "text": [
      "tf.Tensor(\n",
      "[[1.7320508 1.4142135]\n",
      " [2.              nan]], shape=(2, 2), dtype=float32)\n"
     ]
    }
   ],
   "source": [
    "c = tf.sqrt(a)\n",
    "print(c)"
   ]
  },
  {
   "cell_type": "code",
   "execution_count": 22,
   "metadata": {},
   "outputs": [
    {
     "name": "stdout",
     "output_type": "stream",
     "text": [
      "tf.Tensor(\n",
      "[[3. 2.]\n",
      " [4. 0.]], shape=(2, 2), dtype=float32)\n"
     ]
    }
   ],
   "source": [
    "a = tf.nn.relu(a)\n",
    "print(a)"
   ]
  },
  {
   "cell_type": "code",
   "execution_count": 23,
   "metadata": {
    "colab_type": "code"
   },
   "outputs": [
    {
     "name": "stdout",
     "output_type": "stream",
     "text": [
      "tf.Tensor(\n",
      "[[1.7320508 1.4142135]\n",
      " [2.        0.       ]], shape=(2, 2), dtype=float32)\n"
     ]
    }
   ],
   "source": [
    "c = tf.sqrt(a)\n",
    "print(c)"
   ]
  },
  {
   "cell_type": "code",
   "execution_count": 24,
   "metadata": {
    "colab_type": "code"
   },
   "outputs": [
    {
     "name": "stdout",
     "output_type": "stream",
     "text": [
      "tf.Tensor(\n",
      "[[10.732051   5.4142137]\n",
      " [18.         1.       ]], shape=(2, 2), dtype=float32)\n"
     ]
    }
   ],
   "source": [
    "d = b + c\n",
    "print(d)"
   ]
  },
  {
   "cell_type": "markdown",
   "metadata": {},
   "source": [
    "`matmul()` 곱셈은 넘파이의 점곱(dot) 연산자와 유사하게 작동하며\n",
    "2차원 행렬모양의 텐서의 경우 행렬 곱으로 실행된다."
   ]
  },
  {
   "cell_type": "code",
   "execution_count": 25,
   "metadata": {
    "colab_type": "code"
   },
   "outputs": [
    {
     "name": "stdout",
     "output_type": "stream",
     "text": [
      "tf.Tensor(\n",
      "[[59. 14.]\n",
      " [36. 16.]], shape=(2, 2), dtype=float32)\n"
     ]
    }
   ],
   "source": [
    "e = tf.matmul(a, b)\n",
    "print(e)"
   ]
  },
  {
   "cell_type": "markdown",
   "metadata": {},
   "source": [
    "곱셈 연산자(`*`)는 항목별 곱셈으로 처리된다."
   ]
  },
  {
   "cell_type": "code",
   "execution_count": 26,
   "metadata": {
    "colab_type": "code"
   },
   "outputs": [
    {
     "name": "stdout",
     "output_type": "stream",
     "text": [
      "tf.Tensor(\n",
      "[[177.  28.]\n",
      " [144.   0.]], shape=(2, 2), dtype=float32)\n"
     ]
    }
   ],
   "source": [
    "e *= a\n",
    "print(e)"
   ]
  },
  {
   "cell_type": "markdown",
   "metadata": {
    "colab_type": "text"
   },
   "source": [
    "### `GradientTape` API (다시 살펴 보기)"
   ]
  },
  {
   "cell_type": "markdown",
   "metadata": {
    "colab_type": "text"
   },
   "source": [
    "그레이디언트 테이프는 텐서 변수에 의존하는 미분함수의 그레이디언트를 자동 계산해준다.\n",
    "아래 코드는 제곱 함수의 미분을 계산한다.\n",
    "\n",
    "$$\n",
    "f(x) = x^2 \\quad \\Longrightarrow \\quad \\nabla f(x) = \\frac{df(x)}{dx} = 2x\n",
    "$$"
   ]
  },
  {
   "cell_type": "code",
   "execution_count": 27,
   "metadata": {
    "colab_type": "code"
   },
   "outputs": [
    {
     "name": "stdout",
     "output_type": "stream",
     "text": [
      "tf.Tensor(6.0, shape=(), dtype=float32)\n"
     ]
    }
   ],
   "source": [
    "input_var = tf.Variable(initial_value=3.)\n",
    "\n",
    "with tf.GradientTape() as tape:\n",
    "    result = tf.square(input_var)\n",
    "\n",
    "gradient = tape.gradient(result, input_var)\n",
    "\n",
    "print(gradient)"
   ]
  },
  {
   "cell_type": "markdown",
   "metadata": {},
   "source": [
    "그레이디언트 테이프 기능을 이용하여 신경망 모델 훈련 중에\n",
    "손실 함수의 그레이디언트를 계산한다.\n",
    "\n",
    "```python\n",
    "gradient = tape.gradient(loss, weights)\n",
    "```\n",
    "\n",
    "- `loss`: `weights` 텐서 변수에 의존하는 손실 함수\n",
    "- `weights`: 가중치 어레이"
   ]
  },
  {
   "cell_type": "markdown",
   "metadata": {
    "colab_type": "text"
   },
   "source": [
    "상수 텐서에 대해 그레이디언트 테이프를 이용하려면 `tape.watch()` 메서드로 감싸야 한다."
   ]
  },
  {
   "cell_type": "code",
   "execution_count": 28,
   "metadata": {
    "colab_type": "code"
   },
   "outputs": [
    {
     "name": "stdout",
     "output_type": "stream",
     "text": [
      "tf.Tensor(6.0, shape=(), dtype=float32)\n"
     ]
    }
   ],
   "source": [
    "input_const = tf.constant(3.)\n",
    "\n",
    "with tf.GradientTape() as tape:\n",
    "    tape.watch(input_const)\n",
    "    result = tf.square(input_const)\n",
    "\n",
    "gradient = tape.gradient(result, input_const)\n",
    "\n",
    "print(gradient)"
   ]
  },
  {
   "cell_type": "markdown",
   "metadata": {
    "colab_type": "text"
   },
   "source": [
    "__참고__: 2차 미분도 가능하지만 여기서는 관심 대상이 아니다.\n",
    "\n",
    "```python\n",
    "time = tf.Variable(0.)\n",
    "\n",
    "with tf.GradientTape() as outer_tape:\n",
    "    with tf.GradientTape() as inner_tape:\n",
    "        position =  4.9 * time ** 2\n",
    "    speed = inner_tape.gradient(position, time)\n",
    "\n",
    "acceleration = outer_tape.gradient(speed, time)\n",
    "```"
   ]
  },
  {
   "cell_type": "markdown",
   "metadata": {
    "colab_type": "text"
   },
   "source": [
    "### 저수준 선형 분류 신경망 구현"
   ]
  },
  {
   "cell_type": "markdown",
   "metadata": {},
   "source": [
    "순수 텐서플로우 API만을 이용하여 선형 분류 신경망을 구현한다."
   ]
  },
  {
   "cell_type": "markdown",
   "metadata": {},
   "source": [
    "#### 데이터셋 생성"
   ]
  },
  {
   "cell_type": "markdown",
   "metadata": {},
   "source": [
    "- `np.random.multivariate_normal()`\n",
    "    - 다변량 정규분포를 따르는 데이터 생성\n",
    "    - 평균값과 공분산 지정 필요\n",
    "- 음성 데이터셋\n",
    "    - 샘플 수: 1,000\n",
    "    - 평균값: `[0, 3]`\n",
    "    - 공분산: `[[1, 0.5],[0.5, 1]]`\n",
    "- 양성 데이터셋\n",
    "    - 샘플 수: 1,000\n",
    "    - 평균값: `[3, 0]`\n",
    "    - 공분산: `[[1, 0.5],[0.5, 1]]`"
   ]
  },
  {
   "cell_type": "code",
   "execution_count": 29,
   "metadata": {
    "colab_type": "code"
   },
   "outputs": [],
   "source": [
    "num_samples_per_class = 1000\n",
    "\n",
    "# 음성 데이터셋\n",
    "negative_samples = np.random.multivariate_normal(\n",
    "    mean=[0, 3], cov=[[1, 0.5],[0.5, 1]], size=num_samples_per_class)\n",
    "\n",
    "# 양성 데이터셋\n",
    "positive_samples = np.random.multivariate_normal(\n",
    "    mean=[3, 0], cov=[[1, 0.5],[0.5, 1]], size=num_samples_per_class)"
   ]
  },
  {
   "cell_type": "markdown",
   "metadata": {
    "colab_type": "text"
   },
   "source": [
    "두 개의 `(1000, 2)` 모양의 양성, 음성 데이터셋을 하나의 `(2000, 2)` 모양의 데이터셋으로 합치면서\n",
    "동시에 자료형을 `np.float32`로 지정한다. \n",
    "자료형을 지정하지 않으면 `np.float64`로 지정되어 보다 많은 메모리와 실행시간을 요구한다."
   ]
  },
  {
   "cell_type": "code",
   "execution_count": 30,
   "metadata": {
    "colab_type": "code"
   },
   "outputs": [],
   "source": [
    "inputs = np.vstack((negative_samples, positive_samples)).astype(np.float32)"
   ]
  },
  {
   "cell_type": "markdown",
   "metadata": {
    "colab_type": "text"
   },
   "source": [
    "음성 샘플의 타깃은 0, 양성 샘플의 타깃은 1로 지정한다."
   ]
  },
  {
   "cell_type": "code",
   "execution_count": 31,
   "metadata": {
    "colab_type": "code"
   },
   "outputs": [],
   "source": [
    "targets = np.vstack((np.zeros((num_samples_per_class, 1), dtype=\"float32\"),\n",
    "                     np.ones((num_samples_per_class, 1), dtype=\"float32\")))"
   ]
  },
  {
   "cell_type": "markdown",
   "metadata": {
    "colab_type": "text"
   },
   "source": [
    "양성, 음성 샘플을 색깔로 구분하면 다음과 같다.\n",
    "\n",
    "- `inputs[:, 0]`: x 좌표\n",
    "- `inputs[:, 1]`: x 좌표\n",
    "- `c=targets[:, 0]`: 0 또는 1에 따른 색상 지정"
   ]
  },
  {
   "cell_type": "code",
   "execution_count": 32,
   "metadata": {
    "colab_type": "code"
   },
   "outputs": [
    {
     "data": {
      "image/png": "[encoded data removed]",
      "text/plain": [
       "<Figure size 432x288 with 1 Axes>"
      ]
     },
     "metadata": {
      "needs_background": "light"
     },
     "output_type": "display_data"
    }
   ],
   "source": [
    "import matplotlib.pyplot as plt\n",
    "\n",
    "plt.scatter(inputs[:, 0], inputs[:, 1], c=targets[:, 0])\n",
    "plt.show()"
   ]
  },
  {
   "cell_type": "markdown",
   "metadata": {},
   "source": [
    "#### 가중치 변수 텐서 생성"
   ]
  },
  {
   "cell_type": "code",
   "execution_count": 33,
   "metadata": {
    "colab_type": "code"
   },
   "outputs": [],
   "source": [
    "input_dim = 2     # 입력 샘플의 특성이 2개\n",
    "output_dim = 1    # 하나의 값으로 출력\n",
    "\n",
    "# 가중치: 무작위 초기화\n",
    "W = tf.Variable(initial_value=tf.random.uniform(shape=(input_dim, output_dim)))\n",
    "\n",
    "# 편향: 0으로 초기화\n",
    "b = tf.Variable(initial_value=tf.zeros(shape=(output_dim,)))"
   ]
  },
  {
   "cell_type": "markdown",
   "metadata": {
    "colab_type": "text"
   },
   "source": [
    "#### 예측 모델(함수) 선언\n",
    "\n",
    "아래 함수는 하나의 층만 사용하는 모델이 출력값을 계산하는 과정이다."
   ]
  },
  {
   "cell_type": "code",
   "execution_count": 34,
   "metadata": {
    "colab_type": "code"
   },
   "outputs": [],
   "source": [
    "def model(inputs):\n",
    "    return tf.matmul(inputs, W) + b"
   ]
  },
  {
   "cell_type": "markdown",
   "metadata": {
    "colab_type": "text"
   },
   "source": [
    "#### 손실 함수: 평균 제곱 오차(MSE)\n",
    "\n",
    "- `tf.reduce_mean()`: 텐서에 포함된 항목들의 평균값 계산.\n",
    "    넘파이의 `np.mean()`과 결과는 동일하지만 텐서플로우의 텐서를 대상으로 함."
   ]
  },
  {
   "cell_type": "code",
   "execution_count": 35,
   "metadata": {
    "colab_type": "code"
   },
   "outputs": [],
   "source": [
    "def square_loss(targets, predictions):\n",
    "    per_sample_losses = tf.square(targets - predictions)\n",
    "    return tf.reduce_mean(per_sample_losses)"
   ]
  },
  {
   "cell_type": "markdown",
   "metadata": {
    "colab_type": "text"
   },
   "source": [
    "#### 훈련 단계\n",
    "\n",
    "하나의 배치에 대해 예측값을 계산한 후에 손실 함수의 그레이디언트를 이용하여 가중치와 편향을 업데이트한다. "
   ]
  },
  {
   "cell_type": "code",
   "execution_count": 36,
   "metadata": {
    "colab_type": "code"
   },
   "outputs": [],
   "source": [
    "learning_rate = 0.1\n",
    "\n",
    "def training_step(inputs, targets):\n",
    "    with tf.GradientTape() as tape:\n",
    "        predictions = model(inputs)\n",
    "        loss = square_loss(targets, predictions)\n",
    "    grad_loss_wrt_W, grad_loss_wrt_b = tape.gradient(loss, [W, b])\n",
    "    W.assign_sub(grad_loss_wrt_W * learning_rate)\n",
    "    b.assign_sub(grad_loss_wrt_b * learning_rate)\n",
    "    return loss"
   ]
  },
  {
   "cell_type": "markdown",
   "metadata": {
    "colab_type": "text"
   },
   "source": [
    "#### 배치 훈련\n",
    "\n",
    "배치 훈련을 총 40번 반복한다."
   ]
  },
  {
   "cell_type": "code",
   "execution_count": 37,
   "metadata": {
    "colab_type": "code"
   },
   "outputs": [
    {
     "name": "stdout",
     "output_type": "stream",
     "text": [
      "Loss at step 0: 1.7703\n",
      "Loss at step 1: 0.2338\n",
      "Loss at step 2: 0.1321\n",
      "Loss at step 3: 0.1144\n",
      "Loss at step 4: 0.1051\n",
      "Loss at step 5: 0.0974\n",
      "Loss at step 6: 0.0904\n",
      "Loss at step 7: 0.0841\n",
      "Loss at step 8: 0.0785\n",
      "Loss at step 9: 0.0734\n",
      "Loss at step 10: 0.0687\n",
      "Loss at step 11: 0.0645\n",
      "Loss at step 12: 0.0608\n",
      "Loss at step 13: 0.0573\n",
      "Loss at step 14: 0.0543\n",
      "Loss at step 15: 0.0515\n",
      "Loss at step 16: 0.0489\n",
      "Loss at step 17: 0.0467\n",
      "Loss at step 18: 0.0446\n",
      "Loss at step 19: 0.0427\n",
      "Loss at step 20: 0.0411\n",
      "Loss at step 21: 0.0395\n",
      "Loss at step 22: 0.0382\n",
      "Loss at step 23: 0.0369\n",
      "Loss at step 24: 0.0358\n",
      "Loss at step 25: 0.0348\n",
      "Loss at step 26: 0.0339\n",
      "Loss at step 27: 0.0330\n",
      "Loss at step 28: 0.0323\n",
      "Loss at step 29: 0.0316\n",
      "Loss at step 30: 0.0310\n",
      "Loss at step 31: 0.0304\n",
      "Loss at step 32: 0.0299\n",
      "Loss at step 33: 0.0295\n",
      "Loss at step 34: 0.0291\n",
      "Loss at step 35: 0.0287\n",
      "Loss at step 36: 0.0284\n",
      "Loss at step 37: 0.0281\n",
      "Loss at step 38: 0.0278\n",
      "Loss at step 39: 0.0276\n"
     ]
    }
   ],
   "source": [
    "for step in range(40):\n",
    "    loss = training_step(inputs, targets)\n",
    "    print(f\"Loss at step {step}: {loss:.4f}\")"
   ]
  },
  {
   "cell_type": "markdown",
   "metadata": {},
   "source": [
    "훈련상태를 보면 여전히 개선의 여지가 보인다. 따라서 학습을 좀 더 시켜본다. "
   ]
  },
  {
   "cell_type": "code",
   "execution_count": 38,
   "metadata": {
    "colab_type": "code"
   },
   "outputs": [
    {
     "name": "stdout",
     "output_type": "stream",
     "text": [
      "Loss at step 0: 0.0273\n",
      "Loss at step 10: 0.0260\n",
      "Loss at step 20: 0.0255\n",
      "Loss at step 30: 0.0254\n",
      "Loss at step 40: 0.0253\n",
      "Loss at step 50: 0.0253\n",
      "Loss at step 60: 0.0253\n",
      "Loss at step 70: 0.0253\n",
      "Loss at step 80: 0.0253\n",
      "Loss at step 90: 0.0253\n"
     ]
    }
   ],
   "source": [
    "for step in range(100):\n",
    "    loss = training_step(inputs, targets)\n",
    "    if step % 10 == 0:\n",
    "        print(f\"Loss at step {step}: {loss:.4f}\")"
   ]
  },
  {
   "cell_type": "markdown",
   "metadata": {},
   "source": [
    "#### 예측"
   ]
  },
  {
   "cell_type": "code",
   "execution_count": 39,
   "metadata": {
    "colab_type": "code"
   },
   "outputs": [],
   "source": [
    "predictions = model(inputs)"
   ]
  },
  {
   "cell_type": "markdown",
   "metadata": {},
   "source": [
    "예측 결과를 확인하면 다음과 같다.\n",
    "예측값이 0.5보다 클 때 양성으로 판정하는 것이 좋은데\n",
    "이유는 샘플들의 레이블이 0 또는 1이기 때문이다.\n",
    "모델은 훈련과정 중에 음성 샘플은 최대한 0에, \n",
    "양성 샘플은 최대한 1에 가까운 값으로 예측하여 손실값이 줄도록 \n",
    "노력하며, 옵티마이저가 그렇게 유도한다.\n",
    "따라서 0과 1의 중간값인 0.5가 판단 기준으로 적절하다."
   ]
  },
  {
   "cell_type": "code",
   "execution_count": 40,
   "metadata": {
    "colab_type": "code"
   },
   "outputs": [
    {
     "data": {
      "image/png": "[encoded data removed]",
      "text/plain": [
       "<Figure size 432x288 with 1 Axes>"
      ]
     },
     "metadata": {
      "needs_background": "light"
     },
     "output_type": "display_data"
    }
   ],
   "source": [
    "plt.scatter(inputs[:, 0], inputs[:, 1], c=predictions[:, 0] > 0.5)\n",
    "plt.show()"
   ]
  },
  {
   "cell_type": "markdown",
   "metadata": {},
   "source": [
    "결정 경계를 직선으로 그리려면 아래 식을 이용한다.\n",
    "\n",
    "```python\n",
    "y = - W[0] /  W[1] * x + (0.5 - b) / W[1]\n",
    "```\n",
    "\n",
    "이유는 위 모델의 예측값이 다음과 같이 계산되며,\n",
    "\n",
    "```python\n",
    "W[0]*x + W[1]*y + b\n",
    "```\n",
    "\n",
    "위 예측값이 0.5보다 큰지 여부에 따라 음성, 양성이 판단되기 때문이다."
   ]
  },
  {
   "cell_type": "code",
   "execution_count": 41,
   "metadata": {
    "colab_type": "code"
   },
   "outputs": [
    {
     "data": {
      "text/plain": [
       "<matplotlib.collections.PathCollection at 0x1bd44ac3850>"
      ]
     },
     "execution_count": 41,
     "metadata": {},
     "output_type": "execute_result"
    },
    {
     "data": {
      "image/png": "[encoded data removed]",
      "text/plain": [
       "<Figure size 432x288 with 1 Axes>"
      ]
     },
     "metadata": {
      "needs_background": "light"
     },
     "output_type": "display_data"
    }
   ],
   "source": [
    "x = np.linspace(-1, 4, 100)\n",
    "y = - W[0] /  W[1] * x + (0.5 - b) / W[1]\n",
    "\n",
    "plt.plot(x, y, \"-r\")\n",
    "plt.scatter(inputs[:, 0], inputs[:, 1], c=predictions[:, 0] > 0.5)"
   ]
  },
  {
   "cell_type": "markdown",
   "metadata": {
    "colab_type": "text"
   },
   "source": [
    "## 3.6 케라스의 핵심 API 이해"
   ]
  },
  {
   "cell_type": "markdown",
   "metadata": {
    "colab_type": "text"
   },
   "source": [
    "#### `Layer` 클래스"
   ]
  },
  {
   "cell_type": "markdown",
   "metadata": {},
   "source": [
    "케라스에서 사용되는 모든 층 클래스는 `Layer` 클래스를 상속하며,\n",
    "이를 통해 상속받는 `__call__()` 메서드가 \n",
    "가중치와 편향 벡터를 생성 및 초기화하고 입력 데이터를 출력 데이터로 변환하는 일을 수행한다.\n",
    "\n",
    "`Layer` 클래스에서 선언된 `__call__()` 메서드가 하는 일을 간략하게 나타내면 다음과 같다. \n",
    "\n",
    "--- \n",
    "```python\n",
    "def __call__(self, inputs):\n",
    "    if not self.built:\n",
    "        self.build(inputs.shape)\n",
    "        self.built = True\n",
    "return self.call(inputs)\n",
    "```\n",
    "---"
   ]
  },
  {
   "cell_type": "markdown",
   "metadata": {},
   "source": [
    "위 코드에 사용된 인스턴스 변수와 메서드는 다음과 같다. \n",
    "\n",
    "- `self.built`: 가중치와 편향 벡터가 초기화가 되어 있는지 여부 기억\n",
    "- `self.build(inputs.shape)`: 입력 배치 데이터셋(`inputs`)의 모양(shape) 정보를 이용하여 \n",
    "    적절한 모양의 가중치 텐서와 편향 텐서를 생성하고 초기화한다.\n",
    "    - 가중치 텐서 초기화: 무작위적(`random_normal`)\n",
    "    - 편향 텐서 초기화: 0 벡터(`zeros`)\n",
    "- `self.call(inputs)`: 출력값 계산(forward pass)\n",
    "    - 아핀 변환 및 활성화 함수 적용\n",
    "    \n",
    "즉, 층은 입력값이 들어오면 가장 먼저 입력값의 모양을 확인한 다음에 \n",
    "가중치 텐서와 편향 텐서를 생성 및 초기화하며,\n",
    "그 다음에 아핀 변환과 활성화 함수를 이용하여 출력값을 계산한다. "
   ]
  },
  {
   "cell_type": "markdown",
   "metadata": {},
   "source": [
    "층은 입렵값을 확인하면서 동시에 입력값의 모양을 확인하기 때문에 \n",
    "2장에서 살펴본 MNIST 모델 사용된 `Dense` 클래스처럼 입력 데이터에 정보를 \n",
    "미리 요구하지 않는다.\n",
    "\n",
    "---\n",
    "```python\n",
    "from tensorflow import keras\n",
    "from tensorflow.keras import layers\n",
    "\n",
    "model = keras.Sequential([\n",
    "    layers.Dense(512, activation=\"relu\"),\n",
    "    layers.Dense(10, activation=\"softmax\")\n",
    "])\n",
    "```\n",
    "---"
   ]
  },
  {
   "cell_type": "markdown",
   "metadata": {},
   "source": [
    "#### `Dense` 클래스 직접 구현하기"
   ]
  },
  {
   "cell_type": "markdown",
   "metadata": {},
   "source": [
    "위 설명을 바탕으로 해서 `Dense` 클래스와 유사하게 작동하는 \n",
    "`SimpleDense` 클래스를 직접 정의하려면 \n",
    "`build()` 메서드와 `call()` 메서드를 아래와 같이 구현하면 된다.\n",
    "두 메서드의 정의에 사용된 매개변수와 메서드는 다음과 같다.\n",
    "\n",
    "- `units`: 출력 샘플의 특성수 지정\n",
    "- `activation`: 활성화 함수 지정\n",
    "- `input_shape`: 입력값(`inputs`)으로 얻은 입력 배치의 2D 모양 정보. 둘째 항목이 입력 샘플의 특성 수.\n",
    "- `add_weight(모양, 초기화방법)`: 지정된 모양의 텐서 생성 및 초기화. `Layer` 클래스에서 상속."
   ]
  },
  {
   "cell_type": "code",
   "execution_count": 42,
   "metadata": {
    "colab_type": "code"
   },
   "outputs": [],
   "source": [
    "from tensorflow import keras\n",
    "\n",
    "class SimpleDense(keras.layers.Layer):\n",
    "\n",
    "    def __init__(self, units, activation=None):\n",
    "        super().__init__()\n",
    "        self.units = units\n",
    "        self.activation = activation\n",
    "\n",
    "    def build(self, input_shape):\n",
    "        input_dim = input_shape[-1]   # 입력 샘플의 특성 수\n",
    "        self.W = self.add_weight(shape=(input_dim, self.units),\n",
    "                                 initializer=\"random_normal\")\n",
    "        self.b = self.add_weight(shape=(self.units,),\n",
    "                                 initializer=\"zeros\")\n",
    "\n",
    "    def call(self, inputs):\n",
    "        y = tf.matmul(inputs, self.W) + self.b\n",
    "        if self.activation is not None:\n",
    "            y = self.activation(y)\n",
    "        return y"
   ]
  },
  {
   "cell_type": "markdown",
   "metadata": {},
   "source": [
    "`SimpleDense` 층 하나로 이루어진 모델이 작동하는 방식은 다음과 같다."
   ]
  },
  {
   "cell_type": "markdown",
   "metadata": {},
   "source": [
    "- 모델 구성: 생성자에 의해 출력 샘플의 특성수와 활성화 함수 지정.\n",
    "    - 입력 데이터셋 샘플의 특성수는 지정할 필요 없음."
   ]
  },
  {
   "cell_type": "code",
   "execution_count": 43,
   "metadata": {
    "colab_type": "code"
   },
   "outputs": [],
   "source": [
    "my_dense = SimpleDense(units=32, activation=tf.nn.relu)"
   ]
  },
  {
   "cell_type": "markdown",
   "metadata": {},
   "source": [
    "- 입력 데이터셋 지정: 입력 샘플 하나의 특성수는 784. 샘플 수는 1000."
   ]
  },
  {
   "cell_type": "code",
   "execution_count": 44,
   "metadata": {
    "colab_type": "code"
   },
   "outputs": [],
   "source": [
    "input_tensor = tf.ones(shape=(2, 784))"
   ]
  },
  {
   "cell_type": "markdown",
   "metadata": {},
   "source": [
    "출력값 생성: `__call__()` 메서드를  실행하면 다음 사항들이 연속적으로 처리된다. \n",
    "\n",
    "- 가중치 텐서 `W` 생성 및 초기호: `(784, 32)`\n",
    "- 편향 텐서 `b` 생성 및 초기호: `(32, )`\n",
    "- 생성된 가중치와 편향을 이용하여 출력값 계산(아핀 변환 및 활성화 함수 적용)"
   ]
  },
  {
   "cell_type": "code",
   "execution_count": 45,
   "metadata": {
    "colab_type": "code"
   },
   "outputs": [
    {
     "name": "stdout",
     "output_type": "stream",
     "text": [
      "(2, 32)\n"
     ]
    }
   ],
   "source": [
    "output_tensor = my_dense(input_tensor)\n",
    "\n",
    "print(output_tensor.shape)"
   ]
  },
  {
   "cell_type": "markdown",
   "metadata": {
    "colab_type": "text"
   },
   "source": [
    "### 층에서 모델로"
   ]
  },
  {
   "cell_type": "markdown",
   "metadata": {},
   "source": [
    "딥러닝 모델은 층으로 구성된 그래프라고 할 수 있다.\n",
    "앞서 살펴 본 `Sequential` 모델은 층을 일렬로 쌓아 신경망을 구성하며,\n",
    "층층이 쌓인 층은 아래 층에서 전달한 값을 받아 변환한 후 위 층으로 전달하는\n",
    "방식으로 작동한다.\n",
    "예를 들어, 아래 모델은 4개의 `SimpleDense` 층으로 구성되었다.\n",
    "각 층의 역할은 앞서 설명한 `my_dense` 모델의 그것과 동일하다.\n",
    "즉, 32, 64, 32, 10 개의 특성을 갖는 출력값을 계산한 후 다음 층으로 전달한다."
   ]
  },
  {
   "cell_type": "markdown",
   "metadata": {
    "colab_type": "code"
   },
   "source": [
    "```python\n",
    "model = keras.Sequential([\n",
    "    SimpleDense(32, activation=\"relu\"),\n",
    "    SimpleDense(64, activation=\"relu\"),\n",
    "    SimpleDense(32, activation=\"relu\"),\n",
    "    SimpleDense(10, activation=\"softmax\")\n",
    "])\n",
    "```"
   ]
  },
  {
   "cell_type": "markdown",
   "metadata": {},
   "source": [
    "앞으로 층을 구성하는 다양한 방식을 살펴볼 것이다.\n",
    "예를 들어, 아래 그림은 나중에 살펴 볼 트랜스포머(Transformer) 모델에\n",
    "사용된 층들의 복잡한 관계를 보여준다."
   ]
  },
  {
   "cell_type": "markdown",
   "metadata": {},
   "source": [
    "<div align=\"center\"><img src=\"https://drek4537l1klr.cloudfront.net/chollet2/v-7/Figures/transformer0001.png\" style=\"width:500px;\"></div>\n",
    "\n",
    "그림 출처: [Deep Learning with Python(Manning MEAP)](https://www.manning.com/books/deep-learning-with-python-second-edition)"
   ]
  },
  {
   "cell_type": "markdown",
   "metadata": {},
   "source": [
    "#### 가설 공간"
   ]
  },
  {
   "cell_type": "markdown",
   "metadata": {},
   "source": [
    "모델의 학습과정은 층을 어떻게 구성하였는가에 전적으로 의존한다. \n",
    "앞서 살펴 보았듯이 각각의 층에서 이루어지는 일은 기본적으로 아핀 변환과 활성화 함수 적용이다. \n",
    "여러 개의 `Dense` 층을 `Sequential` 모델을 이용하여 층을 구성하면 \n",
    "아핀 변환,`relu()` 등의 활성화 함수를 연속적으로 적용하여\n",
    "입력 텐서를 특정 모양의 텐서로 변환한다.\n",
    "반면에 다른 방식으로 구성된 모델은 다른 방식으로 텐서를 \n",
    "하나의 표현에서 다른 표현으로 변환시킨다. \n",
    "\n",
    "이렇듯 층을 구성하는 방식에 따라 텐서들이 가질 수 있는 표현들의 공간이 정해진다.\n",
    "이런 의미에서 '**망 구성방식(network topology)에 따른 표현 가설 공간(hypothesis space)**'이란 \n",
    "표현을 사용한다."
   ]
  },
  {
   "cell_type": "markdown",
   "metadata": {},
   "source": [
    "#### 망 구성방식"
   ]
  },
  {
   "cell_type": "markdown",
   "metadata": {},
   "source": [
    "신경망의 구성은 주어진 데이터셋과 모델의 목적에 따라 결정되며 특별한 규칙이 따로 있지는 않다.\n",
    "주어진 문제를 해결하는 모델의 구성은 이론 보다는 많은 실습을 통한 경험에 의존한다.\n",
    "앞으로 다양한 예제를 통해 다양한 모델을 구성하는 방식을 다룬다. "
   ]
  },
  {
   "cell_type": "markdown",
   "metadata": {
    "colab_type": "text"
   },
   "source": [
    "### 모델 컴파일"
   ]
  },
  {
   "cell_type": "markdown",
   "metadata": {},
   "source": [
    "모델의 구조를 정의한 후에 아래 세 가지 설정을 추가로 지정해야 한다.\n",
    "\n",
    "- 옵티마이저(optimizer): 모델의 성능을 향상시키는 방향으로 가중치를 업데이트하는 알고리즘\n",
    "- 손실 함수(loss function): 훈련 중 모델의 성능 얼마 나쁜가를 측정하는 기준. \n",
    "    미분가능이어야 하며 옵티마이저가 경사하강법을 활용하여 손실함숫값을 줄이는 방향으로 작동함.\n",
    "- 평가지표(metrics):: 훈련과 테스트 과정을 모니터링 할 때 사용되는 모델 평가 지표. \n",
    "    옵티마이저 또는 손실함수와 일반적으로 상관 없음."
   ]
  },
  {
   "cell_type": "code",
   "execution_count": 46,
   "metadata": {
    "colab_type": "code"
   },
   "outputs": [],
   "source": [
    "model = keras.Sequential([keras.layers.Dense(1)])"
   ]
  },
  {
   "cell_type": "code",
   "execution_count": 47,
   "metadata": {
    "colab_type": "code"
   },
   "outputs": [],
   "source": [
    "model.compile(optimizer=\"rmsprop\",\n",
    "              loss=\"mean_squared_error\",\n",
    "              metrics=[\"accuracy\"])"
   ]
  },
  {
   "cell_type": "markdown",
   "metadata": {},
   "source": [
    "세 가지 설정에 사용된 문자열은 지정된 함수를 가리키도록 준비되어 있다.\n",
    "예를 들어 아래 코드는 앞서의 컴파일과 동일한\n",
    "결과가 나오도록 옵티마이저, 손실함수, 평가지표에 필요한 객체들을 직접 지정하였다."
   ]
  },
  {
   "cell_type": "code",
   "execution_count": 48,
   "metadata": {
    "colab_type": "code"
   },
   "outputs": [],
   "source": [
    "model.compile(optimizer=keras.optimizers.RMSprop(),\n",
    "              loss=keras.losses.MeanSquaredError(),\n",
    "              metrics=[keras.metrics.BinaryAccuracy()])"
   ]
  },
  {
   "cell_type": "markdown",
   "metadata": {},
   "source": [
    "앞으로 다양한 예제를 통해 옵티마이저, 손실함수, 평가지표를 적절하게 선택하는 방법을 살펴볼 것이다."
   ]
  },
  {
   "cell_type": "markdown",
   "metadata": {
    "colab_type": "text"
   },
   "source": [
    "### `fit()` 메서드 작동법"
   ]
  },
  {
   "cell_type": "markdown",
   "metadata": {
    "colab_type": "text"
   },
   "source": [
    "모델을 훈련시키려면 `fit()` 메서드를 적절한 인자들과 함께 호출해야 한다.\n",
    "\n",
    "- 훈련 세트: 보통 넘파이 어레이 또는 텐서플로우의 `Dataset` 객체 사용\n",
    "- 에포크(`epochs`): 전체 훈련 세트를 몇 번 훈련할 지 지정\n",
    "- 배치 크기(`batch_size`): 배치 경사하강법에 적용될 배치(묶음) 크기 지정\n",
    "\n",
    "아래 코드는 앞서 넘파이 어레이로 생성한 (2000, 2) 모양의 양성, 음성 데이터셋을 대상으로 훈련한다. "
   ]
  },
  {
   "cell_type": "code",
   "execution_count": 49,
   "metadata": {
    "colab_type": "code"
   },
   "outputs": [
    {
     "name": "stdout",
     "output_type": "stream",
     "text": [
      "Epoch 1/5\n",
      "16/16 [==============================] - 0s 2ms/step - loss: 9.0750 - binary_accuracy: 0.0780\n",
      "Epoch 2/5\n",
      "16/16 [==============================] - 0s 2ms/step - loss: 8.7227 - binary_accuracy: 0.0800\n",
      "Epoch 3/5\n",
      "16/16 [==============================] - 0s 2ms/step - loss: 8.4240 - binary_accuracy: 0.0805\n",
      "Epoch 4/5\n",
      "16/16 [==============================] - 0s 2ms/step - loss: 8.1372 - binary_accuracy: 0.0845\n",
      "Epoch 5/5\n",
      "16/16 [==============================] - 0s 2ms/step - loss: 7.8575 - binary_accuracy: 0.0860\n"
     ]
    }
   ],
   "source": [
    "history = model.fit(\n",
    "    inputs,\n",
    "    targets,\n",
    "    epochs=5,\n",
    "    batch_size=128\n",
    ")"
   ]
  },
  {
   "cell_type": "markdown",
   "metadata": {},
   "source": [
    "훈련이 종료되면 `fit()` 메서드는 `History` 객체를 반환하며,\n",
    "`history` 속성에 훈련 과정 중에 측정된 손실값, 평가지표를 에포크 단위로 기억한다."
   ]
  },
  {
   "cell_type": "code",
   "execution_count": 50,
   "metadata": {
    "colab_type": "code"
   },
   "outputs": [
    {
     "data": {
      "text/plain": [
       "{'loss': [9.07500171661377,\n",
       "  8.722702980041504,\n",
       "  8.423994064331055,\n",
       "  8.137178421020508,\n",
       "  7.8575215339660645],\n",
       " 'binary_accuracy': [0.07800000160932541,\n",
       "  0.07999999821186066,\n",
       "  0.08049999922513962,\n",
       "  0.08449999988079071,\n",
       "  0.0860000029206276]}"
      ]
     },
     "execution_count": 50,
     "metadata": {},
     "output_type": "execute_result"
    }
   ],
   "source": [
    "history.history"
   ]
  },
  {
   "cell_type": "markdown",
   "metadata": {
    "colab_type": "text"
   },
   "source": [
    "### 검증 세트 활용"
   ]
  },
  {
   "cell_type": "markdown",
   "metadata": {
    "colab_type": "text"
   },
   "source": [
    "훈련된 모델이 완전히 새로운 데이터에 대해 예측을 잘하는지 여부를 판단하려면\n",
    "전체 데이터셋을 훈련 세트와 **검증 세트**로 구분해야 한다.\n",
    "\n",
    "- 훈련 세트: 모델 훈련에 사용되는 데이터셋\n",
    "- 검증 세트: 훈련된 모델 평가에 사용되는 데이터셋\n",
    "\n",
    "아래 코드는 훈련 세트와 검증 세트를 수동으로 구분하는 방법을 보여준다."
   ]
  },
  {
   "cell_type": "markdown",
   "metadata": {},
   "source": [
    "- `np.random.permutation()` 함수는 숫자들을 무작위로 섞는다.\n",
    "    이를 이용하여 훈련세트의 인덱스를 무작위로 섞는다."
   ]
  },
  {
   "cell_type": "code",
   "execution_count": 51,
   "metadata": {
    "colab_type": "code"
   },
   "outputs": [],
   "source": [
    "indices_permutation = np.random.permutation(len(inputs))"
   ]
  },
  {
   "cell_type": "markdown",
   "metadata": {},
   "source": [
    "- 무작위로 섞인 인덱스를 이용하여 데이터셋으르 재정렬 한다."
   ]
  },
  {
   "cell_type": "code",
   "execution_count": 52,
   "metadata": {
    "colab_type": "code"
   },
   "outputs": [],
   "source": [
    "shuffled_inputs = inputs[indices_permutation]\n",
    "shuffled_targets = targets[indices_permutation]"
   ]
  },
  {
   "cell_type": "markdown",
   "metadata": {},
   "source": [
    "- 재정렬된 데이터셋의 30%를 검증 세트로 분류한다."
   ]
  },
  {
   "cell_type": "code",
   "execution_count": 53,
   "metadata": {
    "colab_type": "code"
   },
   "outputs": [],
   "source": [
    "num_validation_samples = int(0.3 * len(inputs))\n",
    "\n",
    "val_inputs = shuffled_inputs[:num_validation_samples]\n",
    "val_targets = shuffled_targets[:num_validation_samples]"
   ]
  },
  {
   "cell_type": "markdown",
   "metadata": {},
   "source": [
    "- 나머지는 훈련 세트로 지정한다."
   ]
  },
  {
   "cell_type": "code",
   "execution_count": 54,
   "metadata": {
    "colab_type": "code"
   },
   "outputs": [],
   "source": [
    "training_inputs = shuffled_inputs[num_validation_samples:]\n",
    "training_targets = shuffled_targets[num_validation_samples:]"
   ]
  },
  {
   "cell_type": "markdown",
   "metadata": {},
   "source": [
    "- 훈련 세트를 대상으로 하는 훈련과 검증 세트를 대상으로 하는 평가를 동시에 진행할 수 있다."
   ]
  },
  {
   "cell_type": "code",
   "execution_count": 55,
   "metadata": {
    "colab_type": "code"
   },
   "outputs": [
    {
     "name": "stdout",
     "output_type": "stream",
     "text": [
      "Epoch 1/5\n",
      "88/88 [==============================] - 0s 3ms/step - loss: 6.9961 - binary_accuracy: 0.1007 - val_loss: 6.4750 - val_binary_accuracy: 0.0967\n",
      "Epoch 2/5\n",
      "88/88 [==============================] - 0s 2ms/step - loss: 5.7412 - binary_accuracy: 0.1179 - val_loss: 5.2887 - val_binary_accuracy: 0.1033\n",
      "Epoch 3/5\n",
      "88/88 [==============================] - 0s 2ms/step - loss: 4.6096 - binary_accuracy: 0.1350 - val_loss: 4.2510 - val_binary_accuracy: 0.1233\n",
      "Epoch 4/5\n",
      "88/88 [==============================] - 0s 2ms/step - loss: 3.6509 - binary_accuracy: 0.1736 - val_loss: 3.3531 - val_binary_accuracy: 0.1550\n",
      "Epoch 5/5\n",
      "88/88 [==============================] - 0s 2ms/step - loss: 2.8249 - binary_accuracy: 0.2164 - val_loss: 2.5819 - val_binary_accuracy: 0.1917\n"
     ]
    }
   ],
   "source": [
    "history = model.fit(\n",
    "    training_inputs,\n",
    "    training_targets,\n",
    "    epochs=5,\n",
    "    batch_size=16,\n",
    "    validation_data=(val_inputs, val_targets)\n",
    ")"
   ]
  },
  {
   "cell_type": "markdown",
   "metadata": {},
   "source": [
    "`History` 객체는 훈련 세트 뿐만 아니라 검증 세트를 대상으로도 손실값과 평가지표를 기억한다."
   ]
  },
  {
   "cell_type": "code",
   "execution_count": 56,
   "metadata": {},
   "outputs": [
    {
     "data": {
      "text/plain": [
       "{'loss': [6.996051788330078,\n",
       "  5.741199970245361,\n",
       "  4.609559059143066,\n",
       "  3.6509437561035156,\n",
       "  2.8249247074127197],\n",
       " 'binary_accuracy': [0.1007142886519432,\n",
       "  0.11785714328289032,\n",
       "  0.13500000536441803,\n",
       "  0.1735714226961136,\n",
       "  0.21642857789993286],\n",
       " 'val_loss': [6.474992752075195,\n",
       "  5.288698196411133,\n",
       "  4.251001358032227,\n",
       "  3.353078603744507,\n",
       "  2.581948757171631],\n",
       " 'val_binary_accuracy': [0.09666666388511658,\n",
       "  0.10333333164453506,\n",
       "  0.12333333492279053,\n",
       "  0.1550000011920929,\n",
       "  0.19166666269302368]}"
      ]
     },
     "execution_count": 56,
     "metadata": {},
     "output_type": "execute_result"
    }
   ],
   "source": [
    "history.history"
   ]
  },
  {
   "cell_type": "markdown",
   "metadata": {},
   "source": [
    "훈련 후에 검증 세트를 이용하여 평가하려면 `evaluate()` 메서드를 이용한다."
   ]
  },
  {
   "cell_type": "code",
   "execution_count": 57,
   "metadata": {},
   "outputs": [
    {
     "name": "stdout",
     "output_type": "stream",
     "text": [
      "5/5 [==============================] - 0s 2ms/step - loss: 2.5819 - binary_accuracy: 0.1917\n"
     ]
    }
   ],
   "source": [
    "loss_and_metrics = model.evaluate(val_inputs, val_targets, batch_size=128)"
   ]
  },
  {
   "cell_type": "markdown",
   "metadata": {
    "colab_type": "text"
   },
   "source": [
    "### 모델 활용"
   ]
  },
  {
   "cell_type": "markdown",
   "metadata": {},
   "source": [
    "훈련된 모델을 활용하는 두 가지 방법이 있다.\n",
    "\n",
    "먼저, `__call__()` 메서드를 활용한다. 즉,\n",
    "데이터셋을 모델과 함께 직접 호출한다."
   ]
  },
  {
   "cell_type": "code",
   "execution_count": 58,
   "metadata": {
    "colab_type": "code"
   },
   "outputs": [
    {
     "name": "stdout",
     "output_type": "stream",
     "text": [
      "tf.Tensor(\n",
      "[[-0.29358345]\n",
      " [ 3.2672422 ]\n",
      " [ 2.322425  ]\n",
      " [ 0.5025028 ]\n",
      " [-0.48325303]\n",
      " [ 0.48440483]\n",
      " [ 0.20118263]\n",
      " [-1.3370345 ]\n",
      " [ 2.5626264 ]\n",
      " [-0.04248977]], shape=(10, 1), dtype=float32)\n"
     ]
    }
   ],
   "source": [
    "predictions = model(val_inputs)\n",
    "print(predictions[:10])"
   ]
  },
  {
   "cell_type": "markdown",
   "metadata": {},
   "source": [
    "하지만 이 방식은 데이터셋이 매우 크면 적절하지 않을 수 있다. \n",
    "따라서 `predict()` 메서드를 이용하여 배치를 활용하는 것을 추천한다."
   ]
  },
  {
   "cell_type": "code",
   "execution_count": 59,
   "metadata": {
    "colab_type": "code"
   },
   "outputs": [
    {
     "name": "stdout",
     "output_type": "stream",
     "text": [
      "[[-0.29358345]\n",
      " [ 3.2672422 ]\n",
      " [ 2.322425  ]\n",
      " [ 0.5025028 ]\n",
      " [-0.48325303]\n",
      " [ 0.48440483]\n",
      " [ 0.20118263]\n",
      " [-1.3370345 ]\n",
      " [ 2.5626264 ]\n",
      " [-0.04248977]]\n"
     ]
    }
   ],
   "source": [
    "predictions = model.predict(val_inputs, batch_size=128)\n",
    "print(predictions[:10])"
   ]
  }
 ],
 "metadata": {
  "colab": {
   "collapsed_sections": [],
   "name": "dlp03_introduction_to_keras_and_tf",
   "private_outputs": false,
   "provenance": [],
   "toc_visible": true
  },
  "kernelspec": {
   "display_name": "Python 3 (ipykernel)",
   "language": "python",
   "name": "python3"
  },
  "language_info": {
   "codemirror_mode": {
    "name": "ipython",
    "version": 3
   },
   "file_extension": ".py",
   "mimetype": "text/x-python",
   "name": "python",
   "nbconvert_exporter": "python",
   "pygments_lexer": "ipython3",
   "version": "3.9.13"
  }
 },
 "nbformat": 4,
 "nbformat_minor": 1
}
