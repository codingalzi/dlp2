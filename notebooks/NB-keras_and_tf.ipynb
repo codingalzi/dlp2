{
  "cells": [
    {
      "cell_type": "markdown",
      "metadata": {
        "id": "MErWGz453MSu"
      },
      "source": [
        "# 5. 케라스와 텐서플로우"
      ]
    },
    {
      "cell_type": "markdown",
      "metadata": {
        "id": "Vko88FVc3MSx"
      },
      "source": [
        "__감사말__\n",
        "\n",
        "프랑소와 숄레의 [Deep Learning with Python, Second Edition](https://www.manning.com/books/deep-learning-with-python-second-edition?a_aid=keras&a_bid=76564dff) 3장에 사용된 코드에 대한 설명을 담고 있으며 텐서플로우 2.6 버전 이상에서 작성되었습니다. 소스코드를 공개한 저자에게 감사드립니다."
      ]
    },
    {
      "cell_type": "markdown",
      "metadata": {
        "id": "W66796Q63MSx"
      },
      "source": [
        "__구글 코랩 설정__\n",
        "\n",
        "'런타임 -> 런타임 유형 변경' 메뉴에서 GPU를 지정한다.\n",
        "TensorFlow 버전을 확인하려면 아래 명령문을 실행한다."
      ]
    },
    {
      "cell_type": "code",
      "execution_count": 1,
      "metadata": {
        "colab": {
          "base_uri": "https://localhost:8080/",
          "height": 36
        },
        "id": "XF9dJNGu3MSx",
        "outputId": "9707affa-9482-495a-960f-aaac82e3a479"
      },
      "outputs": [
        {
          "output_type": "execute_result",
          "data": {
            "text/plain": [
              "'2.17.0'"
            ],
            "application/vnd.google.colaboratory.intrinsic+json": {
              "type": "string"
            }
          },
          "metadata": {},
          "execution_count": 1
        }
      ],
      "source": [
        "import tensorflow as tf\n",
        "tf.__version__"
      ]
    },
    {
      "cell_type": "markdown",
      "metadata": {
        "id": "GJz9zdWv3MSz"
      },
      "source": [
        "TensorFlow가 GPU를 사용하는지 여부를 확인하려면 아래 명령문을 실행한다.\n",
        "아래와 같은 결과가 나오면 GPU가 제대로 지원됨을 의미한다.\n",
        "\n",
        "```\n",
        "[PhysicalDevice(name='/physical_device:GPU:0', device_type='GPU')]\n",
        "```"
      ]
    },
    {
      "cell_type": "code",
      "execution_count": 2,
      "metadata": {
        "colab": {
          "base_uri": "https://localhost:8080/"
        },
        "id": "Snx-SE4j3MSz",
        "outputId": "4ee48331-7ec4-49a7-f817-c86db991e4e8"
      },
      "outputs": [
        {
          "output_type": "execute_result",
          "data": {
            "text/plain": [
              "[PhysicalDevice(name='/physical_device:GPU:0', device_type='GPU')]"
            ]
          },
          "metadata": {},
          "execution_count": 2
        }
      ],
      "source": [
        "tf.config.list_physical_devices('GPU')"
      ]
    },
    {
      "cell_type": "markdown",
      "metadata": {
        "id": "zMRmlKOj3MTN"
      },
      "source": [
        "## 케라스 핵심 API"
      ]
    },
    {
      "cell_type": "markdown",
      "metadata": {
        "id": "FdiQWlPJ3MTO"
      },
      "source": [
        "### 층 API"
      ]
    },
    {
      "cell_type": "markdown",
      "metadata": {
        "id": "Ok4fVRn73MTO"
      },
      "source": [
        "**예제: `Dense` 층 상세**"
      ]
    },
    {
      "cell_type": "markdown",
      "metadata": {
        "id": "UKtpzohg3MTO"
      },
      "source": [
        "`Dense` 클래스와 유사하게 작동하는 클래스를 직접 정의하려면\n",
        "상속해야 하는 `keras.layers.Layer` 클래스의 `__call()__` 메서드에 의해 호출되는\n",
        "`build()` 메서드와 `call()` 메서드를 구현해야 한다.\n",
        "아래 `SimpleDense` 클래스가 `Dense` 클래스의 기능을 단순화하여 구현한다."
      ]
    },
    {
      "cell_type": "code",
      "execution_count": 3,
      "metadata": {
        "id": "mHjearob3MTO"
      },
      "outputs": [],
      "source": [
        "from tensorflow import keras\n",
        "\n",
        "class SimpleDense(keras.layers.Layer):\n",
        "\n",
        "    def __init__(self, units, activation=None):\n",
        "        super().__init__()\n",
        "        self.units = units\n",
        "        self.activation = activation\n",
        "\n",
        "    def build(self, input_shape):\n",
        "        input_dim = input_shape[-1]   # 입력 샘플의 특성 수\n",
        "        self.W = self.add_weight(shape=(input_dim, self.units),\n",
        "                                 initializer=\"random_normal\")\n",
        "        self.b = self.add_weight(shape=(self.units,),\n",
        "                                 initializer=\"zeros\")\n",
        "\n",
        "    def call(self, inputs):\n",
        "        y = tf.matmul(inputs, self.W) + self.b\n",
        "        if self.activation is not None:\n",
        "            y = self.activation(y)\n",
        "        return y"
      ]
    },
    {
      "cell_type": "markdown",
      "metadata": {
        "id": "jGUFehOY3MTP"
      },
      "source": [
        "### 모델 API"
      ]
    },
    {
      "cell_type": "markdown",
      "metadata": {
        "id": "zuCINVbf9eOk"
      },
      "source": [
        "`Sequential` 모델처럼 작동하는 클래스를 직접 정의한다."
      ]
    },
    {
      "cell_type": "code",
      "execution_count": 4,
      "metadata": {
        "id": "Z9sHarxnXKnV"
      },
      "outputs": [],
      "source": [
        "class MySequential(keras.Model):\n",
        "    def __init__(self, list_layers): # 층들의 리스트 지정\n",
        "        super().__init__()\n",
        "        self.list_layers = list_layers\n",
        "\n",
        "    # 포워드 패스: 층과 층을 연결하는 방식으로 구현\n",
        "    def call(self, inputs):\n",
        "        outputs = inputs\n",
        "        for layer in self.list_layers:\n",
        "            outputs = layer(outputs)\n",
        "        return outputs"
      ]
    },
    {
      "cell_type": "markdown",
      "metadata": {
        "id": "EiZW3Qjh9eOl"
      },
      "source": [
        "아래 두 개의 층을 이용하여 모델을 지정하고 다중 클래스 분류 모델에 맞게 모델을 컴파일한다."
      ]
    },
    {
      "cell_type": "code",
      "execution_count": 5,
      "metadata": {
        "id": "sO5UfdGo9eOl"
      },
      "outputs": [],
      "source": [
        "layer_1 = SimpleDense(units=512, activation=tf.nn.relu)   # 첫째 밀집층\n",
        "layer_2 = SimpleDense(units=10, activation=tf.nn.softmax) # 둘째 밀집층"
      ]
    },
    {
      "cell_type": "code",
      "execution_count": 6,
      "metadata": {
        "id": "vSx-mAmNXNE6"
      },
      "outputs": [],
      "source": [
        "model = MySequential([layer_1, layer_2])"
      ]
    },
    {
      "cell_type": "markdown",
      "metadata": {
        "id": "OChs9hXr3MTP"
      },
      "source": [
        "### 모델 컴파일 API"
      ]
    },
    {
      "cell_type": "markdown",
      "metadata": {
        "id": "JwfeVOB53MTP"
      },
      "source": [
        "모델의 훈련을 위해서 먼저 다음 세 가지 설정을 추가로 지정해야 한다.\n",
        "\n",
        "- 손실 함수: 훈련 중 모델의 성능이 얼마나 나쁜지 측정.\n",
        "    미분가능한 함수이어야 하며 옵티마이저가 역전파를 통해\n",
        "    모델의 성능을 향상시키는 방향으로 모델의 가중치를 업데이트할 때\n",
        "    참고하는 함수임.\n",
        "- 옵티마이저: 백워드 패스와 역전파를 담당하는 알고리즘\n",
        "- 평가지표: 훈련과 테스트 과정을 모니터링 할 때 사용되는 모델 평가 지표.\n",
        "    옵티마이저와 손실함수와는 달리 훈련에 관여하지 않으면서\n",
        "    모델 성능 평가에 사용됨."
      ]
    },
    {
      "cell_type": "code",
      "execution_count": 7,
      "metadata": {
        "id": "eQzEjFHlXWJF"
      },
      "outputs": [],
      "source": [
        "model.compile(optimizer=\"rmsprop\",\n",
        "              loss=\"sparse_categorical_crossentropy\",\n",
        "              metrics=[\"accuracy\"])"
      ]
    },
    {
      "cell_type": "markdown",
      "metadata": {
        "id": "Hg8tWVMH3MTQ"
      },
      "source": [
        "### 모델 훈련 API"
      ]
    },
    {
      "cell_type": "markdown",
      "metadata": {
        "id": "hrnAXUBU3MTQ"
      },
      "source": [
        "모델을 컴파일한 다음에 `fit()` 메서드를 호출하면\n",
        "모델은 스텝과 에포크 단위로 반복되는 **훈련 루프**<font size='2'>training loop</font>를\n",
        "지정된 횟수만큼 또는 학습이 충분히 이루어졌다는 평가가 내려질 때까지\n",
        "반복하는 훈련을 시작한다."
      ]
    },
    {
      "cell_type": "code",
      "execution_count": 17,
      "metadata": {
        "id": "ZAkXahW9jE48"
      },
      "outputs": [],
      "source": [
        "from tensorflow.keras.datasets import mnist\n",
        "(train_images, train_labels), (test_images, test_labels) = mnist.load_data()"
      ]
    },
    {
      "cell_type": "code",
      "execution_count": 18,
      "metadata": {
        "id": "iwUYuuaVjFR8"
      },
      "outputs": [],
      "source": [
        "train_images = train_images.reshape((60000, 28 * 28))\n",
        "train_images = train_images.astype(\"float32\") / 255   # 0과 1사이의 값\n",
        "test_images = test_images.reshape((10000, 28 * 28))\n",
        "test_images = test_images.astype(\"float32\") / 255     # 0과 1사이의 값"
      ]
    },
    {
      "cell_type": "markdown",
      "metadata": {
        "id": "4kqMLXB23MTQ"
      },
      "source": [
        "**지도 학습 모델 훈련**"
      ]
    },
    {
      "cell_type": "code",
      "execution_count": 19,
      "metadata": {
        "colab": {
          "base_uri": "https://localhost:8080/"
        },
        "id": "pqNgZjzajSmg",
        "outputId": "430e4895-3b39-4bfd-d51c-a215cd282319",
        "scrolled": true
      },
      "outputs": [
        {
          "output_type": "stream",
          "name": "stdout",
          "text": [
            "Epoch 1/5\n",
            "\u001b[1m469/469\u001b[0m \u001b[32m━━━━━━━━━━━━━━━━━━━━\u001b[0m\u001b[37m\u001b[0m \u001b[1m1s\u001b[0m 3ms/step - accuracy: 0.9919 - loss: 0.0285\n",
            "Epoch 2/5\n",
            "\u001b[1m469/469\u001b[0m \u001b[32m━━━━━━━━━━━━━━━━━━━━\u001b[0m\u001b[37m\u001b[0m \u001b[1m1s\u001b[0m 2ms/step - accuracy: 0.9937 - loss: 0.0227\n",
            "Epoch 3/5\n",
            "\u001b[1m469/469\u001b[0m \u001b[32m━━━━━━━━━━━━━━━━━━━━\u001b[0m\u001b[37m\u001b[0m \u001b[1m1s\u001b[0m 2ms/step - accuracy: 0.9952 - loss: 0.0166\n",
            "Epoch 4/5\n",
            "\u001b[1m469/469\u001b[0m \u001b[32m━━━━━━━━━━━━━━━━━━━━\u001b[0m\u001b[37m\u001b[0m \u001b[1m1s\u001b[0m 2ms/step - accuracy: 0.9974 - loss: 0.0115\n",
            "Epoch 5/5\n",
            "\u001b[1m469/469\u001b[0m \u001b[32m━━━━━━━━━━━━━━━━━━━━\u001b[0m\u001b[37m\u001b[0m \u001b[1m1s\u001b[0m 2ms/step - accuracy: 0.9977 - loss: 0.0094\n"
          ]
        }
      ],
      "source": [
        "training_history = model.fit(train_images, train_labels, epochs=5, batch_size=128)"
      ]
    },
    {
      "cell_type": "markdown",
      "metadata": {
        "id": "W_JI-5Rc3MTQ"
      },
      "source": [
        "**`History` 객체: 훈련 결과**"
      ]
    },
    {
      "cell_type": "markdown",
      "metadata": {
        "id": "E71icA5H3MTQ"
      },
      "source": [
        "훈련이 종료되면 `fit()` 메서드는 `History` 객체를 반환하며,\n",
        "`history` 속성에 훈련 과정 중에 측정된 손실값, 평가지표를 에포크 단위로 기억한다."
      ]
    },
    {
      "cell_type": "code",
      "execution_count": 11,
      "metadata": {
        "colab": {
          "base_uri": "https://localhost:8080/"
        },
        "id": "5x-eBSZn3MTQ",
        "outputId": "3a1c4203-ab7a-4b53-a3b7-7d5254d016dc"
      },
      "outputs": [
        {
          "output_type": "execute_result",
          "data": {
            "text/plain": [
              "{'accuracy': [0.9199833273887634,\n",
              "  0.9668833613395691,\n",
              "  0.9786999821662903,\n",
              "  0.9837833046913147,\n",
              "  0.9883166551589966],\n",
              " 'loss': [0.2791374921798706,\n",
              "  0.11251720041036606,\n",
              "  0.07248896360397339,\n",
              "  0.05324174463748932,\n",
              "  0.03904753550887108]}"
            ]
          },
          "metadata": {},
          "execution_count": 11
        }
      ],
      "source": [
        "training_history.history"
      ]
    },
    {
      "cell_type": "markdown",
      "metadata": {
        "id": "G5_E9B2a3MTQ"
      },
      "source": [
        "**검증셋 활용**"
      ]
    },
    {
      "cell_type": "markdown",
      "metadata": {
        "id": "UvCq2dRV3MTQ"
      },
      "source": [
        "아래 과정은 훈련셋와 검증셋를 수동으로 구분하는 방법을 보여준다."
      ]
    },
    {
      "cell_type": "markdown",
      "metadata": {
        "id": "BSEsWNYq3MTQ"
      },
      "source": [
        "- `np.random.permutation()` 함수는 숫자들을 무작위로 섞는다.\n",
        "    이를 이용하여 훈련세트의 인덱스를 무작위로 섞는다."
      ]
    },
    {
      "cell_type": "code",
      "execution_count": 20,
      "metadata": {
        "id": "giDaw6Vf3MTQ"
      },
      "outputs": [],
      "source": [
        "import numpy as np\n",
        "\n",
        "indices_permutation = np.random.permutation(len(train_images))"
      ]
    },
    {
      "cell_type": "markdown",
      "metadata": {
        "id": "GCF2ZpIP3MTQ"
      },
      "source": [
        "- 무작위로 섞인 인덱스를 이용하여 데이터셋으르 재정렬 한다."
      ]
    },
    {
      "cell_type": "code",
      "execution_count": 21,
      "metadata": {
        "id": "5TCAKjgG3MTQ"
      },
      "outputs": [],
      "source": [
        "shuffled_inputs = train_images[indices_permutation]\n",
        "shuffled_targets = train_labels[indices_permutation]"
      ]
    },
    {
      "cell_type": "markdown",
      "metadata": {
        "id": "G3Oweohz3MTQ"
      },
      "source": [
        "- 재정렬된 데이터셋의 30%를 검증셋로 분류한다."
      ]
    },
    {
      "cell_type": "code",
      "execution_count": 22,
      "metadata": {
        "id": "z5mP-XsK3MTR"
      },
      "outputs": [],
      "source": [
        "num_validation_samples = int(0.3 * len(train_images))\n",
        "\n",
        "val_inputs = shuffled_inputs[:num_validation_samples]\n",
        "val_targets = shuffled_targets[:num_validation_samples]"
      ]
    },
    {
      "cell_type": "markdown",
      "metadata": {
        "id": "QBPXVuQy3MTR"
      },
      "source": [
        "- 나머지는 훈련셋로 지정한다."
      ]
    },
    {
      "cell_type": "code",
      "execution_count": 23,
      "metadata": {
        "id": "GV_Dg2-M3MTR"
      },
      "outputs": [],
      "source": [
        "training_inputs = shuffled_inputs[num_validation_samples:]\n",
        "training_targets = shuffled_targets[num_validation_samples:]"
      ]
    },
    {
      "cell_type": "markdown",
      "metadata": {
        "id": "zYwY58wM3MTR"
      },
      "source": [
        "*훈련 중 모델 검증*"
      ]
    },
    {
      "cell_type": "markdown",
      "metadata": {
        "id": "JL075f2Y3MTR"
      },
      "source": [
        "- 훈련셋를 대상으로 하는 훈련과 검증셋를 대상으로 하는 평가를 동시에 진행할 수 있다."
      ]
    },
    {
      "cell_type": "code",
      "execution_count": 24,
      "metadata": {
        "colab": {
          "base_uri": "https://localhost:8080/"
        },
        "id": "L5Plrxp33MTR",
        "outputId": "f16fc575-8668-4653-b160-5043bea96cfd"
      },
      "outputs": [
        {
          "output_type": "stream",
          "name": "stdout",
          "text": [
            "Epoch 1/5\n",
            "\u001b[1m329/329\u001b[0m \u001b[32m━━━━━━━━━━━━━━━━━━━━\u001b[0m\u001b[37m\u001b[0m \u001b[1m2s\u001b[0m 7ms/step - accuracy: 0.9991 - loss: 0.0055 - val_accuracy: 0.9985 - val_loss: 0.0075\n",
            "Epoch 2/5\n",
            "\u001b[1m329/329\u001b[0m \u001b[32m━━━━━━━━━━━━━━━━━━━━\u001b[0m\u001b[37m\u001b[0m \u001b[1m1s\u001b[0m 2ms/step - accuracy: 0.9994 - loss: 0.0039 - val_accuracy: 0.9987 - val_loss: 0.0065\n",
            "Epoch 3/5\n",
            "\u001b[1m329/329\u001b[0m \u001b[32m━━━━━━━━━━━━━━━━━━━━\u001b[0m\u001b[37m\u001b[0m \u001b[1m1s\u001b[0m 3ms/step - accuracy: 0.9997 - loss: 0.0028 - val_accuracy: 0.9970 - val_loss: 0.0107\n",
            "Epoch 4/5\n",
            "\u001b[1m329/329\u001b[0m \u001b[32m━━━━━━━━━━━━━━━━━━━━\u001b[0m\u001b[37m\u001b[0m \u001b[1m1s\u001b[0m 3ms/step - accuracy: 0.9997 - loss: 0.0019 - val_accuracy: 0.9971 - val_loss: 0.0093\n",
            "Epoch 5/5\n",
            "\u001b[1m329/329\u001b[0m \u001b[32m━━━━━━━━━━━━━━━━━━━━\u001b[0m\u001b[37m\u001b[0m \u001b[1m1s\u001b[0m 3ms/step - accuracy: 1.0000 - loss: 0.0013 - val_accuracy: 0.9979 - val_loss: 0.0075\n"
          ]
        }
      ],
      "source": [
        "training_history = model.fit(\n",
        "    training_inputs,\n",
        "    training_targets,\n",
        "    epochs=5,\n",
        "    batch_size=128,\n",
        "    validation_data=(val_inputs, val_targets)\n",
        ")"
      ]
    },
    {
      "cell_type": "markdown",
      "metadata": {
        "id": "CHEt0hY03MTR"
      },
      "source": [
        "`History` 객체는 훈련셋 뿐만 아니라 검증셋를 대상으로도 손실값과 평가지표를 기억한다."
      ]
    },
    {
      "cell_type": "code",
      "execution_count": 25,
      "metadata": {
        "colab": {
          "base_uri": "https://localhost:8080/"
        },
        "id": "-Bz6M9D73MTR",
        "outputId": "3e9f7187-41e6-4799-d626-d5d00fe235bd"
      },
      "outputs": [
        {
          "output_type": "execute_result",
          "data": {
            "text/plain": [
              "{'accuracy': [0.9985476136207581,\n",
              "  0.9991666674613953,\n",
              "  0.9995714426040649,\n",
              "  0.9998095035552979,\n",
              "  0.9999285936355591],\n",
              " 'loss': [0.006874954793602228,\n",
              "  0.004547948017716408,\n",
              "  0.003098522312939167,\n",
              "  0.001894774497486651,\n",
              "  0.0012853598454967141],\n",
              " 'val_accuracy': [0.9984999895095825,\n",
              "  0.9987221956253052,\n",
              "  0.996999979019165,\n",
              "  0.9971110820770264,\n",
              "  0.9978888630867004],\n",
              " 'val_loss': [0.007506505120545626,\n",
              "  0.006526042707264423,\n",
              "  0.010659652762115002,\n",
              "  0.009290579706430435,\n",
              "  0.007476788945496082]}"
            ]
          },
          "metadata": {},
          "execution_count": 25
        }
      ],
      "source": [
        "training_history.history"
      ]
    },
    {
      "cell_type": "markdown",
      "metadata": {
        "id": "65_FczOk3MTR"
      },
      "source": [
        "### 학습된 모델 평가 API"
      ]
    },
    {
      "cell_type": "markdown",
      "metadata": {
        "id": "g6JPYczC3MTS"
      },
      "source": [
        "훈련 후에 테스트셋을 이용하여 평가하려면 `evaluate()` 메서드를 이용한다."
      ]
    },
    {
      "cell_type": "code",
      "execution_count": 26,
      "metadata": {
        "colab": {
          "base_uri": "https://localhost:8080/"
        },
        "id": "TImidpa83MTS",
        "outputId": "f8696cbd-b2e9-4499-a42e-5d7f95bae1ab"
      },
      "outputs": [
        {
          "output_type": "stream",
          "name": "stdout",
          "text": [
            "\u001b[1m79/79\u001b[0m \u001b[32m━━━━━━━━━━━━━━━━━━━━\u001b[0m\u001b[37m\u001b[0m \u001b[1m0s\u001b[0m 6ms/step - accuracy: 0.9800 - loss: 0.0836\n"
          ]
        }
      ],
      "source": [
        "loss_and_metrics = model.evaluate(test_images, test_labels, batch_size=128)"
      ]
    },
    {
      "cell_type": "code",
      "execution_count": 27,
      "metadata": {
        "colab": {
          "base_uri": "https://localhost:8080/"
        },
        "id": "KVJzAHQT3MTS",
        "outputId": "5a263b53-0c98-4c90-b036-e619a876fac9"
      },
      "outputs": [
        {
          "output_type": "stream",
          "name": "stdout",
          "text": [
            "[0.07060831040143967, 0.9821000099182129]\n"
          ]
        }
      ],
      "source": [
        "print(loss_and_metrics)"
      ]
    },
    {
      "cell_type": "markdown",
      "metadata": {
        "id": "Mi43Gd833MTS"
      },
      "source": [
        "### 실전 모델 활용 API"
      ]
    },
    {
      "cell_type": "markdown",
      "metadata": {
        "id": "Qo7I5y9b3MTS"
      },
      "source": [
        "실전에 배치된 모델은 새로이 입력된 데이터에 대한 예측을 실행한다.\n",
        "학습된 모델의 예측값은 `predict()` 메서드를 활용하여 계산한다.\n",
        "예측 또한 지정 크기의 배치 단위로 실행된다."
      ]
    },
    {
      "cell_type": "code",
      "execution_count": 28,
      "metadata": {
        "colab": {
          "base_uri": "https://localhost:8080/"
        },
        "id": "OU7jAwyZ3MTS",
        "outputId": "f9b9c939-1384-4158-ca72-c4849cf9380f"
      },
      "outputs": [
        {
          "output_type": "stream",
          "name": "stdout",
          "text": [
            "\u001b[1m79/79\u001b[0m \u001b[32m━━━━━━━━━━━━━━━━━━━━\u001b[0m\u001b[37m\u001b[0m \u001b[1m0s\u001b[0m 3ms/step\n",
            "[[9.3658130e-11 1.5461395e-13 3.3464354e-10 2.0662311e-07 4.4877246e-16\n",
            "  4.4595561e-13 9.8721902e-16 9.9999976e-01 7.4266496e-12 1.3502426e-09]\n",
            " [2.7430133e-13 1.8421916e-08 1.0000000e+00 8.0473672e-10 4.6566106e-23\n",
            "  5.3524334e-15 6.8865668e-12 1.5545926e-19 2.4946656e-10 6.2741023e-21]\n",
            " [3.3679461e-09 9.9998844e-01 3.0432677e-06 4.5832249e-09 5.1557322e-07\n",
            "  4.4906724e-08 3.0062827e-07 3.0446381e-06 4.4757248e-06 5.3367956e-11]\n",
            " [1.0000000e+00 1.9313025e-13 6.6222516e-09 1.6662535e-12 4.0997440e-12\n",
            "  1.1336156e-11 4.1400561e-08 2.0943082e-08 3.4575329e-14 1.5246044e-09]\n",
            " [5.1374838e-10 1.4769002e-13 8.4478835e-10 2.9635687e-14 9.9992025e-01\n",
            "  8.0523625e-13 4.0301367e-09 4.8266867e-07 2.1287161e-10 7.9270030e-05]]\n"
          ]
        }
      ],
      "source": [
        "predictions = model.predict(test_images, batch_size=128)\n",
        "print(predictions[:5])"
      ]
    }
  ],
  "metadata": {
    "accelerator": "GPU",
    "colab": {
      "gpuType": "T4",
      "provenance": []
    },
    "kernelspec": {
      "display_name": "Python 3 (ipykernel)",
      "language": "python",
      "name": "python3"
    },
    "language_info": {
      "codemirror_mode": {
        "name": "ipython",
        "version": 3
      },
      "file_extension": ".py",
      "mimetype": "text/x-python",
      "name": "python",
      "nbconvert_exporter": "python",
      "pygments_lexer": "ipython3",
      "version": "3.11.4"
    },
    "vscode": {
      "interpreter": {
        "hash": "33b995ba57ec8806df76ad412cbfca6e91844af7e84c0aab5f00a2382a2b11c8"
      }
    }
  },
  "nbformat": 4,
  "nbformat_minor": 0
}