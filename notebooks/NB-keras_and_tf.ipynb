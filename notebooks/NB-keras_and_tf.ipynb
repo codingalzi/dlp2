{
  "cells": [
    {
      "cell_type": "markdown",
      "metadata": {
        "id": "MErWGz453MSu"
      },
      "source": [
        "# 3. 케라스와 텐서플로우"
      ]
    },
    {
      "cell_type": "markdown",
      "metadata": {
        "id": "Vko88FVc3MSx"
      },
      "source": [
        "__감사말__\n",
        "\n",
        "프랑소와 숄레의 [Deep Learning with Python, Second Edition](https://www.manning.com/books/deep-learning-with-python-second-edition?a_aid=keras&a_bid=76564dff) 3장에 사용된 코드에 대한 설명을 담고 있으며 텐서플로우 2.6 버전 이상에서 작성되었습니다. 소스코드를 공개한 저자에게 감사드립니다."
      ]
    },
    {
      "cell_type": "markdown",
      "metadata": {
        "id": "W66796Q63MSx"
      },
      "source": [
        "__구글 코랩 설정__\n",
        "\n",
        "'런타임 -> 런타임 유형 변경' 메뉴에서 GPU를 지정한다.\n",
        "TensorFlow 버전을 확인하려면 아래 명령문을 실행한다."
      ]
    },
    {
      "cell_type": "code",
      "execution_count": null,
      "metadata": {
        "colab": {
          "base_uri": "https://localhost:8080/",
          "height": 36
        },
        "id": "XF9dJNGu3MSx",
        "outputId": "f535c150-b430-4ff2-ffad-3a022dce069f"
      },
      "outputs": [
        {
          "output_type": "execute_result",
          "data": {
            "text/plain": [
              "'2.13.0'"
            ],
            "application/vnd.google.colaboratory.intrinsic+json": {
              "type": "string"
            }
          },
          "metadata": {},
          "execution_count": 1
        }
      ],
      "source": [
        "import tensorflow as tf\n",
        "tf.__version__"
      ]
    },
    {
      "cell_type": "markdown",
      "metadata": {
        "id": "GJz9zdWv3MSz"
      },
      "source": [
        "TensorFlow가 GPU를 사용하는지 여부를 확인하려면 아래 명령문을 실행한다.\n",
        "아래와 같은 결과가 나오면 GPU가 제대로 지원됨을 의미한다.\n",
        "\n",
        "```\n",
        "[PhysicalDevice(name='/physical_device:GPU:0', device_type='GPU')]\n",
        "```"
      ]
    },
    {
      "cell_type": "code",
      "execution_count": null,
      "metadata": {
        "colab": {
          "base_uri": "https://localhost:8080/"
        },
        "id": "Snx-SE4j3MSz",
        "outputId": "09c2ae44-b298-4987-c71f-1a0ba107c517"
      },
      "outputs": [
        {
          "output_type": "execute_result",
          "data": {
            "text/plain": [
              "[PhysicalDevice(name='/physical_device:GPU:0', device_type='GPU')]"
            ]
          },
          "metadata": {},
          "execution_count": 2
        }
      ],
      "source": [
        "tf.config.list_physical_devices('GPU')"
      ]
    },
    {
      "cell_type": "markdown",
      "metadata": {
        "id": "0iLaYjTI3MS0"
      },
      "source": [
        "**참고**\n",
        "\n",
        "아래 코드에 대한 자세한 설명은\n",
        "[케라스와 텐서플로우](https://codingalzi.github.io/dlp2/keras_and_tf.html)를\n",
        "참고한다."
      ]
    },
    {
      "cell_type": "markdown",
      "metadata": {
        "id": "-gA9wd-eNdH5"
      },
      "source": [
        "## 순수 텐서플로우 사용법 기초"
      ]
    },
    {
      "cell_type": "markdown",
      "metadata": {
        "id": "TPl7tN7qFAG2"
      },
      "source": [
        "### 상수 텐서와 변수 텐서"
      ]
    },
    {
      "cell_type": "markdown",
      "metadata": {
        "id": "H5vru5j1FAG2"
      },
      "source": [
        "**상수 텐서**"
      ]
    },
    {
      "cell_type": "markdown",
      "metadata": {
        "id": "m0vwISUoFAG3"
      },
      "source": [
        "상수 텐서를 다양한 방식으로 생성할 수 있다.\n",
        "아래 코드는 직접 상수 텐서의 모양과 항목을 지정한다."
      ]
    },
    {
      "cell_type": "code",
      "execution_count": null,
      "metadata": {
        "colab": {
          "base_uri": "https://localhost:8080/"
        },
        "id": "Ik-7kgRvFAG3",
        "outputId": "06c140b8-651b-4687-e057-c400d1cee0f7"
      },
      "outputs": [
        {
          "output_type": "stream",
          "name": "stdout",
          "text": [
            "tf.Tensor(\n",
            "[[1. 2.]\n",
            " [3. 4.]], shape=(2, 2), dtype=float32)\n"
          ]
        }
      ],
      "source": [
        "x = tf.constant([[1., 2.], [3., 4.]])\n",
        "print(x)"
      ]
    },
    {
      "cell_type": "markdown",
      "metadata": {
        "id": "RWRNWl6ZFAG4"
      },
      "source": [
        "넘파이 어레이의 경우와 거의 유사하게 다양한 텐서를 생성하는 함수들이 제공된다.\n",
        "`tf.ones()` 함수는 1로만 이루어진 상수 텐서를 생성한다."
      ]
    },
    {
      "cell_type": "code",
      "execution_count": null,
      "metadata": {
        "colab": {
          "base_uri": "https://localhost:8080/"
        },
        "id": "i9cKkurOFAG4",
        "outputId": "e3a12ebd-fc73-47df-a4ee-92f1bb69e09b"
      },
      "outputs": [
        {
          "output_type": "stream",
          "name": "stdout",
          "text": [
            "tf.Tensor(\n",
            "[[1.]\n",
            " [1.]], shape=(2, 1), dtype=float32)\n"
          ]
        }
      ],
      "source": [
        "x = tf.ones(shape=(2, 1))\n",
        "print(x)"
      ]
    },
    {
      "cell_type": "markdown",
      "metadata": {
        "id": "G7j6TGhMFAG4"
      },
      "source": [
        "반면에 `tf.zeros()` 텐서는 0으로만 이루어진 상수 텐서를 생성한다."
      ]
    },
    {
      "cell_type": "code",
      "execution_count": null,
      "metadata": {
        "colab": {
          "base_uri": "https://localhost:8080/"
        },
        "id": "RnQI7pjoFAG4",
        "outputId": "9fc2e26f-cb6e-4321-92f1-f2c42ea7b2f6"
      },
      "outputs": [
        {
          "output_type": "stream",
          "name": "stdout",
          "text": [
            "tf.Tensor(\n",
            "[[0.]\n",
            " [0.]], shape=(2, 1), dtype=float32)\n"
          ]
        }
      ],
      "source": [
        "x = tf.zeros(shape=(2, 1))\n",
        "print(x)"
      ]
    },
    {
      "cell_type": "markdown",
      "metadata": {
        "id": "jObv20fhFAG4"
      },
      "source": [
        "확률적 통계 분포를 따르는 항목으로 구성된 상수 텐서를 생성하는 함수는 딥러닝에서 매우 유용하다."
      ]
    },
    {
      "cell_type": "markdown",
      "metadata": {
        "id": "IhYg7coSFAG4"
      },
      "source": [
        "- `normal()` 함수: 평균값(`mean`)과 표준편차(`stddev`)를 지정하면 해당 정규분포를 따르는 항목들을 이용하여\n",
        "원하는 모양의 상수 텐서를 생성한다."
      ]
    },
    {
      "cell_type": "code",
      "execution_count": null,
      "metadata": {
        "colab": {
          "base_uri": "https://localhost:8080/"
        },
        "id": "Sbkziq-8FAG5",
        "outputId": "72588b79-d094-4a40-8575-c5970e49e93b"
      },
      "outputs": [
        {
          "output_type": "stream",
          "name": "stdout",
          "text": [
            "tf.Tensor(\n",
            "[[ 1.2402459e+00]\n",
            " [-9.8561472e-04]\n",
            " [ 6.9482185e-02]], shape=(3, 1), dtype=float32)\n"
          ]
        }
      ],
      "source": [
        "x = tf.random.normal(shape=(3, 1), mean=0., stddev=1.)\n",
        "print(x)"
      ]
    },
    {
      "cell_type": "markdown",
      "metadata": {
        "id": "-zqwCJ7hFAG5"
      },
      "source": [
        "- `uniform()` 함수: 지정된 구간 최솟값(`minval`)과 최댓값(`maxval`) 사이에서 균등분포를 따르는 항목들을 이용하여 상수 텐서를 생성한다."
      ]
    },
    {
      "cell_type": "code",
      "execution_count": null,
      "metadata": {
        "colab": {
          "base_uri": "https://localhost:8080/"
        },
        "id": "qmYorXi5FAG5",
        "outputId": "04c06680-419e-4bc0-e66f-752317259ab9"
      },
      "outputs": [
        {
          "output_type": "stream",
          "name": "stdout",
          "text": [
            "tf.Tensor(\n",
            "[[0.4842626 ]\n",
            " [0.597823  ]\n",
            " [0.49978244]], shape=(3, 1), dtype=float32)\n"
          ]
        }
      ],
      "source": [
        "x = tf.random.uniform(shape=(3, 1), minval=0., maxval=1.)\n",
        "print(x)"
      ]
    },
    {
      "cell_type": "markdown",
      "metadata": {
        "id": "CV8pyHNnFAG5"
      },
      "source": [
        "**상수 텐서의 수정 불가능성**"
      ]
    },
    {
      "cell_type": "markdown",
      "metadata": {
        "id": "K-bMeTbTFAG5"
      },
      "source": [
        "한 번 생성된 상수 텐서는 수정이 불가능하다.\n",
        "예를 들어 인덱싱으로 항목을 수정할 수 없다."
      ]
    },
    {
      "cell_type": "markdown",
      "metadata": {
        "id": "Vg5KyONiFAG6"
      },
      "source": [
        "```python\n",
        ">>> x[0, 0] = 1.0\n",
        "TypeError                                 Traceback (most recent call last)\n",
        "<ipython-input-7-242a5d4d3c4a> in <module>\n",
        "----> 1 x[0, 0] = 1.0\n",
        "\n",
        "TypeError: 'tensorflow.python.framework.ops.EagerTensor' object does not support item assignment\n",
        "```"
      ]
    },
    {
      "cell_type": "markdown",
      "metadata": {
        "id": "Ll1rQVG3FAG6"
      },
      "source": [
        "반면에 넘파이 어레이는 수정이 가능하다."
      ]
    },
    {
      "cell_type": "code",
      "execution_count": null,
      "metadata": {
        "colab": {
          "base_uri": "https://localhost:8080/"
        },
        "id": "l5lUVJ3bFAG6",
        "outputId": "16ded775-553a-4bde-a149-0cd5c797b245"
      },
      "outputs": [
        {
          "output_type": "stream",
          "name": "stdout",
          "text": [
            "[[0. 1.]\n",
            " [1. 1.]]\n"
          ]
        }
      ],
      "source": [
        "import numpy as np\n",
        "\n",
        "y = np.ones(shape=(2, 2))\n",
        "\n",
        "y[0, 0] = 0.0\n",
        "print(y)"
      ]
    },
    {
      "cell_type": "markdown",
      "metadata": {
        "id": "RaMXIVgVFAG6"
      },
      "source": [
        "**상수 텐서 항목의 자료형**"
      ]
    },
    {
      "cell_type": "markdown",
      "metadata": {
        "id": "k2xvuVdJFAG7"
      },
      "source": [
        "텐서 항목의 자료형은 `EagerTensor` 라는 텐서다."
      ]
    },
    {
      "cell_type": "code",
      "execution_count": null,
      "metadata": {
        "colab": {
          "base_uri": "https://localhost:8080/"
        },
        "id": "96zsfMQzFAG7",
        "outputId": "26b53551-d2b4-41a4-f51e-16c8ca49dc6f"
      },
      "outputs": [
        {
          "output_type": "execute_result",
          "data": {
            "text/plain": [
              "tensorflow.python.framework.ops.EagerTensor"
            ]
          },
          "metadata": {},
          "execution_count": 9
        }
      ],
      "source": [
        "type(x[0, 0])"
      ]
    },
    {
      "cell_type": "markdown",
      "metadata": {
        "id": "VujYaZeAFAG7"
      },
      "source": [
        "**변수 텐서**"
      ]
    },
    {
      "cell_type": "markdown",
      "metadata": {
        "id": "DDnj9VdMFAG7"
      },
      "source": [
        "`tf.Variaible` 객체는 항목을 수정할 수 있는 가변 텐서이다.\n",
        "아래 코드는 정규 분포를 이용하여 (3. 1) 모양의 변수 텐서를 생성한다."
      ]
    },
    {
      "cell_type": "code",
      "execution_count": null,
      "metadata": {
        "colab": {
          "base_uri": "https://localhost:8080/"
        },
        "id": "0aTLKr4mFAG7",
        "outputId": "e05aef19-4bd6-4fa6-b5ab-ca6934ebfb6a"
      },
      "outputs": [
        {
          "output_type": "stream",
          "name": "stdout",
          "text": [
            "<tf.Variable 'Variable:0' shape=(3, 1) dtype=float32, numpy=\n",
            "array([[ 0.25814313],\n",
            "       [-1.6722821 ],\n",
            "       [-0.2840927 ]], dtype=float32)>\n"
          ]
        }
      ],
      "source": [
        "v = tf.Variable(initial_value=tf.random.normal(shape=(3, 1)))\n",
        "print(v)"
      ]
    },
    {
      "cell_type": "markdown",
      "metadata": {
        "id": "3cHdR9y3FAG7"
      },
      "source": [
        "**변수 텐서 교체**"
      ]
    },
    {
      "cell_type": "markdown",
      "metadata": {
        "id": "3UhHAaaIFAG7"
      },
      "source": [
        "`assign()` 메서드는 해당 텐서를 통채로 다른 텐서로 대체한다."
      ]
    },
    {
      "cell_type": "code",
      "execution_count": null,
      "metadata": {
        "colab": {
          "base_uri": "https://localhost:8080/"
        },
        "id": "x6Q4b_S6FAG7",
        "outputId": "e4ef1088-09d1-40cd-d4bb-3da4731aa9d1"
      },
      "outputs": [
        {
          "output_type": "execute_result",
          "data": {
            "text/plain": [
              "<tf.Variable 'UnreadVariable' shape=(3, 1) dtype=float32, numpy=\n",
              "array([[1.],\n",
              "       [1.],\n",
              "       [1.]], dtype=float32)>"
            ]
          },
          "metadata": {},
          "execution_count": 11
        }
      ],
      "source": [
        "v.assign(tf.ones((3, 1)))"
      ]
    },
    {
      "cell_type": "markdown",
      "metadata": {
        "id": "QpdPpCRGFAG7"
      },
      "source": [
        "단, 대체하는 텐서의 모양(shape)이 기존 텐서의 모양과 동일해야 한다."
      ]
    },
    {
      "cell_type": "markdown",
      "metadata": {
        "id": "mCCnDJrXFAG8"
      },
      "source": [
        "```python\n",
        ">>> v.assign(tf.ones((3, 2)))\n",
        "ValueError                                Traceback (most recent call last)\n",
        "<ipython-input-13-e381ab0c94e6> in <module>\n",
        "----> 1 v.assign(tf.ones((3, 2)))\n",
        "\n",
        "~\\anaconda3\\lib\\site-packages\\tensorflow\\python\\ops\\resource_variable_ops.py in assign(self, value, use_locking, name, read_value)\n",
        "    886         else:\n",
        "    887           tensor_name = \" \" + str(self.name)\n",
        "--> 888         raise ValueError(\n",
        "    889             (\"Cannot assign to variable%s due to variable shape %s and value \"\n",
        "    890              \"shape %s are incompatible\") %\n",
        "\n",
        "ValueError: Cannot assign to variable Variable:0 due to variable shape (3, 1) and value shape (3, 2) are incompatible\n",
        "```"
      ]
    },
    {
      "cell_type": "markdown",
      "metadata": {
        "id": "jdwzz0TTFAG8"
      },
      "source": [
        "**변수 텐서 항목 수정**"
      ]
    },
    {
      "cell_type": "markdown",
      "metadata": {
        "id": "Hj152rUhFAG8"
      },
      "source": [
        "변수 텐서의 특정 항목을 수정하려면 인덱싱과 `assign()` 메서드를 함께 사용한다.\n",
        "이것이 가능한 이유는 텐서의 항목 또한 텐서이기 때문이다."
      ]
    },
    {
      "cell_type": "code",
      "execution_count": null,
      "metadata": {
        "colab": {
          "base_uri": "https://localhost:8080/"
        },
        "id": "PzUFJcg6FAG8",
        "outputId": "bf89cabf-b904-438a-8670-aeff3fcbca05"
      },
      "outputs": [
        {
          "output_type": "execute_result",
          "data": {
            "text/plain": [
              "<tf.Tensor: shape=(), dtype=float32, numpy=1.0>"
            ]
          },
          "metadata": {},
          "execution_count": 12
        }
      ],
      "source": [
        "v[0, 0]"
      ]
    },
    {
      "cell_type": "code",
      "execution_count": null,
      "metadata": {
        "colab": {
          "base_uri": "https://localhost:8080/"
        },
        "id": "IwTXxgGDFAG8",
        "outputId": "c8ec4572-df9f-4f3a-82d4-3b3933882316"
      },
      "outputs": [
        {
          "output_type": "execute_result",
          "data": {
            "text/plain": [
              "tensorflow.python.framework.ops.EagerTensor"
            ]
          },
          "metadata": {},
          "execution_count": 13
        }
      ],
      "source": [
        "type(v[0, 0])"
      ]
    },
    {
      "cell_type": "markdown",
      "metadata": {
        "id": "4OJZrvZiFAG8"
      },
      "source": [
        "상수 텐서의 경우처럼 각 항목은 `EagerTensor` 객체이지만 이번엔 항목 변환이 가능하다.\n",
        "텐서플로우 내부에서 변수 텐서인 경우와 아닌 경우를 구분해서 `assign()` 메서드의 지원여부를\n",
        "판단하는 것으로 보인다."
      ]
    },
    {
      "cell_type": "code",
      "execution_count": null,
      "metadata": {
        "colab": {
          "base_uri": "https://localhost:8080/"
        },
        "id": "AEVgeGYIFAG8",
        "outputId": "b2fa1160-111b-4301-814b-0d5992544a77"
      },
      "outputs": [
        {
          "output_type": "execute_result",
          "data": {
            "text/plain": [
              "<tf.Variable 'UnreadVariable' shape=(3, 1) dtype=float32, numpy=\n",
              "array([[3.],\n",
              "       [1.],\n",
              "       [1.]], dtype=float32)>"
            ]
          },
          "metadata": {},
          "execution_count": 14
        }
      ],
      "source": [
        "v[0, 0].assign(3.)"
      ]
    },
    {
      "cell_type": "markdown",
      "metadata": {
        "id": "X-gFG2uaFAG_"
      },
      "source": [
        "* `assign_add()`와 `assign_sub()`"
      ]
    },
    {
      "cell_type": "markdown",
      "metadata": {
        "id": "CYM5RzvMFAHA"
      },
      "source": [
        "`assign_sub()` 함수는 텐서 자료형의 메서드이며 `-=` 연산자와 동일한 기능을 수행한다.\n",
        "이외에 `assign_add()` 메서드는 `+=` 연산자의 기능을 갖는다."
      ]
    },
    {
      "cell_type": "code",
      "execution_count": null,
      "metadata": {
        "colab": {
          "base_uri": "https://localhost:8080/"
        },
        "id": "M-42Xd2hFAHA",
        "outputId": "c3faebd3-87f0-45cc-8733-3551ba72a832"
      },
      "outputs": [
        {
          "output_type": "execute_result",
          "data": {
            "text/plain": [
              "<tf.Variable 'UnreadVariable' shape=(3, 1) dtype=float32, numpy=\n",
              "array([[4.],\n",
              "       [2.],\n",
              "       [2.]], dtype=float32)>"
            ]
          },
          "metadata": {},
          "execution_count": 15
        }
      ],
      "source": [
        "v.assign_add(tf.ones((3, 1)))"
      ]
    },
    {
      "cell_type": "markdown",
      "metadata": {
        "id": "FWHPq7x_3MTG"
      },
      "source": [
        "### `GradientTape` 활용"
      ]
    },
    {
      "cell_type": "markdown",
      "metadata": {
        "id": "uPhlG16W3MTG"
      },
      "source": [
        "*경우 1) 하나의 변수에 대한 그레이디언트*"
      ]
    },
    {
      "cell_type": "markdown",
      "metadata": {
        "id": "lyLQKOfv3MTG"
      },
      "source": [
        "아래 코드는 제곱 함수의 $x = 3$에서의 미분값인 6을 계산한다.\n",
        "\n",
        "$$\n",
        "f(x) = x^2 \\quad \\Longrightarrow \\quad \\nabla f(x) = \\frac{df(x)}{dx} = 2x\n",
        "$$"
      ]
    },
    {
      "cell_type": "code",
      "execution_count": null,
      "metadata": {
        "colab": {
          "base_uri": "https://localhost:8080/"
        },
        "id": "g-6-RoZn3MTG",
        "outputId": "96cdf3ed-31fd-42ef-fe6f-b9b3fe67f8ef"
      },
      "outputs": [
        {
          "output_type": "stream",
          "name": "stdout",
          "text": [
            "tf.Tensor(6.0, shape=(), dtype=float32)\n"
          ]
        }
      ],
      "source": [
        "input_var = tf.Variable(initial_value=3.)\n",
        "\n",
        "with tf.GradientTape() as tape:\n",
        "    result = tf.square(input_var)\n",
        "\n",
        "gradient = tape.gradient(result, input_var)\n",
        "\n",
        "print(gradient)"
      ]
    },
    {
      "cell_type": "markdown",
      "metadata": {
        "id": "P6KeSrEm3MTH"
      },
      "source": [
        "*경우 2) 임의의 텐서 연산에 대한 그레이디언트*"
      ]
    },
    {
      "cell_type": "code",
      "execution_count": null,
      "metadata": {
        "id": "mQ2w_3XZ3MTH"
      },
      "outputs": [],
      "source": [
        "x = tf.Variable(tf.random.uniform((2, 2)))\n",
        "\n",
        "with tf.GradientTape() as tape:\n",
        "    y = x**2 + 3\n",
        "\n",
        "grad_of_y_wrt_x = tape.gradient(y, x)"
      ]
    },
    {
      "cell_type": "markdown",
      "metadata": {
        "id": "u2Sa0TVW3MTH"
      },
      "source": [
        "변수 `x`의 모양은 다음과 같다."
      ]
    },
    {
      "cell_type": "markdown",
      "metadata": {
        "id": "ZaJuYIat3MTH"
      },
      "source": [
        "$$\n",
        "x =\n",
        "\\begin{bmatrix}\n",
        "x_{11} & x_{12} \\\\\n",
        "x_{21} & x_{22}\n",
        "\\end{bmatrix}\n",
        "$$"
      ]
    },
    {
      "cell_type": "markdown",
      "metadata": {
        "id": "faWMBLTt3MTH"
      },
      "source": [
        "`y`를 `x`의 함수로 표현하면 다음과 같다."
      ]
    },
    {
      "cell_type": "markdown",
      "metadata": {
        "id": "tgbKrgOH3MTH"
      },
      "source": [
        "$$\n",
        "y = f(x) = x^2 + 3 =\n",
        "\\begin{bmatrix}\n",
        "x_{11}^2 + 3 & x_{12}^2 + 3 \\\\\n",
        "x_{21}^2 + 3 & x_{22}^2 + 3\n",
        "\\end{bmatrix}\n",
        "$$"
      ]
    },
    {
      "cell_type": "markdown",
      "metadata": {
        "id": "3YCVdWcx3MTH"
      },
      "source": [
        "텐서 `x`에 대한 그레이디언트는 다음과 같다."
      ]
    },
    {
      "cell_type": "markdown",
      "metadata": {
        "id": "G4mxFOyw3MTH"
      },
      "source": [
        "$$\n",
        "\\nabla f(x) =\n",
        "\\begin{bmatrix}\n",
        "2 x_{11} & 2 x_{12} \\\\\n",
        "2 x_{21} & 2 x_{22}\n",
        "\\end{bmatrix}\n",
        "$$"
      ]
    },
    {
      "cell_type": "markdown",
      "metadata": {
        "id": "B5_3gAB3OCLF"
      },
      "source": [
        "그레이디언트 계산 결과는 다음과 같다."
      ]
    },
    {
      "cell_type": "code",
      "execution_count": null,
      "metadata": {
        "colab": {
          "base_uri": "https://localhost:8080/"
        },
        "id": "Qkvf5a8Z3MTH",
        "outputId": "237efe6c-eb46-4d34-af77-24841d161845"
      },
      "outputs": [
        {
          "output_type": "execute_result",
          "data": {
            "text/plain": [
              "<tf.Tensor: shape=(2, 2), dtype=float32, numpy=\n",
              "array([[1.781708  , 1.7806206 ],\n",
              "       [0.02182651, 0.91010857]], dtype=float32)>"
            ]
          },
          "metadata": {},
          "execution_count": 18
        }
      ],
      "source": [
        "grad_of_y_wrt_x"
      ]
    },
    {
      "cell_type": "markdown",
      "metadata": {
        "id": "FNufbcPh3MTI"
      },
      "source": [
        "실제로 그레이디언트 계산에 사용된 `x`는 다음과 같으며\n",
        "앞서 설명한 식으로 그레이디언트가 계산되었음을\n",
        "쉽게 확인할 수 있다."
      ]
    },
    {
      "cell_type": "code",
      "execution_count": null,
      "metadata": {
        "colab": {
          "base_uri": "https://localhost:8080/"
        },
        "id": "yxLegV0T3MTI",
        "outputId": "7305f419-c16b-4c50-8a52-b4a26bcc91f9"
      },
      "outputs": [
        {
          "output_type": "execute_result",
          "data": {
            "text/plain": [
              "<tf.Variable 'Variable:0' shape=(2, 2) dtype=float32, numpy=\n",
              "array([[0.890854  , 0.8903103 ],\n",
              "       [0.01091325, 0.45505428]], dtype=float32)>"
            ]
          },
          "metadata": {},
          "execution_count": 19
        }
      ],
      "source": [
        "x"
      ]
    },
    {
      "cell_type": "markdown",
      "metadata": {
        "id": "IBtY5UoA3MTI"
      },
      "source": [
        "*경우 3) 변수들의 리스트에 대한 그레이언트*"
      ]
    },
    {
      "cell_type": "code",
      "execution_count": null,
      "metadata": {
        "id": "V75HRT683MTI"
      },
      "outputs": [],
      "source": [
        "W = tf.Variable(tf.random.uniform((2, 2)))\n",
        "b = tf.Variable(tf.zeros((2,)))\n",
        "x = tf.random.uniform((2, 2))\n",
        "\n",
        "with tf.GradientTape() as tape:\n",
        "    y = tf.matmul(x, W) + b\n",
        "\n",
        "grad_of_y_wrt_W_and_b = tape.gradient(y, [W, b])"
      ]
    },
    {
      "cell_type": "markdown",
      "metadata": {
        "id": "4urKIWqK3MTI"
      },
      "source": [
        "텐서 `x`와 변수 `W`, `b`의 모양은 다음과 같다."
      ]
    },
    {
      "cell_type": "markdown",
      "metadata": {
        "id": "jbS5GsDA3MTI"
      },
      "source": [
        "$$\n",
        "x =\n",
        "\\begin{bmatrix}\n",
        "x_{11} & x_{12} \\\\\n",
        "x_{21} & x_{22}\n",
        "\\end{bmatrix},\n",
        "\\qquad\n",
        "W =\n",
        "\\begin{bmatrix}\n",
        "w_{11} & w_{12} \\\\\n",
        "w_{21} & w_{22}\n",
        "\\end{bmatrix},\n",
        "\\qquad\n",
        "b =\n",
        "\\begin{bmatrix}\n",
        "b_{1} & b_{2}\n",
        "\\end{bmatrix}\n",
        "$$"
      ]
    },
    {
      "cell_type": "markdown",
      "metadata": {
        "id": "bifIDK_e3MTI"
      },
      "source": [
        "`y`를 `W`와 `b`의 함수로 표현하면 다음과 같다."
      ]
    },
    {
      "cell_type": "markdown",
      "metadata": {
        "id": "twSWVs7_3MTI"
      },
      "source": [
        "$$\n",
        "y = f(W, b) = x\\cdot W + b =\n",
        "\\begin{bmatrix}\n",
        "x_{11}\\cdot w_{11} + x_{12}\\cdot w_{21} + b_1 & x_{11}\\cdot w_{12} + x_{12}\\cdot w_{22} + b_2 \\\\\n",
        "x_{21}\\cdot w_{11} + x_{22}\\cdot w_{21} + b_1 & x_{21}\\cdot w_{12} + x_{22}\\cdot w_{22} + b_2 \\\\\n",
        "\\end{bmatrix}\n",
        "$$"
      ]
    },
    {
      "cell_type": "markdown",
      "metadata": {
        "id": "VvD8fGcs3MTI"
      },
      "source": [
        "텐서 `x`에 대한 그레이디언트는 다음과 같다."
      ]
    },
    {
      "cell_type": "markdown",
      "metadata": {
        "id": "esYciCXu3MTJ"
      },
      "source": [
        "$$\n",
        "\\nabla f(W, b) =\n",
        "\\begin{bmatrix}\n",
        "    \\begin{bmatrix}\n",
        "    x_{11} + x_{21} & x_{11} + x_{21} \\\\\n",
        "    x_{12} + x_{22} & x_{12} + x_{22}\n",
        "    \\end{bmatrix},\n",
        "    \\begin{bmatrix}\n",
        "    2 & 2\n",
        "    \\end{bmatrix}    \n",
        "\\end{bmatrix}\n",
        "$$"
      ]
    },
    {
      "cell_type": "markdown",
      "metadata": {
        "id": "ubiYoL9COUmg"
      },
      "source": [
        "그레이디언트 계산 결과는 다음과 같다."
      ]
    },
    {
      "cell_type": "code",
      "execution_count": null,
      "metadata": {
        "colab": {
          "base_uri": "https://localhost:8080/"
        },
        "id": "V3csw0fB3MTJ",
        "outputId": "19b5f914-3172-42b6-c06a-09df4ecf0521"
      },
      "outputs": [
        {
          "output_type": "execute_result",
          "data": {
            "text/plain": [
              "[<tf.Tensor: shape=(2, 2), dtype=float32, numpy=\n",
              " array([[1.1713315, 1.1713315],\n",
              "        [1.130415 , 1.130415 ]], dtype=float32)>,\n",
              " <tf.Tensor: shape=(2,), dtype=float32, numpy=array([2., 2.], dtype=float32)>]"
            ]
          },
          "metadata": {},
          "execution_count": 21
        }
      ],
      "source": [
        "grad_of_y_wrt_W_and_b"
      ]
    },
    {
      "cell_type": "markdown",
      "metadata": {
        "id": "VzTLmj0y3MTJ"
      },
      "source": [
        "실제로 그레이디언트 계산에 사용된 `x`는 다음과 같으며\n",
        "앞서 설명한 식으로 그레이디언트가 계산되었음을\n",
        "쉽게 확인할 수 있다."
      ]
    },
    {
      "cell_type": "code",
      "execution_count": null,
      "metadata": {
        "colab": {
          "base_uri": "https://localhost:8080/"
        },
        "id": "p_tsUmFh3MTJ",
        "outputId": "657d777b-9c38-424d-9c98-665af8089cb2"
      },
      "outputs": [
        {
          "output_type": "execute_result",
          "data": {
            "text/plain": [
              "<tf.Tensor: shape=(2, 2), dtype=float32, numpy=\n",
              "array([[0.53017855, 0.84669423],\n",
              "       [0.641153  , 0.28372073]], dtype=float32)>"
            ]
          },
          "metadata": {},
          "execution_count": 22
        }
      ],
      "source": [
        "x"
      ]
    },
    {
      "cell_type": "markdown",
      "metadata": {
        "id": "Wxf3n1oR3MTJ"
      },
      "source": [
        "### 순수 텐서플로우 활용 선형 분류기 구현 예제"
      ]
    },
    {
      "cell_type": "markdown",
      "metadata": {
        "id": "bbzAgKDO3MTJ"
      },
      "source": [
        "순수 텐서플로우 API만을 이용하여 선형 분류 신경망을 구현한다."
      ]
    },
    {
      "cell_type": "markdown",
      "metadata": {
        "id": "R2xFQuAC3MTK"
      },
      "source": [
        "**1단계: 데이터셋 생성**"
      ]
    },
    {
      "cell_type": "code",
      "execution_count": null,
      "metadata": {
        "id": "SnusrAwA6dRz"
      },
      "outputs": [],
      "source": [
        "import numpy as np"
      ]
    },
    {
      "cell_type": "code",
      "execution_count": null,
      "metadata": {
        "id": "gcIByjoF3MTK"
      },
      "outputs": [],
      "source": [
        "num_samples_per_class = 1000\n",
        "\n",
        "# 음성 데이터셋\n",
        "negative_samples = np.random.multivariate_normal(\n",
        "    mean=[0, 3], cov=[[1, 0.5],[0.5, 1]], size=num_samples_per_class)\n",
        "\n",
        "# 양성 데이터셋\n",
        "positive_samples = np.random.multivariate_normal(\n",
        "    mean=[3, 0], cov=[[1, 0.5],[0.5, 1]], size=num_samples_per_class)"
      ]
    },
    {
      "cell_type": "markdown",
      "metadata": {
        "id": "AsHFXigEICh4"
      },
      "source": [
        "`np.random.multivariate.normal()` 함수는 다변량 정규 분포를 이용하여 지정된 크기의 데이터셋을 생성하며,\n",
        "사용된 인자의 의미는 다음과 같다.\n",
        "\n",
        "- `mean`: 데이터셋의 평균값\n",
        "- `cov`: 공분산 지정. 0번 특성과 1번 특성의 분포를 1대 0.5 비율로 지정. 따라서 0번 특성의 축(x-축)으로 보다 넓게 분포됨.\n",
        "- `size`: 생성되는 데이터셋의 크기"
      ]
    },
    {
      "cell_type": "markdown",
      "metadata": {
        "id": "ddArvSJO3MTK"
      },
      "source": [
        "두 데이터셋을 합쳐서 훈련셋, 즉, 모델의 입력값으로 지정한다.\n",
        "자료형을 `np.float32`로 지정함에 주의하라.\n",
        "그렇게 하지 않으면 `np.float64`로 지정되어 보다 많은 메모리와 실행시간을 요구한다."
      ]
    },
    {
      "cell_type": "code",
      "execution_count": null,
      "metadata": {
        "id": "ag2ehOQA3MTK"
      },
      "outputs": [],
      "source": [
        "inputs = np.vstack((negative_samples, positive_samples)).astype(np.float32)"
      ]
    },
    {
      "cell_type": "markdown",
      "metadata": {
        "id": "stpIu_FtICh8"
      },
      "source": [
        "- `negative_sample`: (1000, 2) 모양의 텐서\n",
        "- `positive_sample`: (1000, 2) 모양의 텐서\n",
        "- `inputs = np.vstack(negative_sample, positive_sample)`: (2000, 2) 모양의 텐서\n",
        "    - `negative_sample` 데이터셋이 0번부터 999번까지 인덱스.\n",
        "    - `positive_sample` 데이터셋이 1000번부터 1999번까지 인덱스."
      ]
    },
    {
      "cell_type": "markdown",
      "metadata": {
        "id": "Nta3OznI3MTK"
      },
      "source": [
        "음성 샘플의 타깃은 0, 양성 샘플의 타깃은 1로 지정한다."
      ]
    },
    {
      "cell_type": "code",
      "execution_count": null,
      "metadata": {
        "id": "0dw_f8rp3MTK"
      },
      "outputs": [],
      "source": [
        "targets = np.vstack((np.zeros((num_samples_per_class, 1), dtype=\"float32\"),\n",
        "                     np.ones((num_samples_per_class, 1), dtype=\"float32\")))"
      ]
    },
    {
      "cell_type": "markdown",
      "metadata": {
        "id": "o2MzdcE9ICh8"
      },
      "source": [
        "- `np.zeros((num_samples_per_class, 1), dtype=\"float32\")`: (1000, 1) 모양의 어레이. 0으로 채워짐. 모든 음성 데이터의 타깃은 0임.\n",
        "- `np.ones((num_samples_per_class, 1), dtype=\"float32\")`: (1000, 1) 모양의 어레이. 1로 채워짐. 모든 양성 데이터의 타깃은 1임.\n",
        "- `targets`: (2000, 1) 모양의 어레이."
      ]
    },
    {
      "cell_type": "markdown",
      "metadata": {
        "id": "qslmk_D13MTK"
      },
      "source": [
        "양성, 음성 샘플을 색깔로 구분하면 다음과 같다.\n",
        "\n",
        "- `inputs[:, 0]`: x 좌표\n",
        "- `inputs[:, 1]`: y 좌표\n",
        "- `c=targets[:, 0]`: 0 또는 1에 따른 색상 지정"
      ]
    },
    {
      "cell_type": "code",
      "execution_count": null,
      "metadata": {
        "colab": {
          "base_uri": "https://localhost:8080/",
          "height": 430
        },
        "id": "5tAd9Wwx3MTK",
        "outputId": "d1224441-603e-4d2d-a32c-8aa1a012a0af"
      },
      "outputs": [
        {
          "output_type": "display_data",
          "data": {
            "text/plain": [
              "<Figure size 640x480 with 1 Axes>"
            ],
            "image/png": "[encoded data removed]"
          },
          "metadata": {}
        }
      ],
      "source": [
        "import matplotlib.pyplot as plt\n",
        "\n",
        "plt.scatter(inputs[:, 0], inputs[:, 1], c=targets[:, 0])\n",
        "plt.show()"
      ]
    },
    {
      "cell_type": "markdown",
      "metadata": {
        "id": "qDYqH8ns3MTK"
      },
      "source": [
        "**2단계: 선형 회귀 모델 훈련에 필요한 가중치와 편향 변수 텐서 생성**"
      ]
    },
    {
      "cell_type": "markdown",
      "metadata": {
        "id": "5UuepWpdICh9"
      },
      "source": [
        "선형 분류기 모델의 예측값 계산은 다음과 같이 이뤄진다.\n",
        "\n",
        "```python\n",
        "inputs @ W + b\n",
        "```\n",
        "\n",
        "- `inputs`: (2000, 2) 모양의 입력 데이터셋 행렬\n",
        "- `W`: (2, 1) 모양의 가중치 행렬\n",
        "- `inputs @ W`: (2000, 1) 모양의 행렬\n",
        "-  `b`: (1,) 모양의 벡터\n",
        "- `inputs @ W + b`: (2000, 1) 모양의 출력값 행렬. 즉, 2000 개의 입력 데이터 각각에 대해 하나의 값의 계산됨."
      ]
    },
    {
      "cell_type": "markdown",
      "metadata": {
        "id": "ATD9mDWRICh9"
      },
      "source": [
        "아래 코드는 모델 학습에 사용될 가중치와 편향을 변수 텐서로 선언한다."
      ]
    },
    {
      "cell_type": "code",
      "execution_count": null,
      "metadata": {
        "id": "uk9_Dip93MTK"
      },
      "outputs": [],
      "source": [
        "input_dim = 2     # 입력 샘플의 특성이 2개\n",
        "output_dim = 1    # 하나의 값으로 출력\n",
        "\n",
        "# 가중치: 무작위 초기화\n",
        "W = tf.Variable(initial_value=tf.random.uniform(shape=(input_dim, output_dim)))\n",
        "\n",
        "# 편향: 0으로 초기화\n",
        "b = tf.Variable(initial_value=tf.zeros(shape=(output_dim,)))"
      ]
    },
    {
      "cell_type": "markdown",
      "metadata": {
        "id": "lv1h9Xom3MTL"
      },
      "source": [
        "**3단계: 모델 선언(포워드 패스 담당)**"
      ]
    },
    {
      "cell_type": "markdown",
      "metadata": {
        "id": "pkIly2By3MTL"
      },
      "source": [
        "신경망 모델을 훈련할 때 입력값에 대한 예측값을 계산하는 과정인\n",
        "포워드 패스를 함수로 구현한다.\n",
        "간단한 모델 표현을 위해 활성화 함수는 사용하지 않는다."
      ]
    },
    {
      "cell_type": "code",
      "execution_count": null,
      "metadata": {
        "id": "YSOvmfzk3MTL"
      },
      "outputs": [],
      "source": [
        "def model(inputs):\n",
        "    return inputs @ W + b"
      ]
    },
    {
      "cell_type": "markdown",
      "metadata": {
        "id": "xTKXHNC13MTL"
      },
      "source": [
        "**4단계: 손실 함수 지정**"
      ]
    },
    {
      "cell_type": "markdown",
      "metadata": {
        "id": "YltXKd2U3MTL"
      },
      "source": [
        "타깃과 예측값 사이의 평균 제곱 오차를 손실값으로 사용한다.\n",
        "아래 식에서 $m$은 배치 데이터셋의 크기를 가리킨다.\n",
        "\n",
        "$$\n",
        "\\frac{1}{m}\\sum (y - \\hat y)^2\n",
        "$$\n",
        "\n",
        "아래 코드에서 `tf.reduce_mean()` 함수는 넘파이의 `np.mean()`처럼\n",
        "평균값을 계산하지만 텐서플로우의 텐서를 대상으로 한다."
      ]
    },
    {
      "cell_type": "code",
      "execution_count": null,
      "metadata": {
        "id": "qt0wyORc3MTL"
      },
      "outputs": [],
      "source": [
        "def square_loss(targets, predictions):\n",
        "    per_sample_losses = tf.square(targets - predictions)\n",
        "    return tf.reduce_mean(per_sample_losses)"
      ]
    },
    {
      "cell_type": "markdown",
      "metadata": {
        "id": "JDyyOtAZ3MTL"
      },
      "source": [
        "**5단계: 훈련 스텝(백워드 패스와 역전파) 지정**"
      ]
    },
    {
      "cell_type": "markdown",
      "metadata": {
        "id": "ysOqNX0F3MTL"
      },
      "source": [
        "하나의 배치에 대해 예측값을 계산한 후에 손실 함수의 그레이디언트를\n",
        "계산한 후에 가중치와 편향을 업데이트하는 함수를 선언한다.\n",
        "그레이디언트 계산은 그레이디언트 테이프를 이용한다.\n",
        "\n",
        "아래 `training_step()` 함수가 백워드 패스와 역전파를 수행하는 옵티마이저\n",
        "역할을 담당한다."
      ]
    },
    {
      "cell_type": "code",
      "execution_count": null,
      "metadata": {
        "id": "vkZgu7cu3MTM"
      },
      "outputs": [],
      "source": [
        "learning_rate = 0.1\n",
        "\n",
        "def training_step(inputs, targets):\n",
        "    with tf.GradientTape() as tape:\n",
        "        predictions = model(inputs)\n",
        "        loss = square_loss(targets, predictions)\n",
        "    grad_loss_wrt_W, grad_loss_wrt_b = tape.gradient(loss, [W, b])\n",
        "    W.assign_sub(grad_loss_wrt_W * learning_rate)\n",
        "    b.assign_sub(grad_loss_wrt_b * learning_rate)\n",
        "    return loss"
      ]
    },
    {
      "cell_type": "markdown",
      "metadata": {
        "id": "knMi10Uq3MTM"
      },
      "source": [
        "**6단계: 훈련 루프 지정**"
      ]
    },
    {
      "cell_type": "markdown",
      "metadata": {
        "id": "VxuTTa653MTM"
      },
      "source": [
        "반복해서 훈련한 내용을 지정한다.\n",
        "여기서는 설명을 간단하게 하기 위해 미니 배치가 아닌 배치 훈련을 구현한다.\n",
        "전체 훈련셋을 총 40번 반복 학습할 때마다 손실값을 출력하도록 한다."
      ]
    },
    {
      "cell_type": "code",
      "execution_count": null,
      "metadata": {
        "colab": {
          "base_uri": "https://localhost:8080/"
        },
        "id": "K4wUxxEc3MTM",
        "outputId": "31aabc84-0a3d-40ea-8e87-5ea666304761"
      },
      "outputs": [
        {
          "output_type": "stream",
          "name": "stdout",
          "text": [
            "Loss at step 0: 3.3151\n",
            "Loss at step 1: 0.5081\n",
            "Loss at step 2: 0.1839\n",
            "Loss at step 3: 0.1304\n",
            "Loss at step 4: 0.1158\n",
            "Loss at step 5: 0.1074\n",
            "Loss at step 6: 0.1003\n",
            "Loss at step 7: 0.0940\n",
            "Loss at step 8: 0.0882\n",
            "Loss at step 9: 0.0829\n",
            "Loss at step 10: 0.0780\n",
            "Loss at step 11: 0.0736\n",
            "Loss at step 12: 0.0696\n",
            "Loss at step 13: 0.0659\n",
            "Loss at step 14: 0.0625\n",
            "Loss at step 15: 0.0594\n",
            "Loss at step 16: 0.0565\n",
            "Loss at step 17: 0.0539\n",
            "Loss at step 18: 0.0516\n",
            "Loss at step 19: 0.0494\n",
            "Loss at step 20: 0.0474\n",
            "Loss at step 21: 0.0456\n",
            "Loss at step 22: 0.0439\n",
            "Loss at step 23: 0.0424\n",
            "Loss at step 24: 0.0410\n",
            "Loss at step 25: 0.0398\n",
            "Loss at step 26: 0.0386\n",
            "Loss at step 27: 0.0375\n",
            "Loss at step 28: 0.0366\n",
            "Loss at step 29: 0.0357\n",
            "Loss at step 30: 0.0349\n",
            "Loss at step 31: 0.0341\n",
            "Loss at step 32: 0.0335\n",
            "Loss at step 33: 0.0328\n",
            "Loss at step 34: 0.0323\n",
            "Loss at step 35: 0.0317\n",
            "Loss at step 36: 0.0313\n",
            "Loss at step 37: 0.0308\n",
            "Loss at step 38: 0.0304\n",
            "Loss at step 39: 0.0301\n"
          ]
        }
      ],
      "source": [
        "for step in range(40):\n",
        "    loss = training_step(inputs, targets)\n",
        "    print(f\"Loss at step {step}: {loss:.4f}\")"
      ]
    },
    {
      "cell_type": "markdown",
      "metadata": {
        "id": "2InqUHf23MTM"
      },
      "source": [
        "훈련상태를 보면 여전히 개선의 여지가 보인다. 따라서 학습을 좀 더 시켜본다."
      ]
    },
    {
      "cell_type": "code",
      "execution_count": null,
      "metadata": {
        "colab": {
          "base_uri": "https://localhost:8080/"
        },
        "id": "ymKTmAVg3MTM",
        "outputId": "1ddda452-df5e-42bc-e175-2c50f408b77c"
      },
      "outputs": [
        {
          "output_type": "stream",
          "name": "stdout",
          "text": [
            "Loss at step 0: 0.0297\n",
            "Loss at step 10: 0.0276\n",
            "Loss at step 20: 0.0268\n",
            "Loss at step 30: 0.0264\n",
            "Loss at step 40: 0.0263\n",
            "Loss at step 50: 0.0262\n",
            "Loss at step 60: 0.0262\n",
            "Loss at step 70: 0.0262\n",
            "Loss at step 80: 0.0262\n",
            "Loss at step 90: 0.0262\n"
          ]
        }
      ],
      "source": [
        "for step in range(100):\n",
        "    loss = training_step(inputs, targets)\n",
        "    if step % 10 == 0:\n",
        "        print(f\"Loss at step {step}: {loss:.4f}\")"
      ]
    },
    {
      "cell_type": "markdown",
      "metadata": {
        "id": "_KRE-NCq3MTM"
      },
      "source": [
        "**7단계: 결정경계 예측**"
      ]
    },
    {
      "cell_type": "code",
      "execution_count": null,
      "metadata": {
        "id": "QYzRUYxU3MTM"
      },
      "outputs": [],
      "source": [
        "predictions = model(inputs)"
      ]
    },
    {
      "cell_type": "markdown",
      "metadata": {
        "id": "FGWrmVLx3MTM"
      },
      "source": [
        "모델의 예측값이 0.5보다 클 때 양성으로 판정하는 것이 좋은데\n",
        "이유는 샘플들의 레이블이 0 또는 1이기 때문이다.\n",
        "모델은 훈련과정 중에 음성 샘플은 최대한 0에,\n",
        "양성 샘플은 최대한 1에 가까운 값으로 예측하여 손실값을 최대한 줄여야 하는데\n",
        "옵티마이저가 그렇게 유도한다.\n",
        "따라서 예측값이 0과 1의 중간값인 0.5일 때를 결정경계로 사용한다.\n",
        "\n",
        "아래 코드는 예측 결과를 산점도로 보여준다.\n",
        "거의 모든 샘플에 대해 원래의 레이블과 동일한 예측값을 계산함을 알 수 있다."
      ]
    },
    {
      "cell_type": "code",
      "execution_count": null,
      "metadata": {
        "colab": {
          "base_uri": "https://localhost:8080/",
          "height": 430
        },
        "id": "CD5uY2kP3MTN",
        "outputId": "da829d23-87e2-4575-8797-08a08745f55d"
      },
      "outputs": [
        {
          "output_type": "display_data",
          "data": {
            "text/plain": [
              "<Figure size 640x480 with 1 Axes>"
            ],
            "image/png": "[encoded data removed]"
          },
          "metadata": {}
        }
      ],
      "source": [
        "plt.scatter(inputs[:, 0], inputs[:, 1], c=predictions[:, 0] > 0.5)\n",
        "plt.show()"
      ]
    },
    {
      "cell_type": "markdown",
      "metadata": {
        "id": "Pj9zwqKO3MTN"
      },
      "source": [
        "결정경계를 직선으로 그리려면 아래 식을 이용한다.\n",
        "\n",
        "```python\n",
        "y = - W[0] /  W[1] * x + (0.5 - b) / W[1]\n",
        "```\n",
        "\n",
        "이유는 위 모델의 예측값이 다음과 같이 계산되며,\n",
        "\n",
        "```python\n",
        "W[0]*x + W[1]*y + b\n",
        "```\n",
        "\n",
        "위 예측값이 0.5보다 큰지 여부에 따라 음성, 양성이 판단되기 때문이다."
      ]
    },
    {
      "cell_type": "code",
      "execution_count": null,
      "metadata": {
        "colab": {
          "base_uri": "https://localhost:8080/",
          "height": 449
        },
        "id": "l4ymdFGT3MTN",
        "outputId": "1b533b37-21fb-408a-bb92-5ad6b85dc88b"
      },
      "outputs": [
        {
          "output_type": "execute_result",
          "data": {
            "text/plain": [
              "<matplotlib.collections.PathCollection at 0x7914f15d9060>"
            ]
          },
          "metadata": {},
          "execution_count": 36
        },
        {
          "output_type": "display_data",
          "data": {
            "text/plain": [
              "<Figure size 640x480 with 1 Axes>"
            ],
            "image/png": "[encoded data removed]"
          },
          "metadata": {}
        }
      ],
      "source": [
        "x = np.linspace(-2.5, 6, 150)\n",
        "y = - W[0] /  W[1] * x + (0.5 - b) / W[1]\n",
        "\n",
        "plt.plot(x, y, \"-r\")\n",
        "plt.scatter(inputs[:, 0], inputs[:, 1], c=predictions[:, 0] > 0.5)"
      ]
    },
    {
      "cell_type": "markdown",
      "metadata": {
        "id": "zMRmlKOj3MTN"
      },
      "source": [
        "## 케라스 신경망 모델의 핵심 API"
      ]
    },
    {
      "cell_type": "markdown",
      "metadata": {
        "id": "FdiQWlPJ3MTO"
      },
      "source": [
        "### 층"
      ]
    },
    {
      "cell_type": "markdown",
      "metadata": {
        "id": "Ok4fVRn73MTO"
      },
      "source": [
        "**`Dense` 클래스 직접 구현하기**"
      ]
    },
    {
      "cell_type": "markdown",
      "metadata": {
        "id": "UKtpzohg3MTO"
      },
      "source": [
        "`Dense` 클래스와 유사하게 작동하는 클래스를 직접 정의하려면\n",
        "상속해야 하는 `keras.layers.Layer` 클래스의 `__call()__` 메서드에 의해 호출되는\n",
        "`build()` 메서드와 `call()` 메서드를 구현해야 한다.\n",
        "아래 `SimpleDense` 클래스가 `Dense` 클래스의 기능을 단순화하여 구현한다."
      ]
    },
    {
      "cell_type": "code",
      "execution_count": null,
      "metadata": {
        "id": "mHjearob3MTO"
      },
      "outputs": [],
      "source": [
        "from tensorflow import keras\n",
        "\n",
        "class SimpleDense(keras.layers.Layer):\n",
        "\n",
        "    def __init__(self, units, activation=None):\n",
        "        super().__init__()\n",
        "        self.units = units\n",
        "        self.activation = activation\n",
        "\n",
        "    def build(self, input_shape):\n",
        "        input_dim = input_shape[-1]   # 입력 샘플의 특성 수\n",
        "        self.W = self.add_weight(shape=(input_dim, self.units),\n",
        "                                 initializer=\"random_normal\")\n",
        "        self.b = self.add_weight(shape=(self.units,),\n",
        "                                 initializer=\"zeros\")\n",
        "\n",
        "    def call(self, inputs):\n",
        "        y = tf.matmul(inputs, self.W) + self.b\n",
        "        if self.activation is not None:\n",
        "            y = self.activation(y)\n",
        "        return y"
      ]
    },
    {
      "cell_type": "markdown",
      "metadata": {
        "id": "67EsoEdL3MTO"
      },
      "source": [
        "**Example (`SimpleDense` 층의 데이터 변환)**"
      ]
    },
    {
      "cell_type": "markdown",
      "metadata": {
        "id": "3P2zkId53MTP"
      },
      "source": [
        "- 모델 구성: 생성자에 의해 출력 샘플의 특성수와 활성화 함수 지정.\n",
        "    - 입력 데이터셋 샘플의 특성수는 지정할 필요 없음."
      ]
    },
    {
      "cell_type": "code",
      "execution_count": null,
      "metadata": {
        "id": "yNMcflq43MTP"
      },
      "outputs": [],
      "source": [
        "my_dense = SimpleDense(units=32, activation=tf.nn.relu)"
      ]
    },
    {
      "cell_type": "markdown",
      "metadata": {
        "id": "gMjS-p5s3MTP"
      },
      "source": [
        "- 입력 데이터셋 지정: 입력 샘플 하나의 특성수는 784. 샘플 수는 128 개."
      ]
    },
    {
      "cell_type": "code",
      "execution_count": null,
      "metadata": {
        "id": "9klaNjsE3MTP"
      },
      "outputs": [],
      "source": [
        "input_tensor = tf.ones(shape=(128, 784))"
      ]
    },
    {
      "cell_type": "markdown",
      "metadata": {
        "id": "drGTNL9P3MTP"
      },
      "source": [
        "출력값 생성: `__call__()` 메서드를  실행하면 다음 사항들이 연속적으로 처리된다.\n",
        "\n",
        "- 가중치 텐서와 와 편향 텐서가 생성되지 않은 경우\n",
        "    - 가중치 텐서 `W` 생성 및 초기화: `(784, 32)`\n",
        "    - 편향 텐서 `b` 생성 및 초기화: `(32, )`\n",
        "- 생성된 가중치와 편향을 이용하여 출력값 계산(아핀 변환 및 활성화 함수 적용)"
      ]
    },
    {
      "cell_type": "code",
      "execution_count": null,
      "metadata": {
        "colab": {
          "base_uri": "https://localhost:8080/"
        },
        "id": "oHNXYr-S3MTP",
        "outputId": "369e98f0-ab3d-42ca-9ec8-f0ca4fce254b"
      },
      "outputs": [
        {
          "output_type": "stream",
          "name": "stdout",
          "text": [
            "(128, 32)\n"
          ]
        }
      ],
      "source": [
        "output_tensor = my_dense(input_tensor)\n",
        "\n",
        "print(output_tensor.shape)"
      ]
    },
    {
      "cell_type": "markdown",
      "metadata": {
        "id": "jGUFehOY3MTP"
      },
      "source": [
        "### 모델"
      ]
    },
    {
      "cell_type": "markdown",
      "metadata": {
        "id": "OChs9hXr3MTP"
      },
      "source": [
        "**모델 컴파일**"
      ]
    },
    {
      "cell_type": "markdown",
      "metadata": {
        "id": "JwfeVOB53MTP"
      },
      "source": [
        "모델의 훈련을 위해서 먼저 다음 세 가지 설정을 추가로 지정해야 한다.\n",
        "\n",
        "- 손실 함수: 훈련 중 모델의 성능이 얼마나 나쁜지 측정.\n",
        "    미분가능한 함수이어야 하며 옵티마이저가 역전파를 통해\n",
        "    모델의 성능을 향상시키는 방향으로 모델의 가중치를 업데이트할 때\n",
        "    참고하는 함수임.\n",
        "- 옵티마이저: 백워드 패스와 역전파를 담당하는 알고리즘\n",
        "- 평가지표: 훈련과 테스트 과정을 모니터링 할 때 사용되는 모델 평가 지표.\n",
        "    옵티마이저와 손실함수와는 달리 훈련에 관여하지 않으면서\n",
        "    모델 성능 평가에 사용됨."
      ]
    },
    {
      "cell_type": "code",
      "execution_count": null,
      "metadata": {
        "id": "L5PxNWso3MTP"
      },
      "outputs": [],
      "source": [
        "model = keras.Sequential([keras.layers.Dense(1)])"
      ]
    },
    {
      "cell_type": "code",
      "execution_count": null,
      "metadata": {
        "id": "s5DhmnnJ3MTP"
      },
      "outputs": [],
      "source": [
        "model.compile(optimizer=\"rmsprop\",\n",
        "              loss=\"mean_squared_error\",\n",
        "              metrics=[\"accuracy\"])"
      ]
    },
    {
      "cell_type": "markdown",
      "metadata": {
        "id": "lN-EbeR13MTP"
      },
      "source": [
        "지정된 문자열을 사용하는 대신 파이썬 객체를 직접 작성해도 된다."
      ]
    },
    {
      "cell_type": "code",
      "execution_count": null,
      "metadata": {
        "id": "qCLlGf9A3MTQ"
      },
      "outputs": [],
      "source": [
        "model.compile(optimizer=keras.optimizers.RMSprop(),\n",
        "              loss=keras.losses.MeanSquaredError(),\n",
        "              metrics=[keras.metrics.BinaryAccuracy()])"
      ]
    },
    {
      "cell_type": "markdown",
      "metadata": {
        "id": "Hg8tWVMH3MTQ"
      },
      "source": [
        "### 훈련 루프"
      ]
    },
    {
      "cell_type": "markdown",
      "metadata": {
        "id": "hrnAXUBU3MTQ"
      },
      "source": [
        "모델을 컴파일한 다음에 `fit()` 메서드를 호출하면\n",
        "모델은 스텝과 에포크 단위로 반복되는 **훈련 루프**<font size='2'>training loop</font>를\n",
        "지정된 횟수만큼 또는 학습이 충분히 이루어졌다는 평가가 내려질 때까지\n",
        "반복하는 훈련을 시작한다."
      ]
    },
    {
      "cell_type": "markdown",
      "metadata": {
        "id": "4kqMLXB23MTQ"
      },
      "source": [
        "**모델 훈련**"
      ]
    },
    {
      "cell_type": "code",
      "execution_count": null,
      "metadata": {
        "colab": {
          "base_uri": "https://localhost:8080/"
        },
        "id": "uWYSGSPf3MTQ",
        "outputId": "5f8ef6e8-5d7d-451d-ada2-d6b89f105aa4"
      },
      "outputs": [
        {
          "output_type": "stream",
          "name": "stdout",
          "text": [
            "Epoch 1/5\n",
            "16/16 [==============================] - 3s 6ms/step - loss: 5.9221 - binary_accuracy: 0.4300\n",
            "Epoch 2/5\n",
            "16/16 [==============================] - 0s 6ms/step - loss: 5.6087 - binary_accuracy: 0.4240\n",
            "Epoch 3/5\n",
            "16/16 [==============================] - 0s 6ms/step - loss: 5.3497 - binary_accuracy: 0.4195\n",
            "Epoch 4/5\n",
            "16/16 [==============================] - 0s 8ms/step - loss: 5.1048 - binary_accuracy: 0.4100\n",
            "Epoch 5/5\n",
            "16/16 [==============================] - 0s 4ms/step - loss: 4.8704 - binary_accuracy: 0.4045\n"
          ]
        }
      ],
      "source": [
        "training_history = model.fit(\n",
        "    inputs,\n",
        "    targets,\n",
        "    epochs=5,\n",
        "    batch_size=128\n",
        ")"
      ]
    },
    {
      "cell_type": "markdown",
      "metadata": {
        "id": "W_JI-5Rc3MTQ"
      },
      "source": [
        "**훈련 결과**"
      ]
    },
    {
      "cell_type": "markdown",
      "metadata": {
        "id": "E71icA5H3MTQ"
      },
      "source": [
        "훈련이 종료되면 `fit()` 메서드는 `History` 객체를 반환하며,\n",
        "`history` 속성에 훈련 과정 중에 측정된 손실값, 평가지표를 에포크 단위로 기억한다."
      ]
    },
    {
      "cell_type": "code",
      "execution_count": null,
      "metadata": {
        "colab": {
          "base_uri": "https://localhost:8080/"
        },
        "id": "5x-eBSZn3MTQ",
        "outputId": "32298add-9786-4fca-8c8f-8f375b02beb1"
      },
      "outputs": [
        {
          "output_type": "execute_result",
          "data": {
            "text/plain": [
              "{'loss': [5.922084331512451,\n",
              "  5.608669757843018,\n",
              "  5.349725246429443,\n",
              "  5.104809284210205,\n",
              "  4.870426177978516],\n",
              " 'binary_accuracy': [0.4300000071525574,\n",
              "  0.42399999499320984,\n",
              "  0.4194999933242798,\n",
              "  0.4099999964237213,\n",
              "  0.40450000762939453]}"
            ]
          },
          "metadata": {},
          "execution_count": 45
        }
      ],
      "source": [
        "training_history.history"
      ]
    },
    {
      "cell_type": "markdown",
      "metadata": {
        "id": "G5_E9B2a3MTQ"
      },
      "source": [
        "**검증 데이터 활용**"
      ]
    },
    {
      "cell_type": "markdown",
      "metadata": {
        "id": "UvCq2dRV3MTQ"
      },
      "source": [
        "아래 과정은 훈련 세트와 검증 세트를 수동으로 구분하는 방법을 보여준다."
      ]
    },
    {
      "cell_type": "markdown",
      "metadata": {
        "id": "BSEsWNYq3MTQ"
      },
      "source": [
        "- `np.random.permutation()` 함수는 숫자들을 무작위로 섞는다.\n",
        "    이를 이용하여 훈련세트의 인덱스를 무작위로 섞는다."
      ]
    },
    {
      "cell_type": "code",
      "execution_count": null,
      "metadata": {
        "id": "giDaw6Vf3MTQ"
      },
      "outputs": [],
      "source": [
        "indices_permutation = np.random.permutation(len(inputs))"
      ]
    },
    {
      "cell_type": "markdown",
      "metadata": {
        "id": "GCF2ZpIP3MTQ"
      },
      "source": [
        "- 무작위로 섞인 인덱스를 이용하여 데이터셋으르 재정렬 한다."
      ]
    },
    {
      "cell_type": "code",
      "execution_count": null,
      "metadata": {
        "id": "5TCAKjgG3MTQ"
      },
      "outputs": [],
      "source": [
        "shuffled_inputs = inputs[indices_permutation]\n",
        "shuffled_targets = targets[indices_permutation]"
      ]
    },
    {
      "cell_type": "markdown",
      "metadata": {
        "id": "G3Oweohz3MTQ"
      },
      "source": [
        "- 재정렬된 데이터셋의 30%를 검증 세트로 분류한다."
      ]
    },
    {
      "cell_type": "code",
      "execution_count": null,
      "metadata": {
        "id": "z5mP-XsK3MTR"
      },
      "outputs": [],
      "source": [
        "num_validation_samples = int(0.3 * len(inputs))\n",
        "\n",
        "val_inputs = shuffled_inputs[:num_validation_samples]\n",
        "val_targets = shuffled_targets[:num_validation_samples]"
      ]
    },
    {
      "cell_type": "markdown",
      "metadata": {
        "id": "QBPXVuQy3MTR"
      },
      "source": [
        "- 나머지는 훈련 세트로 지정한다."
      ]
    },
    {
      "cell_type": "code",
      "execution_count": null,
      "metadata": {
        "id": "GV_Dg2-M3MTR"
      },
      "outputs": [],
      "source": [
        "training_inputs = shuffled_inputs[num_validation_samples:]\n",
        "training_targets = shuffled_targets[num_validation_samples:]"
      ]
    },
    {
      "cell_type": "markdown",
      "metadata": {
        "id": "zYwY58wM3MTR"
      },
      "source": [
        "*훈련 중 모델 검증*"
      ]
    },
    {
      "cell_type": "markdown",
      "metadata": {
        "id": "JL075f2Y3MTR"
      },
      "source": [
        "- 훈련 세트를 대상으로 하는 훈련과 검증 세트를 대상으로 하는 평가를 동시에 진행할 수 있다."
      ]
    },
    {
      "cell_type": "code",
      "execution_count": null,
      "metadata": {
        "colab": {
          "base_uri": "https://localhost:8080/"
        },
        "id": "L5Plrxp33MTR",
        "outputId": "68d1a417-9e75-4d95-c811-baae64071087"
      },
      "outputs": [
        {
          "output_type": "stream",
          "name": "stdout",
          "text": [
            "Epoch 1/5\n",
            "88/88 [==============================] - 1s 11ms/step - loss: 4.1222 - binary_accuracy: 0.3886 - val_loss: 3.8512 - val_binary_accuracy: 0.3600\n",
            "Epoch 2/5\n",
            "88/88 [==============================] - 1s 6ms/step - loss: 3.1767 - binary_accuracy: 0.3664 - val_loss: 2.9157 - val_binary_accuracy: 0.3417\n",
            "Epoch 3/5\n",
            "88/88 [==============================] - 1s 7ms/step - loss: 2.3757 - binary_accuracy: 0.3579 - val_loss: 2.1295 - val_binary_accuracy: 0.3433\n",
            "Epoch 4/5\n",
            "88/88 [==============================] - 1s 7ms/step - loss: 1.6883 - binary_accuracy: 0.3686 - val_loss: 1.4642 - val_binary_accuracy: 0.3650\n",
            "Epoch 5/5\n",
            "88/88 [==============================] - 1s 6ms/step - loss: 1.1386 - binary_accuracy: 0.3979 - val_loss: 0.9388 - val_binary_accuracy: 0.3933\n"
          ]
        }
      ],
      "source": [
        "training_history = model.fit(\n",
        "    training_inputs,\n",
        "    training_targets,\n",
        "    epochs=5,\n",
        "    batch_size=16,\n",
        "    validation_data=(val_inputs, val_targets)\n",
        ")"
      ]
    },
    {
      "cell_type": "markdown",
      "metadata": {
        "id": "CHEt0hY03MTR"
      },
      "source": [
        "`History` 객체는 훈련 세트 뿐만 아니라 검증 세트를 대상으로도 손실값과 평가지표를 기억한다."
      ]
    },
    {
      "cell_type": "code",
      "execution_count": null,
      "metadata": {
        "colab": {
          "base_uri": "https://localhost:8080/"
        },
        "id": "-Bz6M9D73MTR",
        "outputId": "c89cebfa-c184-4113-b401-7fcca688b9c1"
      },
      "outputs": [
        {
          "output_type": "execute_result",
          "data": {
            "text/plain": [
              "{'loss': [4.122168064117432,\n",
              "  3.1766552925109863,\n",
              "  2.375697135925293,\n",
              "  1.6883474588394165,\n",
              "  1.1385606527328491],\n",
              " 'binary_accuracy': [0.38857144117355347,\n",
              "  0.36642858386039734,\n",
              "  0.3578571379184723,\n",
              "  0.3685714304447174,\n",
              "  0.397857129573822],\n",
              " 'val_loss': [3.851189374923706,\n",
              "  2.9156718254089355,\n",
              "  2.129538059234619,\n",
              "  1.464228630065918,\n",
              "  0.9387993216514587],\n",
              " 'val_binary_accuracy': [0.36000001430511475,\n",
              "  0.34166666865348816,\n",
              "  0.34333333373069763,\n",
              "  0.36500000953674316,\n",
              "  0.3933333456516266]}"
            ]
          },
          "metadata": {},
          "execution_count": 51
        }
      ],
      "source": [
        "training_history.history"
      ]
    },
    {
      "cell_type": "markdown",
      "metadata": {
        "id": "65_FczOk3MTR"
      },
      "source": [
        "*훈련 후 모델 검증*"
      ]
    },
    {
      "cell_type": "markdown",
      "metadata": {
        "id": "g6JPYczC3MTS"
      },
      "source": [
        "훈련 후에 검증 세트를 이용하여 평가하려면 `evaluate()` 메서드를 이용한다."
      ]
    },
    {
      "cell_type": "code",
      "execution_count": null,
      "metadata": {
        "colab": {
          "base_uri": "https://localhost:8080/"
        },
        "id": "TImidpa83MTS",
        "outputId": "abac7fa2-71cb-47a6-d173-97eba466e351"
      },
      "outputs": [
        {
          "output_type": "stream",
          "name": "stdout",
          "text": [
            "5/5 [==============================] - 0s 10ms/step - loss: 0.9388 - binary_accuracy: 0.3933\n"
          ]
        }
      ],
      "source": [
        "loss_and_metrics = model.evaluate(val_inputs, val_targets, batch_size=128)"
      ]
    },
    {
      "cell_type": "code",
      "execution_count": null,
      "metadata": {
        "colab": {
          "base_uri": "https://localhost:8080/"
        },
        "id": "KVJzAHQT3MTS",
        "outputId": "c6f6c9b2-50de-4024-cc0d-c2fefc206080"
      },
      "outputs": [
        {
          "output_type": "stream",
          "name": "stdout",
          "text": [
            "[0.938799262046814, 0.3933333456516266]\n"
          ]
        }
      ],
      "source": [
        "print(loss_and_metrics)"
      ]
    },
    {
      "cell_type": "markdown",
      "metadata": {
        "id": "Mi43Gd833MTS"
      },
      "source": [
        "### 예측"
      ]
    },
    {
      "cell_type": "markdown",
      "metadata": {
        "id": "Qo7I5y9b3MTS"
      },
      "source": [
        "훈련된 모델을 활용하는 두 가지 방법이 있다."
      ]
    },
    {
      "cell_type": "markdown",
      "metadata": {
        "id": "VLQP1ZXQ3MTS"
      },
      "source": [
        "**모델 적용**"
      ]
    },
    {
      "cell_type": "markdown",
      "metadata": {
        "id": "JptB1tGR3MTS"
      },
      "source": [
        "먼저, `__call__()` 메서드를 활용한다. 즉,\n",
        "데이터셋을 모델과 함께 직접 호출한다."
      ]
    },
    {
      "cell_type": "code",
      "execution_count": null,
      "metadata": {
        "colab": {
          "base_uri": "https://localhost:8080/"
        },
        "id": "TvbxbNIG3MTS",
        "outputId": "22e893c8-32cc-4857-80c7-b27455c84788"
      },
      "outputs": [
        {
          "output_type": "stream",
          "name": "stdout",
          "text": [
            "tf.Tensor(\n",
            "[[-0.35663956]\n",
            " [ 0.13801315]\n",
            " [-0.16640925]\n",
            " [ 0.07597351]\n",
            " [-0.3813156 ]\n",
            " [ 0.03385699]\n",
            " [-0.1531328 ]\n",
            " [-0.38007623]\n",
            " [ 0.04202259]\n",
            " [ 0.1980995 ]], shape=(10, 1), dtype=float32)\n"
          ]
        }
      ],
      "source": [
        "predictions = model(val_inputs)\n",
        "print(predictions[:10])"
      ]
    },
    {
      "cell_type": "markdown",
      "metadata": {
        "id": "DCfQGJ4M3MTS"
      },
      "source": [
        "**`predict()` 메서드**"
      ]
    },
    {
      "cell_type": "markdown",
      "metadata": {
        "id": "bqrcckuQ3MTS"
      },
      "source": [
        "하지만 이 방식은 데이터셋이 매우 크면 적절하지 않을 수 있다.\n",
        "따라서 `predict()` 메서드를 이용하여 배치를 활용하는 것을 추천한다."
      ]
    },
    {
      "cell_type": "code",
      "execution_count": null,
      "metadata": {
        "colab": {
          "base_uri": "https://localhost:8080/"
        },
        "id": "OU7jAwyZ3MTS",
        "outputId": "10e7beca-c38b-405e-b4a6-11d78eacfd28"
      },
      "outputs": [
        {
          "output_type": "stream",
          "name": "stdout",
          "text": [
            "5/5 [==============================] - 0s 4ms/step\n",
            "[[-0.35663956]\n",
            " [ 0.13801315]\n",
            " [-0.16640925]\n",
            " [ 0.07597351]\n",
            " [-0.3813156 ]\n",
            " [ 0.03385699]\n",
            " [-0.1531328 ]\n",
            " [-0.38007623]\n",
            " [ 0.04202259]\n",
            " [ 0.1980995 ]]\n"
          ]
        }
      ],
      "source": [
        "predictions = model.predict(val_inputs, batch_size=128)\n",
        "print(predictions[:10])"
      ]
    }
  ],
  "metadata": {
    "accelerator": "GPU",
    "colab": {
      "gpuType": "T4",
      "provenance": []
    },
    "kernelspec": {
      "display_name": "Python 3 (ipykernel)",
      "language": "python",
      "name": "python3"
    },
    "language_info": {
      "codemirror_mode": {
        "name": "ipython",
        "version": 3
      },
      "file_extension": ".py",
      "mimetype": "text/x-python",
      "name": "python",
      "nbconvert_exporter": "python",
      "pygments_lexer": "ipython3",
      "version": "3.10.9"
    },
    "vscode": {
      "interpreter": {
        "hash": "33b995ba57ec8806df76ad412cbfca6e91844af7e84c0aab5f00a2382a2b11c8"
      }
    }
  },
  "nbformat": 4,
  "nbformat_minor": 0
}