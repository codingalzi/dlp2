{
 "cells": [
  {
   "cell_type": "markdown",
   "id": "2148dfe5",
   "metadata": {},
   "source": [
    "# 신경망의 수학적 구성 요소 (PyTorch)"
   ]
  },
  {
   "cell_type": "markdown",
   "id": "e4870d06",
   "metadata": {},
   "source": [
    "이 노트북은 PyTorch를 사용하여 신경망의 기본 구성 요소를 시연합니다. MNIST 데이터셋을 사용하여 간단한 신경망을 구축하고 훈련합니다."
   ]
  },
  {
   "cell_type": "markdown",
   "id": "a632fa74",
   "metadata": {},
   "source": [
    "## PyTorch와 기타 라이브러리 불러오기"
   ]
  },
  {
   "cell_type": "code",
   "execution_count": 1,
   "id": "6581920f",
   "metadata": {},
   "outputs": [],
   "source": [
    "import torch\n",
    "import torch.nn as nn\n",
    "import torch.optim as optim\n",
    "from torchvision import datasets, transforms\n",
    "from torch.utils.data import DataLoader\n",
    "import numpy as np\n",
    "import matplotlib.pyplot as plt"
   ]
  },
  {
   "cell_type": "markdown",
   "id": "d8ff5a2e",
   "metadata": {},
   "source": [
    "## MNIST 데이터셋 불러오기"
   ]
  },
  {
   "cell_type": "code",
   "execution_count": 2,
   "id": "2b0ab588",
   "metadata": {},
   "outputs": [],
   "source": [
    "# 데이터 전처리 정의\n",
    "transform = transforms.Compose([\n",
    "    transforms.ToTensor(),\n",
    "])\n",
    "\n",
    "# MNIST 데이터셋 다운로드 및 로드\n",
    "train_dataset = datasets.MNIST(root='./data', train=True, download=True, transform=transform)\n",
    "test_dataset = datasets.MNIST(root='./data', train=False, download=True, transform=transform)"
   ]
  },
  {
   "cell_type": "markdown",
   "id": "e163e9a5",
   "metadata": {},
   "source": [
    "- 훈련셋과 테스트셋에 각각 6만개와 1만개의 샘플과 타깃이 포함됨."
   ]
  },
  {
   "cell_type": "code",
   "execution_count": 3,
   "id": "59d9d602",
   "metadata": {},
   "outputs": [
    {
     "name": "stdout",
     "output_type": "stream",
     "text": [
      "학습 데이터셋 크기: 60000\n",
      "테스트 데이터셋 크기: 10000\n"
     ]
    }
   ],
   "source": [
    "print(f\"학습 데이터셋 크기: {len(train_dataset)}\")\n",
    "print(f\"테스트 데이터셋 크기: {len(test_dataset)}\")"
   ]
  },
  {
   "cell_type": "markdown",
   "id": "a096423c",
   "metadata": {},
   "source": [
    "- 픽셀값이 이미 0과 1 사의 부동소수점으로 변환되었음."
   ]
  },
  {
   "cell_type": "code",
   "execution_count": 4,
   "id": "a89abb3a",
   "metadata": {},
   "outputs": [
    {
     "name": "stdout",
     "output_type": "stream",
     "text": [
      "Image shape: torch.Size([1, 28, 28]), Label: 5\n",
      "Image max value: 1.0, min value: 0.0\n"
     ]
    }
   ],
   "source": [
    "# train_dataset의 첫 번째 항목 확인\n",
    "image, label = train_dataset[0]\n",
    "print(f\"Image shape: {image.shape}, Label: {label}\")\n",
    "print(f\"Image max value: {image.max()}, min value: {image.min()}\")\n"
   ]
  },
  {
   "cell_type": "markdown",
   "id": "1433ff0c",
   "metadata": {},
   "source": [
    "- 훈련셋 첫째 샘플 내용 확인"
   ]
  },
  {
   "cell_type": "code",
   "execution_count": 5,
   "id": "e49bc818",
   "metadata": {},
   "outputs": [
    {
     "name": "stdout",
     "output_type": "stream",
     "text": [
      "Image Tensor Shape: torch.Size([1, 28, 28])\n",
      "Image Tensor Type: torch.float32\n",
      "Label: 5\n"
     ]
    },
    {
     "data": {
      "image/png": "[encoded data removed]",
      "text/plain": [
       "<Figure size 640x480 with 1 Axes>"
      ]
     },
     "metadata": {},
     "output_type": "display_data"
    }
   ],
   "source": [
    "# train_dataset의 첫 번째 항목 확인\n",
    "image, label = train_dataset[0]\n",
    "\n",
    "# 이미지 텐서의 정보 출력\n",
    "print(\"Image Tensor Shape:\", image.shape)\n",
    "print(\"Image Tensor Type:\", image.dtype)\n",
    "print(\"Label:\", label)\n",
    "\n",
    "# 이미지 시각화\n",
    "plt.imshow(image.squeeze(), cmap='gray')\n",
    "plt.title(f'Label: {label}')\n",
    "plt.show()"
   ]
  },
  {
   "cell_type": "markdown",
   "id": "4aa9f8b3",
   "metadata": {},
   "source": [
    "DataLoader 객체 생성: \n",
    "- 데이터셋(Dataset)을 모델에 효율적으로 공급하기 위한 핵심 유틸리티\n",
    "- Dataset이 전체 데이터를 보관하는 창고라면, DataLoader는 그 창고에서 물건(데이터)을 꺼내 컨베이어 벨트(학습 루프)에 올려주는 역할 수행"
   ]
  },
  {
   "cell_type": "code",
   "execution_count": 6,
   "id": "22e5f1a1",
   "metadata": {},
   "outputs": [],
   "source": [
    "# 데이터 로더 생성\n",
    "train_loader = DataLoader(dataset=train_dataset, batch_size=128, shuffle=True)\n",
    "test_loader = DataLoader(dataset=test_dataset, batch_size=1000, shuffle=False)"
   ]
  },
  {
   "cell_type": "markdown",
   "id": "565c92f6",
   "metadata": {},
   "source": [
    "## 모델 선언"
   ]
  },
  {
   "cell_type": "markdown",
   "id": "c9426309",
   "metadata": {},
   "source": [
    "- 2개의 Dense 층으로 구성된 모델 구성\n",
    "- 손실함수, 옵티마이저 지정"
   ]
  },
  {
   "cell_type": "code",
   "execution_count": 7,
   "id": "7c5365f9",
   "metadata": {},
   "outputs": [
    {
     "name": "stdout",
     "output_type": "stream",
     "text": [
      "Device: cuda\n",
      "신경망 모델 정의 완료:\n",
      "SimpleNN(\n",
      "  (fc1): Linear(in_features=784, out_features=512, bias=True)\n",
      "  (fc2): Linear(in_features=512, out_features=10, bias=True)\n",
      "  (relu): ReLU()\n",
      "  (softmax): LogSoftmax(dim=1)\n",
      ")\n"
     ]
    }
   ],
   "source": [
    "class SimpleNN(nn.Module):\n",
    "    def __init__(self):\n",
    "        super(SimpleNN, self).__init__()\n",
    "        self.fc1 = nn.Linear(28 * 28, 512)\n",
    "        self.fc2 = nn.Linear(512, 10)\n",
    "        self.relu = nn.ReLU()\n",
    "        self.softmax = nn.LogSoftmax(dim=1)\n",
    "\n",
    "    def forward(self, x):\n",
    "        x = x.view(-1, 28 * 28)\n",
    "        x = self.relu(self.fc1(x))\n",
    "        x = self.softmax(self.fc2(x))\n",
    "        return x\n",
    "\n",
    "# 장치 설정: CPU 또는 GPU\n",
    "device = torch.device('cuda' if torch.cuda.is_available() else 'cpu')\n",
    "model = SimpleNN().to(device)\n",
    "\n",
    "print(f\"Device: {device}\")\n",
    "print(\"신경망 모델 정의 완료:\")\n",
    "print(model)"
   ]
  },
  {
   "cell_type": "markdown",
   "id": "cbf5b039",
   "metadata": {},
   "source": [
    "- 손실함수와 옵티마이저 지정"
   ]
  },
  {
   "cell_type": "code",
   "execution_count": 8,
   "id": "b19194da",
   "metadata": {},
   "outputs": [
    {
     "name": "stdout",
     "output_type": "stream",
     "text": [
      "손실 함수: CrossEntropyLoss()\n",
      "옵티마이저: Adam (\n",
      "Parameter Group 0\n",
      "    amsgrad: False\n",
      "    betas: (0.9, 0.999)\n",
      "    capturable: False\n",
      "    decoupled_weight_decay: False\n",
      "    differentiable: False\n",
      "    eps: 1e-08\n",
      "    foreach: None\n",
      "    fused: None\n",
      "    lr: 0.001\n",
      "    maximize: False\n",
      "    weight_decay: 0\n",
      ")\n"
     ]
    }
   ],
   "source": [
    "criterion = nn.CrossEntropyLoss()\n",
    "optimizer = optim.Adam(model.parameters(), lr=0.001)\n",
    "\n",
    "print(f\"손실 함수: {criterion}\")\n",
    "print(f\"옵티마이저: {optimizer}\")"
   ]
  },
  {
   "cell_type": "markdown",
   "id": "14c5a08a",
   "metadata": {},
   "source": [
    "## 모델 훈련"
   ]
  },
  {
   "cell_type": "markdown",
   "id": "ce3540d0",
   "metadata": {},
   "source": [
    "- 에포크: 5\n",
    "- 옵티마이저 초기화, 순전파, 역전파 및 가중치 업데이트 지정"
   ]
  },
  {
   "cell_type": "code",
   "execution_count": 9,
   "id": "d0a104de",
   "metadata": {},
   "outputs": [
    {
     "name": "stdout",
     "output_type": "stream",
     "text": [
      "Epoch 1/5 - 훈련 손실: 0.3200, 훈련 정확도: 91.02%\n",
      "Epoch 2/5 - 훈련 손실: 0.1282, 훈련 정확도: 96.35%\n",
      "Epoch 3/5 - 훈련 손실: 0.0843, 훈련 정확도: 97.54%\n",
      "Epoch 4/5 - 훈련 손실: 0.0597, 훈련 정확도: 98.23%\n",
      "Epoch 5/5 - 훈련 손실: 0.0451, 훈련 정확도: 98.65%\n",
      "\n",
      "모델 훈련 완료.\n"
     ]
    }
   ],
   "source": [
    "epochs = 5\n",
    "for epoch in range(epochs):\n",
    "    running_loss = 0\n",
    "    correct_count, all_count = 0, 0\n",
    "    \n",
    "    model.train() # 모델을 훈련 모드로 설정\n",
    "    \n",
    "    for images, labels in train_loader:\n",
    "        # 데이터를 설정된 장치로 이동\n",
    "        images, labels = images.to(device), labels.to(device)\n",
    "\n",
    "        # 옵티마이저 그레이디언트 초기화\n",
    "        optimizer.zero_grad()\n",
    "        \n",
    "        # 순전파\n",
    "        output = model(images)\n",
    "        loss = criterion(output, labels)\n",
    "        \n",
    "        # 역전파\n",
    "        loss.backward()\n",
    "        # 옵티마이저 가중치 업데이트\n",
    "        optimizer.step()\n",
    "        \n",
    "        running_loss += loss.item()\n",
    "        \n",
    "        # 정확도 계산\n",
    "        _, predicted = torch.max(output.data, 1)\n",
    "        all_count += labels.size(0)\n",
    "        correct_count += (predicted == labels).sum().item()\n",
    "\n",
    "    # 에포크 종료 시 손실값과 정확도 출력\n",
    "    train_accuracy = (correct_count / all_count) * 100\n",
    "    print(f\"Epoch {epoch+1}/{epochs} - 훈련 손실: {running_loss/len(train_loader):.4f}, 훈련 정확도: {train_accuracy:.2f}%\")\n",
    "\n",
    "print(\"\\n모델 훈련 완료.\")"
   ]
  },
  {
   "cell_type": "markdown",
   "id": "551321f5",
   "metadata": {},
   "source": [
    "- 테스트셋을 이용하여 훈련된 모델 평가"
   ]
  },
  {
   "cell_type": "code",
   "execution_count": 10,
   "id": "535b3dc3",
   "metadata": {},
   "outputs": [
    {
     "name": "stdout",
     "output_type": "stream",
     "text": [
      "전체 테스트 이미지 수: 10000\n",
      "정확도: 97.86%\n"
     ]
    }
   ],
   "source": [
    "correct_count, all_count = 0, 0\n",
    "model.eval() # 모델을 평가 모드로 설정\n",
    "\n",
    "with torch.no_grad(): # 그래디언트 계산 비활성화\n",
    "    for images, labels in test_loader:\n",
    "        # 데이터를 설정된 장치로 이동\n",
    "        images, labels = images.to(device), labels.to(device)\n",
    "        \n",
    "        # 순전파\n",
    "        outputs = model(images)\n",
    "        \n",
    "        # 예측\n",
    "        _, predicted = torch.max(outputs.data, 1)\n",
    "        \n",
    "        # 정확도 계산\n",
    "        all_count += labels.size(0)\n",
    "        correct_count += (predicted == labels).sum().item()\n",
    "\n",
    "print(f\"전체 테스트 이미지 수: {all_count}\")\n",
    "print(f\"정확도: {(correct_count/all_count)*100:.2f}%\")"
   ]
  },
  {
   "cell_type": "code",
   "execution_count": 11,
   "id": "50a555f7",
   "metadata": {},
   "outputs": [
    {
     "data": {
      "image/png": "[encoded data removed]",
      "text/plain": [
       "<Figure size 1200x500 with 10 Axes>"
      ]
     },
     "metadata": {},
     "output_type": "display_data"
    }
   ],
   "source": [
    "# 테스트 데이터셋에서 이미지 몇 개 가져오기\n",
    "dataiter = iter(test_loader)\n",
    "images, labels = next(dataiter)\n",
    "\n",
    "# 예측을 위해 이미지를 모델과 동일한 장치로 이동\n",
    "images_on_device = images.to(device)\n",
    "\n",
    "# 예측 수행\n",
    "with torch.no_grad():\n",
    "    outputs = model(images_on_device)\n",
    "\n",
    "# 시각화를 위해 CPU로 다시 이동\n",
    "outputs = outputs.to('cpu')\n",
    "\n",
    "# 예측 결과 및 실제 레이블 시각화\n",
    "fig, axes = plt.subplots(2, 5, figsize=(12, 5))\n",
    "for i, ax in enumerate(axes.flat):\n",
    "    # 이미지 표시 (원본 CPU 텐서 사용)\n",
    "    ax.imshow(images[i].numpy().squeeze(), cmap='gray')\n",
    "    \n",
    "    # 예측 레이블 찾기\n",
    "    _, predicted = torch.max(outputs[i], 0)\n",
    "    \n",
    "    # 제목 설정\n",
    "    ax.set_title(f\"Pred: {predicted.item()}\\nTrue: {labels[i].item()}\")\n",
    "    \n",
    "    # 축 정보 숨기기\n",
    "    ax.axis('off')\n",
    "\n",
    "plt.tight_layout()\n",
    "plt.show()"
   ]
  }
 ],
 "metadata": {
  "kernelspec": {
   "display_name": "dlp-gpu-latest",
   "language": "python",
   "name": "python3"
  },
  "language_info": {
   "codemirror_mode": {
    "name": "ipython",
    "version": 3
   },
   "file_extension": ".py",
   "mimetype": "text/x-python",
   "name": "python",
   "nbconvert_exporter": "python",
   "pygments_lexer": "ipython3",
   "version": "3.11.13"
  }
 },
 "nbformat": 4,
 "nbformat_minor": 5
}
