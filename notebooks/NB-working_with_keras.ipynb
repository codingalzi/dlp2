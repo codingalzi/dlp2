{
 "cells": [
  {
   "cell_type": "markdown",
   "metadata": {
    "colab_type": "text"
   },
   "source": [
    "# 7장 케라스 모델 고급 활용법"
   ]
  },
  {
   "cell_type": "markdown",
   "metadata": {
    "colab_type": "text"
   },
   "source": [
    "**감사말**\n",
    "\n",
    "프랑소와 숄레의 [Deep Learning with Python, Second Edition](https://www.manning.com/books/deep-learning-with-python-second-edition?a_aid=keras&a_bid=76564dff) 7장에 사용된 코드에 대한 설명을 담고 있으며 텐서플로우 2.6 버전 이상에서 작성되었습니다. 소스코드를 공개한 저자에게 감사드립니다."
   ]
  },
  {
   "cell_type": "markdown",
   "metadata": {},
   "source": [
    "**구글 코랩 설정**\n",
    "\n",
    "'런타임 -> 런타임 유형 변경' 메뉴에서 GPU를 지정한다.\n",
    "TensorFlow 버전을 확인하려면 아래 명령문을 실행한다."
   ]
  },
  {
   "cell_type": "code",
   "execution_count": 1,
   "metadata": {},
   "outputs": [
    {
     "data": {
      "text/plain": [
       "'2.13.1'"
      ]
     },
     "execution_count": 1,
     "metadata": {},
     "output_type": "execute_result"
    }
   ],
   "source": [
    "import tensorflow as tf\n",
    "tf.__version__"
   ]
  },
  {
   "cell_type": "markdown",
   "metadata": {},
   "source": [
    "TensorFlow가 GPU를 사용하는지 여부를 확인하려면 아래 명령문을 실행한다.\n",
    "아래와 같은 결과가 나오면 GPU가 제대로 지원됨을 의미한다.\n",
    "\n",
    "```\n",
    "[PhysicalDevice(name='/physical_device:GPU:0', device_type='GPU')]\n",
    "```"
   ]
  },
  {
   "cell_type": "code",
   "execution_count": 2,
   "metadata": {},
   "outputs": [
    {
     "data": {
      "text/plain": [
       "[PhysicalDevice(name='/physical_device:GPU:0', device_type='GPU')]"
      ]
     },
     "execution_count": 2,
     "metadata": {},
     "output_type": "execute_result"
    }
   ],
   "source": [
    "tf.config.list_physical_devices('GPU')"
   ]
  },
  {
   "cell_type": "markdown",
   "metadata": {},
   "source": [
    "**참고**\n",
    "\n",
    "아래 코드에 대한 자세한 설명은\n",
    "[머신러닝 모델 고급 활용법](https://codingalzi.github.io/dlp2/working_with_keras.html)를 \n",
    "참고한다."
   ]
  },
  {
   "cell_type": "markdown",
   "metadata": {
    "colab_type": "text"
   },
   "source": [
    "## 7.1 케라스 활용"
   ]
  },
  {
   "cell_type": "markdown",
   "metadata": {
    "colab_type": "text"
   },
   "source": [
    "## 7.2 케라스 모델 구성법"
   ]
  },
  {
   "cell_type": "markdown",
   "metadata": {
    "colab_type": "text"
   },
   "source": [
    "### 7.2.1. 모델 구성법 1: `Sequential` 모델"
   ]
  },
  {
   "cell_type": "markdown",
   "metadata": {
    "colab_type": "text"
   },
   "source": [
    "**`Sequential` 클래스**"
   ]
  },
  {
   "cell_type": "code",
   "execution_count": 3,
   "metadata": {
    "colab_type": "code"
   },
   "outputs": [],
   "source": [
    "from tensorflow import keras\n",
    "from tensorflow.keras import layers\n",
    "\n",
    "model = keras.Sequential([\n",
    "    layers.Dense(64, activation=\"relu\"),\n",
    "    layers.Dense(10, activation=\"softmax\")\n",
    "])"
   ]
  },
  {
   "cell_type": "markdown",
   "metadata": {
    "colab_type": "text"
   },
   "source": [
    "층의 추가는 `add` 메서드를 이용할 수도 있다.\n",
    "아래 코드는 앞서 정의한 모델과 동일한 모델을 구성한다."
   ]
  },
  {
   "cell_type": "code",
   "execution_count": 4,
   "metadata": {
    "colab_type": "code"
   },
   "outputs": [],
   "source": [
    "model = keras.Sequential()\n",
    "model.add(layers.Dense(64, activation=\"relu\"))\n",
    "model.add(layers.Dense(10, activation=\"softmax\"))"
   ]
  },
  {
   "cell_type": "markdown",
   "metadata": {},
   "source": [
    "**모델의 가중치와 `build()` 메서드**"
   ]
  },
  {
   "cell_type": "markdown",
   "metadata": {
    "colab_type": "text"
   },
   "source": [
    "입력값 대신 `build()` 메서드를 특성 수 정보를 이용하여 직접 호출하면\n",
    "가중치 텐서가 무작위로 초기화된 형식으로 생성된다.\n",
    "즉, **모델 빌드**가 완성된다.\n",
    "\n",
    "- `input_shape` 키워드 인자: `(None, 특성수)`\n",
    "- `None`은 임의의 크기의 배치도 다룰 수 있다는 것을 의미함."
   ]
  },
  {
   "cell_type": "code",
   "execution_count": 5,
   "metadata": {
    "colab_type": "code"
   },
   "outputs": [],
   "source": [
    "model.build(input_shape=(None, 3))"
   ]
  },
  {
   "cell_type": "markdown",
   "metadata": {},
   "source": [
    "**층별 가중치 텐서**"
   ]
  },
  {
   "cell_type": "markdown",
   "metadata": {},
   "source": [
    "모델 빌드가 완성되면 `weights` 속성에 생성된 모델 훈련에 필요한 모든 가중치와 편향이 저장된다.\n",
    "위 모델에 대해서 층별로 가중치와 편향 텐서 하나씩 총 4 개의 텐서가 생성된다."
   ]
  },
  {
   "cell_type": "code",
   "execution_count": 6,
   "metadata": {
    "colab_type": "code"
   },
   "outputs": [
    {
     "data": {
      "text/plain": [
       "4"
      ]
     },
     "execution_count": 6,
     "metadata": {},
     "output_type": "execute_result"
    }
   ],
   "source": [
    "len(model.weights)"
   ]
  },
  {
   "cell_type": "code",
   "execution_count": 7,
   "metadata": {
    "colab_type": "code"
   },
   "outputs": [
    {
     "data": {
      "text/plain": [
       "[<tf.Variable 'dense_2/kernel:0' shape=(3, 64) dtype=float32, numpy=\n",
       " array([[ 0.04958168, -0.00043678, -0.26276052, -0.12901191, -0.23510784,\n",
       "          0.1077992 , -0.1706221 ,  0.29175204,  0.12349692,  0.2701139 ,\n",
       "         -0.20750031,  0.12290993, -0.11726429,  0.01743695,  0.01813346,\n",
       "          0.2991656 , -0.2776665 ,  0.25359058,  0.0910829 , -0.21615845,\n",
       "          0.19884771,  0.10170478, -0.19755569,  0.04638112,  0.01074913,\n",
       "          0.12641388,  0.13381675,  0.17644113,  0.07726228, -0.04104084,\n",
       "         -0.09627658, -0.15655702,  0.15415725, -0.2324293 , -0.11087818,\n",
       "          0.21267784, -0.14602265,  0.1954411 , -0.22178142, -0.09134455,\n",
       "         -0.29164732,  0.23100728, -0.05638938, -0.18796223, -0.06124641,\n",
       "          0.0071055 ,  0.29151624, -0.12487748, -0.19277711,  0.26398373,\n",
       "          0.25878525, -0.07567744,  0.22798228, -0.21332796, -0.10366753,\n",
       "         -0.02083874,  0.286017  ,  0.2542181 ,  0.07751119,  0.01684141,\n",
       "         -0.14806268, -0.06230928, -0.13767321, -0.29016307],\n",
       "        [ 0.03038317, -0.03502801, -0.21756285, -0.11303352, -0.01784983,\n",
       "          0.24361902,  0.09690866, -0.13346036, -0.16812058,  0.19414172,\n",
       "          0.00376272, -0.12134093, -0.02913314,  0.27724153,  0.17733261,\n",
       "         -0.27765608,  0.1624633 , -0.06378475, -0.21858248, -0.07294554,\n",
       "          0.09040791,  0.05780149,  0.29015535,  0.00925747,  0.03047633,\n",
       "          0.02694628, -0.25296924, -0.04932725, -0.00623226,  0.21130663,\n",
       "         -0.05901031,  0.20636559,  0.14528093, -0.15925951, -0.29534498,\n",
       "          0.11143377,  0.01780888, -0.04374874, -0.09772508, -0.06329779,\n",
       "         -0.28317916, -0.14784336, -0.14793697,  0.1815038 ,  0.1080409 ,\n",
       "         -0.15878128,  0.24721265,  0.01236579,  0.29411572, -0.27576703,\n",
       "         -0.02833307, -0.26165977, -0.21353358, -0.01921722, -0.18296129,\n",
       "         -0.0082621 , -0.22520737,  0.26324207, -0.26650184, -0.04276636,\n",
       "         -0.21799365,  0.0291293 , -0.24039353, -0.27163485],\n",
       "        [-0.01292503,  0.05508035,  0.03981721,  0.15408105, -0.04332921,\n",
       "         -0.28476194, -0.10944717, -0.02175218, -0.17948887, -0.27823278,\n",
       "          0.12201867,  0.07710466,  0.02236992,  0.10008803, -0.26016912,\n",
       "         -0.22217147, -0.03354201,  0.26129234, -0.04902774, -0.17363545,\n",
       "         -0.02764955,  0.18439573, -0.11195511, -0.21824944,  0.09570009,\n",
       "         -0.04784501,  0.15230536,  0.23224914, -0.05822606, -0.2912517 ,\n",
       "          0.20546305, -0.00910065, -0.2019068 ,  0.07698709,  0.2213825 ,\n",
       "          0.24021387,  0.21678096, -0.11516523, -0.04655448,  0.17047304,\n",
       "         -0.13202842,  0.10676622, -0.28009602,  0.25444704,  0.28518802,\n",
       "         -0.17964113, -0.14777929,  0.21932065,  0.02400735, -0.18749462,\n",
       "         -0.27433243,  0.26201618,  0.14145827,  0.2332139 ,  0.18701532,\n",
       "         -0.00290084, -0.27568674,  0.16415474, -0.19961968, -0.00333771,\n",
       "          0.13446614, -0.10571249,  0.09384108, -0.11043304]],\n",
       "       dtype=float32)>,\n",
       " <tf.Variable 'dense_2/bias:0' shape=(64,) dtype=float32, numpy=\n",
       " array([0., 0., 0., 0., 0., 0., 0., 0., 0., 0., 0., 0., 0., 0., 0., 0., 0.,\n",
       "        0., 0., 0., 0., 0., 0., 0., 0., 0., 0., 0., 0., 0., 0., 0., 0., 0.,\n",
       "        0., 0., 0., 0., 0., 0., 0., 0., 0., 0., 0., 0., 0., 0., 0., 0., 0.,\n",
       "        0., 0., 0., 0., 0., 0., 0., 0., 0., 0., 0., 0., 0.], dtype=float32)>,\n",
       " <tf.Variable 'dense_3/kernel:0' shape=(64, 10) dtype=float32, numpy=\n",
       " array([[ 0.01723623,  0.25532082, -0.269719  , -0.13933145,  0.12875712,\n",
       "          0.00728837,  0.01015946, -0.24324293,  0.20972317,  0.28055027],\n",
       "        [-0.07498693,  0.25122914, -0.20546179, -0.14716259,  0.08934182,\n",
       "          0.17833862,  0.13389882,  0.17954141,  0.12424141,  0.22194794],\n",
       "        [-0.00756678, -0.11984967,  0.00630885, -0.0351789 , -0.07557058,\n",
       "         -0.08439419, -0.01579404,  0.26845422, -0.213763  ,  0.14110011],\n",
       "        [-0.28296658, -0.07481314, -0.12828325,  0.19484448,  0.02919555,\n",
       "          0.17536664,  0.1519191 ,  0.09817302, -0.19806609,  0.1166988 ],\n",
       "        [ 0.24313816, -0.04345661,  0.24830243,  0.19527632, -0.10125247,\n",
       "         -0.20893967,  0.03149909,  0.26203278,  0.02050778,  0.03354162],\n",
       "        [-0.10139525, -0.18208894, -0.27201283,  0.03959596,  0.06559885,\n",
       "         -0.10993943,  0.07878438,  0.25936416,  0.02432364, -0.17255738],\n",
       "        [-0.19332974,  0.08608776, -0.0161688 ,  0.0158582 , -0.18328854,\n",
       "         -0.23013261,  0.08294952,  0.04751116,  0.02423966,  0.07571349],\n",
       "        [-0.07538415,  0.11717775,  0.13166568,  0.26109013,  0.19295153,\n",
       "         -0.18763086, -0.13071951, -0.27503884,  0.00170606,  0.05861467],\n",
       "        [-0.12807192, -0.19362119, -0.17615354, -0.05812676, -0.20628664,\n",
       "         -0.246239  ,  0.08591023,  0.27572963, -0.20870173, -0.24908099],\n",
       "        [ 0.01422343,  0.21706715,  0.06205136,  0.01596344, -0.14500046,\n",
       "          0.2592362 , -0.03878176, -0.02455825, -0.15340383, -0.07434973],\n",
       "        [ 0.17154706,  0.09736684,  0.27625713, -0.03359926, -0.06514804,\n",
       "          0.12900981,  0.07135895, -0.03672853, -0.08524682,  0.26984242],\n",
       "        [-0.10944165,  0.0362761 ,  0.24117252,  0.03214121,  0.26327857,\n",
       "          0.1275428 , -0.18168636,  0.00359589,  0.0568389 , -0.18018852],\n",
       "        [ 0.07689291, -0.11851625,  0.02048919, -0.20613992,  0.26642016,\n",
       "         -0.1936797 ,  0.14252841, -0.20568942,  0.18292439, -0.2481463 ],\n",
       "        [ 0.13731733, -0.10389213, -0.10806446, -0.11259517,  0.150336  ,\n",
       "          0.27452937, -0.04844904,  0.2345266 ,  0.22331151,  0.00311407],\n",
       "        [-0.13078333,  0.21761891,  0.11536193, -0.06173615, -0.03302294,\n",
       "          0.20994404,  0.0358364 , -0.13075869, -0.17189227,  0.20702025],\n",
       "        [-0.17637852,  0.16080448,  0.07032487, -0.2489004 , -0.1223323 ,\n",
       "          0.02396992,  0.11554128,  0.07809401, -0.05591106,  0.06434667],\n",
       "        [-0.10436906,  0.25581864,  0.06433263,  0.24406555,  0.1437191 ,\n",
       "          0.00656995, -0.1240539 ,  0.24735102, -0.01301217, -0.2817436 ],\n",
       "        [-0.18578821, -0.0283713 , -0.24253377, -0.19403082,  0.25355121,\n",
       "         -0.1907693 , -0.01202953,  0.20701006,  0.24744508, -0.21404317],\n",
       "        [ 0.18491936, -0.0841341 , -0.28154364, -0.24972934, -0.2674508 ,\n",
       "          0.2703657 , -0.06305122, -0.12151696,  0.12607849, -0.09031372],\n",
       "        [ 0.05194309,  0.19772068,  0.19795325, -0.17381957,  0.16950238,\n",
       "         -0.1338002 , -0.2146537 , -0.13371003, -0.12916051,  0.10209253],\n",
       "        [-0.09038235,  0.02173814,  0.06512076, -0.22883266, -0.26391196,\n",
       "          0.00944859,  0.265906  ,  0.10428479, -0.28239286,  0.11926934],\n",
       "        [ 0.01353335, -0.2461232 , -0.07598369,  0.1050216 , -0.0193648 ,\n",
       "          0.00136614, -0.15758099,  0.16916993,  0.10890302,  0.09399819],\n",
       "        [-0.13969195, -0.16356161,  0.09132859,  0.17835349, -0.08109885,\n",
       "         -0.01728973,  0.00444937,  0.15763998, -0.00934207,  0.27504382],\n",
       "        [-0.04023914, -0.0077185 , -0.23626801,  0.08091357, -0.02013502,\n",
       "          0.14063376,  0.26735184,  0.13274866,  0.23663893, -0.02373308],\n",
       "        [ 0.2530404 , -0.00232282, -0.2631555 ,  0.25081304,  0.24766114,\n",
       "         -0.11806248, -0.17001235, -0.0240677 ,  0.23805359, -0.18978532],\n",
       "        [-0.16119248,  0.20289686, -0.2824608 , -0.05067091,  0.20544684,\n",
       "          0.02146164,  0.03323543, -0.24691261, -0.25999027, -0.26289287],\n",
       "        [-0.11153366,  0.06245136, -0.0803072 ,  0.17234707,  0.26161394,\n",
       "          0.01149273, -0.25388992,  0.11269844,  0.02513614,  0.26710096],\n",
       "        [ 0.16679463,  0.25328144,  0.03824729, -0.09594077, -0.08260673,\n",
       "         -0.20115423, -0.24610582,  0.00876713, -0.27221325, -0.16400824],\n",
       "        [ 0.16814825,  0.2629775 ,  0.21822312, -0.1437961 , -0.13838963,\n",
       "         -0.01386791,  0.18898383,  0.20686486, -0.03789146, -0.0446822 ],\n",
       "        [-0.06526169, -0.04817829, -0.10334305, -0.17709291, -0.05791929,\n",
       "         -0.23137945,  0.12448445,  0.25435242,  0.02099416, -0.09706046],\n",
       "        [ 0.02416578,  0.06171307, -0.0358123 , -0.13088402,  0.00816271,\n",
       "         -0.21862419, -0.16738886,  0.09187672,  0.09309274, -0.03397217],\n",
       "        [-0.00787738, -0.18904859,  0.27304718,  0.01051459, -0.11312477,\n",
       "          0.11722276,  0.11284533, -0.19465941, -0.25121772,  0.05720952],\n",
       "        [ 0.27545115,  0.09582758, -0.11840668, -0.15707894,  0.08599609,\n",
       "          0.24606243, -0.01585591, -0.14640841,  0.06433928, -0.11199109],\n",
       "        [-0.19573742,  0.18965274,  0.25632945,  0.03100663,  0.16156566,\n",
       "          0.16837195,  0.09088975,  0.17648774, -0.25059396, -0.19846472],\n",
       "        [-0.07701676, -0.08960658, -0.02966222,  0.16811886,  0.05458194,\n",
       "          0.17023626, -0.16229744,  0.0876101 , -0.17271678, -0.20836757],\n",
       "        [-0.22754088,  0.01845905,  0.19744274, -0.16145533, -0.0359586 ,\n",
       "         -0.0536598 , -0.2753396 ,  0.24528757,  0.03204209, -0.262628  ],\n",
       "        [ 0.24178341, -0.02355587,  0.06424117, -0.26126647, -0.13654175,\n",
       "         -0.2310337 , -0.27121377,  0.02711427,  0.04837027,  0.23325989],\n",
       "        [ 0.25674817, -0.17210537,  0.01995403, -0.09916848, -0.03905672,\n",
       "         -0.01322091, -0.2086688 ,  0.0076606 ,  0.0259085 ,  0.01421264],\n",
       "        [ 0.22089472, -0.2750281 ,  0.1787481 ,  0.1839768 ,  0.23853984,\n",
       "          0.06255379, -0.100704  , -0.14301307,  0.02038208,  0.15825626],\n",
       "        [ 0.08571666,  0.20237482,  0.1708835 ,  0.21698937, -0.14904828,\n",
       "          0.26954207,  0.26345912,  0.27544406,  0.17785326, -0.04892664],\n",
       "        [ 0.1488465 ,  0.09090862, -0.26005933, -0.08913815, -0.19106482,\n",
       "          0.19684258,  0.23699161,  0.141139  , -0.25144747,  0.02356449],\n",
       "        [ 0.23748651,  0.2536361 , -0.2514907 , -0.08903101,  0.11617449,\n",
       "          0.02002192, -0.1305925 , -0.0398743 , -0.03925529, -0.19960329],\n",
       "        [ 0.06247234, -0.18681028, -0.15105236,  0.01891252, -0.21706784,\n",
       "          0.06105801, -0.00239289,  0.0296261 ,  0.26624116,  0.06636381],\n",
       "        [ 0.23602149,  0.11816609,  0.209905  , -0.00331345,  0.18929788,\n",
       "          0.19342315,  0.22236976,  0.2657316 ,  0.19765556,  0.17716488],\n",
       "        [-0.05782492, -0.20399871,  0.11705399,  0.15003416, -0.12910539,\n",
       "         -0.25005844, -0.04289509,  0.24022153,  0.06335816,  0.06577399],\n",
       "        [-0.04039155,  0.17967156, -0.17683676, -0.18640077,  0.21710858,\n",
       "         -0.18273708,  0.02870363,  0.17513683, -0.0034605 ,  0.15130866],\n",
       "        [ 0.20432389, -0.01275671, -0.21384296, -0.19058247,  0.08817717,\n",
       "         -0.0831244 ,  0.16540614, -0.13312225, -0.14152902, -0.16224095],\n",
       "        [ 0.07967517,  0.21288776, -0.04854116,  0.22250476,  0.09221223,\n",
       "         -0.04624657, -0.14475429, -0.1899257 , -0.0562205 , -0.18963495],\n",
       "        [ 0.10789928, -0.1647616 ,  0.02505848, -0.08651796,  0.16649562,\n",
       "         -0.0200446 ,  0.12077057,  0.1288574 ,  0.08796352, -0.02109239],\n",
       "        [ 0.24270889, -0.08566386,  0.20017561, -0.08538435, -0.02459568,\n",
       "          0.17183557,  0.22230533, -0.24150409,  0.02234867, -0.09970114],\n",
       "        [ 0.11400685, -0.07273485, -0.03458074, -0.07201841,  0.02151716,\n",
       "          0.1689797 , -0.14514025, -0.13297099,  0.08667758, -0.20901713],\n",
       "        [-0.09868294,  0.25142857, -0.2550445 , -0.0714512 ,  0.14337236,\n",
       "          0.21343955, -0.2342306 ,  0.21035054, -0.08386615,  0.03337467],\n",
       "        [ 0.07204279,  0.18963447, -0.22823042,  0.01475385,  0.20810688,\n",
       "         -0.2111422 ,  0.02811885,  0.24601194, -0.08187638, -0.09667668],\n",
       "        [-0.08229934,  0.05643761,  0.26178512,  0.08361924, -0.12748352,\n",
       "         -0.12835339,  0.24560145, -0.00416607,  0.17675456, -0.01323077],\n",
       "        [-0.23512599,  0.12729356,  0.17039621, -0.22389829, -0.24879572,\n",
       "         -0.15067911,  0.14797318,  0.20739159, -0.19452316, -0.00100395],\n",
       "        [ 0.17152396,  0.15377891,  0.27888313,  0.16585577, -0.14059995,\n",
       "         -0.19299898, -0.07692103, -0.2670176 ,  0.03018707,  0.04338714],\n",
       "        [-0.23364519, -0.08005194,  0.14459243,  0.2350671 ,  0.26152495,\n",
       "         -0.05490135,  0.24801669, -0.18193564, -0.24045853, -0.18865883],\n",
       "        [ 0.10459167, -0.01498997, -0.14072298, -0.22004877, -0.12420678,\n",
       "         -0.22549653, -0.04534923, -0.0683461 ,  0.23569754,  0.22448578],\n",
       "        [ 0.12898788, -0.01693711,  0.03060025, -0.00520274, -0.12832507,\n",
       "         -0.24291469,  0.09758458,  0.22140071, -0.2666426 , -0.08723915],\n",
       "        [ 0.16488469,  0.14049983, -0.129258  ,  0.15825242, -0.17664737,\n",
       "          0.0299291 ,  0.05475044,  0.22439978, -0.00368881, -0.2446255 ],\n",
       "        [-0.24391374,  0.13229856, -0.16554356, -0.24165773,  0.22606972,\n",
       "          0.23476365,  0.1090661 , -0.2752024 ,  0.2797319 ,  0.20003697],\n",
       "        [-0.13716695,  0.27993408, -0.25875667, -0.28386748, -0.17975348,\n",
       "         -0.2557145 , -0.06596054,  0.10406545, -0.05005346,  0.18476743],\n",
       "        [ 0.1506764 , -0.19149837, -0.04561378,  0.04385817,  0.06449619,\n",
       "          0.23105004,  0.08731151, -0.0158982 , -0.21210703,  0.19717762],\n",
       "        [ 0.04019439,  0.02233529,  0.09667674, -0.18717003,  0.14745587,\n",
       "         -0.21319517, -0.13951237, -0.16027462,  0.1899803 , -0.0550226 ]],\n",
       "       dtype=float32)>,\n",
       " <tf.Variable 'dense_3/bias:0' shape=(10,) dtype=float32, numpy=array([0., 0., 0., 0., 0., 0., 0., 0., 0., 0.], dtype=float32)>]"
      ]
     },
     "execution_count": 7,
     "metadata": {},
     "output_type": "execute_result"
    }
   ],
   "source": [
    "model.weights"
   ]
  },
  {
   "cell_type": "markdown",
   "metadata": {},
   "source": [
    "- 1층의 가중치와 편향 텐서"
   ]
  },
  {
   "cell_type": "code",
   "execution_count": 8,
   "metadata": {},
   "outputs": [
    {
     "data": {
      "text/plain": [
       "TensorShape([3, 64])"
      ]
     },
     "execution_count": 8,
     "metadata": {},
     "output_type": "execute_result"
    }
   ],
   "source": [
    "model.weights[0].shape"
   ]
  },
  {
   "cell_type": "code",
   "execution_count": 9,
   "metadata": {},
   "outputs": [
    {
     "data": {
      "text/plain": [
       "TensorShape([64])"
      ]
     },
     "execution_count": 9,
     "metadata": {},
     "output_type": "execute_result"
    }
   ],
   "source": [
    "model.weights[1].shape"
   ]
  },
  {
   "cell_type": "markdown",
   "metadata": {},
   "source": [
    "- 2층의 가중치와 편향 텐서"
   ]
  },
  {
   "cell_type": "code",
   "execution_count": 10,
   "metadata": {},
   "outputs": [
    {
     "data": {
      "text/plain": [
       "TensorShape([64, 10])"
      ]
     },
     "execution_count": 10,
     "metadata": {},
     "output_type": "execute_result"
    }
   ],
   "source": [
    "model.weights[2].shape"
   ]
  },
  {
   "cell_type": "code",
   "execution_count": 11,
   "metadata": {},
   "outputs": [
    {
     "data": {
      "text/plain": [
       "TensorShape([10])"
      ]
     },
     "execution_count": 11,
     "metadata": {},
     "output_type": "execute_result"
    }
   ],
   "source": [
    "model.weights[3].shape"
   ]
  },
  {
   "cell_type": "markdown",
   "metadata": {
    "colab_type": "text"
   },
   "source": [
    "**`summary()` 메서드**"
   ]
  },
  {
   "cell_type": "markdown",
   "metadata": {},
   "source": [
    "완성된 모델의 요악한 내용은 확인할 수 있다.\n",
    "\n",
    "- 모델과 층의 이름\n",
    "- 층별 파라미터 수\n",
    "- 파라미터 수"
   ]
  },
  {
   "cell_type": "code",
   "execution_count": 12,
   "metadata": {
    "colab_type": "code"
   },
   "outputs": [
    {
     "name": "stdout",
     "output_type": "stream",
     "text": [
      "Model: \"sequential_1\"\n",
      "_________________________________________________________________\n",
      " Layer (type)                Output Shape              Param #   \n",
      "=================================================================\n",
      " dense_2 (Dense)             (None, 64)                256       \n",
      "                                                                 \n",
      " dense_3 (Dense)             (None, 10)                650       \n",
      "                                                                 \n",
      "=================================================================\n",
      "Total params: 906 (3.54 KB)\n",
      "Trainable params: 906 (3.54 KB)\n",
      "Non-trainable params: 0 (0.00 Byte)\n",
      "_________________________________________________________________\n"
     ]
    }
   ],
   "source": [
    "model.summary()"
   ]
  },
  {
   "cell_type": "markdown",
   "metadata": {
    "colab_type": "text"
   },
   "source": [
    "**`Input()` 함수**"
   ]
  },
  {
   "cell_type": "markdown",
   "metadata": {},
   "source": [
    "모델 구성 중간에 구성 과정을 확인하려면 `Input()`함수를 이용하여\n",
    "**케라스텐서**(`KerasTensor`) 객체를\n",
    "가장 먼저 모델에 추가한다.\n",
    "그러면 층을 추가할 때마다 `summary()`를 실행할 수 있다."
   ]
  },
  {
   "cell_type": "code",
   "execution_count": 13,
   "metadata": {
    "colab_type": "code"
   },
   "outputs": [],
   "source": [
    "model = keras.Sequential()\n",
    "model.add(keras.Input(shape=(3,)))\n",
    "model.add(layers.Dense(64, activation=\"relu\"))"
   ]
  },
  {
   "cell_type": "code",
   "execution_count": 14,
   "metadata": {
    "colab_type": "code"
   },
   "outputs": [
    {
     "name": "stdout",
     "output_type": "stream",
     "text": [
      "Model: \"sequential_2\"\n",
      "_________________________________________________________________\n",
      " Layer (type)                Output Shape              Param #   \n",
      "=================================================================\n",
      " dense_4 (Dense)             (None, 64)                256       \n",
      "                                                                 \n",
      "=================================================================\n",
      "Total params: 256 (1.00 KB)\n",
      "Trainable params: 256 (1.00 KB)\n",
      "Non-trainable params: 0 (0.00 Byte)\n",
      "_________________________________________________________________\n"
     ]
    }
   ],
   "source": [
    "model.summary()"
   ]
  },
  {
   "cell_type": "code",
   "execution_count": 15,
   "metadata": {
    "colab_type": "code"
   },
   "outputs": [
    {
     "name": "stdout",
     "output_type": "stream",
     "text": [
      "Model: \"sequential_2\"\n",
      "_________________________________________________________________\n",
      " Layer (type)                Output Shape              Param #   \n",
      "=================================================================\n",
      " dense_4 (Dense)             (None, 64)                256       \n",
      "                                                                 \n",
      " dense_5 (Dense)             (None, 10)                650       \n",
      "                                                                 \n",
      "=================================================================\n",
      "Total params: 906 (3.54 KB)\n",
      "Trainable params: 906 (3.54 KB)\n",
      "Non-trainable params: 0 (0.00 Byte)\n",
      "_________________________________________________________________\n"
     ]
    }
   ],
   "source": [
    "model.add(layers.Dense(10, activation=\"softmax\"))\n",
    "model.summary()"
   ]
  },
  {
   "cell_type": "markdown",
   "metadata": {
    "colab_type": "text"
   },
   "source": [
    "### 7.2.2. 모델 구성법 2: 함수형 API"
   ]
  },
  {
   "cell_type": "markdown",
   "metadata": {},
   "source": [
    "**기본 활용법**"
   ]
  },
  {
   "cell_type": "markdown",
   "metadata": {},
   "source": [
    "앞서 살펴 본 `Sequential` 모델을 함수형 API를 이용하여 구성하면 다음과 같다."
   ]
  },
  {
   "cell_type": "code",
   "execution_count": 16,
   "metadata": {
    "colab_type": "code"
   },
   "outputs": [],
   "source": [
    "inputs = keras.Input(shape=(3,), name=\"my_input\")          # 입력층\n",
    "features = layers.Dense(64, activation=\"relu\")(inputs)     # 은닉층\n",
    "outputs = layers.Dense(10, activation=\"softmax\")(features) # 출력층\n",
    "\n",
    "model = keras.Model(inputs=inputs, outputs=outputs)"
   ]
  },
  {
   "cell_type": "code",
   "execution_count": 17,
   "metadata": {
    "colab_type": "code"
   },
   "outputs": [
    {
     "name": "stdout",
     "output_type": "stream",
     "text": [
      "Model: \"model\"\n",
      "_________________________________________________________________\n",
      " Layer (type)                Output Shape              Param #   \n",
      "=================================================================\n",
      " my_input (InputLayer)       [(None, 3)]               0         \n",
      "                                                                 \n",
      " dense_6 (Dense)             (None, 64)                256       \n",
      "                                                                 \n",
      " dense_7 (Dense)             (None, 10)                650       \n",
      "                                                                 \n",
      "=================================================================\n",
      "Total params: 906 (3.54 KB)\n",
      "Trainable params: 906 (3.54 KB)\n",
      "Non-trainable params: 0 (0.00 Byte)\n",
      "_________________________________________________________________\n"
     ]
    }
   ],
   "source": [
    "model.summary()"
   ]
  },
  {
   "cell_type": "markdown",
   "metadata": {
    "colab_type": "text"
   },
   "source": [
    "**다중 입력, 다중 출력 모델**"
   ]
  },
  {
   "cell_type": "markdown",
   "metadata": {},
   "source": [
    "예제: 고객 요구사항 접수 모델\n",
    "\n",
    "고객의 요구사항의 처리할 때 필요한 우선순위와 담당부서를 지정하는 시스템을 구현하려 한다. 시스템에 사용될 딥러닝 모델은 세 개의 입력과 두 개의 출력을 사용한다."
   ]
  },
  {
   "cell_type": "code",
   "execution_count": 18,
   "metadata": {
    "colab_type": "code"
   },
   "outputs": [],
   "source": [
    "vocabulary_size = 10000    # 사용빈도 1만등 인내 단어 사용\n",
    "num_tags = 100             # 태그 수\n",
    "num_departments = 4        # 부서 수\n",
    "\n",
    "# 입력층: 세 개\n",
    "title = keras.Input(shape=(vocabulary_size,), name=\"title\")\n",
    "text_body = keras.Input(shape=(vocabulary_size,), name=\"text_body\")\n",
    "tags = keras.Input(shape=(num_tags,), name=\"tags\")\n",
    "\n",
    "# 은닉층\n",
    "features = layers.Concatenate()([title, text_body, tags]) # shape=(None, 10000+10000+100)\n",
    "features = layers.Dense(64, activation=\"relu\")(features)\n",
    "\n",
    "# 출력층: 두 개\n",
    "priority = layers.Dense(1, activation=\"sigmoid\", name=\"priority\")(features)\n",
    "department = layers.Dense(\n",
    "    num_departments, activation=\"softmax\", name=\"department\")(features)\n",
    "\n",
    "# 모델 빌드: 입력값으로 구성된 입력값 리스트와 출력값으로 구성된 출력값 리스트 사용\n",
    "model = keras.Model(inputs=[title, text_body, tags], outputs=[priority, department])"
   ]
  },
  {
   "cell_type": "markdown",
   "metadata": {},
   "source": [
    "은닉층으로 사용된 `Concatenate()` 층은 여러 개의 텐서를 좌우로 이어붙이는 기능을 수행한다.\n",
    "따라서 여기서는 고객의 요구사항을 담고 있는\n",
    "길이가 각각 1만, 1만, 100인 세 개의 벡터를 이어붙여서 길이가 총 2만1백인 하나의 벡터로 변환한다."
   ]
  },
  {
   "cell_type": "markdown",
   "metadata": {
    "colab_type": "text"
   },
   "source": [
    "모델 훈련을 위해 적절한 개수의 입력 텐서와 타깃 텐서를 지정해야 한다.\n",
    "여기서는 훈련 과정을 설명하기 위해 \n",
    "적절한 모양의 입력 텐서 3개와 타깃 텐서 2개를 무작위로 생성해서 사용한다."
   ]
  },
  {
   "cell_type": "code",
   "execution_count": 19,
   "metadata": {
    "colab_type": "code"
   },
   "outputs": [],
   "source": [
    "import numpy as np\n",
    "\n",
    "# 샘플 수\n",
    "num_samples = 1280\n",
    "\n",
    "# 입력 텐서 3 개 무작위 생성\n",
    "title_data = np.random.randint(0, 2, size=(num_samples, vocabulary_size))\n",
    "text_body_data = np.random.randint(0, 2, size=(num_samples, vocabulary_size))\n",
    "tags_data = np.random.randint(0, 2, size=(num_samples, num_tags))    # 멀티-핫-인코딩\n",
    "\n",
    "# 타깃 텐서 2 개 무작위 생성\n",
    "priority_data = np.random.random(size=(num_samples, 1))\n",
    "department_data = np.random.randint(0, 2, size=(num_samples, num_departments))  # 멀티-핫-인코딩"
   ]
  },
  {
   "cell_type": "markdown",
   "metadata": {},
   "source": [
    "모델 컴파일 과정에서 지정된 타깃 수만큼 손실함수와 측정 기준을 지정해야 한다."
   ]
  },
  {
   "cell_type": "code",
   "execution_count": 38,
   "metadata": {
    "colab_type": "code"
   },
   "outputs": [],
   "source": [
    "model.compile(optimizer=\"adam\",\n",
    "              loss=[\"mean_squared_error\", \"categorical_crossentropy\"],\n",
    "              metrics=[[\"mean_absolute_error\", \"mean_squared_error\"], [\"accuracy\", \"AUC\", \"Precision\"]])"
   ]
  },
  {
   "cell_type": "markdown",
   "metadata": {},
   "source": [
    "모델 훈련은 `fit()` 함수에 세 개의 훈련 텐서로 이루어진 리스트와 \n",
    "두 개의 타깃 텐서로 이루어진 리스트를 지정한 후에 실행한다. "
   ]
  },
  {
   "cell_type": "code",
   "execution_count": 39,
   "metadata": {
    "colab_type": "code"
   },
   "outputs": [
    {
     "name": "stdout",
     "output_type": "stream",
     "text": [
      "Epoch 1/10\n",
      "40/40 [==============================] - 1s 10ms/step - loss: 189.3573 - priority_loss: 0.3305 - department_loss: 189.0269 - priority_mean_absolute_error: 0.4971 - priority_mean_squared_error: 0.3305 - department_accuracy: 0.2672 - department_auc: 0.5024 - department_precision: 0.5016\n",
      "Epoch 2/10\n",
      "40/40 [==============================] - 0s 6ms/step - loss: 69.9439 - priority_loss: 0.3305 - department_loss: 69.6134 - priority_mean_absolute_error: 0.4971 - priority_mean_squared_error: 0.3305 - department_accuracy: 0.2703 - department_auc: 0.5139 - department_precision: 0.5012\n",
      "Epoch 3/10\n",
      "40/40 [==============================] - 0s 6ms/step - loss: 77.1817 - priority_loss: 0.3305 - department_loss: 76.8512 - priority_mean_absolute_error: 0.4971 - priority_mean_squared_error: 0.3305 - department_accuracy: 0.2156 - department_auc: 0.4960 - department_precision: 0.4738\n",
      "Epoch 4/10\n",
      "40/40 [==============================] - 0s 6ms/step - loss: 87.2470 - priority_loss: 0.3305 - department_loss: 86.9165 - priority_mean_absolute_error: 0.4971 - priority_mean_squared_error: 0.3305 - department_accuracy: 0.2617 - department_auc: 0.5045 - department_precision: 0.4945\n",
      "Epoch 5/10\n",
      "40/40 [==============================] - 0s 6ms/step - loss: 68.7788 - priority_loss: 0.3305 - department_loss: 68.4483 - priority_mean_absolute_error: 0.4971 - priority_mean_squared_error: 0.3305 - department_accuracy: 0.2578 - department_auc: 0.5035 - department_precision: 0.4918\n",
      "Epoch 6/10\n",
      "40/40 [==============================] - 0s 6ms/step - loss: 86.3291 - priority_loss: 0.3305 - department_loss: 85.9986 - priority_mean_absolute_error: 0.4971 - priority_mean_squared_error: 0.3305 - department_accuracy: 0.2625 - department_auc: 0.5095 - department_precision: 0.5008\n",
      "Epoch 7/10\n",
      "40/40 [==============================] - 0s 6ms/step - loss: 79.0370 - priority_loss: 0.3305 - department_loss: 78.7065 - priority_mean_absolute_error: 0.4971 - priority_mean_squared_error: 0.3305 - department_accuracy: 0.2477 - department_auc: 0.5053 - department_precision: 0.4863\n",
      "Epoch 8/10\n",
      "40/40 [==============================] - 0s 6ms/step - loss: 85.7801 - priority_loss: 0.3305 - department_loss: 85.4496 - priority_mean_absolute_error: 0.4971 - priority_mean_squared_error: 0.3305 - department_accuracy: 0.2492 - department_auc: 0.5014 - department_precision: 0.4926\n",
      "Epoch 9/10\n",
      "40/40 [==============================] - 0s 7ms/step - loss: 100.1674 - priority_loss: 0.3305 - department_loss: 99.8370 - priority_mean_absolute_error: 0.4971 - priority_mean_squared_error: 0.3305 - department_accuracy: 0.2531 - department_auc: 0.5118 - department_precision: 0.5117\n",
      "Epoch 10/10\n",
      "40/40 [==============================] - 0s 6ms/step - loss: 99.0711 - priority_loss: 0.3305 - department_loss: 98.7406 - priority_mean_absolute_error: 0.4971 - priority_mean_squared_error: 0.3305 - department_accuracy: 0.2531 - department_auc: 0.4938 - department_precision: 0.4746\n"
     ]
    },
    {
     "data": {
      "text/plain": [
       "<keras.src.callbacks.History at 0x7fc2703915d0>"
      ]
     },
     "execution_count": 39,
     "metadata": {},
     "output_type": "execute_result"
    }
   ],
   "source": [
    "model.fit([title_data, text_body_data, tags_data],\n",
    "          [priority_data, department_data],\n",
    "          epochs=10)"
   ]
  },
  {
   "cell_type": "markdown",
   "metadata": {},
   "source": [
    "모델 평가도 훈련과 동일한 방식의 인자가 사용된다."
   ]
  },
  {
   "cell_type": "code",
   "execution_count": 34,
   "metadata": {
    "colab_type": "code"
   },
   "outputs": [
    {
     "name": "stdout",
     "output_type": "stream",
     "text": [
      "40/40 [==============================] - 1s 8ms/step - loss: 53.2356 - priority_loss: 0.3305 - department_loss: 52.9051 - priority_mean_absolute_error: 0.4971 - priority_root_mean_squared_error: 0.5749 - department_accuracy: 0.2633 - department_auc: 0.5004 - department_precision: 0.4883\n"
     ]
    },
    {
     "data": {
      "text/plain": [
       "[53.235633850097656,\n",
       " 0.33049556612968445,\n",
       " 52.90513229370117,\n",
       " 0.4970545768737793,\n",
       " 0.5748874545097351,\n",
       " 0.2632812559604645,\n",
       " 0.5003933906555176,\n",
       " 0.48828125]"
      ]
     },
     "execution_count": 34,
     "metadata": {},
     "output_type": "execute_result"
    }
   ],
   "source": [
    "model.evaluate([title_data, text_body_data, tags_data],\n",
    "               [priority_data, department_data])"
   ]
  },
  {
   "cell_type": "markdown",
   "metadata": {},
   "source": [
    "예측값은 두 개의 어레이로 구성된 리스트이다."
   ]
  },
  {
   "cell_type": "code",
   "execution_count": 35,
   "metadata": {
    "colab_type": "code"
   },
   "outputs": [
    {
     "name": "stdout",
     "output_type": "stream",
     "text": [
      "40/40 [==============================] - 0s 5ms/step\n"
     ]
    }
   ],
   "source": [
    "priority_preds, department_preds = model.predict([title_data, text_body_data, tags_data])"
   ]
  },
  {
   "cell_type": "markdown",
   "metadata": {},
   "source": [
    "처리 우선순위는 모두 1로 계산되었다."
   ]
  },
  {
   "cell_type": "code",
   "execution_count": 44,
   "metadata": {},
   "outputs": [
    {
     "data": {
      "text/plain": [
       "array([[1.],\n",
       "       [1.],\n",
       "       [1.],\n",
       "       ...,\n",
       "       [1.],\n",
       "       [1.],\n",
       "       [1.]], dtype=float32)"
      ]
     },
     "execution_count": 44,
     "metadata": {},
     "output_type": "execute_result"
    }
   ],
   "source": [
    "priority_preds"
   ]
  },
  {
   "cell_type": "markdown",
   "metadata": {},
   "source": [
    "요구사항을 처리해야 하는 부서별 확률값은 다음과 같다."
   ]
  },
  {
   "cell_type": "code",
   "execution_count": 45,
   "metadata": {},
   "outputs": [
    {
     "data": {
      "text/plain": [
       "array([[0.0000000e+00, 6.0690805e-23, 1.0000000e+00, 1.0848552e-17],\n",
       "       [0.0000000e+00, 5.6451245e-24, 1.0000000e+00, 6.5799798e-18],\n",
       "       [0.0000000e+00, 1.5832143e-23, 1.0000000e+00, 4.8619843e-17],\n",
       "       ...,\n",
       "       [0.0000000e+00, 1.0222000e-23, 1.0000000e+00, 5.8068120e-18],\n",
       "       [0.0000000e+00, 1.9703421e-23, 1.0000000e+00, 3.6700181e-17],\n",
       "       [0.0000000e+00, 3.1175339e-24, 1.0000000e+00, 7.6927756e-18]],\n",
       "      dtype=float32)"
      ]
     },
     "execution_count": 45,
     "metadata": {},
     "output_type": "execute_result"
    }
   ],
   "source": [
    "department_preds"
   ]
  },
  {
   "cell_type": "markdown",
   "metadata": {
    "colab_type": "text"
   },
   "source": [
    "**사전 객체 활용**\n",
    "\n",
    "입력층과 출력층의 이름을 이용하여 사전 형식으로 입력값과 출력값을 지정할 수 있다."
   ]
  },
  {
   "cell_type": "code",
   "execution_count": 46,
   "metadata": {
    "colab_type": "code"
   },
   "outputs": [
    {
     "name": "stdout",
     "output_type": "stream",
     "text": [
      "40/40 [==============================] - 1s 10ms/step - loss: 274.3716 - priority_loss: 0.3305 - department_loss: 274.0411 - priority_mean_absolute_error: 0.4971 - priority_mean_squared_error: 0.3305 - department_accuracy: 0.2555 - department_auc: 0.4997 - department_precision: 0.4898\n",
      "40/40 [==============================] - 1s 6ms/step - loss: 83.7130 - priority_loss: 0.3305 - department_loss: 83.3825 - priority_mean_absolute_error: 0.4971 - priority_mean_squared_error: 0.3305 - department_accuracy: 0.1312 - department_auc: 0.5266 - department_precision: 0.5070\n",
      "40/40 [==============================] - 0s 2ms/step\n"
     ]
    }
   ],
   "source": [
    "model.compile(optimizer=\"adam\",\n",
    "              loss={\"priority\": \"mean_squared_error\", \"department\": \"categorical_crossentropy\"},\n",
    "              metrics={\"priority\": [\"mean_absolute_error\", \"mean_squared_error\"], \"department\": [\"accuracy\", \"AUC\", \"Precision\"]})\n",
    "\n",
    "model.fit({\"title\": title_data, \"text_body\": text_body_data, \"tags\": tags_data},\n",
    "          {\"priority\": priority_data, \"department\": department_data},\n",
    "          epochs=1)\n",
    "\n",
    "model.evaluate({\"title\": title_data, \"text_body\": text_body_data, \"tags\": tags_data},\n",
    "               {\"priority\": priority_data, \"department\": department_data})\n",
    "\n",
    "priority_preds, department_preds = model.predict(\n",
    "    {\"title\": title_data, \"text_body\": text_body_data, \"tags\": tags_data})"
   ]
  },
  {
   "cell_type": "markdown",
   "metadata": {
    "colab_type": "text"
   },
   "source": [
    "**층 연결 구조**"
   ]
  },
  {
   "cell_type": "markdown",
   "metadata": {},
   "source": [
    "주의사항: 아래 두 코드가 실행되어 층 연결구조를 그래프로 제대로 보여주도록 하려면\n",
    "먼저 `pydot` 파이썬 라이브러리와 graphviz 프로그램을 설치해야 한다.\n",
    "단, 구글 코랩에서는 이미 설치되어 있다.\n",
    "\n",
    "- `pydot` 라이브러리 설치: `pip install pydot`\n",
    "- `graphviz` 프로그램 설치 : [https://graphviz.gitlab.io/download/](https://graphviz.gitlab.io/download/) 참고"
   ]
  },
  {
   "cell_type": "markdown",
   "metadata": {},
   "source": [
    "`plot_model()`을 이용하여 층 연결 구조를 그래프로 나타낼 수 있다."
   ]
  },
  {
   "cell_type": "code",
   "execution_count": 47,
   "metadata": {},
   "outputs": [
    {
     "data": {
      "image/png": "[encoded data removed]",
      "text/plain": [
       "<IPython.core.display.Image object>"
      ]
     },
     "execution_count": 47,
     "metadata": {},
     "output_type": "execute_result"
    }
   ],
   "source": [
    "keras.utils.plot_model(model, \"ticket_classifier.png\")"
   ]
  },
  {
   "cell_type": "markdown",
   "metadata": {},
   "source": [
    "입력 텐서와 출력 텐서의 모양을 함께 표기할 수도 있다."
   ]
  },
  {
   "cell_type": "code",
   "execution_count": 48,
   "metadata": {},
   "outputs": [
    {
     "data": {
      "image/png": "[encoded data removed]",
      "text/plain": [
       "<IPython.core.display.Image object>"
      ]
     },
     "execution_count": 48,
     "metadata": {},
     "output_type": "execute_result"
    }
   ],
   "source": [
    "keras.utils.plot_model(model, \"ticket_classifier_with_shape_info.png\", show_shapes=True)"
   ]
  },
  {
   "cell_type": "markdown",
   "metadata": {
    "colab_type": "text"
   },
   "source": [
    "**모델 재활용**"
   ]
  },
  {
   "cell_type": "markdown",
   "metadata": {},
   "source": [
    "훈련된 모델의 특성을 이용하여 새로운 모델을 빌드할 수 있다.\n",
    "먼저 모델의 `layers` 속성을 이용하여 사용된 층에 대한 정보를 확인한다. \n",
    "`layers` 속성은 사용된 층들의 객체로 이루어진 리스트를 가리킨다."
   ]
  },
  {
   "cell_type": "code",
   "execution_count": 57,
   "metadata": {
    "colab_type": "code"
   },
   "outputs": [
    {
     "data": {
      "text/plain": [
       "[<keras.src.engine.input_layer.InputLayer at 0x7fc3a1313fd0>,\n",
       " <keras.src.engine.input_layer.InputLayer at 0x7fc3a13ce450>,\n",
       " <keras.src.engine.input_layer.InputLayer at 0x7fc3a13c5990>,\n",
       " <keras.src.layers.merging.concatenate.Concatenate at 0x7fc3a13e0d50>,\n",
       " <keras.src.layers.core.dense.Dense at 0x7fc3a13a6310>,\n",
       " <keras.src.layers.core.dense.Dense at 0x7fc3a12f6850>,\n",
       " <keras.src.layers.core.dense.Dense at 0x7fc3a13e2f90>]"
      ]
     },
     "execution_count": 57,
     "metadata": {},
     "output_type": "execute_result"
    }
   ],
   "source": [
    "model.layers"
   ]
  },
  {
   "cell_type": "markdown",
   "metadata": {},
   "source": [
    "예를 들어, 3번 인덱스에 해당하는 층의 입력값과 출력값에 대한 정보는 아래처럼 확인할 수 있다."
   ]
  },
  {
   "cell_type": "code",
   "execution_count": 58,
   "metadata": {
    "colab_type": "code"
   },
   "outputs": [
    {
     "data": {
      "text/plain": [
       "[<KerasTensor: shape=(None, 10000) dtype=float32 (created by layer 'title')>,\n",
       " <KerasTensor: shape=(None, 10000) dtype=float32 (created by layer 'text_body')>,\n",
       " <KerasTensor: shape=(None, 100) dtype=float32 (created by layer 'tags')>]"
      ]
     },
     "execution_count": 58,
     "metadata": {},
     "output_type": "execute_result"
    }
   ],
   "source": [
    "model.layers[3].input"
   ]
  },
  {
   "cell_type": "code",
   "execution_count": 59,
   "metadata": {
    "colab_type": "code"
   },
   "outputs": [
    {
     "data": {
      "text/plain": [
       "<KerasTensor: shape=(None, 20100) dtype=float32 (created by layer 'concatenate')>"
      ]
     },
     "execution_count": 59,
     "metadata": {},
     "output_type": "execute_result"
    }
   ],
   "source": [
    "model.layers[3].output"
   ]
  },
  {
   "cell_type": "markdown",
   "metadata": {
    "colab_type": "text"
   },
   "source": [
    "출력층을 제외한 나머지 층을 재활용해보자.\n",
    "출력층은 5번과 6번 인덱스에 위치하기에 4번 인덱스가\n",
    "가리키는 (은닉)층의 출력 정보를 따로 떼어낸다."
   ]
  },
  {
   "cell_type": "code",
   "execution_count": 60,
   "metadata": {
    "colab_type": "code"
   },
   "outputs": [],
   "source": [
    "features = model.layers[4].output"
   ]
  },
  {
   "cell_type": "markdown",
   "metadata": {},
   "source": [
    "이제 출력층에 문제해결의 어려움 정도를 \"quick\", \"medium\", \"difficult\"로\n",
    "구분하는 어려움(difficulty) 정도를 판별하는 층을 추가해보자.\n",
    "먼저, `difficulty` 층을 준비한다."
   ]
  },
  {
   "cell_type": "code",
   "execution_count": 61,
   "metadata": {
    "colab_type": "code"
   },
   "outputs": [],
   "source": [
    "difficulty = layers.Dense(3, activation=\"softmax\", name=\"difficulty\")(features)"
   ]
  },
  {
   "cell_type": "markdown",
   "metadata": {},
   "source": [
    "준비된 `'difficulty'` 층을 출력층으로 추가하여 \n",
    "`priority`, `department`, `difficulty`\n",
    "세 개의 출력값을 생성하는 새로운 모델을 구성한다."
   ]
  },
  {
   "cell_type": "code",
   "execution_count": 62,
   "metadata": {
    "colab_type": "code"
   },
   "outputs": [],
   "source": [
    "new_model = keras.Model(\n",
    "    inputs=[title, text_body, tags],\n",
    "    outputs=[priority, department, difficulty])"
   ]
  },
  {
   "cell_type": "markdown",
   "metadata": {},
   "source": [
    "새로 생성된 모델은 기존에 훈련된 모델의 가중치,\n",
    "즉, 은닉층에 사용된 가중치는 그대로 사용되며,\n",
    "모델 구성 그래프는 다음과 같다."
   ]
  },
  {
   "cell_type": "code",
   "execution_count": 63,
   "metadata": {},
   "outputs": [
    {
     "data": {
      "image/png": "[encoded data removed]",
      "text/plain": [
       "<IPython.core.display.Image object>"
      ]
     },
     "execution_count": 63,
     "metadata": {},
     "output_type": "execute_result"
    }
   ],
   "source": [
    "keras.utils.plot_model(new_model, \"updated_ticket_classifier.png\", show_shapes=True)"
   ]
  },
  {
   "cell_type": "markdown",
   "metadata": {},
   "source": [
    "요약 결과는 다음과 같다."
   ]
  },
  {
   "cell_type": "code",
   "execution_count": 64,
   "metadata": {},
   "outputs": [
    {
     "name": "stdout",
     "output_type": "stream",
     "text": [
      "Model: \"model_2\"\n",
      "__________________________________________________________________________________________________\n",
      " Layer (type)                Output Shape                 Param #   Connected to                  \n",
      "==================================================================================================\n",
      " title (InputLayer)          [(None, 10000)]              0         []                            \n",
      "                                                                                                  \n",
      " text_body (InputLayer)      [(None, 10000)]              0         []                            \n",
      "                                                                                                  \n",
      " tags (InputLayer)           [(None, 100)]                0         []                            \n",
      "                                                                                                  \n",
      " concatenate (Concatenate)   (None, 20100)                0         ['title[0][0]',               \n",
      "                                                                     'text_body[0][0]',           \n",
      "                                                                     'tags[0][0]']                \n",
      "                                                                                                  \n",
      " dense_8 (Dense)             (None, 64)                   1286464   ['concatenate[0][0]']         \n",
      "                                                                                                  \n",
      " priority (Dense)            (None, 1)                    65        ['dense_8[0][0]']             \n",
      "                                                                                                  \n",
      " department (Dense)          (None, 4)                    260       ['dense_8[0][0]']             \n",
      "                                                                                                  \n",
      " difficulty (Dense)          (None, 3)                    195       ['dense_8[0][0]']             \n",
      "                                                                                                  \n",
      "==================================================================================================\n",
      "Total params: 1286984 (4.91 MB)\n",
      "Trainable params: 1286984 (4.91 MB)\n",
      "Non-trainable params: 0 (0.00 Byte)\n",
      "__________________________________________________________________________________________________\n"
     ]
    }
   ],
   "source": [
    "new_model.summary()"
   ]
  },
  {
   "cell_type": "markdown",
   "metadata": {
    "colab_type": "text"
   },
   "source": [
    "### 모델 구성법 3: 서브클래싱"
   ]
  },
  {
   "cell_type": "markdown",
   "metadata": {},
   "source": [
    "앞서 함수형 API로 구성한 티켓 모델을 서브클래싱을 기법을 이용하여 구현하면 다음과 같다."
   ]
  },
  {
   "cell_type": "code",
   "execution_count": 81,
   "metadata": {
    "colab_type": "code"
   },
   "outputs": [],
   "source": [
    "class CustomerTicketModel(keras.Model):\n",
    "\n",
    "    def __init__(self, num_departments): # num_departments: 고객 요구사항 처리 부서 개수\n",
    "        super().__init__()\n",
    "        self.concat_layer = layers.Concatenate()                      # 은닉층\n",
    "        self.mixing_layer = layers.Dense(64, activation=\"relu\")       # 은닉층\n",
    "        self.priority_scorer = layers.Dense(1, activation=\"sigmoid\")  # 출력층 1\n",
    "        self.department_classifier = layers.Dense(                    # 출력층 2\n",
    "            num_departments, activation=\"softmax\")\n",
    "\n",
    "    def call(self, inputs):               # inputs: 사전 객체 입력값. 모양은 미정.\n",
    "        title = inputs[\"title\"]\n",
    "        text_body = inputs[\"text_body\"]\n",
    "        tags = inputs[\"tags\"]\n",
    "\n",
    "        features = self.concat_layer([title, text_body, tags])    # 은닉층 연결\n",
    "        features = self.mixing_layer(features)\n",
    "        priority = self.priority_scorer(features)                 # 출력층 연결\n",
    "        department = self.department_classifier(features)\n",
    "        return priority, department                               # 두 종류의 출력값 지정"
   ]
  },
  {
   "cell_type": "markdown",
   "metadata": {},
   "source": [
    "모델 구성은 해당 모델의 객체를 생성하면 된다.\n",
    "다만 `Layer`의 경우처럼 가중치는 실제 데이터와 함께 호출되지 전까지 생성되지 않는다."
   ]
  },
  {
   "cell_type": "code",
   "execution_count": 82,
   "metadata": {
    "colab_type": "code"
   },
   "outputs": [
    {
     "data": {
      "text/plain": [
       "[]"
      ]
     },
     "execution_count": 82,
     "metadata": {},
     "output_type": "execute_result"
    }
   ],
   "source": [
    "model = CustomerTicketModel(num_departments=4)\n",
    "\n",
    "model.weights"
   ]
  },
  {
   "cell_type": "markdown",
   "metadata": {},
   "source": [
    "컴파일, 훈련, 평가, 예측은 이전과 완전히 동일한 방식으로 실행된다."
   ]
  },
  {
   "cell_type": "code",
   "execution_count": 79,
   "metadata": {
    "colab_type": "code"
   },
   "outputs": [],
   "source": [
    "model.compile(optimizer=\"adam\",\n",
    "              loss=[\"mean_squared_error\", \"categorical_crossentropy\"],\n",
    "              metrics=[[\"mean_absolute_error\", \"mean_squared_error\"], [\"accuracy\", \"AUC\", \"Precision\"]])"
   ]
  },
  {
   "cell_type": "code",
   "execution_count": 80,
   "metadata": {
    "colab_type": "code"
   },
   "outputs": [
    {
     "name": "stdout",
     "output_type": "stream",
     "text": [
      "40/40 [==============================] - 1s 10ms/step - loss: 8.7186 - output_1_loss: 0.3305 - output_2_loss: 8.3881 - output_1_mean_absolute_error: 0.4971 - output_1_mean_squared_error: 0.3305 - output_2_accuracy: 0.3133 - output_2_auc: 0.5452 - output_2_precision: 0.5685\n",
      "40/40 [==============================] - 0s 6ms/step - loss: 4.2246 - output_1_loss: 0.3305 - output_2_loss: 3.8941 - output_1_mean_absolute_error: 0.4971 - output_1_mean_squared_error: 0.3305 - output_2_accuracy: 0.3938 - output_2_auc: 0.6467 - output_2_precision: 0.6597\n",
      "40/40 [==============================] - 0s 2ms/step\n"
     ]
    }
   ],
   "source": [
    "model.fit({\"title\": title_data, \"text_body\": text_body_data, \"tags\": tags_data},\n",
    "          [priority_data, department_data],\n",
    "          epochs=1)\n",
    "model.evaluate({\"title\": title_data, \"text_body\": text_body_data, \"tags\": tags_data},\n",
    "               [priority_data, department_data])\n",
    "priority_preds, department_preds = model.predict(\n",
    "    {\"title\": title_data, \"text_body\": text_body_data, \"tags\": tags_data})"
   ]
  },
  {
   "cell_type": "markdown",
   "metadata": {
    "colab_type": "text"
   },
   "source": [
    "### 7.2.4. 혼합 모델 구성법"
   ]
  },
  {
   "cell_type": "markdown",
   "metadata": {},
   "source": [
    "소개된 세 가지 방식을 임의로 혼합하여 활용할 수 있다. "
   ]
  },
  {
   "cell_type": "markdown",
   "metadata": {
    "colab_type": "text"
   },
   "source": [
    "**예제: 서브클래싱 모델을 함수형 모델에 활용하기** (강추!!!)"
   ]
  },
  {
   "cell_type": "code",
   "execution_count": 42,
   "metadata": {
    "colab_type": "code"
   },
   "outputs": [],
   "source": [
    "class Classifier(keras.Model):\n",
    "\n",
    "    def __init__(self, num_classes=2):\n",
    "        super().__init__()\n",
    "        if num_classes == 2:\n",
    "            num_units = 1\n",
    "            activation = \"sigmoid\"\n",
    "        else:\n",
    "            num_units = num_classes\n",
    "            activation = \"softmax\"\n",
    "        self.dense = layers.Dense(num_units, activation=activation)\n",
    "\n",
    "    def call(self, inputs):\n",
    "        return self.dense(inputs)\n",
    "\n",
    "inputs = keras.Input(shape=(3,))\n",
    "features = layers.Dense(64, activation=\"relu\")(inputs)\n",
    "outputs = Classifier(num_classes=10)(features)\n",
    "model = keras.Model(inputs=inputs, outputs=outputs)"
   ]
  },
  {
   "cell_type": "markdown",
   "metadata": {
    "colab_type": "text"
   },
   "source": [
    "**예제: 함수형 모델을 서브클래싱 모델에 활용하기**"
   ]
  },
  {
   "cell_type": "code",
   "execution_count": 43,
   "metadata": {
    "colab_type": "code"
   },
   "outputs": [],
   "source": [
    "inputs = keras.Input(shape=(64,))\n",
    "outputs = layers.Dense(1, activation=\"sigmoid\")(inputs)\n",
    "binary_classifier = keras.Model(inputs=inputs, outputs=outputs)\n",
    "\n",
    "class MyModel(keras.Model):\n",
    "\n",
    "    def __init__(self, num_classes=2):\n",
    "        super().__init__()\n",
    "        self.dense = layers.Dense(64, activation=\"relu\")\n",
    "        self.classifier = binary_classifier\n",
    "\n",
    "    def call(self, inputs):\n",
    "        features = self.dense(inputs)\n",
    "        return self.classifier(features)\n",
    "\n",
    "model = MyModel()"
   ]
  },
  {
   "cell_type": "markdown",
   "metadata": {
    "colab_type": "text"
   },
   "source": [
    "## 7.3 모델 훈련/평가 방식 조정"
   ]
  },
  {
   "cell_type": "markdown",
   "metadata": {
    "colab_type": "text"
   },
   "source": [
    "케라스 모델의 구성, 훈련, 평가, 예측은 정해진 방식으로 차례대로 이루어진다.\n",
    "아래 코드는 MNIST 데이터셋을 이용한 모델 훈련 전반 과정을 보여준다."
   ]
  },
  {
   "cell_type": "code",
   "execution_count": 44,
   "metadata": {
    "colab_type": "code"
   },
   "outputs": [
    {
     "name": "stdout",
     "output_type": "stream",
     "text": [
      "Epoch 1/3\n",
      "1563/1563 [==============================] - 5s 3ms/step - loss: 0.2976 - accuracy: 0.9111 - val_loss: 0.1464 - val_accuracy: 0.9576\n",
      "Epoch 2/3\n",
      "1563/1563 [==============================] - 5s 3ms/step - loss: 0.1625 - accuracy: 0.9530 - val_loss: 0.1181 - val_accuracy: 0.9663\n",
      "Epoch 3/3\n",
      "1563/1563 [==============================] - 5s 3ms/step - loss: 0.1312 - accuracy: 0.9631 - val_loss: 0.1103 - val_accuracy: 0.9701\n",
      "313/313 [==============================] - 1s 2ms/step - loss: 0.0987 - accuracy: 0.9733\n",
      "313/313 [==============================] - 0s 972us/step\n"
     ]
    }
   ],
   "source": [
    "from tensorflow.keras.datasets import mnist\n",
    "\n",
    "def get_mnist_model():\n",
    "    inputs = keras.Input(shape=(28 * 28,))\n",
    "    features = layers.Dense(512, activation=\"relu\")(inputs)\n",
    "    features = layers.Dropout(0.5)(features)\n",
    "    outputs = layers.Dense(10, activation=\"softmax\")(features)\n",
    "    model = keras.Model(inputs, outputs)\n",
    "    return model\n",
    "\n",
    "(images, labels), (test_images, test_labels) = mnist.load_data()\n",
    "images = images.reshape((60000, 28 * 28)).astype(\"float32\") / 255\n",
    "test_images = test_images.reshape((10000, 28 * 28)).astype(\"float32\") / 255\n",
    "train_images, val_images = images[10000:], images[:10000]\n",
    "train_labels, val_labels = labels[10000:], labels[:10000]\n",
    "\n",
    "model = get_mnist_model()\n",
    "model.compile(optimizer=\"rmsprop\",\n",
    "              loss=\"sparse_categorical_crossentropy\",\n",
    "              metrics=[\"accuracy\"])\n",
    "model.fit(train_images, train_labels,\n",
    "          epochs=3,\n",
    "          validation_data=(val_images, val_labels))\n",
    "test_metrics = model.evaluate(test_images, test_labels)\n",
    "predictions = model.predict(test_images)"
   ]
  },
  {
   "cell_type": "markdown",
   "metadata": {
    "colab_type": "text"
   },
   "source": [
    "### 7.3.1. 사용자 정의 평가지표 활용"
   ]
  },
  {
   "cell_type": "markdown",
   "metadata": {
    "colab_type": "text"
   },
   "source": [
    "**`Metric` 클래스 상속**\n",
    "\n",
    "아래 세 개의 메서드를 재정의(overriding)해야 한다.\n",
    "\n",
    "- `update_state()`\n",
    "- `result()`\n",
    "- `reset_state()`\n",
    "\n",
    "아래 코드는 평균제곱근오차(RMSE)를 평가지표로 사용하는 클래스를 \n",
    "이용하는 모델 훈련을 소개한다."
   ]
  },
  {
   "cell_type": "code",
   "execution_count": 45,
   "metadata": {
    "colab_type": "code"
   },
   "outputs": [],
   "source": [
    "import tensorflow as tf\n",
    "\n",
    "class RootMeanSquaredError(keras.metrics.Metric):\n",
    "\n",
    "    def __init__(self, name=\"rmse\", **kwargs):\n",
    "        super().__init__(name=name, **kwargs)\n",
    "        self.mse_sum = self.add_weight(name=\"mse_sum\", initializer=\"zeros\")\n",
    "        self.total_samples = self.add_weight(\n",
    "            name=\"total_samples\", initializer=\"zeros\", dtype=\"int32\")\n",
    "\n",
    "    def update_state(self, y_true, y_pred, sample_weight=None):\n",
    "        y_true = tf.one_hot(y_true, depth=tf.shape(y_pred)[1])\n",
    "        mse = tf.reduce_sum(tf.square(y_true - y_pred))\n",
    "        self.mse_sum.assign_add(mse)\n",
    "        num_samples = tf.shape(y_pred)[0]\n",
    "        self.total_samples.assign_add(num_samples)\n",
    "\n",
    "    def result(self):\n",
    "        return tf.sqrt(self.mse_sum / tf.cast(self.total_samples, tf.float32))\n",
    "\n",
    "    def reset_state(self):\n",
    "        self.mse_sum.assign(0.)\n",
    "        self.total_samples.assign(0)"
   ]
  },
  {
   "cell_type": "code",
   "execution_count": 46,
   "metadata": {
    "colab_type": "code"
   },
   "outputs": [
    {
     "name": "stdout",
     "output_type": "stream",
     "text": [
      "Epoch 1/3\n",
      "1563/1563 [==============================] - 6s 3ms/step - loss: 0.2903 - accuracy: 0.9150 - rmse: 7.1811 - val_loss: 0.1412 - val_accuracy: 0.9592 - val_rmse: 7.3580\n",
      "Epoch 2/3\n",
      "1563/1563 [==============================] - 5s 3ms/step - loss: 0.1563 - accuracy: 0.9553 - rmse: 7.3520 - val_loss: 0.1145 - val_accuracy: 0.9678 - val_rmse: 7.4019\n",
      "Epoch 3/3\n",
      "1563/1563 [==============================] - 5s 3ms/step - loss: 0.1271 - accuracy: 0.9634 - rmse: 7.3867 - val_loss: 0.1094 - val_accuracy: 0.9721 - val_rmse: 7.4228\n",
      "313/313 [==============================] - 1s 2ms/step - loss: 0.0937 - accuracy: 0.9727 - rmse: 7.4332\n"
     ]
    }
   ],
   "source": [
    "model = get_mnist_model()\n",
    "model.compile(optimizer=\"rmsprop\",\n",
    "              loss=\"sparse_categorical_crossentropy\",\n",
    "              metrics=[\"accuracy\", RootMeanSquaredError()])\n",
    "model.fit(train_images, train_labels,\n",
    "          epochs=3,\n",
    "          validation_data=(val_images, val_labels))\n",
    "test_metrics = model.evaluate(test_images, test_labels)"
   ]
  },
  {
   "cell_type": "markdown",
   "metadata": {
    "colab_type": "text"
   },
   "source": [
    "### 7.3.2. 콜백 활용"
   ]
  },
  {
   "cell_type": "markdown",
   "metadata": {},
   "source": [
    "**콜백**(callback)은 모델 훈련 도중에 부가적으로 호출되는 객체이며\n",
    "학습 과정을 모니터링 하면서 일부 제어기능을 수행하는 다양한 메서드를 제공한다.\n",
    "콜백이 활용되는 주요 기능은 다음과 같다.\n",
    "\n",
    "- 모델 체크포인팅: 훈련 중 모델 상태 수시로 저장\n",
    "- 훈련 조기 중단: 검증셋 손실이 더 이상 개선되지 않는 경우 훈련 중단\n",
    "- 하이퍼 파라미터 조정: 학습률의 동적 변경\n",
    "- 훈련 기록 작성: 훈련셋 및 검증셋의 손실값, 평가지표 등 기록 및 시각화\n",
    "\n",
    "```python\n",
    "keras.callbacks.ModelCheckpoint\n",
    "keras.callbacks.EarlyStopping\n",
    "keras.callbacks.LearningRateScheduler\n",
    "keras.callbacks.ReduceLROnPlateau\n",
    "keras.callbacks.CSVLogger\n",
    "```\n",
    "\n",
    "여기서는 `EarlyStopping`과 `ModelCheckpoint` 두 콜백의 기능을 살펴본다."
   ]
  },
  {
   "cell_type": "markdown",
   "metadata": {
    "colab_type": "text"
   },
   "source": [
    "**`fit()` 메서드에서 `callbacks` 인자 사용하기**\n",
    "\n",
    "아래 코드에 사용된 옵션은 다음과 같다.\n",
    "\n",
    "- `EarlyStopping`: 검증셋에 대한 정확도가 2 에포크(epoch) 연속 개선되지 않을 때 훈련 종료\n",
    "- `ModelCheckpoint`: 매 에포크마다 훈련된 모델 저장. \n",
    "    `save_best_only=True`가 설정된 경우 검증셋에 대한 손실값이 가장 낮은 모델만 저장."
   ]
  },
  {
   "cell_type": "code",
   "execution_count": 47,
   "metadata": {
    "colab_type": "code"
   },
   "outputs": [],
   "source": [
    "callbacks_list = [\n",
    "    keras.callbacks.EarlyStopping(\n",
    "        monitor=\"val_accuracy\",\n",
    "        patience=2,\n",
    "    ),\n",
    "    keras.callbacks.ModelCheckpoint(\n",
    "        filepath=\"checkpoint_path\",\n",
    "        monitor=\"val_loss\",\n",
    "        save_best_only=True,\n",
    "    )\n",
    "]"
   ]
  },
  {
   "cell_type": "code",
   "execution_count": 48,
   "metadata": {
    "colab_type": "code"
   },
   "outputs": [
    {
     "name": "stdout",
     "output_type": "stream",
     "text": [
      "Epoch 1/10\n",
      "1552/1563 [============================>.] - ETA: 0s - loss: 0.2951 - accuracy: 0.9114INFO:tensorflow:Assets written to: checkpoint_path/assets\n"
     ]
    },
    {
     "name": "stderr",
     "output_type": "stream",
     "text": [
      "INFO:tensorflow:Assets written to: checkpoint_path/assets\n"
     ]
    },
    {
     "name": "stdout",
     "output_type": "stream",
     "text": [
      "1563/1563 [==============================] - 6s 3ms/step - loss: 0.2944 - accuracy: 0.9117 - val_loss: 0.1504 - val_accuracy: 0.9578\n",
      "Epoch 2/10\n",
      "1545/1563 [============================>.] - ETA: 0s - loss: 0.1599 - accuracy: 0.9542INFO:tensorflow:Assets written to: checkpoint_path/assets\n"
     ]
    },
    {
     "name": "stderr",
     "output_type": "stream",
     "text": [
      "INFO:tensorflow:Assets written to: checkpoint_path/assets\n"
     ]
    },
    {
     "name": "stdout",
     "output_type": "stream",
     "text": [
      "1563/1563 [==============================] - 5s 3ms/step - loss: 0.1597 - accuracy: 0.9543 - val_loss: 0.1237 - val_accuracy: 0.9663\n",
      "Epoch 3/10\n",
      "1551/1563 [============================>.] - ETA: 0s - loss: 0.1326 - accuracy: 0.9628INFO:tensorflow:Assets written to: checkpoint_path/assets\n"
     ]
    },
    {
     "name": "stderr",
     "output_type": "stream",
     "text": [
      "INFO:tensorflow:Assets written to: checkpoint_path/assets\n"
     ]
    },
    {
     "name": "stdout",
     "output_type": "stream",
     "text": [
      "1563/1563 [==============================] - 5s 3ms/step - loss: 0.1326 - accuracy: 0.9628 - val_loss: 0.1050 - val_accuracy: 0.9719\n",
      "Epoch 4/10\n",
      "1554/1563 [============================>.] - ETA: 0s - loss: 0.1156 - accuracy: 0.9682INFO:tensorflow:Assets written to: checkpoint_path/assets\n"
     ]
    },
    {
     "name": "stderr",
     "output_type": "stream",
     "text": [
      "INFO:tensorflow:Assets written to: checkpoint_path/assets\n"
     ]
    },
    {
     "name": "stdout",
     "output_type": "stream",
     "text": [
      "1563/1563 [==============================] - 5s 3ms/step - loss: 0.1157 - accuracy: 0.9682 - val_loss: 0.1014 - val_accuracy: 0.9734\n",
      "Epoch 5/10\n",
      "1556/1563 [============================>.] - ETA: 0s - loss: 0.1022 - accuracy: 0.9718INFO:tensorflow:Assets written to: checkpoint_path/assets\n"
     ]
    },
    {
     "name": "stderr",
     "output_type": "stream",
     "text": [
      "INFO:tensorflow:Assets written to: checkpoint_path/assets\n"
     ]
    },
    {
     "name": "stdout",
     "output_type": "stream",
     "text": [
      "1563/1563 [==============================] - 5s 3ms/step - loss: 0.1027 - accuracy: 0.9717 - val_loss: 0.0941 - val_accuracy: 0.9743\n",
      "Epoch 6/10\n",
      "1563/1563 [==============================] - 5s 3ms/step - loss: 0.0981 - accuracy: 0.9741 - val_loss: 0.0980 - val_accuracy: 0.9764\n",
      "Epoch 7/10\n",
      "1555/1563 [============================>.] - ETA: 0s - loss: 0.0880 - accuracy: 0.9767INFO:tensorflow:Assets written to: checkpoint_path/assets\n"
     ]
    },
    {
     "name": "stderr",
     "output_type": "stream",
     "text": [
      "INFO:tensorflow:Assets written to: checkpoint_path/assets\n"
     ]
    },
    {
     "name": "stdout",
     "output_type": "stream",
     "text": [
      "1563/1563 [==============================] - 5s 3ms/step - loss: 0.0879 - accuracy: 0.9767 - val_loss: 0.0879 - val_accuracy: 0.9783\n",
      "Epoch 8/10\n",
      "1563/1563 [==============================] - 5s 3ms/step - loss: 0.0842 - accuracy: 0.9777 - val_loss: 0.0880 - val_accuracy: 0.9775\n",
      "Epoch 9/10\n",
      "1563/1563 [==============================] - 5s 3ms/step - loss: 0.0772 - accuracy: 0.9787 - val_loss: 0.0893 - val_accuracy: 0.9792\n",
      "Epoch 10/10\n",
      "1563/1563 [==============================] - 5s 3ms/step - loss: 0.0754 - accuracy: 0.9802 - val_loss: 0.0882 - val_accuracy: 0.9799\n"
     ]
    },
    {
     "data": {
      "text/plain": [
       "<keras.src.callbacks.History at 0x7fc6b41eb810>"
      ]
     },
     "execution_count": 48,
     "metadata": {},
     "output_type": "execute_result"
    }
   ],
   "source": [
    "model = get_mnist_model()\n",
    "model.compile(optimizer=\"rmsprop\",\n",
    "              loss=\"sparse_categorical_crossentropy\",\n",
    "              metrics=[\"accuracy\"])\n",
    "model.fit(train_images, train_labels,\n",
    "          epochs=10,\n",
    "          callbacks=callbacks_list,\n",
    "          validation_data=(val_images, val_labels))"
   ]
  },
  {
   "cell_type": "markdown",
   "metadata": {},
   "source": [
    "조기종료 후 훈련과정에서 저장된 최고 성능의 모델을 불러오면 다음과 같다."
   ]
  },
  {
   "cell_type": "code",
   "execution_count": 49,
   "metadata": {
    "colab_type": "code"
   },
   "outputs": [],
   "source": [
    "model = keras.models.load_model(\"checkpoint_path\")"
   ]
  },
  {
   "cell_type": "markdown",
   "metadata": {
    "colab_type": "text"
   },
   "source": [
    "### 7.3.3. 사용자 정의 콜백 활용"
   ]
  },
  {
   "cell_type": "markdown",
   "metadata": {
    "colab_type": "text"
   },
   "source": [
    "**`Callback` 클래스 상속**\n",
    "\n",
    "매 에포크와 매 배치 훈련 단계의 시작과 종료 지점에서\n",
    "수행해야 할 기능을 정의해야 하며 아래 메서드를 재정의하는 방식으로 이루어진다.\n",
    "\n",
    "```python\n",
    "on_epoch_begin(epoch, logs)\n",
    "on_epoch_end(epoch, logs)\n",
    "on_batch_begin(batch, logs)\n",
    "on_batch_end(batch, logs)\n",
    "on_train_begin(logs)\n",
    "on_train_end(logs)\n",
    "```\n",
    "\n",
    "각 메서드에 사용되는 인자는 훈련 과정 중에 자동으로 생성된 객체로부터 값을 받아온다.\n",
    "\n",
    "- `logs` 인자: 이전 배치와 에포크의 훈련셋과 검증셋에 대한 손실값, 평가지표 등을 포함한 사전 객체.\n",
    "- `batch`, `epoch`: 배치와 에포크 정보\n",
    "\n",
    "다음 `LossHistory` 콜백 클래스는 배치 훈련이 끝날 때마다 손실값을 저장하고\n",
    "에포크가 끝날 때마다 배치별 손실값을 그래프로 저장하여 훈련이 종료된 후 시각화하여 보여주도록 한다."
   ]
  },
  {
   "cell_type": "code",
   "execution_count": 50,
   "metadata": {
    "colab_type": "code"
   },
   "outputs": [],
   "source": [
    "from matplotlib import pyplot as plt\n",
    "\n",
    "class LossHistory(keras.callbacks.Callback):\n",
    "    def on_train_begin(self, logs):\n",
    "        self.per_batch_losses = []\n",
    "\n",
    "    def on_batch_end(self, batch, logs):\n",
    "        self.per_batch_losses.append(logs.get(\"loss\"))\n",
    "\n",
    "    def on_epoch_end(self, epoch, logs):\n",
    "        plt.clf()\n",
    "        plt.plot(range(len(self.per_batch_losses)), self.per_batch_losses,\n",
    "                 label=\"Training loss for each batch\")\n",
    "        plt.xlabel(f\"Batch (epoch {epoch})\")\n",
    "        plt.ylabel(\"Loss\")\n",
    "        plt.legend()\n",
    "        plt.savefig(f\"plot_at_epoch_{epoch}\")\n",
    "        self.per_batch_losses = []"
   ]
  },
  {
   "cell_type": "code",
   "execution_count": 51,
   "metadata": {
    "colab_type": "code"
   },
   "outputs": [
    {
     "name": "stdout",
     "output_type": "stream",
     "text": [
      "Epoch 1/10\n",
      "1563/1563 [==============================] - 6s 4ms/step - loss: 0.2915 - accuracy: 0.9142 - val_loss: 0.1353 - val_accuracy: 0.9623\n",
      "Epoch 2/10\n",
      "1563/1563 [==============================] - 6s 4ms/step - loss: 0.1560 - accuracy: 0.9546 - val_loss: 0.1231 - val_accuracy: 0.9652\n",
      "Epoch 3/10\n",
      "1563/1563 [==============================] - 6s 4ms/step - loss: 0.1323 - accuracy: 0.9626 - val_loss: 0.1056 - val_accuracy: 0.9706\n",
      "Epoch 4/10\n",
      "1563/1563 [==============================] - 6s 4ms/step - loss: 0.1163 - accuracy: 0.9682 - val_loss: 0.1009 - val_accuracy: 0.9740\n",
      "Epoch 5/10\n",
      "1563/1563 [==============================] - 5s 3ms/step - loss: 0.1024 - accuracy: 0.9721 - val_loss: 0.0948 - val_accuracy: 0.9762\n",
      "Epoch 6/10\n",
      "1563/1563 [==============================] - 5s 3ms/step - loss: 0.0971 - accuracy: 0.9725 - val_loss: 0.0997 - val_accuracy: 0.9763\n",
      "Epoch 7/10\n",
      "1563/1563 [==============================] - 5s 3ms/step - loss: 0.0881 - accuracy: 0.9767 - val_loss: 0.0988 - val_accuracy: 0.9782\n",
      "Epoch 8/10\n",
      "1563/1563 [==============================] - 5s 3ms/step - loss: 0.0806 - accuracy: 0.9774 - val_loss: 0.0938 - val_accuracy: 0.9782\n",
      "Epoch 9/10\n",
      "1563/1563 [==============================] - 5s 3ms/step - loss: 0.0762 - accuracy: 0.9796 - val_loss: 0.0891 - val_accuracy: 0.9796\n",
      "Epoch 10/10\n",
      "1563/1563 [==============================] - 5s 3ms/step - loss: 0.0742 - accuracy: 0.9803 - val_loss: 0.0953 - val_accuracy: 0.9792\n"
     ]
    },
    {
     "data": {
      "text/plain": [
       "<keras.src.callbacks.History at 0x7fc668423790>"
      ]
     },
     "execution_count": 51,
     "metadata": {},
     "output_type": "execute_result"
    },
    {
     "data": {
      "image/png": "[encoded data removed]",
      "text/plain": [
       "<Figure size 640x480 with 1 Axes>"
      ]
     },
     "metadata": {},
     "output_type": "display_data"
    }
   ],
   "source": [
    "model = get_mnist_model()\n",
    "model.compile(optimizer=\"rmsprop\",\n",
    "              loss=\"sparse_categorical_crossentropy\",\n",
    "              metrics=[\"accuracy\"])\n",
    "model.fit(train_images, train_labels,\n",
    "          epochs=10,\n",
    "          callbacks=[LossHistory()],\n",
    "          validation_data=(val_images, val_labels))"
   ]
  },
  {
   "cell_type": "markdown",
   "metadata": {
    "colab_type": "text"
   },
   "source": [
    "### 7.3.4. 텐서보드(TensorBoard) 활용"
   ]
  },
  {
   "cell_type": "markdown",
   "metadata": {},
   "source": [
    "**텐서보드**(TensorBoard)는 모델 훈련과정을 모니터링하는 최고의 어플이며\n",
    "텐서플로우와 함께 기본적으로 설치된다.\n",
    "\n",
    "**주의사항**: 텐서보드 데이터의 저장경로를 Chollet의 원본 주피터 노트북에 작성되어 있는\n",
    "\n",
    "```python\n",
    "/full_path_to_your_log_dir\n",
    "```\n",
    "\n",
    "대신에 \n",
    "\n",
    "```python\n",
    "./tensorboard_log_dir\n",
    "```\n",
    "\n",
    "등을 사용해야 리눅스, 맥 운영체제에서 오류가 발생하지 않는다."
   ]
  },
  {
   "cell_type": "code",
   "execution_count": 52,
   "metadata": {
    "colab_type": "code"
   },
   "outputs": [
    {
     "name": "stdout",
     "output_type": "stream",
     "text": [
      "Epoch 1/10\n",
      "1563/1563 [==============================] - 5s 3ms/step - loss: 0.2952 - accuracy: 0.9116 - val_loss: 0.1523 - val_accuracy: 0.9556\n",
      "Epoch 2/10\n",
      "1563/1563 [==============================] - 5s 3ms/step - loss: 0.1600 - accuracy: 0.9534 - val_loss: 0.1147 - val_accuracy: 0.9657\n",
      "Epoch 3/10\n",
      "1563/1563 [==============================] - 5s 3ms/step - loss: 0.1302 - accuracy: 0.9629 - val_loss: 0.1071 - val_accuracy: 0.9710\n",
      "Epoch 4/10\n",
      "1563/1563 [==============================] - 5s 3ms/step - loss: 0.1128 - accuracy: 0.9687 - val_loss: 0.0944 - val_accuracy: 0.9755\n",
      "Epoch 5/10\n",
      "1563/1563 [==============================] - 5s 3ms/step - loss: 0.1027 - accuracy: 0.9714 - val_loss: 0.0944 - val_accuracy: 0.9770\n",
      "Epoch 6/10\n",
      "1563/1563 [==============================] - 5s 3ms/step - loss: 0.0933 - accuracy: 0.9743 - val_loss: 0.0896 - val_accuracy: 0.9772\n",
      "Epoch 7/10\n",
      "1563/1563 [==============================] - 5s 3ms/step - loss: 0.0834 - accuracy: 0.9776 - val_loss: 0.0966 - val_accuracy: 0.9782\n",
      "Epoch 8/10\n",
      "1563/1563 [==============================] - 5s 3ms/step - loss: 0.0840 - accuracy: 0.9775 - val_loss: 0.0952 - val_accuracy: 0.9784\n",
      "Epoch 9/10\n",
      "1563/1563 [==============================] - 5s 3ms/step - loss: 0.0784 - accuracy: 0.9795 - val_loss: 0.0891 - val_accuracy: 0.9785\n",
      "Epoch 10/10\n",
      "1563/1563 [==============================] - 5s 3ms/step - loss: 0.0727 - accuracy: 0.9809 - val_loss: 0.0891 - val_accuracy: 0.9804\n"
     ]
    },
    {
     "data": {
      "text/plain": [
       "<keras.src.callbacks.History at 0x7fc628360d50>"
      ]
     },
     "execution_count": 52,
     "metadata": {},
     "output_type": "execute_result"
    }
   ],
   "source": [
    "model = get_mnist_model()\n",
    "model.compile(optimizer=\"rmsprop\",\n",
    "              loss=\"sparse_categorical_crossentropy\",\n",
    "              metrics=[\"accuracy\"])\n",
    "\n",
    "tensorboard = keras.callbacks.TensorBoard(\n",
    "    log_dir=\"./tensorboard_log_dir\",\n",
    ")\n",
    "\n",
    "model.fit(train_images, train_labels,\n",
    "          epochs=10,\n",
    "          validation_data=(val_images, val_labels),\n",
    "          callbacks=[tensorboard])"
   ]
  },
  {
   "cell_type": "markdown",
   "metadata": {},
   "source": [
    "텐서보드를 주피터 노트북에서 아래처럼 실행할 수 있다."
   ]
  },
  {
   "cell_type": "code",
   "execution_count": 53,
   "metadata": {
    "colab_type": "code",
    "scrolled": true
   },
   "outputs": [
    {
     "data": {
      "text/html": [
       "\n",
       "      <iframe id=\"tensorboard-frame-cc612a67ed58e7c0\" width=\"100%\" height=\"800\" frameborder=\"0\">\n",
       "      </iframe>\n",
       "      <script>\n",
       "        (function() {\n",
       "          const frame = document.getElementById(\"tensorboard-frame-cc612a67ed58e7c0\");\n",
       "          const url = new URL(\"/\", window.location);\n",
       "          const port = 6006;\n",
       "          if (port) {\n",
       "            url.port = port;\n",
       "          }\n",
       "          frame.src = url;\n",
       "        })();\n",
       "      </script>\n",
       "    "
      ],
      "text/plain": [
       "<IPython.core.display.HTML object>"
      ]
     },
     "metadata": {},
     "output_type": "display_data"
    }
   ],
   "source": [
    "%load_ext tensorboard\n",
    "%tensorboard --logdir ./tensorboard_log_dir"
   ]
  },
  {
   "cell_type": "markdown",
   "metadata": {},
   "source": [
    "텐서보드를 독립적으로 실행하여 훈련과정을 실시간으로 모니터링 하려면\n",
    "아래 명령문 형식으로 터미널 창에서 실행하고 반환된 주소로 접속하면 된다.\n",
    "\n",
    "```python\n",
    "tensorboard --logdir ./tensorboard_log_dir\n",
    "```"
   ]
  },
  {
   "cell_type": "markdown",
   "metadata": {
    "colab_type": "text"
   },
   "source": [
    "## 7.4 훈련/평가 알고리즘 직접 구현하기"
   ]
  },
  {
   "cell_type": "markdown",
   "metadata": {},
   "source": [
    "모델 컴파일 이후 `fit()` 메서드를 호출하면 모델의 훈련이 진행된다.\n",
    "그런데 모델의 훈련 방식을 사용자가 직접 조정할 수 있는 방식으로 진행하고자 하면\n",
    "아래 과정을 자신만의 알고리즘으로 직접 구현하면 된다.\n",
    "\n",
    "- 순전파<font size='2'>forward pass</font>\n",
    "- 손실함수의 그레이디언트 계산\n",
    "- 역전파<font size='2'>backward pass</font>"
   ]
  },
  {
   "cell_type": "markdown",
   "metadata": {
    "colab_type": "text"
   },
   "source": [
    "### Low-level usage of metrics"
   ]
  },
  {
   "cell_type": "code",
   "execution_count": 49,
   "metadata": {
    "colab_type": "code"
   },
   "outputs": [
    {
     "name": "stdout",
     "output_type": "stream",
     "text": [
      "result: 1.00\n"
     ]
    }
   ],
   "source": [
    "metric = keras.metrics.SparseCategoricalAccuracy()\n",
    "targets = [0, 1, 2]\n",
    "predictions = [[1, 0, 0], [0, 1, 0], [0, 0, 1]]\n",
    "metric.update_state(targets, predictions)\n",
    "current_result = metric.result()\n",
    "print(f\"result: {current_result:.2f}\")"
   ]
  },
  {
   "cell_type": "code",
   "execution_count": 50,
   "metadata": {
    "colab_type": "code"
   },
   "outputs": [
    {
     "name": "stdout",
     "output_type": "stream",
     "text": [
      "Mean of values: 2.00\n"
     ]
    }
   ],
   "source": [
    "values = [0, 1, 2, 3, 4]\n",
    "mean_tracker = keras.metrics.Mean()\n",
    "for value in values:\n",
    "    mean_tracker.update_state(value)\n",
    "print(f\"Mean of values: {mean_tracker.result():.2f}\")"
   ]
  },
  {
   "cell_type": "markdown",
   "metadata": {
    "colab_type": "text"
   },
   "source": [
    "### A complete training and evaluation loop"
   ]
  },
  {
   "cell_type": "markdown",
   "metadata": {
    "colab_type": "text"
   },
   "source": [
    "**Writing a step-by-step training loop: the training step function**"
   ]
  },
  {
   "cell_type": "code",
   "execution_count": 51,
   "metadata": {
    "colab_type": "code"
   },
   "outputs": [],
   "source": [
    "model = get_mnist_model()\n",
    "\n",
    "loss_fn = keras.losses.SparseCategoricalCrossentropy()\n",
    "optimizer = keras.optimizers.RMSprop()\n",
    "metrics = [keras.metrics.SparseCategoricalAccuracy()]\n",
    "loss_tracking_metric = keras.metrics.Mean()\n",
    "\n",
    "def train_step(inputs, targets):\n",
    "    with tf.GradientTape() as tape:\n",
    "        predictions = model(inputs, training=True)\n",
    "        loss = loss_fn(targets, predictions)\n",
    "    gradients = tape.gradient(loss, model.trainable_weights)\n",
    "    optimizer.apply_gradients(zip(gradients, model.trainable_weights))\n",
    "\n",
    "    logs = {}\n",
    "    for metric in metrics:\n",
    "        metric.update_state(targets, predictions)\n",
    "        logs[metric.name] = metric.result()\n",
    "\n",
    "    loss_tracking_metric.update_state(loss)\n",
    "    logs[\"loss\"] = loss_tracking_metric.result()\n",
    "    return logs"
   ]
  },
  {
   "cell_type": "markdown",
   "metadata": {
    "colab_type": "text"
   },
   "source": [
    "**Writing a step-by-step training loop: resetting the metrics**"
   ]
  },
  {
   "cell_type": "code",
   "execution_count": 52,
   "metadata": {
    "colab_type": "code"
   },
   "outputs": [],
   "source": [
    "def reset_metrics():\n",
    "    for metric in metrics:\n",
    "        metric.reset_state()\n",
    "    loss_tracking_metric.reset_state()"
   ]
  },
  {
   "cell_type": "markdown",
   "metadata": {
    "colab_type": "text"
   },
   "source": [
    "**Writing a step-by-step training loop: the loop itself**"
   ]
  },
  {
   "cell_type": "code",
   "execution_count": 53,
   "metadata": {
    "colab_type": "code"
   },
   "outputs": [
    {
     "name": "stdout",
     "output_type": "stream",
     "text": [
      "Results at the end of epoch 0\n",
      "...sparse_categorical_accuracy: 0.9147\n",
      "...loss: 0.2903\n",
      "Results at the end of epoch 1\n",
      "...sparse_categorical_accuracy: 0.9538\n",
      "...loss: 0.1608\n",
      "Results at the end of epoch 2\n",
      "...sparse_categorical_accuracy: 0.9642\n",
      "...loss: 0.1285\n"
     ]
    }
   ],
   "source": [
    "training_dataset = tf.data.Dataset.from_tensor_slices((train_images, train_labels))\n",
    "training_dataset = training_dataset.batch(32)\n",
    "epochs = 3\n",
    "for epoch in range(epochs):\n",
    "    reset_metrics()\n",
    "    for inputs_batch, targets_batch in training_dataset:\n",
    "        logs = train_step(inputs_batch, targets_batch)\n",
    "    print(f\"Results at the end of epoch {epoch}\")\n",
    "    for key, value in logs.items():\n",
    "        print(f\"...{key}: {value:.4f}\")"
   ]
  },
  {
   "cell_type": "markdown",
   "metadata": {
    "colab_type": "text"
   },
   "source": [
    "**Writing a step-by-step evaluation loop**"
   ]
  },
  {
   "cell_type": "code",
   "execution_count": 54,
   "metadata": {
    "colab_type": "code"
   },
   "outputs": [
    {
     "name": "stdout",
     "output_type": "stream",
     "text": [
      "Evaluation results:\n",
      "...val_sparse_categorical_accuracy: 0.9682\n",
      "...val_loss: 0.1198\n"
     ]
    }
   ],
   "source": [
    "def test_step(inputs, targets):\n",
    "    predictions = model(inputs, training=False)\n",
    "    loss = loss_fn(targets, predictions)\n",
    "\n",
    "    logs = {}\n",
    "    for metric in metrics:\n",
    "        metric.update_state(targets, predictions)\n",
    "        logs[\"val_\" + metric.name] = metric.result()\n",
    "\n",
    "    loss_tracking_metric.update_state(loss)\n",
    "    logs[\"val_loss\"] = loss_tracking_metric.result()\n",
    "    return logs\n",
    "\n",
    "val_dataset = tf.data.Dataset.from_tensor_slices((val_images, val_labels))\n",
    "val_dataset = val_dataset.batch(32)\n",
    "reset_metrics()\n",
    "for inputs_batch, targets_batch in val_dataset:\n",
    "    logs = test_step(inputs_batch, targets_batch)\n",
    "print(\"Evaluation results:\")\n",
    "for key, value in logs.items():\n",
    "    print(f\"...{key}: {value:.4f}\")"
   ]
  },
  {
   "cell_type": "markdown",
   "metadata": {
    "colab_type": "text"
   },
   "source": [
    "### Make it fast with `tf.function`"
   ]
  },
  {
   "cell_type": "markdown",
   "metadata": {
    "colab_type": "text"
   },
   "source": [
    "**Adding a `tf.function` decorator to our evaluation step function**"
   ]
  },
  {
   "cell_type": "code",
   "execution_count": 55,
   "metadata": {
    "colab_type": "code"
   },
   "outputs": [
    {
     "name": "stdout",
     "output_type": "stream",
     "text": [
      "Evaluation results:\n",
      "...val_sparse_categorical_accuracy: 0.9682\n",
      "...val_loss: 0.1198\n"
     ]
    }
   ],
   "source": [
    "@tf.function\n",
    "def test_step(inputs, targets):\n",
    "    predictions = model(inputs, training=False)\n",
    "    loss = loss_fn(targets, predictions)\n",
    "\n",
    "    logs = {}\n",
    "    for metric in metrics:\n",
    "        metric.update_state(targets, predictions)\n",
    "        logs[\"val_\" + metric.name] = metric.result()\n",
    "\n",
    "    loss_tracking_metric.update_state(loss)\n",
    "    logs[\"val_loss\"] = loss_tracking_metric.result()\n",
    "    return logs\n",
    "\n",
    "val_dataset = tf.data.Dataset.from_tensor_slices((val_images, val_labels))\n",
    "val_dataset = val_dataset.batch(32)\n",
    "reset_metrics()\n",
    "for inputs_batch, targets_batch in val_dataset:\n",
    "    logs = test_step(inputs_batch, targets_batch)\n",
    "print(\"Evaluation results:\")\n",
    "for key, value in logs.items():\n",
    "    print(f\"...{key}: {value:.4f}\")"
   ]
  },
  {
   "cell_type": "markdown",
   "metadata": {
    "colab_type": "text"
   },
   "source": [
    "### Leveraging `fit()` with a custom training loop"
   ]
  },
  {
   "cell_type": "markdown",
   "metadata": {
    "colab_type": "text"
   },
   "source": [
    "**Implementing a custom training step to use with `fit()`**"
   ]
  },
  {
   "cell_type": "code",
   "execution_count": 56,
   "metadata": {},
   "outputs": [],
   "source": [
    "loss_fn = keras.losses.SparseCategoricalCrossentropy()\n",
    "loss_tracker = keras.metrics.Mean(name=\"loss\")\n",
    "\n",
    "class CustomModel(keras.Model):\n",
    "    def train_step(self, data):\n",
    "        inputs, targets = data\n",
    "        with tf.GradientTape() as tape:\n",
    "            predictions = self(inputs, training=True)\n",
    "            loss = loss_fn(targets, predictions)\n",
    "        gradients = tape.gradient(loss, self.trainable_weights)\n",
    "        self.optimizer.apply_gradients(zip(gradients, self.trainable_weights))\n",
    "\n",
    "        loss_tracker.update_state(loss)\n",
    "        return {\"loss\": loss_tracker.result()}\n",
    "\n",
    "    @property\n",
    "    def metrics(self):\n",
    "        return [loss_tracker]"
   ]
  },
  {
   "cell_type": "code",
   "execution_count": 57,
   "metadata": {
    "colab_type": "code"
   },
   "outputs": [
    {
     "name": "stdout",
     "output_type": "stream",
     "text": [
      "Epoch 1/3\n",
      "1563/1563 [==============================] - 4s 2ms/step - loss: 0.2940\n",
      "Epoch 2/3\n",
      "1563/1563 [==============================] - 3s 2ms/step - loss: 0.1571\n",
      "Epoch 3/3\n",
      "1563/1563 [==============================] - 3s 2ms/step - loss: 0.1317\n"
     ]
    },
    {
     "data": {
      "text/plain": [
       "<keras.src.callbacks.History at 0x7f2a0820de50>"
      ]
     },
     "execution_count": 57,
     "metadata": {},
     "output_type": "execute_result"
    }
   ],
   "source": [
    "inputs = keras.Input(shape=(28 * 28,))\n",
    "features = layers.Dense(512, activation=\"relu\")(inputs)\n",
    "features = layers.Dropout(0.5)(features)\n",
    "outputs = layers.Dense(10, activation=\"softmax\")(features)\n",
    "model = CustomModel(inputs, outputs)\n",
    "\n",
    "model.compile(optimizer=keras.optimizers.RMSprop())\n",
    "model.fit(train_images, train_labels, epochs=3)"
   ]
  },
  {
   "cell_type": "code",
   "execution_count": 58,
   "metadata": {
    "colab_type": "code"
   },
   "outputs": [],
   "source": [
    "class CustomModel(keras.Model):\n",
    "    def train_step(self, data):\n",
    "        inputs, targets = data\n",
    "        with tf.GradientTape() as tape:\n",
    "            predictions = self(inputs, training=True)\n",
    "            loss = self.compiled_loss(targets, predictions)\n",
    "        gradients = tape.gradient(loss, self.trainable_weights)\n",
    "        self.optimizer.apply_gradients(zip(gradients, self.trainable_weights))\n",
    "        \n",
    "        self.compiled_metrics.update_state(targets, predictions)\n",
    "        return {m.name: m.result() for m in self.metrics}"
   ]
  },
  {
   "cell_type": "code",
   "execution_count": 59,
   "metadata": {
    "colab_type": "code"
   },
   "outputs": [
    {
     "name": "stdout",
     "output_type": "stream",
     "text": [
      "Epoch 1/3\n",
      "1563/1563 [==============================] - 4s 3ms/step - loss: 0.2913 - sparse_categorical_accuracy: 0.9132\n",
      "Epoch 2/3\n",
      "1563/1563 [==============================] - 4s 3ms/step - loss: 0.1564 - sparse_categorical_accuracy: 0.9540\n",
      "Epoch 3/3\n",
      "1563/1563 [==============================] - 4s 3ms/step - loss: 0.1286 - sparse_categorical_accuracy: 0.9636\n"
     ]
    },
    {
     "data": {
      "text/plain": [
       "<keras.src.callbacks.History at 0x7f295c48df90>"
      ]
     },
     "execution_count": 59,
     "metadata": {},
     "output_type": "execute_result"
    }
   ],
   "source": [
    "inputs = keras.Input(shape=(28 * 28,))\n",
    "features = layers.Dense(512, activation=\"relu\")(inputs)\n",
    "features = layers.Dropout(0.5)(features)\n",
    "outputs = layers.Dense(10, activation=\"softmax\")(features)\n",
    "model = CustomModel(inputs, outputs)\n",
    "\n",
    "model.compile(optimizer=keras.optimizers.RMSprop(),\n",
    "              loss=keras.losses.SparseCategoricalCrossentropy(),\n",
    "              metrics=[keras.metrics.SparseCategoricalAccuracy()])\n",
    "model.fit(train_images, train_labels, epochs=3)"
   ]
  }
 ],
 "metadata": {
  "colab": {
   "collapsed_sections": [],
   "name": "dlp07_working_with_keras",
   "private_outputs": false,
   "provenance": [],
   "toc_visible": true
  },
  "kernelspec": {
   "display_name": "Python 3 (ipykernel)",
   "language": "python",
   "name": "python3"
  },
  "language_info": {
   "codemirror_mode": {
    "name": "ipython",
    "version": 3
   },
   "file_extension": ".py",
   "mimetype": "text/x-python",
   "name": "python",
   "nbconvert_exporter": "python",
   "pygments_lexer": "ipython3",
   "version": "3.11.4"
  },
  "vscode": {
   "interpreter": {
    "hash": "33b995ba57ec8806df76ad412cbfca6e91844af7e84c0aab5f00a2382a2b11c8"
   }
  }
 },
 "nbformat": 4,
 "nbformat_minor": 1
}
