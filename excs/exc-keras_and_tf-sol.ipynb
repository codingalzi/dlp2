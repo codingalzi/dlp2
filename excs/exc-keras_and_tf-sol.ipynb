{
 "cells": [
  {
   "cell_type": "markdown",
   "metadata": {},
   "source": [
    "# (실습) 케라스와 텐서플로우"
   ]
  },
  {
   "cell_type": "markdown",
   "metadata": {},
   "source": [
    "## TensorFlow Playground 활용"
   ]
  },
  {
   "cell_type": "markdown",
   "metadata": {},
   "source": [
    "[TensorFlow Playground](https://playground.tensorflow.org)에서 분류와 회귀 모델의 학습과정을 살펴 보면서 \n",
    "문제를 해결하는 최선의 모델을 찾고자 한다.\n",
    "그런 다음에 아래 요소들에 적절한 값이 선택된 이유를 (추정해서) 설명할 수 있어야 한다.\n",
    "\n",
    "- 특성(features) 선택\n",
    "- 학습률(learning rate)\n",
    "- 활성화 함수(activation function)\n",
    "- 규제(regularization)와 규제율(regularization rate)\n",
    "- 훈련셋(training set)대 테스트셋(test set) 비율\n",
    "- 배치 크기(batch size)\n",
    "- 은닉층(hidden layer)과 유닛(unit 또는 neuron) 수"
   ]
  },
  {
   "cell_type": "markdown",
   "metadata": {},
   "source": [
    "**모델 A**\n",
    "\n",
    "아래 그림은 음성 데이터(주황색)와 양성 데이터(파랑색)를 분류하는 목적으로 훈련 시키려 하는 심층 신경망 모델을 보여준다.\n",
    "\n",
    "- 입력 특성: $\\mathrm{x}_1$과 $\\mathrm{x}_2$ 두 개\n",
    "- 은닉층(hidden layer) 2개\n",
    "    - 첫째 은닉층: 유닛 4개\n",
    "    - 둘째 은닉층: 유닛 2개\n",
    "- 출력값 1개: 양성/음성 여부 판단\n",
    "    \n",
    "유닛과 유닛을 연결하는 파란선/주황선은 각각 양의 가중치와 음의 가중치 값을 가리킨다.\n",
    "선의 두께는 가중치의 절댓값에 해당한다.\n",
    "즉, 두꺼운 선일 수록 해당 가중치가 출력 유닛에 저장되는 값을 계산할 때 기여도가 보다 크다."
   ]
  },
  {
   "cell_type": "markdown",
   "metadata": {},
   "source": [
    "\n",
    "<div align=\"center\"><img src=\"https://raw.githubusercontent.com/codingalzi/dlp2/master/jupyter-book/imgs/ch03-tf-playground-a07.jpg\" style=\"width:700px;\"></div>\n"
   ]
  },
  {
   "cell_type": "markdown",
   "metadata": {},
   "source": [
    "위 사진의 모델을 훈련시키면 다음과 같이 결과가 나온다.\n",
    "\n",
    "- 훈련 에포크: 505\n",
    "- 학습률: 0.03\n",
    "- 층에 사용되는 활성화 함수: Tanh\n",
    "- 평가 지표\n",
    "    - 테스트셋에 대한 손실값: 0.003\n",
    "    - 훈련셋에 대한 손실값: 0.001\n"
   ]
  },
  {
   "cell_type": "markdown",
   "metadata": {},
   "source": [
    "\n",
    "<div align=\"center\"><img src=\"https://raw.githubusercontent.com/codingalzi/dlp2/master/jupyter-book/imgs/ch03-tf-playground-a05.png\" style=\"width:700px;\"></div>\n"
   ]
  },
  {
   "cell_type": "markdown",
   "metadata": {},
   "source": [
    "**모델 B**\n",
    "\n",
    "반면에 하나의 은닉층만 사용하면 결과가 다르게 나온다.\n",
    "\n",
    "- 은닉층(hidden layer) 1개\n",
    "    - 첫째 은닉층: 유닛 4개\n",
    "- 훈련 에포크: 511\n",
    "- 학습률: 0.03\n",
    "- 층에 사용되는 활성화 함수: Tanh\n",
    "- 평가 지표\n",
    "    - 테스트셋에 대한 손실값: 0.016\n",
    "    - 훈련셋에 대한 손실값: 0.004\n",
    "\n",
    "즉, 훈련된 모델의 성능(평가지표)가 두 개의 은닉층을 사용하는 모델보다 나쁘다.\n",
    "특히 테스트셋에 대한 성능이 훈련셋에 대한 성능보다 많이 떨어져서\n",
    "과대적합(overfitting)이 보다 심하게 발생했다."
   ]
  },
  {
   "cell_type": "markdown",
   "metadata": {},
   "source": [
    "\n",
    "<div align=\"center\"><img src=\"https://raw.githubusercontent.com/codingalzi/dlp2/master/jupyter-book/imgs/ch03-tf-playground-a04.png\" style=\"width:700px;\"></div>\n"
   ]
  },
  {
   "cell_type": "markdown",
   "metadata": {},
   "source": [
    "**모델 C**\n",
    "\n",
    "은닉층을 아래 그림에서처럼 세 개로 늘리면 성능이 두 개의 은닉층을 사용할 때보다 성능이 좀 더 좋아진다.\n",
    "\n",
    "- 은닉층(hidden layer) 3개\n",
    "    - 첫째 은닉층: 유닛 4개\n",
    "    - 둘째 은닉층: 유닛 3개\n",
    "    - 둘째 은닉층: 유닛 2개\n",
    "- 훈련 에포크: 234\n",
    "- 학습률: 0.03\n",
    "- 층에 사용되는 활성화 함수: Tanh\n",
    "- 평가 지표\n",
    "    - 테스트셋에 대한 손실값: 0.001\n",
    "    - 훈련셋에 대한 손실값: 0.001\n",
    "\n",
    "에포크가 234로 이전보다 훨씬 빠르게 좋은 분류 모델을 학습시킨다. \n",
    "은닉층을 늘린다고 무조건 좋아지는 것은 일반적으로 아니지만 이 경우엔 최선의 결과를 낳았다."
   ]
  },
  {
   "cell_type": "markdown",
   "metadata": {},
   "source": [
    "\n",
    "<div align=\"center\"><img src=\"https://raw.githubusercontent.com/codingalzi/dlp2/master/jupyter-book/imgs/ch03-tf-playground-a06.png\" style=\"width:700px;\"></div>\n"
   ]
  },
  {
   "cell_type": "markdown",
   "metadata": {},
   "source": [
    "## 케라스 활용"
   ]
  },
  {
   "cell_type": "markdown",
   "metadata": {},
   "source": [
    "케라스를 이용하여 앞서 소개한 모델 A, 모델 B, 모델 C를 직접 구성해서\n",
    "훈련시키고자 한다.\n",
    "훈련에 사용되는 데이터셋은 아래 코드를 이용하여 생성한다."
   ]
  },
  {
   "cell_type": "code",
   "execution_count": 29,
   "metadata": {},
   "outputs": [],
   "source": [
    "import tensorflow as tf\n",
    "import numpy as np\n",
    "import sklearn\n",
    "import matplotlib.pyplot as plt"
   ]
  },
  {
   "cell_type": "markdown",
   "metadata": {},
   "source": [
    "[`make_circles()`](https://scikit-learn.org/stable/modules/generated/sklearn.datasets.make_circles.html) 함수를 이용하여 모델 학습에 사용될 데이터셋을 생성한다.\n",
    "\n",
    "- `datasets`: 입력 데이터셋. (2000, 2) 모양의 텐서. 2000개의 데이터 샘플 포함. 양성, 음성 각각 1000개\n",
    "- `targets`: 타깃 데이터셋. 0과 1로 구성된 (2000,) 모양의 텐서. 0은 음성, 1은 양성."
   ]
  },
  {
   "cell_type": "code",
   "execution_count": 30,
   "metadata": {},
   "outputs": [],
   "source": [
    "from sklearn.datasets import make_circles\n",
    "dataset, targets = make_circles(2000, noise=0.1, factor=0.2)"
   ]
  },
  {
   "cell_type": "markdown",
   "metadata": {},
   "source": [
    "`dataset`은 (2000, 2) 모양의 텐서다. \n",
    "즉, 한 개의 데이터 샘플은 두 개의 특성을 갖는다."
   ]
  },
  {
   "cell_type": "code",
   "execution_count": 31,
   "metadata": {},
   "outputs": [
    {
     "name": "stdout",
     "output_type": "stream",
     "text": [
      "모양:  (2000, 2)\n",
      "첫 5개 데이터:\n",
      "[[-0.20688484 -0.23060273]\n",
      " [-0.66740009  0.55681514]\n",
      " [-0.29832035 -0.02843043]\n",
      " [-0.89179328  0.55934786]\n",
      " [-1.1842819   0.03354625]]\n"
     ]
    }
   ],
   "source": [
    "print(\"모양: \", dataset.shape)\n",
    "print(\"첫 5개 데이터:\", dataset[:5], sep='\\n')"
   ]
  },
  {
   "cell_type": "markdown",
   "metadata": {},
   "source": [
    "2000개의 샘플의 양성/음성 여부는 (2000, 1) 모양의 `targets` 텐서에 저장되어 있으며\n",
    "무작위로 지정되어 있다.\n",
    "예를 들어 첫 5개 샘플의 양성/음성 여부는 다음과 같다.\n",
    "0은 음성을, 1은 양성을 가리킨다."
   ]
  },
  {
   "cell_type": "code",
   "execution_count": 32,
   "metadata": {},
   "outputs": [
    {
     "name": "stdout",
     "output_type": "stream",
     "text": [
      "타겟 모양:  (2000,)\n",
      "타겟:\n",
      "[1 0 1 0 0]\n"
     ]
    }
   ],
   "source": [
    "print(\"타겟 모양: \", targets.shape)\n",
    "print(\"타겟:\", targets[:5], sep='\\n')"
   ]
  },
  {
   "cell_type": "markdown",
   "metadata": {},
   "source": [
    "양성은 파란색, 음성은 주황색으로 표시한 데이터 산점도는 다음과 같다."
   ]
  },
  {
   "cell_type": "code",
   "execution_count": 33,
   "metadata": {},
   "outputs": [
    {
     "data": {
      "image/png": "[encoded data removed]",
      "text/plain": [
       "<Figure size 640x480 with 1 Axes>"
      ]
     },
     "metadata": {},
     "output_type": "display_data"
    }
   ],
   "source": [
    "plt.scatter(dataset[:,0]*5, dataset[:,1]*5, c=['orange' if i==0 else 'skyblue' for i in targets])\n",
    "plt.show()"
   ]
  },
  {
   "cell_type": "markdown",
   "metadata": {},
   "source": [
    "케라스를 이용하여 \"모델 A\"를 구성한 다음에 위 데이터셋을 이용하여 훈련시키고자 한다.\n",
    "먼저, `targets`의 모양을 다음과 같이 변환시킨다.\n",
    "이유는 케라스 모델은 타깃 데이터셋도 2차원 텐서를 요구하기 때문이다.\n",
    "\n",
    "신경망 모델은 데이터 샘플 별로 여러 종류의 값을 동시에 예측할 수 있기에\n",
    "하나의 샘플에 대한 예측값을 종류별 예측값으로 구성된 벡터로 계산한다.\n",
    "여기서는 데이터 샘플 별로 양성/음성 여부에 대해서만 예측하기 때문에 \n",
    "한 샘플에 대한 예측값은 길이가 1인 벡터이다.\n",
    "따라서 타깃셋은 (2000, 1) 모양의 텐서이어야 한다."
   ]
  },
  {
   "cell_type": "code",
   "execution_count": 34,
   "metadata": {},
   "outputs": [
    {
     "data": {
      "text/plain": [
       "array([[1],\n",
       "       [0],\n",
       "       [1],\n",
       "       ...,\n",
       "       [1],\n",
       "       [1],\n",
       "       [0]])"
      ]
     },
     "execution_count": 34,
     "metadata": {},
     "output_type": "execute_result"
    }
   ],
   "source": [
    "targets = targets.reshape(-1,1)\n",
    "targets"
   ]
  },
  {
   "cell_type": "markdown",
   "metadata": {},
   "source": [
    "모델 A를 신경망 모델 `model_A`로 구성하면 다음과 같다."
   ]
  },
  {
   "cell_type": "code",
   "execution_count": 35,
   "metadata": {},
   "outputs": [],
   "source": [
    "from tensorflow import keras\n",
    "from tensorflow.keras import layers\n",
    "\n",
    "model_A = keras.Sequential([\n",
    "    layers.Dense(4, activation=\"tanh\"),   # 첫째 은닉층\n",
    "    layers.Dense(2, activation=\"tanh\"),   # 둘째 은닉층\n",
    "    layers.Dense(1, activation=\"sigmoid\") # 출력층\n",
    "    ])"
   ]
  },
  {
   "cell_type": "markdown",
   "metadata": {},
   "source": [
    "`model_A` 를 아래 옵션을 이용하여 컴파일한다.\n",
    "\n",
    "- 옵티마이저: `rmsprop`\n",
    "- 손실: `binary_crossentropy` (이진 분류 용도의 손실 함수 지정)\n",
    "- 평가지표: `accuracy` (정확도 평가)"
   ]
  },
  {
   "cell_type": "code",
   "execution_count": 36,
   "metadata": {},
   "outputs": [],
   "source": [
    "model_A.compile(optimizer=\"rmsprop\",\n",
    "              loss=\"binary_crossentropy\",\n",
    "              metrics=[\"accuracy\"])"
   ]
  },
  {
   "cell_type": "markdown",
   "metadata": {},
   "source": [
    "50대 50의 비율로 훈련용 데이터셋과 타깃셋인 `x_train`, `y_train`과 \n",
    "테스트용 데이터셋과 타깃셋 `x_test`, `y_test`를 지정한다."
   ]
  },
  {
   "cell_type": "code",
   "execution_count": 37,
   "metadata": {},
   "outputs": [],
   "source": [
    "x_train, y_train = dataset[:1000], targets[:1000]\n",
    "x_test, y_test = dataset[1000:], targets[1000:]"
   ]
  },
  {
   "cell_type": "markdown",
   "metadata": {},
   "source": [
    "모델을 훈련시킨다. \n",
    "`fit()` 메서드의 반환값은 훈련이 잘 된 모델의 정보를 담고 있는 `History` 객체이다."
   ]
  },
  {
   "cell_type": "code",
   "execution_count": 38,
   "metadata": {},
   "outputs": [
    {
     "name": "stdout",
     "output_type": "stream",
     "text": [
      "Epoch 1/30\n",
      "100/100 [==============================] - 4s 6ms/step - loss: 0.7052 - accuracy: 0.5340\n",
      "Epoch 2/30\n",
      "100/100 [==============================] - 0s 4ms/step - loss: 0.6954 - accuracy: 0.5950\n",
      "Epoch 3/30\n",
      "100/100 [==============================] - 0s 4ms/step - loss: 0.6887 - accuracy: 0.6300\n",
      "Epoch 4/30\n",
      "100/100 [==============================] - 0s 4ms/step - loss: 0.6836 - accuracy: 0.6630\n",
      "Epoch 5/30\n",
      "100/100 [==============================] - 0s 3ms/step - loss: 0.6782 - accuracy: 0.6670\n",
      "Epoch 6/30\n",
      "100/100 [==============================] - 0s 4ms/step - loss: 0.6726 - accuracy: 0.6810\n",
      "Epoch 7/30\n",
      "100/100 [==============================] - 0s 4ms/step - loss: 0.6664 - accuracy: 0.6840\n",
      "Epoch 8/30\n",
      "100/100 [==============================] - 0s 4ms/step - loss: 0.6597 - accuracy: 0.6870\n",
      "Epoch 9/30\n",
      "100/100 [==============================] - 0s 3ms/step - loss: 0.6525 - accuracy: 0.6850\n",
      "Epoch 10/30\n",
      "100/100 [==============================] - 0s 3ms/step - loss: 0.6450 - accuracy: 0.6880\n",
      "Epoch 11/30\n",
      "100/100 [==============================] - 0s 3ms/step - loss: 0.6369 - accuracy: 0.6900\n",
      "Epoch 12/30\n",
      "100/100 [==============================] - 0s 4ms/step - loss: 0.6286 - accuracy: 0.6910\n",
      "Epoch 13/30\n",
      "100/100 [==============================] - 0s 4ms/step - loss: 0.6199 - accuracy: 0.6910\n",
      "Epoch 14/30\n",
      "100/100 [==============================] - 0s 4ms/step - loss: 0.6107 - accuracy: 0.6950\n",
      "Epoch 15/30\n",
      "100/100 [==============================] - 0s 4ms/step - loss: 0.6005 - accuracy: 0.6980\n",
      "Epoch 16/30\n",
      "100/100 [==============================] - 0s 4ms/step - loss: 0.5891 - accuracy: 0.7020\n",
      "Epoch 17/30\n",
      "100/100 [==============================] - 0s 4ms/step - loss: 0.5758 - accuracy: 0.7050\n",
      "Epoch 18/30\n",
      "100/100 [==============================] - 0s 4ms/step - loss: 0.5595 - accuracy: 0.7140\n",
      "Epoch 19/30\n",
      "100/100 [==============================] - 0s 3ms/step - loss: 0.5417 - accuracy: 0.7170\n",
      "Epoch 20/30\n",
      "100/100 [==============================] - 0s 4ms/step - loss: 0.5228 - accuracy: 0.7280\n",
      "Epoch 21/30\n",
      "100/100 [==============================] - 0s 3ms/step - loss: 0.5029 - accuracy: 0.7380\n",
      "Epoch 22/30\n",
      "100/100 [==============================] - 0s 4ms/step - loss: 0.4807 - accuracy: 0.7730\n",
      "Epoch 23/30\n",
      "100/100 [==============================] - 0s 4ms/step - loss: 0.4576 - accuracy: 0.8450\n",
      "Epoch 24/30\n",
      "100/100 [==============================] - 0s 4ms/step - loss: 0.4347 - accuracy: 0.8850\n",
      "Epoch 25/30\n",
      "100/100 [==============================] - 0s 4ms/step - loss: 0.4106 - accuracy: 0.9210\n",
      "Epoch 26/30\n",
      "100/100 [==============================] - 0s 4ms/step - loss: 0.3860 - accuracy: 0.9390\n",
      "Epoch 27/30\n",
      "100/100 [==============================] - 0s 4ms/step - loss: 0.3626 - accuracy: 0.9550\n",
      "Epoch 28/30\n",
      "100/100 [==============================] - 0s 4ms/step - loss: 0.3405 - accuracy: 0.9660\n",
      "Epoch 29/30\n",
      "100/100 [==============================] - 0s 4ms/step - loss: 0.3193 - accuracy: 0.9830\n",
      "Epoch 30/30\n",
      "100/100 [==============================] - 0s 4ms/step - loss: 0.2992 - accuracy: 0.9960\n"
     ]
    }
   ],
   "source": [
    "history = model_A.fit(x_train, y_train, epochs=30, batch_size=10)"
   ]
  },
  {
   "cell_type": "markdown",
   "metadata": {},
   "source": [
    "`History` 객체는 훈련된 모델의 다양한 정보를 저장한다.\n",
    "예를 들어 `model` 속성은 훈련된 모델을 저장한다.\n",
    "아래 코드는 훈련된 모델이 `Sequential` 모델임을 확인해준다."
   ]
  },
  {
   "cell_type": "code",
   "execution_count": 39,
   "metadata": {},
   "outputs": [
    {
     "data": {
      "text/plain": [
       "keras.src.engine.sequential.Sequential"
      ]
     },
     "execution_count": 39,
     "metadata": {},
     "output_type": "execute_result"
    }
   ],
   "source": [
    "type(history.model)"
   ]
  },
  {
   "cell_type": "markdown",
   "metadata": {},
   "source": [
    "케라스의 모든 모델은 `keras.Model` 클래스를 상속한다."
   ]
  },
  {
   "cell_type": "code",
   "execution_count": 40,
   "metadata": {},
   "outputs": [
    {
     "data": {
      "text/plain": [
       "True"
      ]
     },
     "execution_count": 40,
     "metadata": {},
     "output_type": "execute_result"
    }
   ],
   "source": [
    "isinstance(history.model, keras.Model)"
   ]
  },
  {
   "cell_type": "markdown",
   "metadata": {},
   "source": [
    "따라서 모델에 사용된 층의 구성을 확인기 위해\n",
    "`Model` 클래스의 인스턴스 메서드인 `summary()` 메서드를 이용할 수 있다."
   ]
  },
  {
   "cell_type": "code",
   "execution_count": 41,
   "metadata": {},
   "outputs": [
    {
     "name": "stdout",
     "output_type": "stream",
     "text": [
      "Model: \"sequential\"\n",
      "_________________________________________________________________\n",
      " Layer (type)                Output Shape              Param #   \n",
      "=================================================================\n",
      " dense (Dense)               (10, 4)                   12        \n",
      "                                                                 \n",
      " dense_1 (Dense)             (10, 2)                   10        \n",
      "                                                                 \n",
      " dense_2 (Dense)             (10, 1)                   3         \n",
      "                                                                 \n",
      "=================================================================\n",
      "Total params: 25 (100.00 Byte)\n",
      "Trainable params: 25 (100.00 Byte)\n",
      "Non-trainable params: 0 (0.00 Byte)\n",
      "_________________________________________________________________\n"
     ]
    }
   ],
   "source": [
    "history.model.summary()"
   ]
  },
  {
   "cell_type": "markdown",
   "metadata": {},
   "source": [
    "위 결과가 설명하는 바는 다음과 같다.\n",
    "\n",
    "- `Layer (type)` 열: 각 층에 사용된 층의 이름과 종류. 이름을 별도로 지정하지 않으면 자동으로 지정된다.\n",
    "- `Output Shape` 열: 각 층에서 생성되는 출력 텐서의 모양. \n",
    "    예를 들어 (10, 4)에서 10은 배치 크기를, 4는 네 개의 유닛 개수. 즉 원래 2개의 특성을 갖는 데이터 샘플 각각을\n",
    "    4개의 특성을 갖는 데이터 샘플로 변환.\n",
    "- `Param`: 각 층에서 학습되는 파라미터(가중치와 편향)의 개수. 계산법은 다음과 같음.\n",
    "    - 첫째 층의 파라미터: `2*4 + 4 = 12`\n",
    "    - 둘째 층의 파라미터: `4*2 + 2 = 10`\n",
    "    - 셋째 층의 파라미터: `2*1 + 1 = 3`\n",
    "\n",
    "기타 요소는 다음과 같다.\n",
    "\n",
    "- `Toral params`: 파라미터 수의 총합. `12 + 10 + 3 = 25`\n",
    "- `Trainable params`: 훈련되는 파라미터 수의 총합. `12 + 10 + 3 = 25`\n",
    "- `Non-trainable params`: 훈련되지 않는 파라미터 수의 총합. `0 + 0 + 0 = 0`. \n",
    "    즉, 위 모델은 훈련되지 않는 파라미터 사용하지 않음.\n"
   ]
  },
  {
   "cell_type": "markdown",
   "metadata": {},
   "source": [
    "`history.model`이 가리키는 모델과 `model_A` 동일한 모델을 가리킨다.\n",
    "이유는 `model_A.fit()` 메서드가 실행되는 동안 `model_A`가 훈련되는데,\n",
    "이는 지정된 가중치 행렬과 편향 벡터가 모델 자체에서 업데이트 되는 것을 의미하기 때문이다.\n",
    "\n",
    "실제로 테스테셋의 처음 5개 데이터 샘플에 대한 예측값이 동일함을 아래 코드로 확인할 수 있다."
   ]
  },
  {
   "cell_type": "code",
   "execution_count": 42,
   "metadata": {},
   "outputs": [
    {
     "name": "stdout",
     "output_type": "stream",
     "text": [
      "1/1 [==============================] - 0s 90ms/step\n"
     ]
    },
    {
     "data": {
      "text/plain": [
       "array([[0.42474008],\n",
       "       [0.43255848],\n",
       "       [0.30604357],\n",
       "       [0.22624312],\n",
       "       [0.31857792]], dtype=float32)"
      ]
     },
     "execution_count": 42,
     "metadata": {},
     "output_type": "execute_result"
    }
   ],
   "source": [
    "model_A.predict(x_test[:5])"
   ]
  },
  {
   "cell_type": "code",
   "execution_count": 43,
   "metadata": {},
   "outputs": [
    {
     "name": "stdout",
     "output_type": "stream",
     "text": [
      "1/1 [==============================] - 0s 21ms/step\n"
     ]
    },
    {
     "data": {
      "text/plain": [
       "array([[0.42474008],\n",
       "       [0.43255848],\n",
       "       [0.30604357],\n",
       "       [0.22624312],\n",
       "       [0.31857792]], dtype=float32)"
      ]
     },
     "execution_count": 43,
     "metadata": {},
     "output_type": "execute_result"
    }
   ],
   "source": [
    "history.model.predict(x_test[:5])"
   ]
  },
  {
   "cell_type": "markdown",
   "metadata": {},
   "source": [
    "`History` 객체의 `params` 인스턴스 속성은 `fit()` 메서드가 모델 훈련에 사용되는\n",
    "하이퍼파라미터를 저장한다.\n",
    "아래 코드는 30번의 에포크와 스텝의 수를 보여준다.\n",
    "참고로 스텝은 훈련셋의 크기와 배치크기에 의해 자동 결정된다.\n",
    "여기서 100인 이유는 훈련셋의 크기가 1000이고 배치 크기가 10 기에\n",
    "총 `1000/10 = 100` 번의 스텝이 한 번의 에포크 동안 실행된다.\n",
    "`verbose`는 모델 훈련 과정중에 에포크별로 진행상황과 평가 결과를 어떻게 보여줄 것인가를 지정한다.\n",
    "별 이유가 없다면 기본값을 굳이 바꿀 필요는 없다."
   ]
  },
  {
   "cell_type": "code",
   "execution_count": 44,
   "metadata": {},
   "outputs": [
    {
     "data": {
      "text/plain": [
       "{'verbose': 1, 'epochs': 30, 'steps': 100}"
      ]
     },
     "execution_count": 44,
     "metadata": {},
     "output_type": "execute_result"
    }
   ],
   "source": [
    "history.params"
   ]
  },
  {
   "cell_type": "markdown",
   "metadata": {},
   "source": [
    "`History` 객체의 `history` 속성은 훈련 과정에서 에포크 단위로 계산된\n",
    "훈련셋과 검증셋에 대한 손실값(loss)과 평가지표를 저장한 사전 객체를 가리킨다.\n",
    "여기서는 검증셋은 지정되지 않았고, 평가지표로 정확도(accuracy) 하나만 사용하였기에\n",
    "훈련셋에 대한 손실값(loss)과 정확도(accuracy)만 에포크 단위로 저장한다."
   ]
  },
  {
   "cell_type": "code",
   "execution_count": 45,
   "metadata": {},
   "outputs": [
    {
     "data": {
      "text/plain": [
       "dict_keys(['loss', 'accuracy'])"
      ]
     },
     "execution_count": 45,
     "metadata": {},
     "output_type": "execute_result"
    }
   ],
   "source": [
    "history.history.keys()"
   ]
  },
  {
   "cell_type": "markdown",
   "metadata": {},
   "source": [
    "예를 들어 에포크 별 훈련셋에 대한 손실값의 변화는 다음과 같다."
   ]
  },
  {
   "cell_type": "code",
   "execution_count": 46,
   "metadata": {},
   "outputs": [
    {
     "data": {
      "text/plain": [
       "[0.7051876187324524,\n",
       " 0.6953816413879395,\n",
       " 0.6887145042419434,\n",
       " 0.6835972666740417,\n",
       " 0.6782219409942627,\n",
       " 0.6726423501968384,\n",
       " 0.6664418578147888,\n",
       " 0.6596653461456299,\n",
       " 0.6525229215621948,\n",
       " 0.6449557542800903,\n",
       " 0.6368668079376221,\n",
       " 0.6285926103591919,\n",
       " 0.6199349761009216,\n",
       " 0.6107009053230286,\n",
       " 0.6004608869552612,\n",
       " 0.5890800952911377,\n",
       " 0.5757837295532227,\n",
       " 0.5594943761825562,\n",
       " 0.5417194962501526,\n",
       " 0.522828221321106,\n",
       " 0.5028665661811829,\n",
       " 0.48066896200180054,\n",
       " 0.45762521028518677,\n",
       " 0.4346924126148224,\n",
       " 0.4105972349643707,\n",
       " 0.3860207200050354,\n",
       " 0.3626480996608734,\n",
       " 0.3405416011810303,\n",
       " 0.319349080324173,\n",
       " 0.2991827130317688]"
      ]
     },
     "execution_count": 46,
     "metadata": {},
     "output_type": "execute_result"
    }
   ],
   "source": [
    "history.history['loss']"
   ]
  },
  {
   "cell_type": "markdown",
   "metadata": {},
   "source": [
    "에포크 별 훈련셋에 대한 정확도의 변화는 다음과 같다."
   ]
  },
  {
   "cell_type": "code",
   "execution_count": 47,
   "metadata": {},
   "outputs": [
    {
     "data": {
      "text/plain": [
       "[0.5339999794960022,\n",
       " 0.5950000286102295,\n",
       " 0.6299999952316284,\n",
       " 0.6629999876022339,\n",
       " 0.6669999957084656,\n",
       " 0.6809999942779541,\n",
       " 0.6840000152587891,\n",
       " 0.6869999766349792,\n",
       " 0.6850000023841858,\n",
       " 0.6880000233650208,\n",
       " 0.6899999976158142,\n",
       " 0.6909999847412109,\n",
       " 0.6909999847412109,\n",
       " 0.6949999928474426,\n",
       " 0.6980000138282776,\n",
       " 0.7020000219345093,\n",
       " 0.7049999833106995,\n",
       " 0.7139999866485596,\n",
       " 0.7170000076293945,\n",
       " 0.7279999852180481,\n",
       " 0.7379999756813049,\n",
       " 0.7730000019073486,\n",
       " 0.8450000286102295,\n",
       " 0.8849999904632568,\n",
       " 0.9210000038146973,\n",
       " 0.9390000104904175,\n",
       " 0.9549999833106995,\n",
       " 0.9660000205039978,\n",
       " 0.9829999804496765,\n",
       " 0.9959999918937683]"
      ]
     },
     "execution_count": 47,
     "metadata": {},
     "output_type": "execute_result"
    }
   ],
   "source": [
    "history.history['accuracy']"
   ]
  },
  {
   "cell_type": "markdown",
   "metadata": {},
   "source": [
    "**문제 1**"
   ]
  },
  {
   "cell_type": "markdown",
   "metadata": {},
   "source": [
    "모델 B를 신경망 모델 `model_B`로 구성한 다음 훈련시킨 결과를 설명하라."
   ]
  },
  {
   "cell_type": "markdown",
   "metadata": {},
   "source": [
    "견본 답안:\n",
    "\n",
    "아래 모델을 이용한다."
   ]
  },
  {
   "cell_type": "code",
   "execution_count": 48,
   "metadata": {},
   "outputs": [],
   "source": [
    "model_B = keras.Sequential([\n",
    "    layers.Dense(4, activation=\"tanh\"),   # 첫째 은닉층\n",
    "    layers.Dense(1, activation=\"sigmoid\") # 출력층\n",
    "    ])"
   ]
  },
  {
   "cell_type": "markdown",
   "metadata": {},
   "source": [
    "**문제 2**"
   ]
  },
  {
   "cell_type": "markdown",
   "metadata": {},
   "source": [
    "모델 C를 신경망 모델 `model_C`로 구성한 다음 훈련시킨 결과를 설명하라."
   ]
  },
  {
   "cell_type": "markdown",
   "metadata": {},
   "source": [
    "견본 답안:\n",
    "\n",
    "아래 모델을 이용한다."
   ]
  },
  {
   "cell_type": "code",
   "execution_count": 49,
   "metadata": {},
   "outputs": [],
   "source": [
    "model_C = keras.Sequential([\n",
    "    layers.Dense(4, activation=\"tanh\"),   # 1번 은닉층 4개의 유닛\n",
    "    layers.Dense(3, activation=\"tanh\"),   # 2번 은닉층 3개의 유닛\n",
    "    layers.Dense(2, activation=\"tanh\"),   # 3번 은닉층 2개의 유닛\n",
    "    layers.Dense(1, activation=\"sigmoid\") # 출력층\n",
    "    ])"
   ]
  },
  {
   "cell_type": "markdown",
   "metadata": {},
   "source": [
    "**문제 3**"
   ]
  },
  {
   "cell_type": "markdown",
   "metadata": {},
   "source": [
    "`model_A`, `model_B`, `model_C`의 성능을 비교하라."
   ]
  },
  {
   "cell_type": "markdown",
   "metadata": {},
   "source": [
    "견본 답안:\n",
    "\n",
    "배치 크기 변화 등을 활용하여 성능을 비교한다."
   ]
  },
  {
   "cell_type": "markdown",
   "metadata": {},
   "source": [
    "**문제 4**"
   ]
  },
  {
   "cell_type": "markdown",
   "metadata": {},
   "source": [
    "아래 설정을 변경하면서 최고 성능의 모델을 구현하라.\n",
    "\n",
    "- 층과 유닛의 개수\n",
    "- 훈련셋과 테스트셋의 비율\n",
    "- 학습률\n",
    "- 규제와 규제율\n",
    "- 활성화 함수\n",
    "- 배치 크기\n",
    "- 에포크"
   ]
  },
  {
   "cell_type": "markdown",
   "metadata": {},
   "source": [
    "견본 답안: 설정에 따라 설정값을 변경하는 방식이 다르다."
   ]
  },
  {
   "cell_type": "markdown",
   "metadata": {},
   "source": [
    "- 층과 유닛 수: 모델 지정할 때. 이전 문제에서 많이 사용했음."
   ]
  },
  {
   "cell_type": "markdown",
   "metadata": {},
   "source": [
    "- 훈련셋과 테스텟의 비율: 앞서 코드 설명할 때 이미 사용했음. 또는 사이킷런 API를 다음과 같이 사용 가능.\n",
    "    예를 들어 아래 코드는 8대 2의 비율로 훈련셋과 테스트셋을 지정한다.\n",
    "\n",
    "    ```python\n",
    "    from sklearn.model_selection import train_test_split\n",
    "    X_train, X_test, y_train, y_test = train_test_split(dataset, targets, test_size=0.2, random_state=42)\n",
    "    ```"
   ]
  },
  {
   "cell_type": "markdown",
   "metadata": {},
   "source": [
    "- 학습률 지정: 경사하강법을 적용할 때 사용되는 설정이기에 옵티마이저를 지정할 때 함께 설정한다.\n",
    "    예를 들어 아캐 코드는 `Adam` 옵티마이저와 함께 학습률을 0.001로 지정한다.\n",
    "    \n",
    "    ```python\n",
    "    model.compile(optimizer=Adam(learning_rate=0.001),\n",
    "                  loss=\"binary_crossentropy\",\n",
    "                  metrics=[\"accuracy\"])\n",
    "    ```"
   ]
  },
  {
   "cell_type": "markdown",
   "metadata": {},
   "source": [
    "- 규제와 규제율: 규제는 층별로 가중치와 편향의 절대값이 \n",
    "    너무 커지지 않도록 유도하며, L1 과 L2 규제 또는 L1L2 혼합 규제 세 종류로 나뉜다.\n",
    "    보다 자세한 내용은 [릿지규제(L2 규제), 라쏘 규제(L1 규제), 엘라스틱 넷(L1, L2 혼합 규제)](https://codingalzi.github.io/handson-ml3/training_models.html)를 참고한다.\n",
    "    \n",
    "    예를 들어, 아래 코드는 L1과 L2 규제를 함께 적용하는 방식을 보여준다. \n",
    "    자세한 설명은 [층별 가중치 규제](https://keras.io/api/layers/regularizers/)를 참고한다.\n",
    "    \n",
    "    ```python\n",
    "    from tensorflow.keras import layers\n",
    "    from tensorflow.keras import regularizers\n",
    "\n",
    "    layer = layers.Dense(\n",
    "        units=64,\n",
    "        kernel_regularizer=regularizers.L1L2(l1=1e-5, l2=1e-4),\n",
    "        bias_regularizer=regularizers.L2(1e-4),\n",
    "        activity_regularizer=regularizers.L2(1e-5)\n",
    "    ```"
   ]
  },
  {
   "cell_type": "markdown",
   "metadata": {},
   "source": [
    "- 활성화 함수: relu, prelu, tanh 등 다양한 활성화 함수를 층을 지정할 때 함께 지정한다."
   ]
  },
  {
   "cell_type": "markdown",
   "metadata": {},
   "source": [
    "- 배치 크기와 에포크: 적당하게 지정. `fit()` 메서드에서 지정."
   ]
  },
  {
   "cell_type": "code",
   "execution_count": 84,
   "metadata": {},
   "outputs": [
    {
     "name": "stdout",
     "output_type": "stream",
     "text": [
      "Epoch 1/30\n",
      "25/25 [==============================] - 2s 17ms/step - loss: 0.6622 - accuracy: 0.5031 - val_loss: 0.6584 - val_accuracy: 0.5650\n",
      "Epoch 2/30\n",
      "25/25 [==============================] - 0s 9ms/step - loss: 0.6572 - accuracy: 0.5587 - val_loss: 0.6532 - val_accuracy: 0.5975\n",
      "Epoch 3/30\n",
      "25/25 [==============================] - 0s 8ms/step - loss: 0.6518 - accuracy: 0.5831 - val_loss: 0.6473 - val_accuracy: 0.6325\n",
      "Epoch 4/30\n",
      "25/25 [==============================] - 0s 9ms/step - loss: 0.6460 - accuracy: 0.6069 - val_loss: 0.6410 - val_accuracy: 0.6550\n",
      "Epoch 5/30\n",
      "25/25 [==============================] - 0s 9ms/step - loss: 0.6398 - accuracy: 0.6263 - val_loss: 0.6344 - val_accuracy: 0.6850\n",
      "Epoch 6/30\n",
      "25/25 [==============================] - 0s 8ms/step - loss: 0.6332 - accuracy: 0.6612 - val_loss: 0.6274 - val_accuracy: 0.7250\n",
      "Epoch 7/30\n",
      "25/25 [==============================] - 0s 9ms/step - loss: 0.6262 - accuracy: 0.6769 - val_loss: 0.6197 - val_accuracy: 0.7350\n",
      "Epoch 8/30\n",
      "25/25 [==============================] - 0s 9ms/step - loss: 0.6187 - accuracy: 0.7013 - val_loss: 0.6114 - val_accuracy: 0.7400\n",
      "Epoch 9/30\n",
      "25/25 [==============================] - 0s 8ms/step - loss: 0.6106 - accuracy: 0.7131 - val_loss: 0.6028 - val_accuracy: 0.7525\n",
      "Epoch 10/30\n",
      "25/25 [==============================] - 0s 8ms/step - loss: 0.6022 - accuracy: 0.7306 - val_loss: 0.5940 - val_accuracy: 0.7725\n",
      "Epoch 11/30\n",
      "25/25 [==============================] - 0s 9ms/step - loss: 0.5933 - accuracy: 0.7406 - val_loss: 0.5838 - val_accuracy: 0.7775\n",
      "Epoch 12/30\n",
      "25/25 [==============================] - 0s 9ms/step - loss: 0.5834 - accuracy: 0.7406 - val_loss: 0.5731 - val_accuracy: 0.7875\n",
      "Epoch 13/30\n",
      "25/25 [==============================] - 0s 9ms/step - loss: 0.5730 - accuracy: 0.7650 - val_loss: 0.5623 - val_accuracy: 0.8000\n",
      "Epoch 14/30\n",
      "25/25 [==============================] - 0s 9ms/step - loss: 0.5628 - accuracy: 0.7700 - val_loss: 0.5511 - val_accuracy: 0.8025\n",
      "Epoch 15/30\n",
      "25/25 [==============================] - 0s 8ms/step - loss: 0.5522 - accuracy: 0.7912 - val_loss: 0.5400 - val_accuracy: 0.8225\n",
      "Epoch 16/30\n",
      "25/25 [==============================] - 0s 10ms/step - loss: 0.5417 - accuracy: 0.8012 - val_loss: 0.5288 - val_accuracy: 0.8275\n",
      "Epoch 17/30\n",
      "25/25 [==============================] - 0s 8ms/step - loss: 0.5314 - accuracy: 0.7994 - val_loss: 0.5177 - val_accuracy: 0.8275\n",
      "Epoch 18/30\n",
      "25/25 [==============================] - 0s 8ms/step - loss: 0.5209 - accuracy: 0.8106 - val_loss: 0.5067 - val_accuracy: 0.8400\n",
      "Epoch 19/30\n",
      "25/25 [==============================] - 0s 8ms/step - loss: 0.5105 - accuracy: 0.8150 - val_loss: 0.4961 - val_accuracy: 0.8475\n",
      "Epoch 20/30\n",
      "25/25 [==============================] - 0s 7ms/step - loss: 0.5006 - accuracy: 0.8194 - val_loss: 0.4856 - val_accuracy: 0.8575\n",
      "Epoch 21/30\n",
      "25/25 [==============================] - 0s 8ms/step - loss: 0.4909 - accuracy: 0.8231 - val_loss: 0.4756 - val_accuracy: 0.8650\n",
      "Epoch 22/30\n",
      "25/25 [==============================] - 0s 8ms/step - loss: 0.4817 - accuracy: 0.8263 - val_loss: 0.4662 - val_accuracy: 0.8675\n",
      "Epoch 23/30\n",
      "25/25 [==============================] - 0s 8ms/step - loss: 0.4726 - accuracy: 0.8288 - val_loss: 0.4572 - val_accuracy: 0.8675\n",
      "Epoch 24/30\n",
      "25/25 [==============================] - 0s 8ms/step - loss: 0.4641 - accuracy: 0.8325 - val_loss: 0.4487 - val_accuracy: 0.8700\n",
      "Epoch 25/30\n",
      "25/25 [==============================] - 0s 8ms/step - loss: 0.4557 - accuracy: 0.8369 - val_loss: 0.4405 - val_accuracy: 0.8700\n",
      "Epoch 26/30\n",
      "25/25 [==============================] - 0s 9ms/step - loss: 0.4480 - accuracy: 0.8431 - val_loss: 0.4328 - val_accuracy: 0.8700\n",
      "Epoch 27/30\n",
      "25/25 [==============================] - 0s 9ms/step - loss: 0.4406 - accuracy: 0.8462 - val_loss: 0.4256 - val_accuracy: 0.8725\n",
      "Epoch 28/30\n",
      "25/25 [==============================] - 0s 8ms/step - loss: 0.4338 - accuracy: 0.8481 - val_loss: 0.4184 - val_accuracy: 0.8725\n",
      "Epoch 29/30\n",
      "25/25 [==============================] - 0s 9ms/step - loss: 0.4269 - accuracy: 0.8506 - val_loss: 0.4108 - val_accuracy: 0.8750\n",
      "Epoch 30/30\n",
      "25/25 [==============================] - 0s 8ms/step - loss: 0.4174 - accuracy: 0.8544 - val_loss: 0.4000 - val_accuracy: 0.8775\n",
      "13/13 [==============================] - 0s 5ms/step - loss: 0.4000 - accuracy: 0.8775\n",
      "Test Loss: 0.4000256359577179, Test Accuracy: 0.8774999976158142\n"
     ]
    }
   ],
   "source": [
    "from sklearn.model_selection import train_test_split\n",
    "from keras.models import Sequential\n",
    "from keras.layers import Dense\n",
    "from keras.optimizers import Adam\n",
    "from tensorflow.keras import layers\n",
    "from tensorflow.keras import regularizers\n",
    "\n",
    "\n",
    "# 데이터 전처리\n",
    "X_train, X_test, y_train, y_test = train_test_split(dataset, targets, test_size=0.2, random_state=42)\n",
    "\n",
    "# 모델 생성\n",
    "layer1 = Dense(4, \n",
    "               kernel_regularizer=regularizers.L1L2(l1=1e-5, l2=1e-4),\n",
    "               bias_regularizer=regularizers.L2(1e-4),\n",
    "               activity_regularizer=regularizers.L2(1e-5),\n",
    "               activation='relu')\n",
    "layer2 = Dense(2, \n",
    "               kernel_regularizer=regularizers.L1L2(l1=1e-5, l2=1e-4),\n",
    "               bias_regularizer=regularizers.L2(1e-4),\n",
    "               activity_regularizer=regularizers.L2(1e-5),\n",
    "               activation='relu')\n",
    "layer3 = Dense(1, activation='sigmoid')\n",
    "\n",
    "model = Sequential([layer1, layer2, layer3])\n",
    "\n",
    "# 모델 컴파일\n",
    "model.compile(optimizer=Adam(learning_rate=0.001),\n",
    "              loss=\"binary_crossentropy\",\n",
    "              metrics=[\"accuracy\"])\n",
    "\n",
    "# 모델 훈련\n",
    "model.fit(X_train, y_train, epochs=30, batch_size=64, validation_data=(X_test, y_test))\n",
    "\n",
    "# 모델 평가\n",
    "loss, accuracy = model.evaluate(X_test, y_test)\n",
    "print(f\"Test Loss: {loss}, Test Accuracy: {accuracy}\")"
   ]
  },
  {
   "cell_type": "markdown",
   "metadata": {},
   "source": [
    "## 캘리포니아 주택가격 데이터셋"
   ]
  },
  {
   "cell_type": "markdown",
   "metadata": {},
   "source": [
    "**문제 1**"
   ]
  },
  {
   "cell_type": "markdown",
   "metadata": {},
   "source": [
    "캘리포니아 주택가격 데이터셋을 이용한 회귀 심층 신경망 모델을 구성하고 훈련시켜라.\n",
    "단, `Sequential` 모델과 `Dense` 층 이외에 다른 종류의 모델과 층은 절대로 이용하지 않는다.\n",
    "또한 캘리포니아 데이터셋과 모델 구성에 대해서는 인터넷 자료를 참고하며,\n",
    "모델을 구성할 때 다음 사항에 주의한다.\n",
    "\n",
    "- 회귀 모델의 마지막 출력층은 활성화 함수를 사용하지 않는다.\n",
    "- 모델 컴파일 요소(옵티마이저, 손실 함수, 평가지표) 또한 인터넷 자료를 참고한다.\n",
    "- 은닉층의 활성화 함수는 `relu` 함수를 이용한다.\n",
    "\n",
    "\n",
    "힌트: 아래 사이트를 참고한다.\n",
    "\n",
    "- https://www.kaggle.com/code/saurav9786/ann-with-tensorflow-2-0-to-predict-housing-prices"
   ]
  },
  {
   "cell_type": "markdown",
   "metadata": {},
   "source": [
    "**견본 답안**"
   ]
  },
  {
   "cell_type": "markdown",
   "metadata": {},
   "source": [
    "pandas와 numpy 라이브러리가 필요하다."
   ]
  },
  {
   "cell_type": "code",
   "execution_count": 51,
   "metadata": {},
   "outputs": [],
   "source": [
    "import numpy as np\n",
    "import pandas as pd"
   ]
  },
  {
   "cell_type": "markdown",
   "metadata": {},
   "source": [
    "**데이터셋 다운로드**"
   ]
  },
  {
   "cell_type": "markdown",
   "metadata": {},
   "source": [
    "캘리포니아 주택가격 데이터셋은 텐서플로우가 제공하지 않는다.\n",
    "여기서는 아래 사이트에 저장되어 있는 csv 파일을 이용한다.\n",
    "\n",
    "- https://raw.githubusercontent.com/codingalzi/dlp2/master/jupyter-book/data/housing.csv"
   ]
  },
  {
   "cell_type": "markdown",
   "metadata": {},
   "source": [
    "`pd.read_csv()` 함수로 csv 파일에 저장된 데이터셋을 데이터프레임으로 불러온다."
   ]
  },
  {
   "cell_type": "code",
   "execution_count": 52,
   "metadata": {},
   "outputs": [],
   "source": [
    "housing_df = pd.read_csv(\"https://raw.githubusercontent.com/codingalzi/dlp2/master/jupyter-book/data/housing.csv\")"
   ]
  },
  {
   "cell_type": "markdown",
   "metadata": {},
   "source": [
    "각 데이터 샘플은 10개의 특성을 가지며 총 20,640개의 데이터샘플이 포함된다."
   ]
  },
  {
   "cell_type": "code",
   "execution_count": 53,
   "metadata": {},
   "outputs": [
    {
     "data": {
      "text/plain": [
       "(20640, 10)"
      ]
     },
     "execution_count": 53,
     "metadata": {},
     "output_type": "execute_result"
    }
   ],
   "source": [
    "housing_df.shape"
   ]
  },
  {
   "cell_type": "markdown",
   "metadata": {},
   "source": [
    "10개의 특성은 다음과 같다."
   ]
  },
  {
   "cell_type": "code",
   "execution_count": 54,
   "metadata": {},
   "outputs": [
    {
     "data": {
      "text/html": [
       "<div>\n",
       "<style scoped>\n",
       "    .dataframe tbody tr th:only-of-type {\n",
       "        vertical-align: middle;\n",
       "    }\n",
       "\n",
       "    .dataframe tbody tr th {\n",
       "        vertical-align: top;\n",
       "    }\n",
       "\n",
       "    .dataframe thead th {\n",
       "        text-align: right;\n",
       "    }\n",
       "</style>\n",
       "<table border=\"1\" class=\"dataframe\">\n",
       "  <thead>\n",
       "    <tr style=\"text-align: right;\">\n",
       "      <th></th>\n",
       "      <th>longitude</th>\n",
       "      <th>latitude</th>\n",
       "      <th>housing_median_age</th>\n",
       "      <th>total_rooms</th>\n",
       "      <th>total_bedrooms</th>\n",
       "      <th>population</th>\n",
       "      <th>households</th>\n",
       "      <th>median_income</th>\n",
       "      <th>median_house_value</th>\n",
       "      <th>ocean_proximity</th>\n",
       "    </tr>\n",
       "  </thead>\n",
       "  <tbody>\n",
       "    <tr>\n",
       "      <th>0</th>\n",
       "      <td>-122.23</td>\n",
       "      <td>37.88</td>\n",
       "      <td>41.0</td>\n",
       "      <td>880.0</td>\n",
       "      <td>129.0</td>\n",
       "      <td>322.0</td>\n",
       "      <td>126.0</td>\n",
       "      <td>8.3252</td>\n",
       "      <td>452600.0</td>\n",
       "      <td>NEAR BAY</td>\n",
       "    </tr>\n",
       "    <tr>\n",
       "      <th>1</th>\n",
       "      <td>-122.22</td>\n",
       "      <td>37.86</td>\n",
       "      <td>21.0</td>\n",
       "      <td>7099.0</td>\n",
       "      <td>1106.0</td>\n",
       "      <td>2401.0</td>\n",
       "      <td>1138.0</td>\n",
       "      <td>8.3014</td>\n",
       "      <td>358500.0</td>\n",
       "      <td>NEAR BAY</td>\n",
       "    </tr>\n",
       "    <tr>\n",
       "      <th>2</th>\n",
       "      <td>-122.24</td>\n",
       "      <td>37.85</td>\n",
       "      <td>52.0</td>\n",
       "      <td>1467.0</td>\n",
       "      <td>190.0</td>\n",
       "      <td>496.0</td>\n",
       "      <td>177.0</td>\n",
       "      <td>7.2574</td>\n",
       "      <td>352100.0</td>\n",
       "      <td>NEAR BAY</td>\n",
       "    </tr>\n",
       "    <tr>\n",
       "      <th>3</th>\n",
       "      <td>-122.25</td>\n",
       "      <td>37.85</td>\n",
       "      <td>52.0</td>\n",
       "      <td>1274.0</td>\n",
       "      <td>235.0</td>\n",
       "      <td>558.0</td>\n",
       "      <td>219.0</td>\n",
       "      <td>5.6431</td>\n",
       "      <td>341300.0</td>\n",
       "      <td>NEAR BAY</td>\n",
       "    </tr>\n",
       "    <tr>\n",
       "      <th>4</th>\n",
       "      <td>-122.25</td>\n",
       "      <td>37.85</td>\n",
       "      <td>52.0</td>\n",
       "      <td>1627.0</td>\n",
       "      <td>280.0</td>\n",
       "      <td>565.0</td>\n",
       "      <td>259.0</td>\n",
       "      <td>3.8462</td>\n",
       "      <td>342200.0</td>\n",
       "      <td>NEAR BAY</td>\n",
       "    </tr>\n",
       "  </tbody>\n",
       "</table>\n",
       "</div>"
      ],
      "text/plain": [
       "   longitude  latitude  housing_median_age  total_rooms  total_bedrooms  \\\n",
       "0    -122.23     37.88                41.0        880.0           129.0   \n",
       "1    -122.22     37.86                21.0       7099.0          1106.0   \n",
       "2    -122.24     37.85                52.0       1467.0           190.0   \n",
       "3    -122.25     37.85                52.0       1274.0           235.0   \n",
       "4    -122.25     37.85                52.0       1627.0           280.0   \n",
       "\n",
       "   population  households  median_income  median_house_value ocean_proximity  \n",
       "0       322.0       126.0         8.3252            452600.0        NEAR BAY  \n",
       "1      2401.0      1138.0         8.3014            358500.0        NEAR BAY  \n",
       "2       496.0       177.0         7.2574            352100.0        NEAR BAY  \n",
       "3       558.0       219.0         5.6431            341300.0        NEAR BAY  \n",
       "4       565.0       259.0         3.8462            342200.0        NEAR BAY  "
      ]
     },
     "execution_count": 54,
     "metadata": {},
     "output_type": "execute_result"
    }
   ],
   "source": [
    "housing_df.head()"
   ]
  },
  {
   "cell_type": "markdown",
   "metadata": {},
   "source": [
    "**데이터 전처리: 결측치 처리**"
   ]
  },
  {
   "cell_type": "markdown",
   "metadata": {},
   "source": [
    "일부 특성에 결측치가 있는지 확인한다."
   ]
  },
  {
   "cell_type": "code",
   "execution_count": 55,
   "metadata": {},
   "outputs": [
    {
     "data": {
      "text/plain": [
       "longitude             False\n",
       "latitude              False\n",
       "housing_median_age    False\n",
       "total_rooms           False\n",
       "total_bedrooms         True\n",
       "population            False\n",
       "households            False\n",
       "median_income         False\n",
       "median_house_value    False\n",
       "ocean_proximity       False\n",
       "dtype: bool"
      ]
     },
     "execution_count": 55,
     "metadata": {},
     "output_type": "execute_result"
    }
   ],
   "source": [
    "housing_df.isna().any()"
   ]
  },
  {
   "cell_type": "markdown",
   "metadata": {},
   "source": [
    "`total_bedrooms`(구역별 총 방 개수) 속성에 결측치가 207개 있다."
   ]
  },
  {
   "cell_type": "code",
   "execution_count": 56,
   "metadata": {},
   "outputs": [
    {
     "data": {
      "text/plain": [
       "longitude               0\n",
       "latitude                0\n",
       "housing_median_age      0\n",
       "total_rooms             0\n",
       "total_bedrooms        207\n",
       "population              0\n",
       "households              0\n",
       "median_income           0\n",
       "median_house_value      0\n",
       "ocean_proximity         0\n",
       "dtype: int64"
      ]
     },
     "execution_count": 56,
     "metadata": {},
     "output_type": "execute_result"
    }
   ],
   "source": [
    "housing_df.isna().sum()"
   ]
  },
  {
   "cell_type": "markdown",
   "metadata": {},
   "source": [
    "결측치를 포함한 샘플은 모두 삭제한다.\n",
    "케라스 모델은 일반적으로 결측치가 포함된 데이터를 처리하지 못한다."
   ]
  },
  {
   "cell_type": "code",
   "execution_count": 57,
   "metadata": {},
   "outputs": [],
   "source": [
    "housing_df.dropna(inplace=True)"
   ]
  },
  {
   "cell_type": "markdown",
   "metadata": {},
   "source": [
    "이제 어떠한 결측치도 포함되지 않음을 확인할 수 있다."
   ]
  },
  {
   "cell_type": "code",
   "execution_count": 58,
   "metadata": {},
   "outputs": [
    {
     "data": {
      "text/plain": [
       "longitude             False\n",
       "latitude              False\n",
       "housing_median_age    False\n",
       "total_rooms           False\n",
       "total_bedrooms        False\n",
       "population            False\n",
       "households            False\n",
       "median_income         False\n",
       "median_house_value    False\n",
       "ocean_proximity       False\n",
       "dtype: bool"
      ]
     },
     "execution_count": 58,
     "metadata": {},
     "output_type": "execute_result"
    }
   ],
   "source": [
    "housing_df.isna().any()"
   ]
  },
  {
   "cell_type": "markdown",
   "metadata": {},
   "source": [
    "데이터셋의 크기가 20,433으로 조금 작아졌다."
   ]
  },
  {
   "cell_type": "code",
   "execution_count": 59,
   "metadata": {},
   "outputs": [
    {
     "data": {
      "text/plain": [
       "(20433, 10)"
      ]
     },
     "execution_count": 59,
     "metadata": {},
     "output_type": "execute_result"
    }
   ],
   "source": [
    "housing_df.shape"
   ]
  },
  {
   "cell_type": "markdown",
   "metadata": {},
   "source": [
    "**데이터 전처리: 원-핫 인코딩**"
   ]
  },
  {
   "cell_type": "markdown",
   "metadata": {},
   "source": [
    "`ocean_proximity`(해안근접도) 특성이 문자열로 되어 있다."
   ]
  },
  {
   "cell_type": "code",
   "execution_count": 60,
   "metadata": {},
   "outputs": [
    {
     "name": "stdout",
     "output_type": "stream",
     "text": [
      "<class 'pandas.core.frame.DataFrame'>\n",
      "Index: 20433 entries, 0 to 20639\n",
      "Data columns (total 10 columns):\n",
      " #   Column              Non-Null Count  Dtype  \n",
      "---  ------              --------------  -----  \n",
      " 0   longitude           20433 non-null  float64\n",
      " 1   latitude            20433 non-null  float64\n",
      " 2   housing_median_age  20433 non-null  float64\n",
      " 3   total_rooms         20433 non-null  float64\n",
      " 4   total_bedrooms      20433 non-null  float64\n",
      " 5   population          20433 non-null  float64\n",
      " 6   households          20433 non-null  float64\n",
      " 7   median_income       20433 non-null  float64\n",
      " 8   median_house_value  20433 non-null  float64\n",
      " 9   ocean_proximity     20433 non-null  object \n",
      "dtypes: float64(9), object(1)\n",
      "memory usage: 1.7+ MB\n"
     ]
    }
   ],
   "source": [
    "housing_df.info()"
   ]
  },
  {
   "cell_type": "code",
   "execution_count": 61,
   "metadata": {},
   "outputs": [
    {
     "data": {
      "text/plain": [
       "0        NEAR BAY\n",
       "1        NEAR BAY\n",
       "2        NEAR BAY\n",
       "3        NEAR BAY\n",
       "4        NEAR BAY\n",
       "           ...   \n",
       "20635      INLAND\n",
       "20636      INLAND\n",
       "20637      INLAND\n",
       "20638      INLAND\n",
       "20639      INLAND\n",
       "Name: ocean_proximity, Length: 20433, dtype: object"
      ]
     },
     "execution_count": 61,
     "metadata": {},
     "output_type": "execute_result"
    }
   ],
   "source": [
    "housing_df['ocean_proximity']"
   ]
  },
  {
   "cell_type": "markdown",
   "metadata": {},
   "source": [
    "해안근접도는 다섯 종류로 구분된다."
   ]
  },
  {
   "cell_type": "code",
   "execution_count": 62,
   "metadata": {},
   "outputs": [
    {
     "data": {
      "text/plain": [
       "array(['NEAR BAY', '<1H OCEAN', 'INLAND', 'NEAR OCEAN', 'ISLAND'],\n",
       "      dtype=object)"
      ]
     },
     "execution_count": 62,
     "metadata": {},
     "output_type": "execute_result"
    }
   ],
   "source": [
    "housing_df['ocean_proximity'].unique()"
   ]
  },
  {
   "cell_type": "markdown",
   "metadata": {},
   "source": [
    "텐서플로우 모델에 적절하지 않기에 원-핫 인코딩한다.\n",
    "즉, 해안근접도 특성을 없애고 대신 5개의 특성을 새로 추가한다.\n",
    "추가되는 특성의 값은 해안근접도를 원-핫 인코딩 특성이다.\n",
    "이를 위해 `pd.get_dummies()` 함수를 이용한다."
   ]
  },
  {
   "cell_type": "code",
   "execution_count": 63,
   "metadata": {},
   "outputs": [],
   "source": [
    "housing_df_dummy = pd.get_dummies(data = housing_df, \n",
    "                                  columns = ['ocean_proximity'] , \n",
    "                                  prefix = ['ocean_proximity'] , \n",
    "                                  dtype='float64')"
   ]
  },
  {
   "cell_type": "markdown",
   "metadata": {},
   "source": [
    "`ocean_proximity` 특성 대신에 새로운 특성 다섯 개가 추가되었다.\n",
    "추가된 특성의 `dtype`은 `float64`이다."
   ]
  },
  {
   "cell_type": "code",
   "execution_count": 64,
   "metadata": {},
   "outputs": [
    {
     "name": "stdout",
     "output_type": "stream",
     "text": [
      "<class 'pandas.core.frame.DataFrame'>\n",
      "Index: 20433 entries, 0 to 20639\n",
      "Data columns (total 14 columns):\n",
      " #   Column                      Non-Null Count  Dtype  \n",
      "---  ------                      --------------  -----  \n",
      " 0   longitude                   20433 non-null  float64\n",
      " 1   latitude                    20433 non-null  float64\n",
      " 2   housing_median_age          20433 non-null  float64\n",
      " 3   total_rooms                 20433 non-null  float64\n",
      " 4   total_bedrooms              20433 non-null  float64\n",
      " 5   population                  20433 non-null  float64\n",
      " 6   households                  20433 non-null  float64\n",
      " 7   median_income               20433 non-null  float64\n",
      " 8   median_house_value          20433 non-null  float64\n",
      " 9   ocean_proximity_<1H OCEAN   20433 non-null  float64\n",
      " 10  ocean_proximity_INLAND      20433 non-null  float64\n",
      " 11  ocean_proximity_ISLAND      20433 non-null  float64\n",
      " 12  ocean_proximity_NEAR BAY    20433 non-null  float64\n",
      " 13  ocean_proximity_NEAR OCEAN  20433 non-null  float64\n",
      "dtypes: float64(14)\n",
      "memory usage: 2.3 MB\n"
     ]
    }
   ],
   "source": [
    "housing_df_dummy.info()"
   ]
  },
  {
   "cell_type": "code",
   "execution_count": 65,
   "metadata": {},
   "outputs": [
    {
     "data": {
      "text/html": [
       "<div>\n",
       "<style scoped>\n",
       "    .dataframe tbody tr th:only-of-type {\n",
       "        vertical-align: middle;\n",
       "    }\n",
       "\n",
       "    .dataframe tbody tr th {\n",
       "        vertical-align: top;\n",
       "    }\n",
       "\n",
       "    .dataframe thead th {\n",
       "        text-align: right;\n",
       "    }\n",
       "</style>\n",
       "<table border=\"1\" class=\"dataframe\">\n",
       "  <thead>\n",
       "    <tr style=\"text-align: right;\">\n",
       "      <th></th>\n",
       "      <th>longitude</th>\n",
       "      <th>latitude</th>\n",
       "      <th>housing_median_age</th>\n",
       "      <th>total_rooms</th>\n",
       "      <th>total_bedrooms</th>\n",
       "      <th>population</th>\n",
       "      <th>households</th>\n",
       "      <th>median_income</th>\n",
       "      <th>median_house_value</th>\n",
       "      <th>ocean_proximity_&lt;1H OCEAN</th>\n",
       "      <th>ocean_proximity_INLAND</th>\n",
       "      <th>ocean_proximity_ISLAND</th>\n",
       "      <th>ocean_proximity_NEAR BAY</th>\n",
       "      <th>ocean_proximity_NEAR OCEAN</th>\n",
       "    </tr>\n",
       "  </thead>\n",
       "  <tbody>\n",
       "    <tr>\n",
       "      <th>0</th>\n",
       "      <td>-122.23</td>\n",
       "      <td>37.88</td>\n",
       "      <td>41.0</td>\n",
       "      <td>880.0</td>\n",
       "      <td>129.0</td>\n",
       "      <td>322.0</td>\n",
       "      <td>126.0</td>\n",
       "      <td>8.3252</td>\n",
       "      <td>452600.0</td>\n",
       "      <td>0.0</td>\n",
       "      <td>0.0</td>\n",
       "      <td>0.0</td>\n",
       "      <td>1.0</td>\n",
       "      <td>0.0</td>\n",
       "    </tr>\n",
       "    <tr>\n",
       "      <th>1</th>\n",
       "      <td>-122.22</td>\n",
       "      <td>37.86</td>\n",
       "      <td>21.0</td>\n",
       "      <td>7099.0</td>\n",
       "      <td>1106.0</td>\n",
       "      <td>2401.0</td>\n",
       "      <td>1138.0</td>\n",
       "      <td>8.3014</td>\n",
       "      <td>358500.0</td>\n",
       "      <td>0.0</td>\n",
       "      <td>0.0</td>\n",
       "      <td>0.0</td>\n",
       "      <td>1.0</td>\n",
       "      <td>0.0</td>\n",
       "    </tr>\n",
       "    <tr>\n",
       "      <th>2</th>\n",
       "      <td>-122.24</td>\n",
       "      <td>37.85</td>\n",
       "      <td>52.0</td>\n",
       "      <td>1467.0</td>\n",
       "      <td>190.0</td>\n",
       "      <td>496.0</td>\n",
       "      <td>177.0</td>\n",
       "      <td>7.2574</td>\n",
       "      <td>352100.0</td>\n",
       "      <td>0.0</td>\n",
       "      <td>0.0</td>\n",
       "      <td>0.0</td>\n",
       "      <td>1.0</td>\n",
       "      <td>0.0</td>\n",
       "    </tr>\n",
       "    <tr>\n",
       "      <th>3</th>\n",
       "      <td>-122.25</td>\n",
       "      <td>37.85</td>\n",
       "      <td>52.0</td>\n",
       "      <td>1274.0</td>\n",
       "      <td>235.0</td>\n",
       "      <td>558.0</td>\n",
       "      <td>219.0</td>\n",
       "      <td>5.6431</td>\n",
       "      <td>341300.0</td>\n",
       "      <td>0.0</td>\n",
       "      <td>0.0</td>\n",
       "      <td>0.0</td>\n",
       "      <td>1.0</td>\n",
       "      <td>0.0</td>\n",
       "    </tr>\n",
       "    <tr>\n",
       "      <th>4</th>\n",
       "      <td>-122.25</td>\n",
       "      <td>37.85</td>\n",
       "      <td>52.0</td>\n",
       "      <td>1627.0</td>\n",
       "      <td>280.0</td>\n",
       "      <td>565.0</td>\n",
       "      <td>259.0</td>\n",
       "      <td>3.8462</td>\n",
       "      <td>342200.0</td>\n",
       "      <td>0.0</td>\n",
       "      <td>0.0</td>\n",
       "      <td>0.0</td>\n",
       "      <td>1.0</td>\n",
       "      <td>0.0</td>\n",
       "    </tr>\n",
       "  </tbody>\n",
       "</table>\n",
       "</div>"
      ],
      "text/plain": [
       "   longitude  latitude  housing_median_age  total_rooms  total_bedrooms  \\\n",
       "0    -122.23     37.88                41.0        880.0           129.0   \n",
       "1    -122.22     37.86                21.0       7099.0          1106.0   \n",
       "2    -122.24     37.85                52.0       1467.0           190.0   \n",
       "3    -122.25     37.85                52.0       1274.0           235.0   \n",
       "4    -122.25     37.85                52.0       1627.0           280.0   \n",
       "\n",
       "   population  households  median_income  median_house_value  \\\n",
       "0       322.0       126.0         8.3252            452600.0   \n",
       "1      2401.0      1138.0         8.3014            358500.0   \n",
       "2       496.0       177.0         7.2574            352100.0   \n",
       "3       558.0       219.0         5.6431            341300.0   \n",
       "4       565.0       259.0         3.8462            342200.0   \n",
       "\n",
       "   ocean_proximity_<1H OCEAN  ocean_proximity_INLAND  ocean_proximity_ISLAND  \\\n",
       "0                        0.0                     0.0                     0.0   \n",
       "1                        0.0                     0.0                     0.0   \n",
       "2                        0.0                     0.0                     0.0   \n",
       "3                        0.0                     0.0                     0.0   \n",
       "4                        0.0                     0.0                     0.0   \n",
       "\n",
       "   ocean_proximity_NEAR BAY  ocean_proximity_NEAR OCEAN  \n",
       "0                       1.0                         0.0  \n",
       "1                       1.0                         0.0  \n",
       "2                       1.0                         0.0  \n",
       "3                       1.0                         0.0  \n",
       "4                       1.0                         0.0  "
      ]
     },
     "execution_count": 65,
     "metadata": {},
     "output_type": "execute_result"
    }
   ],
   "source": [
    "housing_df_dummy.head()"
   ]
  },
  {
   "cell_type": "markdown",
   "metadata": {},
   "source": [
    "**훈련 데이터셋 준비**"
   ]
  },
  {
   "cell_type": "markdown",
   "metadata": {},
   "source": [
    "지도학습 모델 훈련을 위해 입력 데이터셋과 타깃 데이터셋을 지정한다.\n",
    "타깃은 중앙 주택가격(`median_house_value`)으로 정하고 나머지 특성을 입력값의 특성으로 사용한다."
   ]
  },
  {
   "cell_type": "code",
   "execution_count": 66,
   "metadata": {},
   "outputs": [],
   "source": [
    "# 입력 데이터셋\n",
    "X = housing_df_dummy.drop(\"median_house_value\", axis=1)\n",
    "\n",
    "# 타깃 데이터셋: 2차원으로 지정\n",
    "y = housing_df_dummy[[\"median_house_value\"]]"
   ]
  },
  {
   "cell_type": "markdown",
   "metadata": {},
   "source": [
    "입력 데이터셋: 중앙 주택가격을 제외한 13개의 특성으로 구성됨"
   ]
  },
  {
   "cell_type": "code",
   "execution_count": 67,
   "metadata": {},
   "outputs": [
    {
     "data": {
      "text/html": [
       "<div>\n",
       "<style scoped>\n",
       "    .dataframe tbody tr th:only-of-type {\n",
       "        vertical-align: middle;\n",
       "    }\n",
       "\n",
       "    .dataframe tbody tr th {\n",
       "        vertical-align: top;\n",
       "    }\n",
       "\n",
       "    .dataframe thead th {\n",
       "        text-align: right;\n",
       "    }\n",
       "</style>\n",
       "<table border=\"1\" class=\"dataframe\">\n",
       "  <thead>\n",
       "    <tr style=\"text-align: right;\">\n",
       "      <th></th>\n",
       "      <th>longitude</th>\n",
       "      <th>latitude</th>\n",
       "      <th>housing_median_age</th>\n",
       "      <th>total_rooms</th>\n",
       "      <th>total_bedrooms</th>\n",
       "      <th>population</th>\n",
       "      <th>households</th>\n",
       "      <th>median_income</th>\n",
       "      <th>ocean_proximity_&lt;1H OCEAN</th>\n",
       "      <th>ocean_proximity_INLAND</th>\n",
       "      <th>ocean_proximity_ISLAND</th>\n",
       "      <th>ocean_proximity_NEAR BAY</th>\n",
       "      <th>ocean_proximity_NEAR OCEAN</th>\n",
       "    </tr>\n",
       "  </thead>\n",
       "  <tbody>\n",
       "    <tr>\n",
       "      <th>0</th>\n",
       "      <td>-122.23</td>\n",
       "      <td>37.88</td>\n",
       "      <td>41.0</td>\n",
       "      <td>880.0</td>\n",
       "      <td>129.0</td>\n",
       "      <td>322.0</td>\n",
       "      <td>126.0</td>\n",
       "      <td>8.3252</td>\n",
       "      <td>0.0</td>\n",
       "      <td>0.0</td>\n",
       "      <td>0.0</td>\n",
       "      <td>1.0</td>\n",
       "      <td>0.0</td>\n",
       "    </tr>\n",
       "    <tr>\n",
       "      <th>1</th>\n",
       "      <td>-122.22</td>\n",
       "      <td>37.86</td>\n",
       "      <td>21.0</td>\n",
       "      <td>7099.0</td>\n",
       "      <td>1106.0</td>\n",
       "      <td>2401.0</td>\n",
       "      <td>1138.0</td>\n",
       "      <td>8.3014</td>\n",
       "      <td>0.0</td>\n",
       "      <td>0.0</td>\n",
       "      <td>0.0</td>\n",
       "      <td>1.0</td>\n",
       "      <td>0.0</td>\n",
       "    </tr>\n",
       "    <tr>\n",
       "      <th>2</th>\n",
       "      <td>-122.24</td>\n",
       "      <td>37.85</td>\n",
       "      <td>52.0</td>\n",
       "      <td>1467.0</td>\n",
       "      <td>190.0</td>\n",
       "      <td>496.0</td>\n",
       "      <td>177.0</td>\n",
       "      <td>7.2574</td>\n",
       "      <td>0.0</td>\n",
       "      <td>0.0</td>\n",
       "      <td>0.0</td>\n",
       "      <td>1.0</td>\n",
       "      <td>0.0</td>\n",
       "    </tr>\n",
       "    <tr>\n",
       "      <th>3</th>\n",
       "      <td>-122.25</td>\n",
       "      <td>37.85</td>\n",
       "      <td>52.0</td>\n",
       "      <td>1274.0</td>\n",
       "      <td>235.0</td>\n",
       "      <td>558.0</td>\n",
       "      <td>219.0</td>\n",
       "      <td>5.6431</td>\n",
       "      <td>0.0</td>\n",
       "      <td>0.0</td>\n",
       "      <td>0.0</td>\n",
       "      <td>1.0</td>\n",
       "      <td>0.0</td>\n",
       "    </tr>\n",
       "    <tr>\n",
       "      <th>4</th>\n",
       "      <td>-122.25</td>\n",
       "      <td>37.85</td>\n",
       "      <td>52.0</td>\n",
       "      <td>1627.0</td>\n",
       "      <td>280.0</td>\n",
       "      <td>565.0</td>\n",
       "      <td>259.0</td>\n",
       "      <td>3.8462</td>\n",
       "      <td>0.0</td>\n",
       "      <td>0.0</td>\n",
       "      <td>0.0</td>\n",
       "      <td>1.0</td>\n",
       "      <td>0.0</td>\n",
       "    </tr>\n",
       "  </tbody>\n",
       "</table>\n",
       "</div>"
      ],
      "text/plain": [
       "   longitude  latitude  housing_median_age  total_rooms  total_bedrooms  \\\n",
       "0    -122.23     37.88                41.0        880.0           129.0   \n",
       "1    -122.22     37.86                21.0       7099.0          1106.0   \n",
       "2    -122.24     37.85                52.0       1467.0           190.0   \n",
       "3    -122.25     37.85                52.0       1274.0           235.0   \n",
       "4    -122.25     37.85                52.0       1627.0           280.0   \n",
       "\n",
       "   population  households  median_income  ocean_proximity_<1H OCEAN  \\\n",
       "0       322.0       126.0         8.3252                        0.0   \n",
       "1      2401.0      1138.0         8.3014                        0.0   \n",
       "2       496.0       177.0         7.2574                        0.0   \n",
       "3       558.0       219.0         5.6431                        0.0   \n",
       "4       565.0       259.0         3.8462                        0.0   \n",
       "\n",
       "   ocean_proximity_INLAND  ocean_proximity_ISLAND  ocean_proximity_NEAR BAY  \\\n",
       "0                     0.0                     0.0                       1.0   \n",
       "1                     0.0                     0.0                       1.0   \n",
       "2                     0.0                     0.0                       1.0   \n",
       "3                     0.0                     0.0                       1.0   \n",
       "4                     0.0                     0.0                       1.0   \n",
       "\n",
       "   ocean_proximity_NEAR OCEAN  \n",
       "0                         0.0  \n",
       "1                         0.0  \n",
       "2                         0.0  \n",
       "3                         0.0  \n",
       "4                         0.0  "
      ]
     },
     "execution_count": 67,
     "metadata": {},
     "output_type": "execute_result"
    }
   ],
   "source": [
    "X.head()"
   ]
  },
  {
   "cell_type": "markdown",
   "metadata": {},
   "source": [
    "타깃 데이터셋: 중앙 주택가격으로 구성됨"
   ]
  },
  {
   "cell_type": "code",
   "execution_count": 68,
   "metadata": {},
   "outputs": [
    {
     "data": {
      "text/html": [
       "<div>\n",
       "<style scoped>\n",
       "    .dataframe tbody tr th:only-of-type {\n",
       "        vertical-align: middle;\n",
       "    }\n",
       "\n",
       "    .dataframe tbody tr th {\n",
       "        vertical-align: top;\n",
       "    }\n",
       "\n",
       "    .dataframe thead th {\n",
       "        text-align: right;\n",
       "    }\n",
       "</style>\n",
       "<table border=\"1\" class=\"dataframe\">\n",
       "  <thead>\n",
       "    <tr style=\"text-align: right;\">\n",
       "      <th></th>\n",
       "      <th>median_house_value</th>\n",
       "    </tr>\n",
       "  </thead>\n",
       "  <tbody>\n",
       "    <tr>\n",
       "      <th>0</th>\n",
       "      <td>452600.0</td>\n",
       "    </tr>\n",
       "    <tr>\n",
       "      <th>1</th>\n",
       "      <td>358500.0</td>\n",
       "    </tr>\n",
       "    <tr>\n",
       "      <th>2</th>\n",
       "      <td>352100.0</td>\n",
       "    </tr>\n",
       "    <tr>\n",
       "      <th>3</th>\n",
       "      <td>341300.0</td>\n",
       "    </tr>\n",
       "    <tr>\n",
       "      <th>4</th>\n",
       "      <td>342200.0</td>\n",
       "    </tr>\n",
       "  </tbody>\n",
       "</table>\n",
       "</div>"
      ],
      "text/plain": [
       "   median_house_value\n",
       "0            452600.0\n",
       "1            358500.0\n",
       "2            352100.0\n",
       "3            341300.0\n",
       "4            342200.0"
      ]
     },
     "execution_count": 68,
     "metadata": {},
     "output_type": "execute_result"
    }
   ],
   "source": [
    "y.head()"
   ]
  },
  {
   "cell_type": "markdown",
   "metadata": {},
   "source": [
    "**훈련용과 테스트용 데이터셋 구분**"
   ]
  },
  {
   "cell_type": "markdown",
   "metadata": {},
   "source": [
    "7 대 3의 비율로 데이터셋을 훈련용 데이터셋과 테스트용데이터셋으로 구분한다.\n",
    "이를 위해 사이킷런의 `train_test_split()` 함수를 이용한다.\n",
    "\n",
    "주의사항: 입력 데이터셋과 타깃 데이터셋을 함께 동기화하면서 구분한다."
   ]
  },
  {
   "cell_type": "code",
   "execution_count": 69,
   "metadata": {},
   "outputs": [],
   "source": [
    "from sklearn.model_selection import train_test_split\n",
    "\n",
    "X_train, X_test, y_train, y_test = train_test_split(X, y, test_size = 0.3)"
   ]
  },
  {
   "cell_type": "markdown",
   "metadata": {},
   "source": [
    "훈련용 데이터셋 크기"
   ]
  },
  {
   "cell_type": "code",
   "execution_count": 70,
   "metadata": {},
   "outputs": [
    {
     "data": {
      "text/plain": [
       "(14303, 13)"
      ]
     },
     "execution_count": 70,
     "metadata": {},
     "output_type": "execute_result"
    }
   ],
   "source": [
    "X_train.shape"
   ]
  },
  {
   "cell_type": "code",
   "execution_count": 71,
   "metadata": {},
   "outputs": [
    {
     "data": {
      "text/plain": [
       "(14303, 1)"
      ]
     },
     "execution_count": 71,
     "metadata": {},
     "output_type": "execute_result"
    }
   ],
   "source": [
    "y_train.shape"
   ]
  },
  {
   "cell_type": "markdown",
   "metadata": {},
   "source": [
    "테스트용 데이터셋 크기"
   ]
  },
  {
   "cell_type": "code",
   "execution_count": 72,
   "metadata": {},
   "outputs": [
    {
     "data": {
      "text/plain": [
       "(6130, 13)"
      ]
     },
     "execution_count": 72,
     "metadata": {},
     "output_type": "execute_result"
    }
   ],
   "source": [
    "X_test.shape"
   ]
  },
  {
   "cell_type": "code",
   "execution_count": 73,
   "metadata": {},
   "outputs": [
    {
     "data": {
      "text/plain": [
       "(6130, 1)"
      ]
     },
     "execution_count": 73,
     "metadata": {},
     "output_type": "execute_result"
    }
   ],
   "source": [
    "y_test.shape"
   ]
  },
  {
   "cell_type": "markdown",
   "metadata": {},
   "source": [
    "**입력 데이터셋 표준화**"
   ]
  },
  {
   "cell_type": "markdown",
   "metadata": {},
   "source": [
    "보다 효율적인 훈련을 위해 입력 데이터셋을 표준화 한다.\n",
    "사이킷런의 `StandardScaler` 변환기를 이용하여 쉽게 처리할 수 있다.\n",
    "\n",
    "먼저 훈련용 입력 데이터셋을 변환시킨다. \n",
    "이때 `fit_transform()` 메서드를 이용하면 입력 데이터셋의 특성별 평균값과 표준편차를 계산하여\n",
    "표준화를 진행한다."
   ]
  },
  {
   "cell_type": "code",
   "execution_count": 74,
   "metadata": {},
   "outputs": [],
   "source": [
    "from sklearn.preprocessing import StandardScaler\n",
    "\n",
    "scaler = StandardScaler()\n",
    "X_train = scaler.fit_transform(X_train)"
   ]
  },
  {
   "cell_type": "markdown",
   "metadata": {},
   "source": [
    "테스트용 입력 데이터셋의 표준화는 단순히 `transform()` 메서드를 이용한다.\n",
    "이유는 테스트셋에 대한 정보를 전혀 사용하지 않기 위해 \n",
    "표준화를 진행해야 하기 때문이다."
   ]
  },
  {
   "cell_type": "code",
   "execution_count": 75,
   "metadata": {},
   "outputs": [],
   "source": [
    "X_test = scaler.transform(X_test)"
   ]
  },
  {
   "cell_type": "markdown",
   "metadata": {},
   "source": [
    "주의사항: 타깃 데이터셋은 표준화하지 않는다."
   ]
  },
  {
   "cell_type": "markdown",
   "metadata": {},
   "source": [
    "**검증용 데이터셋 지정**"
   ]
  },
  {
   "cell_type": "markdown",
   "metadata": {},
   "source": [
    "훈련 중에 모델의 일반화 성능을 평가하기 위해 훈련용 데이터셋의 10%를 검증용 데이터셋으로 지정한다."
   ]
  },
  {
   "cell_type": "code",
   "execution_count": 76,
   "metadata": {},
   "outputs": [],
   "source": [
    "X_train, X_val, y_train, y_val = train_test_split(X_train, y_train, test_size = 0.3)"
   ]
  },
  {
   "cell_type": "markdown",
   "metadata": {},
   "source": [
    "**케라스 활용 모델 구성**"
   ]
  },
  {
   "cell_type": "code",
   "execution_count": 77,
   "metadata": {},
   "outputs": [],
   "source": [
    "import tensorflow as tf\n",
    "from tensorflow import keras\n",
    "from tensorflow.keras import Sequential\n",
    "from tensorflow.keras.layers import Dense"
   ]
  },
  {
   "cell_type": "markdown",
   "metadata": {},
   "source": [
    "모델 지정"
   ]
  },
  {
   "cell_type": "code",
   "execution_count": 78,
   "metadata": {},
   "outputs": [],
   "source": [
    "model = Sequential()\n",
    "\n",
    "# 은닉층 3개\n",
    "model.add(Dense(64, activation='relu'))\n",
    "model.add(Dense(32, activation='relu'))\n",
    "model.add(Dense(16, activation='relu'))\n",
    "\n",
    "# 출력층: 회귀 모델. 유닛 1개. 활성화 함수 없음.\n",
    "model.add(Dense(1))"
   ]
  },
  {
   "cell_type": "markdown",
   "metadata": {},
   "source": [
    "모델 컴파일\n",
    "\n",
    "- 옵티마이저: `adam`\n",
    "- 손실 함수: 평균 제곱오차(`mse`)\n",
    "- 평가지표: 평균 제곱근오차(`tf.keras.metrics.RootMeanSquaredError`)와 평균절대오차(`mae`)"
   ]
  },
  {
   "cell_type": "code",
   "execution_count": 79,
   "metadata": {},
   "outputs": [],
   "source": [
    "model.compile(optimizer='adam', \n",
    "              loss='mse', \n",
    "              metrics=[tf.keras.metrics.RootMeanSquaredError(),'mae'])"
   ]
  },
  {
   "cell_type": "markdown",
   "metadata": {},
   "source": [
    "**모델 훈련**"
   ]
  },
  {
   "cell_type": "markdown",
   "metadata": {},
   "source": [
    "- 배치 크기(`batch_size`): 256\n",
    "- 에포크(`epoch`): 30\n",
    "- 검증 데이터셋 지정"
   ]
  },
  {
   "cell_type": "code",
   "execution_count": 80,
   "metadata": {},
   "outputs": [
    {
     "name": "stdout",
     "output_type": "stream",
     "text": [
      "Epoch 1/30\n",
      "40/40 [==============================] - 2s 15ms/step - loss: 55946465280.0000 - root_mean_squared_error: 236530.0469 - mae: 206524.4688 - val_loss: 56523575296.0000 - val_root_mean_squared_error: 237746.8750 - val_mae: 208052.3281\n",
      "Epoch 2/30\n",
      "40/40 [==============================] - 0s 9ms/step - loss: 55942823936.0000 - root_mean_squared_error: 236522.3438 - mae: 206516.7188 - val_loss: 56515330048.0000 - val_root_mean_squared_error: 237729.5312 - val_mae: 208034.7031\n",
      "Epoch 3/30\n",
      "40/40 [==============================] - 0s 8ms/step - loss: 55924068352.0000 - root_mean_squared_error: 236482.7031 - mae: 206476.9844 - val_loss: 56478486528.0000 - val_root_mean_squared_error: 237652.0312 - val_mae: 207957.0156\n",
      "Epoch 4/30\n",
      "40/40 [==============================] - 0s 9ms/step - loss: 55855415296.0000 - root_mean_squared_error: 236337.5000 - mae: 206333.4062 - val_loss: 56362270720.0000 - val_root_mean_squared_error: 237407.3906 - val_mae: 207714.0625\n",
      "Epoch 5/30\n",
      "40/40 [==============================] - 0s 8ms/step - loss: 55671443456.0000 - root_mean_squared_error: 235947.9688 - mae: 205952.6094 - val_loss: 56085540864.0000 - val_root_mean_squared_error: 236823.8594 - val_mae: 207138.3594\n",
      "Epoch 6/30\n",
      "40/40 [==============================] - 0s 8ms/step - loss: 55276769280.0000 - root_mean_squared_error: 235110.1250 - mae: 205134.8750 - val_loss: 55538958336.0000 - val_root_mean_squared_error: 235667.0469 - val_mae: 206000.7969\n",
      "Epoch 7/30\n",
      "40/40 [==============================] - 0s 8ms/step - loss: 54554472448.0000 - root_mean_squared_error: 233568.9844 - mae: 203640.1562 - val_loss: 54594940928.0000 - val_root_mean_squared_error: 233655.6094 - val_mae: 204023.2031\n",
      "Epoch 8/30\n",
      "40/40 [==============================] - 0s 9ms/step - loss: 53364301824.0000 - root_mean_squared_error: 231007.1406 - mae: 201148.1406 - val_loss: 53109268480.0000 - val_root_mean_squared_error: 230454.4844 - val_mae: 200867.8750\n",
      "Epoch 9/30\n",
      "40/40 [==============================] - 0s 9ms/step - loss: 51569668096.0000 - root_mean_squared_error: 227089.5625 - mae: 197325.2500 - val_loss: 50948153344.0000 - val_root_mean_squared_error: 225716.9844 - val_mae: 196184.1406\n",
      "Epoch 10/30\n",
      "40/40 [==============================] - 0s 9ms/step - loss: 49064013824.0000 - root_mean_squared_error: 221503.9844 - mae: 191833.9062 - val_loss: 48030044160.0000 - val_root_mean_squared_error: 219157.5781 - val_mae: 189643.4375\n",
      "Epoch 11/30\n",
      "40/40 [==============================] - 0s 8ms/step - loss: 45778329600.0000 - root_mean_squared_error: 213958.7031 - mae: 184356.5312 - val_loss: 44308586496.0000 - val_root_mean_squared_error: 210496.0469 - val_mae: 180921.7656\n",
      "Epoch 12/30\n",
      "40/40 [==============================] - 0s 9ms/step - loss: 41716174848.0000 - root_mean_squared_error: 204245.3750 - mae: 174729.5312 - val_loss: 39920001024.0000 - val_root_mean_squared_error: 199799.9062 - val_mae: 170119.6875\n",
      "Epoch 13/30\n",
      "40/40 [==============================] - 0s 9ms/step - loss: 37046087680.0000 - root_mean_squared_error: 192473.5938 - mae: 162956.2812 - val_loss: 35006377984.0000 - val_root_mean_squared_error: 187099.9062 - val_mae: 157245.1719\n",
      "Epoch 14/30\n",
      "40/40 [==============================] - 0s 8ms/step - loss: 32034107392.0000 - root_mean_squared_error: 178980.7344 - mae: 149520.5625 - val_loss: 29938446336.0000 - val_root_mean_squared_error: 173027.2969 - val_mae: 142878.5781\n",
      "Epoch 15/30\n",
      "40/40 [==============================] - 0s 9ms/step - loss: 26972790784.0000 - root_mean_squared_error: 164233.9531 - mae: 134367.3125 - val_loss: 24930488320.0000 - val_root_mean_squared_error: 157893.9062 - val_mae: 127082.0625\n",
      "Epoch 16/30\n",
      "40/40 [==============================] - 0s 9ms/step - loss: 22253008896.0000 - root_mean_squared_error: 149174.4219 - mae: 118763.9766 - val_loss: 20506832896.0000 - val_root_mean_squared_error: 143202.0625 - val_mae: 111642.5781\n",
      "Epoch 17/30\n",
      "40/40 [==============================] - 0s 8ms/step - loss: 18183106560.0000 - root_mean_squared_error: 134844.7500 - mae: 103993.0859 - val_loss: 16838325248.0000 - val_root_mean_squared_error: 129762.5703 - val_mae: 98089.9375\n",
      "Epoch 18/30\n",
      "40/40 [==============================] - 0s 11ms/step - loss: 14982125568.0000 - root_mean_squared_error: 122401.4922 - mae: 92193.0000 - val_loss: 14093444096.0000 - val_root_mean_squared_error: 118715.8125 - val_mae: 88001.2734\n",
      "Epoch 19/30\n",
      "40/40 [==============================] - 0s 9ms/step - loss: 12718229504.0000 - root_mean_squared_error: 112775.1250 - mae: 84142.5938 - val_loss: 12249576448.0000 - val_root_mean_squared_error: 110677.8047 - val_mae: 81605.3281\n",
      "Epoch 20/30\n",
      "40/40 [==============================] - 0s 9ms/step - loss: 11279199232.0000 - root_mean_squared_error: 106203.5703 - mae: 79427.7266 - val_loss: 11114914816.0000 - val_root_mean_squared_error: 105427.2969 - val_mae: 77979.1094\n",
      "Epoch 21/30\n",
      "40/40 [==============================] - 0s 10ms/step - loss: 10393065472.0000 - root_mean_squared_error: 101946.3828 - mae: 76710.9688 - val_loss: 10391319552.0000 - val_root_mean_squared_error: 101937.8203 - val_mae: 75658.5781\n",
      "Epoch 22/30\n",
      "40/40 [==============================] - 0s 9ms/step - loss: 9824715776.0000 - root_mean_squared_error: 99119.7031 - mae: 74834.1328 - val_loss: 9909427200.0000 - val_root_mean_squared_error: 99546.1094 - val_mae: 74053.2656\n",
      "Epoch 23/30\n",
      "40/40 [==============================] - 0s 9ms/step - loss: 9445791744.0000 - root_mean_squared_error: 97189.4609 - mae: 73538.0469 - val_loss: 9566802944.0000 - val_root_mean_squared_error: 97810.0312 - val_mae: 72841.3984\n",
      "Epoch 24/30\n",
      "40/40 [==============================] - 0s 9ms/step - loss: 9152368640.0000 - root_mean_squared_error: 95668.0078 - mae: 72353.4375 - val_loss: 9311372288.0000 - val_root_mean_squared_error: 96495.4531 - val_mae: 71762.2969\n",
      "Epoch 25/30\n",
      "40/40 [==============================] - 0s 9ms/step - loss: 8918021120.0000 - root_mean_squared_error: 94435.2734 - mae: 71365.1484 - val_loss: 9080992768.0000 - val_root_mean_squared_error: 95294.2422 - val_mae: 70816.0234\n",
      "Epoch 26/30\n",
      "40/40 [==============================] - 0s 8ms/step - loss: 8714720256.0000 - root_mean_squared_error: 93352.6641 - mae: 70427.6250 - val_loss: 8881341440.0000 - val_root_mean_squared_error: 94240.8672 - val_mae: 69912.8594\n",
      "Epoch 27/30\n",
      "40/40 [==============================] - 0s 9ms/step - loss: 8533305856.0000 - root_mean_squared_error: 92375.8906 - mae: 69537.4219 - val_loss: 8699594752.0000 - val_root_mean_squared_error: 93271.6172 - val_mae: 69067.5703\n",
      "Epoch 28/30\n",
      "40/40 [==============================] - 0s 9ms/step - loss: 8366680576.0000 - root_mean_squared_error: 91469.5625 - mae: 68727.5078 - val_loss: 8537178624.0000 - val_root_mean_squared_error: 92396.8516 - val_mae: 68276.6250\n",
      "Epoch 29/30\n",
      "40/40 [==============================] - 0s 9ms/step - loss: 8210647552.0000 - root_mean_squared_error: 90612.6250 - mae: 67964.7812 - val_loss: 8373294080.0000 - val_root_mean_squared_error: 91505.7031 - val_mae: 67542.5391\n",
      "Epoch 30/30\n",
      "40/40 [==============================] - 0s 10ms/step - loss: 8071889408.0000 - root_mean_squared_error: 89843.6953 - mae: 67204.7969 - val_loss: 8232014336.0000 - val_root_mean_squared_error: 90730.4453 - val_mae: 66813.2344\n"
     ]
    }
   ],
   "source": [
    "history = model.fit(X_train, \n",
    "                    y_train, \n",
    "                    batch_size = 256, \n",
    "                    epochs = 30,\n",
    "                    validation_data=(X_val, y_val))"
   ]
  },
  {
   "cell_type": "markdown",
   "metadata": {},
   "source": [
    "`History` 객체에 저장된 내용은 훈련용과 검증용 데이터셋에 대한\n",
    "손실값, 평균제곱근오차, 평균절대오차이다."
   ]
  },
  {
   "cell_type": "code",
   "execution_count": 81,
   "metadata": {},
   "outputs": [
    {
     "data": {
      "text/plain": [
       "dict_keys(['loss', 'root_mean_squared_error', 'mae', 'val_loss', 'val_root_mean_squared_error', 'val_mae'])"
      ]
     },
     "execution_count": 81,
     "metadata": {},
     "output_type": "execute_result"
    }
   ],
   "source": [
    "history.history.keys()"
   ]
  },
  {
   "cell_type": "code",
   "execution_count": 82,
   "metadata": {},
   "outputs": [
    {
     "data": {
      "image/png": "[encoded data removed]",
      "text/plain": [
       "<Figure size 640x480 with 1 Axes>"
      ]
     },
     "metadata": {},
     "output_type": "display_data"
    }
   ],
   "source": [
    "import matplotlib.pyplot as plt\n",
    "\n",
    "mae = history.history[\"mae\"]\n",
    "val_mae = history.history[\"val_mae\"]\n",
    "epochs = range(1, len(mae) + 1)\n",
    "\n",
    "plt.plot(epochs, mae, \"bo\", label=\"Training MAE\")\n",
    "plt.plot(epochs, val_mae, \"b\", label=\"Validation MAE\")\n",
    "plt.title(\"Training and validation MAE\")\n",
    "plt.xlabel(\"Epochs\")\n",
    "plt.ylabel(\"MAE\")\n",
    "plt.legend()\n",
    "plt.show()"
   ]
  },
  {
   "cell_type": "markdown",
   "metadata": {},
   "source": [
    "위 그래프를 보면 훈련 데이터셋 뿐만 아니라 검증 데이터셋에 대한 성능이 계속해서 좋아지고 있다.\n",
    "이는 아직 훈련이 완성되지 않았음을 의미한다.\n",
    "따라서 에포크를 더 크게 지정해서 훈련을 더 시킬 수 있다."
   ]
  },
  {
   "cell_type": "markdown",
   "metadata": {},
   "source": [
    "**모델 평가**"
   ]
  },
  {
   "cell_type": "markdown",
   "metadata": {},
   "source": [
    "테스트셋을 이용하여 모델을 평가한다."
   ]
  },
  {
   "cell_type": "code",
   "execution_count": 83,
   "metadata": {},
   "outputs": [
    {
     "name": "stdout",
     "output_type": "stream",
     "text": [
      "192/192 [==============================] - 1s 4ms/step - loss: 7810512384.0000 - root_mean_squared_error: 88377.1016 - mae: 65992.7188\n"
     ]
    },
    {
     "data": {
      "text/plain": [
       "[7810512384.0, 88377.1015625, 65992.71875]"
      ]
     },
     "execution_count": 83,
     "metadata": {},
     "output_type": "execute_result"
    }
   ],
   "source": [
    "model.evaluate(X_test, y_test)"
   ]
  },
  {
   "cell_type": "markdown",
   "metadata": {},
   "source": [
    "**추가 문제**"
   ]
  },
  {
   "cell_type": "markdown",
   "metadata": {},
   "source": [
    "1. 에포크를 얼마나 더 크게 해야 과대적합이 발생하는지 확인하라. \n",
    "1. 모델의 구성을 변경하여 보다 좋은 성능의 모델을 구현하라."
   ]
  }
 ],
 "metadata": {
  "kernelspec": {
   "display_name": "Python 3 (ipykernel)",
   "language": "python",
   "name": "python3"
  },
  "language_info": {
   "codemirror_mode": {
    "name": "ipython",
    "version": 3
   },
   "file_extension": ".py",
   "mimetype": "text/x-python",
   "name": "python",
   "nbconvert_exporter": "python",
   "pygments_lexer": "ipython3",
   "version": "3.11.5"
  },
  "vscode": {
   "interpreter": {
    "hash": "916dbcbb3f70747c44a77c7bcd40155683ae19c65e1c03b4aa3499c5328201f1"
   }
  }
 },
 "nbformat": 4,
 "nbformat_minor": 2
}
