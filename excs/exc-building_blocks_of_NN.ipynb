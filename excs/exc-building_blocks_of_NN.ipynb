{
 "cells": [
  {
   "cell_type": "markdown",
   "metadata": {},
   "source": [
    "# (실습) 신경망 구성 요소"
   ]
  },
  {
   "cell_type": "markdown",
   "metadata": {},
   "source": [
    "**문제 1**"
   ]
  },
  {
   "cell_type": "markdown",
   "metadata": {},
   "source": [
    "아래 링크의 내용을 구글 코랩에서 정리한 후에 링크를 제출하라.\n",
    "\n",
    "- 링크: https://www.kaggle.com/code/prashant111/mnist-deep-neural-network-with-keras\n",
    "\n",
    "- 설명\n",
    "    - MNIST 데이터셋을 대상으로 분류를 진행하는 모델\n",
    "    - 지정된 모델이 앞서 소개한 모델과 다름\n",
    "\n",
    "    ```python\n",
    "    model = Sequential()\n",
    "    model.add(Dense(hidden_units, input_dim=input_size))\n",
    "    model.add(Activation('relu'))\n",
    "    model.add(Dropout(dropout))\n",
    "    model.add(Dense(hidden_units))\n",
    "    model.add(Activation('relu'))\n",
    "    model.add(Dropout(dropout))\n",
    "    model.add(Dense(num_labels))\n",
    "    model.add(Activation('softmax'))\n",
    "    ``` \n",
    "\n",
    "- 새롭게 사용된 층:\n",
    "    - Dropout(드롭아웃) 층 참고: https://codingalzi.github.io/dlp2/fundamentals_of_ml.html#id13 \n",
    "    - Activation 층: 이전 층에서 활성화 함수를 지정하지 않은 경우 활용"
   ]
  }
 ],
 "metadata": {
  "kernelspec": {
   "display_name": "Python 3.9.13 ('homl3')",
   "language": "python",
   "name": "python3"
  },
  "language_info": {
   "name": "python",
   "version": "3.9.13"
  },
  "orig_nbformat": 4,
  "vscode": {
   "interpreter": {
    "hash": "33b995ba57ec8806df76ad412cbfca6e91844af7e84c0aab5f00a2382a2b11c8"
   }
  }
 },
 "nbformat": 4,
 "nbformat_minor": 2
}
