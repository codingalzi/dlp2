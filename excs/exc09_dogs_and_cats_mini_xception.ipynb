{
 "cells": [
  {
   "cell_type": "markdown",
   "metadata": {},
   "source": [
    "# 연습문제: 미니 Xception 모델(강아지-고양이 데이터셋)"
   ]
  },
  {
   "cell_type": "markdown",
   "metadata": {},
   "source": [
    "## 문제 1\n",
    "\n",
    "캐글의 강아지-고양이 데이터셋에 대한 이항분류 모델을 Xception 모델 유형을 이용하여 훈련하라.\n",
    "모델의 성능향상을 위해 하이퍼파라미터 미세조정과 앙상블 학습을 활용한다.\n",
    "\n",
    "- 하이퍼파라미터 미세조성: KerasTuner 활용\n",
    "- 앙상블 학습: gradient-boosted trees 활용"
   ]
  }
 ],
 "metadata": {
  "accelerator": "GPU",
  "colab": {
   "collapsed_sections": [],
   "name": "dlp08_intro_to_dl_for_computer_vision",
   "provenance": []
  },
  "kernelspec": {
   "display_name": "Python 3",
   "language": "python",
   "name": "python3"
  },
  "language_info": {
   "codemirror_mode": {
    "name": "ipython",
    "version": 3
   },
   "file_extension": ".py",
   "mimetype": "text/x-python",
   "name": "python",
   "nbconvert_exporter": "python",
   "pygments_lexer": "ipython3",
   "version": "3.8.8"
  }
 },
 "nbformat": 4,
 "nbformat_minor": 1
}
