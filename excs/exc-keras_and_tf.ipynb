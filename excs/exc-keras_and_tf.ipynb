{
 "cells": [
  {
   "cell_type": "markdown",
   "metadata": {},
   "source": [
    "# (실습) 케라스와 텐서플로우"
   ]
  },
  {
   "cell_type": "markdown",
   "metadata": {},
   "source": [
    "## TensorFlow Playground 활용"
   ]
  },
  {
   "cell_type": "markdown",
   "metadata": {},
   "source": [
    "[TensorFlow Playground](https://playground.tensorflow.org)에서 분류와 회귀 모델의 학습과정을 살펴 보면서 \n",
    "문제를 해결하는 최선의 모델을 찾고자 한다.\n",
    "그런 다음에 아래 요소들에 적절한 값이 선택된 이유를 (추정해서) 설명할 수 있어야 한다.\n",
    "\n",
    "- 특성(features) 선택\n",
    "- 학습률(learning rate)\n",
    "- 활성화 함수(activation function)\n",
    "- 규제(regularization)와 규제율(regularization rate)\n",
    "- 훈련셋(training set)대 테스트셋(test set) 비율\n",
    "- 배치 크기(batch size)\n",
    "- 은닉층(hidden layer)과 유닛(unit 또는 neuron) 수"
   ]
  },
  {
   "cell_type": "markdown",
   "metadata": {},
   "source": [
    "**모델 A**\n",
    "\n",
    "아래 그림은 음성 데이터(주황색)와 양성 데이터(파랑색)를 분류하는 목적으로 훈련 시키려 하는 심층 신경망 모델을 보여준다.\n",
    "\n",
    "- 입력 특성: $\\mathrm{x}_1$과 $\\mathrm{x}_2$ 두 개\n",
    "- 은닉층(hidden layer) 2개\n",
    "    - 첫째 은닉층: 유닛 4개\n",
    "    - 둘째 은닉층: 유닛 2개\n",
    "- 출력값 1개: 양성/음성 여부 판단\n",
    "    \n",
    "유닛과 유닛을 연결하는 파란선/주황선은 각각 양의 가중치와 음의 가중치 값을 가리킨다.\n",
    "선의 두께는 가중치의 절댓값에 해당한다.\n",
    "즉, 두꺼운 선일 수록 해당 가중치가 출력 유닛에 저장되는 값을 계산할 때 기여도가 보다 크다."
   ]
  },
  {
   "cell_type": "markdown",
   "metadata": {},
   "source": [
    "\n",
    "<div align=\"center\"><img src=\"https://raw.githubusercontent.com/codingalzi/dlp2/master/jupyter-book/imgs/ch03-tf-playground-a07.jpg\" style=\"width:700px;\"></div>\n"
   ]
  },
  {
   "cell_type": "markdown",
   "metadata": {},
   "source": [
    "위 사진의 모델을 훈련시키면 다음과 같이 결과가 나온다.\n",
    "\n",
    "- 훈련 에포크: 505\n",
    "- 학습률: 0.03\n",
    "- 층에 사용되는 활성화 함수: Tanh\n",
    "- 평가 지표\n",
    "    - 테스트셋에 대한 손실값: 0.003\n",
    "    - 훈련셋에 대한 손실값: 0.001\n"
   ]
  },
  {
   "cell_type": "markdown",
   "metadata": {},
   "source": [
    "\n",
    "<div align=\"center\"><img src=\"https://raw.githubusercontent.com/codingalzi/dlp2/master/jupyter-book/imgs/ch03-tf-playground-a05.png\" style=\"width:700px;\"></div>\n"
   ]
  },
  {
   "cell_type": "markdown",
   "metadata": {},
   "source": [
    "**모델 B**\n",
    "\n",
    "반면에 하나의 은닉층만 사용하면 결과가 다르게 나온다.\n",
    "\n",
    "- 은닉층(hidden layer) 1개\n",
    "    - 첫째 은닉층: 유닛 4개\n",
    "- 훈련 에포크: 511\n",
    "- 학습률: 0.03\n",
    "- 층에 사용되는 활성화 함수: Tanh\n",
    "- 평가 지표\n",
    "    - 테스트셋에 대한 손실값: 0.016\n",
    "    - 훈련셋에 대한 손실값: 0.004\n",
    "\n",
    "즉, 훈련된 모델의 성능(평가지표)가 두 개의 은닉층을 사용하는 모델보다 나쁘다.\n",
    "특히 테스트셋에 대한 성능이 훈련셋에 대한 성능보다 많이 떨어져서\n",
    "과대적합(overfitting)이 보다 심하게 발생했다."
   ]
  },
  {
   "cell_type": "markdown",
   "metadata": {},
   "source": [
    "\n",
    "<div align=\"center\"><img src=\"https://raw.githubusercontent.com/codingalzi/dlp2/master/jupyter-book/imgs/ch03-tf-playground-a04.png\" style=\"width:700px;\"></div>\n"
   ]
  },
  {
   "cell_type": "markdown",
   "metadata": {},
   "source": [
    "**모델 C**\n",
    "\n",
    "은닉층을 아래 그림에서처럼 세 개로 늘리면 성능이 두 개의 은닉층을 사용할 때보다 성능이 좀 더 좋아진다.\n",
    "\n",
    "- 은닉층(hidden layer) 3개\n",
    "    - 첫째 은닉층: 유닛 4개\n",
    "    - 둘째 은닉층: 유닛 3개\n",
    "    - 둘째 은닉층: 유닛 2개\n",
    "- 훈련 에포크: 234\n",
    "- 학습률: 0.03\n",
    "- 층에 사용되는 활성화 함수: Tanh\n",
    "- 평가 지표\n",
    "    - 테스트셋에 대한 손실값: 0.001\n",
    "    - 훈련셋에 대한 손실값: 0.001\n",
    "\n",
    "에포크가 234로 이전보다 훨씬 빠르게 좋은 분류 모델을 학습시킨다. \n",
    "은닉층을 늘린다고 무조건 좋아지는 것은 일반적으로 아니지만 이 경우엔 최선의 결과를 낳았다."
   ]
  },
  {
   "cell_type": "markdown",
   "metadata": {},
   "source": [
    "\n",
    "<div align=\"center\"><img src=\"https://raw.githubusercontent.com/codingalzi/dlp2/master/jupyter-book/imgs/ch03-tf-playground-a06.png\" style=\"width:700px;\"></div>\n"
   ]
  },
  {
   "cell_type": "markdown",
   "metadata": {},
   "source": [
    "## 케라스 활용"
   ]
  },
  {
   "cell_type": "markdown",
   "metadata": {},
   "source": [
    "케라스를 이용하여 앞서 소개한 모델 A, 모델 B, 모델 C를 직접 구성해서\n",
    "훈련시키고자 한다.\n",
    "훈련에 사용되는 데이터셋은 아래 코드를 이용하여 생성한다."
   ]
  },
  {
   "cell_type": "code",
   "execution_count": 1,
   "metadata": {},
   "outputs": [],
   "source": [
    "import tensorflow as tf\n",
    "import numpy as np\n",
    "import sklearn\n",
    "import matplotlib.pyplot as plt"
   ]
  },
  {
   "cell_type": "markdown",
   "metadata": {},
   "source": [
    "[`make_circles()`](https://scikit-learn.org/stable/modules/generated/sklearn.datasets.make_circles.html) 함수를 이용하여 모델 학습에 사용될 데이터셋을 생성한다.\n",
    "\n",
    "- `datasets`: 입력 데이터셋. (2000, 2) 모양의 텐서. 2000개의 데이터 샘플 포함. 양성, 음성 각각 1000개\n",
    "- `targets`: 타깃 데이터셋. 0과 1로 구성된 (2000,) 모양의 텐서. 0은 음성, 1은 양성."
   ]
  },
  {
   "cell_type": "code",
   "execution_count": 2,
   "metadata": {},
   "outputs": [],
   "source": [
    "from sklearn.datasets import make_circles\n",
    "dataset, targets = make_circles(2000, noise=0.1, factor=0.2)"
   ]
  },
  {
   "cell_type": "markdown",
   "metadata": {},
   "source": [
    "`dataset`은 (2000, 2) 모양의 텐서다. \n",
    "즉, 한 개의 데이터 샘플은 두 개의 특성을 갖는다."
   ]
  },
  {
   "cell_type": "code",
   "execution_count": 3,
   "metadata": {},
   "outputs": [
    {
     "name": "stdout",
     "output_type": "stream",
     "text": [
      "모양:  (2000, 2)\n",
      "첫 5개 데이터:\n",
      "[[-0.18577565  0.19973669]\n",
      " [ 0.70876214  0.59646912]\n",
      " [-0.7811663   0.60130235]\n",
      " [-0.14894485  0.02115265]\n",
      " [-0.29590401 -0.9761957 ]]\n"
     ]
    }
   ],
   "source": [
    "print(\"모양: \", dataset.shape)\n",
    "print(\"첫 5개 데이터:\", dataset[:5], sep='\\n')"
   ]
  },
  {
   "cell_type": "markdown",
   "metadata": {},
   "source": [
    "2000개의 샘플의 양성/음성 여부는 (2000, 1) 모양의 `targets` 텐서에 저장되어 있으며\n",
    "무작위로 지정되어 있다.\n",
    "예를 들어 첫 5개 샘플의 양성/음성 여부는 다음과 같다.\n",
    "0은 음성을, 1은 양성을 가리킨다."
   ]
  },
  {
   "cell_type": "code",
   "execution_count": 4,
   "metadata": {},
   "outputs": [
    {
     "name": "stdout",
     "output_type": "stream",
     "text": [
      "타겟 모양:  (2000,)\n",
      "타겟:\n",
      "[1 0 0 1 0]\n"
     ]
    }
   ],
   "source": [
    "print(\"타겟 모양: \", targets.shape)\n",
    "print(\"타겟:\", targets[:5], sep='\\n')"
   ]
  },
  {
   "cell_type": "markdown",
   "metadata": {},
   "source": [
    "양성은 파란색, 음성은 주황색으로 표시한 데이터 산점도는 다음과 같다."
   ]
  },
  {
   "cell_type": "code",
   "execution_count": 5,
   "metadata": {},
   "outputs": [
    {
     "data": {
      "image/png": "[encoded data removed]",
      "text/plain": [
       "<Figure size 640x480 with 1 Axes>"
      ]
     },
     "metadata": {},
     "output_type": "display_data"
    }
   ],
   "source": [
    "\n",
    "plt.scatter(dataset[:,0]*5, dataset[:,1]*5, c=['orange' if i==0 else 'skyblue' for i in targets])\n",
    "plt.show()"
   ]
  },
  {
   "cell_type": "markdown",
   "metadata": {},
   "source": [
    "케라스를 이용하여 \"모델 A\"를 구성한 다음에 위 데이터셋을 이용하여 훈련시키고자 한다.\n",
    "먼저, `targets`의 모양을 다음과 같이 변환시킨다.\n",
    "이유는 케라스 모델은 타깃 데이터셋도 2차원 텐서를 요구하기 때문이다.\n",
    "\n",
    "신경망 모델은 데이터 샘플 별로 여러 종류의 값을 동시에 예측할 수 있기에\n",
    "하나의 샘플에 대한 예측값을 종류별 예측값으로 구성된 벡터로 계산한다.\n",
    "여기서는 데이터 샘플 별로 양성/음성 여부에 대해서만 예측하기 때문에 \n",
    "한 샘플에 대한 예측값은 길이가 1인 벡터이다.\n",
    "따라서 타깃셋은 (2000, 1) 모양의 텐서이어야 한다."
   ]
  },
  {
   "cell_type": "code",
   "execution_count": 6,
   "metadata": {},
   "outputs": [
    {
     "data": {
      "text/plain": [
       "array([[1],\n",
       "       [0],\n",
       "       [0],\n",
       "       ...,\n",
       "       [0],\n",
       "       [1],\n",
       "       [0]], dtype=int64)"
      ]
     },
     "execution_count": 6,
     "metadata": {},
     "output_type": "execute_result"
    }
   ],
   "source": [
    "targets = targets.reshape(-1,1)\n",
    "targets"
   ]
  },
  {
   "cell_type": "markdown",
   "metadata": {},
   "source": [
    "모델 A를 신경망 모델 `model_A`로 구성하면 다음과 같다."
   ]
  },
  {
   "cell_type": "code",
   "execution_count": 7,
   "metadata": {},
   "outputs": [],
   "source": [
    "from tensorflow import keras\n",
    "from tensorflow.keras import layers\n",
    "\n",
    "model_A = keras.Sequential([\n",
    "    layers.Dense(4, activation=\"tanh\"),   # 첫째 은닉층\n",
    "    layers.Dense(2, activation=\"tanh\"),   # 둘째 은닉층\n",
    "    layers.Dense(1, activation=\"sigmoid\") # 출력층\n",
    "    ])"
   ]
  },
  {
   "cell_type": "markdown",
   "metadata": {},
   "source": [
    "`model_A` 를 아래 옵션을 이용하여 컴파일한다.\n",
    "\n",
    "- 옵티마이저: `rmsprop`\n",
    "- 손실: `binary_crossentropy` (이진 분류 용도의 손실 함수 지정)\n",
    "- 평가지표: `accuracy` (정확도 평가)"
   ]
  },
  {
   "cell_type": "code",
   "execution_count": 8,
   "metadata": {},
   "outputs": [],
   "source": [
    "model_A.compile(optimizer=\"rmsprop\",\n",
    "              loss=\"binary_crossentropy\",\n",
    "              metrics=[\"accuracy\"])"
   ]
  },
  {
   "cell_type": "markdown",
   "metadata": {},
   "source": [
    "50대 50의 비율로 훈련용 데이터셋과 타깃셋인 `x_train`, `y_train`과 \n",
    "테스트용 데이터셋과 타깃셋 `x_test`, `y_test`를 지정한다."
   ]
  },
  {
   "cell_type": "code",
   "execution_count": 9,
   "metadata": {},
   "outputs": [],
   "source": [
    "x_train, y_train = dataset[:1000], targets[:1000]\n",
    "x_test, y_test = dataset[1000:], targets[1000:]"
   ]
  },
  {
   "cell_type": "markdown",
   "metadata": {},
   "source": [
    "모델을 훈련시킨다. \n",
    "`fit()` 메서드의 반환값은 훈련이 잘 된 모델의 정보를 담고 있는 `History` 객체이다."
   ]
  },
  {
   "cell_type": "code",
   "execution_count": 10,
   "metadata": {},
   "outputs": [
    {
     "name": "stdout",
     "output_type": "stream",
     "text": [
      "Epoch 1/30\n",
      "100/100 [==============================] - 1s 1ms/step - loss: 0.6927 - accuracy: 0.6460\n",
      "Epoch 2/30\n",
      "100/100 [==============================] - 0s 1ms/step - loss: 0.6909 - accuracy: 0.6860\n",
      "Epoch 3/30\n",
      "100/100 [==============================] - 0s 1ms/step - loss: 0.6881 - accuracy: 0.6820\n",
      "Epoch 4/30\n",
      "100/100 [==============================] - 0s 1ms/step - loss: 0.6837 - accuracy: 0.6540\n",
      "Epoch 5/30\n",
      "100/100 [==============================] - 0s 1ms/step - loss: 0.6777 - accuracy: 0.6410\n",
      "Epoch 6/30\n",
      "100/100 [==============================] - 0s 1ms/step - loss: 0.6702 - accuracy: 0.6530\n",
      "Epoch 7/30\n",
      "100/100 [==============================] - 0s 1ms/step - loss: 0.6616 - accuracy: 0.6540\n",
      "Epoch 8/30\n",
      "100/100 [==============================] - 0s 1ms/step - loss: 0.6521 - accuracy: 0.6590\n",
      "Epoch 9/30\n",
      "100/100 [==============================] - 0s 1ms/step - loss: 0.6422 - accuracy: 0.6580\n",
      "Epoch 10/30\n",
      "100/100 [==============================] - 0s 1ms/step - loss: 0.6314 - accuracy: 0.6590\n",
      "Epoch 11/30\n",
      "100/100 [==============================] - 0s 1ms/step - loss: 0.6203 - accuracy: 0.6970\n",
      "Epoch 12/30\n",
      "100/100 [==============================] - 0s 1ms/step - loss: 0.6087 - accuracy: 0.7570\n",
      "Epoch 13/30\n",
      "100/100 [==============================] - 0s 1ms/step - loss: 0.5965 - accuracy: 0.7890\n",
      "Epoch 14/30\n",
      "100/100 [==============================] - 0s 1ms/step - loss: 0.5843 - accuracy: 0.8030\n",
      "Epoch 15/30\n",
      "100/100 [==============================] - 0s 1ms/step - loss: 0.5723 - accuracy: 0.8200\n",
      "Epoch 16/30\n",
      "100/100 [==============================] - 0s 1ms/step - loss: 0.5604 - accuracy: 0.8310\n",
      "Epoch 17/30\n",
      "100/100 [==============================] - 0s 1ms/step - loss: 0.5486 - accuracy: 0.8360\n",
      "Epoch 18/30\n",
      "100/100 [==============================] - 0s 1ms/step - loss: 0.5377 - accuracy: 0.8470\n",
      "Epoch 19/30\n",
      "100/100 [==============================] - 0s 1ms/step - loss: 0.5269 - accuracy: 0.8520\n",
      "Epoch 20/30\n",
      "100/100 [==============================] - 0s 1ms/step - loss: 0.5162 - accuracy: 0.8620\n",
      "Epoch 21/30\n",
      "100/100 [==============================] - 0s 1ms/step - loss: 0.5057 - accuracy: 0.8640\n",
      "Epoch 22/30\n",
      "100/100 [==============================] - 0s 1ms/step - loss: 0.4961 - accuracy: 0.8620\n",
      "Epoch 23/30\n",
      "100/100 [==============================] - 0s 1ms/step - loss: 0.4869 - accuracy: 0.8690\n",
      "Epoch 24/30\n",
      "100/100 [==============================] - 0s 1ms/step - loss: 0.4778 - accuracy: 0.8700\n",
      "Epoch 25/30\n",
      "100/100 [==============================] - 0s 1ms/step - loss: 0.4694 - accuracy: 0.8700\n",
      "Epoch 26/30\n",
      "100/100 [==============================] - 0s 1ms/step - loss: 0.4614 - accuracy: 0.8740\n",
      "Epoch 27/30\n",
      "100/100 [==============================] - 0s 1ms/step - loss: 0.4539 - accuracy: 0.8730\n",
      "Epoch 28/30\n",
      "100/100 [==============================] - 0s 1ms/step - loss: 0.4464 - accuracy: 0.8740\n",
      "Epoch 29/30\n",
      "100/100 [==============================] - 0s 1ms/step - loss: 0.4392 - accuracy: 0.8770\n",
      "Epoch 30/30\n",
      "100/100 [==============================] - 0s 1ms/step - loss: 0.4328 - accuracy: 0.8750\n"
     ]
    }
   ],
   "source": [
    "history = model_A.fit(x_train, y_train, epochs=30, batch_size=10)"
   ]
  },
  {
   "cell_type": "markdown",
   "metadata": {},
   "source": [
    "`History` 객체는 훈련된 모델의 다양한 정보를 저장한다.\n",
    "예를 들어 `model` 속성은 훈련된 모델을 저장한다.\n",
    "아래 코드는 훈련된 모델이 `Sequential` 모델임을 확인해준다."
   ]
  },
  {
   "cell_type": "code",
   "execution_count": 11,
   "metadata": {},
   "outputs": [
    {
     "data": {
      "text/plain": [
       "keras.src.engine.sequential.Sequential"
      ]
     },
     "execution_count": 11,
     "metadata": {},
     "output_type": "execute_result"
    }
   ],
   "source": [
    "type(history.model)"
   ]
  },
  {
   "cell_type": "markdown",
   "metadata": {},
   "source": [
    "케라스의 모든 모델은 `keras.Model` 클래스를 상속한다."
   ]
  },
  {
   "cell_type": "code",
   "execution_count": 12,
   "metadata": {},
   "outputs": [
    {
     "data": {
      "text/plain": [
       "True"
      ]
     },
     "execution_count": 12,
     "metadata": {},
     "output_type": "execute_result"
    }
   ],
   "source": [
    "isinstance(history.model, keras.Model)"
   ]
  },
  {
   "cell_type": "markdown",
   "metadata": {},
   "source": [
    "따라서 모델에 사용된 층의 구성을 확인기 위해\n",
    "`Model` 클래스의 인스턴스 메서드인 `summary()` 메서드를 이용할 수 있다."
   ]
  },
  {
   "cell_type": "code",
   "execution_count": 13,
   "metadata": {},
   "outputs": [
    {
     "name": "stdout",
     "output_type": "stream",
     "text": [
      "Model: \"sequential\"\n",
      "_________________________________________________________________\n",
      " Layer (type)                Output Shape              Param #   \n",
      "=================================================================\n",
      " dense (Dense)               (10, 4)                   12        \n",
      "                                                                 \n",
      " dense_1 (Dense)             (10, 2)                   10        \n",
      "                                                                 \n",
      " dense_2 (Dense)             (10, 1)                   3         \n",
      "                                                                 \n",
      "=================================================================\n",
      "Total params: 25 (100.00 Byte)\n",
      "Trainable params: 25 (100.00 Byte)\n",
      "Non-trainable params: 0 (0.00 Byte)\n",
      "_________________________________________________________________\n"
     ]
    }
   ],
   "source": [
    "history.model.summary()"
   ]
  },
  {
   "cell_type": "markdown",
   "metadata": {},
   "source": [
    "위 결과가 설명하는 바는 다음과 같다.\n",
    "\n",
    "- `Layer (type)` 열: 각 층에 사용된 층의 이름과 종류. 이름을 별도로 지정하지 않으면 자동으로 지정된다.\n",
    "- `Output Shape` 열: 각 층에서 생성되는 출력 텐서의 모양. \n",
    "    예를 들어 (10, 4)에서 10은 배치 크기를, 4는 네 개의 유닛 개수. 즉 원래 2개의 특성을 갖는 데이터 샘플 각각을\n",
    "    4개의 특성을 갖는 데이터 샘플로 변환.\n",
    "- `Param`: 각 층에서 학습되는 파라미터(가중치와 편향)의 개수. 계산법은 다음과 같음.\n",
    "    - 첫째 층의 파라미터: `2*4 + 4 = 12`\n",
    "    - 둘째 층의 파라미터: `4*2 + 2 = 10`\n",
    "    - 셋째 층의 파라미터: `2*1 + 1 = 3`\n",
    "\n",
    "기타 요소는 다음과 같다.\n",
    "\n",
    "- `Toral params`: 파라미터 수의 총합. `12 + 10 + 3 = 25`\n",
    "- `Trainable params`: 훈련되는 파라미터 수의 총합. `12 + 10 + 3 = 25`\n",
    "- `Non-trainable params`: 훈련되지 않는 파라미터 수의 총합. `0 + 0 + 0 = 0`. \n",
    "    즉, 위 모델은 훈련되지 않는 파라미터 사용하지 않음.\n"
   ]
  },
  {
   "cell_type": "markdown",
   "metadata": {},
   "source": [
    "`history.model`이 가리키는 모델과 `model_A` 동일한 모델을 가리킨다.\n",
    "이유는 `model_A.fit()` 메서드가 실행되는 동안 `model_A`가 훈련되는데,\n",
    "이는 지정된 가중치 행렬과 편향 벡터가 모델 자체에서 업데이트 되는 것을 의미하기 때문이다.\n",
    "\n",
    "실제로 테스테셋의 처음 5개 데이터 샘플에 대한 예측값이 동일함을 아래 코드로 확인할 수 있다."
   ]
  },
  {
   "cell_type": "code",
   "execution_count": 14,
   "metadata": {},
   "outputs": [
    {
     "name": "stdout",
     "output_type": "stream",
     "text": [
      "1/1 [==============================] - 0s 131ms/step\n"
     ]
    },
    {
     "data": {
      "text/plain": [
       "array([[0.45474806],\n",
       "       [0.76844394],\n",
       "       [0.7797085 ],\n",
       "       [0.25503737],\n",
       "       [0.7839991 ]], dtype=float32)"
      ]
     },
     "execution_count": 14,
     "metadata": {},
     "output_type": "execute_result"
    }
   ],
   "source": [
    "model_A.predict(x_test[:5])"
   ]
  },
  {
   "cell_type": "code",
   "execution_count": 15,
   "metadata": {},
   "outputs": [
    {
     "name": "stdout",
     "output_type": "stream",
     "text": [
      "1/1 [==============================] - 0s 26ms/step\n"
     ]
    },
    {
     "data": {
      "text/plain": [
       "array([[0.45474806],\n",
       "       [0.76844394],\n",
       "       [0.7797085 ],\n",
       "       [0.25503737],\n",
       "       [0.7839991 ]], dtype=float32)"
      ]
     },
     "execution_count": 15,
     "metadata": {},
     "output_type": "execute_result"
    }
   ],
   "source": [
    "history.model.predict(x_test[:5])"
   ]
  },
  {
   "cell_type": "markdown",
   "metadata": {},
   "source": [
    "`History` 객체의 `params` 인스턴스 속성은 `fit()` 메서드가 모델 훈련에 사용되는\n",
    "하이퍼파라미터를 저장한다.\n",
    "아래 코드는 30번의 에포크와 스텝의 수를 보여준다.\n",
    "참고로 스텝은 훈련셋의 크기와 배치크기에 의해 자동 결정된다.\n",
    "여기서 100인 이유는 훈련셋의 크기가 1000이고 배치 크기가 10 기에\n",
    "총 `1000/10 = 100` 번의 스텝이 한 번의 에포크 동안 실행된다.\n",
    "`verbose`는 모델 훈련 과정중에 에포크별로 진행상황과 평가 결과를 어떻게 보여줄 것인가를 지정한다.\n",
    "별 이유가 없다면 기본값을 굳이 바꿀 필요는 없다."
   ]
  },
  {
   "cell_type": "code",
   "execution_count": 16,
   "metadata": {},
   "outputs": [
    {
     "data": {
      "text/plain": [
       "{'verbose': 1, 'epochs': 30, 'steps': 100}"
      ]
     },
     "execution_count": 16,
     "metadata": {},
     "output_type": "execute_result"
    }
   ],
   "source": [
    "history.params"
   ]
  },
  {
   "cell_type": "markdown",
   "metadata": {},
   "source": [
    "`History` 객체의 `history` 속성은 훈련 과정에서 에포크 단위로 계산된\n",
    "훈련셋과 검증셋에 대한 손실값(loss)과 평가지표를 저장한 사전 객체를 가리킨다.\n",
    "여기서는 검증셋은 지정되지 않았고, 평가지표로 정확도(accuracy) 하나만 사용하였기에\n",
    "훈련셋에 대한 손실값(loss)과 정확도(accuracy)만 에포크 단위로 저장한다."
   ]
  },
  {
   "cell_type": "code",
   "execution_count": 17,
   "metadata": {},
   "outputs": [
    {
     "data": {
      "text/plain": [
       "dict_keys(['loss', 'accuracy'])"
      ]
     },
     "execution_count": 17,
     "metadata": {},
     "output_type": "execute_result"
    }
   ],
   "source": [
    "history.history.keys()"
   ]
  },
  {
   "cell_type": "markdown",
   "metadata": {},
   "source": [
    "예를 들어 에포크 별 훈련셋에 대한 손실값의 변화는 다음과 같다."
   ]
  },
  {
   "cell_type": "code",
   "execution_count": 18,
   "metadata": {},
   "outputs": [
    {
     "data": {
      "text/plain": [
       "[0.6927065253257751,\n",
       " 0.6909409761428833,\n",
       " 0.6881136298179626,\n",
       " 0.6837040781974792,\n",
       " 0.6777017712593079,\n",
       " 0.6701806783676147,\n",
       " 0.6616257429122925,\n",
       " 0.6521036624908447,\n",
       " 0.6422209739685059,\n",
       " 0.6313847899436951,\n",
       " 0.6203140616416931,\n",
       " 0.608655571937561,\n",
       " 0.5964779257774353,\n",
       " 0.5843089818954468,\n",
       " 0.5722936987876892,\n",
       " 0.5603699088096619,\n",
       " 0.5486469864845276,\n",
       " 0.5377382636070251,\n",
       " 0.5269066691398621,\n",
       " 0.516233503818512,\n",
       " 0.5057471990585327,\n",
       " 0.49612852931022644,\n",
       " 0.4869464039802551,\n",
       " 0.47779202461242676,\n",
       " 0.4694082736968994,\n",
       " 0.4614202678203583,\n",
       " 0.4538676142692566,\n",
       " 0.446422815322876,\n",
       " 0.43919622898101807,\n",
       " 0.43275609612464905]"
      ]
     },
     "execution_count": 18,
     "metadata": {},
     "output_type": "execute_result"
    }
   ],
   "source": [
    "history.history['loss']"
   ]
  },
  {
   "cell_type": "markdown",
   "metadata": {},
   "source": [
    "에포크 별 훈련셋에 대한 정확도의 변화는 다음과 같다."
   ]
  },
  {
   "cell_type": "code",
   "execution_count": 19,
   "metadata": {},
   "outputs": [
    {
     "data": {
      "text/plain": [
       "[0.6460000276565552,\n",
       " 0.6859999895095825,\n",
       " 0.6819999814033508,\n",
       " 0.6539999842643738,\n",
       " 0.640999972820282,\n",
       " 0.652999997138977,\n",
       " 0.6539999842643738,\n",
       " 0.6589999794960022,\n",
       " 0.6579999923706055,\n",
       " 0.6589999794960022,\n",
       " 0.6970000267028809,\n",
       " 0.7570000290870667,\n",
       " 0.7889999747276306,\n",
       " 0.8029999732971191,\n",
       " 0.8199999928474426,\n",
       " 0.8309999704360962,\n",
       " 0.8360000252723694,\n",
       " 0.847000002861023,\n",
       " 0.8519999980926514,\n",
       " 0.8619999885559082,\n",
       " 0.8640000224113464,\n",
       " 0.8619999885559082,\n",
       " 0.8690000176429749,\n",
       " 0.8700000047683716,\n",
       " 0.8700000047683716,\n",
       " 0.8740000128746033,\n",
       " 0.8730000257492065,\n",
       " 0.8740000128746033,\n",
       " 0.8769999742507935,\n",
       " 0.875]"
      ]
     },
     "execution_count": 19,
     "metadata": {},
     "output_type": "execute_result"
    }
   ],
   "source": [
    "history.history['accuracy']"
   ]
  },
  {
   "cell_type": "markdown",
   "metadata": {},
   "source": [
    "**문제 1**"
   ]
  },
  {
   "cell_type": "markdown",
   "metadata": {},
   "source": [
    "모델 B를 신경망 모델 `model_B`로 구성한 다음 훈련시킨 결과를 설명하라."
   ]
  },
  {
   "cell_type": "markdown",
   "metadata": {},
   "source": [
    "**문제 2**"
   ]
  },
  {
   "cell_type": "markdown",
   "metadata": {},
   "source": [
    "모델 C를 신경망 모델 `model_C`로 구성한 다음 훈련시킨 결과를 설명하라."
   ]
  },
  {
   "cell_type": "markdown",
   "metadata": {},
   "source": [
    "**문제 3**"
   ]
  },
  {
   "cell_type": "markdown",
   "metadata": {},
   "source": [
    "`model_A`, `model_B`, `model_C`의 성능을 비교하라."
   ]
  },
  {
   "cell_type": "markdown",
   "metadata": {},
   "source": [
    "**문제 4**"
   ]
  },
  {
   "cell_type": "markdown",
   "metadata": {},
   "source": [
    "아래 설정을 변경하면서 최고 성능의 모델을 구현하라.\n",
    "\n",
    "- 층과 유닛의 개수\n",
    "- 훈련셋과 테스트셋의 비율\n",
    "- 배치 크기\n",
    "- 학습률\n",
    "- 규제와 규제율\n",
    "- 활성화 함수\n",
    "- 에포크"
   ]
  },
  {
   "cell_type": "code",
   "execution_count": 106,
   "metadata": {},
   "outputs": [],
   "source": [
    "model = None"
   ]
  },
  {
   "cell_type": "markdown",
   "metadata": {},
   "source": [
    "## 캘리포니아 주택가격 데이터셋"
   ]
  },
  {
   "cell_type": "markdown",
   "metadata": {},
   "source": [
    "**문제 1**"
   ]
  },
  {
   "cell_type": "markdown",
   "metadata": {},
   "source": [
    "캘리포니아 주택가격 데이터셋을 이용한 회귀 심층 신경망 모델을 구성하고 훈련시켜라.\n",
    "단, `Sequential` 모델과 `Dense` 층 이외에 다른 종류의 모델과 층은 절대로 이용하지 않는다.\n",
    "또한 캘리포니아 데이터셋과 모델 구성에 대해서는 인터넷 자료를 참고하며,\n",
    "모델을 구성할 때 다음 사항에 주의한다.\n",
    "\n",
    "- 회귀 모델의 마지막 출력층은 활성화 함수를 사용하지 않는다.\n",
    "- 모델 컴파일 요소(옵티마이저, 손실 함수, 평가지표) 또한 인터넷 자료를 참고한다.\n",
    "- 은닉층의 활성화 함수는 `relu` 함수를 이용한다.\n",
    "\n",
    "\n",
    "힌트: 아래 사이트를 참고한다.\n",
    "\n",
    "- https://www.kaggle.com/code/saurav9786/ann-with-tensorflow-2-0-to-predict-housing-prices"
   ]
  }
 ],
 "metadata": {
  "kernelspec": {
   "display_name": "Python 3.8.10 64-bit",
   "language": "python",
   "name": "python3"
  },
  "language_info": {
   "codemirror_mode": {
    "name": "ipython",
    "version": 3
   },
   "file_extension": ".py",
   "mimetype": "text/x-python",
   "name": "python",
   "nbconvert_exporter": "python",
   "pygments_lexer": "ipython3",
   "version": "3.11.4"
  },
  "orig_nbformat": 4,
  "vscode": {
   "interpreter": {
    "hash": "916dbcbb3f70747c44a77c7bcd40155683ae19c65e1c03b4aa3499c5328201f1"
   }
  }
 },
 "nbformat": 4,
 "nbformat_minor": 2
}
