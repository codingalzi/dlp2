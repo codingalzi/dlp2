{
 "cells": [
  {
   "cell_type": "markdown",
   "metadata": {},
   "source": [
    "# (실습) 케라스와 텐서플로우"
   ]
  },
  {
   "cell_type": "markdown",
   "metadata": {},
   "source": [
    "## [TensorFlow Playground](https://playground.tensorflow.org)"
   ]
  },
  {
   "cell_type": "markdown",
   "metadata": {},
   "source": [
    "[TensorFlow Playground](https://playground.tensorflow.org)에서 분류와 회귀 모델의 학습과정을 살펴 보면서 \n",
    "문제를 해결하는 최선의 모델을 찾고자 한다.\n",
    "그런 다음에 아래 요소들에 적절한 값이 선택된 이유를 (추정해서) 설명할 수 있어야 한다.\n",
    "\n",
    "- 특성(features) 선택\n",
    "- 학습률(learning rate)\n",
    "- 활성화 함수(activation function)\n",
    "- 규제(regularization)와 규제율(regularization rate)\n",
    "- 훈련셋(training set)대 테스트셋(test set) 비율\n",
    "- 배치 크기(batch size)\n",
    "- 은닉층(hidden layer)과 유닛(unit 또는 neuron) 수"
   ]
  },
  {
   "cell_type": "markdown",
   "metadata": {},
   "source": [
    "**모델 A**\n",
    "\n",
    "아래 그림은 음성 데이터(주황색)와 양성 데이터(파랑색)를 분류하는 목적으로 훈련 시키려 하는 심층 신경망 모델을 보여준다.\n",
    "\n",
    "- 입력 특성: $\\mathrm{x}_1$과 $\\mathrm{x}_2$ 두 개\n",
    "- 은닉층(hidden layer) 2개\n",
    "    - 첫째 은닉층: 유닛 4개\n",
    "    - 둘째 은닉층: 유닛 2개\n",
    "- 출력값 1개: 양성/음성 여부 판단\n",
    "    \n",
    "유닛과 유닛을 연결하는 파란선/주황선은 각각 양의 가중치와 음의 가중치 값을 가리킨다.\n",
    "선의 두께는 가중치의 절댓값에 해당한다.\n",
    "즉, 두꺼운 선일 수록 해당 가중치가 출력 유닛에 저장되는 값을 계산할 때 기여도가 보다 크다."
   ]
  },
  {
   "cell_type": "markdown",
   "metadata": {},
   "source": [
    "\n",
    "<div align=\"center\"><img src=\"https://raw.githubusercontent.com/codingalzi/dlp2/master/jupyter-book/imgs/ch03-tf-playground-a07.jpg\" style=\"width:700px;\"></div>\n"
   ]
  },
  {
   "cell_type": "markdown",
   "metadata": {},
   "source": [
    "위 사진의 모델을 훈련시키면 다음과 같이 결과가 나온다.\n",
    "\n",
    "- 훈련 에포크: 505\n",
    "- 학습률: 0.03\n",
    "- 층에 사용되는 활성화 함수: Tanh\n",
    "- 평가 지표\n",
    "    - 테스트셋에 대한 손실값: 0.003\n",
    "    - 훈련셋에 대한 손실값: 0.001\n"
   ]
  },
  {
   "cell_type": "markdown",
   "metadata": {},
   "source": [
    "\n",
    "<div align=\"center\"><img src=\"https://raw.githubusercontent.com/codingalzi/dlp2/master/jupyter-book/imgs/ch03-tf-playground-a05.png\" style=\"width:700px;\"></div>\n"
   ]
  },
  {
   "cell_type": "markdown",
   "metadata": {},
   "source": [
    "**모델 B**\n",
    "\n",
    "반면에 하나의 은닉층만 사용하면 결과가 다르게 나온다.\n",
    "\n",
    "- 은닉층(hidden layer) 1개\n",
    "    - 첫째 은닉층: 유닛 4개\n",
    "- 훈련 에포크: 511\n",
    "- 학습률: 0.03\n",
    "- 층에 사용되는 활성화 함수: Tanh\n",
    "- 평가 지표\n",
    "    - 테스트셋에 대한 손실값: 0.016\n",
    "    - 훈련셋에 대한 손실값: 0.004\n",
    "\n",
    "즉, 훈련된 모델의 성능(평가지표)가 두 개의 은닉층을 사용하는 모델보다 나쁘다.\n",
    "특히 테스트셋에 대한 성능이 훈련셋에 대한 성능보다 많이 떨어져서\n",
    "과대적합(overfitting)이 보다 심하게 발생했다."
   ]
  },
  {
   "cell_type": "markdown",
   "metadata": {},
   "source": [
    "\n",
    "<div align=\"center\"><img src=\"https://raw.githubusercontent.com/codingalzi/dlp2/master/jupyter-book/imgs/ch03-tf-playground-a04.png\" style=\"width:700px;\"></div>\n"
   ]
  },
  {
   "cell_type": "markdown",
   "metadata": {},
   "source": [
    "**모델 C**\n",
    "\n",
    "은닉층을 아래 그림에서처럼 세 개로 늘리면 성능이 두 개의 은닉층을 사용할 때보다 성능이 좀 더 좋아진다.\n",
    "\n",
    "- 은닉층(hidden layer) 3개\n",
    "    - 첫째 은닉층: 유닛 4개\n",
    "    - 둘째 은닉층: 유닛 3개\n",
    "    - 둘째 은닉층: 유닛 2개\n",
    "- 훈련 에포크: 234\n",
    "- 학습률: 0.03\n",
    "- 층에 사용되는 활성화 함수: Tanh\n",
    "- 평가 지표\n",
    "    - 테스트셋에 대한 손실값: 0.001\n",
    "    - 훈련셋에 대한 손실값: 0.001\n",
    "\n",
    "에포크가 234로 이전보다 훨씬 빠르게 좋은 분류 모델을 학습시킨다. \n",
    "은닉층을 늘린다고 무조건 좋아지는 것은 일반적으로 아니지만 이 경우엔 최선의 결과를 낳았다."
   ]
  },
  {
   "cell_type": "markdown",
   "metadata": {},
   "source": [
    "\n",
    "<div align=\"center\"><img src=\"https://raw.githubusercontent.com/codingalzi/dlp2/master/jupyter-book/imgs/ch03-tf-playground-a06.png\" style=\"width:700px;\"></div>\n"
   ]
  },
  {
   "cell_type": "markdown",
   "metadata": {},
   "source": [
    "## 케라스 활용"
   ]
  },
  {
   "cell_type": "markdown",
   "metadata": {},
   "source": [
    "케라스를 이용하여 앞서 소개한 모델 A, 모델 B, 모델 C를 직접 구성해서\n",
    "훈련시키고자 한다.\n",
    "훈련에 사용되는 데이터셋은 아래 코드를 이용하여 생성한다."
   ]
  },
  {
   "cell_type": "code",
   "execution_count": 1,
   "metadata": {},
   "outputs": [],
   "source": [
    "import tensorflow as tf\n",
    "import numpy as np\n",
    "import sklearn\n",
    "import matplotlib.pyplot as plt"
   ]
  },
  {
   "cell_type": "markdown",
   "metadata": {},
   "source": [
    "[`make_circles()`](https://scikit-learn.org/stable/modules/generated/sklearn.datasets.make_circles.html) 함수를 이용하여 모델 학습에 사용될 데이터셋을 생성한다.\n",
    "\n",
    "- `datasets`: 입력 데이터셋. (2000, 2) 모양의 텐서. 2000개의 데이터 샘플 포함. 양성, 음성 각각 1000개\n",
    "- `targets`: 타깃 데이터셋. 0과 1로 구성된 (2000,) 모양의 텐서. 0은 음성, 1은 양성."
   ]
  },
  {
   "cell_type": "code",
   "execution_count": 41,
   "metadata": {},
   "outputs": [],
   "source": [
    "from sklearn.datasets import make_circles\n",
    "dataset, targets = make_circles(2000, noise=0.1, factor=0.2)"
   ]
  },
  {
   "cell_type": "markdown",
   "metadata": {},
   "source": [
    "`dataset`은 (2000, 2) 모양의 텐서다. \n",
    "즉, 한 개의 데이터 샘플은 두 개의 특성을 갖는다."
   ]
  },
  {
   "cell_type": "code",
   "execution_count": 42,
   "metadata": {},
   "outputs": [
    {
     "name": "stdout",
     "output_type": "stream",
     "text": [
      "모양:  (2000, 2)\n",
      "첫 5개 데이터:\n",
      "[[-1.03048946 -0.22853214]\n",
      " [ 0.47449395 -1.01954256]\n",
      " [ 0.21373348  0.28551849]\n",
      " [ 0.76332902  0.69200086]\n",
      " [ 0.61790529 -0.90298142]]\n"
     ]
    }
   ],
   "source": [
    "print(\"모양: \", dataset.shape)\n",
    "print(\"첫 5개 데이터:\", dataset[:5], sep='\\n')"
   ]
  },
  {
   "cell_type": "markdown",
   "metadata": {},
   "source": [
    "2000개의 샘플의 양성/음성 여부는 (2000, 1) 모양의 `targets` 텐서에 저장되어 있으며\n",
    "무작위로 지정되어 있다.\n",
    "예를 들어 첫 5개 샘플의 양성/음성 여부는 다음과 같다.\n",
    "0은 음성을, 1은 양성을 가리킨다."
   ]
  },
  {
   "cell_type": "code",
   "execution_count": 43,
   "metadata": {},
   "outputs": [
    {
     "name": "stdout",
     "output_type": "stream",
     "text": [
      "타겟 모양:  (2000,)\n",
      "타겟:\n",
      "[0 0 1 0 0]\n"
     ]
    }
   ],
   "source": [
    "print(\"타겟 모양: \", targets.shape)\n",
    "print(\"타겟:\", targets[:5], sep='\\n')"
   ]
  },
  {
   "cell_type": "markdown",
   "metadata": {},
   "source": [
    "양성은 파란색, 음성은 주황색으로 표시한 데이터 산점도는 다음과 같다."
   ]
  },
  {
   "cell_type": "code",
   "execution_count": 45,
   "metadata": {},
   "outputs": [
    {
     "data": {
      "image/png": "[encoded data removed]",
      "text/plain": [
       "<Figure size 640x480 with 1 Axes>"
      ]
     },
     "metadata": {},
     "output_type": "display_data"
    }
   ],
   "source": [
    "\n",
    "plt.scatter(dataset[:,0]*5, dataset[:,1]*5, c=['orange' if i==0 else 'skyblue' for i in targets])\n",
    "plt.show()"
   ]
  },
  {
   "cell_type": "markdown",
   "metadata": {},
   "source": [
    "케라스를 이용하여 모델 A를 구성한 다음에 위 데이터셋을 이용하여 훈련시키고자 한다.\n",
    "먼저, `targets`의 모양을 다음과 같이 변환시킨다.\n",
    "이유는 케라스 모델은 타깃 데이터셋도 2차원 텐서를 요구하기 때문이다.\n",
    "\n",
    "신경망 모델은 데이터 샘플 별로 여러 종류의 값을 동시에 예측한다.\n",
    "여기서는 데이터 샘플 별로 양성/음성 여부에 대해서만 예측하기 때문에 \n",
    "한 샘플에 대한 예측값은 길이가 1인 벡터이다.\n",
    "따라서 타깃셋은 (2000, 1) 모양의 텐서이어야 한다."
   ]
  },
  {
   "cell_type": "code",
   "execution_count": 46,
   "metadata": {},
   "outputs": [
    {
     "data": {
      "text/plain": [
       "array([[0],\n",
       "       [0],\n",
       "       [1],\n",
       "       ...,\n",
       "       [0],\n",
       "       [1],\n",
       "       [1]], dtype=int64)"
      ]
     },
     "execution_count": 46,
     "metadata": {},
     "output_type": "execute_result"
    }
   ],
   "source": [
    "targets = targets.reshape(-1,1)\n",
    "targets"
   ]
  },
  {
   "cell_type": "markdown",
   "metadata": {},
   "source": [
    "모델 A를 신경망 모델로 구성하면 다음과 같다."
   ]
  },
  {
   "cell_type": "code",
   "execution_count": 52,
   "metadata": {},
   "outputs": [],
   "source": [
    "from tensorflow import keras\n",
    "from tensorflow.keras import layers\n",
    "\n",
    "modelA = keras.Sequential([\n",
    "    layers.Dense(4, activation=\"tanh\"),   # 첫째 은닉층\n",
    "    layers.Dense(2, activation=\"tanh\"),   # 둘째 은닉층\n",
    "    layers.Dense(1, activation=\"sigmoid\") # 출력층\n",
    "    ])"
   ]
  },
  {
   "cell_type": "markdown",
   "metadata": {},
   "source": [
    "`modelA` 를 아래 옵션을 이용하여 컴파일한다.\n",
    "\n",
    "- 옵티마이저: `rmsprop`\n",
    "- 손실: `binary_crossentropy` (이진 분류 용도의 손실 함수 지정)\n",
    "- 평가지표: `accuracy` (정확도 평가)"
   ]
  },
  {
   "cell_type": "code",
   "execution_count": 53,
   "metadata": {},
   "outputs": [],
   "source": [
    "modelA.compile(optimizer=\"rmsprop\",\n",
    "              loss=\"binary_crossentropy\",\n",
    "              metrics=[\"accuracy\"])"
   ]
  },
  {
   "cell_type": "markdown",
   "metadata": {},
   "source": [
    "50대 50의 비율로 훈련용 데이터셋과 타깃셋인 `x_train`, `y_train`과 \n",
    "테스트용 데이터셋과 타깃셋 `x_test`, `y_test`를 지정한다."
   ]
  },
  {
   "cell_type": "code",
   "execution_count": 54,
   "metadata": {},
   "outputs": [],
   "source": [
    "x_train, y_train = dataset[:1000], targets[:1000]\n",
    "x_test, y_test = dataset[1000:], targets[1000:]"
   ]
  },
  {
   "cell_type": "markdown",
   "metadata": {},
   "source": [
    "모델을 훈련시킨다. \n",
    "`fit()` 메서드의 반환값은 훈련이 잘 된 모델의 정보를 담고 있는 `History` 객체이다."
   ]
  },
  {
   "cell_type": "code",
   "execution_count": 55,
   "metadata": {},
   "outputs": [
    {
     "name": "stdout",
     "output_type": "stream",
     "text": [
      "Epoch 1/30\n"
     ]
    },
    {
     "name": "stdout",
     "output_type": "stream",
     "text": [
      "100/100 [==============================] - 1s 1ms/step - loss: 0.6929 - accuracy: 0.4700\n",
      "Epoch 2/30\n",
      "100/100 [==============================] - 0s 1ms/step - loss: 0.6917 - accuracy: 0.6790\n",
      "Epoch 3/30\n",
      "100/100 [==============================] - 0s 1ms/step - loss: 0.6901 - accuracy: 0.7030\n",
      "Epoch 4/30\n",
      "100/100 [==============================] - 0s 1ms/step - loss: 0.6880 - accuracy: 0.7020\n",
      "Epoch 5/30\n",
      "100/100 [==============================] - 0s 1ms/step - loss: 0.6851 - accuracy: 0.6960\n",
      "Epoch 6/30\n",
      "100/100 [==============================] - 0s 1ms/step - loss: 0.6807 - accuracy: 0.6970\n",
      "Epoch 7/30\n",
      "100/100 [==============================] - 0s 1ms/step - loss: 0.6749 - accuracy: 0.6910\n",
      "Epoch 8/30\n",
      "100/100 [==============================] - 0s 1ms/step - loss: 0.6681 - accuracy: 0.6930\n",
      "Epoch 9/30\n",
      "100/100 [==============================] - 0s 1ms/step - loss: 0.6600 - accuracy: 0.7030\n",
      "Epoch 10/30\n",
      "100/100 [==============================] - 0s 1ms/step - loss: 0.6500 - accuracy: 0.7020\n",
      "Epoch 11/30\n",
      "100/100 [==============================] - 0s 1ms/step - loss: 0.6381 - accuracy: 0.7120\n",
      "Epoch 12/30\n",
      "100/100 [==============================] - 0s 1ms/step - loss: 0.6237 - accuracy: 0.7070\n",
      "Epoch 13/30\n",
      "100/100 [==============================] - 0s 1ms/step - loss: 0.6075 - accuracy: 0.7210\n",
      "Epoch 14/30\n",
      "100/100 [==============================] - 0s 1ms/step - loss: 0.5882 - accuracy: 0.7390\n",
      "Epoch 15/30\n",
      "100/100 [==============================] - 0s 1ms/step - loss: 0.5677 - accuracy: 0.7810\n",
      "Epoch 16/30\n",
      "100/100 [==============================] - 0s 1ms/step - loss: 0.5452 - accuracy: 0.8350\n",
      "Epoch 17/30\n",
      "100/100 [==============================] - 0s 1ms/step - loss: 0.5226 - accuracy: 0.8830\n",
      "Epoch 18/30\n",
      "100/100 [==============================] - 0s 1ms/step - loss: 0.5005 - accuracy: 0.9180\n",
      "Epoch 19/30\n",
      "100/100 [==============================] - 0s 1ms/step - loss: 0.4780 - accuracy: 0.9430\n",
      "Epoch 20/30\n",
      "100/100 [==============================] - 0s 1ms/step - loss: 0.4547 - accuracy: 0.9660\n",
      "Epoch 21/30\n",
      "100/100 [==============================] - 0s 1ms/step - loss: 0.4316 - accuracy: 0.9850\n",
      "Epoch 22/30\n",
      "100/100 [==============================] - 0s 1ms/step - loss: 0.4078 - accuracy: 0.9920\n",
      "Epoch 23/30\n",
      "100/100 [==============================] - 0s 1ms/step - loss: 0.3842 - accuracy: 0.9950\n",
      "Epoch 24/30\n",
      "100/100 [==============================] - 0s 1ms/step - loss: 0.3595 - accuracy: 0.9980\n",
      "Epoch 25/30\n",
      "100/100 [==============================] - 0s 1ms/step - loss: 0.3356 - accuracy: 0.9980\n",
      "Epoch 26/30\n",
      "100/100 [==============================] - 0s 1ms/step - loss: 0.3120 - accuracy: 0.9990\n",
      "Epoch 27/30\n",
      "100/100 [==============================] - 0s 1ms/step - loss: 0.2892 - accuracy: 0.9990\n",
      "Epoch 28/30\n",
      "100/100 [==============================] - 0s 1ms/step - loss: 0.2677 - accuracy: 0.9990\n",
      "Epoch 29/30\n",
      "100/100 [==============================] - 0s 1ms/step - loss: 0.2470 - accuracy: 0.9990\n",
      "Epoch 30/30\n",
      "100/100 [==============================] - 0s 1ms/step - loss: 0.2276 - accuracy: 0.9990\n"
     ]
    }
   ],
   "source": [
    "history = modelA.fit(x_train, y_train, epochs=30, batch_size=10)"
   ]
  },
  {
   "cell_type": "markdown",
   "metadata": {},
   "source": [
    "`History` 객체는 훈련된 모델의 다양한 정보를 저장한다.\n",
    "예를 들어 `model` 속성은 훈련된 모델을 저장한다.\n",
    "아래 코드는 훈련된 모델이 `Sequential` 모델임을 확인해준다."
   ]
  },
  {
   "cell_type": "code",
   "execution_count": 70,
   "metadata": {},
   "outputs": [
    {
     "data": {
      "text/plain": [
       "keras.src.engine.sequential.Sequential"
      ]
     },
     "execution_count": 70,
     "metadata": {},
     "output_type": "execute_result"
    }
   ],
   "source": [
    "type(history.model)"
   ]
  },
  {
   "cell_type": "markdown",
   "metadata": {},
   "source": [
    "케라스의 모든 모델은 `keras.Model` 클래스를 상속한다."
   ]
  },
  {
   "cell_type": "code",
   "execution_count": 72,
   "metadata": {},
   "outputs": [
    {
     "data": {
      "text/plain": [
       "True"
      ]
     },
     "execution_count": 72,
     "metadata": {},
     "output_type": "execute_result"
    }
   ],
   "source": [
    "isinstance(history.model, keras.Model)"
   ]
  },
  {
   "cell_type": "markdown",
   "metadata": {},
   "source": [
    "따라서 모델에 사용된 층의 구성을 확인기 위해\n",
    "`Model` 클래스의 인스턴스 메서드인 `summary()` 메서드를 이용한다."
   ]
  },
  {
   "cell_type": "code",
   "execution_count": 68,
   "metadata": {},
   "outputs": [
    {
     "name": "stdout",
     "output_type": "stream",
     "text": [
      "Model: \"sequential_6\"\n",
      "_________________________________________________________________\n",
      " Layer (type)                Output Shape              Param #   \n",
      "=================================================================\n",
      " dense_18 (Dense)            (10, 4)                   12        \n",
      "                                                                 \n",
      " dense_19 (Dense)            (10, 2)                   10        \n",
      "                                                                 \n",
      " dense_20 (Dense)            (10, 1)                   3         \n",
      "                                                                 \n",
      "=================================================================\n",
      "Total params: 25 (100.00 Byte)\n",
      "Trainable params: 25 (100.00 Byte)\n",
      "Non-trainable params: 0 (0.00 Byte)\n",
      "_________________________________________________________________\n"
     ]
    }
   ],
   "source": [
    "history.model.summary()"
   ]
  },
  {
   "cell_type": "markdown",
   "metadata": {},
   "source": [
    "위 결과가 설명하는 바는 다음과 같다.\n",
    "\n",
    "- `Layer (type)` 열: 각 층에 사용된 층의 이름과 종류. 이름을 별도로 지정하지 않으면 자동으로 지정된다.\n",
    "- `Output Shape` 열: 각 층에서 생성되는 출력 텐서의 모양. \n",
    "    예를 들어 (10, 4)에서 10은 배치 크기를, 4는 네 개의 유닛 개수. 즉 원래 2개의 특성을 갖는 데이터 샘플 각각을\n",
    "    4개의 특성을 갖는 데이터 샘플로 변환.\n",
    "- `Param`: 각 층에서 학습되는 파라미터(가중치와 편향)의 개수. 계산법은 다음과 같음.\n",
    "    - 첫째 층의 파라미터: `2*4 + 4 = 12`\n",
    "    - 둘째 층의 파라미터: `4*2 + 2 = 10`\n",
    "    - 셋째 층의 파라미터: `2*1 + 1 = 3`\n",
    "\n",
    "기타 요소는 다음과 같다.\n",
    "\n",
    "- `Toral params`: 파라미터 수의 총합. `12 + 10 + 3 = 25`\n",
    "- `Trainable params`: 훈련되는 파라미터 수의 총합. `12 + 10 + 3 = 25`\n",
    "- `Non-trainable params`: 훈련되지 않는 파라미터 수의 총합. `0 + 0 + 0 = 0`. \n",
    "    즉, 위 모델은 훈련되지 않는 파라미터 사용하지 않음.\n"
   ]
  },
  {
   "cell_type": "markdown",
   "metadata": {},
   "source": [
    "`history.model`이 가리키는 모델과 `modelA` 동일한 모델을 가리킨다.\n",
    "이유는 `modelA.fit()` 메서드가 실행되는 동안 `modelA`가 훈련되어\n",
    "가중치 행렬과 편향 벡터가 모델 자체에서 업데이트 되기 때문이다.\n",
    "\n",
    "실제로 테스테셋의 처음 5개 데이터 샘플에 대한 예측값이 동일함을 아래 코드로 확인할 수 있다."
   ]
  },
  {
   "cell_type": "code",
   "execution_count": 74,
   "metadata": {},
   "outputs": [
    {
     "name": "stdout",
     "output_type": "stream",
     "text": [
      "1/1 [==============================] - 0s 78ms/step\n"
     ]
    },
    {
     "data": {
      "text/plain": [
       "array([[0.0350509 ],\n",
       "       [0.94828284],\n",
       "       [0.92921627],\n",
       "       [0.1926225 ],\n",
       "       [0.1589742 ]], dtype=float32)"
      ]
     },
     "execution_count": 74,
     "metadata": {},
     "output_type": "execute_result"
    }
   ],
   "source": [
    "modelA.predict(x_test[:5])"
   ]
  },
  {
   "cell_type": "code",
   "execution_count": 75,
   "metadata": {},
   "outputs": [
    {
     "name": "stdout",
     "output_type": "stream",
     "text": [
      "1/1 [==============================] - 0s 17ms/step\n"
     ]
    },
    {
     "data": {
      "text/plain": [
       "array([[0.0350509 ],\n",
       "       [0.94828284],\n",
       "       [0.92921627],\n",
       "       [0.1926225 ],\n",
       "       [0.1589742 ]], dtype=float32)"
      ]
     },
     "execution_count": 75,
     "metadata": {},
     "output_type": "execute_result"
    }
   ],
   "source": [
    "history.model.predict(x_test[:5])"
   ]
  },
  {
   "cell_type": "markdown",
   "metadata": {},
   "source": [
    "`History` 객체의 `params` 인스턴스 속성은 모델을 지정할 때 사용된\n",
    "하이퍼파라미터를 저장한다.\n",
    "아래 코드는 30번의 에포크와 스텝의 수를 보여준다.\n",
    "참고로 스텝은 훈련셋의 크기와 배치크기에 의해 자동 결정된다.\n",
    "여기서 100인 이유는 훈련셋의 크기가 1000이고 배치 크기가 10 기에\n",
    "총 `1000/10 = 100` 번의 스텝이 한 번의 에포크 동안 실행된다."
   ]
  },
  {
   "cell_type": "code",
   "execution_count": 64,
   "metadata": {},
   "outputs": [
    {
     "data": {
      "text/plain": [
       "{'verbose': 1, 'epochs': 30, 'steps': 100}"
      ]
     },
     "execution_count": 64,
     "metadata": {},
     "output_type": "execute_result"
    }
   ],
   "source": [
    "history.params"
   ]
  },
  {
   "cell_type": "markdown",
   "metadata": {},
   "source": [
    "`History` 객체의 `history` 속성은 훈련 과정에서 에포크 단위로 계산된\n",
    "훈련셋과 검증셋에 대한 손실값(loss)과 평가지표를 저장한 사전 객체를 가리킨다.\n",
    "\n",
    "여기서는 검증셋은 지정되지 않았고, 평가지표로 정확도(accuracy) 하나만 사용하였기에\n",
    "훈련셋에 대한 손실값(loss)과 정확도(accuracy)만 에포크 단위로 저장한다."
   ]
  },
  {
   "cell_type": "code",
   "execution_count": 77,
   "metadata": {},
   "outputs": [
    {
     "data": {
      "text/plain": [
       "dict_keys(['loss', 'accuracy'])"
      ]
     },
     "execution_count": 77,
     "metadata": {},
     "output_type": "execute_result"
    }
   ],
   "source": [
    "history.history.keys()"
   ]
  },
  {
   "cell_type": "markdown",
   "metadata": {},
   "source": [
    "예를 들어 에포크 별 훈련셋에 대한 손실값의 변화는 다음과 같다."
   ]
  },
  {
   "cell_type": "code",
   "execution_count": 78,
   "metadata": {},
   "outputs": [
    {
     "data": {
      "text/plain": [
       "[0.6929258704185486,\n",
       " 0.6916694045066833,\n",
       " 0.690117359161377,\n",
       " 0.6880171895027161,\n",
       " 0.6850718259811401,\n",
       " 0.6806982159614563,\n",
       " 0.6748542189598083,\n",
       " 0.6680921316146851,\n",
       " 0.6600195169448853,\n",
       " 0.650046169757843,\n",
       " 0.638062059879303,\n",
       " 0.6237192153930664,\n",
       " 0.607499361038208,\n",
       " 0.5881668329238892,\n",
       " 0.5677407383918762,\n",
       " 0.5451755523681641,\n",
       " 0.5225554704666138,\n",
       " 0.5005300641059875,\n",
       " 0.478040486574173,\n",
       " 0.45471155643463135,\n",
       " 0.4315906763076782,\n",
       " 0.40780413150787354,\n",
       " 0.3842318654060364,\n",
       " 0.3594980537891388,\n",
       " 0.3355628252029419,\n",
       " 0.31204596161842346,\n",
       " 0.2892109453678131,\n",
       " 0.2676948010921478,\n",
       " 0.24700751900672913,\n",
       " 0.2276378571987152]"
      ]
     },
     "execution_count": 78,
     "metadata": {},
     "output_type": "execute_result"
    }
   ],
   "source": [
    "history.history['loss']"
   ]
  },
  {
   "cell_type": "markdown",
   "metadata": {},
   "source": [
    "에포크 별 훈련셋에 대한 정확도의 변화는 다음과 같다."
   ]
  },
  {
   "cell_type": "code",
   "execution_count": 79,
   "metadata": {},
   "outputs": [
    {
     "data": {
      "text/plain": [
       "[0.4699999988079071,\n",
       " 0.6790000200271606,\n",
       " 0.703000009059906,\n",
       " 0.7020000219345093,\n",
       " 0.6959999799728394,\n",
       " 0.6970000267028809,\n",
       " 0.6909999847412109,\n",
       " 0.6930000185966492,\n",
       " 0.703000009059906,\n",
       " 0.7020000219345093,\n",
       " 0.7120000123977661,\n",
       " 0.7070000171661377,\n",
       " 0.7210000157356262,\n",
       " 0.7390000224113464,\n",
       " 0.781000018119812,\n",
       " 0.8349999785423279,\n",
       " 0.8830000162124634,\n",
       " 0.9179999828338623,\n",
       " 0.9430000185966492,\n",
       " 0.9660000205039978,\n",
       " 0.9850000143051147,\n",
       " 0.9919999837875366,\n",
       " 0.9950000047683716,\n",
       " 0.9980000257492065,\n",
       " 0.9980000257492065,\n",
       " 0.9990000128746033,\n",
       " 0.9990000128746033,\n",
       " 0.9990000128746033,\n",
       " 0.9990000128746033,\n",
       " 0.9990000128746033]"
      ]
     },
     "execution_count": 79,
     "metadata": {},
     "output_type": "execute_result"
    }
   ],
   "source": [
    "history.history['accuracy']"
   ]
  },
  {
   "cell_type": "markdown",
   "metadata": {},
   "source": [
    "**문제 2**"
   ]
  },
  {
   "cell_type": "markdown",
   "metadata": {},
   "source": [
    "아래 설정을 변경하면서 최고 성능의 하이퍼파라미터 조합을 확인하라.\n",
    "\n",
    "- 층과 유닛의 개수\n",
    "- 훈련셋과 테스트셋의 비율\n",
    "- 배치 크기\n",
    "- 학습률\n",
    "- 규제와 규제율\n",
    "- 활성화 함수\n",
    "- 에포크"
   ]
  },
  {
   "cell_type": "markdown",
   "metadata": {},
   "source": [
    "## 텐서플로우 활용"
   ]
  },
  {
   "cell_type": "markdown",
   "metadata": {},
   "source": [
    "아래 코드는 순수 텐서플로우를 이용하여 이진분류 문제를 해결하는 코드이다."
   ]
  },
  {
   "cell_type": "code",
   "execution_count": null,
   "metadata": {},
   "outputs": [
    {
     "name": "stdout",
     "output_type": "stream",
     "text": [
      "Loss at step 0: 0.9927\n",
      "Loss at step 1: 0.1929\n",
      "Loss at step 2: 0.1130\n",
      "Loss at step 3: 0.0973\n",
      "Loss at step 4: 0.0898\n",
      "Loss at step 5: 0.0839\n",
      "Loss at step 6: 0.0787\n",
      "Loss at step 7: 0.0739\n",
      "Loss at step 8: 0.0695\n",
      "Loss at step 9: 0.0655\n",
      "Loss at step 10: 0.0619\n",
      "Loss at step 11: 0.0586\n",
      "Loss at step 12: 0.0556\n",
      "Loss at step 13: 0.0529\n",
      "Loss at step 14: 0.0504\n",
      "Loss at step 15: 0.0481\n",
      "Loss at step 16: 0.0461\n",
      "Loss at step 17: 0.0442\n",
      "Loss at step 18: 0.0425\n",
      "Loss at step 19: 0.0409\n",
      "Loss at step 20: 0.0395\n",
      "Loss at step 21: 0.0382\n",
      "Loss at step 22: 0.0370\n",
      "Loss at step 23: 0.0359\n",
      "Loss at step 24: 0.0350\n",
      "Loss at step 25: 0.0341\n",
      "Loss at step 26: 0.0333\n",
      "Loss at step 27: 0.0325\n",
      "Loss at step 28: 0.0318\n",
      "Loss at step 29: 0.0312\n",
      "Loss at step 30: 0.0307\n",
      "Loss at step 31: 0.0302\n",
      "Loss at step 32: 0.0297\n",
      "Loss at step 33: 0.0293\n",
      "Loss at step 34: 0.0289\n",
      "Loss at step 35: 0.0285\n",
      "Loss at step 36: 0.0282\n",
      "Loss at step 37: 0.0279\n",
      "Loss at step 38: 0.0277\n",
      "Loss at step 39: 0.0274\n"
     ]
    }
   ],
   "source": [
    "import numpy as np\n",
    "import tensorflow as tf\n",
    "\n",
    "# 데이터셋 크기\n",
    "num_samples_per_class = 1000\n",
    "\n",
    "# 음성 데이터셋\n",
    "negative_samples = np.random.multivariate_normal(\n",
    "    mean=[0, 3], cov=[[1, 0.5],[0.5, 1]], size=num_samples_per_class)\n",
    "\n",
    "# 양성 데이터셋\n",
    "positive_samples = np.random.multivariate_normal(\n",
    "    mean=[3, 0], cov=[[1, 0.5],[0.5, 1]], size=num_samples_per_class)\n",
    "\n",
    "# 입력 및 타깃 데이터셋\n",
    "inputs = np.vstack((negative_samples, positive_samples)).astype(np.float32)\n",
    "\n",
    "targets = np.vstack((np.zeros((num_samples_per_class, 1), dtype=\"float32\"),\n",
    "                     np.ones((num_samples_per_class, 1), dtype=\"float32\")))\n",
    "\n",
    "# 가중치와 편향        \n",
    "input_dim = 2     # 입력 샘플의 특성이 2개\n",
    "output_dim = 1    # 하나의 값으로 출력\n",
    "\n",
    "# 가중치: 무작위 초기화\n",
    "W = tf.Variable(initial_value=tf.random.uniform(shape=(input_dim, output_dim)))\n",
    "\n",
    "# 편향: 0으로 초기화\n",
    "b = tf.Variable(initial_value=tf.zeros(shape=(output_dim,)))\n",
    "\n",
    "# 모델 지정(하나의 층 사용)\n",
    "def model(inputs):\n",
    "    return tf.matmul(inputs, W) + b\n",
    "\n",
    "# 손실함수\n",
    "def square_loss(targets, predictions):\n",
    "    per_sample_losses = tf.square(targets - predictions)\n",
    "    return tf.reduce_mean(per_sample_losses)\n",
    "\n",
    "# 학습률\n",
    "learning_rate = 0.1\n",
    "\n",
    "# 훈련 스텝\n",
    "def training_step(inputs, targets):\n",
    "    with tf.GradientTape() as tape:\n",
    "        predictions = model(inputs)\n",
    "        loss = square_loss(targets, predictions)\n",
    "    grad_loss_wrt_W, grad_loss_wrt_b = tape.gradient(loss, [W, b])\n",
    "    W.assign_sub(grad_loss_wrt_W * learning_rate)\n",
    "    b.assign_sub(grad_loss_wrt_b * learning_rate)\n",
    "    return loss\n",
    "\n",
    "# 모델 학습\n",
    "for step in range(40):\n",
    "    loss = training_step(inputs, targets)\n",
    "    print(f\"Loss at step {step}: {loss:.4f}\")"
   ]
  },
  {
   "cell_type": "markdown",
   "metadata": {},
   "source": [
    "위 코드의 실행결과는 다음과 같이 이진분류 모델이다."
   ]
  },
  {
   "cell_type": "markdown",
   "metadata": {},
   "source": [
    "<div align=\"center\"><img src=\"https://drek4537l1klr.cloudfront.net/chollet2/HighResolutionFigures/figure_3-8.png\" style=\"width:500px;\"></div>\n",
    "\n",
    "<p><div style=\"text-align: center\">&lt;그림 출처: <a href=\"https://www.manning.com/books/deep-learning-with-python-second-edition\">Deep Learning with Python(2판)</a>&gt;</div></p>"
   ]
  },
  {
   "cell_type": "markdown",
   "metadata": {},
   "source": [
    "**문제 1**"
   ]
  },
  {
   "cell_type": "markdown",
   "metadata": {},
   "source": [
    "위 코드는 학습과정에서 전체 데이터셋을 하나의 배치로 사용한다.\n",
    "미니배치 학습을 지원하도록 코드를 수정한 후에 훈련을 진행하여 최선의 모델을 구현하라.\n",
    "배치 크기는 32로 한다."
   ]
  },
  {
   "cell_type": "markdown",
   "metadata": {},
   "source": [
    "**문제 2**"
   ]
  },
  {
   "cell_type": "markdown",
   "metadata": {},
   "source": [
    "`metrics`로 예측 정확도를 훈련 과정 중에 측정하는 기능을 추가하라. "
   ]
  },
  {
   "cell_type": "markdown",
   "metadata": {},
   "source": [
    "**문제 3**"
   ]
  },
  {
   "cell_type": "markdown",
   "metadata": {},
   "source": [
    "위 코드는 입력값에서 바로 출력값을 계산한다. \n",
    "순전파에서 네 개의 유닛으로 구성된 층(layer)을 통과하도록 모델을 수정한 모델을 훈련시켜서\n",
    "최선의 모델을 구현하라.\n",
    "단, 미니 배치와 정확도를 측정하는 기능도 함께 사용한다.\n",
    "\n",
    "힌트: [저수준 선형 분류 신경망](https://colab.research.google.com/github/codingalzi/dlp2/blob/master/excs/exc-keras_and_tf-example.ipynb)"
   ]
  }
 ],
 "metadata": {
  "kernelspec": {
   "display_name": "Python 3.8.10 64-bit",
   "language": "python",
   "name": "python3"
  },
  "language_info": {
   "codemirror_mode": {
    "name": "ipython",
    "version": 3
   },
   "file_extension": ".py",
   "mimetype": "text/x-python",
   "name": "python",
   "nbconvert_exporter": "python",
   "pygments_lexer": "ipython3",
   "version": "3.11.4"
  },
  "orig_nbformat": 4,
  "vscode": {
   "interpreter": {
    "hash": "916dbcbb3f70747c44a77c7bcd40155683ae19c65e1c03b4aa3499c5328201f1"
   }
  }
 },
 "nbformat": 4,
 "nbformat_minor": 2
}
