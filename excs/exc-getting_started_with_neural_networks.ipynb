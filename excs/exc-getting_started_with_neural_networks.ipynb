{
 "cells": [
  {
   "cell_type": "markdown",
   "metadata": {},
   "source": [
    "# (실습) 신경망 활용 처음부터 끝까지: 분류와 회귀"
   ]
  },
  {
   "cell_type": "markdown",
   "metadata": {},
   "source": [
    "**참고**\n",
    "\n",
    "[신경망 활용 처음부터 끝까지: 분류와 회귀](https://codingalzi.github.io/dlp2/getting_started_with_neural_networks.html) 내용을 먼저 숙지해야 합니다."
   ]
  },
  {
   "cell_type": "markdown",
   "metadata": {},
   "source": [
    "## 영화 후기: 이진 분류"
   ]
  },
  {
   "cell_type": "markdown",
   "metadata": {},
   "source": [
    "**문제 1**"
   ]
  },
  {
   "cell_type": "markdown",
   "metadata": {},
   "source": [
    "두 개의 은닉층 대신 1 개 또는 3 개의 은닉층을 사용할 때 \n",
    "검증셋와 테스트셋에 대한 평가지표의 변화를 확인하라."
   ]
  },
  {
   "cell_type": "markdown",
   "metadata": {},
   "source": [
    "**문제 2**"
   ]
  },
  {
   "cell_type": "markdown",
   "metadata": {},
   "source": [
    "각 은닉층에 사용된 유닛의 수를 8, 32, 64 등으로 변화시킨 후 \n",
    "검증셋과 테스트셋에 대한 평가지표의 변화를 확인하라."
   ]
  },
  {
   "cell_type": "markdown",
   "metadata": {},
   "source": [
    "**문제 3**"
   ]
  },
  {
   "cell_type": "markdown",
   "metadata": {},
   "source": [
    "`binary_crossentropy` 대신 `mse`를 손실함수로 지정한 후 \n",
    "검증셋과 테스트셋에 대한 평가지표의 변화를 확인하라."
   ]
  },
  {
   "cell_type": "markdown",
   "metadata": {},
   "source": [
    "**문제 4**"
   ]
  },
  {
   "cell_type": "markdown",
   "metadata": {},
   "source": [
    "`relu()` 함수 대신 이전에 많이 사용됐었던 `tanh()` 함수를 손실함수로 지정한 후 \n",
    "검증셋과 테스트셋에 대한 평가지표의 변화를 확인하라."
   ]
  },
  {
   "cell_type": "markdown",
   "metadata": {},
   "source": [
    "## 뉴스 기사: 다중 클래스 분류"
   ]
  },
  {
   "cell_type": "markdown",
   "metadata": {},
   "source": [
    "**문제 1**"
   ]
  },
  {
   "cell_type": "markdown",
   "metadata": {},
   "source": [
    "아래 모델을 사용하염 정보 병목현상이 발생함을 성능 테스트를 통해 보여라.\n",
    "```python\n",
    "model = keras.Sequential([\n",
    "    layers.Dense(64, activation=\"relu\"),\n",
    "    layers.Dense(4, activation=\"relu\"),\n",
    "    layers.Dense(46, activation=\"softmax\")\n",
    "])\n",
    "```"
   ]
  },
  {
   "cell_type": "markdown",
   "metadata": {},
   "source": [
    "**문제 2**"
   ]
  },
  {
   "cell_type": "markdown",
   "metadata": {},
   "source": [
    "은닉층의 유닛의 수를 32, 128 등 여러 값으로 실험해 보아라."
   ]
  },
  {
   "cell_type": "markdown",
   "metadata": {},
   "source": [
    "**문제 3**"
   ]
  },
  {
   "cell_type": "markdown",
   "metadata": {},
   "source": [
    "은닉층의 수를 1개 또는 3개로 바꿔 보아라."
   ]
  },
  {
   "cell_type": "markdown",
   "metadata": {},
   "source": [
    "## 주택가격 예측: 회귀"
   ]
  },
  {
   "cell_type": "markdown",
   "metadata": {},
   "source": [
    "**문제 1**"
   ]
  },
  {
   "cell_type": "markdown",
   "metadata": {},
   "source": [
    "5-겹, 7-겹, 9-겹 교차검증을 진행하라."
   ]
  },
  {
   "cell_type": "markdown",
   "metadata": {},
   "source": [
    "**문제 2**"
   ]
  },
  {
   "cell_type": "markdown",
   "metadata": {},
   "source": [
    "`build_model()` 함수에 의해 지정되는 모델의 구조를 변경한 후에 최적의 조합을 찾아라."
   ]
  },
  {
   "cell_type": "markdown",
   "metadata": {},
   "source": [
    "**문제 3**"
   ]
  },
  {
   "cell_type": "markdown",
   "metadata": {},
   "source": [
    "그리드 탐색, 랜덤 탐색 기능을 이용하여 최선의 모델을 찾아라."
   ]
  },
  {
   "cell_type": "markdown",
   "metadata": {},
   "source": [
    "## Fashion MNIST"
   ]
  },
  {
   "cell_type": "markdown",
   "metadata": {},
   "source": [
    "**문제 1**"
   ]
  },
  {
   "cell_type": "markdown",
   "metadata": {},
   "source": [
    "`Sequential` 모델과 `Dense` 층을 이용하여 이미지 분류 모델을 구현하라.\n",
    "훈련 데이터셋은 [Fashion MNIST](https://keras.io/api/datasets/fashion_mnist/)를 사용한다. \n",
    "\n",
    "[핸즈온 머신러닝(3판) 10장](https://github.com/ageron/handson-ml3/blob/main/10_neural_nets_with_keras.ipynb)의 Building an Image Classifier Using the Sequential API 내용을 참고할 수 있다.\n",
    "\n",
    "단, 하이퍼파라미터 튜닝, 층과 유닛 수 변경 등을 통해 최선의 모델을 구현하는 과정을 상세히 묘사해야 한다."
   ]
  },
  {
   "cell_type": "markdown",
   "metadata": {},
   "source": [
    "## MLP"
   ]
  },
  {
   "cell_type": "markdown",
   "metadata": {},
   "source": [
    "**문제**"
   ]
  },
  {
   "cell_type": "markdown",
   "metadata": {},
   "source": [
    "Suppose you have an MLP composed of one input layer with 10 passthrough \n",
    "neurons, followed by one hidden layer with 50 artificial neurons, and finally \n",
    "one output layer with 3 artificial neurons. All artificial neurons use the ReLU \n",
    "activation function. \n",
    "- What is the shape of the input matrix $X$? \n",
    "- What are the shapes of the hidden layer’s weight matrix $W_h$ and bias vector $b_h$? \n",
    "- What are the shapes of the output layer’s weight matrix $W_o$ and bias vector $b_o$? \n",
    "- What is the shape of the network’s output matrix $Y$? \n",
    "- Write the equation that computes the network’s output matrix $Y$ as a function \n",
    "    of $X$, $W_h$, $b_h$, $W_o$, and $b_o$. "
   ]
  }
 ],
 "metadata": {
  "kernelspec": {
   "display_name": "Python 3.8.10 64-bit",
   "language": "python",
   "name": "python3"
  },
  "language_info": {
   "name": "python",
   "version": "3.8.10"
  },
  "orig_nbformat": 4,
  "vscode": {
   "interpreter": {
    "hash": "916dbcbb3f70747c44a77c7bcd40155683ae19c65e1c03b4aa3499c5328201f1"
   }
  }
 },
 "nbformat": 4,
 "nbformat_minor": 2
}
