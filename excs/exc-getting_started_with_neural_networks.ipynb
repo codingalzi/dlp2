{
 "cells": [
  {
   "cell_type": "markdown",
   "metadata": {},
   "source": [
    "# (실습) 신경망 활용 처음부터 끝까지: 분류와 회귀"
   ]
  },
  {
   "cell_type": "markdown",
   "metadata": {},
   "source": [
    "**참고**\n",
    "\n",
    "[신경망 활용 처음부터 끝까지: 분류와 회귀](https://codingalzi.github.io/dlp2/getting_started_with_neural_networks.html) 내용을 먼저 숙지해야 합니다."
   ]
  },
  {
   "cell_type": "markdown",
   "metadata": {},
   "source": [
    "## 영화 후기: 이진 분류"
   ]
  },
  {
   "cell_type": "markdown",
   "metadata": {},
   "source": [
    "**문제 1**"
   ]
  },
  {
   "cell_type": "markdown",
   "metadata": {},
   "source": [
    "두 개의 은닉층 대신 1 개 또는 3 개의 은닉층을 사용할 때 \n",
    "검증셋과 테스트셋에 대한 평가지표의 변화를 확인하라."
   ]
  },
  {
   "cell_type": "markdown",
   "metadata": {},
   "source": [
    "**문제 2**"
   ]
  },
  {
   "cell_type": "markdown",
   "metadata": {},
   "source": [
    "각 은닉층에 사용된 유닛의 수를 8, 32, 64 등으로 변화시킨 후 \n",
    "검증셋과 테스트셋에 대한 평가지표의 변화를 확인하라."
   ]
  },
  {
   "cell_type": "markdown",
   "metadata": {},
   "source": [
    "**문제 3**"
   ]
  },
  {
   "cell_type": "markdown",
   "metadata": {},
   "source": [
    "`relu()` 함수 대신 이전에 많이 사용됐었던 `tanh()` 함수를 손실함수로 지정한 후 \n",
    "검증셋과 테스트셋에 대한 평가지표의 변화를 확인하라."
   ]
  },
  {
   "cell_type": "markdown",
   "metadata": {},
   "source": [
    "## 뉴스 기사: 다중 클래스 분류"
   ]
  },
  {
   "cell_type": "markdown",
   "metadata": {},
   "source": [
    "**문제 1**"
   ]
  },
  {
   "cell_type": "markdown",
   "metadata": {},
   "source": [
    "아래 모델을 사용하면 정보 병목현상이 발생함을 성능 테스트를 통해 확인하라.\n",
    "\n",
    "```python\n",
    "model = keras.Sequential([\n",
    "    layers.Dense(64, activation=\"relu\"),\n",
    "    layers.Dense(4, activation=\"relu\"),\n",
    "    layers.Dense(46, activation=\"softmax\")\n",
    "])\n",
    "```"
   ]
  },
  {
   "cell_type": "markdown",
   "metadata": {},
   "source": [
    "**문제 2**"
   ]
  },
  {
   "cell_type": "markdown",
   "metadata": {},
   "source": [
    "은닉층의 유닛의 수를 32, 128 등 여러 값으로 실험해 보아라."
   ]
  },
  {
   "cell_type": "markdown",
   "metadata": {},
   "source": [
    "**문제 3**"
   ]
  },
  {
   "cell_type": "markdown",
   "metadata": {},
   "source": [
    "은닉층의 수를 1개 또는 3개로 바꿔 보아라."
   ]
  },
  {
   "cell_type": "markdown",
   "metadata": {},
   "source": [
    "## 주택가격 예측: 회귀"
   ]
  },
  {
   "cell_type": "markdown",
   "metadata": {},
   "source": [
    "**문제 1**"
   ]
  },
  {
   "cell_type": "markdown",
   "metadata": {},
   "source": [
    "`build_model()` 함수에 의해 지정되는 모델의 구조를 변경한 후에 최적의 조합을 찾아라.\n",
    "단, 특성 `B`를 포함한 상태에서 모델을 훈련시킨다."
   ]
  },
  {
   "cell_type": "markdown",
   "metadata": {},
   "source": [
    "**문제 2**"
   ]
  },
  {
   "cell_type": "markdown",
   "metadata": {},
   "source": [
    "특성 `B`를 제거하고 훈련하더라고 특성 `B`를 포함시켰을 때보다 좋은 성능을 \n",
    "발휘하는 모델을 훈련시킬 수 있는지를 확인하라.\n",
    "\n",
    "힌트: 모델을 구성을 다양하게 바꾸고 교차검증에 방식도 바꾼다."
   ]
  },
  {
   "cell_type": "markdown",
   "metadata": {},
   "source": [
    "**문제 3**"
   ]
  },
  {
   "cell_type": "code",
   "execution_count": null,
   "metadata": {},
   "outputs": [],
   "source": []
  },
  {
   "cell_type": "markdown",
   "metadata": {},
   "source": [
    "## Fashion MNIST"
   ]
  },
  {
   "cell_type": "markdown",
   "metadata": {},
   "source": [
    "**문제 1**"
   ]
  },
  {
   "cell_type": "markdown",
   "metadata": {},
   "source": [
    "`Sequential` 모델과 `Dense` 층을 이용하여 이미지 분류 모델을 구현하라.\n",
    "훈련 데이터셋은 [Fashion MNIST](https://keras.io/api/datasets/fashion_mnist/)를 사용한다. \n",
    "\n",
    "[핸즈온 머신러닝(3판) 10장](https://github.com/ageron/handson-ml3/blob/main/10_neural_nets_with_keras.ipynb)의 Building an Image Classifier Using the Sequential API 내용을 참고할 수 있다.\n",
    "\n",
    "단, 하이퍼파라미터 튜닝, 층과 유닛 수 변경 등을 통해 최선의 모델을 구현하는 과정을 상세히 묘사해야 한다."
   ]
  },
  {
   "cell_type": "markdown",
   "metadata": {},
   "source": [
    "## 다층 퍼셉트론(Multi-Layer Perceptron, MLP)"
   ]
  },
  {
   "cell_type": "markdown",
   "metadata": {},
   "source": [
    "먼저 [다층 퍼셉트론(MLP)](https://ingu627.github.io/hands_on/TDL1/) 내용을 학습하여\n",
    "MLP에 대해 이해한다.\n",
    "\n",
    "이제 아래 설명대로 구성된 MLP가 주어졌다고 가정한다.\n",
    "\n",
    "- 입력층: 10개의 유닛(뉴런) 사용. 즉, 10개의 특성을 갖는 샘플을 입력 데이터로 처리.\n",
    "- 1개의 은닉층: 50개의 유닛(뉴런) 사용. 활성화 함수는 `relu`.\n",
    "- 출력층: 3개의 유닛(뉴런) 사용. 활성화 함수는 `softmax`.\n",
    "\n",
    "훈련셋 `X`가 1,000개의 샘플로 구성되었다고 가정했을 때 다음 질문에 답하라."
   ]
  },
  {
   "cell_type": "markdown",
   "metadata": {},
   "source": [
    "**문제 1**"
   ]
  },
  {
   "cell_type": "markdown",
   "metadata": {},
   "source": [
    "2차원 어레이 `X`의 모양(shape)은 어떻게 되는가?"
   ]
  },
  {
   "cell_type": "markdown",
   "metadata": {},
   "source": [
    "**문제 2**"
   ]
  },
  {
   "cell_type": "markdown",
   "metadata": {},
   "source": [
    "입력층에서 은닉층으로 순전파할 때 사용되는 가중치 행렬 `W_h`와 편향 벡터 `b_h`\n",
    "각각의 모양(shape)은 어떻게 되는가?"
   ]
  },
  {
   "cell_type": "markdown",
   "metadata": {},
   "source": [
    "**문제 3**"
   ]
  },
  {
   "cell_type": "markdown",
   "metadata": {},
   "source": [
    "은닉층에서 출력층으로 순전파할 때 사용되는 가중치 행렬 `W_o`와 편향 벡터 `b_o`\n",
    "각각의 모양(shape)은 어떻게 되는가?"
   ]
  },
  {
   "cell_type": "markdown",
   "metadata": {},
   "source": [
    "**문제 4**"
   ]
  },
  {
   "cell_type": "markdown",
   "metadata": {},
   "source": [
    "순전파에 의해 생성되는 출력값 2차원 어레이 `Y`의 모양(shape)은 어떻게 되는가?"
   ]
  },
  {
   "cell_type": "markdown",
   "metadata": {},
   "source": [
    "**문제 5**"
   ]
  },
  {
   "cell_type": "markdown",
   "metadata": {},
   "source": [
    "`X`로부터 `Y`를 생성하는 식을 작성하라.\n",
    "즉, `Y`를 `X`, `W_h`, `b_h`, `W_o`, `b_h`에 의존하는 함수로 구현한다."
   ]
  }
 ],
 "metadata": {
  "kernelspec": {
   "display_name": "Python 3 (ipykernel)",
   "language": "python",
   "name": "python3"
  },
  "language_info": {
   "codemirror_mode": {
    "name": "ipython",
    "version": 3
   },
   "file_extension": ".py",
   "mimetype": "text/x-python",
   "name": "python",
   "nbconvert_exporter": "python",
   "pygments_lexer": "ipython3",
   "version": "3.11.5"
  },
  "vscode": {
   "interpreter": {
    "hash": "916dbcbb3f70747c44a77c7bcd40155683ae19c65e1c03b4aa3499c5328201f1"
   }
  }
 },
 "nbformat": 4,
 "nbformat_minor": 2
}
