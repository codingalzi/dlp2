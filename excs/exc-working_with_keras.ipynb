{
 "cells": [
  {
   "cell_type": "markdown",
   "metadata": {},
   "source": [
    "# (실습) 케라스 모델 고급 활용법"
   ]
  },
  {
   "cell_type": "markdown",
   "metadata": {},
   "source": [
    "**참고**\n",
    "\n",
    "[케라스 모델 고급 활용법](https://codingalzi.github.io/dlp2/working_with_keras.html) 내용을 먼저 숙지해야 합니다."
   ]
  },
  {
   "cell_type": "markdown",
   "metadata": {},
   "source": [
    "## 모델 구성법"
   ]
  },
  {
   "cell_type": "markdown",
   "metadata": {},
   "source": [
    "**문제 1**"
   ]
  },
  {
   "cell_type": "markdown",
   "metadata": {},
   "source": [
    "[케라스의 `fashion_mnist` 데이터셋](https://keras.io/api/datasets/fashion_mnist/)을 \n",
    "이용한 다중 클래스 분류 모델을 `Sequential` 모델을 이용하여 \n",
    "지정한 후에 모델 훈련을 진행하라.\n",
    "단, 검증셋에 대한 정확도가 0.9 이상이어야 한다."
   ]
  },
  {
   "cell_type": "markdown",
   "metadata": {},
   "source": [
    "**문제 3**"
   ]
  },
  {
   "cell_type": "markdown",
   "metadata": {},
   "source": [
    "[케라스의 `fashion_mnist` 데이터셋](https://keras.io/api/datasets/fashion_mnist/)을 이용한 다중 클래스 분류 모델을 함수형 API 방식을 이용하여 \n",
    "지정한 후에 모델 훈련을 진행하라.\n",
    "단, 두 종류 이상의 평가지표를 사용해야 하며, 검증셋에 대한 정확도가 0.9 이상이어야 한다."
   ]
  },
  {
   "cell_type": "markdown",
   "metadata": {},
   "source": [
    "**문제 3**"
   ]
  },
  {
   "cell_type": "markdown",
   "metadata": {},
   "source": [
    "[케라스의 `fashion_mnist` 데이터셋](https://keras.io/api/datasets/fashion_mnist/)을 이용한 다중 클래스 분류 모델을 서브클래싱 방식을 이용하여 \n",
    "지정한 후에 모델 훈련을 진행하라.\n",
    "단, 두 종류 이상의 콜백 기능을 사용해야 하며, 검증셋에 대한 정확도가 0.9 이상이어야 한다."
   ]
  },
  {
   "cell_type": "markdown",
   "metadata": {},
   "source": [
    "**문제 4**"
   ]
  },
  {
   "cell_type": "markdown",
   "metadata": {},
   "source": [
    "아래 코드에 의해 정의되는 모델의 구조를 그래프를 이용하여 설명하라.\n",
    "또한 이런 모델을 사용해야 하는 경우와 이유를 예를 이용하여 설명하라."
   ]
  },
  {
   "cell_type": "markdown",
   "metadata": {},
   "source": [
    "**참고:** `tf.keras.layers.Normalization` 층은 입력값을 정규화 하는 데에 사용되며,\n",
    "훈련 시작 이전에 입력 데이터셋의 평균과 분산을 특성별로 계산하기 위해 `adapt()` 메서드를\n",
    "호출해야 한다. 보다 자세한 내용은 [텐서플로우 문서](https://www.tensorflow.org/api_docs/python/tf/keras/layers/Normalization)를 참고한다."
   ]
  },
  {
   "cell_type": "code",
   "execution_count": 1,
   "metadata": {},
   "outputs": [],
   "source": [
    "import tensorflow as tf\n",
    "\n",
    "normalization_layer = tf.keras.layers.Normalization()\n",
    "hidden_layer1 = tf.keras.layers.Dense(30, activation=\"relu\")\n",
    "hidden_layer2 = tf.keras.layers.Dense(30, activation=\"relu\")\n",
    "concat_layer = tf.keras.layers.Concatenate()\n",
    "output_layer = tf.keras.layers.Dense(1)\n",
    "\n",
    "input_ = tf.keras.layers.Input(shape=(3,))\n",
    "normalized = normalization_layer(input_)\n",
    "hidden1 = hidden_layer1(normalized)\n",
    "hidden2 = hidden_layer2(hidden1)\n",
    "concat = concat_layer([normalized, hidden2])\n",
    "output = output_layer(concat)\n",
    "\n",
    "model = tf.keras.Model(inputs=[input_], outputs=[output])"
   ]
  },
  {
   "cell_type": "markdown",
   "metadata": {},
   "source": [
    "**문제 5**"
   ]
  },
  {
   "cell_type": "markdown",
   "metadata": {},
   "source": [
    "아래 `summary()`의 결과를 설명하라.\n",
    "즉, 학습파라미터 수인 `Trainable params` 값과 \n",
    "비학습 파라미터 수인 `Non-trainable params` 값의 의미를 설명해야 한다.\n",
    "\n",
    "힌트: `Non-trainable params` 값은 `tf.keras.layers.Normalization` 층에 필요한 값이며\n",
    "모델 훈련중에 학습되는 값이 아니다.\n",
    "`Non-trainable params` 값이 7인 이유는 특성이 3종류인 데이터셋으로 훈련할 때\n",
    "세 개의 특성 각각에 대해 평균값과 분산이 필요하고, 이에 더해\n",
    "정규화 과정에 사용되는 하나의 작은값이 필요하다.\n",
    "따라서 총 7개의 비학습 파라미터가 사용된다."
   ]
  },
  {
   "cell_type": "code",
   "execution_count": 2,
   "metadata": {},
   "outputs": [
    {
     "name": "stdout",
     "output_type": "stream",
     "text": [
      "Model: \"model\"\n",
      "__________________________________________________________________________________________________\n",
      " Layer (type)                   Output Shape         Param #     Connected to                     \n",
      "==================================================================================================\n",
      " input_1 (InputLayer)           [(None, 3)]          0           []                               \n",
      "                                                                                                  \n",
      " normalization (Normalization)  (None, 3)            7           ['input_1[0][0]']                \n",
      "                                                                                                  \n",
      " dense (Dense)                  (None, 30)           120         ['normalization[0][0]']          \n",
      "                                                                                                  \n",
      " dense_1 (Dense)                (None, 30)           930         ['dense[0][0]']                  \n",
      "                                                                                                  \n",
      " concatenate (Concatenate)      (None, 33)           0           ['normalization[0][0]',          \n",
      "                                                                  'dense_1[0][0]']                \n",
      "                                                                                                  \n",
      " dense_2 (Dense)                (None, 1)            34          ['concatenate[0][0]']            \n",
      "                                                                                                  \n",
      "==================================================================================================\n",
      "Total params: 1,091\n",
      "Trainable params: 1,084\n",
      "Non-trainable params: 7\n",
      "__________________________________________________________________________________________________\n"
     ]
    }
   ],
   "source": [
    "model.summary()"
   ]
  },
  {
   "cell_type": "markdown",
   "metadata": {},
   "source": [
    "**문제 6**"
   ]
  },
  {
   "cell_type": "markdown",
   "metadata": {},
   "source": [
    "아래 코드에 의해 정의되는 모델의 구조를 그래프를 이용하여 설명하라.\n",
    "또한 이런 모델을 사용해야 하는 경우와 이유를 예를 이용하여 설명하라."
   ]
  },
  {
   "cell_type": "code",
   "execution_count": 4,
   "metadata": {},
   "outputs": [],
   "source": [
    "input_wide = tf.keras.layers.Input(shape=(5,))\n",
    "input_deep = tf.keras.layers.Input(shape=(6,))\n",
    "norm_layer_wide = tf.keras.layers.Normalization()\n",
    "norm_layer_deep = tf.keras.layers.Normalization()\n",
    "norm_wide = norm_layer_wide(input_wide)\n",
    "norm_deep = norm_layer_deep(input_deep)\n",
    "hidden1 = tf.keras.layers.Dense(30, activation=\"relu\")(norm_deep)\n",
    "hidden2 = tf.keras.layers.Dense(30, activation=\"relu\")(hidden1)\n",
    "concat = tf.keras.layers.concatenate([norm_wide, hidden2])\n",
    "output = tf.keras.layers.Dense(1)(concat)\n",
    "aux_output = tf.keras.layers.Dense(1)(hidden2)\n",
    "model = tf.keras.Model(inputs=[input_wide, input_deep],\n",
    "                       outputs=[output, aux_output])"
   ]
  },
  {
   "cell_type": "markdown",
   "metadata": {},
   "source": [
    "**문제 7**"
   ]
  },
  {
   "cell_type": "markdown",
   "metadata": {},
   "source": [
    "앞서 함수형 API로 정의한 모델을 서브클래싱 기법으로 정의하라."
   ]
  }
 ],
 "metadata": {
  "kernelspec": {
   "display_name": "Python 3 (ipykernel)",
   "language": "python",
   "name": "python3"
  },
  "language_info": {
   "codemirror_mode": {
    "name": "ipython",
    "version": 3
   },
   "file_extension": ".py",
   "mimetype": "text/x-python",
   "name": "python",
   "nbconvert_exporter": "python",
   "pygments_lexer": "ipython3",
   "version": "3.11.4"
  },
  "vscode": {
   "interpreter": {
    "hash": "33b995ba57ec8806df76ad412cbfca6e91844af7e84c0aab5f00a2382a2b11c8"
   }
  }
 },
 "nbformat": 4,
 "nbformat_minor": 2
}
