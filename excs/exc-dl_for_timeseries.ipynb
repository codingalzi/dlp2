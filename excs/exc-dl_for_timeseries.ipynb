{
 "cells": [
  {
   "attachments": {},
   "cell_type": "markdown",
   "metadata": {},
   "source": [
    "# (실습) 시계열 분석"
   ]
  },
  {
   "attachments": {},
   "cell_type": "markdown",
   "metadata": {},
   "source": [
    "## 예나 날씨 데이터 관련"
   ]
  },
  {
   "attachments": {},
   "cell_type": "markdown",
   "metadata": {},
   "source": [
    "**문제 1**"
   ]
  },
  {
   "attachments": {},
   "cell_type": "markdown",
   "metadata": {},
   "source": [
    "예나(Jena) 도시의 날씨 데이터를 활용하여 LSTM 또는 GRU 모델을 구현한 후\n",
    "성능을 최대한 끌어올리는 과정을 묘사하라.\n",
    "\n",
    "- 층의 유닛 개수 및 드랍아웃 비율 조정\n",
    "- RMSprop 등의 옵티마이저의 학습률 조정 및 다른 옵티마이저 활용\n",
    "- 순환층 이후에 여러 개의 밀집층 적용\n",
    "- 시퀀스 길이 조정, 샘플 선택 비율 조정 등 기타 특성 엔지니어링 시도.\n",
    "\n",
    "**힌트**: `recurrent_dropout` 옵션을 사용할 경우 `unroll=True` 옵션을 함께\n",
    "활용해야 GPU를 활용할 수 있다. \n",
    "하나의 시퀀스 길이가 100 이하로 지정되어야 함에 주의하라."
   ]
  },
  {
   "attachments": {},
   "cell_type": "markdown",
   "metadata": {},
   "source": [
    "## RNN 아키텍처 관련"
   ]
  },
  {
   "cell_type": "markdown",
   "metadata": {},
   "source": [
    "아래 질문에 대한 모범답안은 [핸즈온 머신러닝 15장 연습문제](https://github.com/ageron/handson-ml3/blob/main/15_processing_sequences_using_rnns_and_cnns.ipynb)를 참고한다."
   ]
  },
  {
   "attachments": {},
   "cell_type": "markdown",
   "metadata": {},
   "source": [
    "**문제 1**"
   ]
  },
  {
   "cell_type": "markdown",
   "metadata": {},
   "source": [
    "아래 질문에 예제를 들어 답하라."
   ]
  },
  {
   "attachments": {},
   "cell_type": "markdown",
   "metadata": {},
   "source": [
    "1. 시퀀스-투-시퀀스(sequence-to-sequence) RNN 아키텍처를 어느 경우에 활용할 수 있는가?\n",
    "1. 시퀀스-투-벡터(sequence-to-vector) RNN 아키텍처를 어느 경우에 활용할 수 있는가?\n",
    "1. 벡터-투-시퀀스(vector-to-sequence) RNN 아키텍처를 어느 경우에 활용할 수 있는가?"
   ]
  },
  {
   "attachments": {},
   "cell_type": "markdown",
   "metadata": {},
   "source": [
    "**문제 2**"
   ]
  },
  {
   "attachments": {},
   "cell_type": "markdown",
   "metadata": {},
   "source": [
    "RNN 층(layer)의 입력값과 출력값의 모양(shape)을 예를 들어 설명하라."
   ]
  },
  {
   "attachments": {},
   "cell_type": "markdown",
   "metadata": {},
   "source": [
    "**문제 3**"
   ]
  },
  {
   "attachments": {},
   "cell_type": "markdown",
   "metadata": {},
   "source": [
    "심층 시퀀스-투-시퀀스(sequence-to-sequence) 신경망 모델을 지정할 때,\n",
    "`return_sequences=True` 옵션을 어느 RNN 층에서 지정해야 하는가?\n",
    "시퀀스-투-벡터(sequence-to-vector) RNN 층의 경우는 어떻게 해야 하는가?"
   ]
  },
  {
   "attachments": {},
   "cell_type": "markdown",
   "metadata": {},
   "source": [
    "**문제 4**"
   ]
  },
  {
   "cell_type": "markdown",
   "metadata": {},
   "source": [
    "시계열 데이터처럼 하나의 특성만 갖는 데이터로 구성된 시계열 데이터를 **단변량 시계열 데이터**(univariate timeseries)라 한다.\n",
    "시간 단위로 측정된 온도로 구성된 단변량 시계열 데이터를 이용해서 일주일 뒤의 온도를 예측하려 할 때 RNN 신경망을\n",
    "어떤 아키텍처를 이용해서 구성하는 것이 좋은가?"
   ]
  },
  {
   "attachments": {},
   "cell_type": "markdown",
   "metadata": {},
   "source": [
    "**문제 5**"
   ]
  },
  {
   "cell_type": "markdown",
   "metadata": {},
   "source": [
    "RNN 모델을 훈련시킬 때 가장 어려운 점과 해결방법을 설명하라."
   ]
  },
  {
   "attachments": {},
   "cell_type": "markdown",
   "metadata": {},
   "source": [
    "**문제 5**"
   ]
  },
  {
   "cell_type": "markdown",
   "metadata": {},
   "source": [
    "LSTM 층의 순전파 과정을 설명하라."
   ]
  },
  {
   "attachments": {},
   "cell_type": "markdown",
   "metadata": {},
   "source": [
    "**문제 6**"
   ]
  },
  {
   "cell_type": "markdown",
   "metadata": {},
   "source": [
    "동영상 분류 모델의 훈련에 어떤 신경망 아키텍처를 사용하면 좋은지 설명하라."
   ]
  },
  {
   "attachments": {},
   "cell_type": "markdown",
   "metadata": {},
   "source": [
    "**문제 7**"
   ]
  },
  {
   "cell_type": "markdown",
   "metadata": {},
   "source": [
    "[바흐의 합창 모음집 데이터셋](https://homl.info/bach)을 다운로드해서 압축을 풀면 바흐(Bach)의 382개의 합창곡이 들어 있으며\n",
    "훈련셋, 검증셋, 테스트셋의 폴더로 구분돼 있다.\n",
    "\n",
    "- 훈련셋 크기: 229\n",
    "- 검증셋 크기: 76\n",
    "- 테스트셋 크기: 77\n",
    "\n",
    "각각의 합창곡은 100개에서 640개의 타임 스텝으로 구성되며, 하나의 타임 스텝은 네 개의 정수로 지정된 특성을 갖는다.\n",
    "0을 제외한 정수는 피아노 음표를 가리킨다. 0은 비어 있는 음표를 의미한다.\n",
    "\n",
    "RNN 또는 CNN 모델을 이용하여 네 개의 음표를 포함하는 다음 스텝을 예측하는 모델을 훈련시켜 보아라. \n",
    "이때 기존 음표의 시퀀스를 입력값으로 이용한다. \n",
    "\n",
    "또한 훈련된 모델을 이용하여 한 음씩 새로 생성하는 방식으로 바흐 스타일의 합창곡을 작곡해 보아라.\n",
    "이를 위해 새로 생성된 네 개의 음표를 새로운 입력값으로 사용하여 또다시 새로운 음표를 예측하는 방식을 활용할 수 있다.\n",
    "\n",
    "**참고:** [구글의 Coconet 모델](https://magenta.tensorflow.org/coconet)"
   ]
  }
 ],
 "metadata": {
  "accelerator": "GPU",
  "colab": {
   "collapsed_sections": [],
   "name": "dlp08_intro_to_dl_for_computer_vision",
   "provenance": []
  },
  "kernelspec": {
   "display_name": "base",
   "language": "python",
   "name": "python3"
  },
  "language_info": {
   "codemirror_mode": {
    "name": "ipython",
    "version": 3
   },
   "file_extension": ".py",
   "mimetype": "text/x-python",
   "name": "python",
   "nbconvert_exporter": "python",
   "pygments_lexer": "ipython3",
   "version": "3.9.12"
  },
  "vscode": {
   "interpreter": {
    "hash": "ad0f3c8a064f687cbf898a0868fd45ba1c7e928ac8a0404f7c241d812ddc1e76"
   }
  }
 },
 "nbformat": 4,
 "nbformat_minor": 1
}
