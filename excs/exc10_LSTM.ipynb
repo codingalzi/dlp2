{
 "cells": [
  {
   "cell_type": "markdown",
   "metadata": {},
   "source": [
    "# 연습문제: LSTM 모델 성능 향상시키기"
   ]
  },
  {
   "cell_type": "markdown",
   "metadata": {},
   "source": [
    "## 문제 1\n",
    "\n",
    "예나(Jena) 도시의 날씨 데이터를 활용하여 LSTM 또는 GRU 모델을 구현한 후\n",
    "성능을 최대한 끌어올리는 과정을 묘사하라.\n",
    "\n",
    "- 층의 유닛 개수 및 드랍아웃 비율 조정\n",
    "- RMSprop 등의 옵티마이저의 학습률 조정 및 다른 옵티마이저 활용\n",
    "- 순환층 이후에 여러 개의 밀집층 적용\n",
    "- 시퀀스 길이 조정, 샘플 선택 비율 조정 등 기타 특성 엔지니어링 시도.\n",
    "\n",
    "**참고**: [10장 시계열 데이터와 순환 신경망](https://codingalzi.github.io/dlp/notebooks/dlp10_dl_for_timeseries.html)\n",
    "\n",
    "**힌트**: `recurrent_dropout` 옵션을 사용할 경우 `unroll=True` 옵션을 함께\n",
    "활용해야 GPU를 활용할 수 있다. \n",
    "하나의 시퀀스 길이가 100 이하로 지정되어야 함에 주의하라."
   ]
  }
 ],
 "metadata": {
  "accelerator": "GPU",
  "colab": {
   "collapsed_sections": [],
   "name": "dlp08_intro_to_dl_for_computer_vision",
   "provenance": []
  },
  "kernelspec": {
   "display_name": "Python 3",
   "language": "python",
   "name": "python3"
  },
  "language_info": {
   "codemirror_mode": {
    "name": "ipython",
    "version": 3
   },
   "file_extension": ".py",
   "mimetype": "text/x-python",
   "name": "python",
   "nbconvert_exporter": "python",
   "pygments_lexer": "ipython3",
   "version": "3.8.8"
  }
 },
 "nbformat": 4,
 "nbformat_minor": 1
}
