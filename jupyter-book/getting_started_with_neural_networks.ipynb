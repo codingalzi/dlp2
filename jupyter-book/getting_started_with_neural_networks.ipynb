{
 "cells": [
  {
   "cell_type": "markdown",
   "metadata": {
    "colab_type": "text",
    "slideshow": {
     "slide_type": "slide"
    }
   },
   "source": [
    "(ch:getting_started_with_neural_networks)=\n",
    "# 신경망 활용 처음부터 끝까지: 분류와 회귀"
   ]
  },
  {
   "cell_type": "markdown",
   "metadata": {},
   "source": [
    "**감사의 글**\n",
    "\n",
    "아래 내용은 프랑소와 숄레의 \n",
    "[Deep Learning with Python(2판)](https://github.com/fchollet/deep-learning-with-python-notebooks)의 \n",
    "소스코드 내용을 참고해서 작성되었습니다.\n",
    "자료를 공개한 저자에게 진심어린 감사를 전합니다."
   ]
  },
  {
   "cell_type": "markdown",
   "metadata": {},
   "source": [
    "**소스코드**\n",
    "\n",
    "여기서 언급되는 코드를\n",
    "[(구글 코랩) 신경망 활용 처음부터 끝까지: 분류와 회귀](https://colab.research.google.com/github/codingalzi/dlp2/blob/master/notebooks/NB-getting_started_with_neural_networks.ipynb)에서 \n",
    "직접 실행할 수 있다."
   ]
  },
  {
   "cell_type": "markdown",
   "metadata": {
    "slideshow": {
     "slide_type": "slide"
    }
   },
   "source": [
    "**주요 내용**\n",
    "\n",
    "간단한 실전 예제을 이용하여 신경망 모델을 \n",
    "이진 분류, 다중 클래스 분류, 회귀 문제에 적용하는 방법을 소개한다.\n",
    "\n",
    "- 이진 분류: 영화 후기 분류\n",
    "- 다중 클래스 분류: 뉴스 기사 분류\n",
    "- 회귀: 주택 가격 예측\n",
    "\n",
    "이를 통해 데이터 전처리, 모델 구조 설계, 모델 평가의 딥러닝 모델 훈련의\n",
    "전체 과정을 자세히 살펴본다."
   ]
  },
  {
   "cell_type": "markdown",
   "metadata": {},
   "source": [
    "**머신러닝 주요 용어**\n",
    "\n",
    "아래 용어의 정의를 명확히 알아야 한다.\n",
    "\n",
    "| 한글 | 영어 | 뜻 |\n",
    "| :--- | :--- | :--- |\n",
    "| 샘플, 입력값 | sample, input | 모델 훈련에 사용되는 데이터 |\n",
    "| 예측값, 출력값 | prediction, output | 모델이 계산한 결과 |\n",
    "| 타깃 | target | 예측해야 하는 값 |\n",
    "| 예측 오류, 손실값, 비용 | prediction error, loss value | 타깃과 예측값 사이의 거리 측정값. 측정 방식에 의존함.|\n",
    "| 손실 함수, 비용 함수| loss function | 손실값(비용)을 계산하는 함수 |\n",
    "| 클래스 | class | 분류 문제에서 샘플이 속하는 범주 |\n",
    "| 레이블 | label | 분류 문제에서 타깃 대신 사용 |\n",
    "| 실제의/정답의 | ground-truth | 실제 조사 결과와 관련된 |\n",
    "| 이진 분류 | binary classification | 샘플을 두 개의 클래스로 분류. 양성/음성, 긍정/부정 등. |\n",
    "| 다중 클래스 분류 | multiclass classification | 샘플을 세 개 이상의 클래스로 분류. 손글씨 숫자 등. |\n",
    "| 다중 레이블 분류 | multilabel classification | 샘플에 두 종류 이상의 레이블을 지정하는 분류.사진 속 여러 마리 동물 등. |\n",
    "| 스칼라 회귀 | scalar regression | 샘플 별로 하나의 실숫값 예측하기. 주택 가격 예측 등. |\n",
    "| 벡터 회귀 | vector regression | 샘플 별로 두 개 이상의 실숫값 예측하기. 네모 상자의 좌표 등. |\n",
    "| 미니배치 | mini-batch | 보통 8개에서 128개의 샘플로 구성된 묶음(배치). 훈련 루프의 스텝 지정에 활용됨. |"
   ]
  },
  {
   "cell_type": "markdown",
   "metadata": {
    "colab_type": "text"
   },
   "source": [
    "## 영화 후기: 이진 분류"
   ]
  },
  {
   "cell_type": "markdown",
   "metadata": {},
   "source": [
    "영화 후기가 긍정적인지 부정적인지를 판단하는 이진 분류 모델을 구성한다."
   ]
  },
  {
   "cell_type": "markdown",
   "metadata": {
    "colab_type": "text"
   },
   "source": [
    "**IMDB 데이터셋**"
   ]
  },
  {
   "cell_type": "markdown",
   "metadata": {
    "colab_type": "text"
   },
   "source": [
    "긍정 후기와 부정 후기 각각 25,000개씩 총 50,000개의 영화 후기 샘플로 구성된 데이터셋이며,\n",
    "[IMDB(Internet Moview Database)](https://www.imdb.com/) 영화 후기 사이트에서\n",
    "추출된 데이터로 케라스가 자체적으로 제공한다. "
   ]
  },
  {
   "cell_type": "markdown",
   "metadata": {},
   "source": [
    "케라스의 `imdb` 모듈의 `load_data()` 함수로 데이터를 불러온다.\n",
    "데이터셋이 훈련셋과 테스트셋으로 이미 구분되어 있다.\n",
    "\n",
    "```python\n",
    "from tensorflow.keras.datasets import imdb\n",
    "(train_data, train_labels), (test_data, test_labels) = imdb.load_data(num_words=10000)\n",
    "```\n",
    "\n",
    "`num_words=10000` 키워드 인자는\n",
    "가장 많이 사용되는 10,000개의 단어로만 구성된 후기를 불러오도록 지정한다.\n",
    "10,000개의 단어에 포함되지 않는 단어는 무시한다.\n",
    "\n",
    "후기 전체에서 원래 총 88,585개의 단어가 최소 한 번 이상 사용되지만 가장 많이 사용되는\n",
    "10,000개 단어 이외는 사용 빈도가 너무 낮아서 클래스 분류에 거의 도움되지 않는다.\n",
    "따라서 그런 단어들은 무시하는 것이 좋다."
   ]
  },
  {
   "cell_type": "markdown",
   "metadata": {},
   "source": [
    "샘플들의 크기는 서로 다르다."
   ]
  },
  {
   "cell_type": "markdown",
   "metadata": {
    "colab_type": "code"
   },
   "source": [
    "```python\n",
    ">>> len(train_data[0])\n",
    "218\n",
    ">>> len(train_data[1])\n",
    "189\n",
    "```"
   ]
  },
  {
   "cell_type": "markdown",
   "metadata": {},
   "source": [
    "0번 샘플의 처음 10개 값은 다음과 같다."
   ]
  },
  {
   "cell_type": "markdown",
   "metadata": {
    "colab_type": "code"
   },
   "source": [
    "```python\n",
    ">>> train_data[0][:10]\n",
    "[1, 14, 22, 16, 43, 530, 973, 1622, 1385, 65]\n",
    "```"
   ]
  },
  {
   "cell_type": "markdown",
   "metadata": {},
   "source": [
    "각 샘플의 레이블은 0(부정) 또는 1(긍정)이다."
   ]
  },
  {
   "cell_type": "markdown",
   "metadata": {
    "colab_type": "code"
   },
   "source": [
    "```python\n",
    ">>> train_labels[0]\n",
    "1\n",
    ">>> test_labels[0]\n",
    "0\n",
    "```"
   ]
  },
  {
   "cell_type": "markdown",
   "metadata": {
    "colab_type": "text"
   },
   "source": [
    ":::{admonition} 영화 후기 내용\n",
    ":class: tip\n",
    "\n",
    "**모델 훈련을 위해 반드시 필요한 사항은 아니지만**\n",
    "정수와 단어 사이의 관계를 담은 사전을 이용하여\n",
    "원하면 후기 내용을 확인할 수 있다.\n",
    "\n",
    "```python\n",
    ">>> word_index = imdb.get_word_index()\n",
    "```\n",
    "\n",
    "`word_index`에 포함된 10개 항목을 확인하면 다음과 같다.\n",
    "\n",
    "```python\n",
    ">>> list(word_index.items()[:10]\n",
    "('fawn', 34701)\n",
    "('tsukino', 52006)\n",
    "('nunnery', 52007)\n",
    "('sonja', 16816)\n",
    "('vani', 63951)\n",
    "('woods', 1408)\n",
    "('spiders', 16115)\n",
    "('hanging', 2345)\n",
    "('woody', 2289)\n",
    "('trawling', 52008)\n",
    "```\n",
    "\n",
    "아래 코드는 첫째 후기의 내용을 확인한다.\n",
    "단어 인덱스에서 3을 빼야 함에 주의하라.\n",
    "이유는 인덱스 0, 1, 2는 각각 여백, 문장 시작, 불분명을 의미하기 때문이다.\n",
    "앞서 10,000개의 가장 많이 사용되는 단어만을 대상으로 하였기에\n",
    "그 이외의 단어는 모두 2로 처리된다.\n",
    "\n",
    "```python\n",
    ">>> reverse_word_index = dict([(value, key) for (key, value) in word_index.items()])\n",
    ">>> first_review = train_data[0]\n",
    ">>> decoded_review = \" \".join([reverse_word_index.get(i-3, \"?\") for i in first_review])\n",
    "```\n",
    "\n",
    "첫째 후기 내용은 다음과 같다.\n",
    "\n",
    "```python\n",
    ">>> decoded_review\n",
    "\"? this film was just brilliant casting location scenery story direction everyone's really suited the part they played and you could just imagine being there robert ? is an amazing actor and now the same being director ? father came from the same scottish island as myself so i loved the fact there was a real connection with this film the witty remarks throughout the film were great it was just brilliant so much that i bought the film as soon as it was released for ? and would recommend it to everyone to watch and the fly fishing was amazing really cried at the end it was so sad and you know what they say if you cry at a film it must have been good and this definitely was also ? to the two little boy's that played the ? of norman and paul they were just brilliant children are often left out of the ? list i think because the stars that play them all grown up are such a big profile for the whole film but these children are amazing and should be praised for what they have done don't you think the whole story was so lovely because it was true and was someone's life after all that was shared with us all\"\n",
    "```\n",
    ":::"
   ]
  },
  {
   "cell_type": "markdown",
   "metadata": {},
   "source": [
    "**데이터 전처리: 벡터화, 멀티-핫-인코딩**"
   ]
  },
  {
   "cell_type": "markdown",
   "metadata": {},
   "source": [
    "정수들의 리스트, 그것도 길이가 다른 여러 개의 리스트를 신경망의 입력값으로 사용할 수 없다. \n",
    "따라서 각 샘플을 지정된 크기의 1차원 어레이로 변환하는 \n",
    "**벡터화**<font size='2'>vectorization</font>를 먼저 실행해야 한다.\n",
    "\n",
    "그런데 서로 길이가 다른 정수들의 리스트의 길이를 통일시킨다 하더라도 \n",
    "정수들의 리스트를 직접 신경망 모델의 입력값으로 사용하는 일은 가급적 피한다.\n",
    "여기서는 대신에 **멀티-핫-인코딩**을 이용하여 정수들의 리스트를\n",
    "0과 1로만 이루어진 일정한 길이의 벡터(1차원 어레이)로 변환한다. "
   ]
  },
  {
   "cell_type": "markdown",
   "metadata": {},
   "source": [
    "후기 리스트에 사용된 숫자들은 0부터 9999 사이의 값이다.\n",
    "이 정보를 이용하여 후기 샘플을 길이가 10,000인 벡터(1차원 어레이)로 변환할 수 있다.\n",
    "\n",
    "- 어레이 길이: 10,000\n",
    "- 항목: 0 또는 1\n",
    "- 후기 샘플에 포함된 정수에 해당하는 인덱스의 항목만 1로 지정\n",
    "\n",
    "예를 들어, `[1, 18, 13]`은 길이가 10,000인 1차원 어레이(벡터)로 변환되는데\n",
    "1번, 18번, 13번 인덱스의 항목만 1이고 나머지는 0으로 채워진다.\n",
    "이러한 변환을 **멀티-핫-인코딩**<font size='2'>multi-hot-encoding</font>이라 부른다."
   ]
  },
  {
   "cell_type": "markdown",
   "metadata": {},
   "source": [
    "아래 `vectorize_sequences()` 함수는 앞서 설명한 멀티-핫-인코딩을 \n",
    "모든 주어진 샘플에 대해 실행하여 최종적으로\n",
    "데이터셋을 표현하는 넘파이 어레이를 반환한다.\n",
    "\n",
    "```python\n",
    "def vectorize_sequences(sequences, dimension=10000):\n",
    "    results = np.zeros((len(sequences), dimension))\n",
    "    \n",
    "    for i, sequence in enumerate(sequences):    # 모든 샘플에 대한 멀티-핫-인코딩\n",
    "        for j in sequence:\n",
    "            results[i, j] = 1.\n",
    "    return results\n",
    "```"
   ]
  },
  {
   "cell_type": "markdown",
   "metadata": {},
   "source": [
    ":::{prf:example} 훈련셋 벡터화\n",
    ":label: exp-vectorization\n",
    "\n",
    "이제 훈련셋와 테스트셋를 벡터화한다.\n",
    "자료형은 `float32`로 고정한다. 그렇지 않으면 `float64`로 지정되기에\n",
    "메모리 효율성을 떨어뜨린다.\n",
    "\n",
    "```python\n",
    ">>> x_train = vectorize_sequences(train_data).astype(\"float32\")\n",
    ">>> x_test = vectorize_sequences(test_data).astype(\"float32\")\n",
    "```\n",
    "\n",
    "첫째 훈련 샘플의 변환 결과는 다음과 같다.\n",
    "\n",
    "```python\n",
    ">>> x_train[0]\n",
    "array([0., 1., 1., ..., 0., 0., 0.], dtype=float32)\n",
    "```\n",
    "\n",
    "레이블 또한 정수 자료형에서 `float32` 자료형으로 변환해서 자료형을 일치시킨다.\n",
    "\n",
    "```python\n",
    ">>> y_train = np.asarray(train_labels).astype(\"float32\")\n",
    ">>> y_train\n",
    "array([1., 0., 0., ..., 0., 1., 0.], dtype=float32)\n",
    "```\n",
    ":::"
   ]
  },
  {
   "cell_type": "markdown",
   "metadata": {
    "colab_type": "text"
   },
   "source": [
    "**모델 구성**"
   ]
  },
  {
   "cell_type": "markdown",
   "metadata": {},
   "source": [
    "입력 샘플의 특성이 벡터(1차원 어레이)로 주어지고 \n",
    "레이블이 스칼라(하나의 숫자)로 주어졌을 때 \n",
    "밀집층<font size='2'>densely-connected layer</font>인 `Dense` 층을 이용하는\n",
    "`Sequential` 모델을 추천한다.\n",
    "이때 사용하는 활성화 함수는 일반적으로 다음과 같다.\n",
    "\n",
    "- 은닉층의 활성화 함수: 음수를 제거하는 `relu()` 함수\n",
    "- 이진 분류 모델의 최상위 층의 활성화 함수: 0과 1사이의 확률값을 계삲하는 `sigmoid()` 함수"
   ]
  },
  {
   "cell_type": "markdown",
   "metadata": {},
   "source": [
    "<div align=\"center\"><img src=\"https://raw.githubusercontent.com/codingalzi/dlp/master/slides/images/relu_sigmoid.png\" style=\"width:600px;\"></div>\n",
    "\n",
    "<p><div style=\"text-align: center\">&lt;그림 출처: <a href=\"https://www.manning.com/books/deep-learning-with-python-second-edition\">Deep Learning with Python(2판)</a>&gt;</div></p>"
   ]
  },
  {
   "cell_type": "markdown",
   "metadata": {},
   "source": [
    "`Dense` 층을 이용할 때의 핵심은 두 가지다.\n",
    "\n",
    "- 몇 개의 층을 사용하는가?\n",
    "- 각 층마다 몇 개의 유닛<font size='2'>unit</unit>을 사용하는가?\n",
    "\n",
    "위 두 질문에 대한 체계적인 답은\n",
    "{numref}`%s장 머신러닝 핵심 이슈<ch:fundamentals_of_ml>`에서 다룬다.\n",
    "여기서는 일단 아래 구성을 사용한다.\n",
    "\n",
    "- 두 개의 연속된 밀집층\n",
    "- 각각 16개의 유닛\n",
    "\n",
    "```python\n",
    "model = keras.Sequential([\n",
    "    layers.Dense(16, activation=\"relu\"),\n",
    "    layers.Dense(16, activation=\"relu\"),\n",
    "    layers.Dense(1, activation=\"sigmoid\")\n",
    "])\n",
    "```\n",
    "\n",
    "`Dense` 층의 유닛이 많을 수록 입력값에 내재된 보다 많은 특성을 찾아내어 보다 복잡한\n",
    "모델을 학습한다. 하지만 유닛수가 많을 수록 모델 훈련에 필요한 비용(시간과 메모리)이\n",
    "늘어난다."
   ]
  },
  {
   "cell_type": "markdown",
   "metadata": {},
   "source": [
    ":::{admonition} `relu()` 활성화 함수\n",
    ":class: hint\n",
    "\n",
    "마지막 층을 제외한 모든 층에서 `relu()` 활성화 함수를 사용한다.\n",
    "이유는 그렇게 하지 않으면 기본적으로 선형 분류 모델이 생성되기 때문이며\n",
    "비선형 분류 문제는 해결하지 못하기 때문이다.\n",
    "\n",
    "`relu()`, `prelu()`, `elu()`, `tanh()` 등 다양한 종류의 활성화 함수가 경우에 따라 사용된다.\n",
    "하지만 여기서는 기본적으로 `relu()`를 사용한다.\n",
    ":::"
   ]
  },
  {
   "cell_type": "markdown",
   "metadata": {},
   "source": [
    "위 모델을 시각화하면 다음과 같다."
   ]
  },
  {
   "cell_type": "markdown",
   "metadata": {},
   "source": [
    "<div align=\"center\"><img src=\"https://drek4537l1klr.cloudfront.net/chollet2/Figures/04-01.png\" style=\"width:200px;\"></div>\n",
    "\n",
    "<p><div style=\"text-align: center\">&lt;그림 출처: <a href=\"https://www.manning.com/books/deep-learning-with-python-second-edition\">Deep Learning with Python(2판)</a>&gt;</div></p>"
   ]
  },
  {
   "cell_type": "markdown",
   "metadata": {},
   "source": [
    ":::{admonition} 사이킷런의 로지스틱 회귀 모델\n",
    ":class: info\n",
    "\n",
    "이진 분류 모델의 최상위 층은 스칼라 값을 출력하도록 하나의 유닛을 사용하는 \n",
    "`Dense` 밀집층을 사용한다. \n",
    "또한 활성화 함수로 0과 1사이의 확률값을 계산하는 `sigmoid()`를 활성화 함수로 사용한다.\n",
    "그러면 [사이킷런의 로지스틱 회귀<font size='2'>logistic regression</font> 모델](https://scikit-learn.org/stable/modules/generated/sklearn.linear_model.LogisticRegression.html)처럼 작동한다.\n",
    ":::"
   ]
  },
  {
   "cell_type": "markdown",
   "metadata": {
    "colab_type": "text"
   },
   "source": [
    "**모델 컴파일**"
   ]
  },
  {
   "cell_type": "markdown",
   "metadata": {},
   "source": [
    "모델을 훈련시키기 전에 컴파일한다. \n",
    "사용되는 옵티마이저, 손실 함수, 평가지표는 다음과 같다.\n",
    "\n",
    "- `optimizer=\"rmsprop\"`: 일반적으로 추천되는 옵티마이저.\n",
    "- `loss=\"binary_crossentropy\"`: 이진 분류 모델에서 확률 결과에 대한 오차 계산 용도로 최선임. \n",
    "    로그 손실이라고도 불림.\n",
    "- `metrics=\"accuracy\"`: 정확도가 분류 모델의 기본적인 평가지표로 사용됨.\n",
    "\n",
    "```python\n",
    "model.compile(optimizer=\"rmsprop\",\n",
    "              loss=\"binary_crossentropy\",\n",
    "              metrics=[\"accuracy\"])\n",
    "```"
   ]
  },
  {
   "cell_type": "markdown",
   "metadata": {
    "colab_type": "text"
   },
   "source": [
    "**모델 훈련**"
   ]
  },
  {
   "cell_type": "markdown",
   "metadata": {},
   "source": [
    "훈련 중인 모델을 에포크마다 검증하기 위해 검증셋을 따로 지정한다.\n",
    "여기서는 10,000개의 샘플을 검증셋으로 활용한다."
   ]
  },
  {
   "cell_type": "markdown",
   "metadata": {
    "colab_type": "code"
   },
   "source": [
    "```python\n",
    "x_val = x_train[:10000]\n",
    "partial_x_train = x_train[10000:]\n",
    "y_val = y_train[:10000]\n",
    "partial_y_train = y_train[10000:]\n",
    "\n",
    "history = model.fit(partial_x_train,\n",
    "                    partial_y_train,\n",
    "                    epochs=20,\n",
    "                    batch_size=512,\n",
    "                    validation_data=(x_val, y_val))\n",
    "```"
   ]
  },
  {
   "cell_type": "markdown",
   "metadata": {},
   "source": [
    "**`History` 객체 활용**"
   ]
  },
  {
   "cell_type": "markdown",
   "metadata": {},
   "source": [
    "`fit()` 메서드가 반환하는 객체는 `Callback` 클래스를 상속하는\n",
    "`History` 클래스의 객체이며 모델 훈련과정 중에 계산되는 다양한 정보를 저장한다.\n",
    "콜백(`Callback`) 클래스에 대해서는 {numref}`%s장 <ch:working_with_keras>`에서 자세히 살펴본다."
   ]
  },
  {
   "cell_type": "markdown",
   "metadata": {},
   "source": [
    "`History` 객체의 속성 중에서 `history` 속성이 가장 많이 활용된다.\n",
    "`history` 속성은 훈련중 에포크 단위로 측정된 손실값과 평가지표를 사전으로 저장한다.\n",
    "\n",
    "```python\n",
    ">>> history_dict = history.history\n",
    ">>> history_dict.keys()\n",
    "dict_keys(['loss', 'accuracy', 'val_loss', 'val_accuracy'])\n",
    "```"
   ]
  },
  {
   "cell_type": "markdown",
   "metadata": {},
   "source": [
    "예를 들어, `history` 속성에 저장된 정보를 이용하여 \n",
    "훈련셋과 검증셋에 대한 에포크별 손실값과 정확도의 변화를 그래프로 그릴 수 있다."
   ]
  },
  {
   "cell_type": "markdown",
   "metadata": {},
   "source": [
    "*손실값의 변화*"
   ]
  },
  {
   "cell_type": "markdown",
   "metadata": {},
   "source": [
    "훈련셋와 검증 세트에 대한 에포크별 손실값의 변화를 보면\n",
    "훈련셋에 대해서는 손실값이 계속 감소하지만 \n",
    "검증셋에 대해서는 9번째 에포크 전후 정체하다가 상승한다."
   ]
  },
  {
   "cell_type": "markdown",
   "metadata": {},
   "source": [
    "<div align=\"center\"><img src=\"https://drek4537l1klr.cloudfront.net/chollet2/Figures/04-04.png\" style=\"width:500px;\"></div>\n",
    "\n",
    "<p><div style=\"text-align: center\">&lt;그림 출처: <a href=\"https://www.manning.com/books/deep-learning-with-python-second-edition\">Deep Learning with Python(2판)</a>&gt;</div></p>"
   ]
  },
  {
   "cell_type": "markdown",
   "metadata": {},
   "source": [
    "*정확도의 변화*"
   ]
  },
  {
   "cell_type": "markdown",
   "metadata": {},
   "source": [
    "훈련셋과 검증셋에 대한 에포크별 정확도의 경우엔\n",
    "훈련셋에 대해서는 정확도 계속 증가한다.\n",
    "반면에 검증셋에 대해서는 역시 9번째 에포크 전후 정체하다가 감소한다."
   ]
  },
  {
   "cell_type": "markdown",
   "metadata": {},
   "source": [
    "<div align=\"center\"><img src=\"https://drek4537l1klr.cloudfront.net/chollet2/Figures/04-05.png\" style=\"width:500px;\"></div>\n",
    "\n",
    "<p><div style=\"text-align: center\">&lt;그림 출처: <a href=\"https://www.manning.com/books/deep-learning-with-python-second-edition\">Deep Learning with Python(2판)</a>&gt;</div></p>"
   ]
  },
  {
   "cell_type": "markdown",
   "metadata": {},
   "source": [
    "**과대적합**"
   ]
  },
  {
   "cell_type": "markdown",
   "metadata": {},
   "source": [
    "과대적합<font size='2'>overfitting</font>은 모델이 훈련셋에 익숙해진다는 의미이다.\n",
    "반면에 처음 보는 데이터에 대해서는 성능이 떨어진다.\n",
    "에포크가 진행될 수록 훈련셋에 대한 성능은 계속해서 좋아지지만\n",
    "검증셋에 대한 성능이 4번째 에포크 이후에 오히려 나빠진다."
   ]
  },
  {
   "cell_type": "markdown",
   "metadata": {
    "colab_type": "text"
   },
   "source": [
    "**모델 재훈련**"
   ]
  },
  {
   "cell_type": "markdown",
   "metadata": {},
   "source": [
    "과대적합을 방지하기 위한 다양한 기법은 \n",
    "{numref}`%s장 <ch:fundamentals_of_ml>`에서 다룬다.\n",
    "위 문제의 경우 4번의 에포크만 훈련 반복을 진행하면 된다.\n",
    "\n",
    "모델 구성부터, 컴파일, 훈련을 모두 다시 시작해야 \n",
    "가중치와 편향이 초기화된 상태서 훈련을 시작한다.\n",
    "\n",
    "```python\n",
    "model = keras.Sequential([\n",
    "    layers.Dense(16, activation=\"relu\"),\n",
    "    layers.Dense(16, activation=\"relu\"),\n",
    "    layers.Dense(1, activation=\"sigmoid\")\n",
    "])\n",
    "model.compile(optimizer=\"rmsprop\",\n",
    "              loss=\"binary_crossentropy\",\n",
    "              metrics=[\"accuracy\"])\n",
    "model.fit(x_train, y_train, epochs=4, batch_size=512)\n",
    "```"
   ]
  },
  {
   "cell_type": "markdown",
   "metadata": {},
   "source": [
    "테스트셋에 대한 성능은 아래와 같이 88% 정도의 정확도를 보인다. 모델의 손실값은 0.31 정도.\n",
    "앞으로 보다 좋은 성능의 모델을 살펴볼 것이며, 현존하는 가장 좋은 모델의 정확도는 95% 정도이다.\n",
    "\n",
    "```python\n",
    ">>> results = model.evaluate(x_test, y_test)\n",
    ">>> results\n",
    "[0.3139097988605499, 0.8770800232887268]\n",
    "```"
   ]
  },
  {
   "cell_type": "markdown",
   "metadata": {
    "colab_type": "text"
   },
   "source": [
    "**모델 활용**"
   ]
  },
  {
   "cell_type": "markdown",
   "metadata": {
    "colab_type": "text"
   },
   "source": [
    "훈련된 모델을 활용하려면 `predict()` 메서드를 이용한다.\n",
    "큰 데이터셋에 대해 미니배치 단위로 예측할 수 있다. \n",
    "\n",
    "- 0,99 이상 또는 0.01 이하의 경우: 매우 확실한 예측\n",
    "- 0.4 ~ 0.6: 불확실한 예측\n",
    "\n",
    "```python\n",
    ">>> model.predict(x_test, batch_size=512)\n",
    "array([[0.25440323],\n",
    "       [0.9999424 ],\n",
    "       [0.95840394],\n",
    "       ...,\n",
    "       [0.17153329],\n",
    "       [0.10725482],\n",
    "       [0.6672551 ]], dtype=float32)\n",
    "```"
   ]
  },
  {
   "cell_type": "markdown",
   "metadata": {
    "colab_type": "text"
   },
   "source": [
    "## 뉴스 기사: 다중 클래스 분류"
   ]
  },
  {
   "cell_type": "markdown",
   "metadata": {
    "colab_type": "text"
   },
   "source": [
    "**로이터 데이터셋**"
   ]
  },
  {
   "cell_type": "markdown",
   "metadata": {},
   "source": [
    "로이터<font size='2'>Reuter</font> 통신사가 1986년에 작성한 짧은 기사 모음집이다.\n",
    "총 11,228개의 기사로 구성되었으며 훈련셋과 테스트셋으로 이미 구분되어 있다.\n",
    "\n",
    "- 훈련셋 크기: 8,982\n",
    "- 테스트셋 크기: 2,246\n",
    "\n",
    "기사의 주제는 46개로 구분되며, 각각의 기사에 하나의 주제가 할당되어 있다.\n",
    "여기서 훈련시키는 모델은 기사별로 46개 중의 하나의 주제를 예측해는\n",
    "분류 모델이며, 클래스가 3개 이상이기에 \n",
    "**다중 클래스 분류**<font size='2'>multiclass classification</font> 모델이라 부른다."
   ]
  },
  {
   "cell_type": "markdown",
   "metadata": {},
   "source": [
    "케라스의 `reuters` 모듈의 `load_data()` 함수로 데이터셋을 불러올 수 있다.\n",
    "영화 후기의 경우처럼 사용 빈도가 상위 10,000등 이내의 단어만 사용하도록 한다.\n",
    "\n",
    "```python\n",
    "from tensorflow.keras.datasets import reuters\n",
    "(train_data, train_labels), (test_data, test_labels) = reuters.load_data(num_words=10000)\n",
    "```"
   ]
  },
  {
   "cell_type": "markdown",
   "metadata": {},
   "source": [
    "각 샘플은 정수들의 리스트이다.\n",
    "\n",
    "```python\n",
    ">>> train_data[10]\n",
    "[1, 245, 273, 207, 156, 53, 74, 160, 26, 14, 46, 296, 26, 39, 74, 2979,\n",
    "3554, 14, 46, 4689, 4329, 86, 61, 3499, 4795, 14, 61, 451, 4329, 17, 12]\n",
    "```"
   ]
  },
  {
   "cell_type": "markdown",
   "metadata": {},
   "source": [
    "각 샘플에 대한 레이블은 0부터 45까지의 정수로 표현된다.\n",
    "예를 들어, 10번 기사의 주제는 3이다. \n",
    "\n",
    "```python\n",
    ">>> train_labels[10]\n",
    "3\n",
    "```"
   ]
  },
  {
   "cell_type": "markdown",
   "metadata": {},
   "source": [
    ":::{admonition} 로이터 기사 주제\n",
    ":class: tip\n",
    "\n",
    "기사 주제 3은 'earn'(수익)과 연관된다.\n",
    "언급된 46개의 주제와 번호 사이의 관계는\n",
    "[GitHub: Where can I find topics of reuters dataset #12072](https://github.com/keras-team/keras/issues/12072)에서 확인할 수 있다.\n",
    "\n",
    "```\n",
    "{'cocoa': 0,\n",
    "'grain': 1,\n",
    "'veg-oil': 2,\n",
    "'earn': 3,\n",
    "'acq': 4,\n",
    "'wheat': 5,\n",
    "'copper': 6,\n",
    "'housing': 7,\n",
    "'money-supply': 8,\n",
    "'coffee': 9,\n",
    "'sugar': 10,\n",
    "'trade': 11,\n",
    "'reserves': 12,\n",
    "'ship': 13,\n",
    "'cotton': 14,\n",
    "'carcass': 15,\n",
    "'crude': 16,\n",
    "'nat-gas': 17,\n",
    "'cpi': 18,\n",
    "'money-fx': 19,\n",
    "'interest': 20,\n",
    "'gnp': 21,\n",
    "'meal-feed': 22,\n",
    "'alum': 23,\n",
    "'oilseed': 24,\n",
    "'gold': 25,\n",
    "'tin': 26,\n",
    "'strategic-metal': 27,\n",
    "'livestock': 28,\n",
    "'retail': 29,\n",
    "'ipi': 30,\n",
    "'iron-steel': 31,\n",
    "'rubber': 32,\n",
    "'heat': 33,\n",
    "'jobs': 34,\n",
    "'lei': 35,\n",
    "'bop': 36,\n",
    "'zinc': 37,\n",
    "'orange': 38,\n",
    "'pet-chem': 39,\n",
    "'dlr': 40,\n",
    "'gas': 41,\n",
    "'silver': 42,\n",
    "'wpi': 43,\n",
    "'hog': 44,\n",
    "'lead': 45}\n",
    "```\n",
    "\n",
    "실제로 10번 기사 내용을 확인해보면 'earn'과 관련되어 있어 보인다.\n",
    "데이터를 해독(decoding)하는 방법은 IMDB 데이터셋의 경우와 동일하다.\n",
    "\n",
    "```python\n",
    ">>> word_index = reuters.get_word_index()\n",
    ">>> reverse_word_index = dict([(value, key) for (key, value) in word_index.items()])\n",
    ">>> decoded_newswire = \" \".join([reverse_word_index.get(i - 3, \"?\") for i in train_data[10]])\n",
    ">>> decoded_newswire\n",
    "'? period ended december 31 shr profit 11 cts vs loss 24 cts net profit 224 271 vs loss 511 349 revs 7 258 688 vs 7 200 349 reuter 3'\n",
    "```\n",
    ":::"
   ]
  },
  {
   "cell_type": "markdown",
   "metadata": {
    "colab_type": "text"
   },
   "source": [
    "**데이터 전처리**"
   ]
  },
  {
   "cell_type": "markdown",
   "metadata": {},
   "source": [
    "*입력 데이터셋 벡터화: 멀티-핫-인코딩*"
   ]
  },
  {
   "cell_type": "markdown",
   "metadata": {
    "colab_type": "text"
   },
   "source": [
    "IMDB의 경우와 동일하게 모든 샘플을 길이가 10,000인 벡터로 변환한다.\n",
    "\n",
    "```python\n",
    ">>> x_train = vectorize_sequences(train_data)\n",
    ">>> x_test = vectorize_sequences(test_data)\n",
    "```"
   ]
  },
  {
   "cell_type": "markdown",
   "metadata": {
    "colab_type": "text"
   },
   "source": [
    "*레이블 데이터셋 벡터화: 원-핫-인코딩*"
   ]
  },
  {
   "cell_type": "markdown",
   "metadata": {},
   "source": [
    "레이블은 0부터 45 사이의 값이다.\n",
    "이런 경우 정수로 구성된 텐서를 사용하기 보다는\n",
    "**원-핫-인코딩**<font size='2'>one-hot-encoding</font>\n",
    "기법을 적용하는 게 좋다.\n",
    "\n",
    "원-핫-인코딩은 멀티-핫-인코딩 기법과 유사하다.\n",
    "원-핫-인코딩으로 생성된 텐서는 한 곳만을 제외한 모든 항목이 0이다.\n",
    "예를 들어, 정수 3은 길이가 46인 벡터로 변환되는데\n",
    "3번 인덱스에서만 1이고 나머지 항목은 모두 0이다.\n",
    "\n",
    "아래 함수는 정수들의 어레이로 주어진 레이블 데이터셋을\n",
    "원-핫-인코딩된 원-핫-벡터로 구성된 2차원 텐서로 변환한다.\n",
    "각 원-핫-벡터의 길이(차원)는 46이다.\n",
    "\n",
    "```python\n",
    "def to_one_hot(labels, dimension=46):\n",
    "    results = np.zeros((len(labels), dimension))\n",
    "    for i, label in enumerate(labels):\n",
    "        results[i, label] = 1.\n",
    "    return results\n",
    "```"
   ]
  },
  {
   "cell_type": "markdown",
   "metadata": {},
   "source": [
    "*`to_categorical()` 함수*"
   ]
  },
  {
   "cell_type": "markdown",
   "metadata": {},
   "source": [
    "케라스의 `to_categorical()` 함수가 원-핫-인코딩을 지원한다.\n",
    "원-핫-벡터의 길이는 사용된 레이블의 최댓값에 1을 더한 값이다.\n",
    "\n",
    "```python\n",
    ">>> from tensorflow.keras.utils import to_categorical\n",
    ">>> y_train = to_categorical(train_labels)\n",
    ">>> y_test = to_categorical(test_labels)\n",
    ">>> y_train[0]\n",
    "array([0., 0., 0., 1., 0., 0., 0., 0., 0., 0., 0., 0., 0., 0., 0., 0., 0.,\n",
    "       0., 0., 0., 0., 0., 0., 0., 0., 0., 0., 0., 0., 0., 0., 0., 0., 0.,\n",
    "       0., 0., 0., 0., 0., 0., 0., 0., 0., 0., 0., 0.], dtype=float32)\n",
    "```"
   ]
  },
  {
   "cell_type": "markdown",
   "metadata": {},
   "source": [
    ":::{admonition} `CategoryEncoding` 층\n",
    ":class: info\n",
    "\n",
    "원-핫-인코딩, 멀티-핫-인코딩 등 정수를 사용하는 데이터를 범주형 데이터로 변환하는 \n",
    "전처리 과정을 지원하는 층<font size='2'>layer</font>이 있다.\n",
    "예를 들어 [tf.keras.layers.CategoryEncoding](https://keras.io/api/layers/preprocessing_layers/categorical/category_encoding/)은 \n",
    "원-핫-인코딩과 멀티-핫-인코딩을 지원한다.\n",
    ":::"
   ]
  },
  {
   "cell_type": "markdown",
   "metadata": {
    "colab_type": "text"
   },
   "source": [
    "**모델 구성**"
   ]
  },
  {
   "cell_type": "markdown",
   "metadata": {
    "colab_type": "text"
   },
   "source": [
    "IMDB 데이터셋의 경우와는 달리 3 개 이상의 클래스로 분류하는 \n",
    "**다중 클래스 분류** 모델의 최종 층은 \n",
    "분류해야 하는 클래스의 수 만큼의 유닛과 함께\n",
    "각 클래스에 속할 확률을 계산하는 \n",
    "`softmax` 활성화 함수를 이용한다."
   ]
  },
  {
   "cell_type": "markdown",
   "metadata": {
    "colab_type": "text"
   },
   "source": [
    ":::{admonition} softmax 활성화 함수\n",
    ":class: info\n",
    "\n",
    "여기서 사용하는 모델의 마지막 층은 46개의 유닛을 사용하며,\n",
    "46개 클래스 각각에 속할 확률이 유닛별로 계산되어야 한다.\n",
    "`softmax()` 활성화 함수는 유닛별로 아핀변환된 값들을 종합하여\n",
    "최종적으로 각 유닛이 대변하는 클래스에 속할 확률을 계산한다.\n",
    "클래스별 확률을 합치면 1이 되며, 가장 높은 확률을 갖는 클래스를 \n",
    "모델의 최종 예측값으로 사용한다.\n",
    ":::"
   ]
  },
  {
   "cell_type": "markdown",
   "metadata": {
    "colab_type": "text"
   },
   "source": [
    "마지막 층을 제외한 나머지 층은 긍정/부정의 이진 분류 모델 보다 훨씬 많은 64개의 \n",
    "유닛을 사용하도록 한다.\n",
    "이유는 이진 분류보다 훨씬 많은 46개의 클래스로 분류하려면\n",
    "보다 많은 정보를 각 층에서 다룰 수 있어야 하기 때문이다.\n",
    "층에 사용되는 유닛이 많을 수록 보다 많은 정보를 계산한다.\n",
    "\n",
    "```python\n",
    "model = keras.Sequential([\n",
    "    layers.Dense(64, activation=\"relu\"),\n",
    "    layers.Dense(64, activation=\"relu\"),\n",
    "    layers.Dense(46, activation=\"softmax\")\n",
    "])\n",
    "```"
   ]
  },
  {
   "cell_type": "markdown",
   "metadata": {},
   "source": [
    ":::{admonition} 정보 병목현상\n",
    ":class: tip\n",
    "\n",
    "층에 사용되는 유닛의 수를 지정할 때 병목현상이 발생하지 않도록 조심해야 한다.\n",
    "각 층은 이전 층에서 넘겨진 값만 활용할 수 있기에 이전 층이 너무 적은 수의 유닛을\n",
    "사용하면 그만큼 전달되는 정보의 양도 적다.\n",
    "따라서 아무리 많은 유닛을 사용하더라도 새로운 정보를 생성하기는 어렵다.\n",
    "이를 정보 병목현상이라 부르며 이런 일이 발생하지 않도록\n",
    "층을 구성해야 한다.\n",
    "앞으로 다양한 모델을 통해 다양한 방식의 구조의 층을 살펴볼 것이다.\n",
    ":::"
   ]
  },
  {
   "cell_type": "markdown",
   "metadata": {},
   "source": [
    ":::{admonition} 사이킷런의 소프트맥스 회귀 모델\n",
    ":class: info\n",
    "\n",
    "다중 클래스 분류 모델의 최상위 층은 클래스 수 만큼의 값으로 구성된 벡터를 출력하도록 \n",
    "여러 개의 유닛을 사용하는 `Dense` 밀집층을 사용한다. \n",
    "또한 활성화 함수로 모든 유닛에 대한 확률값의 합이 1이 되도록 하는 `softmax()`를 활성화 함수로 사용한다.\n",
    "그러면 [사이킷런의 로지스틱 회귀<font size='2'>logistic regression</font> 모델](https://scikit-learn.org/stable/modules/generated/sklearn.linear_model.LogisticRegression.html)에서\n",
    "`multi_class='multinomial'` 옵션이 사용되는 경우처럼 작동한다.\n",
    ":::"
   ]
  },
  {
   "cell_type": "markdown",
   "metadata": {
    "colab_type": "text"
   },
   "source": [
    "**모델 컴파일**"
   ]
  },
  {
   "cell_type": "markdown",
   "metadata": {
    "colab_type": "text"
   },
   "source": [
    "다중 클래스 분류 모델의 손실함수는 `categorical_crossentropy`을 사용한다. \n",
    "`categorical_crossentropy`는 클래스의 실제 분포와 예측 클래스의 분포 사이의 \n",
    "오차를 측정하며, 보다 자세한 설명은\n",
    "[핸즈온 머신러닝(3판)의 소프트맥스 회귀의 비용 함수](https://codingalzi.github.io/handson-ml3/training_models.html#sec-softmax-regression)를 참고한다.\n",
    "\n",
    "```python\n",
    "model.compile(optimizer=\"rmsprop\",\n",
    "              loss=\"categorical_crossentropy\",\n",
    "              metrics=[\"accuracy\"])\n",
    "```"
   ]
  },
  {
   "cell_type": "markdown",
   "metadata": {
    "colab_type": "text"
   },
   "source": [
    ":::{admonition} 정수 레이블과 sparse_categorical_crossentropy\n",
    ":class: hint\n",
    "\n",
    "클래스 수가 많을 경우 정수 레이블을 사용하는 게 메모리 효율적이다.\n",
    "그런데 정수 텐서 레이블(타깃)을 이용하여 훈련하려면 모델을 컴파일할 때 손실함수로 \n",
    "`sparse_categorical_crossentropy`를 사용해야 한다.\n",
    "\n",
    "```python\n",
    "y_train = np.array(train_labels)\n",
    "y_test = np.array(test_labels)\n",
    "\n",
    "model.compile(optimizer=\"rmsprop\",\n",
    "              loss=\"sparse_categorical_crossentropy\",\n",
    "              metrics=[\"accuracy\"])\n",
    "```\n",
    ":::"
   ]
  },
  {
   "cell_type": "markdown",
   "metadata": {
    "colab_type": "text"
   },
   "source": [
    "**모델 훈련**"
   ]
  },
  {
   "cell_type": "markdown",
   "metadata": {
    "colab_type": "text"
   },
   "source": [
    "훈련 방식은 영화 후기 이진 분류 모델의 경우와 동일하다.\n",
    "다만 검증셋의 크기를 1,000으로 정한다.\n",
    "\n",
    "```python\n",
    "x_val = x_train[:1000]\n",
    "partial_x_train = x_train[1000:]\n",
    "y_val = y_train[:1000]\n",
    "partial_y_train = y_train[1000:]\n",
    "\n",
    "history = model.fit(partial_x_train,\n",
    "                    partial_y_train,\n",
    "                    epochs=20,\n",
    "                    batch_size=512,\n",
    "                    validation_data=(x_val, y_val))\n",
    "```"
   ]
  },
  {
   "cell_type": "markdown",
   "metadata": {
    "colab_type": "text"
   },
   "source": [
    "**`History` 객체 활용**"
   ]
  },
  {
   "cell_type": "markdown",
   "metadata": {},
   "source": [
    "이번엔 9번째 에포크 이후에 과대적합이 발생한다."
   ]
  },
  {
   "cell_type": "markdown",
   "metadata": {},
   "source": [
    "*손실값의 변화*"
   ]
  },
  {
   "cell_type": "markdown",
   "metadata": {},
   "source": [
    "<div align=\"center\"><img src=\"https://drek4537l1klr.cloudfront.net/chollet2/Figures/04-06.png\" style=\"width:500px;\"></div>\n",
    "\n",
    "<p><div style=\"text-align: center\">&lt;그림 출처: <a href=\"https://www.manning.com/books/deep-learning-with-python-second-edition\">Deep Learning with Python(2판)</a>&gt;</div></p>"
   ]
  },
  {
   "cell_type": "markdown",
   "metadata": {
    "colab_type": "text"
   },
   "source": [
    "*정확도의 변화*"
   ]
  },
  {
   "cell_type": "markdown",
   "metadata": {},
   "source": [
    "<div align=\"center\"><img src=\"https://drek4537l1klr.cloudfront.net/chollet2/Figures/04-07.png\" style=\"width:500px;\"></div>\n",
    "\n",
    "<p><div style=\"text-align: center\">&lt;그림 출처: <a href=\"https://www.manning.com/books/deep-learning-with-python-second-edition\">Deep Learning with Python(2판)</a>&gt;</div></p>"
   ]
  },
  {
   "cell_type": "markdown",
   "metadata": {
    "colab_type": "text"
   },
   "source": [
    "**모델 재훈련**"
   ]
  },
  {
   "cell_type": "markdown",
   "metadata": {
    "colab_type": "text"
   },
   "source": [
    "9번 에포크를 지나면서 과대적합이 발생하기에\n",
    "에포크 수를 9로 줄이고 처음부터 다시 훈련시킨다.\n",
    "모델 구성부터, 컴파일, 훈련을 모두 다시 시작해야 \n",
    "가중치와 편향이 초기화된 상태서 훈련을 시작한다.\n",
    "\n",
    "```python\n",
    "model = keras.Sequential([\n",
    "    layers.Dense(64, activation=\"relu\"),\n",
    "    layers.Dense(64, activation=\"relu\"),\n",
    "    layers.Dense(46, activation=\"softmax\")\n",
    "])\n",
    "model.compile(optimizer=\"rmsprop\",\n",
    "              loss=\"categorical_crossentropy\",\n",
    "              metrics=[\"accuracy\"])\n",
    "model.fit(x_train,\n",
    "          y_train,\n",
    "          epochs=9,\n",
    "          batch_size=512)\n",
    "```"
   ]
  },
  {
   "cell_type": "markdown",
   "metadata": {},
   "source": [
    "테스트셋에 대한 성능은 아래와 같이 80% 정도의 정확도를 보인다.\n",
    "모델의 손실값은 0.96 정도.\n",
    "\n",
    "```python\n",
    ">>> results = model.evaluate(x_test, y_test)\n",
    ">>> results\n",
    "[0.9565213431445807, 0.79697239536954589]\n",
    "```"
   ]
  },
  {
   "cell_type": "markdown",
   "metadata": {},
   "source": [
    "80%의 정확도가 얼마나 좋은지/나쁜지를 판단하려면 무작위로 찍을 때의 정확도를 계산해봐야 한다.\n",
    "실제로 로이터 데이터셋을 이용하여 무작위로 찍을 때의 정확도는 19% 정도 나온다.\n",
    "따라서 80% 정도의 정확도는 상당히 좋은 편이다."
   ]
  },
  {
   "cell_type": "markdown",
   "metadata": {
    "colab_type": "text"
   },
   "source": [
    "**모델 활용**"
   ]
  },
  {
   "cell_type": "markdown",
   "metadata": {},
   "source": [
    "훈련된 모델의 `predict()` 메서드는 각 입력 샘플에 대해\n",
    "마지막 층에 사용된 유닛의 개수 만큼의 길이로 구성된 벡터 텐서를 반환한다.\n",
    "따라서 여기서는 46개 클래스에 솏할 확률로 구성된 길이가 46인 벡터 텐서가 반환되며\n",
    "각 확률값의 합은 1이다.\n",
    "이중에 가장 높은 확률값이 위치한 위치가 모델의 최종 예측값으로 사용된다.\n",
    "\n",
    "예를 들어, 테스트셋의 첫째 샘플에 대한 예측값은 4다.\n",
    "\n",
    "```python\n",
    ">>> predictions = model.predict(x_test)\n",
    ">>> predictions[0].shape\n",
    "(46,)\n",
    ">>> np.sum(predictions[0])\n",
    "1.0\n",
    ">>> np.argmax(predictions[0])\n",
    "4\n",
    "```"
   ]
  },
  {
   "cell_type": "markdown",
   "metadata": {
    "colab_type": "text"
   },
   "source": [
    "## 주택가격 예측: 회귀"
   ]
  },
  {
   "cell_type": "markdown",
   "metadata": {},
   "source": [
    "이진 분류, 다중 클래스 분류 모델은 지정된 숫자들로 이루어진 특정 클래스의 번호 하나를 예측한다.\n",
    "반면에 임의의 수를 예측하는 문제는 **회귀**(regression)이라 부른다. \n",
    "예를 들어 온도 예측, 가격 예측 등을 다루는 것이 회귀 문제이다. \n",
    "여기서는 보스턴 시의 주택가격을 예측하는 회귀 문제를 예제로 다룬다.\n",
    "\n",
    "**주의사항**: '로지스틱 회귀'(logistic regression) 알고리즘는 분류 모델임에 주의하라."
   ]
  },
  {
   "cell_type": "markdown",
   "metadata": {
    "colab_type": "text"
   },
   "source": [
    "### 보스턴 주택가격 데이터셋"
   ]
  },
  {
   "cell_type": "markdown",
   "metadata": {},
   "source": [
    "사용하는 데이터셋은 다음과 같다.\n",
    "\n",
    "- 1970년대 중반의 미국 보스턴 시내와 외곽의 총 506개 지역별 중간 주택가격.\n",
    "    즉, 매우 적은 수의 데이터셋임.\n",
    "- 케라스의 `boston_housing` 모듈의 `load_data()` 함수로 데이터 적재\n",
    "    - 훈련셋와 테스트셋로 분류됨.\n",
    "- 지역별 샘플\n",
    "    - 특성: 총 13 개. 지역별 범죄율, 토지 비율, 재산세율, 학생 대 교사 비율 등.\n",
    "    - 타깃: 주택가격\n",
    "- 참고: [위키독스: 보스턴 주택가격 데이터셋 소개](https://wikidocs.net/49966)"
   ]
  },
  {
   "cell_type": "markdown",
   "metadata": {
    "colab_type": "text"
   },
   "source": [
    "**보스턴 주택가격 데이터셋 적재**\n",
    "\n",
    "- 데이터셋 크기: 506\n",
    "    - 훈련셋: 404\n",
    "    - 테스트셋: 102\n",
    "- 샘플 특성 수: 13"
   ]
  },
  {
   "cell_type": "code",
   "execution_count": 65,
   "metadata": {
    "colab_type": "code"
   },
   "outputs": [],
   "source": [
    "from tensorflow.keras.datasets import boston_housing\n",
    "(train_data, train_targets), (test_data, test_targets) = boston_housing.load_data()"
   ]
  },
  {
   "cell_type": "code",
   "execution_count": 66,
   "metadata": {
    "colab_type": "code"
   },
   "outputs": [
    {
     "data": {
      "text/plain": [
       "(404, 13)"
      ]
     },
     "execution_count": 66,
     "metadata": {},
     "output_type": "execute_result"
    }
   ],
   "source": [
    "train_data.shape"
   ]
  },
  {
   "cell_type": "code",
   "execution_count": 67,
   "metadata": {
    "colab_type": "code"
   },
   "outputs": [
    {
     "data": {
      "text/plain": [
       "(102, 13)"
      ]
     },
     "execution_count": 67,
     "metadata": {},
     "output_type": "execute_result"
    }
   ],
   "source": [
    "test_data.shape"
   ]
  },
  {
   "cell_type": "markdown",
   "metadata": {},
   "source": [
    "훈련셋 샘플의 타깃은 아래처럼 범위가 지정되지 않은 부동소수점 값이다. "
   ]
  },
  {
   "cell_type": "code",
   "execution_count": 68,
   "metadata": {
    "colab_type": "code"
   },
   "outputs": [
    {
     "data": {
      "text/plain": [
       "array([15.2, 42.3, 50. , 21.1, 17.7, 18.5, 11.3, 15.6, 15.6, 14.4])"
      ]
     },
     "execution_count": 68,
     "metadata": {},
     "output_type": "execute_result"
    }
   ],
   "source": [
    "train_targets[:10]"
   ]
  },
  {
   "cell_type": "markdown",
   "metadata": {
    "colab_type": "text"
   },
   "source": [
    "### 데이터 전처리"
   ]
  },
  {
   "cell_type": "markdown",
   "metadata": {},
   "source": [
    "특성에 따라 사용되는 값들의 크기가 다르다. \n",
    "어떤 특성은 0과 1사이, 다른 특성은 한 자리리부터 세 자리의 수를 갖기도 한다."
   ]
  },
  {
   "cell_type": "code",
   "execution_count": 69,
   "metadata": {},
   "outputs": [
    {
     "data": {
      "text/html": [
       "<div>\n",
       "<style scoped>\n",
       "    .dataframe tbody tr th:only-of-type {\n",
       "        vertical-align: middle;\n",
       "    }\n",
       "\n",
       "    .dataframe tbody tr th {\n",
       "        vertical-align: top;\n",
       "    }\n",
       "\n",
       "    .dataframe thead th {\n",
       "        text-align: right;\n",
       "    }\n",
       "</style>\n",
       "<table border=\"1\" class=\"dataframe\">\n",
       "  <thead>\n",
       "    <tr style=\"text-align: right;\">\n",
       "      <th></th>\n",
       "      <th>0</th>\n",
       "      <th>1</th>\n",
       "      <th>2</th>\n",
       "      <th>3</th>\n",
       "      <th>4</th>\n",
       "      <th>5</th>\n",
       "      <th>6</th>\n",
       "      <th>7</th>\n",
       "      <th>8</th>\n",
       "      <th>9</th>\n",
       "      <th>10</th>\n",
       "      <th>11</th>\n",
       "      <th>12</th>\n",
       "    </tr>\n",
       "  </thead>\n",
       "  <tbody>\n",
       "    <tr>\n",
       "      <th>count</th>\n",
       "      <td>404.000000</td>\n",
       "      <td>404.000000</td>\n",
       "      <td>404.000000</td>\n",
       "      <td>404.000000</td>\n",
       "      <td>404.000000</td>\n",
       "      <td>404.000000</td>\n",
       "      <td>404.000000</td>\n",
       "      <td>404.000000</td>\n",
       "      <td>404.000000</td>\n",
       "      <td>404.000000</td>\n",
       "      <td>404.000000</td>\n",
       "      <td>404.000000</td>\n",
       "      <td>404.000000</td>\n",
       "    </tr>\n",
       "    <tr>\n",
       "      <th>mean</th>\n",
       "      <td>3.745111</td>\n",
       "      <td>11.480198</td>\n",
       "      <td>11.104431</td>\n",
       "      <td>0.061881</td>\n",
       "      <td>0.557356</td>\n",
       "      <td>6.267082</td>\n",
       "      <td>69.010644</td>\n",
       "      <td>3.740271</td>\n",
       "      <td>9.440594</td>\n",
       "      <td>405.898515</td>\n",
       "      <td>18.475990</td>\n",
       "      <td>354.783168</td>\n",
       "      <td>12.740817</td>\n",
       "    </tr>\n",
       "    <tr>\n",
       "      <th>std</th>\n",
       "      <td>9.240734</td>\n",
       "      <td>23.767711</td>\n",
       "      <td>6.811308</td>\n",
       "      <td>0.241238</td>\n",
       "      <td>0.117293</td>\n",
       "      <td>0.709788</td>\n",
       "      <td>27.940665</td>\n",
       "      <td>2.030215</td>\n",
       "      <td>8.698360</td>\n",
       "      <td>166.374543</td>\n",
       "      <td>2.200382</td>\n",
       "      <td>94.111148</td>\n",
       "      <td>7.254545</td>\n",
       "    </tr>\n",
       "    <tr>\n",
       "      <th>min</th>\n",
       "      <td>0.006320</td>\n",
       "      <td>0.000000</td>\n",
       "      <td>0.460000</td>\n",
       "      <td>0.000000</td>\n",
       "      <td>0.385000</td>\n",
       "      <td>3.561000</td>\n",
       "      <td>2.900000</td>\n",
       "      <td>1.129600</td>\n",
       "      <td>1.000000</td>\n",
       "      <td>188.000000</td>\n",
       "      <td>12.600000</td>\n",
       "      <td>0.320000</td>\n",
       "      <td>1.730000</td>\n",
       "    </tr>\n",
       "    <tr>\n",
       "      <th>25%</th>\n",
       "      <td>0.081437</td>\n",
       "      <td>0.000000</td>\n",
       "      <td>5.130000</td>\n",
       "      <td>0.000000</td>\n",
       "      <td>0.453000</td>\n",
       "      <td>5.874750</td>\n",
       "      <td>45.475000</td>\n",
       "      <td>2.077100</td>\n",
       "      <td>4.000000</td>\n",
       "      <td>279.000000</td>\n",
       "      <td>17.225000</td>\n",
       "      <td>374.672500</td>\n",
       "      <td>6.890000</td>\n",
       "    </tr>\n",
       "    <tr>\n",
       "      <th>50%</th>\n",
       "      <td>0.268880</td>\n",
       "      <td>0.000000</td>\n",
       "      <td>9.690000</td>\n",
       "      <td>0.000000</td>\n",
       "      <td>0.538000</td>\n",
       "      <td>6.198500</td>\n",
       "      <td>78.500000</td>\n",
       "      <td>3.142300</td>\n",
       "      <td>5.000000</td>\n",
       "      <td>330.000000</td>\n",
       "      <td>19.100000</td>\n",
       "      <td>391.250000</td>\n",
       "      <td>11.395000</td>\n",
       "    </tr>\n",
       "    <tr>\n",
       "      <th>75%</th>\n",
       "      <td>3.674808</td>\n",
       "      <td>12.500000</td>\n",
       "      <td>18.100000</td>\n",
       "      <td>0.000000</td>\n",
       "      <td>0.631000</td>\n",
       "      <td>6.609000</td>\n",
       "      <td>94.100000</td>\n",
       "      <td>5.118000</td>\n",
       "      <td>24.000000</td>\n",
       "      <td>666.000000</td>\n",
       "      <td>20.200000</td>\n",
       "      <td>396.157500</td>\n",
       "      <td>17.092500</td>\n",
       "    </tr>\n",
       "    <tr>\n",
       "      <th>max</th>\n",
       "      <td>88.976200</td>\n",
       "      <td>100.000000</td>\n",
       "      <td>27.740000</td>\n",
       "      <td>1.000000</td>\n",
       "      <td>0.871000</td>\n",
       "      <td>8.725000</td>\n",
       "      <td>100.000000</td>\n",
       "      <td>10.710300</td>\n",
       "      <td>24.000000</td>\n",
       "      <td>711.000000</td>\n",
       "      <td>22.000000</td>\n",
       "      <td>396.900000</td>\n",
       "      <td>37.970000</td>\n",
       "    </tr>\n",
       "  </tbody>\n",
       "</table>\n",
       "</div>"
      ],
      "text/plain": [
       "               0           1           2           3           4           5   \\\n",
       "count  404.000000  404.000000  404.000000  404.000000  404.000000  404.000000   \n",
       "mean     3.745111   11.480198   11.104431    0.061881    0.557356    6.267082   \n",
       "std      9.240734   23.767711    6.811308    0.241238    0.117293    0.709788   \n",
       "min      0.006320    0.000000    0.460000    0.000000    0.385000    3.561000   \n",
       "25%      0.081437    0.000000    5.130000    0.000000    0.453000    5.874750   \n",
       "50%      0.268880    0.000000    9.690000    0.000000    0.538000    6.198500   \n",
       "75%      3.674808   12.500000   18.100000    0.000000    0.631000    6.609000   \n",
       "max     88.976200  100.000000   27.740000    1.000000    0.871000    8.725000   \n",
       "\n",
       "               6           7           8           9           10          11  \\\n",
       "count  404.000000  404.000000  404.000000  404.000000  404.000000  404.000000   \n",
       "mean    69.010644    3.740271    9.440594  405.898515   18.475990  354.783168   \n",
       "std     27.940665    2.030215    8.698360  166.374543    2.200382   94.111148   \n",
       "min      2.900000    1.129600    1.000000  188.000000   12.600000    0.320000   \n",
       "25%     45.475000    2.077100    4.000000  279.000000   17.225000  374.672500   \n",
       "50%     78.500000    3.142300    5.000000  330.000000   19.100000  391.250000   \n",
       "75%     94.100000    5.118000   24.000000  666.000000   20.200000  396.157500   \n",
       "max    100.000000   10.710300   24.000000  711.000000   22.000000  396.900000   \n",
       "\n",
       "               12  \n",
       "count  404.000000  \n",
       "mean    12.740817  \n",
       "std      7.254545  \n",
       "min      1.730000  \n",
       "25%      6.890000  \n",
       "50%     11.395000  \n",
       "75%     17.092500  \n",
       "max     37.970000  "
      ]
     },
     "execution_count": 69,
     "metadata": {},
     "output_type": "execute_result"
    }
   ],
   "source": [
    "import pandas as df\n",
    "\n",
    "df.DataFrame(train_data).describe()"
   ]
  },
  {
   "cell_type": "markdown",
   "metadata": {
    "colab_type": "text"
   },
   "source": [
    "**데이터 정규화**\n",
    "\n",
    "따라서 모든 특성의 값을 **정규화** 해주어야 모델 훈련이 더 잘된다.\n",
    "모든 특성값들을 특성별로 표준 정규분포를 따르도록 한다. \n",
    "즉, 평균값 0, 표준편차 1이 되도록 특성값을 특성별로 변환한다.\n",
    "\n",
    "**주의사항**: 테스트셋의 정규화는 훈련셋의 평균값과 표준편차를 이용해야 한다.\n",
    "이유는 테스트셋의 정보는 모델 훈련에 절대로 사용되지 않아야 하기 때문이다. "
   ]
  },
  {
   "cell_type": "code",
   "execution_count": 70,
   "metadata": {
    "colab_type": "code"
   },
   "outputs": [],
   "source": [
    "# 훈련셋의 평균값\n",
    "mean = train_data.mean(axis=0)\n",
    "\n",
    "# 훈련셋 정규화\n",
    "train_data -= mean\n",
    "std = train_data.std(axis=0)\n",
    "train_data /= std\n",
    "\n",
    "# 테스트셋 정규화: 훈련셋의 평균값과 표준편차 활용\n",
    "test_data -= mean\n",
    "test_data /= std"
   ]
  },
  {
   "cell_type": "markdown",
   "metadata": {
    "colab_type": "text"
   },
   "source": [
    "### 모델 구현"
   ]
  },
  {
   "cell_type": "markdown",
   "metadata": {
    "colab_type": "text"
   },
   "source": [
    "**모델 정의**"
   ]
  },
  {
   "cell_type": "markdown",
   "metadata": {},
   "source": [
    "이전과는 달리 모델 구성과 컴파일을 동시에 진행하는 함수를 이용한다.\n",
    "\n",
    "- 은닉층: 데이터셋이 작으므로 두 개만 사용.\n",
    "- 각 은닉층의 유닛 수: 인자로 받도록 함. 아래 예제에서는 64 사용.\n",
    "- 마지막 층: 활성화 함수 없음. 회귀 모델이기 때문임.\n",
    "- 손실함수: **평균제곱오차**(mse). 회귀 모델의 일반적인 손실함수\n",
    "- 평가지표: **평균절대오차**(mae, mean absolute error)\n",
    "\n",
    "**참고**: 데이터셋이 클 수록 보다 많은 층과 보다 많은 유닛 사용하는 것이 일반적임."
   ]
  },
  {
   "cell_type": "code",
   "execution_count": 71,
   "metadata": {
    "colab_type": "code"
   },
   "outputs": [],
   "source": [
    "def build_model():\n",
    "    model = keras.Sequential([\n",
    "        layers.Dense(64, activation=\"relu\"),\n",
    "        layers.Dense(64, activation=\"relu\"),\n",
    "        layers.Dense(1)\n",
    "    ])\n",
    "    model.compile(optimizer=\"rmsprop\", loss=\"mse\", metrics=[\"mae\"])\n",
    "    return model"
   ]
  },
  {
   "cell_type": "markdown",
   "metadata": {
    "colab_type": "text"
   },
   "source": [
    "### K-겹 교차검증 활용"
   ]
  },
  {
   "cell_type": "markdown",
   "metadata": {},
   "source": [
    "데이터셋이 작기에 훈련 중에 사용할 검증 세트를 따로 분리하는 것은 훈련의 효율성을 떨어뜨린다.\n",
    "대신에 **K-겹 교차검증**을(K-fold cross-validation) 사용한다.\n",
    "아래 이미지는 3-겹 교차검증을 사용할 때 훈련 중에 사용되는 훈련셋과 검증셋의 사용법을 보여준다."
   ]
  },
  {
   "cell_type": "markdown",
   "metadata": {},
   "source": [
    "<div align=\"center\"><img src=\"https://drek4537l1klr.cloudfront.net/chollet2/v-7/Figures/3-fold-cross-validation.png\" style=\"width:600px;\"></div>\n",
    "\n",
    "그림 출처: [Deep Learning with Python(Manning MEAP)](https://www.manning.com/books/deep-learning-with-python-second-edition)"
   ]
  },
  {
   "cell_type": "markdown",
   "metadata": {
    "colab_type": "text"
   },
   "source": [
    "**예제: 4-겹 교차검증**\n",
    "\n",
    "- 에포크 수: 500\n",
    "- `validation_data` 옵션 인자 활용\n",
    "    - 교차검증과 에포크마다 평가지표 저장됨.\n",
    "- `verbose=0`: 손실값과 평가지표를 출력하지 않음."
   ]
  },
  {
   "cell_type": "code",
   "execution_count": 72,
   "metadata": {
    "colab_type": "code"
   },
   "outputs": [
    {
     "name": "stdout",
     "output_type": "stream",
     "text": [
      "1번 째 폴드(fold) 훈련 시작\n",
      "2번 째 폴드(fold) 훈련 시작\n",
      "3번 째 폴드(fold) 훈련 시작\n",
      "4번 째 폴드(fold) 훈련 시작\n"
     ]
    }
   ],
   "source": [
    "k = 4\n",
    "num_val_samples = len(train_data) // k\n",
    "\n",
    "num_epochs = 500\n",
    "all_mae_histories = []   # 모든 에포크에 대한 평균절대오차 저장\n",
    "\n",
    "for i in range(k):       # 교차 검증\n",
    "    \n",
    "    print(f\"{i+1}번 째 폴드(fold) 훈련 시작\")\n",
    "\n",
    "    val_data = train_data[i * num_val_samples: (i + 1) * num_val_samples]\n",
    "    val_targets = train_targets[i * num_val_samples: (i + 1) * num_val_samples]\n",
    "\n",
    "    partial_train_data = np.concatenate(\n",
    "        [train_data[:i * num_val_samples],\n",
    "         train_data[(i + 1) * num_val_samples:]],\n",
    "        axis=0)\n",
    "    partial_train_targets = np.concatenate(\n",
    "        [train_targets[:i * num_val_samples],\n",
    "         train_targets[(i + 1) * num_val_samples:]],\n",
    "        axis=0)\n",
    "    \n",
    "    model = build_model()    # 유닛 수: 64\n",
    "    history = model.fit(partial_train_data, partial_train_targets,\n",
    "                        validation_data=(val_data, val_targets),\n",
    "                        epochs=num_epochs, batch_size=16, verbose=0)\n",
    "    \n",
    "    mae_history = history.history[\"val_mae\"]\n",
    "    all_mae_histories.append(mae_history)"
   ]
  },
  {
   "cell_type": "markdown",
   "metadata": {
    "colab_type": "text"
   },
   "source": [
    "**K-겹 교차검증 훈련 과정 그래프: 평가지표 기준**\n",
    "\n",
    "500번의 에포크마다 4 번의 교차 검증을 진행하였기에\n",
    "에포크 별로 검증세트를 대상으로하는 평균절대오차의 평균값을 계산한다."
   ]
  },
  {
   "cell_type": "code",
   "execution_count": 73,
   "metadata": {
    "colab_type": "code"
   },
   "outputs": [],
   "source": [
    "average_mae_history = [\n",
    "    np.mean([x[i] for x in all_mae_histories]) for i in range(num_epochs)]"
   ]
  },
  {
   "cell_type": "markdown",
   "metadata": {},
   "source": [
    "에포크별 평균절대오차의 평균값의 변화를 그래프로 그리면 다음과 같다."
   ]
  },
  {
   "cell_type": "code",
   "execution_count": 74,
   "metadata": {
    "colab_type": "code"
   },
   "outputs": [
    {
     "data": {
      "image/png": "[encoded data removed]",
      "text/plain": [
       "<Figure size 432x288 with 1 Axes>"
      ]
     },
     "metadata": {
      "needs_background": "light"
     },
     "output_type": "display_data"
    }
   ],
   "source": [
    "plt.plot(range(1, len(average_mae_history) + 1), average_mae_history)\n",
    "\n",
    "plt.xlabel(\"Epochs\")\n",
    "plt.ylabel(\"Validation MAE\")\n",
    "plt.show()"
   ]
  },
  {
   "cell_type": "markdown",
   "metadata": {
    "colab_type": "text"
   },
   "source": [
    "첫 10개의 에포크의 성능이 매우 나쁘기에 그 부분을 제외하고 그래프를 그리면 보다 정확하게 \n",
    "변환 과정을 파악할 수 있다."
   ]
  },
  {
   "cell_type": "code",
   "execution_count": 75,
   "metadata": {
    "colab_type": "code"
   },
   "outputs": [
    {
     "data": {
      "image/png": "[encoded data removed]",
      "text/plain": [
       "<Figure size 432x288 with 1 Axes>"
      ]
     },
     "metadata": {
      "needs_background": "light"
     },
     "output_type": "display_data"
    }
   ],
   "source": [
    "truncated_mae_history = average_mae_history[10:]\n",
    "\n",
    "plt.plot(range(1, len(truncated_mae_history) + 1), truncated_mae_history)\n",
    "plt.xlabel(\"Epochs\")\n",
    "plt.ylabel(\"Validation MAE\")\n",
    "plt.show()"
   ]
  },
  {
   "cell_type": "markdown",
   "metadata": {
    "colab_type": "text"
   },
   "source": [
    "**재훈련**\n",
    "\n",
    "- 130번 째 에포크를 전후로 과대적합 발생함.\n",
    "- 130번의 에포크만 사용해서 모델 재훈련"
   ]
  },
  {
   "cell_type": "code",
   "execution_count": 76,
   "metadata": {
    "colab_type": "code"
   },
   "outputs": [
    {
     "data": {
      "text/plain": [
       "<keras.callbacks.History at 0x2cf386a5670>"
      ]
     },
     "execution_count": 76,
     "metadata": {},
     "output_type": "execute_result"
    }
   ],
   "source": [
    "model = build_model()\n",
    "model.fit(train_data, train_targets,\n",
    "          epochs=130, batch_size=16, verbose=0)"
   ]
  },
  {
   "cell_type": "markdown",
   "metadata": {},
   "source": [
    "재훈련된 모델의 테스트셋에 대한 성능을 평가하면 \n",
    "주택가격 예측에 있어서 평균적으로 2,500달러 정도의 차이를 갖는다."
   ]
  },
  {
   "cell_type": "code",
   "execution_count": 77,
   "metadata": {
    "colab_type": "code"
   },
   "outputs": [
    {
     "name": "stdout",
     "output_type": "stream",
     "text": [
      "4/4 [==============================] - 0s 0s/step - loss: 15.9659 - mae: 2.5950\n"
     ]
    },
    {
     "data": {
      "text/plain": [
       "2.5949742794036865"
      ]
     },
     "execution_count": 77,
     "metadata": {},
     "output_type": "execute_result"
    }
   ],
   "source": [
    "test_mse_score, test_mae_score = model.evaluate(test_data, test_targets)\n",
    "test_mae_score"
   ]
  },
  {
   "cell_type": "markdown",
   "metadata": {
    "colab_type": "text"
   },
   "source": [
    "### 모델 활용\n",
    "\n",
    "- 새로운 데이터에 대한 예측은 `predict()` 메서드를 활용한다. "
   ]
  },
  {
   "cell_type": "code",
   "execution_count": 78,
   "metadata": {
    "colab_type": "code"
   },
   "outputs": [
    {
     "data": {
      "text/plain": [
       "array([8.091597], dtype=float32)"
      ]
     },
     "execution_count": 78,
     "metadata": {},
     "output_type": "execute_result"
    }
   ],
   "source": [
    "predictions = model.predict(test_data)\n",
    "predictions[0]"
   ]
  },
  {
   "cell_type": "markdown",
   "metadata": {},
   "source": [
    "### 연습문제"
   ]
  },
  {
   "cell_type": "markdown",
   "metadata": {},
   "source": [
    "사이킷런의 `KFold`를 이용하면 봅다 간단하게 K-겹 교차검증을 진행할 수 있다."
   ]
  },
  {
   "cell_type": "code",
   "execution_count": 79,
   "metadata": {},
   "outputs": [],
   "source": [
    "from sklearn.model_selection import KFold\n",
    "\n",
    "k = 4\n",
    "num_epochs = 500\n",
    "\n",
    "kf = KFold(n_splits=k)\n",
    "all_mae_histories = []\n",
    "\n",
    "for train_index, val_index in kf.split(train_data, train_targets):\n",
    "    \n",
    "    val_data, val_targets = train_data[val_index], train_targets[val_index]\n",
    "    partial_train_data, partial_train_targets = train_data[train_index], train_targets[train_index]\n",
    "    \n",
    "    model = build_model()\n",
    "    history = model.fit(partial_train_data, partial_train_targets,\n",
    "                        validation_data=(val_data, val_targets),\n",
    "                        epochs=num_epochs, batch_size=16, verbose=0)\n",
    "\n",
    "    mae_history = history.history[\"val_mae\"]    \n",
    "    all_mae_histories.append(mae_history)"
   ]
  },
  {
   "cell_type": "code",
   "execution_count": 80,
   "metadata": {
    "colab_type": "code"
   },
   "outputs": [
    {
     "name": "stdout",
     "output_type": "stream",
     "text": [
      "4/4 [==============================] - 0s 0s/step - loss: 15.7864 - mae: 2.7254\n"
     ]
    },
    {
     "data": {
      "text/plain": [
       "2.725350856781006"
      ]
     },
     "execution_count": 80,
     "metadata": {},
     "output_type": "execute_result"
    }
   ],
   "source": [
    "test_mse_score, test_mae_score = model.evaluate(test_data, test_targets)\n",
    "test_mae_score"
   ]
  },
  {
   "cell_type": "code",
   "execution_count": null,
   "metadata": {},
   "outputs": [],
   "source": []
  },
  {
   "cell_type": "markdown",
   "metadata": {
    "colab_type": "text"
   },
   "source": [
    "## 연습문제"
   ]
  },
  {
   "cell_type": "markdown",
   "metadata": {},
   "source": [
    "1. 영화 후기 이진 분류\n",
    "    1. 두 개의 은닉층 대신 1 개 또는 3 개의 은닉층을 사용할 때 \n",
    "        검증셋와 테스트셋에 대한 평가지표의 변화를 확인하라.\n",
    "    1. 각 은닉층에 사용된 유닛의 수를 8, 32, 64 등으로 변화시킨 후 \n",
    "        검증셋과 테스트셋에 대한 평가지표의 변화를 확인하라.\n",
    "    1. `binary_crossentropy` 대신 `mse`를 손실함수로 지정한 후 \n",
    "        검증셋과 테스트셋에 대한 평가지표의 변화를 확인하라.\n",
    "    1. `relu()` 함수 대신 이전에 많이 사용됐었던 `tanh()` 함수를 손실함수로 지정한 후 \n",
    "        검증셋과 테스트셋에 대한 평가지표의 변화를 확인하라.\n",
    "1. 뉴스 기사 다중 클래스 분류\n",
    "    1. 아래 모델을 사용하염 정보 병목현상이 발생함을 성능 테스트를 통해 보여라.\n",
    "        ```python\n",
    "        model = keras.Sequential([\n",
    "            layers.Dense(64, activation=\"relu\"),\n",
    "            layers.Dense(4, activation=\"relu\"),\n",
    "            layers.Dense(46, activation=\"softmax\")\n",
    "        ])\n",
    "        ```\n",
    "    1. 은닉층의 유닛의 수를 32, 128 등 여러 값으로 실험해 보아라.\n",
    "    1. 은닉층의 수를 1개 또는 3개로 바꿔 보아라."
   ]
  }
 ],
 "metadata": {
  "colab": {
   "collapsed_sections": [],
   "name": "dlp04-started_with_neural_networks",
   "private_outputs": false,
   "provenance": [],
   "toc_visible": true
  },
  "kernelspec": {
   "display_name": "Python 3 (ipykernel)",
   "language": "python",
   "name": "python3"
  },
  "language_info": {
   "codemirror_mode": {
    "name": "ipython",
    "version": 3
   },
   "file_extension": ".py",
   "mimetype": "text/x-python",
   "name": "python",
   "nbconvert_exporter": "python",
   "pygments_lexer": "ipython3",
   "version": "3.9.13"
  }
 },
 "nbformat": 4,
 "nbformat_minor": 1
}
