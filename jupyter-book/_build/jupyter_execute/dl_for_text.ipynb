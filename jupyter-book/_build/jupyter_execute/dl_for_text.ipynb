{
 "cells": [
  {
   "cell_type": "markdown",
   "id": "c5d5eb9f",
   "metadata": {},
   "source": [
    "(ch:nlp)=\n",
    "# 자연어 처리"
   ]
  },
  {
   "cell_type": "markdown",
   "id": "74a975c4",
   "metadata": {},
   "source": [
    "**감사의 글**\n",
    "\n",
    "아래 내용은 프랑소와 숄레의 \n",
    "[Deep Learning with Python(2판)](https://github.com/fchollet/deep-learning-with-python-notebooks)의 \n",
    "소스코드 내용을 참고해서 작성되었습니다.\n",
    "자료를 공개한 저자에게 진심어린 감사를 전합니다."
   ]
  },
  {
   "cell_type": "markdown",
   "id": "80a1596c",
   "metadata": {},
   "source": [
    "**소스코드**\n",
    "\n",
    "여기서 언급되는 코드를\n",
    "[(구글 코랩) 자연어 처리](https://colab.research.google.com/github/codingalzi/dlp2/blob/master/notebooks/NB-dl_for_text.ipynb)에서 \n",
    "직접 실행할 수 있다."
   ]
  },
  {
   "cell_type": "markdown",
   "id": "93261a81",
   "metadata": {},
   "source": [
    "**슬라이드**\n",
    "\n",
    "본문 내용을 요약한 [슬라이드](https://github.com/codingalzi/dlp2/raw/master/slides/slides-dl_for_text.pdf)를 다운로드할 수 있다."
   ]
  },
  {
   "cell_type": "markdown",
   "id": "4ce5abec",
   "metadata": {},
   "source": [
    "**주요 내용**\n",
    "\n",
    "- 텍스트 벡터화\n",
    "- 단어 임베딩\n",
    "- 트랜스포머 아키텍처\n",
    "- 시퀀스-투-시퀀스 학습\n",
    "- 영어-스페인어 번역"
   ]
  },
  {
   "cell_type": "markdown",
   "id": "f5395f00",
   "metadata": {
    "id": "x8OD2TTxZ8Om"
   },
   "source": [
    "## 자연어 처리 소개"
   ]
  },
  {
   "cell_type": "markdown",
   "id": "3654b9db",
   "metadata": {
    "id": "rTBmxXQxZ8On"
   },
   "source": [
    "파이썬, 자바, C, C++, C#, 자바스크립트 등 컴퓨터 프로그래밍언어와 구분하기 위해 \n",
    "일상에서 사용되는 한국어, 영어 등을 **자연어**<font size='2'>natural language</font>라 \n",
    "부른다. \n",
    "자연어의 특성상 정확한 분석을 위한 알고리즘을 구현하는 일은 매우 어렵다. \n",
    "딥러닝 기법이 활용되기 이전까지는 적절한 규칙을 구성하여 자연어를 이해하려는 \n",
    "수 많은 시도가 있어왔지만 별로 성공적이지 않았다."
   ]
  },
  {
   "cell_type": "markdown",
   "id": "36958573",
   "metadata": {},
   "source": [
    "1990년대부터 인터넷으로부터 구해진 엄청난 양의 텍스트 데이터에 머신러닝 기법을\n",
    "적용하기 시작했다. \n",
    "단, **언어의 이해**를 주요 목표로 삼기에는 기술, 하드웨어 측면 모두에서 부족하였으며,\n",
    "아래 예제들처럼 입력 텍스트를 분석하여 \n",
    "**통계적으로 유용한 정보를 예측**하는 정도의 수준에 머물렀다.\n",
    "\n",
    "- 텍스트 분류: \"이 텍스트의 주제는?\"\n",
    "- 내용 필터링: \"욕설 사용?\"\n",
    "- 감성 분석: \"그래서 내용이 긍정적이야 부정적이야?\"\n",
    "- 언어 모델링: \"이 문장 다음에 어떤 단어가 와야 할까?\"\n",
    "- 번역: \"이거를 한국어로 어떻게 말해?\"\n",
    "- 요약: \"이 기사를 한 줄로 요약해 볼래?\"\n",
    "\n",
    "이와 같은 일을 **자연어 처리**<font size='2'>Natural Language Processing</font>라 하며\n",
    "단어와 텍스트에서 찾을 수 있는 패턴을  인식하려 시도한다. "
   ]
  },
  {
   "cell_type": "markdown",
   "id": "2a40a569",
   "metadata": {},
   "source": [
    ":::{admonition} 텍스트란?\n",
    ":class: note\n",
    "\n",
    "텍스트<font size='2'>text</font>는 문자, 단어, 문장, 글 등 자연어로 표현된 데이터를 가리킨다.\n",
    ":::"
   ]
  },
  {
   "cell_type": "markdown",
   "id": "10130069",
   "metadata": {
    "id": "RjKUDDVfZ8On"
   },
   "source": [
    "**머신러닝 활용**"
   ]
  },
  {
   "cell_type": "markdown",
   "id": "44bc8d24",
   "metadata": {
    "id": "CSG-s6PzZ8On"
   },
   "source": [
    "자연어 처리를 위해 1990년대부터 시작된 머신러닝 활용의 변화과정은 다음과 같다."
   ]
  },
  {
   "cell_type": "markdown",
   "id": "49f35657",
   "metadata": {
    "id": "Y6rI3gM1Z8Oo"
   },
   "source": [
    "- 1990 - 2010년대 초반: \n",
    "    결정트리, 로지스틱 회귀 모델이 주로 활용됨.\n",
    "\n",
    "- 2014-2015: LSTM 등 시퀀스 처리 알고리즘 활용 시작\n",
    "\n",
    "- 2015-2017: (양방향) 순환신경망이 기본적으로 활용됨.\n",
    "\n",
    "- 2017-2018: 트랜스포머<font size='2'>transformer</font> 모델이 최고의 성능 발휘하며, \n",
    "    많은 난제들을 해결함. 현재 가장 많이 활용되는 모델임.\n",
    "- 2022 이후: GPT의 혁명적 발전"
   ]
  },
  {
   "cell_type": "markdown",
   "id": "f6fe62e9",
   "metadata": {
    "id": "B48vvr6KZ8Oo"
   },
   "source": [
    "## 텍스트 벡터화"
   ]
  },
  {
   "cell_type": "markdown",
   "id": "6456a0c3",
   "metadata": {
    "id": "CZYKnZBzZ8Op"
   },
   "source": [
    "딥러닝 모델은 텍스트 자체를 처리할 수 없다.\n",
    "따라서 텍스트를 수치형 텐서로 변환하는 **텍스트 벡터화**<font size='2'>text vectorization</font> 과정이 요구된다.\n",
    "아래 그림이 텍스트 벡터화의 기본적인 과정을 잘 보여준다."
   ]
  },
  {
   "cell_type": "markdown",
   "id": "b94a239f",
   "metadata": {},
   "source": [
    "<div align=\"center\"><img src=\"https://raw.githubusercontent.com/codingalzi/dlp2/master/jupyter-book/imgs/ch11-EmbeddingLayer-a.png\" style=\"width:50%;\"></div>\n",
    "\n",
    "<p><div style=\"text-align: center\">&lt;그림 출처: <a href=\"https://developers.google.com/machine-learning/guides/text-classification/step-3?hl=ko\">머신러닝 가이드</a>&gt;</div></p>"
   ]
  },
  {
   "cell_type": "markdown",
   "id": "75c8612e",
   "metadata": {
    "id": "CZYKnZBzZ8Op"
   },
   "source": [
    "텍스트 벡터화는 보통 다음 세 단계를 따른다.\n",
    "\n",
    "1. **텍스트 표준화**<font size='2'>text standardization</font>: 소문자화, 마침표 제거 등등\n",
    "1. **토큰화**<font size='2'>tokenization</font>: 기본 단위의 **유닛**<font size='2'>units</font>으로 쪼개기.\n",
    "    문자, 단어, 단어 집합 등이 토큰으로 활용됨.\n",
    "1. **어휘 색인화**<font size='2'>vocabulary indexing</font>: 토큰 각각을 하나의 수치형 벡터로 변환."
   ]
  },
  {
   "cell_type": "markdown",
   "id": "9c0a1907",
   "metadata": {
    "id": "hAD2s0DaZ8Op"
   },
   "source": [
    "### 텍스트 표준화"
   ]
  },
  {
   "cell_type": "markdown",
   "id": "878d7660",
   "metadata": {
    "id": "yQRj19aQZ8Op"
   },
   "source": [
    "다음 두 텍스트를 표준화를 통해 동일한 텍스트로 변환해보자.\n",
    "\n",
    "- \"sunset came. i was staring at the Mexico sky. Isnt nature splendid??\"\n",
    "- \"Sunset came; I stared at the M&eacute;xico sky. Isn't nature splendid?\""
   ]
  },
  {
   "cell_type": "markdown",
   "id": "bc61092a",
   "metadata": {
    "id": "K8EaqY5xZ8Op"
   },
   "source": [
    "예를 들어 다음과 같은 표준화 기법을 사용할 수 있다.\n",
    "\n",
    "- 모두 소문자화\n",
    "- `.`, `;`, `?`, `'` 등 특수 기호 제거\n",
    "- 특수 알파벳 변환: \"&eacute;\"를 \"e\"로, \"&aelig;\"를 \"ae\"로 등등\n",
    "- 동사/명사의 기본형 활용: \"cats\"를 \"[cat]\"로, \"was staring\"과 \"stared\"를 \"[stare]\"로 등등."
   ]
  },
  {
   "cell_type": "markdown",
   "id": "e4376cbe",
   "metadata": {
    "id": "ZoxhNN-RZ8Op"
   },
   "source": [
    "그러면 위 두 텍스트 모두 아래 텍스트로 변환된다."
   ]
  },
  {
   "cell_type": "markdown",
   "id": "d3e08709",
   "metadata": {
    "id": "g7lZN8sQZ8Oq"
   },
   "source": [
    "\"sunset came i [stare] at the mexico sky isnt nature splendid\""
   ]
  },
  {
   "cell_type": "markdown",
   "id": "4e5d0fcc",
   "metadata": {
    "id": "_eQkVWvJZ8Oq"
   },
   "source": [
    "표준화 과정을 통해 어느 정도의 정보를 상실하게 되지만\n",
    "학습해야할 내용을 줄여 일반화 성능이 보다 좋은 모델을 훈련시키는 장점이 있다.\n",
    "하지만 분석 목적에 따라 사용되는 표준화 기법이 달라질 수 있음에 주의해야 한다. \n",
    "예를 들어 인터뷰 기사의 경우 물음표(`?`)는 제거하면 안된다."
   ]
  },
  {
   "cell_type": "markdown",
   "id": "be1f2f53",
   "metadata": {
    "id": "dVL9JLyNZ8Oq"
   },
   "source": [
    "### 토큰화"
   ]
  },
  {
   "cell_type": "markdown",
   "id": "621cd0f7",
   "metadata": {
    "id": "3lpJ96j0Z8Oq"
   },
   "source": [
    "텍스트 표준화 이후 데이터 분석의 기본 단위인 토큰으로 쪼개야 한다.\n",
    "보통 아래 세 가지 방식 중에 하나를 사용한다.\n",
    "\n",
    "- 단어 토큰화\n",
    "    - 공백으로 구분된 단어들로 쪼개기. \n",
    "    - 경우에 따라 동사 어근과 어미를 구분하기도 함: \"star+ing\", \"call+ed\" 등등\n",
    "- N-그램 토큰화\n",
    "    - N-그램 토큰: 연속으로 위치한 N 개(이하)의 단어 묶음\n",
    "    - 예제: \"the cat\", \"he was\" 등은 2-그램(바이그램) 토큰이다.\n",
    "- 문자 토큰화\n",
    "    - 하나의 문자를 하나의 토큰으로 지정.\n",
    "    - 텍스트 생성, 음성 인식 등에서 활용됨."
   ]
  },
  {
   "cell_type": "markdown",
   "id": "6f3dd300",
   "metadata": {
    "id": "jI89IM0PZ8Oq"
   },
   "source": [
    "일반적으로 문자 토큰화는 잘 사용되지 않는다. \n",
    "단어 토큰화와 N-그램 토큰화를 간략하게 소개하면 다음과 같다.\n",
    "\n",
    "- 단어 토큰화: 단어들의 순서를 중요시하는 **시퀀스 모델**<font size='2'>sequence models</font>을 사용할 경우 주로 활용된다.\n",
    "- N-그램 토큰화: 단어들의 순서를 별로 상관하지 않는 **단어 주머니**<font size='2'>bag-of-words</font> \n",
    "    모델을 사용할 경우 주로 활용된다.\n",
    "    - N-그램: 단어들 사이의 순서에 대한 지엽적 정보를 어느 정도 유지\n",
    "    - 일종의 특성 공학<font size='2'>feature engineering</font> 기법이며, 트랜스포머 등 최신 기법에는 활용되지 않음."
   ]
  },
  {
   "cell_type": "markdown",
   "id": "c2fdcb2a",
   "metadata": {
    "id": "5H6-1RjBZ8Oq"
   },
   "source": [
    "단어 주머니<font size='2'>bag-of-words</font>는 N-그램으로 구성된 집합을 의미하며 \n",
    "**N-그램 주머니**라고도 불린다.\n",
    "예를 들어 \"the cat sat on the mat.\" 텍스트에 대한 \n",
    "2-그램(바이그램) 주머니와 3-그램 주머니는 각각 다음과 같다."
   ]
  },
  {
   "cell_type": "markdown",
   "id": "cfc7bf50",
   "metadata": {
    "id": "nQwzf0c3Z8Oq"
   },
   "source": [
    "- 2-그램(바이그램) 주머니\n",
    "\n",
    "    ```\n",
    "    {\"the\", \"the cat\", \"cat\", \"cat sat\", \"sat\",\n",
    "    \"sat on\", \"on\", \"on the\", \"the mat\", \"mat\"}\n",
    "    ```"
   ]
  },
  {
   "cell_type": "markdown",
   "id": "0f295839",
   "metadata": {
    "id": "hscQaMsgZ8Or"
   },
   "source": [
    "- 3-그램 주머니\n",
    "\n",
    "    ```\n",
    "    {\"the\", \"the cat\", \"cat\", \"cat sat\", \"the cat sat\",\n",
    "    \"sat\", \"sat on\", \"on\", \"cat sat on\", \"on the\",\n",
    "    \"sat on the\", \"the mat\", \"mat\", \"on the mat\"}\n",
    "    ```"
   ]
  },
  {
   "cell_type": "markdown",
   "id": "b0a08de5",
   "metadata": {},
   "source": [
    "여기서는 단어 토큰화를 이용한 자연어 처리 분석을 소개한다."
   ]
  },
  {
   "cell_type": "markdown",
   "id": "96b29292",
   "metadata": {
    "id": "3tCbQJOAZ8Or"
   },
   "source": [
    "### 어휘 색인화"
   ]
  },
  {
   "cell_type": "markdown",
   "id": "4438c177",
   "metadata": {
    "id": "H36AKaAIZ8Or"
   },
   "source": [
    "훈련셋에 포함된 모든 단어 토큰들의 색인(인덱스)을 생성한다.\n",
    "{numref}`%s장 <ch:getting_started_with_neural_networks>`에서 언급한 대로 \n",
    "사용 빈도가 높은 1만, 2만, 또는 3만 개의 단어만을 대상으로 어휘 색인화를 진행하는 게 일반적이다.\n",
    "당시에 IMDB 영화 후기 데이터셋을 아래와 같이 불러오면서 불러올 때\n",
    "`num_words=10000`을 사용하여 사용 빈도수가 상위 1만 등 안에 들지 않는 단어는\n",
    "영화 후기에서 무시되도록 하였다.\n",
    "\n",
    "```python\n",
    "from tensorflow.keras.datasets import imdb\n",
    "(train_data, train_labels), (test_data, test_labels) = imdb.load_data(num_words=10000)\n",
    "```"
   ]
  },
  {
   "cell_type": "markdown",
   "id": "8caa304f",
   "metadata": {},
   "source": [
    "어휘 색인화를 통해 생성된 **어휘집**<font size='2'>vocabulary</font>을 이용하여 \n",
    "텍스트를 아래와 같은 색인으로 구성된 리스트로 변환하는 과정이 **텍스트 벡터화**다.\n",
    "\n",
    "```python\n",
    "[1, 14, 22, 16, 43, 530, 973, 1, 1385, 65, 0, 0, 0, 0, 0]\n",
    "```"
   ]
  },
  {
   "cell_type": "markdown",
   "id": "80ee52e0",
   "metadata": {},
   "source": [
    "참고로 텍스트를 변환한 벡터에 사용되는 0과 1은 특별한 기능을 수행한다. \n",
    "바로 위의 색인 리스트에는 1이 두 번, 0이 5번 사용되었다.\n",
    "\n",
    "- 1의 기능: 미등록 어휘 인덱스. 즉, 어휘 색인에 미등록된(out-of-vocabulary, OOV) 단어는 모두 1로 처리된다.\n",
    "    그런 단어는 일반 텍스트로 재번역되는 경우 \"[UNK]\", 즉 모르는(unknown) 단어로 표현된다.\n",
    "- 0의 기능: 텍스트의 길이를 통일시키기 위해 패딩으로 사용하며, **마스크 토큰**<font size='2'>mask token</font>이라 부르리도 한다."
   ]
  },
  {
   "cell_type": "markdown",
   "id": "13120a23",
   "metadata": {},
   "source": [
    "영화 후기 분석을 위해\n",
    "{numref}`%s장 <ch:getting_started_with_neural_networks>`에서 사용한\n",
    "케라스의 imdb 데이터셋은 앞서 설명한 방식으로 이미 텍스트 벡터화가 완료된 상태였다.\n",
    "여기서는 영어 텍스트로 작성된 원본 영화 후기로 구성된 imdb 데이터셋을 \n",
    "다운로드하여 텍스트 벡터화 전처리를 직접 수행하는 단계부터 살펴보려 한다."
   ]
  },
  {
   "cell_type": "markdown",
   "id": "91ee174e",
   "metadata": {},
   "source": [
    "**`TextVectorization` 층**"
   ]
  },
  {
   "cell_type": "markdown",
   "id": "0c092529",
   "metadata": {
    "id": "s34AVqltZ8Or"
   },
   "source": [
    "케라스의 `TextVectorization` 층을 이용하여 텍스트 벡터화를 진행할 수 있다.\n",
    "아래 코드는 `TextVectorization` 층의 구성에 사용되는 주요 기본 설정을 보여준다.\n",
    "표준화, 토큰화, 출력 모드를 다양한 방식으로 지정할 수 있지만 기본값만 다룬다.\n",
    "자세한 내용은 [케라스 벡터화 층 공식문서](https://keras.io/api/layers/preprocessing_layers/text/text_vectorization/)를 참고한다.\n",
    "\n",
    "- 표준화\n",
    "    - `standardize='lower_and_strip_punctuation'`: 소문자화와 마침표 등 제거\n",
    "- 토큰화 \n",
    "    - `split='whitespace'`: 단어 기준 쪼개기\n",
    "    - `ngrams=None`: n-그램 미사용\n",
    "- 출력 모드\n",
    "    - `output_mode=\"int\"`: 단어를 정수 색인으로 인코딩\n",
    "- 텍스트 길이 제한\n",
    "    - `output_sequence_length=None`: 단어 길이 제한 지정. 제한 없음이 기본값."
   ]
  },
  {
   "cell_type": "markdown",
   "id": "9b9b7fde",
   "metadata": {
    "id": "s34AVqltZ8Or"
   },
   "source": [
    "```python\n",
    ">>> from tensorflow.keras.layers import TextVectorization\n",
    "\n",
    ">>> text_vectorization = TextVectorization(\n",
    "...     standardize='lower_and_strip_punctuation',  # 기본값\n",
    "...     split='whitespace',                         # 기본값\n",
    "...     ngrams=None,                                # 기본값\n",
    "...     output_mode='int',                          # 기본값\n",
    "...     output_sequence_length=None,                # 기본값\n",
    "... )\n",
    "```"
   ]
  },
  {
   "cell_type": "markdown",
   "id": "0e22cf0c",
   "metadata": {
    "id": "s34AVqltZ8Or"
   },
   "source": [
    "예를 들어, 아래 데이터셋을 이용하여 텍스트 벡터화에 사용될 어휘집을 생성해보자."
   ]
  },
  {
   "cell_type": "markdown",
   "id": "711f6a5a",
   "metadata": {
    "id": "s34AVqltZ8Or"
   },
   "source": [
    "```python\n",
    ">>> dataset = [\n",
    "...     \"I write, erase, rewrite\",\n",
    "...     \"Erase again, and then\",\n",
    "...     \"A poppy blooms.\",\n",
    "... ]\n",
    "```"
   ]
  },
  {
   "cell_type": "markdown",
   "id": "a02cf5f7",
   "metadata": {
    "id": "s34AVqltZ8Or"
   },
   "source": [
    "어휘 색인화와 어휘집 생성은 `adapt()` 메서드가 담당한다."
   ]
  },
  {
   "cell_type": "markdown",
   "id": "a08c013f",
   "metadata": {
    "id": "s34AVqltZ8Or"
   },
   "source": [
    "```python\n",
    ">>> text_vectorization.adapt(dataset)\n",
    "```"
   ]
  },
  {
   "cell_type": "markdown",
   "id": "60e48c59",
   "metadata": {
    "id": "s34AVqltZ8Or"
   },
   "source": [
    "생성된 어휘집은 다음과 같다."
   ]
  },
  {
   "cell_type": "markdown",
   "id": "296fac38",
   "metadata": {
    "id": "s34AVqltZ8Or"
   },
   "source": [
    "```python\n",
    ">>> vocabulary = text_vectorization.get_vocabulary()\n",
    ">>> vocabulary\n",
    "['',\n",
    " '[UNK]',\n",
    " 'erase',\n",
    " 'write',\n",
    " 'then',\n",
    " 'rewrite',\n",
    " 'poppy',\n",
    " 'i',\n",
    " 'blooms',\n",
    " 'and',\n",
    " 'again',\n",
    " 'a']\n",
    "```"
   ]
  },
  {
   "cell_type": "markdown",
   "id": "ddad9a66",
   "metadata": {},
   "source": [
    "**텍스트 벡터화**"
   ]
  },
  {
   "cell_type": "markdown",
   "id": "09f1392c",
   "metadata": {
    "id": "s34AVqltZ8Or"
   },
   "source": [
    "생성된 어휘집을 활용하여 새로운 텍스트를 벡터화 해보자.\n",
    "어휘집에 포함되지 않은 `'still'` 단어는 1로 변환되며\n",
    "텍스트의 길이 설정은 없기에 0, 즉 마스크 토큰을 이용한 패딩은 사용되지 않는다."
   ]
  },
  {
   "cell_type": "markdown",
   "id": "96dd7036",
   "metadata": {
    "id": "s34AVqltZ8Or"
   },
   "source": [
    "```python\n",
    ">>> test_sentence = \"I write, rewrite, and still rewrite again\"\n",
    ">>> encoded_sentence = text_vectorization(test_sentence)\n",
    ">>> print(encoded_sentence)\n",
    "tf.Tensor([ 7  3  5  9  1  5 10], shape=(7,), dtype=int64)\n",
    "```"
   ]
  },
  {
   "cell_type": "markdown",
   "id": "5df3762c",
   "metadata": {
    "id": "s34AVqltZ8Or"
   },
   "source": [
    "벡터화된 텐서로부터 텍스트를 복원하면 표준화된 텍스트가 생성된다.\n",
    "1로 변환된 `'still'`은 `[UNK]`로 복원된다."
   ]
  },
  {
   "cell_type": "markdown",
   "id": "6de77b47",
   "metadata": {
    "id": "s34AVqltZ8Or"
   },
   "source": [
    "```python\n",
    ">>> inverse_vocab = dict(enumerate(vocabulary))\n",
    ">>> decoded_sentence = \" \".join(inverse_vocab[int(i)] for i in encoded_sentence)\n",
    ">>> print(decoded_sentence)\n",
    "i write rewrite and [UNK] rewrite again\n",
    "```"
   ]
  },
  {
   "cell_type": "markdown",
   "id": "b5cb3b51",
   "metadata": {
    "id": "U1YzqULYZ8Ou"
   },
   "source": [
    ":::{admonition} `TextVectorization` 층과 GPU\n",
    ":class: warning\n",
    "\n",
    "`TextVectorization` 층은 GPU 또는 TPU에서 지원되지 않는다.\n",
    "따라서 모델 구성에 직접 사용하는 방식은 모델의 훈련을\n",
    "늦출 수 있기에 권장되지 않는다.\n",
    "\n",
    "일반적으로 모델 훈련을 위한 데이터셋 전처리는\n",
    "모델 구성과 독립적으로 처리한다.\n",
    "하지만 훈련이 완성된 모델을 실전에 배치할 경우 `TextVectorization` 층을\n",
    "완성된 모델에 추가해서 사용한다.\n",
    ":::"
   ]
  },
  {
   "cell_type": "markdown",
   "id": "e856917b",
   "metadata": {
    "id": "BGXhJe5XZ8Ou"
   },
   "source": [
    "### IMDB 영화 후기 데이터셋 벡터화"
   ]
  },
  {
   "cell_type": "markdown",
   "id": "c0734a23",
   "metadata": {
    "id": "6uzRLQDcZ8Ou"
   },
   "source": [
    "IMDB 영화 후기 데이터셋을 이용하여 텍스트 벡타화 과정을 상세히 살펴 본다."
   ]
  },
  {
   "cell_type": "markdown",
   "id": "961a7a7a",
   "metadata": {
    "id": "KaO7ilwSZ8Ou"
   },
   "source": [
    "**과정 1: 데이터셋 다운로드 압축 풀기**"
   ]
  },
  {
   "cell_type": "markdown",
   "id": "037ab02c",
   "metadata": {
    "id": "6uzRLQDcZ8Ou"
   },
   "source": [
    "먼저 자연어로 구성된 IMDB 영화 후기 데이터셋을 다운로드한다.\n",
    "5만 개의 IMDB 영화 후기를 압축한 \n",
    "[aclImdb_v1.tar,gz](https://ai.stanford.edu/~amaas/data/sentiment/aclImdb_v1.tar.gz) 파일을\n",
    "다운로드 한 후에 압축을 풀면 아래 구조의 디렉토리가 생성된다.\n",
    "\n",
    "```\n",
    "aclImdb/\n",
    "...test/\n",
    "......pos/\n",
    "......neg/\n",
    "...train/\n",
    "......pos/\n",
    "......neg/\n",
    "```\n",
    "\n",
    "`train`과 `test` 디렉토리 각각에 포함된 `pos`와 `neg` 서브디렉토리는\n",
    "각각 12,500 개의 긍정과 부정 후기를 포함한다."
   ]
  },
  {
   "cell_type": "markdown",
   "id": "09ded6e1",
   "metadata": {
    "id": "IfeoV0YCZ8Ov"
   },
   "source": [
    "**과정 2: 검증셋 준비**"
   ]
  },
  {
   "cell_type": "markdown",
   "id": "14598c3d",
   "metadata": {},
   "source": [
    "훈련셋의 20%를 검증셋으로 떼어낸다.\n",
    "이를 위해 `aclImdb/val` 디렉토리를 생성한 후에\n",
    "긍정과 부정 훈련셋 모두 무작위로 섞은 후 그중 20%를 검증셋 디렉토리로 옮긴다.\n",
    "최종적으로 자연어로 구성된 IMDB 영화 후기 원본 데이터셋이 아래 디렉토리 구조로 나뉜다.\n",
    "\n",
    "- `train`: `pos`와 `neg` 서브디렉토리에 각각 10,000 개의 긍정과 부정 후기 포함\n",
    "- `test`: `pos`와 `neg` 서브디렉토리에 각각 12,500 개의 긍정과 부정 후기 포함\n",
    "- `val`: `pos`와 `neg` 서브디렉토리에 각각 2,500 개의 긍정과 부정 후기 포함"
   ]
  },
  {
   "cell_type": "markdown",
   "id": "e932696c",
   "metadata": {},
   "source": [
    "```\n",
    "aclImdb/\n",
    "...test/\n",
    "......pos/\n",
    "......neg/\n",
    "...train/\n",
    "......pos/\n",
    "......neg/\n",
    "...val/\n",
    "......pos/\n",
    "......neg/\n",
    "```"
   ]
  },
  {
   "cell_type": "markdown",
   "id": "cbbb1c17",
   "metadata": {
    "id": "fljBC3puZ8Ov"
   },
   "source": [
    "**과정 3: 텐서 데이터셋 준비**"
   ]
  },
  {
   "cell_type": "markdown",
   "id": "840a9d17",
   "metadata": {},
   "source": [
    "`keras.utils.text_dataset_from_directory()` 함수를 이용하여 \n",
    "훈련셋 텐서, 검증셋 텐서, 테스트셋 텐서를 생성한다. \n",
    "생성된 값들의 자료형은 모두 `Dataset`이다.\n",
    "`Dataset` 자료형은\n",
    "데이터 샘플을 일정 크기로 묶은 배치 데이터셋으로 구성된다.\n",
    "여기서는 데이터 샘플을 32 개씩 묶은 배치를 사용한다."
   ]
  },
  {
   "cell_type": "markdown",
   "id": "af0f4f19",
   "metadata": {
    "colab": {
     "base_uri": "https://localhost:8080/"
    },
    "id": "e41g6BtPZ8Ov",
    "outputId": "b40fd231-c8d5-4ac9-86df-a291b3b40e64"
   },
   "source": [
    "```python\n",
    "batch_size = 32\n",
    "\n",
    "train_ds = keras.utils.text_dataset_from_directory(\n",
    "    \"aclImdb/train\", batch_size=batch_size)\n",
    "\n",
    "val_ds = keras.utils.text_dataset_from_directory(\n",
    "    \"aclImdb/val\", batch_size=batch_size)\n",
    "\n",
    "test_ds = keras.utils.text_dataset_from_directory(\n",
    "    \"aclImdb/test\", batch_size=batch_size)\n",
    "```"
   ]
  },
  {
   "cell_type": "markdown",
   "id": "dbdfb285",
   "metadata": {
    "id": "qLi_rBmlZ8Ov"
   },
   "source": [
    "`Dataset`의 항목이 입력값과 타깃으로 구성된 튜플 형식임에 주의한다. \n",
    "사실 다운로드한 IMDB 데이터셋은 영화 후기만 포함한다. \n",
    "그런데 `text_dataset_from_directory()` 함수가 컴퓨터 하드디스크의 디렉토리에 저장된 \n",
    "영화 후기를 `Dataset` 자료형의 텐서로 불러올 때 \n",
    "`pos`와 `neg` 서브디렉토리에 포함된 영화 후기의 타깃으로\n",
    "각각 1과 0을 지정한다.\n",
    "\n",
    "예를 들어, 훈련셋 텐서인 `train_ds`에 포함된 첫째 배치 항목에 포함된 첫째 훈련 샘플의 입력값과 타깃의 정보는 다음과 같다.\n",
    "입력 샘플은 텐서플로우의 `tf.string` 이라는 문자열 텐서로,\n",
    "타깃은 `int32` 정수 텐서로 지정된다. \n",
    "`tf.string`은 파이썬의 기본 자료형인 `str`과 다름에 주의한다."
   ]
  },
  {
   "cell_type": "markdown",
   "id": "6cba2ab1",
   "metadata": {
    "colab": {
     "base_uri": "https://localhost:8080/"
    },
    "id": "G05FSfO1Z8Ov",
    "outputId": "590ae91b-24f2-45a7-864a-ab9e8615e6e1"
   },
   "source": [
    "```python\n",
    ">>> for inputs, targets in train_ds:\n",
    "...     print(\"inputs.shape:\", inputs.shape)\n",
    "...     print(\"inputs.dtype:\", inputs.dtype)\n",
    "...     print(\"targets.shape:\", targets.shape)\n",
    "...     print(\"targets.dtype:\", targets.dtype)\n",
    "\n",
    "...     # 예제: 첫째 배치의 첫째 후기\n",
    "...     print(\"inputs[0]:\", inputs[0])\n",
    "...     print(\"targets[0]:\", targets[0])    \n",
    "...     break\n",
    "```"
   ]
  },
  {
   "cell_type": "markdown",
   "id": "b4082127",
   "metadata": {
    "colab": {
     "base_uri": "https://localhost:8080/"
    },
    "id": "G05FSfO1Z8Ov",
    "outputId": "590ae91b-24f2-45a7-864a-ab9e8615e6e1"
   },
   "source": [
    "```\n",
    "inputs.shape: (32,)\n",
    "inputs.dtype: <dtype: 'string'>\n",
    "targets.shape: (32,)\n",
    "targets.dtype: <dtype: 'int32'>\n",
    "\n",
    "inputs[0]: tf.Tensor(b'The film begins with a bunch of kids in reform school and\n",
    "focuses on a kid named \\'Gabe\\', who has apparently worked hard to earn his parole.\n",
    "Gabe and his sister move to a new neighborhood to make a fresh start and soon Gabe\n",
    "meets up with the Dead End Kids. The Kids in this film are little punks, but they\n",
    "are much less antisocial than they\\'d been in other previous films and down deep,\n",
    "they are well-meaning punks. However, in this neighborhood there are also some\n",
    "criminals who are perpetrating insurance fraud through arson and see Gabe as a\n",
    "convenient scapegoat--after all, he\\'d been to reform school and no one would\n",
    "believe he was innocent once he was framed. So, when Gabe is about ready to be sent\n",
    "back to \"The Big House\", it\\'s up to the rest of the gang to save him and expose\n",
    "the real crooks.<br /><br />The \"Dead End Kids\" appeared in several Warner Brothers\n",
    "films in the late 1930s and the films were generally very good (particularly ANGELS\n",
    "WITH DIRTY FACES). However, after the boys\\' contracts expired, they went on to\n",
    "Monogram Studios and the films, to put it charitably, were very weak and formulaic\n",
    "--with Huntz Hall and Leo Gorcey being pretty much the whole show and the group\n",
    "being renamed \"The Bowery Boys\". Because ANGELS WASH THEIR FACES had the excellent\n",
    "writing and production values AND Hall and Gorcey were not constantly mugging for\n",
    "the camera, it\\'s a pretty good film--and almost earns a score of 7 (it\\'s REAL\n",
    "close). In fact, while this isn\\'t a great film aesthetically, it\\'s sure a lot of\n",
    "fun to watch, so I will give it a 7! Sure, it was a tad hokey-particularly towards\n",
    "the end when the kids take the law into their own hands and Reagan ignores the Bill\n",
    "of Rights--but it was also quite entertaining. The Dead End Kids are doing their\n",
    "best performances and Ronald Reagan and Ann Sheridan provided excellent support.\n",
    "Sure, this part of the film was illogical and impossible but somehow it was still\n",
    "funny and rather charming--so if you can suspend disbelief, it works well.',\n",
    "shape=(), dtype=string)\n",
    "targets[0]: tf.Tensor(1, shape=(), dtype=int32)\n",
    "```"
   ]
  },
  {
   "cell_type": "markdown",
   "id": "3c30acbc",
   "metadata": {
    "colab_type": "text"
   },
   "source": [
    "**과정 4: 텍스트 벡터화**"
   ]
  },
  {
   "cell_type": "markdown",
   "id": "6a0823c1",
   "metadata": {},
   "source": [
    "데이터셋에 포함된 모든 영화 후기를 대상으로 텍스트 벡터화를 진행한다.\n",
    "단, 영화 후기가 최대 600 개의 단어만 사용하도록 한다. \n",
    "또한 사용되는 어휘는 사용빈도 기준으로 최대 2만 개로 제한한다. \n",
    "\n",
    "영화 후기의 길이를 600 개의 단어로 제한한 이유는 후기가 평균적으로 233 개의 단어를 사용하고,\n",
    "600 단어 이상을 사용하는 후기는 전체의 5% 정도에 불과하기 때문이다.\n",
    "600 개 이상의 단어를 사용하는 영화 후기는 모두 600 단어로 끊는다.\n",
    "600 개보다 적은 수의 단어를 사용한다면 마스크 토큰 0을 패딩으로 사용한다.\n",
    "\n",
    "아래 코드는 텍스트 벡터화를 진행할 `TextVectorization` 층을 지정한다."
   ]
  },
  {
   "cell_type": "markdown",
   "id": "f87c4992",
   "metadata": {
    "colab_type": "code"
   },
   "source": [
    "```python\n",
    "max_length = 600                       # 후기 길이 제한\n",
    "max_tokens = 20000                     # 단어 사용빈도 제한\n",
    "\n",
    "text_vectorization = layers.TextVectorization(\n",
    "    max_tokens=max_tokens,              # 후기에 사용되는 단어의 종류는 총 2만 종류\n",
    "    output_mode=\"int\",\n",
    "    output_sequence_length=max_length,  # 하나의 후기에 포함된 최대 단어는 최대 600 개\n",
    ")\n",
    "```"
   ]
  },
  {
   "cell_type": "markdown",
   "id": "7293e702",
   "metadata": {},
   "source": [
    "어휘 색인화는 훈련셋만 대상으로 진행한다.\n",
    "따라서 훈련셋에 포함되지 않은 단어는 모두 1로 처리되어 무시된다.\n",
    "어휘 색인화를 위해 먼저 `map()` 메서드를 이용하여 훈련셋에서 타깃을 제외한 영화 후기만으로 구성된\n",
    "데이터셋을 생성한다.\n",
    "\n",
    "- `map()` 메서드: `map()` 메서드의 반환값은 인자로 지정된 함수가 각각의 샘플에 대해 적용된 결과를\n",
    "    동일한 크기의 배치로 묶은 `Dataset` 객체이다.\n",
    "- `lambda x, y: x` 함수: 튜플 형식의 인자를 받아 첫째 항목을 반환하는 람다 함수이다.\n",
    "    여기서는 `train_ds` 텐서에 포함된 샘플이 영화 후기와 타깃을 하나로 묶은 튜플 형식의 값이기 때문에\n",
    "    영화 후기만을 추출하기 위해 사용된다."
   ]
  },
  {
   "cell_type": "markdown",
   "id": "87eca4f6",
   "metadata": {
    "colab_type": "code"
   },
   "source": [
    "```python\n",
    "# 어휘 색인 생성 대상 훈련셋 후기 텍스트 데이터셋\n",
    "text_only_train_ds = train_ds.map(lambda x, y: x)\n",
    "\n",
    "# 어휘 색인\n",
    "text_vectorization.adapt(text_only_train_ds)\n",
    "```"
   ]
  },
  {
   "cell_type": "markdown",
   "id": "1fdab6fe",
   "metadata": {},
   "source": [
    "생성된 어휘집을 이용하여 훈련셋, 검증셋, 테스셋 모두 텍스트 벡터화를 진행한다.\n",
    "영화 후기만을 대상으로 벡터화를 진행해야 하기에 \n",
    "`map()` 메서드를 이용하여 영화 후기와 타깃을 구분한다."
   ]
  },
  {
   "cell_type": "markdown",
   "id": "eb90ded1",
   "metadata": {
    "colab_type": "code"
   },
   "source": [
    "```python\n",
    "# 후기를 길이가 2만인 정수들의 리스트로 변환\n",
    "int_train_ds = train_ds.map(lambda x, y: (text_vectorization(x), y))\n",
    "int_val_ds = val_ds.map(lambda x, y: (text_vectorization(x), y))\n",
    "int_test_ds = test_ds.map(lambda x, y: (text_vectorization(x), y))\n",
    "```"
   ]
  },
  {
   "cell_type": "markdown",
   "id": "7e614fa5",
   "metadata": {},
   "source": [
    "예를 들어, 벡터화된 훈련셋의 첫째 영화 후기, 즉 첫째 배치의 첫째 샘플은 다음과 같다."
   ]
  },
  {
   "cell_type": "markdown",
   "id": "1fb6118d",
   "metadata": {},
   "source": [
    "```python\n",
    ">>> for inputs, targets in int_train_ds:\n",
    "...     print(\"inputs[0]:\", inputs[0])\n",
    "...     break\n",
    "```"
   ]
  },
  {
   "cell_type": "markdown",
   "id": "d49f1bb8",
   "metadata": {},
   "source": [
    "```python\n",
    "tf.Tensor(\n",
    "[   11     7     4  8614    18    38     9   139   138   197   640    12\n",
    "    30    22   167     6  3035     2    86  3146   664    19    12   291\n",
    "    11    14  2400  2996    13    55   322   429    11    19   172     4\n",
    "   337    35   116   230   172     4  1107     2   196  1562    14    12\n",
    "    10   399     9   100     9    14   478    46  1368   162    31    47\n",
    "   509    56     2  7585   645    66   733     5   239  1428     1    17\n",
    "     2    86    18     3    56    47   645    12    23    66     6    28\n",
    "   920     6   376    19   197   107 14487    39     8  8227    83    23\n",
    "   103   235     1    16  6307    13     4   309   869    21     2  7585\n",
    "   645    10    14   776     6   158    12   593     5     2   645    67\n",
    "    41  3488  5321     8   188    48    67   208    57     1    31    32\n",
    "     2  1990    67   154   239  1265    35   154    66     4     1     3\n",
    "    67   208     8    50  1244   450    39    55   322     6   103    12\n",
    "   217    53     6   493    72   167     6     2  3925     3    11    18\n",
    "     7   479     8   144     1    13  8499    49   330     2   223    14\n",
    "  5673    22   730    15  1428    15     8     2    86    42   327    18\n",
    "    19   943     5   250    16     2   322    57  2027  1932   383    62\n",
    "    14     4 13077    16    70     4   110   215    19   157   100   609\n",
    "     2  1013     5     1   500    55   322  3987    22   242     4  3852\n",
    "   690    14  2207    16    12  2227    13    32     8    32   450   129\n",
    "    11     7     4    84    18    16   322     5    98   588    29   172\n",
    "  1319  2224     6   381    99   104    10   328    22     6    28  2012\n",
    "  2677    19   193    66     6  1810    58     3   460   127     2   247\n",
    "   301     4   163    93    12    67   324     1    72   848    19   321\n",
    "  2224     6   544     2   698   301    11    29   450   129  1245   183\n",
    "   574   149    23   225   158    12    23   341     9   100     0     0\n",
    "     0     0     0     0     0     0     0     0     0     0     0     0\n",
    "     0     0     0     0     0     0     0     0     0     0     0     0\n",
    "     0     0     0     0     0     0     0     0     0     0     0     0\n",
    "     0     0     0     0     0     0     0     0     0     0     0     0\n",
    "     0     0     0     0     0     0     0     0     0     0     0     0\n",
    "     0     0     0     0     0     0     0     0     0     0     0     0\n",
    "     0     0     0     0     0     0     0     0     0     0     0     0\n",
    "     0     0     0     0     0     0     0     0     0     0     0     0\n",
    "     0     0     0     0     0     0     0     0     0     0     0     0\n",
    "     0     0     0     0     0     0     0     0     0     0     0     0\n",
    "     0     0     0     0     0     0     0     0     0     0     0     0\n",
    "     0     0     0     0     0     0     0     0     0     0     0     0\n",
    "     0     0     0     0     0     0     0     0     0     0     0     0\n",
    "     0     0     0     0     0     0     0     0     0     0     0     0\n",
    "     0     0     0     0     0     0     0     0     0     0     0     0\n",
    "     0     0     0     0     0     0     0     0     0     0     0     0\n",
    "     0     0     0     0     0     0     0     0     0     0     0     0\n",
    "     0     0     0     0     0     0     0     0     0     0     0     0\n",
    "     0     0     0     0     0     0     0     0     0     0     0     0\n",
    "     0     0     0     0     0     0     0     0     0     0     0     0\n",
    "     0     0     0     0     0     0     0     0     0     0     0     0\n",
    "     0     0     0     0     0     0     0     0     0     0     0     0\n",
    "     0     0     0     0     0     0     0     0     0     0     0     0\n",
    "     0     0     0     0     0     0     0     0     0     0     0     0], \n",
    "shape=(600,), dtype=int64)\n",
    "```"
   ]
  },
  {
   "cell_type": "markdown",
   "id": "3f903172",
   "metadata": {
    "id": "HLeiiilMZ8Ou"
   },
   "source": [
    "## 단어 임베딩"
   ]
  },
  {
   "cell_type": "markdown",
   "id": "d1ef4134",
   "metadata": {
    "id": "6uzRLQDcZ8Ou"
   },
   "source": [
    "단어 임베딩<font size='2'>word embedding</font>은 \n",
    "텍스트 벡터화를 통해 생성된 어휘집의 단어가 문맥에 따라 가질 수 있는 여러 의미와\n",
    "다른 단어들과의 연관성 정보를 표현하는 부동소수점들로 구성된 벡터로 변환하는 과정이다."
   ]
  },
  {
   "cell_type": "markdown",
   "id": "42ecf118",
   "metadata": {},
   "source": [
    "**`Embedding` 층**\n",
    "\n",
    "단어 임베딩은 모델 훈련을 통해 학습되도록 유도한다.\n",
    "이유는 언어 종류, 텍스트 내용, 모델 훈련 목적에 따라 \n",
    "단어들 사이의 관계가 다르게 학습되어야 하기 때문이다. \n",
    "예를 들어, 영화 후기에 포함된 텍스트와 재판 판결문 텍스트는\n",
    "단어의 종류뿐만 아니라 동일한 단어의 의미와 용도까지\n",
    "많이 다를 수 있기에 당연히 단어 임베딩 또한 \n",
    "달라져야 한다."
   ]
  },
  {
   "cell_type": "markdown",
   "id": "bb6ba8df",
   "metadata": {},
   "source": [
    "케라스의 `Embedding` 층이 훈련셋에 따라 다른 단어 임베딩이 학습되도록 하는 기능을 제공한다.\n",
    "`Embedding` 층을 선언하는 방식은 아래 코드와 같다.\n",
    "\n",
    "- `input_dim`: 총 어휘 수. 여기서는 7 개.\n",
    "- `output_dim`: 단어 임베딩에 사용되는 벡터의 크기. 여기서는 단어별로 4 개의 특성을 찾도록 유도함."
   ]
  },
  {
   "cell_type": "markdown",
   "id": "2247893c",
   "metadata": {},
   "source": [
    "```python\n",
    "vocab_size = 7 # 총 어휘 수\n",
    "embed_dim = 4  # 단어별로 4 개의 특성 파악.\n",
    "\n",
    "embedding_layer = tf.keras.layers.Embedding(input_dim=vocab_size, \n",
    "                                            output_dim=embed_dim)\n",
    "```"
   ]
  },
  {
   "cell_type": "markdown",
   "id": "f03db569",
   "metadata": {},
   "source": [
    "위와 같이 선언된 `Embedding` 층은 (7, 4) 모양의 2차원 텐서로 구성되며\n",
    "모델 훈련이 시작될 때 균등 분포를 이용하여 초기화된다.\n",
    "이후 훈련을 통해 `7x4` 개의 항목이 훈련 파라미터로써 학습된다."
   ]
  },
  {
   "cell_type": "markdown",
   "id": "cd38658a",
   "metadata": {},
   "source": [
    "아래 그림은 앞서 정의한 `Embedding` 층의 작동 과정을 보여준다.\n",
    "예를 들어 6개의 단어로 구성된 \"The mouse ran up the clock\" 문장을 단어 임베딩하는 과정은 다음과 같다.\n",
    "\n",
    "- 먼저 단어들의 정수 색인으로 구성된 길이가 6인 벡터인 `[1, 2, 3, 4, 1, 5]`로 변환한다.\n",
    "- 단어 임베딩을 통해 4 개의 부동소수점을 포함한 벡터 6 개로 구성된 (6, 4) 모양의 텐서로 변환된다."
   ]
  },
  {
   "cell_type": "markdown",
   "id": "e7e50e62",
   "metadata": {
    "id": "6uzRLQDcZ8Ou"
   },
   "source": [
    "<div align=\"center\"><img src=\"https://raw.githubusercontent.com/codingalzi/dlp2/master/jupyter-book/imgs/ch11-EmbeddingLayer.png\" style=\"width:95%;\"></div>\n",
    "\n",
    "<p><div style=\"text-align: center\">&lt;그림 출처: <a href=\"https://developers.google.com/machine-learning/guides/text-classification/step-3?hl=ko\">머신러닝 가이드</a>&gt;</div></p>"
   ]
  },
  {
   "cell_type": "markdown",
   "id": "82727196",
   "metadata": {
    "id": "6uzRLQDcZ8Ou"
   },
   "source": [
    "위 그림에서의 단어 임베딩에 사용된 `(7, 4)` 모양의 2차원 텐서는 다음과 같다."
   ]
  },
  {
   "cell_type": "markdown",
   "id": "cd639710",
   "metadata": {
    "id": "6uzRLQDcZ8Ou"
   },
   "source": [
    "```python\n",
    "embedding_matrix = [[-0.012, 0.005, 0.008, 0.001],\n",
    "                    [0.236, -0.141, 0.000, 0.045],\n",
    "                    [0.006, 0.652, 0.270, -0.556],\n",
    "                    [0.305, 0.569, -0.028, 0.496],\n",
    "                    [0.421, 0.195, -0.058, 0.477],\n",
    "                    [0.844, -0.001, 0.763, 0.201],\n",
    "                    [0.466, -0.326, 0.884, 0.007]]\n",
    "```"
   ]
  },
  {
   "cell_type": "markdown",
   "id": "3b4878ff",
   "metadata": {
    "id": "6uzRLQDcZ8Ou"
   },
   "source": [
    "그리고 \"The mouse ran up the clock\" 벡터화된\n",
    "`[1, 2, 3, 4, 1, 5]` 가 `Embedding` 층에 입력되면\n",
    "아래와 같이 위 `embedding_matrix`로부터 \n",
    "각각의 색인에 해당하는 벡터를 추출하여\n",
    "`(6, 4)` 모양의 출력 텐서를 생성한다.\n",
    "\n",
    "- `'the'   => 1 => [0.236, -0.141, 0.000, 0.045]`\n",
    "- `'mouse' => 2 => [0.006, 0.652, 0.270, -0.556]`\n",
    "- `'ran'   => 3 => [0.305, 0.569, -0.028, 0.496]`\n",
    "- `'up'    => 4 => [0.421, 0.195, -0.058, 0.477]`\n",
    "- `'the'   => 1 => [0.236, -0.141, 0.000, 0.045]`\n",
    "- `'clock' => 5 => [0.844, -0.001, 0.763, 0.201]`"
   ]
  },
  {
   "cell_type": "markdown",
   "id": "44273d95",
   "metadata": {
    "id": "6uzRLQDcZ8Ou"
   },
   "source": [
    "반면에 \"The mouse ran down\"는 `[1, 2, 3, 6]`으로 벡터화 되기에 `Embedding` 층을\n",
    "통과할 때 `(4, 4)` 모양으로 단어 임베딩된다.\n",
    "\n",
    "- `'the'   => 1 => [0.236, -0.141, 0.000, 0.045]`\n",
    "- `'mouse' => 2 => [0.006, 0.652, 0.270, -0.556]`\n",
    "- `'ran'   => 3 => [0.305, 0.569, -0.028, 0.496]`\n",
    "- `'down'  => 6 => [0.466, -0.326, 0.884, 0.007]`"
   ]
  },
  {
   "cell_type": "markdown",
   "id": "d51dddca",
   "metadata": {},
   "source": [
    "**단어 임베딩의 의미**"
   ]
  },
  {
   "cell_type": "markdown",
   "id": "305b22d3",
   "metadata": {
    "id": "6uzRLQDcZ8Ou"
   },
   "source": [
    "단어 임베딩의 결과로 생성된 벡터에 포함된 \n",
    "각각의 항목은 해당 단어가 가질 수 있는 다양한 의미를 가리킨다. \n",
    "아래 그림은 3차원 벡터로 변환된 단어들의 예시를 담고 있다.\n",
    "\n",
    "- 왼쪽: 남성을 가리키는 용어와 여성을 가리키는 용어의 관계\n",
    "- 가운데: 동사의 시제 관계\n",
    "- 오른쪽: 국가와 국가의 수도 관계"
   ]
  },
  {
   "cell_type": "markdown",
   "id": "8e6f0c33",
   "metadata": {
    "id": "6uzRLQDcZ8Ou"
   },
   "source": [
    "<div align=\"center\"><img src=\"https://raw.githubusercontent.com/codingalzi/dlp2/master/jupyter-book/imgs/ch11-WordEmbeddings-b.png\" style=\"width:95%;\"></div>\n",
    "\n",
    "<p><div style=\"text-align: center\">&lt;그림 출처: <a href=\"https://developers.google.com/machine-learning/guides/text-classification/step-3?hl=ko\">머신러닝 가이드</a>&gt;</div></p>"
   ]
  },
  {
   "cell_type": "markdown",
   "id": "cdfc2673",
   "metadata": {},
   "source": [
    "**단어 임베딩 활용법**"
   ]
  },
  {
   "cell_type": "markdown",
   "id": "ef63969c",
   "metadata": {},
   "source": [
    "단어 임베딩은 입력층 다음에 위치시킨다.\n",
    "그러면 어휘 인덱스로 구성된 훈련 배치 데이터셋에 대해\n",
    "바로 단어 임베딩을 실행한다.\n",
    "그 이후에 텍스트의 내용을 파악하는 훈련을 시작할 수 있다.\n",
    "\n",
    "아래 코드에서 `Embedding` 층 바로 다음에 위치하는 \n",
    "`TransformerEncoder` 층이 텍스트의 내용을 파악한다.\n",
    "그런 다음에 최종적으로 모델의 예측값을 `Dense` 층을 통해 결정한다."
   ]
  },
  {
   "cell_type": "markdown",
   "id": "0a5a7bbc",
   "metadata": {
    "colab_type": "code"
   },
   "source": [
    "```python\n",
    "vocab_size = 20000 # 총 어휘 수\n",
    "embed_dim = 256    # 단어별로 256 개의 특성 파악.\n",
    "\n",
    "# 입력층: 어휘 인덱스로 구성된 벡터들의 배치 입력\n",
    "inputs = keras.Input(shape=(None,), dtype=\"int64\")\n",
    "\n",
    "# 단어 임베딩 실행\n",
    "x = layers.Embedding(vocab_size, embed_dim)(inputs)\n",
    "\n",
    "# 트랜스포머 인코더: 텍스트 내용 파악\n",
    "x = TransformerEncoder(embed_dim, dense_dim, num_heads)(x)\n",
    "\n",
    "# 출력층\n",
    "x = layers.GlobalMaxPooling1D()(x)\n",
    "x = layers.Dropout(0.5)(x)\n",
    "outputs = layers.Dense(1, activation=\"sigmoid\")(x)\n",
    "\n",
    "# 모델 선언\n",
    "model = keras.Model(inputs, outputs)\n",
    "```"
   ]
  },
  {
   "cell_type": "markdown",
   "id": "edea80f5",
   "metadata": {
    "colab_type": "text"
   },
   "source": [
    "## 트랜스포머 아키텍처"
   ]
  },
  {
   "cell_type": "markdown",
   "id": "fe06fb2b",
   "metadata": {},
   "source": [
    "앞서 언급한 트랜스포머 인코더는\n",
    "2017년에 발표된 논문인 [\"Attention is all you need\"](https://arxiv.org/abs/1706.03762)에서\n",
    "**트랜스포머**<font size='2'>Transformer</font> 아키텍처의 주요 구성 요소 중 하나로 소개되었다.\n",
    "트랜스포머 아키텍처는 **셀프 어텐션**<font size='2'>Self attention</font> 이라는\n",
    "뉴럴 어텐션<font size='2'>neural attention</font> 기법을 이용하며 자연어처리 분야에서 혁명을 불러왔다."
   ]
  },
  {
   "cell_type": "markdown",
   "id": "ae30943e",
   "metadata": {
    "colab_type": "text"
   },
   "source": [
    "### 셀프 어텐션"
   ]
  },
  {
   "cell_type": "markdown",
   "id": "9595526c",
   "metadata": {},
   "source": [
    "입력값의 특성 중에 보다 중요한 특성에 **집중**<font size='2'>attention</font>하면 보다 효율적으로\n",
    "훈련이 진행될 수 있다.\n",
    "아래 그림에서 볼 수 있듯이 이미지의 주요 부분에 집중하여 보다 효율적인 이미지 분석을 진행할 수 있다.\n",
    "그림 왼쪽 하단에 위치한 어텐션 점수<font size='2'>attention score</font>는 \n",
    "위쪽 고양이 사진에 포함된 각각의 픽셀에 대한 가중치로 구성된다. \n",
    "오른쪽 사진은 원본 이미지와 어텐션 점수를 곱한 결과로\n",
    "고양이의 머리에만 집중한다.\n",
    "이와같이 모든 입력 사진에 어텐션 점수를 계산하여 활용한다면\n",
    "사진 속의 객체를 파악하는 분석 모델을 보다 효율적으로 훈련시킬 수 있다."
   ]
  },
  {
   "cell_type": "markdown",
   "id": "58b89159",
   "metadata": {},
   "source": [
    "<div align=\"center\"><img src=\"https://drek4537l1klr.cloudfront.net/chollet2/Figures/11-05.png\" style=\"width:70%;\"></div>\n",
    "\n",
    "<p><div style=\"text-align: center\">&lt;그림 출처: <a href=\"https://www.manning.com/books/deep-learning-with-python-second-edition\">Deep Learning with Python(2판)</a>&gt;</div></p>"
   ]
  },
  {
   "cell_type": "markdown",
   "id": "cfa792bd",
   "metadata": {},
   "source": [
    "**자연어 처리에서의 셀프 어텐션**"
   ]
  },
  {
   "cell_type": "markdown",
   "id": "23b310ed",
   "metadata": {},
   "source": [
    "**셀프 어텐션**<font size='2'>self-attention</font>은 주어진 샘플의 어텐션 점수를 계산할 때\n",
    "해당 샘플을 활용하는 기법이며 자연어 처리에서 텍스트에 포함된 단어들의 문맥상의 의미를 파악하기 위해 유용하게 활용된다.\n",
    "\n",
    "아래 그림은 \"The train  left the station on time.\" 이라는 텍스트를\n",
    "먼저 단어 임베딩한 다음에 셀프 어텐션을 적용하여 \n",
    "텍스트의 문맥을 반영한 값들로 구성된\n",
    "새로운 단어 임베딩으로 변환하는 과정을 보여준다.\n",
    "\n",
    "- 먼저 텍스트를 `Embedding` 층을 이용하여 단어 임베딩시킨다.\n",
    "- 생성된 벡터 시퀀스에 셀프 어텐션을 적용하여 문맥이 적용된 동일 모양의 새로운 벡터 시퀀스를 생성한다.\n",
    "    - 1단계: 텍스트에 사용된 각 토큰들 사이의 연관성을 계산하여 어텐션 점수<font size='2'>attention scores</font> 생성.\n",
    "    - 2단계: 계산된 어텐션 점수를 시퀀스의 각 단어 벡터와 결합시켜서 한 단어를 기준으로 다른 단어들이 갖는 의미를 반영한 단어 벡터들의 시퀀스 생성.\n",
    "            \n",
    "아래 그림에서는 \"station\" 단어에 해당하는 벡터가 새로운 벡터로 변환되는 과정을 보여준다."
   ]
  },
  {
   "cell_type": "markdown",
   "id": "0de7c7a1",
   "metadata": {},
   "source": [
    "<div align=\"center\"><img src=\"https://raw.githubusercontent.com/codingalzi/dlp2/master/jupyter-book/imgs/ch11-self_attention.jpg\" style=\"width:100%;\"></div>\n",
    "\n",
    "<p><div style=\"text-align: center\">&lt;그림 출처: <a href=\"https://www.manning.com/books/deep-learning-with-python-second-edition\">Deep Learning with Python(2판)</a>&gt;</div></p>"
   ]
  },
  {
   "cell_type": "markdown",
   "id": "4859a105",
   "metadata": {},
   "source": [
    "아래 `self_attention()` 함수는 셀프 어텐션이 작동하는 과정을 설명하는 유사코드다.\n",
    "함수의 입력값은 단어 임베딩된 시퀀스가 사용된다."
   ]
  },
  {
   "cell_type": "markdown",
   "id": "205161c0",
   "metadata": {},
   "source": [
    "```python\n",
    "def self_attention(input_sequence):\n",
    "    # 문맥이 반영된 시퀀스 저장\n",
    "    output = np.zeros(shape=input_sequence.shape)\n",
    "    \n",
    "    # 단어 임베딩된 시퀀스의 단어 벡터 각각(pivor_vector)에 대해 \n",
    "    # 셀프 어텐션 실행. 위 그림 참고.\n",
    "    for i, pivot_vector in enumerate(input_sequence):\n",
    "\n",
    "        # pivot_vector와 다른 단어 벡터들 사이의 문맥 점수 계산\n",
    "        scores = np.zeros(shape=(len(input_sequence),))\n",
    "        for j, vector in enumerate(input_sequence):\n",
    "            scores[j] = np.dot(pivot_vector, vector.T)\n",
    "\n",
    "        # 계산된 점수를 스케일링 후 소프트맥스 적용\n",
    "        scores /= np.sqrt(input_sequence.shape[1])\n",
    "        scores = softmax(scores)\n",
    "\n",
    "        # 문맥이 반영된 단어 벡터로 변환\n",
    "        # 각 단어 벡터와 점수를 곱한 결과를 더함.\n",
    "        new_pivot_representation = np.zeros(shape=pivot_vector.shape)\n",
    "        for j, vector in enumerate(input_sequence):\n",
    "            new_pivot_representation += vector * scores[j]\n",
    "        \n",
    "        # pivot_vector를 변환한 벡터 저장\n",
    "        output[i] = new_pivot_representation\n",
    "\n",
    "    return output\n",
    "```"
   ]
  },
  {
   "cell_type": "markdown",
   "id": "99c077ff",
   "metadata": {},
   "source": [
    "`self_attention()` 함수의 셀프 어텐션 기능을 `MultiHeadAttention` 층으로 구현할 수 있다."
   ]
  },
  {
   "cell_type": "markdown",
   "id": "68c389a8",
   "metadata": {},
   "source": [
    "```python\n",
    "num_heads = 2 # 두 개의 셀프 어텐션 동시 진행. 각각 다른 문맥을 파악.\n",
    "embed_dim = 256 # 단어 임베딩된 벡터의 길이\n",
    "\n",
    "mha_layer = MultiHeadAttention(num_heads=num_heads, key_dim=embed_dim)\n",
    "outputs = mha_layer(inputs, inputs, inputs)\n",
    "```"
   ]
  },
  {
   "cell_type": "markdown",
   "id": "8b5b60e2",
   "metadata": {
    "colab_type": "text"
   },
   "source": [
    "### 멀티헤드 어텐션"
   ]
  },
  {
   "cell_type": "markdown",
   "id": "95690459",
   "metadata": {},
   "source": [
    "**멀티헤드 어텐션**<font size='2'>multi-head attention</font>은\n",
    "어텐션 변환을 수행하는 **헤드**<font size='2'>head</font>를 여러 개 사용해서 \n",
    "다양한 관점에서 단어들 사이의 연관성을 알아낸 후에 알아낸 결과를 합치는 기법이다.\n",
    "\n",
    "아래 그림은 두 개의 헤드가 작동하는 과정을 보여준다.\n",
    "각각의 헤드에 별도의 밀집층이 사용됨에 주목한다.\n",
    "질문, 열쇠, 값을 어텐션에 넣어 주기 전에 먼저 밀집층을 이용하여 \n",
    "모델 스스로 질문, 열쇠, 값을 적절하게 변환하도록 유도한다."
   ]
  },
  {
   "cell_type": "markdown",
   "id": "213d7152",
   "metadata": {},
   "source": [
    "<div align=\"center\"><img src=\"https://drek4537l1klr.cloudfront.net/chollet2/Figures/11-08.png\" style=\"width:70%;\"></div>\n",
    "\n",
    "<p><div style=\"text-align: center\">&lt;그림 출처: <a href=\"https://www.manning.com/books/deep-learning-with-python-second-edition\">Deep Learning with Python(2판)</a>&gt;</div></p>"
   ]
  },
  {
   "cell_type": "markdown",
   "id": "6488df72",
   "metadata": {
    "colab_type": "text"
   },
   "source": [
    "**질문-열쇠-값<font size='2'>query-key-value</font>**\n",
    "\n",
    "동일한 값을 인자로 세 번 사용하는 `mha_layer(inputs, inputs, inputs)`, 즉 셀프 어텐션의 작동 과정을 \n",
    "식으로 표현하면 다음과 같다. \n",
    "\n",
    "```\n",
    "outputs = sum(inputs * pairwise_scores(inputs, inputs))\n",
    "```\n",
    "\n",
    "위 식은 원래 검색 엔진 또는 추천 시스템 등에서\n",
    "질문-열쇠-값<font size='2'>query-key-value</font> \n",
    "세 개의 입력값을 받는 보다 일반화된 어텐션의 작동과정을 표현한 식의 특별한 경우이다.\n",
    "\n",
    "```\n",
    "outputs = sum(values * pairwise_scores(query, keys))\n",
    "```\n",
    "\n",
    "예를 들어, 아래 그림은 \"dogs on the beach.\"라는 **질문**<font size='2'>query</font>에 가장 \n",
    "적절한 사진을 검색한다면 각 사진과의 **핵심 연관성**<font size='2'>key</font> 점수를\n",
    "**해당 사진**<font size='2'>value</font>과 결합하여 가장 높은 점수를 갖는 사진을\n",
    "추천하는 것을 보여준다. "
   ]
  },
  {
   "cell_type": "markdown",
   "id": "bba7818f",
   "metadata": {
    "colab_type": "text"
   },
   "source": [
    "<div align=\"center\"><img src=\"https://drek4537l1klr.cloudfront.net/chollet2/Figures/11-07.png\" style=\"width:70%;\"></div>\n",
    "\n",
    "<p><div style=\"text-align: center\">&lt;그림 출처: <a href=\"https://www.manning.com/books/deep-learning-with-python-second-edition\">Deep Learning with Python(2판)</a>&gt;</div></p>"
   ]
  },
  {
   "cell_type": "markdown",
   "id": "643fe80c",
   "metadata": {
    "colab_type": "text"
   },
   "source": [
    "### 트랜스포머 인코더"
   ]
  },
  {
   "cell_type": "markdown",
   "id": "35160023",
   "metadata": {},
   "source": [
    "헤드에 사용된 밀집층의 역할이 중요하며 크다는 사실이 알려지면서\n",
    "멀티헤드 어텐션 층 이후에 밀집층을 더 사용하는 아키텍처가 개발되었다.\n",
    "멀티헤드 어텐션 층, 밀집<font size='2'>dense</font> 층, 정규화 층, 잔차 연결을\n",
    "조합한 **트랜스포머 인코더**<font size='2'>transformer encoder</font>가 대표적이다."
   ]
  },
  {
   "cell_type": "markdown",
   "id": "a30c8293",
   "metadata": {},
   "source": [
    "<div align=\"center\"><img src=\"https://drek4537l1klr.cloudfront.net/chollet2/Figures/11-09.png\" style=\"width:35%;\"></div>\n",
    "\n",
    "<p><div style=\"text-align: center\">&lt;그림 출처: <a href=\"https://www.manning.com/books/deep-learning-with-python-second-edition\">Deep Learning with Python(2판)</a>&gt;</div></p>"
   ]
  },
  {
   "cell_type": "markdown",
   "id": "9ec6e6e4",
   "metadata": {},
   "source": [
    "트랜스포머 인코더에 포함된 `LayerNormalization`은\n",
    "정규화를 배치 단위가 아닌 시퀀스 단위로 정규화를 실행하는 층이며\n",
    "`BatchNormalization`과는 다르게 작동한다."
   ]
  },
  {
   "cell_type": "markdown",
   "id": "497b7730",
   "metadata": {
    "colab_type": "text"
   },
   "source": [
    "**트랜스포머 인코더 구현**"
   ]
  },
  {
   "cell_type": "markdown",
   "id": "d103b446",
   "metadata": {},
   "source": [
    "위 그림에서 설명된 트랜스포머 인코더를 층으로 구현하면 다음과 같다.\n",
    "생성자의 입력값을 예를 들어 설명하면 다음과 같다.\n",
    "\n",
    "- `embed_dim`: 예를 들어 `embed_dim=256`은 단어 임베딩이\n",
    "        `(600, 256)` 모양의 샘플을 생성할 것을 기대함.\n",
    "- `dense_dim`: 밀집 층에서 사용되는 유닛<font size='2'>unit</font> 개수\n",
    "- `num_heads`: 헤드<font size='2'>head</font> 개수\n",
    "\n",
    "`call()` 메서드의 `attention_mask` 옵션은 `MultiHeadAttention` 층을 호출할 때\n",
    "사용되며 질문<font size='2'>query</font>에 들어온 입력값의 특정 위치를 무시하려 할 때 사용한다."
   ]
  },
  {
   "cell_type": "markdown",
   "id": "c61810f2",
   "metadata": {
    "colab_type": "code"
   },
   "source": [
    "```python\n",
    "class TransformerEncoder(layers.Layer):\n",
    "    def __init__(self, embed_dim, dense_dim, num_heads, **kwargs):\n",
    "        super().__init__(**kwargs)\n",
    "        self.embed_dim = embed_dim  # 예를 들어 256\n",
    "        self.dense_dim = dense_dim  # 예를 들어 32\n",
    "        self.num_heads = num_heads  # 예를 들어 2\n",
    "        \n",
    "        # 어텐션 층 지정\n",
    "        self.attention = layers.MultiHeadAttention(\n",
    "            num_heads=num_heads, key_dim=embed_dim)\n",
    "        \n",
    "        # 밀집층 블록 지정\n",
    "        self.dense_proj = keras.Sequential(\n",
    "            [layers.Dense(dense_dim, activation=\"relu\"),\n",
    "             layers.Dense(embed_dim),]\n",
    "        )\n",
    "        \n",
    "        # 층 정규화 지정\n",
    "        self.layernorm_1 = layers.LayerNormalization()\n",
    "        self.layernorm_2 = layers.LayerNormalization()\n",
    "\n",
    "    # 트랜스포머 인코더의 순전파 경로 지정\n",
    "    def call(self, inputs, mask=None):\n",
    "        if mask is not None:\n",
    "            mask = mask[:, tf.newaxis, :]\n",
    "        attention_output = self.attention(\n",
    "            inputs, inputs, attention_mask=mask)\n",
    "        proj_input = self.layernorm_1(inputs + attention_output)\n",
    "        proj_output = self.dense_proj(proj_input)\n",
    "        return self.layernorm_2(proj_input + proj_output)\n",
    "\n",
    "    def get_config(self):\n",
    "        config = super().get_config()\n",
    "        config.update({\n",
    "            \"embed_dim\": self.embed_dim,\n",
    "            \"num_heads\": self.num_heads,\n",
    "            \"dense_dim\": self.dense_dim,\n",
    "        })\n",
    "        return config\n",
    "```"
   ]
  },
  {
   "cell_type": "markdown",
   "id": "8eae85da",
   "metadata": {
    "colab_type": "text"
   },
   "source": [
    "**트랜스포머 인코더 활용 모델**"
   ]
  },
  {
   "cell_type": "markdown",
   "id": "0123a655",
   "metadata": {},
   "source": [
    "훈련셋이 입력되면 먼저 단어 임베딩을 통과시켜 하나의 단어가 가질 수 있는 일반적인 특성을 찾는다.\n",
    "이후 트랜스포머 인코더로 셀프 어텐션을 적용하여 단어가 사용되는 텍스트에서의 문맥상의 특성을 추가한다.\n",
    "\n",
    "사용되는 변수들은 다음과 같다.\n",
    "\n",
    "- `vocab_size = 20000`: 어휘 색인 크기\n",
    "- `embed_dim = 256`: 단어 임베딩 특성 수\n",
    "- `num_heads = 2`: 트랜스포머 인코더에 사용되는 밀집층의 헤드(head) 수\n",
    "- `dense_dim = 32`: 트랜스포머 인코더에 사용되는 밀집층의 유닛(unit) 수"
   ]
  },
  {
   "cell_type": "markdown",
   "id": "09352ee7",
   "metadata": {
    "colab_type": "code"
   },
   "source": [
    "```python\n",
    "inputs = keras.Input(shape=(None,), dtype=\"int64\")\n",
    "\n",
    "x = layers.Embedding(vocab_size, embed_dim)(inputs)\n",
    "x = TransformerEncoder(embed_dim, dense_dim, num_heads)(x)\n",
    "\n",
    "# 길이가 256인 1차원 어레이로 변환.\n",
    "x = layers.GlobalMaxPooling1D()(x)\n",
    "x = layers.Dropout(0.5)(x)\n",
    "\n",
    "outputs = layers.Dense(1, activation=\"sigmoid\")(x)\n",
    "\n",
    "model = keras.Model(inputs, outputs)\n",
    "\n",
    "model.compile(optimizer=\"rmsprop\",\n",
    "              loss=\"binary_crossentropy\",\n",
    "              metrics=[\"accuracy\"])\n",
    "\n",
    "model.summary()\n",
    "```"
   ]
  },
  {
   "cell_type": "markdown",
   "id": "93d92368",
   "metadata": {
    "colab_type": "text"
   },
   "source": [
    "훈련 과정은 특별한 게 없다.\n",
    "테스트셋에 대한 정확도가 87.5% 정도로 바이그램 모델보다 좀 더 낮다."
   ]
  },
  {
   "cell_type": "markdown",
   "id": "c6a6716d",
   "metadata": {},
   "source": [
    ":::{admonition} GlobalMaxPooling1D\n",
    ":class: info\n",
    "\n",
    "벡터(1차원 텐서)로 구성된 시퀀스가 `GlobalMaxPooling1D` 층을 통과하면 벡터의 특성별로 최댓값만 추출해서 사용한다.\n",
    "따라서 벡터의 길이에 해당하는 하나의 벡터가 생성된다.\n",
    "\n",
    "예를 들어, (4, 2, 3) 모양의 텐서, 즉, 길이가 3인 두 개의 벡터로 구성된 시퀀스 네 개를 묶은 배치가 `GlobalMaxPooling1D` 층을\n",
    "통과해서 (4, 3) 모양의 텐서가 생성된다.\n",
    "\n",
    "```python\n",
    ">>> x = tf.constant(\n",
    "...       [[[ 1.,  5.,  3.],\n",
    "...         [ 4.,  2.,  6.]],\n",
    "...        [[ 7.,  8.,  12.],\n",
    "...         [10., 11., 9.]],\n",
    "...        [[16., 14., 15.],\n",
    "...         [13., 17., 18.]],\n",
    "...        [[19., 20., 21.],\n",
    "...         [22., 23., 24.]]])\n",
    "\n",
    ">>> max_pool_1d = tf.keras.layers.GlobalMaxPooling1D()\n",
    ">>> max_pool_1d(x)\n",
    "<tf.Tensor: shape=(4, 3), dtype=float32, numpy=\n",
    "array([[ 4.,  5.,  6.],\n",
    "       [10., 11., 12.],\n",
    "       [16., 17., 18.],\n",
    "       [22., 23., 24.]], dtype=float32)>\n",
    "```\n",
    ":::"
   ]
  },
  {
   "cell_type": "markdown",
   "id": "fd3498dc",
   "metadata": {
    "colab_type": "text"
   },
   "source": [
    "**단어 위치 인코딩**"
   ]
  },
  {
   "cell_type": "markdown",
   "id": "6a2afe19",
   "metadata": {},
   "source": [
    "앞서 살펴 본 트랜스포머 인코더는 셀프 어텐션과 밀집층을 사용하기에\n",
    "단어순서를 제대로 활용하지는 못한다.\n",
    "하지만 단어 인코딩 과정에서 단어순서 정보를 활용하도록 하는 기능을 추가하면\n",
    "트랜스포머가 알아서 단어위치 정보를 활용한다.\n",
    "\n",
    "다음 `PositionalEmbedding` 층 클래스는 두 개의 임베딩 클래스를 순전파에 사용한다.\n",
    "\n",
    "- 단어 임베딩\n",
    "    ```python\n",
    "    self.token_embeddings = layers.Embedding(input_dim=input_dim, output_dim=output_dim)\n",
    "    ```\n",
    "\n",
    "\n",
    "- 위치 임베딩\n",
    "\n",
    "    ```python\n",
    "    self.position_embeddings = layers.Embedding(input_dim=sequence_length, output_dim=output_dim)\n",
    "    ```\n",
    "\n",
    "순전파를 담당하는 `call()` 메서드가 호출되면\n",
    "`self.token_embeddings`는 보통의 단어 임베딩을 수행하고,\n",
    "`self.position_embeddings`는 단어의 위치 정보를 임베딩한다. \n",
    "\n",
    "```python\n",
    "embedded_tokens = self.token_embeddings(inputs)\n",
    "embedded_positions = self.position_embeddings(positions)\n",
    "```\n",
    "\n",
    "최종적으로 각 임베딩의 출력값을 합친 값이 반환된다."
   ]
  },
  {
   "cell_type": "markdown",
   "id": "991a785c",
   "metadata": {
    "colab_type": "code"
   },
   "source": [
    "```python\n",
    "class PositionalEmbedding(layers.Layer):\n",
    "    def __init__(self, sequence_length, input_dim, output_dim, **kwargs):\n",
    "        super().__init__(**kwargs)\n",
    "        self.token_embeddings = layers.Embedding(\n",
    "            input_dim=input_dim, output_dim=output_dim)\n",
    "        self.position_embeddings = layers.Embedding(\n",
    "            input_dim=sequence_length, output_dim=output_dim)\n",
    "        self.sequence_length = sequence_length\n",
    "        self.input_dim = input_dim\n",
    "        self.output_dim = output_dim\n",
    "\n",
    "    def call(self, inputs):\n",
    "        length = tf.shape(inputs)[-1]\n",
    "        positions = tf.range(start=0, limit=length, delta=1)\n",
    "        embedded_tokens = self.token_embeddings(inputs)\n",
    "        embedded_positions = self.position_embeddings(positions)\n",
    "        return embedded_tokens + embedded_positions\n",
    "\n",
    "    def compute_mask(self, inputs, mask=None):\n",
    "        return tf.math.not_equal(inputs, 0)\n",
    "\n",
    "    def get_config(self):\n",
    "        config = super().get_config()\n",
    "        config.update({\n",
    "            \"output_dim\": self.output_dim,\n",
    "            \"sequence_length\": self.sequence_length,\n",
    "            \"input_dim\": self.input_dim,\n",
    "        })\n",
    "        return config\n",
    "```"
   ]
  },
  {
   "cell_type": "markdown",
   "id": "82416ade",
   "metadata": {
    "colab_type": "text"
   },
   "source": [
    "**단어위치 인식 트랜스포머 아키텍처**"
   ]
  },
  {
   "cell_type": "markdown",
   "id": "fa9ae558",
   "metadata": {
    "colab_type": "text"
   },
   "source": [
    "아래 코드는 `PositionalEmbedding` 층을 활용하여 트랜스포머 인코더가 \n",
    "단어위치를 활용할 수 있도록 한다. \n",
    "최종 모델의 테스트셋에 대한 정확도가 88.3%까지 향상됨을 확인할 수 있다."
   ]
  },
  {
   "cell_type": "markdown",
   "id": "abd32766",
   "metadata": {
    "colab_type": "code"
   },
   "source": [
    "```python\n",
    "vocab_size = 20000\n",
    "sequence_length = 600\n",
    "embed_dim = 256\n",
    "num_heads = 2\n",
    "dense_dim = 32\n",
    "\n",
    "inputs = keras.Input(shape=(None,), dtype=\"int64\")\n",
    "x = PositionalEmbedding(sequence_length, vocab_size, embed_dim)(inputs)\n",
    "x = TransformerEncoder(embed_dim, dense_dim, num_heads)(x)\n",
    "x = layers.GlobalMaxPooling1D()(x)\n",
    "x = layers.Dropout(0.5)(x)\n",
    "outputs = layers.Dense(1, activation=\"sigmoid\")(x)\n",
    "model = keras.Model(inputs, outputs)\n",
    "```"
   ]
  },
  {
   "cell_type": "markdown",
   "id": "46e4326c",
   "metadata": {},
   "source": [
    "## 시퀀스-투-시퀀스 학습"
   ]
  },
  {
   "cell_type": "markdown",
   "id": "81016fcf",
   "metadata": {},
   "source": [
    "준비중 ..."
   ]
  },
  {
   "cell_type": "markdown",
   "id": "d3f0de61",
   "metadata": {},
   "source": [
    "## 연습 문제"
   ]
  },
  {
   "cell_type": "markdown",
   "id": "36016ee7",
   "metadata": {},
   "source": [
    "1. [(실습) 자연어 처리](https://colab.research.google.com/github/codingalzi/dlp2/blob/master/excs/exc-dl_for_text.ipynb)"
   ]
  }
 ],
 "metadata": {
  "kernelspec": {
   "display_name": "Python 3 (ipykernel)",
   "language": "python",
   "name": "python3"
  },
  "language_info": {
   "codemirror_mode": {
    "name": "ipython",
    "version": 3
   },
   "file_extension": ".py",
   "mimetype": "text/x-python",
   "name": "python",
   "nbconvert_exporter": "python",
   "pygments_lexer": "ipython3",
   "version": "3.11.4"
  },
  "vscode": {
   "interpreter": {
    "hash": "ad0f3c8a064f687cbf898a0868fd45ba1c7e928ac8a0404f7c241d812ddc1e76"
   }
  }
 },
 "nbformat": 4,
 "nbformat_minor": 5
}