{
 "cells": [
  {
   "cell_type": "markdown",
   "id": "106f2f5f",
   "metadata": {},
   "source": [
    "(ch:unversal_workflow_of_ml)=\n",
    "# 머신러닝 작업 흐름 일반"
   ]
  }
 ],
 "metadata": {
  "kernelspec": {
   "display_name": "Python 3 (ipykernel)",
   "language": "python",
   "name": "python3"
  },
  "language_info": {
   "codemirror_mode": {
    "name": "ipython",
    "version": 3
   },
   "file_extension": ".py",
   "mimetype": "text/x-python",
   "name": "python",
   "nbconvert_exporter": "python",
   "pygments_lexer": "ipython3",
   "version": "3.9.7"
  }
 },
 "nbformat": 4,
 "nbformat_minor": 5
}