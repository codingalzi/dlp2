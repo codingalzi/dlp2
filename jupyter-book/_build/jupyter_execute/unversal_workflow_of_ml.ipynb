{
 "cells": [
  {
   "cell_type": "markdown",
   "id": "106f2f5f",
   "metadata": {},
   "source": [
    "(ch:unversal_workflow_of_ml)=\n",
    "# 머신러닝 작업 흐름 일반"
   ]
  },
  {
   "cell_type": "markdown",
   "id": "a571054b",
   "metadata": {},
   "source": [
    "**감사의 글**\n",
    "\n",
    "아래 내용은 프랑소와 숄레의 \n",
    "[Deep Learning with Python(2판)](https://github.com/fchollet/deep-learning-with-python-notebooks)의 \n",
    "소스코드 내용을 참고해서 작성되었습니다.\n",
    "자료를 공개한 저자에게 진심어린 감사를 전합니다."
   ]
  },
  {
   "cell_type": "markdown",
   "id": "434331fd",
   "metadata": {},
   "source": [
    "**소스코드**\n",
    "\n",
    "없음."
   ]
  },
  {
   "cell_type": "markdown",
   "id": "1c3b9a12",
   "metadata": {
    "slideshow": {
     "slide_type": "slide"
    }
   },
   "source": [
    "**주요 내용**"
   ]
  },
  {
   "cell_type": "markdown",
   "id": "6be313eb",
   "metadata": {},
   "source": [
    "다양한 종류의 머신러닝 과제를 실전에서 해결해야 할 수 있다.\n",
    "\n",
    "- 사진 검색 엔진\n",
    "- ..."
   ]
  },
  {
   "cell_type": "markdown",
   "id": "dd4aa9fd",
   "metadata": {},
   "source": [
    ":::{admonition} 윤리 문제\n",
    ":class: note\n",
    "\n",
    "윤리적으로 문제 있는 문제 ...\n",
    "\n",
    "- 얼굴로 인성 평가\n",
    "- 보스턴 하우스 데이터셋\n",
    "- 백인 우성 유전자 \n",
    "- 등등\n",
    ":::"
   ]
  },
  {
   "cell_type": "markdown",
   "id": "709b9c02",
   "metadata": {
    "slideshow": {
     "slide_type": "slide"
    }
   },
   "source": [
    "머신러닝으로 실전 문제를 해결하는 일반적인 과정을 소개한다.\n",
    "\n",
    "- 머신러닝 문제 정의하기\n",
    "- 모델 구현\n",
    "- 모델 실전 배치"
   ]
  },
  {
   "cell_type": "markdown",
   "id": "5a4d5f2f",
   "metadata": {},
   "source": [
    "## 머신러닝 문제 정의하기"
   ]
  },
  {
   "cell_type": "markdown",
   "id": "ed94ee0d",
   "metadata": {},
   "source": [
    "### 문제 확인"
   ]
  },
  {
   "cell_type": "markdown",
   "id": "d5a8369d",
   "metadata": {},
   "source": [
    "- 훈련 데이터셋은 무엇? 예측값은 무엇? 필요한 데이터셋과 타깃셋을 직접 구해야 함.\n",
    "    그렇지 못하면 머신러닝 모델을 훈련시킬 수 없음.\n",
    "    예를 들어, 영화평을 분류하고자 한다면 영화평과 각 영화평이 결론적으로 \n",
    "    좋다/싫다인지에 대한 데이터셋이 필요함."
   ]
  },
  {
   "cell_type": "markdown",
   "id": "21773ec9",
   "metadata": {},
   "source": [
    "- 어떤 머신러닝 모델 활용? 이진 분류? 다중클래스 분류? 스칼라 회귀? 벡터 회귀?\n",
    "    다중클래스-다중레이블 분류? 이미지 분할? 랭킹? 군집화? 생성? 강화학습? \n",
    "    아니면 심지어 머신러닝 필요? 전통적 통계/확률 기법으로 해결 가능?\n",
    "    \n",
    "    - 사진 검색 엔진: 다중클래스-다중레이블 분류\n",
    "    - 스팸 메일 필터: 이진 분류 또는 다중클래스 분류(스팸은 아니지만 공격적?)\n",
    "    - 음악 추천 엔진: 딥러닝 보다는 Collaborative Filtering 기법 중의 하나인\n",
    "        행렬 분해(matrix factorization) 기법을 활용한 추천 시스템이 보다 효율적임.\n",
    "    - 신용카드 사기 검출(credit card fraud detection): 이진 분류\n",
    "    - 클릭율(click-through-rate) 예측: 스칼라 회귀\n",
    "    - 비정상(?) 과자 탐지: 이진 분류. 하지만 먼저 객체 탐지 모델 필요. \n",
    "        일반적으로 알려진 \"이상치 탐지\" 용도의 머신러닝 모델이\n",
    "        이 경우엔 그렇게 적절하지 않음.\n",
    "    - 고대 유적지 확인: 인공위성 사진 분석. 기존 고대 유적지와의 유사도 측정.\n",
    "        이미지-유사도 랭킹 측정."
   ]
  },
  {
   "cell_type": "markdown",
   "id": "d98ba1de",
   "metadata": {},
   "source": [
    "- 기존에 사용되는 해결책 존재? 무엇? 전통적 프로그래밍 기법? 담당자가 추천할 음악 등을 직접 선별?"
   ]
  },
  {
   "cell_type": "markdown",
   "id": "b813cfb8",
   "metadata": {},
   "source": [
    "- 문제를 다룰 때 특별히 고려해야 할 점? \n",
    "    - 스팸 탐지 시스템: 암호화된 이메일인 경우 사용자의 전화기에서 작동해야 함. \n",
    "    - 비정상 과자 탐지가 원격 서버가 아닌 공장의 임베디드 시스템에서 작동해야 할 수 있음."
   ]
  },
  {
   "cell_type": "markdown",
   "id": "29fd13d2",
   "metadata": {},
   "source": [
    "위 사항들을 모두 확인했다 하더라도 준비된 데이터셋의 유효성을 확인해야 함. 즉, 적절한 훈련셋인지, 입력 데이터셋을 이용하여 적절한 예측값을 생성할 수 있는지 등등. \n",
    "예를 들어 지난 시간 동안의 증권시장의 가격 데이터를 이용하여 미래의 증권시장 동향을 예측하는 일은 별로 성공적이지 않을 것이다. "
   ]
  },
  {
   "cell_type": "markdown",
   "id": "2b18c0c1",
   "metadata": {},
   "source": [
    "### 데이터셋 수집"
   ]
  },
  {
   "cell_type": "markdown",
   "id": "d1bb870c",
   "metadata": {},
   "source": [
    "문제해결에 필요한 입력 데이터셋과 타깃 데이터셋을 수집하는 일이 가장 어렵고,\n",
    "가장 많은 시간을 요하며, 가장 비용이 많이 든다."
   ]
  },
  {
   "cell_type": "markdown",
   "id": "a4740ce3",
   "metadata": {},
   "source": [
    "- 사진 검색 엔진: 사진의 레이블로 사용될 목록 확인. 보통 10,000개의 사진의 범주(category) 지정. 이후에 수 천장의 사진을 직접 태킹(tagging)해야 함. \n",
    "\n",
    "- 채팅 앱에 사용될 스팸 탐지 과제: 채팅 내용 모으기는 암호화 및 개인 정보 보호로 막혀 있기에 기본적으로 불가능. 하지만 소셜 미디어에 게시된 데이터를 수만 건 이상의 데이터셋을 모은 다음에 스팸, 공격성 등에 대해 일일이 직접 태깅해야 함.\n",
    "\n",
    "- 음악 추천 엔진: 사용자들의 \"좋아요\" 누르기 정보 데이터 활용 가능. \n",
    "\n",
    "- 클릭율 예측 과제: 지난 수 년간의 광고에 대한 클릭율 정보 데이터 활용 가능\n",
    "\n",
    "- 과자 이상치 탐지 모델: 컨베이어 벨트를 감시하는 카메라를 통한 수 만장의 사진과 어떤 형식으로든 사진에 추가된 태그 정보.\n",
    "\n",
    "- 인공위성 이미지 분석 과제: 고고학자들이 모아 놓은 현존하는 유적지 관련 데이터 베이스와 각 유적지별로 다양한 날씨 조건에 찍힌 여러 사진. 수 천개 이상의 유적지 데이터 필요."
   ]
  },
  {
   "cell_type": "markdown",
   "id": "9c61fc46",
   "metadata": {},
   "source": [
    "**데이터셋의 중요성**"
   ]
  },
  {
   "cell_type": "markdown",
   "id": "bc894ad5",
   "metadata": {},
   "source": [
    "머신러닝 모델의 일반화 성능은 모델 훈련에 거의 사용된 훈련셋에 의존한다. \n",
    "- 훈련셋 크기\n",
    "- 레이블에 대한 신뢰도\n",
    "- 훈련 특성들의 질(quality)\n",
    "모델의 성능을 향상키려면 우선적으로 양질의 데이터셋을 구하는 데에 보다 많은 시간을 투자해야 한다."
   ]
  },
  {
   "cell_type": "markdown",
   "id": "b496429b",
   "metadata": {},
   "source": [
    "**타깃 데이터셋 준비의 중요성**"
   ]
  },
  {
   "cell_type": "markdown",
   "id": "05921576",
   "metadata": {},
   "source": [
    "사진 검색 엔진의 경우처럼 지도학습의 경우 경우에 따라 타깃 데이터셋을 구하기가 매우 어려울 수 있다.\n",
    "반면에 양질의 타깃 데이터셋이 있어야만 좋은 성능의 모델을 훈련시킬 수 있다.\n",
    "타깃 데이터셋을 준비할 때 아래 옵션 사항들을 고려하라.\n",
    "\n",
    "- 데이터 태깅을 직접해야 하는가?\n",
    "- 아마존 Mechanical Turk 와 같은 크라우드소싱을 이용해야 하는가?\n",
    "- 데이터-레이블링 전문 회사를 이용해야 하는가?\n",
    "\n",
    "어떤 옵션을 선택할 것인가는 다음 사항들에 따라 달리진다.\n",
    "\n",
    "- 레이블링 작업 관련 전문가를 요구하는가? \n",
    "    - 강아지 대 고양이 분류: 일반인 가능\n",
    "    - 강아지 품종 분류: 전문 지식 필요\n",
    "    - CT 스캔 자료 분류: 의학 학위 필요\n",
    "- 전문 지식이 요구 되는 경우\n",
    "    - 사람들을 직접 훈련시킬 수 있는가?\n",
    "    - 아니라면 관련 전문가를 어떻게 어디서 구하는가?\n",
    "- 전문가들이 타깃을 지정하는 방식을 이해하는가?\n",
    "    - 그렇지 않다면 특성 조작을 직접하지 말아야 한다."
   ]
  },
  {
   "cell_type": "markdown",
   "id": "3139685c",
   "metadata": {},
   "source": [
    "**타깃 레이블링을 직접 하는 경우**"
   ]
  },
  {
   "cell_type": "markdown",
   "id": "ea306a71",
   "metadata": {},
   "source": [
    "레이블링을 직접 하는 경우 먼저 레이블링을 자동화하는 좋은 프로그램을 \n",
    "과제 기간 초반에 직접 구현하거나 준비해야 한다."
   ]
  },
  {
   "cell_type": "markdown",
   "id": "3078d9c5",
   "metadata": {},
   "source": [
    "**훈련셋의 대표성**"
   ]
  },
  {
   "cell_type": "markdown",
   "id": "0e658ef0",
   "metadata": {},
   "source": [
    "나중에 제품이 실전에서 사용될 때 입력될 입력 데이터를 잘 반영하는 데이터로 구성된 데이터셋을 모델 훈련에 사용해야 한다."
   ]
  },
  {
   "cell_type": "markdown",
   "id": "293e4b74",
   "metadata": {},
   "source": [
    "예제 1\n",
    "\n",
    "음식의 이름을 맞추는 앱에 들어갈 머신러닝 모델을 훈련시킬 경우 일반인들이 찍는 사진과 유사한 이미지 데이터셋을 훈련에 사용해야 한다.\n",
    "반면에 전문가들이 찍은 사진만을,\n",
    "즉,훈련셋의 대표성이 너무 떨어진 데이터셋을\n",
    "모델 훈련에 이용한다면 좋은 성능의 머신러닝 모델을 구현할 수 없을 것이다."
   ]
  },
  {
   "cell_type": "markdown",
   "id": "d6dc3af7",
   "metadata": {},
   "source": [
    "예제 2\n",
    "\n",
    "트위터에서 작성되는 문장의 감성을 평가하고 싶다면 실제 트위터 문장을 수집해서 레이블링해야 한다. 트위터 문장의 감성 분석에 영화 후기 문장을 훈련셋으로 이용하면 안된다."
   ]
  },
  {
   "cell_type": "markdown",
   "id": "912e2b4d",
   "metadata": {},
   "source": [
    "**개념 변동**"
   ]
  },
  {
   "cell_type": "markdown",
   "id": "6b525adc",
   "metadata": {},
   "source": [
    "개념 변동<font size='2'>concept drift</font>은 시간이 흐르면서\n",
    "실전에 사용되는 데이터의 특성이 달라짐을 의미한다.\n",
    "\n",
    "- 2013년의 음악을 이용한 음악 추천 시스템이 2022년 음악 추천에 사용되기는 어렵다.\n",
    "- 2011년에 수집된 IMDB 영화 후기 데이터셋을 현재 상영되는 영화의 후기 감성 분석에 사용할 수 없다.\n",
    "    - 문장에 사용된 어휘와 표현이 다르고 영화 장르가 변화했기 때문임.\n",
    "- 신용카드 사기 탐지: 사기 방식이 매일 발전함.\n",
    "\n",
    "개념 변동에 대처하려면 계속된 데이터 수집과 데이터 레이블링, 모델 재훈련이 요구된다."
   ]
  },
  {
   "cell_type": "markdown",
   "id": "8a11d172",
   "metadata": {},
   "source": [
    "**표집 편향**"
   ]
  },
  {
   "cell_type": "markdown",
   "id": "5165fc8d",
   "metadata": {},
   "source": [
    "표집 편향<font size='2'>sampling bias</font>은 \n",
    "예측과 연관된 표본<font size='2'>sample</font>이 \n",
    "데이터셋에 포함되는 것을 의미한다. \n",
    "\n",
    "예를 들어, 1948년 미국 대통령 선거일 밤에\n",
    "시카고 트리뷴<font size='2'>Chicago Tribune</font>이\n",
    "\"(공화당 후보) 듀이가 (민주장 후보) 트루먼 후보를 이긴다\" 라고 기사를 내보냈지만\n",
    "실제로 그 다음 날 트루먼이 대통령으로 당선되었다."
   ]
  },
  {
   "cell_type": "markdown",
   "id": "fd87e3d9",
   "metadata": {},
   "source": [
    "<div align=\"center\"><img src=\"https://drek4537l1klr.cloudfront.net/chollet2/Figures/06-UN01.png\" style=\"width:600px;\"></div>\n",
    "\n",
    "<p><div style=\"text-align: center\">&lt;그림 출처: <a href=\"https://www.manning.com/books/deep-learning-with-python-second-edition\">Deep Learning with Python(2판)</a>&gt;</div></p>"
   ]
  },
  {
   "cell_type": "markdown",
   "id": "cf29391a",
   "metadata": {},
   "source": [
    "시카고 트리뷴의 잘못된 예측은 선거 전에 진행된 전화 여론조사 결과에 근거하였지만\n",
    "당시 전화는 미국에서 부자이면서 보수적 성향을 가진 친공화당 사람들만이 \n",
    "갖고 있었다. \n",
    "즉 공화당 후보를 지지하는 성향이 강한 사람들을 대상으로 여론조사를 벌인 셈이다."
   ]
  },
  {
   "cell_type": "markdown",
   "id": "2750145b",
   "metadata": {},
   "source": [
    "이후로 표집 편향을 최대한 피하면서 여론조사를 진행해야 함을 인지하게 되었다.\n",
    "물론 표집 편향이 완전히 사라졌다고는 말할 수 없다. \n",
    "특히 정치 관련 여론조사가 그렇다."
   ]
  },
  {
   "cell_type": "markdown",
   "id": "aaa77c81",
   "metadata": {},
   "source": [
    "### 데이터 이해하기"
   ]
  },
  {
   "cell_type": "markdown",
   "id": "d8c1a9fa",
   "metadata": {},
   "source": [
    "훈련 시작 전에 데이터를 시각화 등을 이용하여 살펴보고\n",
    "무엇을 이용하여 예측할 것인지, 특성을 어떻게 조저어할 것인지, \n",
    "발생할 수 있는 문제들을 예측해야 한다."
   ]
  },
  {
   "cell_type": "markdown",
   "id": "90776361",
   "metadata": {},
   "source": [
    "- 이미지 또는 문장이 포함된 데이터셋이라면 샘플 몇 개를 레이블과 함께 살펴 본다.\n",
    "- 수치 특성이 포함된 경우 히스토그램 등을 그려서 값들의 범위와 빈도 등을 살펴 본다.\n",
    "- 위치 정보가  포함된 경우 지도 위에 그려서 어떤 특성이 나타나는지 확인한다.\n",
    "- 결측치가 포함된 특성이 포함된 경우 어떻게 처리할지 결정하고 처리한다.\n",
    "- 분류 문제일 경우 각 범주별 샘플 수를 확인한다. 한쪽으로 치우친 경우 이유를 확인한다.\n",
    "- 타깃에 대한 정보가 입력 데이터셋에 유입되는지 여부를 확인한다. \n",
    "    - 환자 이력 정보를 통해 환자에게 암이 발생할 가능성을 예측하는 모델을 \n",
    "        훈련시킬 때 환자의 암 양성진단 이력 정보가 포함될 수도 있다."
   ]
  },
  {
   "cell_type": "markdown",
   "id": "2b6f00bd",
   "metadata": {},
   "source": [
    "### 모델 성능 지표 선택"
   ]
  },
  {
   "cell_type": "markdown",
   "id": "12ce3bd6",
   "metadata": {},
   "source": [
    "얼마나 성공적으로 모델 훈련을 완성했는지 평가해야 한다.\n",
    "해결해야 하는 문제에 따라 모델의 성능 지표가 달라지며,\n",
    "모델 제작을 의뢰한 고객의 사업 성공과 밀접하게 연관된 일이기도 하다."
   ]
  },
  {
   "cell_type": "markdown",
   "id": "dd328eb6",
   "metadata": {},
   "source": [
    "분류 모델의 경우 범주가 공평하게 나눠저 있다면 정확도와\n",
    "AUC<font size='2'>Area Under the ROC curve</font>가 성능 지표로 사용된다.\n",
    "범주가 한 쪽으로 쏠린 경우엔 정밀도, 재현율, 가중치가 적용된 정확도와 AUC가\n",
    "활용된다.\n",
    "\n",
    "또한 사용자가 직접 평가 지표를 정의해야 하는 경우도 일반적으로 발생한다."
   ]
  },
  {
   "cell_type": "markdown",
   "id": "b38582e4",
   "metadata": {},
   "source": [
    "## 모델 구현"
   ]
  },
  {
   "cell_type": "markdown",
   "id": "ffabb1ec",
   "metadata": {},
   "source": [
    "모델 훈련에 필요한 데이터 준비하기와 완성된 모델을 시제품으로 만들어 관리 유지하는 일보다 어렵다고 말할 수는 없음에도 불구하고 대부분의 머시러닝 관련 정보는 모델 구현에 한정된다. "
   ]
  },
  {
   "cell_type": "markdown",
   "id": "71ebea01",
   "metadata": {},
   "source": [
    "### 데이터 준비"
   ]
  },
  {
   "cell_type": "markdown",
   "id": "2d946dea",
   "metadata": {},
   "source": [
    "수집된 데이터를 그대로 모델 훈련에 사용하는 경우는 매우 드물다.\n",
    "훈련시킬 모델에 맞추어 데이터셋을 전처리 해야 할 수도 있지만\n",
    "일반적인 전처리 기법은 다음과 같다."
   ]
  },
  {
   "cell_type": "markdown",
   "id": "68aed947",
   "metadata": {},
   "source": [
    "벡터화"
   ]
  },
  {
   "cell_type": "markdown",
   "id": "51282ce2",
   "metadata": {},
   "source": [
    "신경망 모델 훈련에 사용되는 데이터는 모두 텐서 형식을 갖춰야 한다.\n",
    "일반적으로 부동소수점으로 이루어진 텐서가 사용되며\n",
    "경우에 따라 정수 또는 문자여로 이루어진 텐서가 사용되기도 한다.\n",
    "\n",
    "앞서 다룬 영화 후기 감성 분석 등의 경우처럼 단어를 정수로, \n",
    "정수를 원-핫 인코딩 시킨 데이터를 이용하였다.\n",
    "\n",
    "반면에 MNIST 데이터셋과 주택 가격 예측 데이터셋인 이미 텐서 형식이었기에\n",
    "벡터화 과정을 생략할 수 있었다."
   ]
  },
  {
   "cell_type": "markdown",
   "id": "8c09577a",
   "metadata": {},
   "source": [
    "정규화"
   ]
  },
  {
   "cell_type": "markdown",
   "id": "8b4e4516",
   "metadata": {},
   "source": [
    "MNIST 데이터셋은 원래 0부터 255사이의 정수로 이루어진 텐서였지만 255로 나누어\n",
    "0과 1사이의 `float32` 부동소수점으로 이뤄진 텐서로 변환했다.\n",
    "이처럼 입력 데이터셋 특성값들을 가능하면 아래 특성을 만족시키도록 하는 게 훈련에 도움된다.\n",
    "\n",
    "- 대부분의 값이 0과 1사이에서 움직인다.\n",
    "- 모든 특성값이 거의 비슷한 범위(range, scale) 안에서 움직인다.\n",
    "\n",
    "MNIST 데이터셋의 경우처럼 항상 그럴 필요는 없지만 이와 더불어 아래 조건이 만족되도록 하는 것도 일반적이다.\n",
    "\n",
    "- 특성별 평균값이 0이다.\n",
    "- 특성법 표준편차가 1이다."
   ]
  },
  {
   "cell_type": "markdown",
   "id": "a58587cd",
   "metadata": {},
   "source": [
    "결측치 처리"
   ]
  },
  {
   "cell_type": "markdown",
   "id": "caf1708d",
   "metadata": {},
   "source": [
    "일부 특성에 결측치가 존재하는 경우가 많다.\n",
    "이럴 때 특성 자체를 제거할 수도 있지만 다른 식으로 처리할 수도 있다.\n",
    "\n",
    "- 범주형 특성인 경우: \"결측치\" 여부를 알려주는 새로운 특성 추가 가능\n",
    "- 수치형 특성인 경우: 결측치를 단순히 0으로 처리하기 보다는 해당 특성의 \n",
    "    평균값 또는 중앙값으로 대체하는 것이 일반적임.\n",
    "    아니면 해당 결측치를 예측하는 모델을 훈련시킬 수도 있음.\n",
    "    \n",
    "테스트셋 또는 실전 데이터의 일부 예상되는 특성에 결측치가 존재할 수 있다면\n",
    "훈련도 해당 특성에 결측치가 있도록 해야 한다.\n",
    "그렇지 않으면 테스트셋에 포함된 결측치를 모델이 제대로 \n",
    "처리하지 못할 수 있다."
   ]
  },
  {
   "cell_type": "markdown",
   "id": "3de11923",
   "metadata": {},
   "source": [
    "### 훈련중 모델 평가"
   ]
  },
  {
   "cell_type": "markdown",
   "id": "055b6a0f",
   "metadata": {},
   "source": [
    "훈련중인 모델의 일반화 성능을 검증하기 위한 평가지표를 사용한다.\n",
    "이때 일반적으로 아래 세 가지 방식 중의 하나를 사용한다.\n",
    "\n",
    "- 홀드아웃 검증셋 사용: 데이터셋이 큰 경우 적용\n",
    "- K-겹 교차 검증: 매우 적은 데이터셋이 주어진 경우 적용\n",
    "- 반복 K-겹 검증: 적은 양의 데이터이 주어졌을 때 높은 정확도의 모델 평가를 위해 적용\n",
    "\n",
    "훈련셋과 검증셋에 데이터가 중복되지 않도록 조심해야 하며\n",
    "두 데이터셋의 대표성에 대해서 항상 신경써야 한다."
   ]
  },
  {
   "cell_type": "markdown",
   "id": "0ddb4734",
   "metadata": {},
   "source": [
    "### 기준선 깨기"
   ]
  },
  {
   "cell_type": "markdown",
   "id": "235737b2",
   "metadata": {},
   "source": [
    "모델 훈련을 시작하면 우선적으로 통계적으로 의미 있는 성능을 보여줄 수 있어야 한다.\n",
    "즉, 일단은 아직 개선의 여지가 많음에도 불구하고 통계적으로 유의미한 기준선을 넘어서는\n",
    "성능의 모델을 훈련시킬 수 있어야 한다. \n",
    "이때 통계적으로 유의미한 값을 기준선 또는 베이스라인<font size='2'>baseline</font>이라 한다."
   ]
  },
  {
   "cell_type": "markdown",
   "id": "b2e8d28c",
   "metadata": {},
   "source": [
    "성능을 제대로 발휘할 수 있는 모델을 훈련시키기 위해 필요한 주요 요소는 다음 세 가지이다.\n",
    "\n",
    "- 특성 조종<font size='2'>feature engineering</font>: \n",
    "    별로 중요하지 않은 특성을 삭제하거나 유용하게 사용될 특성을 새로 생성해야 한다.\n",
    "- 모델 구조에 대한 사전 지식: 해결해야 하는 문제에 따라 다른 모델의 구조가 달라진다. \n",
    "    - 밀집 연결망(densely connected network)\n",
    "    - 순환 신경망(recurrent neural network)\n",
    "    - 트랜스포머(Transformer)\n",
    "    - 딥러닝이 아닌 모델?\n",
    "    - 통계 및 확률 모델?"
   ]
  },
  {
   "cell_type": "markdown",
   "id": "98a8ab69",
   "metadata": {},
   "source": [
    "**출력층의 활성화 함수와 모델의 손실 함수**"
   ]
  },
  {
   "cell_type": "markdown",
   "id": "f5aa49a5",
   "metadata": {},
   "source": [
    "문제 유형에 따라 추천되는 모델의 손실 함수와 출력층의 활성화 함수는 다음과 같다.\n",
    "\n",
    "| 문제 유형 | 출력층 활성화 함수 | 모델 손실 함수|\n",
    "| --- | --- | --- |\n",
    "| 이진 분류| `sigmoid` | `binary_crossentropy` |\n",
    "| 다중 클래스 분류 | `softmax`| `categorical_crossentropy` |\n",
    "| 다중 클래스, 다중 레이블 분류 | `sigmoid` | `binary_crossentropy` |"
   ]
  },
  {
   "cell_type": "markdown",
   "id": "dabe146c",
   "metadata": {},
   "source": [
    "**기존 유명 모델 활용**"
   ]
  },
  {
   "cell_type": "markdown",
   "id": "80fbfe00",
   "metadata": {},
   "source": [
    "대부분의 문제는 이미 대부분은 좋은 성능의 모델이 개발되어 있다.\n",
    "\n",
    "- 스팸 탐지\n",
    "- 음악 추천 엔진\n",
    "- 이미지 분류기 등등\n",
    "\n",
    "따라서 먼저 어떤 모델을 적용하면 좋을지 기존 모델에 대한 사전 조사를 해야 한다."
   ]
  },
  {
   "cell_type": "markdown",
   "id": "13596e2d",
   "metadata": {},
   "source": [
    "**기준선을 깨지 못하는 경우**"
   ]
  },
  {
   "cell_type": "markdown",
   "id": "86c31eb3",
   "metadata": {},
   "source": [
    "여러 유형의 모델을 이용했음에도 불구하고 기준선을 넘어서는\n",
    "모델을 훈련시킬 수 없는 경우 훈련셋이 부적절할 가능성이 높다.\n",
    "즉, 모델 훈련에 사용되는 입력 데이터셋이 타깃을 예측하기에\n",
    "충분한 정보를 제공하지 못할 가능성이 높거나\n",
    "아니면 모델이 데이터셋에 내지된 정보를 끄집어내지 못하는 것이다."
   ]
  },
  {
   "cell_type": "markdown",
   "id": "4914821a",
   "metadata": {},
   "source": [
    "### 과대적합 모델 구현"
   ]
  },
  {
   "cell_type": "markdown",
   "id": "da95afcd",
   "metadata": {},
   "source": [
    "기준선을 넘어서는 모델을 구현한 경우 이제는 모델의 성능을 키워 과대적합을 발생시킬 수 있어야 한다.\n",
    "모델의 성능을 키우는 일반적인 방법 세 가지는 다음과 같다.\n",
    "\n",
    "- 층<font size='2'>layer</font> 추가\n",
    "- 층의 뉴련 수 증가\n",
    "- 에포크 수 늘리기"
   ]
  },
  {
   "cell_type": "markdown",
   "id": "38d70791",
   "metadata": {},
   "source": [
    "모델의 훈련셋에 대한 과대 적합은 에포크마다 평가된 검증셋에 대한 손실값과 평가지표가\n",
    "더 이상 좋아지지 않거나 나빠지는 지점에 발생한다.\n",
    "그런 지점을 찾게 되면 모델 훈련이 그 지점에서 멈추고 그때까지의 최고의 성능을\n",
    "보였던 가중치를 이용하여 좋은 성능의 모델을 얻어야 한다."
   ]
  },
  {
   "cell_type": "markdown",
   "id": "5d3cb63c",
   "metadata": {},
   "source": [
    "### 모델 규제와 튜닝"
   ]
  },
  {
   "cell_type": "markdown",
   "id": "fc3a8f34",
   "metadata": {},
   "source": [
    "과대 적합 모델을 구현한 후에는 일반화 성능이 가장 좋은 모델을 찾는다.\n",
    "일반화 성능이 좋은 모델을 찾는 일반적인 기법은 다음과 같다.\n",
    "\n",
    "- 다른 모델 아키텍처 사용: 층 추가 또는 삭제\n",
    "- 드롭아웃 적용\n",
    "- 작은 모델인 경우 L1 또는 L2 규제 적용\n",
    "- 다른 하이퍼파라미터 적용: 층의 유닛 수, 옵티마이저의 학습률 등\n",
    "- 데이터 전처리 또는 특성 조종 반복\n",
    "- 더 많은 데이터 수집과 레이블링\n"
   ]
  },
  {
   "cell_type": "markdown",
   "id": "3f9c3077",
   "metadata": {},
   "source": [
    "`KerasTuner` 등의 도구를 이용하여 모델 규제와 튜닝의 상당 부분을\n",
    "자동화할 수 있다."
   ]
  },
  {
   "cell_type": "markdown",
   "id": "e9a815ee",
   "metadata": {},
   "source": [
    "**너무 많이 반복되는 모델 튜닝의 문제**"
   ]
  },
  {
   "cell_type": "markdown",
   "id": "18b80fcc",
   "metadata": {},
   "source": [
    "모델 튜닝을 너무 많이 반복하면 검증셋에 대한 정보가 일정 정도 모델 훈련에 흘러들어가는\n",
    "효과가 발생한다.\n",
    "이로 인해 결과적으로 테스트셋, 즉, 실전 데이터에 대한 성능이 상대적으로 많이\n",
    "나쁠 수 있다.\n",
    "\n",
    "따라서 적절할 모델 튜닝 기법을 사용해야 하며 너무 많은 튜닝은 피해야 한다. \n",
    "또한 K-겹 검증과 같은 보다 신뢰할만한 검증 기법을 사용해야 한다."
   ]
  },
  {
   "cell_type": "markdown",
   "id": "11b467c1",
   "metadata": {},
   "source": [
    "## 모델 실전 배치"
   ]
  },
  {
   "cell_type": "markdown",
   "id": "933e7c5f",
   "metadata": {},
   "source": []
  },
  {
   "cell_type": "markdown",
   "id": "b3a62c53",
   "metadata": {},
   "source": []
  },
  {
   "cell_type": "markdown",
   "id": "96b6b87a",
   "metadata": {},
   "source": []
  },
  {
   "cell_type": "markdown",
   "id": "62b83124",
   "metadata": {},
   "source": []
  },
  {
   "cell_type": "markdown",
   "id": "ef67f6c3",
   "metadata": {},
   "source": []
  },
  {
   "cell_type": "markdown",
   "id": "58730d4c",
   "metadata": {},
   "source": []
  },
  {
   "cell_type": "markdown",
   "id": "dec4cf78",
   "metadata": {},
   "source": []
  },
  {
   "cell_type": "markdown",
   "id": "57f0aead",
   "metadata": {},
   "source": []
  },
  {
   "cell_type": "markdown",
   "id": "07d9a55c",
   "metadata": {},
   "source": []
  },
  {
   "cell_type": "markdown",
   "id": "11c286c9",
   "metadata": {},
   "source": []
  },
  {
   "cell_type": "markdown",
   "id": "5ee837b5",
   "metadata": {},
   "source": []
  },
  {
   "cell_type": "markdown",
   "id": "0d770772",
   "metadata": {},
   "source": []
  },
  {
   "cell_type": "markdown",
   "id": "593ead6c",
   "metadata": {},
   "source": []
  },
  {
   "cell_type": "markdown",
   "id": "fe33f714",
   "metadata": {},
   "source": []
  },
  {
   "cell_type": "markdown",
   "id": "3b1e3ab7",
   "metadata": {},
   "source": []
  },
  {
   "cell_type": "markdown",
   "id": "113f9b72",
   "metadata": {},
   "source": []
  },
  {
   "cell_type": "markdown",
   "id": "c0018c46",
   "metadata": {},
   "source": []
  },
  {
   "cell_type": "code",
   "execution_count": null,
   "id": "9a7a1974",
   "metadata": {},
   "outputs": [],
   "source": []
  },
  {
   "cell_type": "code",
   "execution_count": null,
   "id": "fab202ef",
   "metadata": {},
   "outputs": [],
   "source": []
  },
  {
   "cell_type": "code",
   "execution_count": null,
   "id": "d50ba7ea",
   "metadata": {},
   "outputs": [],
   "source": []
  },
  {
   "cell_type": "code",
   "execution_count": null,
   "id": "3161ca51",
   "metadata": {},
   "outputs": [],
   "source": []
  },
  {
   "cell_type": "code",
   "execution_count": null,
   "id": "71411661",
   "metadata": {},
   "outputs": [],
   "source": []
  },
  {
   "cell_type": "code",
   "execution_count": null,
   "id": "6ee64203",
   "metadata": {},
   "outputs": [],
   "source": []
  },
  {
   "cell_type": "code",
   "execution_count": null,
   "id": "7178c60c",
   "metadata": {},
   "outputs": [],
   "source": []
  },
  {
   "cell_type": "code",
   "execution_count": null,
   "id": "9939ed9e",
   "metadata": {},
   "outputs": [],
   "source": []
  }
 ],
 "metadata": {
  "kernelspec": {
   "display_name": "Python 3.9.13 ('homl3')",
   "language": "python",
   "name": "python3"
  },
  "language_info": {
   "codemirror_mode": {
    "name": "ipython",
    "version": 3
   },
   "file_extension": ".py",
   "mimetype": "text/x-python",
   "name": "python",
   "nbconvert_exporter": "python",
   "pygments_lexer": "ipython3",
   "version": "3.9.7"
  },
  "vscode": {
   "interpreter": {
    "hash": "33b995ba57ec8806df76ad412cbfca6e91844af7e84c0aab5f00a2382a2b11c8"
   }
  }
 },
 "nbformat": 4,
 "nbformat_minor": 5
}