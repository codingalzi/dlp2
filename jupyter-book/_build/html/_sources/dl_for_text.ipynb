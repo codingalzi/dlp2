{
 "cells": [
  {
   "cell_type": "markdown",
   "id": "c5d5eb9f",
   "metadata": {},
   "source": [
    "(ch:nlp)=\n",
    "# 자연어 처리"
   ]
  },
  {
   "cell_type": "markdown",
   "id": "74a975c4",
   "metadata": {},
   "source": [
    "**감사의 글**\n",
    "\n",
    "아래 내용은 프랑소와 숄레의 \n",
    "[Deep Learning with Python(2판)](https://github.com/fchollet/deep-learning-with-python-notebooks)의 \n",
    "소스코드 내용을 참고해서 작성되었습니다.\n",
    "자료를 공개한 저자에게 진심어린 감사를 전합니다."
   ]
  },
  {
   "cell_type": "markdown",
   "id": "80a1596c",
   "metadata": {},
   "source": [
    "**소스코드**\n",
    "\n",
    "여기서 언급되는 코드를\n",
    "[(구글 코랩) 자연어 처리](https://colab.research.google.com/github/codingalzi/dlp2/blob/master/notebooks/NB-dl_for_text.ipynb)에서 \n",
    "직접 실행할 수 있다."
   ]
  },
  {
   "cell_type": "markdown",
   "id": "4ce5abec",
   "metadata": {},
   "source": [
    "**주요 내용**"
   ]
  },
  {
   "cell_type": "markdown",
   "id": "bd517ca8",
   "metadata": {
    "id": "rZ_Ig3reZ8Om"
   },
   "source": [
    "- 자연어처리(Natural Language Processing) 소개\n",
    "    - 단어주머니(bag-of-words) 모델\n",
    "    - 순차(sequence) 모델\n",
    "- 순차 모델 활용\n",
    "    - 양방향 순환신경망(bidirectional LSTM) 적용\n",
    "- 트랜스포머(Transformer) 활용\n",
    "- 시퀀스-투-시퀀스(seq2seq) 모델 활용"
   ]
  },
  {
   "cell_type": "markdown",
   "id": "f5395f00",
   "metadata": {
    "id": "x8OD2TTxZ8Om"
   },
   "source": [
    "## 자연어처리 소개"
   ]
  },
  {
   "cell_type": "markdown",
   "id": "3654b9db",
   "metadata": {
    "id": "rTBmxXQxZ8On"
   },
   "source": [
    "파이썬, 자바, C, C++, C#, 자바스크립트 등 컴퓨터 프로그래밍언어와 구분하기 위해 \n",
    "일상에서 사용되는 한국어, 영어 등을 **자연어**<font size='2'>natural language</font>라 \n",
    "부른다. \n",
    "\n",
    "자연어의 특성상 정확한 분석을 위한 알고리즘을 구현하는 일은 사실상 매우 어렵다. \n",
    "딥러닝 기법이 활용되기 이전까지는 적절한 규칙을 구성하여 자연어를 이해하려는 \n",
    "수 많은 시도가 있어왔지만 별로 성공적이지 않았다."
   ]
  },
  {
   "cell_type": "markdown",
   "id": "36958573",
   "metadata": {},
   "source": [
    "1990년대부터 인터넷으로부터 구해진 엄청난 양의 텍스트 데이터에 머신러닝 기법을\n",
    "적용하기 시작했다. 단, 주요 목적이 **언어의 이해**가 아니라 \n",
    "아래 예제들처럼 입력 텍스트를 분석하여 \n",
    "**통계적으로 유용한 정보를 예측**하는 방향으로 수정되었다.\n",
    "\n",
    "- 텍스트 분류: \"이 문장의 주제는?\"\n",
    "- 내용 필터링: \"욕설이 포함되었나?\"\n",
    "- 감성 분석: \"내용이 긍정이야 부정이야?\"\n",
    "- 언어 모델링: \"이 문장에 이어 어떤 단어가 있어야 하지?\"\n",
    "- 번역: \"이거를 한국어로 어떻게 말해?\"\n",
    "- 요약: \"이 기사를 한 줄로 요약하면?\"\n",
    "\n",
    "이와 같은 분석을 **자연어 처리**<font size='2'>Natural Language Processing</font>이라 하며\n",
    "단어, 문장, 문단 등에서 찾을 수 있는 패턴을  인식하려 시도한다. "
   ]
  },
  {
   "cell_type": "markdown",
   "id": "10130069",
   "metadata": {
    "id": "RjKUDDVfZ8On"
   },
   "source": [
    "**머신러닝 활용**"
   ]
  },
  {
   "cell_type": "markdown",
   "id": "44bc8d24",
   "metadata": {
    "id": "CSG-s6PzZ8On"
   },
   "source": [
    "자연어처리를 위해 1990년대부터 시작된 머신러닝 활용의 변화과정은 다음과 같다."
   ]
  },
  {
   "cell_type": "markdown",
   "id": "49f35657",
   "metadata": {
    "id": "Y6rI3gM1Z8Oo"
   },
   "source": [
    "- 1990 - 2010년대 초반: \n",
    "    결정트리(decision trees), 로지스틱 회귀(logistic regression) 모델이 주로 활용됨.\n",
    "\n",
    "- 2014-2015: LSTM 등 시퀀스 처리 알고리즘 활용 시작\n",
    "\n",
    "- 2015-2017: (양방향) 순환신경망이 기본적으로 활용됨.\n",
    "\n",
    "- 2017-2018: 트랜스포머<font size='2'> transformer</font> 모델이 최고의 성능 발휘하며, \n",
    "    많은 난제들을 해결함. 현재 가장 많이 활용되는 모델임."
   ]
  },
  {
   "cell_type": "markdown",
   "id": "f6fe62e9",
   "metadata": {
    "id": "B48vvr6KZ8Oo"
   },
   "source": [
    "## 텍스트 벡터화"
   ]
  },
  {
   "cell_type": "markdown",
   "id": "c3afd40a",
   "metadata": {
    "id": "CZYKnZBzZ8Op"
   },
   "source": [
    "딥러닝 모델은 텍스트 자체를 처리할 수 없다.\n",
    "따라서 텍스트를 수치형 텐서로 변환하는 **텍스트 벡터화**<font size='2'>text vectorization</font> 과정이 요구되며\n",
    "보통 다음 세 단계를 따른다.\n",
    "\n",
    "1. **텍스트 표준화**<font size='2'>text standardization</font>: 소문자화, 마침표 제거 등등\n",
    "1. **토큰화**<font size='2'>tokenization</font>: 기본 단위의 **유닛**<font size='2'>units</font>으로 쪼개기.\n",
    "    문자, 단어, 단어 집합 등이 토큰으로 활용됨.\n",
    "1. **어휘 색인화**<font size='2'>vocabulary indexing</font>: 토큰 각각을 하나의 수치형 벡터로 변환.\n",
    "\n",
    "아래 그림은 텍스트 벡터화의 기본적인 과정을 잘 보여준다."
   ]
  },
  {
   "cell_type": "markdown",
   "id": "2730730a",
   "metadata": {
    "id": "SgWIhq1tZ8Op"
   },
   "source": [
    "<div align=\"center\"><img src=\"https://drek4537l1klr.cloudfront.net/chollet2/Figures/11-01.png\" style=\"width:60%;\"></div>\n",
    "\n",
    "<p><div style=\"text-align: center\">&lt;그림 출처: <a href=\"https://www.manning.com/books/deep-learning-with-python-second-edition\">Deep Learning with Python(2판)</a>&gt;</div></p>"
   ]
  },
  {
   "cell_type": "markdown",
   "id": "9c0a1907",
   "metadata": {
    "id": "hAD2s0DaZ8Op"
   },
   "source": [
    "### 텍스트 표준화"
   ]
  },
  {
   "cell_type": "markdown",
   "id": "878d7660",
   "metadata": {
    "id": "yQRj19aQZ8Op"
   },
   "source": [
    "다음 두 문장을 표준화를 통해 동일한 문장으로 변환해보자.\n",
    "\n",
    "- \"sunset came. i was staring at the Mexico sky. Isnt nature splendid??\"\n",
    "- \"Sunset came; I stared at the M&eacute;xico sky. Isn't nature splendid?\""
   ]
  },
  {
   "cell_type": "markdown",
   "id": "bc61092a",
   "metadata": {
    "id": "K8EaqY5xZ8Op"
   },
   "source": [
    "예를 들어 다음 표준화 기법을 사용할 수 있다.\n",
    "\n",
    "- 모두 소문자화\n",
    "- `.`, `;`, `?`, `'` 등 특수 기호 제거\n",
    "- 특수 알파벳 변환: \"&eacute;\"를 \"e\"로, \"&aelig;\"를 \"ae\"로 등등\n",
    "- 동사/명사의 기본형 활용: \"cats\"를 \"[cat]\"로, \"was staring\"과 \"stared\"를 \"[stare]\"로 등등."
   ]
  },
  {
   "cell_type": "markdown",
   "id": "e4376cbe",
   "metadata": {
    "id": "ZoxhNN-RZ8Op"
   },
   "source": [
    "그러면 위 두 문장 모두 아래 문장으로 변환된다."
   ]
  },
  {
   "cell_type": "markdown",
   "id": "d3e08709",
   "metadata": {
    "id": "g7lZN8sQZ8Oq"
   },
   "source": [
    "- \"sunset came i [stare] at the mexico sky isnt nature splendid\""
   ]
  },
  {
   "cell_type": "markdown",
   "id": "4e5d0fcc",
   "metadata": {
    "id": "_eQkVWvJZ8Oq"
   },
   "source": [
    "표준화 과정을 통해 어느 정도의 정보를 상실하게 되지만\n",
    "학습해야할 내용을 줄여 일반화 성능이 보다 좋은 모델을 훈련시키는 장점이 있다.\n",
    "하지만 분석 목적에 따라 표준화 기법은 경우에 따라 달라질 수 있음에 주의해야 한다. \n",
    "예를 들어 인터뷰 기사의 경우 물음표(`?`)는 제거하면 안된다."
   ]
  },
  {
   "cell_type": "markdown",
   "id": "be1f2f53",
   "metadata": {
    "id": "dVL9JLyNZ8Oq"
   },
   "source": [
    "### 토큰화"
   ]
  },
  {
   "cell_type": "markdown",
   "id": "621cd0f7",
   "metadata": {
    "id": "3lpJ96j0Z8Oq"
   },
   "source": [
    "텍스트 표준화 이후 데이터 분석의 기본 단위인 토큰으로 쪼개야 한다.\n",
    "보통 아래 세 가지 방식 중에 하나를 사용한다.\n",
    "\n",
    "- 단어 기준 토큰화(word-level tokenization)\n",
    "    - 공백으로 구분된 단어들로 쪼개기. \n",
    "    - 경우에 따라 동사 어근과 어미를 구분하기도 함: \"star+ing\", \"call+ed\" 등등\n",
    "- N-그램 토큰화(N-gram tokenization)\n",
    "    - N-그램 토큰: 연속으로 위치한 N 개(이하)의 단어 묶음\n",
    "    - 예제: \"the cat\", \"he was\" 등은 2-그램 토큰이다.\n",
    "- 문자 기준 토큰화(character-level tokenization)\n",
    "    - 하나의 문자가 하나의 토큰임.\n",
    "    - 문장 생성, 음성 인식 등에서 활용됨."
   ]
  },
  {
   "cell_type": "markdown",
   "id": "6f3dd300",
   "metadata": {
    "id": "jI89IM0PZ8Oq"
   },
   "source": [
    "일반적으로 문자 기준 토큰화는 잘 사용되지 않는다. \n",
    "여기서도 단어 기준과 N-그램 토큰화만 이용한다.\n",
    "\n",
    "- 단어 기준 토큰화: 단어들의 순서를 중요시하는 **순차 모델**<font size='2'>sequence models</font>을 사용할 경우 활용\n",
    "- N-그램 토큰화: 단언들의 순서를 별로 상관하지 않는 **단어 주머니**<font size='2'>bag-of-words</font> \n",
    "    모델을 사용할 경우 활용\n",
    "    - N-그램: 단어들 사이의 순서에 대한 지엽적 정보를 어느 정도 유지함.\n",
    "    - 일종의 특성 공학<font size='2'>feature engineering</font> 기법이며 따라서 \n",
    "        얕은 학습 기반의 언어처리 모델에 활용됨.\n",
    "    - 1차원 합성곱 신경망, 순환 신경망, 트랜스포머 등은 이 기법을 사용하지 않아도 됨."
   ]
  },
  {
   "cell_type": "markdown",
   "id": "c2fdcb2a",
   "metadata": {
    "id": "5H6-1RjBZ8Oq"
   },
   "source": [
    "단어주머니(bag-of-words)는 N-토큰으로 구성된 집합을 의미하며 \n",
    "**N-그램 주머니**라고도 불린다.\n",
    "예를 들어 \"the cat sat on the mat.\" 문장에 대한 \n",
    "2-그램 집합과 3-그램 집합은 각각 다음과 같다."
   ]
  },
  {
   "cell_type": "markdown",
   "id": "cfc7bf50",
   "metadata": {
    "id": "nQwzf0c3Z8Oq"
   },
   "source": [
    "- 2-그램 집합\n",
    "\n",
    "    ```\n",
    "    {\"the\", \"the cat\", \"cat\", \"cat sat\", \"sat\",\n",
    "    \"sat on\", \"on\", \"on the\", \"the mat\", \"mat\"}\n",
    "    ```"
   ]
  },
  {
   "cell_type": "markdown",
   "id": "0f295839",
   "metadata": {
    "id": "hscQaMsgZ8Or"
   },
   "source": [
    "- 3-그램 집합\n",
    "\n",
    "    ```\n",
    "    {\"the\", \"the cat\", \"cat\", \"cat sat\", \"the cat sat\",\n",
    "    \"sat\", \"sat on\", \"on\", \"cat sat on\", \"on the\",\n",
    "    \"sat on the\", \"the mat\", \"mat\", \"on the mat\"}\n",
    "    ```"
   ]
  },
  {
   "cell_type": "markdown",
   "id": "96b29292",
   "metadata": {
    "id": "3tCbQJOAZ8Or"
   },
   "source": [
    "### 어휘 색인화"
   ]
  },
  {
   "cell_type": "markdown",
   "id": "02d45c16",
   "metadata": {
    "id": "H36AKaAIZ8Or"
   },
   "source": [
    "일반적으로 먼저 훈련셋에 포함된 모든 토큰들의 색인(인덱스)을 생성한 다음에\n",
    "원-핫, 멀티-핫 인코딩 등의 방식을 사용하여 수치형 텐서로 변환한다.\n",
    "\n",
    "{numref}`%s장 <ch:getting_started_with_neural_networks>`에서 언급한 대로 \n",
    "보통 사용 빈도가 높은 2만 또는 3만 개의 단어만을 대상으로 어휘 색인화를 진행한다.\n",
    "당시에 IMDB 영화 후기 데이터셋을 불러올 때\n",
    "`num_words=10000`을 사용하여 사용 빈도수가 상위 1만 등 안에 들지 않는 단어는\n",
    "영화 후기에서 삭제하도록 하였다.\n",
    "\n",
    "```python\n",
    "from tensorflow.keras.datasets import imdb\n",
    "(train_data, train_labels), (test_data, test_labels) = imdb.load_data(num_words=10000)\n",
    "```"
   ]
  },
  {
   "cell_type": "markdown",
   "id": "8a5bc303",
   "metadata": {},
   "source": [
    "케라스의 imdb 데이터셋은 이미 정수들의 시퀀스로 전처리가 되어 있다. \n",
    "하지만 여기서는 원본 imdb 데이터셋을 대상으로 전처리를 직접 수행하는 단계부터 살펴볼 것이다.\n",
    "이를 위해 아래 사항을 기억해 두자.\n",
    "\n",
    "- OOV 인덱스 활용: 어휘 색인에 포함되지 않는 단어는 모두 1로 처리됨. \n",
    "    일반 문장으로 재번역되는 경우 \"[UNK]\" 으로 처리됨.\n",
    "    - OOV = Out Of Vocabulary (미동록 어휘)\n",
    "    - UNK = Unknown (미확인)\n",
    "- 마스크 토큰<font size='2'>mask token</font>: 문장의 길이를 맞추기 위한 패딩으로 사용되는 0을\n",
    "    가리키며, 훈련 과정에서 무시됨.    \n",
    "    ```\n",
    "    [[5,  7, 124, 4, 89],\n",
    "     [8, 34,  21, 0,  0]]\n",
    "    ```"
   ]
  },
  {
   "cell_type": "markdown",
   "id": "6de77b47",
   "metadata": {
    "id": "s34AVqltZ8Or"
   },
   "source": [
    "### `TextVectorization` 층 활용"
   ]
  },
  {
   "cell_type": "markdown",
   "id": "5ddd3838",
   "metadata": {},
   "source": [
    "케라스의 `TextVectorization` 층을 이용하여 텍스트 벡터화를 진행할 수 있다.\n",
    "\n",
    "아래 코드는 `TextVectorization` 층 구성에 사용되는 주요 기본 설정을 보여준다.\n",
    "표준화와 토큰화 방식을 임의로 지정해서 활용할 수도 있지만 여기서는 자세히 다루지 않는다.\n",
    "\n",
    "- 표준화: `standardize='lower_and_strip_punctuation'` (소문자화와 마침표 등 제거)\n",
    "- 토큰화: `split='whitespace'` (단어 기준 쪼개기), `ngrams=None` (n-그램 미사용)\n",
    "- 출력 모드: `output_mode=\"int\"` (정수 인코딩)"
   ]
  },
  {
   "cell_type": "markdown",
   "id": "74899aa9",
   "metadata": {},
   "source": [
    "```python\n",
    "from tensorflow.keras.layers import TextVectorization\n",
    "\n",
    "text_vectorization = TextVectorization(\n",
    "    standardize='lower_and_strip_punctuation',\n",
    "    split='whitespace',\n",
    "    ngrams=None,\n",
    "    output_mode='int',\n",
    ")\n",
    "```"
   ]
  },
  {
   "cell_type": "markdown",
   "id": "a2df75fa",
   "metadata": {},
   "source": [
    "예를 들어, 아래 데이터셋을 이용하여 텍스트 벡터화를 해보자."
   ]
  },
  {
   "cell_type": "markdown",
   "id": "efb9dcc6",
   "metadata": {},
   "source": [
    "```python\n",
    "dataset = [\n",
    "    \"I write, erase, rewrite\",\n",
    "    \"Erase again, and then\",\n",
    "    \"A poppy blooms.\",\n",
    "]\n",
    "```"
   ]
  },
  {
   "cell_type": "markdown",
   "id": "24379f40",
   "metadata": {},
   "source": [
    "어휘 색인화를 위해 먼저 `adapt()` 메서드를 이용하여 어휘 색인을 만든다."
   ]
  },
  {
   "cell_type": "markdown",
   "id": "eb33816b",
   "metadata": {},
   "source": [
    "```python\n",
    ">>> text_vectorization.adapt(dataset)\n",
    "```"
   ]
  },
  {
   "cell_type": "markdown",
   "id": "d4976864",
   "metadata": {},
   "source": [
    "생성된 어휘 색인은 다음과 같다."
   ]
  },
  {
   "cell_type": "markdown",
   "id": "7a230534",
   "metadata": {},
   "source": [
    "```python\n",
    ">>> vocabulary = text_vectorization.get_vocabulary()\n",
    ">>> vocabulary\n",
    "['',\n",
    " '[UNK]',\n",
    " 'erase',\n",
    " 'write',\n",
    " 'then',\n",
    " 'rewrite',\n",
    " 'poppy',\n",
    " 'i',\n",
    " 'blooms',\n",
    " 'and',\n",
    " 'again',\n",
    " 'a']\n",
    "```"
   ]
  },
  {
   "cell_type": "markdown",
   "id": "b2e0197b",
   "metadata": {},
   "source": [
    "생성된 어휘 색인을 활용하여 새로운 문장을 벡터화 해보자."
   ]
  },
  {
   "cell_type": "markdown",
   "id": "cdb5d5ae",
   "metadata": {},
   "source": [
    "```python\n",
    ">>> test_sentence = \"I write, rewrite, and still rewrite again\"\n",
    ">>> encoded_sentence = text_vectorization(test_sentence)\n",
    ">>> print(encoded_sentence)\n",
    "tf.Tensor([ 7  3  5  9  1  5 10], shape=(7,), dtype=int64)\n",
    "```"
   ]
  },
  {
   "cell_type": "markdown",
   "id": "6eda42f9",
   "metadata": {},
   "source": [
    "벡터화된 텐서로부터 문장을 복원하면 표준화된 문장이 생성된다."
   ]
  },
  {
   "cell_type": "markdown",
   "id": "2c5c7479",
   "metadata": {},
   "source": [
    "```python\n",
    ">>> inverse_vocab = dict(enumerate(vocabulary))\n",
    ">>> decoded_sentence = \" \".join(inverse_vocab[int(i)] for i in encoded_sentence)\n",
    ">>> print(decoded_sentence)\n",
    "i write rewrite and [UNK] rewrite again\n",
    "```"
   ]
  },
  {
   "cell_type": "markdown",
   "id": "b5cb3b51",
   "metadata": {
    "id": "U1YzqULYZ8Ou"
   },
   "source": [
    ":::{admonition} `TextVectorization` 층 사용법\n",
    ":class: info\n",
    "\n",
    "`TextVectorization` 층은 GPU 또는 TPU에서 지원되지 않는다.\n",
    "따라서 모델 구성에 직접 사용하는 방식은 모델의 훈련을\n",
    "늦출 수 있기에 권장되지 않는다.\n",
    "여기서는 대신에 데이터셋 전처리를 모델 구성과 독립적으로 처리하는 방식을 이용한다.\n",
    "\n",
    "하지만 훈련이 완성된 모델을 실전에 배치할 경우 `TextVectorization` 층을\n",
    "완성된 모델에 추가해서 사용하는 게 좋다.\n",
    ":::"
   ]
  },
  {
   "cell_type": "markdown",
   "id": "05a0a052",
   "metadata": {
    "id": "HLeiiilMZ8Ou"
   },
   "source": [
    "## 문장 표현법: 집합 대 시퀀스"
   ]
  },
  {
   "cell_type": "markdown",
   "id": "60a8fd24",
   "metadata": {
    "id": "SEfG5l_yZ8Ou"
   },
   "source": [
    "앞서 언급한 대로 자연어처리 모델에 따라 단어 모음을 다루는 방식이 다르다. \n",
    "\n",
    "- 단어주머니(bag-of-words) 모델\n",
    "    - 단어들의 순서를 무시. 단어 모음을 단어들의 집합으로 다룸.\n",
    "    - 2015년 이전까지 주로 사용됨.\n",
    "- 시퀀스(sequence) 모델\n",
    "    - RNN: 단어들의 순서를 시계열 데이터의 스텝처럼 간주. 2015-2016에 주로 사용됨.\n",
    "    - 트랜스포머<font size='2'>Transformer</font> 아키텍처. \n",
    "        기본적으로 순서를 무시하지만 단어 위치를 학습할 수 있는 능력을 가짐.\n",
    "        2017년 이후 많이 활용됨."
   ]
  },
  {
   "cell_type": "markdown",
   "id": "fc124bfd",
   "metadata": {
    "id": "6uzRLQDcZ8Ou"
   },
   "source": [
    "여기서는 IMDB 영화 리뷰 데이터를 이용하여 두 모델 방식의 \n",
    "활용법과 차이점을 소개한다."
   ]
  },
  {
   "cell_type": "markdown",
   "id": "e856917b",
   "metadata": {
    "id": "BGXhJe5XZ8Ou"
   },
   "source": [
    "### IMDB 영화 리뷰 데이터 준비"
   ]
  },
  {
   "cell_type": "markdown",
   "id": "96c614b0",
   "metadata": {
    "id": "rfwyzgmXZ8Ou"
   },
   "source": [
    "이전과는 달리 여기서는 IMDB 데이터셋을 직접 다운로드하여 전처리하는 \n",
    "과정을 살펴본다. "
   ]
  },
  {
   "cell_type": "markdown",
   "id": "961a7a7a",
   "metadata": {
    "id": "KaO7ilwSZ8Ou"
   },
   "source": [
    "준비 과정 1: 데이터셋 다운로드 압축 풀기"
   ]
  },
  {
   "cell_type": "markdown",
   "id": "7b2d14d6",
   "metadata": {},
   "source": [
    "[aclIMDB_v1.tar](https://ai.stanford.edu/~amaas/data/sentiment/aclImdb_v1.tar.gz) 파일을 \n",
    "다운로드 한 후에 압축을 풀면 아래 구조의 디렉토리가 생성된다.\n",
    "\n",
    "```\n",
    "aclImdb/\n",
    "...train/\n",
    "......pos/\n",
    "......neg/\n",
    "...test/\n",
    "......pos/\n",
    "......neg/\n",
    "```\n",
    "\n",
    "`train`의 `pos`와 `neg` 서브디렉토리에 각각 12,500개의 긍정과 부정 리뷰가\n",
    "포함되어 있다. `aclImdb/train/unsup` 서브디렉토리는 필요 없기에 삭제한다."
   ]
  },
  {
   "cell_type": "markdown",
   "id": "e7db92f0",
   "metadata": {
    "id": "9rZ3a9ETZ8Ou"
   },
   "source": [
    "긍정 리뷰 하나의 내용을 살펴보자.\n",
    "모델 구성 이전에 훈련 데이터셋을 살펴 보고\n",
    "모델에 대한 직관을 갖는 과정이 항상 필요하다."
   ]
  },
  {
   "cell_type": "markdown",
   "id": "9214e6a9",
   "metadata": {},
   "source": [
    "```\n",
    "I first saw this back in the early 90s on UK TV, i did like it then but i missed the chance to tape it, many years passed but the film always stuck with me and i lost hope of seeing it TV again, the main thing that stuck with me was the end, the hole castle part really touched me, its easy to watch, has a great story, great music, the list goes on and on, its OK me saying how good it is but everyone will take there own best bits away with them once they have seen it, yes the animation is top notch and beautiful to watch, it does show its age in a very few parts but that has now become part of it beauty, i am so glad it has came out on DVD as it is one of my top 10 films of all time. Buy it or rent it just see it, best viewing is at night alone with drink and food in reach so you don't have to stop the film.<br /><br />Enjoy\n",
    "```"
   ]
  },
  {
   "cell_type": "markdown",
   "id": "09ded6e1",
   "metadata": {
    "id": "IfeoV0YCZ8Ov"
   },
   "source": [
    "준비 과정 2: 검증셋 준비"
   ]
  },
  {
   "cell_type": "markdown",
   "id": "14598c3d",
   "metadata": {},
   "source": [
    "훈련셋의 20%를 검증셋으로 떼어낸다.\n",
    "이를 위해 `aclImdb/val` 디렉토리를 생성한 후에\n",
    "긍정과 부정 훈련셋 모두 무작위로 섞은 후 그중 20%를 검증셋 디렉토리로 옮긴다."
   ]
  },
  {
   "cell_type": "markdown",
   "id": "cbbb1c17",
   "metadata": {
    "id": "fljBC3puZ8Ov"
   },
   "source": [
    "준비 과정 3: 텐서 데이터셋 준비"
   ]
  },
  {
   "cell_type": "markdown",
   "id": "840a9d17",
   "metadata": {},
   "source": [
    "`text_dataset_from_directory()` 함수를 이용하여 \n",
    "훈련셋, 검증셋, 테스트셋을 준비한다. \n",
    "자료형은 모두 `Dataset`이며, 배치 크기는 32를 사용한다."
   ]
  },
  {
   "cell_type": "markdown",
   "id": "af0f4f19",
   "metadata": {
    "colab": {
     "base_uri": "https://localhost:8080/"
    },
    "id": "e41g6BtPZ8Ov",
    "outputId": "b40fd231-c8d5-4ac9-86df-a291b3b40e64"
   },
   "source": [
    "```python\n",
    "batch_size = 32\n",
    "\n",
    "train_ds = keras.utils.text_dataset_from_directory(\n",
    "    \"aclImdb/train\", batch_size=batch_size\n",
    "    )\n",
    "\n",
    "val_ds = keras.utils.text_dataset_from_directory(\n",
    "    \"aclImdb/val\", batch_size=batch_size\n",
    "    )\n",
    "\n",
    "test_ds = keras.utils.text_dataset_from_directory(\n",
    "    \"aclImdb/test\", batch_size=batch_size\n",
    "    )\n",
    "```"
   ]
  },
  {
   "cell_type": "markdown",
   "id": "a9f8710a",
   "metadata": {
    "id": "qLi_rBmlZ8Ov"
   },
   "source": [
    "각 데이터셋은 배치로 구분되며\n",
    "배치의 각 입력 데이터 샘플은 텐서플로우의 문자열 자료형인 `tf.string` 텐서이고, \n",
    "타깃은 0 또는 1의 `int32` 텐서로 지정된다. \n",
    "0은 부정을, 1은 긍정을 나타낸다.\n",
    "\n",
    "배치의 크기는 32이며, 예를 들어, 첫째 배치의 입력과 타깃 데이터의 정보는 다음과 같다."
   ]
  },
  {
   "cell_type": "markdown",
   "id": "860c3f4f",
   "metadata": {
    "colab": {
     "base_uri": "https://localhost:8080/"
    },
    "id": "G05FSfO1Z8Ov",
    "outputId": "590ae91b-24f2-45a7-864a-ab9e8615e6e1"
   },
   "source": [
    "```python\n",
    ">>> for inputs, targets in train_ds:\n",
    "...     # 예제: 첫째 배치의 첫째 리뷰\n",
    "...     print(\"inputs[0]:\", inputs[0])\n",
    "...     print(\"targets[0]:\", targets[0])    \n",
    "...     break\n",
    "inputs[0]: tf.Tensor(b'The film begins with a bunch of kids in reform school and focuses on a kid named \\'Gabe\\', who has apparently worked hard to earn his parole. Gabe and his sister move to a new neighborhood to make a fresh start and soon Gabe meets up with the Dead End Kids. The Kids in this film are little punks, but they are much less antisocial than they\\'d been in other previous films and down deep, they are well-meaning punks. However, in this neighborhood there are also some criminals who are perpetrating insurance fraud through arson and see Gabe as a convenient scapegoat--after all, he\\'d been to reform school and no one would believe he was innocent once he was framed. So, when Gabe is about ready to be sent back to \"The Big House\", it\\'s up to the rest of the gang to save him and expose the real crooks.<br /><br />The \"Dead End Kids\" appeared in several Warner Brothers films in the late 1930s and the films were generally very good (particularly ANGELS WITH DIRTY FACES). However, after the boys\\' contracts expired, they went on to Monogram Studios and the films, to put it charitably, were very weak and formulaic--with Huntz Hall and Leo Gorcey being pretty much the whole show and the group being renamed \"The Bowery Boys\". Because ANGELS WASH THEIR FACES had the excellent writing and production values AND Hall and Gorcey were not constantly mugging for the camera, it\\'s a pretty good film--and almost earns a score of 7 (it\\'s REAL close). In fact, while this isn\\'t a great film aesthetically, it\\'s sure a lot of fun to watch, so I will give it a 7! Sure, it was a tad hokey-particularly towards the end when the kids take the law into their own hands and Reagan ignores the Bill of Rights--but it was also quite entertaining. The Dead End Kids are doing their best performances and Ronald Reagan and Ann Sheridan provided excellent support. Sure, this part of the film was illogical and impossible but somehow it was still funny and rather charming--so if you can suspend disbelief, it works well.', shape=(), dtype=string)\n",
    "targets[0]: tf.Tensor(1, shape=(), dtype=int32)\n",
    "```"
   ]
  },
  {
   "cell_type": "markdown",
   "id": "65c1265e",
   "metadata": {
    "id": "hAVLNfkAZ8Ov"
   },
   "source": [
    "### 단어주머니 기법"
   ]
  },
  {
   "cell_type": "markdown",
   "id": "b82de8a6",
   "metadata": {
    "id": "Z17LE7S-Z8Ov"
   },
   "source": [
    "단어주머니에 채울 토큰으로 어떤 N-그램을 사용할지 먼저 지정해야 한다. \n",
    "\n",
    "- 유니그램(unigrams): 하나의 단어가 한의 토큰\n",
    "- N-그램(N-grams): 최대 N 개의 연속 단어로 이루어진 토큰"
   ]
  },
  {
   "cell_type": "markdown",
   "id": "341cf580",
   "metadata": {
    "id": "Ke4S9dNAZ8Ov"
   },
   "source": [
    "**방식 1: 유니그램 바이너리 인코딩**"
   ]
  },
  {
   "cell_type": "markdown",
   "id": "e77bf80f",
   "metadata": {
    "id": "Rv53srVkZ8Ov"
   },
   "source": [
    "예를 들어 \"the cat sat on the mat\" 문장을 유니그램으로 처리하면 다음 \n",
    "단어주머니가 생성된다.\n",
    "집합으로 처리되기에 단어들의 순서는 완전히 무시된다.\n",
    "\n",
    "```\n",
    "{\"cat\", \"mat\", \"on\", \"sat\", \"the\"}\n",
    "```\n",
    "\n",
    "이제 모든 문장은 어휘색인에 포함된 단어들의 수만큼 긴 1차원 이진 텐서(binary tensor)로\n",
    "처리된다. \n",
    "즉, 멀티-핫(multi-hot) 인코딩 방식을 사용해서 텐서로 변환된다.\n",
    "[4장](https://codingalzi.github.io/dlp/notebooks/dlp04_getting_started_with_neural_networks.html)과 \n",
    "[5장](https://codingalzi.github.io/dlp/notebooks/dlp05_fundamentals_of_ml.html)에서 \n",
    "문장을 인코딩 방식과 동일하다. \n",
    "\n",
    "`TextVectorization` 클래스의 `output_mode=\"multi_hot\"` 옵션을 이용하면\n",
    "방금 설명한 내용을 그대로 처리해준다."
   ]
  },
  {
   "cell_type": "markdown",
   "id": "1cf9f5a7",
   "metadata": {
    "id": "VqPH5YjlZ8Ov"
   },
   "source": [
    "```python\n",
    "from tensorflow.keras.layers import TextVectorization\n",
    "\n",
    "text_vectorization = TextVectorization(\n",
    "    max_tokens=20000,\n",
    "    output_mode=\"multi_hot\",\n",
    ")\n",
    "\n",
    "# 어휘색인 생성\n",
    "text_only_train_ds = train_ds.map(lambda x, y: x)\n",
    "text_vectorization.adapt(text_only_train_ds)\n",
    "```"
   ]
  },
  {
   "cell_type": "markdown",
   "id": "7ac04940",
   "metadata": {
    "id": "It6Yxh3BZ8Ow"
   },
   "source": [
    "생성된 어휘색인을 이용하여 훈련셋, 검증셋, 테스트셋 모두 벡터화한다. "
   ]
  },
  {
   "cell_type": "code",
   "execution_count": null,
   "id": "082de2ca",
   "metadata": {
    "id": "kjDRTte3Z8Ow"
   },
   "outputs": [],
   "source": [
    "binary_1gram_train_ds = train_ds.map(lambda x, y: (text_vectorization(x), y))\n",
    "binary_1gram_val_ds = val_ds.map(lambda x, y: (text_vectorization(x), y))\n",
    "binary_1gram_test_ds = test_ds.map(lambda x, y: (text_vectorization(x), y))"
   ]
  },
  {
   "cell_type": "markdown",
   "id": "d4a7f53e",
   "metadata": {
    "id": "yvWbCZP_Z8Ow"
   },
   "source": [
    "변환된 첫째 배치의 입력과 타깃 데이터의 정보는 다음과 같다.\n",
    "`max_tokens=20000`으로 지정하였기에 모든 문장은 길이가 2만인 벡터로 변환되었다."
   ]
  },
  {
   "cell_type": "code",
   "execution_count": null,
   "id": "2ef117f9",
   "metadata": {
    "colab": {
     "base_uri": "https://localhost:8080/"
    },
    "id": "LgkB1GBiZ8Ow",
    "outputId": "138995c1-7172-48ac-b7bd-268e87cbe66e"
   },
   "outputs": [
    {
     "name": "stdout",
     "output_type": "stream",
     "text": [
      "inputs.shape: (32, 20000)\n",
      "inputs.dtype: <dtype: 'float32'>\n",
      "targets.shape: (32,)\n",
      "targets.dtype: <dtype: 'int32'>\n",
      "inputs[0]: tf.Tensor([1. 1. 1. ... 0. 0. 0.], shape=(20000,), dtype=float32)\n",
      "targets[0]: tf.Tensor(0, shape=(), dtype=int32)\n"
     ]
    }
   ],
   "source": [
    "for inputs, targets in binary_1gram_train_ds:\n",
    "    print(\"inputs.shape:\", inputs.shape)\n",
    "    print(\"inputs.dtype:\", inputs.dtype)\n",
    "    print(\"targets.shape:\", targets.shape)\n",
    "    print(\"targets.dtype:\", targets.dtype)\n",
    "    print(\"inputs[0]:\", inputs[0])\n",
    "    print(\"targets[0]:\", targets[0])\n",
    "    break"
   ]
  },
  {
   "cell_type": "markdown",
   "id": "ced678f6",
   "metadata": {
    "id": "W5MpMNs0Z8Ow"
   },
   "source": [
    "**밀집 모델 지정**"
   ]
  },
  {
   "cell_type": "markdown",
   "id": "a802a652",
   "metadata": {
    "id": "Ylif_1jYZ8Ow"
   },
   "source": [
    "단어주머니 모델로 여기서는 밀집 모델을 사용한다. \n",
    "`get_model()` 함수가 컴파일 된 단순한 밀집 모델을 반환한다.\n",
    "모델의 출력값은 긍정일 확률이며, \n",
    "최상위 층의 활성화 함수로 `sigmoid`를 사용한다."
   ]
  },
  {
   "cell_type": "code",
   "execution_count": null,
   "id": "e5a36c9d",
   "metadata": {
    "id": "H0F71SW_Z8Ow"
   },
   "outputs": [],
   "source": [
    "from tensorflow import keras\n",
    "from tensorflow.keras import layers\n",
    "\n",
    "def get_model(max_tokens=20000, hidden_dim=16):\n",
    "    inputs = keras.Input(shape=(max_tokens,))\n",
    "    x = layers.Dense(hidden_dim, activation=\"relu\")(inputs)\n",
    "    x = layers.Dropout(0.5)(x)\n",
    "    outputs = layers.Dense(1, activation=\"sigmoid\")(x)  # 긍정일 확률 계산\n",
    "    \n",
    "    model = keras.Model(inputs, outputs)\n",
    "    \n",
    "    model.compile(optimizer=\"rmsprop\",\n",
    "                  loss=\"binary_crossentropy\",\n",
    "                  metrics=[\"accuracy\"])\n",
    "    \n",
    "    return model"
   ]
  },
  {
   "cell_type": "code",
   "execution_count": null,
   "id": "3bde7425",
   "metadata": {
    "colab": {
     "base_uri": "https://localhost:8080/"
    },
    "id": "A72xJj81Z8Ow",
    "outputId": "d6024f1f-c272-417b-df2e-d2350fcd08bf"
   },
   "outputs": [
    {
     "name": "stdout",
     "output_type": "stream",
     "text": [
      "Model: \"model\"\n",
      "_________________________________________________________________\n",
      " Layer (type)                Output Shape              Param #   \n",
      "=================================================================\n",
      " input_1 (InputLayer)        [(None, 20000)]           0         \n",
      "                                                                 \n",
      " dense (Dense)               (None, 16)                320016    \n",
      "                                                                 \n",
      " dropout (Dropout)           (None, 16)                0         \n",
      "                                                                 \n",
      " dense_1 (Dense)             (None, 1)                 17        \n",
      "                                                                 \n",
      "=================================================================\n",
      "Total params: 320,033\n",
      "Trainable params: 320,033\n",
      "Non-trainable params: 0\n",
      "_________________________________________________________________\n"
     ]
    }
   ],
   "source": [
    "model = get_model()\n",
    "model.summary()"
   ]
  },
  {
   "cell_type": "markdown",
   "id": "bce80594",
   "metadata": {
    "id": "PvGyigWsZ8Ow"
   },
   "source": [
    "**모델 훈련**"
   ]
  },
  {
   "cell_type": "markdown",
   "id": "804ee804",
   "metadata": {
    "id": "e797rZZfZ8Ow"
   },
   "source": [
    "밀집 모델 훈련과정은 특별한 게 없다.\n",
    "훈련 후 테스트셋에 대한 정확도가 89% 보다 조금 낮게 나온다.\n",
    "최고 성능의 모델이 테스트셋에 대해 95% 정도 정확도를 내는 것보다는 낮지만\n",
    "무작위로 찍는 모델보다는 훨씬 좋은 모델이다."
   ]
  },
  {
   "cell_type": "code",
   "execution_count": null,
   "id": "1235b79b",
   "metadata": {
    "colab": {
     "base_uri": "https://localhost:8080/"
    },
    "id": "u_HTlND7Z8Ow",
    "outputId": "48a72a1c-4695-48b8-d63a-6ee780f47b96"
   },
   "outputs": [
    {
     "name": "stdout",
     "output_type": "stream",
     "text": [
      "Epoch 1/10\n",
      "625/625 [==============================] - 10s 16ms/step - loss: 0.4074 - accuracy: 0.8277 - val_loss: 0.2792 - val_accuracy: 0.8908\n",
      "Epoch 2/10\n",
      "625/625 [==============================] - 3s 5ms/step - loss: 0.2746 - accuracy: 0.8981 - val_loss: 0.2774 - val_accuracy: 0.8964\n",
      "Epoch 3/10\n",
      "625/625 [==============================] - 4s 6ms/step - loss: 0.2471 - accuracy: 0.9115 - val_loss: 0.2872 - val_accuracy: 0.8976\n",
      "Epoch 4/10\n",
      "625/625 [==============================] - 3s 5ms/step - loss: 0.2246 - accuracy: 0.9244 - val_loss: 0.3187 - val_accuracy: 0.8936\n",
      "Epoch 5/10\n",
      "625/625 [==============================] - 3s 6ms/step - loss: 0.2156 - accuracy: 0.9313 - val_loss: 0.3164 - val_accuracy: 0.8960\n",
      "Epoch 6/10\n",
      "625/625 [==============================] - 3s 6ms/step - loss: 0.2108 - accuracy: 0.9341 - val_loss: 0.3355 - val_accuracy: 0.8934\n",
      "Epoch 7/10\n",
      "625/625 [==============================] - 4s 6ms/step - loss: 0.2052 - accuracy: 0.9366 - val_loss: 0.3354 - val_accuracy: 0.8944\n",
      "Epoch 8/10\n",
      "625/625 [==============================] - 4s 6ms/step - loss: 0.2017 - accuracy: 0.9365 - val_loss: 0.3582 - val_accuracy: 0.8940\n",
      "Epoch 9/10\n",
      "625/625 [==============================] - 4s 6ms/step - loss: 0.2013 - accuracy: 0.9394 - val_loss: 0.3497 - val_accuracy: 0.8938\n",
      "Epoch 10/10\n",
      "625/625 [==============================] - 4s 6ms/step - loss: 0.2043 - accuracy: 0.9394 - val_loss: 0.3631 - val_accuracy: 0.8940\n",
      "782/782 [==============================] - 8s 10ms/step - loss: 0.2861 - accuracy: 0.8885\n",
      "Test acc: 0.888\n"
     ]
    }
   ],
   "source": [
    "callbacks = [\n",
    "    keras.callbacks.ModelCheckpoint(\"binary_1gram.keras\",\n",
    "                                    save_best_only=True)\n",
    "]\n",
    "\n",
    "model.fit(binary_1gram_train_ds.cache(),\n",
    "          validation_data=binary_1gram_val_ds.cache(),\n",
    "          epochs=10,\n",
    "          callbacks=callbacks)\n",
    "\n",
    "model = keras.models.load_model(\"binary_1gram.keras\")\n",
    "print(f\"Test acc: {model.evaluate(binary_1gram_test_ds)[1]:.3f}\")"
   ]
  },
  {
   "cell_type": "markdown",
   "id": "004a6e8c",
   "metadata": {
    "id": "fSR-OuWBZ8Ow"
   },
   "source": [
    "**방식 2: 바이그램 바이너리 인코딩**"
   ]
  },
  {
   "cell_type": "markdown",
   "id": "5b2d385d",
   "metadata": {
    "id": "z-6ZgkkZZ8Ox"
   },
   "source": [
    "바이그램(2-grams)을 유니그램 대신 이용해보자. \n",
    "예를 들어 \"the cat sat on the mat\" 문장을 바이그램으로 처리하면 다음 \n",
    "단어주머니가 생성된다.\n",
    "\n",
    "```\n",
    "{\"the\", \"the cat\", \"cat\", \"cat sat\", \"sat\",\n",
    " \"sat on\", \"on\", \"on the\", \"the mat\", \"mat\"}\n",
    "```\n",
    "\n",
    "`TextVectorization` 클래스의 `ngrams=N` 옵션을 이용하면\n",
    "N-그램들로 이루어진 어휘색인을 생성할 수 있다."
   ]
  },
  {
   "cell_type": "code",
   "execution_count": null,
   "id": "efb153dd",
   "metadata": {
    "id": "RI1QftoAZ8Ox"
   },
   "outputs": [],
   "source": [
    "text_vectorization = TextVectorization(\n",
    "    ngrams=2,\n",
    "    max_tokens=20000,\n",
    "    output_mode=\"multi_hot\",\n",
    ")"
   ]
  },
  {
   "cell_type": "markdown",
   "id": "36dbcc22",
   "metadata": {
    "id": "fGNSDESNZ8Ox"
   },
   "source": [
    "어휘색인 생성과 훈련셋, 검증셋, 테스트셋의 벡터화 과정은 동일하다. "
   ]
  },
  {
   "cell_type": "code",
   "execution_count": null,
   "id": "3354a77e",
   "metadata": {
    "id": "IwK6WQY4Z8Ox"
   },
   "outputs": [],
   "source": [
    "text_vectorization.adapt(text_only_train_ds)\n",
    "\n",
    "binary_2gram_train_ds = train_ds.map(lambda x, y: (text_vectorization(x), y))\n",
    "binary_2gram_val_ds = val_ds.map(lambda x, y: (text_vectorization(x), y))\n",
    "binary_2gram_test_ds = test_ds.map(lambda x, y: (text_vectorization(x), y))"
   ]
  },
  {
   "cell_type": "markdown",
   "id": "471e77d0",
   "metadata": {
    "id": "gmDQyWhEZ8Ox"
   },
   "source": [
    "훈련 후 테스트셋에 대한 정확도가 90%를 조금 웃돌 정도로 많이 향상되었다."
   ]
  },
  {
   "cell_type": "code",
   "execution_count": null,
   "id": "f9bb5bb8",
   "metadata": {
    "colab": {
     "base_uri": "https://localhost:8080/"
    },
    "id": "o6Flk8dIZ8Ox",
    "outputId": "c9d1a291-150a-4130-d616-268015a5354f"
   },
   "outputs": [
    {
     "name": "stdout",
     "output_type": "stream",
     "text": [
      "Epoch 1/10\n",
      "625/625 [==============================] - 12s 18ms/step - loss: 0.3857 - accuracy: 0.8347 - val_loss: 0.2791 - val_accuracy: 0.9000\n",
      "Epoch 2/10\n",
      "625/625 [==============================] - 4s 6ms/step - loss: 0.2592 - accuracy: 0.9082 - val_loss: 0.2947 - val_accuracy: 0.8988\n",
      "Epoch 3/10\n",
      "625/625 [==============================] - 4s 6ms/step - loss: 0.2277 - accuracy: 0.9241 - val_loss: 0.3060 - val_accuracy: 0.8978\n",
      "Epoch 4/10\n",
      "625/625 [==============================] - 4s 6ms/step - loss: 0.2074 - accuracy: 0.9333 - val_loss: 0.3417 - val_accuracy: 0.8994\n",
      "Epoch 5/10\n",
      "625/625 [==============================] - 4s 6ms/step - loss: 0.2070 - accuracy: 0.9365 - val_loss: 0.3538 - val_accuracy: 0.8968\n",
      "Epoch 6/10\n",
      "625/625 [==============================] - 4s 6ms/step - loss: 0.1997 - accuracy: 0.9395 - val_loss: 0.3908 - val_accuracy: 0.8946\n",
      "Epoch 7/10\n",
      "625/625 [==============================] - 4s 6ms/step - loss: 0.1940 - accuracy: 0.9421 - val_loss: 0.3715 - val_accuracy: 0.8940\n",
      "Epoch 8/10\n",
      "625/625 [==============================] - 4s 6ms/step - loss: 0.1902 - accuracy: 0.9427 - val_loss: 0.4054 - val_accuracy: 0.8930\n",
      "Epoch 9/10\n",
      "625/625 [==============================] - 4s 6ms/step - loss: 0.1952 - accuracy: 0.9432 - val_loss: 0.3848 - val_accuracy: 0.8880\n",
      "Epoch 10/10\n",
      "625/625 [==============================] - 4s 6ms/step - loss: 0.1949 - accuracy: 0.9441 - val_loss: 0.4011 - val_accuracy: 0.8912\n",
      "782/782 [==============================] - 9s 11ms/step - loss: 0.2788 - accuracy: 0.8953\n",
      "Test acc: 0.895\n"
     ]
    }
   ],
   "source": [
    "model = get_model()\n",
    "\n",
    "callbacks = [\n",
    "    keras.callbacks.ModelCheckpoint(\"binary_2gram.keras\",\n",
    "                                    save_best_only=True)\n",
    "]\n",
    "\n",
    "model.fit(binary_2gram_train_ds.cache(),\n",
    "          validation_data=binary_2gram_val_ds.cache(),\n",
    "          epochs=10,\n",
    "          callbacks=callbacks)\n",
    "\n",
    "model = keras.models.load_model(\"binary_2gram.keras\")\n",
    "print(f\"Test acc: {model.evaluate(binary_2gram_test_ds)[1]:.3f}\")"
   ]
  },
  {
   "cell_type": "markdown",
   "id": "6afa72c6",
   "metadata": {
    "id": "31J9DJI6Z8Ox"
   },
   "source": [
    "**방식 3: 바이그램 TF-IDF 인코딩**"
   ]
  },
  {
   "cell_type": "markdown",
   "id": "3f36dba5",
   "metadata": {
    "id": "UozpwugMZ8Ox"
   },
   "source": [
    "N-그램을 벡터화할 때 사용 빈도를 함께 저장하는 방식을 사용할 수 있다.\n",
    "단어의 사용 빈도가 아무래도 문장 평가에 중요한 역할을 수행할 것이기 때문이다.\n",
    "아래 코드에서처럼 `output_mode=\"count\"` 옵션을 사용하면 된다."
   ]
  },
  {
   "cell_type": "code",
   "execution_count": null,
   "id": "67b149a8",
   "metadata": {
    "id": "NjdliURqZ8Ox"
   },
   "outputs": [],
   "source": [
    "text_vectorization = TextVectorization(\n",
    "    ngrams=2,\n",
    "    max_tokens=20000,\n",
    "    output_mode=\"count\"\n",
    ")"
   ]
  },
  {
   "cell_type": "markdown",
   "id": "0012fbea",
   "metadata": {
    "id": "SRW9qHQwZ8Ox"
   },
   "source": [
    "그런데 이렇게 하면 \"the\", \"a\", \"is\", \"are\" 등의 사용 빈도는 매우 높은 반면에\n",
    "\"Chollet\" 등의 단어는 빈도가 거의 0에 가깝게 나온다.\n",
    "또한 생성된 벡터의 대부분은 0으로 채워질 것이다. \n",
    "`max_tokens=20000`을 사용한 반면에 하나의 문장엔 많아야 몇 십개 정도의 단어만 사용되었기 때문이다. \n",
    "\n",
    "```python\n",
    "inputs[0]: tf.Tensor([1. 1. 1. ... 0. 0. 0.], shape=(20000,), dtype=float32)\n",
    "```"
   ]
  },
  {
   "cell_type": "markdown",
   "id": "41b9ad73",
   "metadata": {
    "id": "y3CeRLImZ8Ox"
   },
   "source": [
    "이 점을 고려해서 사용 빈도를 정규화한다. \n",
    "평균을 원점으로 만들지는 않고 TF-IDF 값으로 나누기만 실행한다.\n",
    "이유는 평균을 옮기면 벡터의 대부분의 값이 0이 아니게 되어\n",
    "훈련에 보다 많은 계산이 요구되기 때문이다. \n",
    "\n",
    "**TF-IDF**의 의미는 다음과 같다.\n",
    "\n",
    "- `TF`(Term Frequency)\n",
    "    - 하나의 문장에서 사용되는 단어의 빈도\n",
    "    - 높을 수록 중요\n",
    "    - 예를 들어, 하나의 리뷰에 \"terrible\" 이 많이 사용되었다면\n",
    "        해당 리뷰는 부정일 가능성 높음.\n",
    "- `IDF`(Inverse Document Frequency)\n",
    "    - 데이터셋 전체 문장에서 사용된 단어의 빈도\n",
    "    - 낮을 수록 중요. \n",
    "    - \"the\", \"a\", \"is\" 등의 `IDF` 값은 높지만 별로 중요하지 않음.\n",
    "- `TF-IDF = TF / IDF`"
   ]
  },
  {
   "cell_type": "markdown",
   "id": "75a588c3",
   "metadata": {
    "id": "DRL6wVHKZ8Ox"
   },
   "source": [
    "`output_mode=\"tf_idf\"` 옵션을 사용하면 TF-IDF 인코딩을 지원한다."
   ]
  },
  {
   "cell_type": "code",
   "execution_count": null,
   "id": "3afeaa71",
   "metadata": {
    "id": "fo-6bcsmZ8Ox"
   },
   "outputs": [],
   "source": [
    "text_vectorization = TextVectorization(\n",
    "    ngrams=2,\n",
    "    max_tokens=20000,\n",
    "    output_mode=\"tf_idf\",\n",
    ")"
   ]
  },
  {
   "cell_type": "markdown",
   "id": "f741d50b",
   "metadata": {
    "id": "A5BGCzr0Z8Oy"
   },
   "source": [
    "훈련 후 테스트셋에 대한 정확도가 다시 89% 아래로 내려간다.\n",
    "여기서는 별 도움이 되지 않았지만 많은 텍스트 분류 모델에서는 1% 정도의 성능 향상을 가져온다.\n",
    "\n",
    "**주의사항**: 아래 코드는 현재(Tensorflow 2.6과 2.7) GPU를 사용하지 않는 경우에만 작동한다. \n",
    "이유는 아직 모른다([여기 참조](https://github.com/fchollet/deep-learning-with-python-notebooks/issues/190))."
   ]
  },
  {
   "cell_type": "code",
   "execution_count": null,
   "id": "fa09de4c",
   "metadata": {
    "colab": {
     "base_uri": "https://localhost:8080/"
    },
    "id": "Zgz5cvX9Z8Oy",
    "outputId": "5feb8d61-4efd-4c97-af2a-bda88966fad2"
   },
   "outputs": [
    {
     "name": "stdout",
     "output_type": "stream",
     "text": [
      "Model: \"model_2\"\n",
      "_________________________________________________________________\n",
      " Layer (type)                Output Shape              Param #   \n",
      "=================================================================\n",
      " input_3 (InputLayer)        [(None, 20000)]           0         \n",
      "                                                                 \n",
      " dense_4 (Dense)             (None, 16)                320016    \n",
      "                                                                 \n",
      " dropout_2 (Dropout)         (None, 16)                0         \n",
      "                                                                 \n",
      " dense_5 (Dense)             (None, 1)                 17        \n",
      "                                                                 \n",
      "=================================================================\n",
      "Total params: 320,033\n",
      "Trainable params: 320,033\n",
      "Non-trainable params: 0\n",
      "_________________________________________________________________\n",
      "Epoch 1/10\n",
      "625/625 [==============================] - 11s 17ms/step - loss: 0.5232 - accuracy: 0.7588 - val_loss: 0.3197 - val_accuracy: 0.8806\n",
      "Epoch 2/10\n",
      "625/625 [==============================] - 4s 6ms/step - loss: 0.3534 - accuracy: 0.8442 - val_loss: 0.2946 - val_accuracy: 0.8954\n",
      "Epoch 3/10\n",
      "625/625 [==============================] - 4s 6ms/step - loss: 0.3231 - accuracy: 0.8609 - val_loss: 0.3086 - val_accuracy: 0.8864\n",
      "Epoch 4/10\n",
      "625/625 [==============================] - 4s 6ms/step - loss: 0.3053 - accuracy: 0.8734 - val_loss: 0.3087 - val_accuracy: 0.8814\n",
      "Epoch 5/10\n",
      "625/625 [==============================] - 4s 6ms/step - loss: 0.2781 - accuracy: 0.8845 - val_loss: 0.3225 - val_accuracy: 0.8878\n",
      "Epoch 6/10\n",
      "625/625 [==============================] - 4s 6ms/step - loss: 0.2703 - accuracy: 0.8870 - val_loss: 0.3472 - val_accuracy: 0.8702\n",
      "Epoch 7/10\n",
      "625/625 [==============================] - 4s 6ms/step - loss: 0.2695 - accuracy: 0.8883 - val_loss: 0.3357 - val_accuracy: 0.8682\n",
      "Epoch 8/10\n",
      "625/625 [==============================] - 4s 6ms/step - loss: 0.2650 - accuracy: 0.8931 - val_loss: 0.3343 - val_accuracy: 0.8664\n",
      "Epoch 9/10\n",
      "625/625 [==============================] - 4s 6ms/step - loss: 0.2606 - accuracy: 0.8901 - val_loss: 0.3546 - val_accuracy: 0.8580\n",
      "Epoch 10/10\n",
      "625/625 [==============================] - 4s 6ms/step - loss: 0.2575 - accuracy: 0.8924 - val_loss: 0.3318 - val_accuracy: 0.8760\n",
      "782/782 [==============================] - 8s 10ms/step - loss: 0.2998 - accuracy: 0.8927\n",
      "Test acc: 0.893\n"
     ]
    }
   ],
   "source": [
    "text_vectorization.adapt(text_only_train_ds)\n",
    "\n",
    "tfidf_2gram_train_ds = train_ds.map(lambda x, y: (text_vectorization(x), y))\n",
    "tfidf_2gram_val_ds = val_ds.map(lambda x, y: (text_vectorization(x), y))\n",
    "tfidf_2gram_test_ds = test_ds.map(lambda x, y: (text_vectorization(x), y))\n",
    "\n",
    "model = get_model()\n",
    "model.summary()\n",
    "callbacks = [\n",
    "    keras.callbacks.ModelCheckpoint(\"tfidf_2gram.keras\",\n",
    "                                    save_best_only=True)\n",
    "]\n",
    "model.fit(tfidf_2gram_train_ds.cache(),\n",
    "          validation_data=tfidf_2gram_val_ds.cache(),\n",
    "          epochs=10,\n",
    "          callbacks=callbacks)\n",
    "\n",
    "model = keras.models.load_model(\"tfidf_2gram.keras\")\n",
    "print(f\"Test acc: {model.evaluate(tfidf_2gram_test_ds)[1]:.3f}\")"
   ]
  },
  {
   "cell_type": "markdown",
   "id": "40d95804",
   "metadata": {
    "id": "i0qpJU1kZ8Oy"
   },
   "source": [
    "**부록: 문자열 벡터화 전처리를 함께 처리하는 모델 내보내기**"
   ]
  },
  {
   "cell_type": "markdown",
   "id": "5d52db8b",
   "metadata": {
    "id": "QTGUYv3WZ8Oy"
   },
   "source": [
    "훈련된 모델을 실전에 배치하려면 텍스트 벡터화도 모델과 함께 내보내야 한다.\n",
    "이를 위해 `TextVectorization` 층의 결과를 재활용만 하면 된다."
   ]
  },
  {
   "cell_type": "code",
   "execution_count": null,
   "id": "4894cbfa",
   "metadata": {
    "id": "GKVJPepUZ8Oy"
   },
   "outputs": [],
   "source": [
    "inputs = keras.Input(shape=(1,), dtype=\"string\")\n",
    "# 텍스트 벡터화 추가\n",
    "processed_inputs = text_vectorization(inputs)\n",
    "# 훈련된 모델에 적용\n",
    "outputs = model(processed_inputs)\n",
    "\n",
    "# 최종 모델\n",
    "inference_model = keras.Model(inputs, outputs)"
   ]
  },
  {
   "cell_type": "markdown",
   "id": "9d33c505",
   "metadata": {
    "id": "eIw88cllZ8Oy"
   },
   "source": [
    "`inference_model`은 일반 텍스트 문장을 직접 인자로 받을 수 있다.\n",
    "예를 들어 \"That was an excellent movie, I loved it.\"라는 리뷰는\n",
    "긍정일 확률이 매우 높다고 예측된다."
   ]
  },
  {
   "cell_type": "code",
   "execution_count": null,
   "id": "d0263b36",
   "metadata": {
    "colab": {
     "base_uri": "https://localhost:8080/"
    },
    "id": "32njxCoxZ8Oy",
    "outputId": "5ca607d5-330a-41ef-9fa9-85670da3ae22"
   },
   "outputs": [
    {
     "name": "stdout",
     "output_type": "stream",
     "text": [
      "92.10 percent positive\n"
     ]
    }
   ],
   "source": [
    "import tensorflow as tf\n",
    "\n",
    "raw_text_data = tf.convert_to_tensor([\n",
    "    [\"That was an excellent movie, I loved it.\"],\n",
    "])\n",
    "\n",
    "predictions = inference_model(raw_text_data)\n",
    "print(f\"{float(predictions[0] * 100):.2f} percent positive\")"
   ]
  },
  {
   "cell_type": "markdown",
   "id": "645eeceb",
   "metadata": {
    "colab_type": "text"
   },
   "source": [
    "### 시퀀스 모델 기법"
   ]
  },
  {
   "cell_type": "markdown",
   "id": "ca4f06c9",
   "metadata": {},
   "source": [
    "앞서 살펴본 대로 바이그램(bigrams) 등을 이용하여 단어들 사이의 순서 정보를 함께 활용하면 기본적으로 훈련된 모델의 성능이 향상된다.\n",
    "하지만 N-그램 등은 일종의 수동으로 진행하는 일종의 특성공학(feature engineering)이며,\n",
    "딥러닝은 그런 특성공학을 가능하면 진행하지 않는 방향으로 발전해왔다.\n",
    "여기서는 단언들의 순서를 그대로 함께 전달만 하고 나머지 특성은 모델 스스로 찾아내도록 하는 시퀀스 모델의 활용법을 살펴본다. "
   ]
  },
  {
   "cell_type": "markdown",
   "id": "b4c4bde9",
   "metadata": {
    "colab_type": "text"
   },
   "source": [
    "**IMDB 데이터셋 다운로드 및 준비**\n",
    "\n",
    "[1부](https://codingalzi.github.io/dlp/notebooks/dlp11_part01_introduction.html)와 동일하다."
   ]
  },
  {
   "cell_type": "markdown",
   "id": "8194986c",
   "metadata": {
    "colab_type": "code"
   },
   "source": [
    "!curl -O https://ai.stanford.edu/~amaas/data/sentiment/aclImdb_v1.tar.gz\n",
    "!tar -xf aclImdb_v1.tar.gz\n",
    "\n",
    "if 'google.colab' in str(get_ipython()):\n",
    "    !rm -r aclImdb/train/unsup\n",
    "else: \n",
    "    import shutil\n",
    "    unsup_path = './aclImdb/train/unsup'\n",
    "    shutil.rmtree(unsup_path)"
   ]
  },
  {
   "cell_type": "markdown",
   "id": "5e4a49ea",
   "metadata": {
    "colab_type": "code"
   },
   "source": [
    "import os, pathlib, shutil, random\n",
    "from tensorflow import keras\n",
    "\n",
    "batch_size = 32\n",
    "base_dir = pathlib.Path(\"aclImdb\")\n",
    "val_dir = base_dir / \"val\"\n",
    "train_dir = base_dir / \"train\"\n",
    "\n",
    "for category in (\"neg\", \"pos\"):\n",
    "    os.makedirs(val_dir / category)\n",
    "    files = os.listdir(train_dir / category)\n",
    "    random.Random(1337).shuffle(files)\n",
    "    num_val_samples = int(0.2 * len(files))\n",
    "    val_files = files[-num_val_samples:]\n",
    "    for fname in val_files:\n",
    "        shutil.move(train_dir / category / fname,\n",
    "                    val_dir / category / fname)\n",
    "\n",
    "train_ds = keras.utils.text_dataset_from_directory(\n",
    "    \"aclImdb/train\", batch_size=batch_size\n",
    "    )\n",
    "val_ds = keras.utils.text_dataset_from_directory(\n",
    "    \"aclImdb/val\", batch_size=batch_size\n",
    "    )\n",
    "test_ds = keras.utils.text_dataset_from_directory(\n",
    "    \"aclImdb/test\", batch_size=batch_size\n",
    "    )\n",
    "text_only_train_ds = train_ds.map(lambda x, y: x)"
   ]
  },
  {
   "cell_type": "markdown",
   "id": "3c30acbc",
   "metadata": {
    "colab_type": "text"
   },
   "source": [
    "**정수 시퀀스 데이터셋 준비**"
   ]
  },
  {
   "cell_type": "markdown",
   "id": "1a0434f5",
   "metadata": {},
   "source": [
    "훈련셋의 모든 리뷰 문장을 정수들의 벡터로 변환한다.\n",
    "단, 리뷰 문장이 최대 600개의 단어만 포함하도록 한다. \n",
    "또한 사용되는 어휘는 빈도 기준 최대 2만개로 제한한다. \n",
    "\n",
    "- `max_length = 600`\n",
    "- `max_tokens = 20000`\n",
    "- `output_sequence_length=max_length`"
   ]
  },
  {
   "cell_type": "markdown",
   "id": "a66867f3",
   "metadata": {
    "colab_type": "code"
   },
   "source": [
    "from tensorflow.keras import layers\n",
    "\n",
    "max_length = 600\n",
    "max_tokens = 20000\n",
    "\n",
    "text_vectorization = layers.TextVectorization(\n",
    "    max_tokens=max_tokens,\n",
    "    output_mode=\"int\",\n",
    "    output_sequence_length=max_length,\n",
    ")\n",
    "\n",
    "text_vectorization.adapt(text_only_train_ds)\n",
    "\n",
    "int_train_ds = train_ds.map(lambda x, y: (text_vectorization(x), y))\n",
    "int_val_ds = val_ds.map(lambda x, y: (text_vectorization(x), y))\n",
    "int_test_ds = test_ds.map(lambda x, y: (text_vectorization(x), y))"
   ]
  },
  {
   "cell_type": "markdown",
   "id": "7e614fa5",
   "metadata": {},
   "source": [
    "변환된 첫째 배치의 입력과 타깃 데이터의 정보는 다음과 같다.\n",
    "`output_sequence_length=600`으로 지정하였기에 모든 문장은 단어를 최대 600개에서\n",
    "잘린다. 따라서 생성되는 정수들의 벡터는 길이가 모두 600으로 지정된다.\n",
    "물론 문장이 600개보다 적은 수의 단어를 사용한다면 나머지는 0으로 채워진다. \n",
    "또한 벡터에 사용된 정수는 2만보다 작은 값이며, \n",
    "이는 빈도가 가장 높은 2만개의 단어만을 대상(`max_tokens=20000`)으로 했기 때문이다.\n",
    "\n",
    "리뷰 문장의 길이를 600개의 단어로 제한한 이유는 리뷰가 평균적으로 233개의 단어를 사용하기 때문이다.\n",
    "그리고 600 단어 이상을 사용하는 리뷰는 전체의 5% 정도에 불과하다."
   ]
  },
  {
   "cell_type": "code",
   "execution_count": null,
   "id": "f0a3af6b",
   "metadata": {},
   "outputs": [],
   "source": [
    "for inputs, targets in int_train_ds:\n",
    "    print(\"inputs.shape:\", inputs.shape)\n",
    "    print(\"inputs.dtype:\", inputs.dtype)\n",
    "    print(\"targets.shape:\", targets.shape)\n",
    "    print(\"targets.dtype:\", targets.dtype)\n",
    "    print(\"inputs[0]:\", inputs[0])\n",
    "    print(\"targets[0]:\", targets[0])\n",
    "    break"
   ]
  },
  {
   "cell_type": "markdown",
   "id": "113b1697",
   "metadata": {},
   "source": [
    "**벡터 원-핫 인코딩**"
   ]
  },
  {
   "cell_type": "markdown",
   "id": "7e4c5e97",
   "metadata": {},
   "source": [
    "아래에서 소개하는 시퀀스 모델은 정수들의 벡터를 원-핫 인코딩된 벡터들의 시퀀스로 변환해서 사용한다.\n",
    "예를 들어 `[2, 1, 4, 0, 0]` 벡터를 원-핫 인코딩하면 아래 결과를 얻는다.\n",
    "단, 벡터에 사용된 정수는 0에서 4까지라고 가정한다. \n",
    "\n",
    "```python\n",
    "[[0, 0, 1, 0, 0],\n",
    " [0, 1, 0, 0, 0],\n",
    " [0, 0, 0, 0, 1],\n",
    " [1, 0, 0, 0, 0],\n",
    " [1, 0, 0, 0, 0]]\n",
    "```\n",
    "\n",
    "`tf.one_hot()` 함수가 원-핫 인코딩을 실행한다. \n",
    "에를 들어 위 결과는 아래 방식으로 얻어진다.\n",
    "\n",
    "```python\n",
    "tf.one_hot(indices=[2, 1, 4, 0, 0], depth=5)\n",
    "```"
   ]
  },
  {
   "cell_type": "markdown",
   "id": "8dcb9e08",
   "metadata": {
    "colab_type": "text"
   },
   "source": [
    "**시퀀스 모델 예제 1**\n",
    "\n",
    "- 원-핫 인코딩 활용: 입력값을 바로 원-핫 인코딩함.\n",
    "- 양방향 LSTM 모델 활용\n",
    "    - 1차원 합성곱 신경망도 경우에 따라 유사한 성능을 발휘하지만 거의 사용되지 않음."
   ]
  },
  {
   "cell_type": "code",
   "execution_count": null,
   "id": "dd48db39",
   "metadata": {
    "colab_type": "code"
   },
   "outputs": [],
   "source": [
    "import tensorflow as tf\n",
    "\n",
    "inputs = keras.Input(shape=(None,), dtype=\"int64\")\n",
    "\n",
    "# 원-핫 인코딩\n",
    "embedded = tf.one_hot(inputs, depth=max_tokens)  # (600, 20000) 모양의 출력값 생성\n",
    "\n",
    "x = layers.Bidirectional(layers.LSTM(32))(embedded)\n",
    "x = layers.Dropout(0.5)(x)\n",
    "\n",
    "outputs = layers.Dense(1, activation=\"sigmoid\")(x)\n",
    "\n",
    "model = keras.Model(inputs, outputs)\n",
    "\n",
    "model.compile(optimizer=\"rmsprop\",\n",
    "              loss=\"binary_crossentropy\",\n",
    "              metrics=[\"accuracy\"])\n",
    "\n",
    "model.summary()"
   ]
  },
  {
   "cell_type": "markdown",
   "id": "23bb4912",
   "metadata": {
    "colab_type": "text"
   },
   "source": [
    "**모델 훈련**"
   ]
  },
  {
   "cell_type": "markdown",
   "id": "17e07ee7",
   "metadata": {},
   "source": [
    "모델 훈련이 매우 느리다. \n",
    "이유는 입력 데이터가 너무 많은 특성을 갖기 때문이다. \n",
    "입력 데이터 하나의 모양과 특성 수는 다음과 같다.\n",
    "\n",
    "- 모양: `(600, 20000)`\n",
    "- 특성 수: `600 * 20,000 = 12,000,000`\n",
    "\n",
    "양방향 LSTM은 엄청난 양의 반복을 실행하기에 당연히 훈련 시간이 길어진다.\n",
    "게다가 훈련된 모델의 성능이 별로 좋지 않다.\n",
    "테스테셋에 대한 정확도가 87% 정도에 불과해서\n",
    "바이그램 모델보다 성능이 낮다."
   ]
  },
  {
   "cell_type": "markdown",
   "id": "d9f37f78",
   "metadata": {},
   "source": [
    "**주의사항**: 모델 훈련과정을 한 번 보기만 하려면 `epochs=1`로 설정하는 것을 권장한다.\n",
    "책에서는 원래 `epochs=10`을 사용하였는데 컴퓨터 성능에 따라 몇 시간이 소요될 수 있다."
   ]
  },
  {
   "cell_type": "code",
   "execution_count": null,
   "id": "87211fbf",
   "metadata": {
    "colab_type": "code"
   },
   "outputs": [],
   "source": [
    "callbacks = [\n",
    "    keras.callbacks.ModelCheckpoint(\"one_hot_bidir_lstm.keras\",\n",
    "                                    save_best_only=True)\n",
    "]\n",
    "\n",
    "model.fit(int_train_ds, validation_data=int_val_ds, epochs=1, callbacks=callbacks)\n",
    "\n",
    "model = keras.models.load_model(\"one_hot_bidir_lstm.keras\")\n",
    "\n",
    "print(f\"Test acc: {model.evaluate(int_test_ds)[1]:.3f}\")"
   ]
  },
  {
   "cell_type": "markdown",
   "id": "1fd1c890",
   "metadata": {
    "colab_type": "text"
   },
   "source": [
    "**시퀀스 모델 예제 2: 단어 임베딩 활용**"
   ]
  },
  {
   "cell_type": "markdown",
   "id": "231495ad",
   "metadata": {},
   "source": [
    "앞서 보았듯이 원-핫 인코딩은 별로 적절하지 않다. \n",
    "원-핫 인코딩은 단어들의 순서는 잘 반영하지만 단어들 사이의 관계는 전혀 반형하지 못한다.\n",
    "\n",
    "- \"movie\"와 \"film\", \"비디오\"와 \"동영상\", \"강아지\"와 \"개\" 등이 사실상 동일하다는 사실\n",
    "- \"왕\"(남자)과 \"여왕\"(여자), \"boy\"와 \"girl\" 등의 성별 관계\n",
    "- \"king\"의 복수는 \"kings\" 등 문법 관계\n",
    "- \"고양이\"와 \"호랑이\"는 고양이과, \"개\"와 \"늑대\"는 개과, \"고양이\"와 \"개\"는 애완동물, \"늑대\"와 \"호랑이\"는 야생동물 등의 관계"
   ]
  },
  {
   "cell_type": "markdown",
   "id": "2e071e0a",
   "metadata": {},
   "source": [
    "<div align=\"center\"><img src=\"https://drek4537l1klr.cloudfront.net/chollet2/Figures/11-03.png\" style=\"width:20%;\"></div>\n",
    "\n",
    "그림 출처: [Deep Learning with Python(Manning MEAP)](https://www.manning.com/books/deep-learning-with-python-second-edition)"
   ]
  },
  {
   "cell_type": "markdown",
   "id": "698277b1",
   "metadata": {},
   "source": [
    "반면에 **단어 임베딩**(word embedding)은 단어들 사이의 관계를 모델 스스로 학습과정에서 찾도록 유도한다.\n",
    "단어 임베딩을 활용하는 방법은 일반적으로 다음 두 가지이다.\n",
    "\n",
    "- 모델 훈련과 동시에 단어 임베딩 학습도 진행하는 방식\n",
    "    - 자연어 종류와 모델 훈련 목적에 따라 기본적으로 서로 다른 단어 사이의 관계가 학습되어야 함.\n",
    "    - 예를 들어, 영화 리뷰 분석과 재판 판결문을 분석할 때 사용되는 단어 임베딩은 많이 다름.\n",
    "- 기존에 잘 훈련된 워드 임베딩 활용 방식"
   ]
  },
  {
   "cell_type": "markdown",
   "id": "3bbbb439",
   "metadata": {
    "colab_type": "text"
   },
   "source": [
    "**케라스의 `Embedding` 층 활용**"
   ]
  },
  {
   "cell_type": "markdown",
   "id": "6e48a502",
   "metadata": {},
   "source": [
    "케라스의 `Embedding` 층은 일종의 사전처럼 작동한다. \n",
    "하나의 문장에 해당하는 정수들의 벡터가 입력값으로 들어오면 단어들간에 존재하는 연관성을 (어떤식으로라도) 담은 \n",
    "부동소수점들의 벡터로 이루어진 시퀀스를 반환한다.\n",
    "아래 그림은 원-핫 인코딩 방식과 단어 임베딩 방식의 차이점을 보여준다. \n",
    "\n",
    "- 원-핫 인코딩: 특성 수가 너무 많음\n",
    "- 단어 임베딩: 단어들 사이의 연관성을 256개, 512개, 1024개 정도 수준에서 찾음."
   ]
  },
  {
   "cell_type": "markdown",
   "id": "90dd177d",
   "metadata": {},
   "source": [
    "<div align=\"center\"><img src=\"https://drek4537l1klr.cloudfront.net/chollet2/Figures/11-02.png\" style=\"width:45%;\"></div>\n",
    "\n",
    "그림 출처: [Deep Learning with Python(Manning MEAP)](https://www.manning.com/books/deep-learning-with-python-second-edition)"
   ]
  },
  {
   "cell_type": "markdown",
   "id": "15370d10",
   "metadata": {},
   "source": [
    "예를 들어, 600 단어로 이루어진 문장을 단어 임베딩할 때 무엇인지 모르지만 단어들 사이의 연관성을 256개 찾으라 하면\n",
    "`(600, 256)` 모양의 텐서(단어 벡터)를 생성한다. \n",
    "즉, 600개의 단어 각각이 총 2만개의 어휘 색인에 포함된 단어들과의 연관성을 256개 찾는다.\n",
    "\n",
    "방금 설명한 것을 아래 코드가 실행한다. \n",
    "\n",
    "```python\n",
    "layers.Embedding(input_dim=20000, output_dim=256)\n",
    "```\n",
    "\n",
    "아래 코드는 단어 임베딩을 모델 구성에 직접 활용하는 것을 보여준다.\n",
    "여전히 양방향 LSTM 층을 사용한다."
   ]
  },
  {
   "cell_type": "code",
   "execution_count": null,
   "id": "c491c2db",
   "metadata": {
    "colab_type": "code"
   },
   "outputs": [],
   "source": [
    "inputs = keras.Input(shape=(None,), dtype=\"int64\")\n",
    "\n",
    "# 단어 임베딩\n",
    "embedded = layers.Embedding(input_dim=max_tokens, output_dim=256)(inputs)\n",
    "\n",
    "x = layers.Bidirectional(layers.LSTM(32))(embedded)\n",
    "x = layers.Dropout(0.5)(x)\n",
    "\n",
    "outputs = layers.Dense(1, activation=\"sigmoid\")(x)\n",
    "\n",
    "model = keras.Model(inputs, outputs)\n",
    "\n",
    "model.compile(optimizer=\"rmsprop\",\n",
    "              loss=\"binary_crossentropy\",\n",
    "              metrics=[\"accuracy\"])\n",
    "\n",
    "model.summary()\n",
    "\n",
    "callbacks = [\n",
    "    keras.callbacks.ModelCheckpoint(\"embeddings_bidir_gru.keras\",\n",
    "                                    save_best_only=True)\n",
    "]\n",
    "\n",
    "model.fit(int_train_ds, validation_data=int_val_ds, epochs=10, callbacks=callbacks)\n",
    "\n",
    "model = keras.models.load_model(\"embeddings_bidir_gru.keras\")\n",
    "\n",
    "print(f\"Test acc: {model.evaluate(int_test_ds)[1]:.3f}\")"
   ]
  },
  {
   "cell_type": "markdown",
   "id": "8bde319e",
   "metadata": {
    "colab_type": "text"
   },
   "source": [
    "훈련은 원-핫 인코딩 방식보다 훨씬 빠르게 이루어지며 성능은 87% 정도로 비슷하다. \n",
    "바이그램 모델보다 성능이 여전히 떨어지는 이유 중에 하나는 리뷰에 사용된 단어의 수를 600개로 제한하였기 때문이다. "
   ]
  },
  {
   "cell_type": "markdown",
   "id": "726d5676",
   "metadata": {
    "colab_type": "text"
   },
   "source": [
    "**패딩(padding)과 마스킹(masking)**"
   ]
  },
  {
   "cell_type": "markdown",
   "id": "527b6807",
   "metadata": {},
   "source": [
    "반면에 리뷰 문장의 길이가 600이 되지 않는 경우 나머지는 **패딩**(padding)에 의해 0으로 채워진다.\n",
    "하지만 이렇게 의미 없이 추가된 0이 훈련에 좋지 않은 영향을 미친다.\n",
    "따라서 모델이 패딩을 위해 차가된 0이 있다는 사실을 인식하도록 도와주는 **마스킹**(masking)\n",
    "기능을 활용하면 좋다.\n",
    "\n",
    "아래 코드는 마스킹을 활용하는 방식을 보여준다.\n",
    "\n",
    "- `mask_zero=True` 옵션: 마스킹 옵션 켜기"
   ]
  },
  {
   "cell_type": "code",
   "execution_count": null,
   "id": "4893dbd4",
   "metadata": {
    "colab_type": "code"
   },
   "outputs": [],
   "source": [
    "inputs = keras.Input(shape=(None,), dtype=\"int64\")\n",
    "\n",
    "# 마스킹 활용 단어 임베딩\n",
    "embedded = layers.Embedding(\n",
    "    input_dim=max_tokens, output_dim=256, mask_zero=True)(inputs)\n",
    "\n",
    "x = layers.Bidirectional(layers.LSTM(32))(embedded)\n",
    "x = layers.Dropout(0.5)(x)\n",
    "\n",
    "outputs = layers.Dense(1, activation=\"sigmoid\")(x)\n",
    "\n",
    "model = keras.Model(inputs, outputs)\n",
    "\n",
    "model.compile(optimizer=\"rmsprop\",\n",
    "              loss=\"binary_crossentropy\",\n",
    "              metrics=[\"accuracy\"])\n",
    "\n",
    "model.summary()\n",
    "\n",
    "callbacks = [\n",
    "    keras.callbacks.ModelCheckpoint(\"embeddings_bidir_gru_with_masking.keras\",\n",
    "                                    save_best_only=True)\n",
    "]\n",
    "\n",
    "model.fit(int_train_ds, validation_data=int_val_ds, epochs=10, callbacks=callbacks)\n",
    "\n",
    "model = keras.models.load_model(\"embeddings_bidir_gru_with_masking.keras\")\n",
    "\n",
    "print(f\"Test acc: {model.evaluate(int_test_ds)[1]:.3f}\")"
   ]
  },
  {
   "cell_type": "markdown",
   "id": "ca063c42",
   "metadata": {},
   "source": [
    "모델 성능이 88% 정도로 살짝 향상된다."
   ]
  },
  {
   "cell_type": "markdown",
   "id": "17b49ddc",
   "metadata": {
    "colab_type": "text"
   },
   "source": [
    "**훈련된 단어 임베딩 활용**"
   ]
  },
  {
   "cell_type": "markdown",
   "id": "4f5e3dd2",
   "metadata": {},
   "source": [
    "합성곱 신경망에서 이미지넷 등의 대용량 데이터셋을 활용하여 잘 훈련된 모델을 재활용하였던 것처럼\n",
    "잘 구성된 대용량의 어휘 색인을 활용할 수 있다.\n",
    "여기서는 수 백만 개의 단어를 활용하여 생성된 2014년에 스탠포드 대학교의 연구자들이 생성한\n",
    "[GloVe(Gloval Vectors for Word Representation)](https://nlp.stanford.edu/projects/glove/) 단어 임베딩을 활용한다."
   ]
  },
  {
   "cell_type": "markdown",
   "id": "2a936bf5",
   "metadata": {
    "colab_type": "text"
   },
   "source": [
    "- GloVe 단어 임베딩 다운로드"
   ]
  },
  {
   "cell_type": "markdown",
   "id": "c9042d06",
   "metadata": {
    "colab_type": "code"
   },
   "source": [
    "if 'google.colab' in str(get_ipython()):\n",
    "    !wget http://nlp.stanford.edu/data/glove.6B.zip\n",
    "    !unzip -q glove.6B.zip\n",
    "else: \n",
    "    try: \n",
    "        import wget, zipfile\n",
    "    except ModuleNotFoundError: \n",
    "        !pip install wget\n",
    "        \n",
    "    import wget, zipfile\n",
    "    wget.download('http://nlp.stanford.edu/data/glove.6B.zip')\n",
    "    with zipfile.ZipFile('glove.6B.zip', 'r') as zip_ref:\n",
    "        zip_ref.extractall('./')"
   ]
  },
  {
   "cell_type": "markdown",
   "id": "e3dce2cf",
   "metadata": {
    "colab_type": "text"
   },
   "source": [
    "- GloVe 워드 임베딩 파일 파싱"
   ]
  },
  {
   "cell_type": "markdown",
   "id": "742c5559",
   "metadata": {
    "colab_type": "code"
   },
   "source": [
    "import numpy as np\n",
    "path_to_glove_file = \"glove.6B.100d.txt\"\n",
    "\n",
    "embeddings_index = {}\n",
    "\n",
    "with open(path_to_glove_file) as f:\n",
    "    for line in f:\n",
    "        word, coefs = line.split(maxsplit=1)\n",
    "        coefs = np.fromstring(coefs, \"f\", sep=\" \")\n",
    "        embeddings_index[word] = coefs\n",
    "\n",
    "print(f\"Found {len(embeddings_index)} word vectors.\")"
   ]
  },
  {
   "cell_type": "markdown",
   "id": "60c09cd4",
   "metadata": {
    "colab_type": "text"
   },
   "source": [
    "- GloVe 단어 임베딩 행렬 준비"
   ]
  },
  {
   "cell_type": "markdown",
   "id": "683edf03",
   "metadata": {
    "colab_type": "code"
   },
   "source": [
    "embedding_dim = 100\n",
    "\n",
    "vocabulary = text_vectorization.get_vocabulary()\n",
    "word_index = dict(zip(vocabulary, range(len(vocabulary))))\n",
    "\n",
    "embedding_matrix = np.zeros((max_tokens, embedding_dim))\n",
    "for word, i in word_index.items():\n",
    "    if i < max_tokens:\n",
    "        embedding_vector = embeddings_index.get(word)\n",
    "    if embedding_vector is not None:\n",
    "        embedding_matrix[i] = embedding_vector"
   ]
  },
  {
   "cell_type": "markdown",
   "id": "d7b663ae",
   "metadata": {},
   "source": [
    "- 임베딩 층 준비"
   ]
  },
  {
   "cell_type": "markdown",
   "id": "370e8662",
   "metadata": {
    "colab_type": "code"
   },
   "source": [
    "embedding_layer = layers.Embedding(\n",
    "    max_tokens,\n",
    "    embedding_dim,\n",
    "    embeddings_initializer=keras.initializers.Constant(embedding_matrix),\n",
    "    trainable=False,\n",
    "    mask_zero=True,\n",
    ")"
   ]
  },
  {
   "cell_type": "markdown",
   "id": "3d59542e",
   "metadata": {},
   "source": [
    "- GloVe 임베딩 활용 모델 구성 및 훈련"
   ]
  },
  {
   "cell_type": "markdown",
   "id": "0cc791a5",
   "metadata": {
    "colab_type": "code"
   },
   "source": [
    "```python\n",
    "inputs = keras.Input(shape=(None,), dtype=\"int64\")\n",
    "\n",
    "# GloVe 단어 임베딩 활용\n",
    "embedded = embedding_layer(inputs)\n",
    "\n",
    "x = layers.Bidirectional(layers.LSTM(32))(embedded)\n",
    "x = layers.Dropout(0.5)(x)\n",
    "\n",
    "outputs = layers.Dense(1, activation=\"sigmoid\")(x)\n",
    "\n",
    "model = keras.Model(inputs, outputs)\n",
    "\n",
    "model.compile(optimizer=\"rmsprop\",\n",
    "              loss=\"binary_crossentropy\",\n",
    "              metrics=[\"accuracy\"])\n",
    "\n",
    "model.summary()\n",
    "\n",
    "callbacks = [\n",
    "    keras.callbacks.ModelCheckpoint(\"glove_embeddings_sequence_model.keras\",\n",
    "                                    save_best_only=True)\n",
    "]\n",
    "\n",
    "model.fit(int_train_ds, validation_data=int_val_ds, epochs=10, callbacks=callbacks)\n",
    "\n",
    "model = keras.models.load_model(\"glove_embeddings_sequence_model.keras\")\n",
    "\n",
    "print(f\"Test acc: {model.evaluate(int_test_ds)[1]:.3f}\")\n",
    "```"
   ]
  }
 ],
 "metadata": {
  "kernelspec": {
   "display_name": "Python 3.9.13 ('homl3')",
   "language": "python",
   "name": "python3"
  },
  "language_info": {
   "codemirror_mode": {
    "name": "ipython",
    "version": 3
   },
   "file_extension": ".py",
   "mimetype": "text/x-python",
   "name": "python",
   "nbconvert_exporter": "python",
   "pygments_lexer": "ipython3",
   "version": "3.9.13"
  },
  "vscode": {
   "interpreter": {
    "hash": "33b995ba57ec8806df76ad412cbfca6e91844af7e84c0aab5f00a2382a2b11c8"
   }
  }
 },
 "nbformat": 4,
 "nbformat_minor": 5
}
