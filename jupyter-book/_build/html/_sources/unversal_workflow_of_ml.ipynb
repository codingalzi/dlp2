{
 "cells": [
  {
   "cell_type": "markdown",
   "id": "106f2f5f",
   "metadata": {},
   "source": [
    "(ch:unversal_workflow_of_ml)=\n",
    "# 머신러닝 작업 흐름 일반"
   ]
  },
  {
   "cell_type": "markdown",
   "id": "a571054b",
   "metadata": {},
   "source": [
    "**감사의 글**\n",
    "\n",
    "아래 내용은 프랑소와 숄레의 \n",
    "[Deep Learning with Python(2판)](https://github.com/fchollet/deep-learning-with-python-notebooks)의 \n",
    "소스코드 내용을 참고해서 작성되었습니다.\n",
    "자료를 공개한 저자에게 진심어린 감사를 전합니다."
   ]
  },
  {
   "cell_type": "markdown",
   "id": "434331fd",
   "metadata": {},
   "source": [
    "**소스코드**\n",
    "\n",
    "없음."
   ]
  },
  {
   "cell_type": "markdown",
   "id": "1c3b9a12",
   "metadata": {
    "slideshow": {
     "slide_type": "slide"
    }
   },
   "source": [
    "**주요 내용**"
   ]
  },
  {
   "cell_type": "markdown",
   "id": "6be313eb",
   "metadata": {},
   "source": [
    "다양한 종류의 머신러닝 과제를 실전에서 해결해야 할 수 있다.\n",
    "\n",
    "- 사진 검색 엔진\n",
    "- ..."
   ]
  },
  {
   "cell_type": "markdown",
   "id": "dd4aa9fd",
   "metadata": {},
   "source": [
    ":::{admonition} 윤리 문제\n",
    ":class: note\n",
    "\n",
    "윤리적으로 문제 있는 문제 ...\n",
    "\n",
    "- 얼굴로 인성 평가\n",
    "- 보스턴 하우스 데이터셋\n",
    "- 백인 우성 유전자 \n",
    "- 등등\n",
    ":::"
   ]
  },
  {
   "cell_type": "markdown",
   "id": "709b9c02",
   "metadata": {
    "slideshow": {
     "slide_type": "slide"
    }
   },
   "source": [
    "머신러닝으로 실전 문제를 해결하는 일반적인 과정을 소개한다.\n",
    "\n",
    "- 머신러닝 문제 정의\n",
    "- 모델 구현\n",
    "- 모델 실전 배치"
   ]
  }
 ],
 "metadata": {
  "kernelspec": {
   "display_name": "Python 3 (ipykernel)",
   "language": "python",
   "name": "python3"
  },
  "language_info": {
   "codemirror_mode": {
    "name": "ipython",
    "version": 3
   },
   "file_extension": ".py",
   "mimetype": "text/x-python",
   "name": "python",
   "nbconvert_exporter": "python",
   "pygments_lexer": "ipython3",
   "version": "3.9.13"
  }
 },
 "nbformat": 4,
 "nbformat_minor": 5
}
