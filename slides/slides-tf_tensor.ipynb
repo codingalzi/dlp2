{
 "cells": [
  {
   "cell_type": "markdown",
   "metadata": {
    "slideshow": {
     "slide_type": "slide"
    }
   },
   "source": [
    "# 3. 텐서"
   ]
  },
  {
   "cell_type": "markdown",
   "metadata": {
    "slideshow": {
     "slide_type": "slide"
    }
   },
   "source": [
    "## 3.1. 넘파이 어레이와 텐서"
   ]
  },
  {
   "cell_type": "markdown",
   "metadata": {},
   "source": [
    "- 넘파이 어레이 `numpy.ndarray`\n",
    "    - 대표적인 **텐서**<font size='2'>tensor</font> 자료형\n",
    "    - 머신러닝에 사용되는 데이터셋은 일반적으로 텐서로 저장됨"
   ]
  },
  {
   "cell_type": "markdown",
   "metadata": {},
   "source": [
    "- 텐서플로우\n",
    "    - `Tensor` 자료형인 `tensorflow.Tensor`\n",
    "    - 넘파이 어레이와 유사하며 GPU를 활용한 연산 지원"
   ]
  },
  {
   "cell_type": "markdown",
   "metadata": {},
   "source": [
    "- 케라스 신경망 모델의 입력, 출력값\n",
    "    - 넘파이 어레이를 기본으로 사용\n",
    "    - 내부적으로는 `tf.Tensor`로 변환해서 사용"
   ]
  },
  {
   "cell_type": "markdown",
   "metadata": {
    "slideshow": {
     "slide_type": "slide"
    }
   },
   "source": [
    "### 3.1.1. 넘파이 어레이의 차원"
   ]
  },
  {
   "cell_type": "markdown",
   "metadata": {},
   "source": [
    "- 텐서의 표현에 사용된 **축**<font size='2'>axis</font>의 개수"
   ]
  },
  {
   "cell_type": "markdown",
   "metadata": {},
   "source": [
    "- **랭크**<font size='2'>rank</font>로도 불림"
   ]
  },
  {
   "cell_type": "markdown",
   "metadata": {
    "slideshow": {
     "slide_type": "slide"
    }
   },
   "source": [
    "### 0차원(0D) 어레이 (랭크-0 어레이)"
   ]
  },
  {
   "cell_type": "markdown",
   "metadata": {
    "slideshow": {
     "slide_type": ""
    }
   },
   "source": [
    "- 정수 한 개, 부동소수점 한 개 등 하나의 수를 표현하는 어레이"
   ]
  },
  {
   "cell_type": "markdown",
   "metadata": {
    "slideshow": {
     "slide_type": ""
    }
   },
   "source": [
    "- **스칼라**<font size='2'>scalar</font>라고도 불림."
   ]
  },
  {
   "cell_type": "markdown",
   "metadata": {
    "slideshow": {
     "slide_type": ""
    }
   },
   "source": [
    "```\n",
    ">>> x0 = np.array(12)\n",
    ">>> y0 = np.array(1.34)\n",
    "```"
   ]
  },
  {
   "cell_type": "markdown",
   "metadata": {
    "slideshow": {
     "slide_type": "slide"
    }
   },
   "source": [
    "### 1차원(1D) 어레이 (랭크-1 어레이)"
   ]
  },
  {
   "cell_type": "markdown",
   "metadata": {
    "slideshow": {
     "slide_type": ""
    }
   },
   "source": [
    "- 수로 이루어진 리스트 형식의 어레이. "
   ]
  },
  {
   "cell_type": "markdown",
   "metadata": {
    "slideshow": {
     "slide_type": ""
    }
   },
   "source": [
    "- **벡터**<font size='2'>vector</font>로 불리며 한 개의 축을 가짐."
   ]
  },
  {
   "cell_type": "markdown",
   "metadata": {
    "slideshow": {
     "slide_type": ""
    }
   },
   "source": [
    "```\n",
    ">>> x1 = np.array([12, 3, 6, 14, 7])\n",
    "```"
   ]
  },
  {
   "cell_type": "markdown",
   "metadata": {
    "slideshow": {
     "slide_type": "slide"
    }
   },
   "source": [
    "### 2차원(2D) 어레이 (랭크-2 어레이)"
   ]
  },
  {
   "cell_type": "markdown",
   "metadata": {},
   "source": [
    "- 행과 열 두 개의 축을 가짐. "
   ]
  },
  {
   "cell_type": "markdown",
   "metadata": {},
   "source": [
    "- **행렬**<font size='2'>matrix</font>로도 불림."
   ]
  },
  {
   "cell_type": "markdown",
   "metadata": {},
   "source": [
    "```\n",
    ">>> x2 = np.array([[5, 78, 2, 34, 0],\n",
    "                   [6, 79, 3, 35, 1],\n",
    "                   [7, 80, 4, 36, 2]])\n",
    "```"
   ]
  },
  {
   "cell_type": "markdown",
   "metadata": {
    "slideshow": {
     "slide_type": "slide"
    }
   },
   "source": [
    "### 3차원(3D) 어레이 (랭크-3 어레이)"
   ]
  },
  {
   "cell_type": "markdown",
   "metadata": {},
   "source": [
    "- 행, 열, 깊이 세 개의 축 사용."
   ]
  },
  {
   "cell_type": "markdown",
   "metadata": {},
   "source": [
    "- 컬러 이미지 등을 표현할 때 사용"
   ]
  },
  {
   "cell_type": "markdown",
   "metadata": {},
   "source": [
    "```\n",
    ">>> x3 = np.array([[[5.0, 7.8, 2.1],\n",
    "                    [6.0, 7.9, 3],\n",
    "                    [7, 8.0, 4],\n",
    "                    [34, 0, 3.5],\n",
    "                    [1, 3.6, 2]],\n",
    "                              \n",
    "                   [[5, 7.8, 2],\n",
    "                    [3.4, 0, 3.5],\n",
    "                    [6, 7.9, 3],\n",
    "                    [7, 8.0, 4],\n",
    "                    [1, 3.6, 2]]])\n",
    "```"
   ]
  },
  {
   "cell_type": "markdown",
   "metadata": {
    "slideshow": {
     "slide_type": "slide"
    }
   },
   "source": [
    "### 4D 어레이 (랭크-4 어레이)"
   ]
  },
  {
   "cell_type": "markdown",
   "metadata": {},
   "source": [
    "- 컬러 이미지로 구성된 데이터셋 등을 표현할 때 사용됨"
   ]
  },
  {
   "cell_type": "markdown",
   "metadata": {
    "slideshow": {
     "slide_type": "slide"
    }
   },
   "source": [
    "### 주의사항: 벡터의 차원"
   ]
  },
  {
   "cell_type": "markdown",
   "metadata": {},
   "source": [
    "- **벡터의 길이**를 **차원**이라 부르기도 함"
   ]
  },
  {
   "cell_type": "markdown",
   "metadata": {},
   "source": [
    "- 예제: `np.array([12, 3, 6, 14, 7])`는 5차원 벡터"
   ]
  },
  {
   "cell_type": "markdown",
   "metadata": {
    "slideshow": {
     "slide_type": "slide"
    }
   },
   "source": [
    "### 3.1.2. 넘파이 어레이 주요 속성"
   ]
  },
  {
   "cell_type": "markdown",
   "metadata": {
    "slideshow": {
     "slide_type": "slide"
    }
   },
   "source": [
    "### `ndim` 속성: 텐서의 차원 저장"
   ]
  },
  {
   "cell_type": "markdown",
   "metadata": {
    "slideshow": {
     "slide_type": ""
    }
   },
   "source": [
    "```python\n",
    ">>> print(x0.ndim, x1.ndim, x2.ndim, x3.ndim)\n",
    "0 1 2 3\n",
    "```"
   ]
  },
  {
   "cell_type": "markdown",
   "metadata": {
    "slideshow": {
     "slide_type": "slide"
    }
   },
   "source": [
    "### `shape` 속성: 텐서의 모양을 튜플로 저장"
   ]
  },
  {
   "cell_type": "markdown",
   "metadata": {
    "slideshow": {
     "slide_type": ""
    }
   },
   "source": [
    "\n",
    "```python\n",
    ">>> print(x0.shape, x1.shape, x2.shape, x3.shape)\n",
    "() (5,) (3, 5) (2, 5, 3)\n",
    "```"
   ]
  },
  {
   "cell_type": "markdown",
   "metadata": {
    "slideshow": {
     "slide_type": "slide"
    }
   },
   "source": [
    "### `dtype` 속성: 텐서에 포함된 항목의 통일된 자료형"
   ]
  },
  {
   "cell_type": "markdown",
   "metadata": {
    "slideshow": {
     "slide_type": ""
    }
   },
   "source": [
    "```python\n",
    ">>> print(x0.dtype, x1.dtype, x2.dtype, x3.dtype)\n",
    "float64 int64 int64 float64\n",
    "```"
   ]
  },
  {
   "cell_type": "markdown",
   "metadata": {
    "slideshow": {
     "slide_type": "slide"
    }
   },
   "source": [
    "### 3.1.3. 넘파이 어레이 실전 예제"
   ]
  },
  {
   "cell_type": "markdown",
   "metadata": {
    "slideshow": {
     "slide_type": "slide"
    }
   },
   "source": [
    "### 2D 어레이 데이터셋"
   ]
  },
  {
   "cell_type": "markdown",
   "metadata": {
    "slideshow": {
     "slide_type": ""
    }
   },
   "source": [
    "- 예제: 캘리포니아 구역별 인구조사 데이터셋\n",
    "- 20,640개의 구역별 데이터 포함. 따라서 `(20640, 10)` 모양의 2D 어레이로 표현 가능."
   ]
  },
  {
   "cell_type": "markdown",
   "metadata": {
    "slideshow": {
     "slide_type": ""
    }
   },
   "source": [
    "<img src=\"https://raw.githubusercontent.com/codingalzi/handson-ml3/master/jupyter-book/imgs/ch02/housing-data.png\" style=\"width:600px;\">"
   ]
  },
  {
   "cell_type": "markdown",
   "metadata": {
    "slideshow": {
     "slide_type": "slide"
    }
   },
   "source": [
    "### 3D 어레이 데이터셋"
   ]
  },
  {
   "cell_type": "markdown",
   "metadata": {
    "slideshow": {
     "slide_type": ""
    }
   },
   "source": [
    "- 예제: 흑백 손글씨 사진으로 구성된 MNIST 데이터셋"
   ]
  },
  {
   "cell_type": "markdown",
   "metadata": {
    "slideshow": {
     "slide_type": ""
    }
   },
   "source": [
    "- 샘플: `28x28` 크기의 (흑백) 손글씨 사진.\n",
    "    `(28, 28)` 모양의 2D 텐서로 표현 가능."
   ]
  },
  {
   "cell_type": "markdown",
   "metadata": {
    "slideshow": {
     "slide_type": ""
    }
   },
   "source": [
    "- MNIST 훈련 데이터셋: 총 6만개의 (흑백) 손글씨 사진으로 구성됨.\n",
    "    `(60000, 28, 28)` 모양의 3D 어레이로 표현 가능."
   ]
  },
  {
   "cell_type": "markdown",
   "metadata": {
    "slideshow": {
     "slide_type": "slide"
    }
   },
   "source": [
    "### 4D 텐서 예제"
   ]
  },
  {
   "cell_type": "markdown",
   "metadata": {},
   "source": [
    "- 컬러 사진으로 구성된 데이터셋: `(샘플 수, 높이, 너비, 채널 수)` 또는 `(샘플 수, 채널 수, 높이, 너비)`\n",
    "    모양의 4D 텐서로 표현"
   ]
  },
  {
   "cell_type": "markdown",
   "metadata": {},
   "source": [
    "<div align=\"center\"><img src=\"https://drek4537l1klr.cloudfront.net/chollet2/v-7/Figures/ch02-image_data.png\" style=\"width:350px;\"></div>"
   ]
  },
  {
   "cell_type": "markdown",
   "metadata": {
    "id": "qFdPvlXBOdUN",
    "slideshow": {
     "slide_type": "slide"
    }
   },
   "source": [
    "## 3.2. 텐서플로우의 텐서"
   ]
  },
  {
   "cell_type": "markdown",
   "metadata": {
    "slideshow": {
     "slide_type": "slide"
    }
   },
   "source": [
    "### `tf.Tensor` 자료형"
   ]
  },
  {
   "cell_type": "markdown",
   "metadata": {},
   "source": [
    "- 입출력 데이터 등 변하지 않는 값을 다룰 때 사용."
   ]
  },
  {
   "cell_type": "markdown",
   "metadata": {},
   "source": [
    "- 불변 자료형"
   ]
  },
  {
   "cell_type": "markdown",
   "metadata": {
    "slideshow": {
     "slide_type": "slide"
    }
   },
   "source": [
    "### `tf.Variable` 자료형"
   ]
  },
  {
   "cell_type": "markdown",
   "metadata": {},
   "source": [
    "- 모델의 가중치, 편향 등 항목의 업데이트가 필요할 때 사용되는 텐서."
   ]
  },
  {
   "cell_type": "markdown",
   "metadata": {},
   "source": [
    "- 가변 자료형"
   ]
  },
  {
   "cell_type": "markdown",
   "metadata": {
    "id": "H5vru5j1FAG2",
    "slideshow": {
     "slide_type": "slide"
    }
   },
   "source": [
    "### 3.2.1. 불변 텐서"
   ]
  },
  {
   "cell_type": "markdown",
   "metadata": {},
   "source": [
    "- 아래 방식으로 직접 정의 가능"
   ]
  },
  {
   "cell_type": "markdown",
   "metadata": {
    "colab": {
     "base_uri": "https://localhost:8080/"
    },
    "id": "Ik-7kgRvFAG3",
    "outputId": "5e6203c3-d986-438e-de77-3de29930ccde"
   },
   "source": [
    "```python\n",
    ">>> x = tf.constant([[1., 2.], [3., 4.]])\n",
    ">>> print(x)\n",
    "```"
   ]
  },
  {
   "cell_type": "markdown",
   "metadata": {
    "colab": {
     "base_uri": "https://localhost:8080/"
    },
    "id": "Ik-7kgRvFAG3",
    "outputId": "5e6203c3-d986-438e-de77-3de29930ccde"
   },
   "source": [
    "```python\n",
    "tf.Tensor(\n",
    "[[1. 2.]\n",
    " [3. 4.]], shape=(2, 2), dtype=float32)\n",
    "```"
   ]
  },
  {
   "cell_type": "markdown",
   "metadata": {
    "id": "RWRNWl6ZFAG4",
    "slideshow": {
     "slide_type": "slide"
    }
   },
   "source": [
    "- 넘파이 어레이의 경우와 유사한 방식으로 다양한 불변 텐서 생성 가능"
   ]
  },
  {
   "cell_type": "markdown",
   "metadata": {
    "colab": {
     "base_uri": "https://localhost:8080/"
    },
    "id": "i9cKkurOFAG4",
    "outputId": "5208ce93-96ca-49a0-f184-28a23df68a27"
   },
   "source": [
    "```python\n",
    ">>> x = tf.ones(shape=(2, 1))\n",
    ">>> print(x)\n",
    "```"
   ]
  },
  {
   "cell_type": "markdown",
   "metadata": {
    "colab": {
     "base_uri": "https://localhost:8080/"
    },
    "id": "i9cKkurOFAG4",
    "outputId": "5208ce93-96ca-49a0-f184-28a23df68a27"
   },
   "source": [
    "```python\n",
    "tf.Tensor(\n",
    "[[1.]\n",
    " [1.]], shape=(2, 1), dtype=float32)\n",
    "```"
   ]
  },
  {
   "cell_type": "markdown",
   "metadata": {
    "colab": {
     "base_uri": "https://localhost:8080/"
    },
    "id": "RnQI7pjoFAG4",
    "outputId": "36a7a2c3-b07f-46d8-d571-aec48ab40bc1",
    "slideshow": {
     "slide_type": "slide"
    }
   },
   "source": [
    "```python\n",
    ">>> x = tf.zeros(shape=(2, 1))\n",
    ">>> print(x)\n",
    "```"
   ]
  },
  {
   "cell_type": "markdown",
   "metadata": {
    "colab": {
     "base_uri": "https://localhost:8080/"
    },
    "id": "i9cKkurOFAG4",
    "outputId": "5208ce93-96ca-49a0-f184-28a23df68a27"
   },
   "source": [
    "```python\n",
    "tf.Tensor(\n",
    "[[0.]\n",
    " [0.]], shape=(2, 1), dtype=float32)\n",
    "```"
   ]
  },
  {
   "cell_type": "markdown",
   "metadata": {
    "colab": {
     "base_uri": "https://localhost:8080/"
    },
    "id": "RnQI7pjoFAG4",
    "outputId": "36a7a2c3-b07f-46d8-d571-aec48ab40bc1",
    "slideshow": {
     "slide_type": "slide"
    }
   },
   "source": [
    "```python\n",
    ">>> x = tf.random.normal(shape=(3, 1), mean=0., stddev=1.)\n",
    ">>> print(x)\n",
    "```"
   ]
  },
  {
   "cell_type": "markdown",
   "metadata": {
    "colab": {
     "base_uri": "https://localhost:8080/"
    },
    "id": "i9cKkurOFAG4",
    "outputId": "5208ce93-96ca-49a0-f184-28a23df68a27"
   },
   "source": [
    "```python\n",
    "tf.Tensor(\n",
    "[[ 1.3731117 ]\n",
    " [ 0.5951849 ]\n",
    " [-0.28321794]], shape=(3, 1), dtype=float32)\n",
    "```"
   ]
  },
  {
   "cell_type": "markdown",
   "metadata": {
    "colab": {
     "base_uri": "https://localhost:8080/"
    },
    "id": "RnQI7pjoFAG4",
    "outputId": "36a7a2c3-b07f-46d8-d571-aec48ab40bc1",
    "slideshow": {
     "slide_type": "slide"
    }
   },
   "source": [
    "```python\n",
    ">>> x = tf.random.uniform(shape=(3, 1), minval=0., maxval=1.)\n",
    ">>> print(x)\n",
    "```"
   ]
  },
  {
   "cell_type": "markdown",
   "metadata": {
    "colab": {
     "base_uri": "https://localhost:8080/"
    },
    "id": "i9cKkurOFAG4",
    "outputId": "5208ce93-96ca-49a0-f184-28a23df68a27"
   },
   "source": [
    "```python\n",
    "tf.Tensor(\n",
    "[[0.06819296]\n",
    " [0.9727112 ]\n",
    " [0.16666853]], shape=(3, 1), dtype=float32)\n",
    "```"
   ]
  },
  {
   "cell_type": "markdown",
   "metadata": {
    "id": "CV8pyHNnFAG5"
   },
   "source": [
    "### 불변 텐서의 수정 불가능성"
   ]
  },
  {
   "cell_type": "markdown",
   "metadata": {
    "id": "K-bMeTbTFAG5"
   },
   "source": [
    "- 한 번 생성된 불변 텐서는 수정이 불가능."
   ]
  },
  {
   "cell_type": "markdown",
   "metadata": {
    "id": "Vg5KyONiFAG6"
   },
   "source": [
    "```python\n",
    ">>> x[0, 0] = 1.0\n",
    "```"
   ]
  },
  {
   "cell_type": "markdown",
   "metadata": {
    "id": "Vg5KyONiFAG6"
   },
   "source": [
    "```python\n",
    "TypeError                                 Traceback (most recent call last)\n",
    "Cell In[10], line 1\n",
    "----> 1 x[0, 0] = 1.0\n",
    "\n",
    "TypeError: 'tensorflow.python.framework.ops.EagerTensor' object does not support item assignment\n",
    "```"
   ]
  },
  {
   "cell_type": "markdown",
   "metadata": {
    "id": "Ll1rQVG3FAG6",
    "slideshow": {
     "slide_type": "slide"
    }
   },
   "source": [
    "- 반면에 넘파이 어레이는 수정 가능"
   ]
  },
  {
   "cell_type": "markdown",
   "metadata": {
    "colab": {
     "base_uri": "https://localhost:8080/"
    },
    "id": "l5lUVJ3bFAG6",
    "outputId": "a18e4480-b231-429c-b5d6-e525e1fafac9"
   },
   "source": [
    "```python\n",
    ">>> y = np.ones(shape=(2, 2))\n",
    ">>> y[0, 0] = 0.0\n",
    ">>> print(y)\n",
    "```"
   ]
  },
  {
   "cell_type": "markdown",
   "metadata": {
    "colab": {
     "base_uri": "https://localhost:8080/"
    },
    "id": "l5lUVJ3bFAG6",
    "outputId": "a18e4480-b231-429c-b5d6-e525e1fafac9"
   },
   "source": [
    "```python\n",
    "[[0. 1.]\n",
    " [1. 1.]]\n",
    "```"
   ]
  },
  {
   "cell_type": "markdown",
   "metadata": {
    "id": "VujYaZeAFAG7",
    "slideshow": {
     "slide_type": "slide"
    }
   },
   "source": [
    "### 3.2.2. 가변 텐서"
   ]
  },
  {
   "cell_type": "markdown",
   "metadata": {
    "id": "DDnj9VdMFAG7"
   },
   "source": [
    "- `tf.Variaible` 객체는 항목을 수정할 수 있는 가변 텐서임."
   ]
  },
  {
   "cell_type": "markdown",
   "metadata": {
    "colab": {
     "base_uri": "https://localhost:8080/"
    },
    "id": "l5lUVJ3bFAG6",
    "outputId": "a18e4480-b231-429c-b5d6-e525e1fafac9"
   },
   "source": [
    "```python\n",
    ">>> v = tf.Variable(initial_value=tf.random.normal(shape=(3, 1)))\n",
    ">>> print(v)\n",
    "```"
   ]
  },
  {
   "cell_type": "markdown",
   "metadata": {
    "colab": {
     "base_uri": "https://localhost:8080/"
    },
    "id": "l5lUVJ3bFAG6",
    "outputId": "a18e4480-b231-429c-b5d6-e525e1fafac9"
   },
   "source": [
    "```python\n",
    "<tf.Variable 'Variable:0' shape=(3, 1) dtype=float32, numpy=\n",
    "array([[ 0.84899724],\n",
    "       [-1.3992549 ],\n",
    "       [-0.22706768]], dtype=float32)>\n",
    "```"
   ]
  },
  {
   "cell_type": "markdown",
   "metadata": {
    "id": "3cHdR9y3FAG7",
    "slideshow": {
     "slide_type": "slide"
    }
   },
   "source": [
    "### 가변 텐서 대체"
   ]
  },
  {
   "cell_type": "markdown",
   "metadata": {},
   "source": [
    "- `assign` 메서드 활용"
   ]
  },
  {
   "cell_type": "markdown",
   "metadata": {
    "colab": {
     "base_uri": "https://localhost:8080/"
    },
    "id": "l5lUVJ3bFAG6",
    "outputId": "a18e4480-b231-429c-b5d6-e525e1fafac9"
   },
   "source": [
    "```python\n",
    ">>> v.assign(tf.ones((3, 1)))\n",
    "```"
   ]
  },
  {
   "cell_type": "markdown",
   "metadata": {
    "colab": {
     "base_uri": "https://localhost:8080/"
    },
    "id": "l5lUVJ3bFAG6",
    "outputId": "a18e4480-b231-429c-b5d6-e525e1fafac9"
   },
   "source": [
    "```python\n",
    "<tf.Variable 'UnreadVariable' shape=(3, 1) dtype=float32, numpy=\n",
    "array([[1.],\n",
    "       [1.],\n",
    "       [1.]], dtype=float32)>\n",
    "```"
   ]
  },
  {
   "cell_type": "markdown",
   "metadata": {
    "id": "QpdPpCRGFAG7",
    "slideshow": {
     "slide_type": "slide"
    }
   },
   "source": [
    "- 단, 대체하는 텐서의 모양(shape)이 기존 텐서의 모양과 동일해야 함."
   ]
  },
  {
   "cell_type": "markdown",
   "metadata": {
    "colab": {
     "base_uri": "https://localhost:8080/"
    },
    "id": "l5lUVJ3bFAG6",
    "outputId": "a18e4480-b231-429c-b5d6-e525e1fafac9"
   },
   "source": [
    "```python\n",
    ">>> v.assign(tf.ones((3, 2)))\n",
    "```"
   ]
  },
  {
   "cell_type": "markdown",
   "metadata": {
    "colab": {
     "base_uri": "https://localhost:8080/"
    },
    "id": "l5lUVJ3bFAG6",
    "outputId": "a18e4480-b231-429c-b5d6-e525e1fafac9"
   },
   "source": [
    "```python\n",
    "ValueError         Traceback (most recent call last)\n",
    "\n",
    "...(중략)\n",
    "\n",
    "ValueError: Cannot assign value to variable ...(이하 생략)\n",
    "```"
   ]
  },
  {
   "cell_type": "markdown",
   "metadata": {
    "id": "jdwzz0TTFAG8",
    "slideshow": {
     "slide_type": "slide"
    }
   },
   "source": [
    "### 가변 텐서 항목 수정"
   ]
  },
  {
   "cell_type": "markdown",
   "metadata": {},
   "source": [
    "- `assign` 메서드 활용"
   ]
  },
  {
   "cell_type": "markdown",
   "metadata": {
    "colab": {
     "base_uri": "https://localhost:8080/"
    },
    "id": "l5lUVJ3bFAG6",
    "outputId": "a18e4480-b231-429c-b5d6-e525e1fafac9"
   },
   "source": [
    "```python\n",
    ">>> v[0, 0].assign(3.)\n",
    "```"
   ]
  },
  {
   "cell_type": "markdown",
   "metadata": {
    "colab": {
     "base_uri": "https://localhost:8080/"
    },
    "id": "l5lUVJ3bFAG6",
    "outputId": "a18e4480-b231-429c-b5d6-e525e1fafac9"
   },
   "source": [
    "```python\n",
    "<tf.Variable 'UnreadVariable' shape=(3, 1) dtype=float32, numpy=\n",
    "array([[3.],\n",
    "       [1.],\n",
    "       [1.]], dtype=float32)>\n",
    "```"
   ]
  },
  {
   "cell_type": "markdown",
   "metadata": {
    "id": "X-gFG2uaFAG_",
    "slideshow": {
     "slide_type": "slide"
    }
   },
   "source": [
    "### `assign_add()`와 `assign_sub()`"
   ]
  },
  {
   "cell_type": "markdown",
   "metadata": {
    "id": "CYM5RzvMFAHA"
   },
   "source": [
    "- `assign_sub()` 메서드: `-=` 연산자와 유사\n",
    "- `assign_add()` 메서드는 `+=` 연산자와 유가\n",
    "- 경사하강법 적용과정에서 가중치와 편향 텐서를 업데이트할 때 사용됨."
   ]
  },
  {
   "cell_type": "markdown",
   "metadata": {
    "colab": {
     "base_uri": "https://localhost:8080/"
    },
    "id": "l5lUVJ3bFAG6",
    "outputId": "a18e4480-b231-429c-b5d6-e525e1fafac9"
   },
   "source": [
    "```python\n",
    ">>> v.assign_sub(tf.ones((3, 1)))\n",
    "```"
   ]
  },
  {
   "cell_type": "markdown",
   "metadata": {
    "colab": {
     "base_uri": "https://localhost:8080/"
    },
    "id": "l5lUVJ3bFAG6",
    "outputId": "a18e4480-b231-429c-b5d6-e525e1fafac9"
   },
   "source": [
    "```python\n",
    "<tf.Variable 'UnreadVariable' shape=(3, 1) dtype=float32, numpy=\n",
    "array([[2.],\n",
    "       [0.],\n",
    "       [0.]], dtype=float32)>\n",
    "```"
   ]
  },
  {
   "cell_type": "markdown",
   "metadata": {
    "slideshow": {
     "slide_type": "slide"
    }
   },
   "source": [
    "### 3.2.3. 차원과 모양"
   ]
  },
  {
   "cell_type": "markdown",
   "metadata": {
    "id": "uSHRFT6LJbxq",
    "slideshow": {
     "slide_type": "slide"
    }
   },
   "source": [
    "### 스칼라: 0차원 텐서"
   ]
  },
  {
   "cell_type": "markdown",
   "metadata": {},
   "source": [
    "```python\n",
    ">>> d0_tensor = tf.constant(4)\n",
    ">>> print(d0_tensor)\n",
    "tf.Tensor(4, shape=(), dtype=int32)\n",
    "\n",
    ">>> print(\"차원:\", d0_tensor.ndim)\n",
    "차원: 0\n",
    "\n",
    ">>> print(\"모양:\", d0_tensor.shape)\n",
    "모양: ()\n",
    "\n",
    ">>> print(\"항목 자료형:\", d0_tensor.dtype)\n",
    "항목 자료형: <dtype: 'int32'>\n",
    "```"
   ]
  },
  {
   "cell_type": "markdown",
   "metadata": {
    "id": "tdmPAn9fWYs5",
    "slideshow": {
     "slide_type": "slide"
    }
   },
   "source": [
    "### 벡터: 1차원 텐서"
   ]
  },
  {
   "cell_type": "markdown",
   "metadata": {
    "colab": {
     "base_uri": "https://localhost:8080/"
    },
    "id": "oZos8o_R6oE7",
    "outputId": "dd6b1d32-0a05-49e5-a63d-a738306faf73"
   },
   "source": [
    "```python\n",
    ">>> d1_tensor = tf.constant([2.0, 3.0, 4.0])\n",
    ">>> print(d1_tensor)\n",
    "tf.Tensor([2. 3. 4.], shape=(3,), dtype=float32)\n",
    "\n",
    ">>> print(\"차원:\", d1_tensor.ndim)\n",
    "차원: 1\n",
    "\n",
    ">>> print(\"모양:\", d1_tensor.shape)\n",
    "print(\"모양:\", d1_tensor.shape)\n",
    "\n",
    ">>> print(\"항목 자료형:\", d1_tensor.dtype)\n",
    "print(\"항목 자료형:\", d1_tensor.dtype)\n",
    "```"
   ]
  },
  {
   "cell_type": "markdown",
   "metadata": {
    "id": "G3IJG-ug_H4u",
    "slideshow": {
     "slide_type": "slide"
    }
   },
   "source": [
    "### 행렬: 2차원 텐서"
   ]
  },
  {
   "cell_type": "markdown",
   "metadata": {
    "colab": {
     "base_uri": "https://localhost:8080/"
    },
    "id": "cnOIA_xb6u0M",
    "outputId": "78b93a9c-f30c-42ab-d06f-3ac7095c2afa"
   },
   "source": [
    "```python\n",
    ">>> d2_tensor = tf.constant([[1, 2],\n",
    "                             [3, 4],\n",
    "                             [5, 6]], dtype=tf.float16)\n",
    "\n",
    ">>> print(d2_tensor)\n",
    "tf.Tensor(\n",
    "[[1. 2.]\n",
    " [3. 4.]\n",
    " [5. 6.]], shape=(3, 2), dtype=int16)\n",
    "\n",
    ">>> print(\"차원:\", d2_tensor.ndim)\n",
    "차원: 2\n",
    "\n",
    ">>> print(\"모양:\", d2_tensor.shape)\n",
    "모양: (3, 2)\n",
    "\n",
    ">>> print(\"항목 자료형:\", d2_tensor.dtype)\n",
    "항목 자료형: <dtype: 'float16'>\n",
    "```"
   ]
  },
  {
   "cell_type": "markdown",
   "metadata": {
    "slideshow": {
     "slide_type": "slide"
    }
   },
   "source": [
    "- `dtype=tf.float16` 활용에 주의할 것."
   ]
  },
  {
   "cell_type": "markdown",
   "metadata": {
    "colab": {
     "base_uri": "https://localhost:8080/"
    },
    "id": "cnOIA_xb6u0M",
    "outputId": "78b93a9c-f30c-42ab-d06f-3ac7095c2afa"
   },
   "source": [
    "```python\n",
    ">>> d2_tensor = tf.constant([[1, 2],\n",
    "                             [3, 4],\n",
    "                             [5, 6]])\n",
    "\n",
    ">>> print(d2_tensor)\n",
    "tf.Tensor(\n",
    "[[1. 2.]\n",
    " [3. 4.]\n",
    " [5. 6.]], shape=(3, 2), dtype=int32)\n",
    "```"
   ]
  },
  {
   "cell_type": "markdown",
   "metadata": {
    "slideshow": {
     "slide_type": "slide"
    }
   },
   "source": [
    "### 스칼라, 벡터, 행렬 시각화"
   ]
  },
  {
   "cell_type": "markdown",
   "metadata": {},
   "source": [
    "<table>\n",
    "<tr>\n",
    "  <th>스칼라, 모양: <code>[]</code> </th>\n",
    "  <th>벡터, 모양: <code>[3]</code> </th>\n",
    "  <th>행렬, 모양: <code>[3, 2]</code> </th>\n",
    "</tr>\n",
    "<tr>\n",
    "  <td>    <img src=\"https://raw.githubusercontent.com/tensorflow/docs/master/site/en/guide/images/tensor/scalar.png\" alt=\"A scalar, the number 4\"> </td>\n",
    "  <td>    <img src=\"https://raw.githubusercontent.com/tensorflow/docs/master/site/en/guide/images/tensor/vector.png\" alt=\"The line with 3 sections, each one containing a number.\">   </td>\n",
    "  <td>    <img src=\"https://raw.githubusercontent.com/tensorflow/docs/master/site/en/guide/images/tensor/matrix.png\" alt=\"A 3x2 grid, with each cell containing a number.\">   </td>\n",
    "</tr>\n",
    "</table>"
   ]
  },
  {
   "cell_type": "markdown",
   "metadata": {
    "id": "fjFvzcn4_ehD",
    "slideshow": {
     "slide_type": "slide"
    }
   },
   "source": [
    "### 3차원 텐서"
   ]
  },
  {
   "cell_type": "markdown",
   "metadata": {
    "colab": {
     "base_uri": "https://localhost:8080/"
    },
    "id": "sesW7gw6JkXy",
    "outputId": "ce17e556-cb90-41e5-8016-7adbf45a1e28"
   },
   "source": [
    "```python\n",
    ">>> d3_tensor = tf.constant([[[0, 1, 2, 3, 4],\n",
    "                              [5, 6, 7, 8, 9]],\n",
    "                             [[10, 11, 12, 13, 14],\n",
    "                              [15, 16, 17, 18, 19]],\n",
    "                             [[20, 21, 22, 23, 24],\n",
    "                              [25, 26, 27, 28, 29]]\n",
    "                            ])\n",
    "```"
   ]
  },
  {
   "cell_type": "markdown",
   "metadata": {
    "colab": {
     "base_uri": "https://localhost:8080/"
    },
    "id": "sesW7gw6JkXy",
    "outputId": "ce17e556-cb90-41e5-8016-7adbf45a1e28"
   },
   "source": [
    "```python\n",
    ">>> print(d3_tensor)\n",
    "tf.Tensor(\n",
    "[[[ 0  1  2  3  4]\n",
    "  [ 5  6  7  8  9]]\n",
    "\n",
    " [[10 11 12 13 14]\n",
    "  [15 16 17 18 19]]\n",
    "\n",
    " [[20 21 22 23 24]\n",
    "  [25 26 27 28 29]]], shape=(3, 2, 5), dtype=int32)\n",
    "\n",
    ">>> print(\"차원:\", d3_tensor.ndim)\n",
    "차원: 3\n",
    "\n",
    ">>> print(\"모양:\", d3_tensor.shape)\n",
    "모양: (3, 2, 5)\n",
    "\n",
    ">>> print(\"항목 자료형:\", d3_tensor.dtype)\n",
    "항목 자료형: <dtype: 'int32'>\n",
    "```"
   ]
  },
  {
   "cell_type": "markdown",
   "metadata": {
    "id": "rM2sTGIkoE3S",
    "slideshow": {
     "slide_type": "slide"
    }
   },
   "source": [
    "### 3차원 텐서 이해 방식"
   ]
  },
  {
   "cell_type": "markdown",
   "metadata": {
    "id": "NFiYfNMMhDgL"
   },
   "source": [
    "<table>\n",
    "<tr>\n",
    "</tr>\n",
    "<tr>\n",
    "  <td>    <img src=\"https://raw.githubusercontent.com/tensorflow/docs/master/site/en/guide/images/tensor/3-axis_numpy.png\">   </td>\n",
    "  <td>    <img src=\"https://raw.githubusercontent.com/tensorflow/docs/master/site/en/guide/images/tensor/3-axis_front.png\">   </td>\n",
    "  <td>    <img src=\"https://raw.githubusercontent.com/tensorflow/docs/master/site/en/guide/images/tensor/3-axis_block.png\">   </td>\n",
    "</tr>\n",
    "</table>"
   ]
  },
  {
   "cell_type": "markdown",
   "metadata": {
    "id": "fjFvzcn4_ehD",
    "slideshow": {
     "slide_type": "slide"
    }
   },
   "source": [
    "### 4차원 텐서"
   ]
  },
  {
   "cell_type": "markdown",
   "metadata": {
    "colab": {
     "base_uri": "https://localhost:8080/"
    },
    "id": "sesW7gw6JkXy",
    "outputId": "ce17e556-cb90-41e5-8016-7adbf45a1e28"
   },
   "source": [
    "```python\n",
    ">>> d4_tensor = tf.zeros([3, 2, 4, 5])\n",
    "\n",
    ">>> print(\"차원:\", d4_tensor.ndim)\n",
    "차원: 4\n",
    "\n",
    ">>> print(\"모양:\", d4_tensor.shape)\n",
    "모양: (3, 2, 4, 5)\n",
    "\n",
    ">>> print(\"항목 자료형:\", d4_tensor.dtype)\n",
    "항목 자료형: <dtype: 'flot32'>\n",
    "```"
   ]
  },
  {
   "cell_type": "markdown",
   "metadata": {
    "id": "rM2sTGIkoE3S",
    "slideshow": {
     "slide_type": "slide"
    }
   },
   "source": [
    "### 4차원 텐서의 축과 모양"
   ]
  },
  {
   "cell_type": "markdown",
   "metadata": {
    "id": "NFiYfNMMhDgL"
   },
   "source": [
    "<table>\n",
    "<tr>\n",
    "  <td> <img src=\"https://raw.githubusercontent.com/tensorflow/docs/master/site/en/guide/images/tensor/shape.png\" alt=\"A tensor shape is like a vector.\">     </td>\n",
    "<td> <img src=\"https://raw.githubusercontent.com/tensorflow/docs/master/site/en/guide/images/tensor/4-axis_block.png\" alt=\"A 4-axis tensor\">   </td>\n",
    "  </tr>\n",
    "</table>"
   ]
  },
  {
   "cell_type": "markdown",
   "metadata": {
    "id": "rM2sTGIkoE3S",
    "slideshow": {
     "slide_type": "slide"
    }
   },
   "source": [
    "### 축의 순서 이해"
   ]
  },
  {
   "cell_type": "markdown",
   "metadata": {
    "id": "NFiYfNMMhDgL"
   },
   "source": [
    "<table>\n",
    "<tr>\n",
    "    <td> <img src=\"https://raw.githubusercontent.com/tensorflow/docs/master/site/en/guide/images/tensor/shape2.png\" alt=\"Keep track of what each axis is. A 4-axis tensor might be: Batch, Width, Height, Features\">   </td>\n",
    "</tr>\n",
    "</table>"
   ]
  },
  {
   "cell_type": "markdown",
   "metadata": {
    "id": "UVEXofKY4aQA",
    "slideshow": {
     "slide_type": "slide"
    }
   },
   "source": [
    "### 3.2.4. 넘파이 어레이로의 변환"
   ]
  },
  {
   "cell_type": "markdown",
   "metadata": {
    "colab": {
     "base_uri": "https://localhost:8080/"
    },
    "id": "J5u6_6ZYaS7B",
    "outputId": "b31af307-4585-4e78-8676-1f0425e2a772"
   },
   "source": [
    "```python\n",
    ">>> np.array(d2_tensor)\n",
    "array([[1., 2.],\n",
    "       [3., 4.],\n",
    "       [5., 6.]], dtype=float16)\n",
    "```"
   ]
  },
  {
   "cell_type": "markdown",
   "metadata": {},
   "source": [
    "또는"
   ]
  },
  {
   "cell_type": "markdown",
   "metadata": {
    "colab": {
     "base_uri": "https://localhost:8080/"
    },
    "id": "J5u6_6ZYaS7B",
    "outputId": "b31af307-4585-4e78-8676-1f0425e2a772"
   },
   "source": [
    "```python\n",
    ">>> d2_tensor.numpy()\n",
    "array([[1., 2.],\n",
    "       [3., 4.],\n",
    "       [5., 6.]], dtype=float16)\n",
    "```"
   ]
  },
  {
   "cell_type": "markdown",
   "metadata": {
    "id": "iC4qi08M6ECo",
    "slideshow": {
     "slide_type": "slide"
    }
   },
   "source": [
    "## 텐서 연산"
   ]
  },
  {
   "cell_type": "markdown",
   "metadata": {
    "slideshow": {
     "slide_type": "slide"
    }
   },
   "source": [
    "### 항목별 덧셈"
   ]
  },
  {
   "cell_type": "markdown",
   "metadata": {
    "id": "-DTkjwDOIIDa"
   },
   "source": [
    "```python\n",
    ">>> a = tf.constant([[1, 2],\n",
    "...                  [3, 4]])\n",
    "\n",
    ">>> b = tf.ones([2,2])\n",
    "\n",
    ">>> tf.add(a, b)\n",
    "<tf.Tensor: shape=(2, 2), dtype=int32, numpy=\n",
    "array([[2, 3],\n",
    "       [4, 5]])>\n",
    "```"
   ]
  },
  {
   "cell_type": "markdown",
   "metadata": {},
   "source": [
    "또는"
   ]
  },
  {
   "cell_type": "markdown",
   "metadata": {
    "colab": {
     "base_uri": "https://localhost:8080/"
    },
    "id": "rVwcWTZVIaWs",
    "outputId": "b87abb85-f72d-4857-9662-f1dec7326949"
   },
   "source": [
    "```python\n",
    ">>> a + b\n",
    "<tf.Tensor: shape=(2, 2), dtype=int32, numpy=\n",
    "array([[2, 3],\n",
    "       [4, 5]])>\n",
    "```"
   ]
  },
  {
   "cell_type": "markdown",
   "metadata": {
    "slideshow": {
     "slide_type": "slide"
    }
   },
   "source": [
    "### 항목별 곱셈"
   ]
  },
  {
   "cell_type": "markdown",
   "metadata": {
    "id": "-DTkjwDOIIDa"
   },
   "source": [
    "```python\n",
    ">>> a = tf.constant([[1, 2],\n",
    "...                  [3, 4]])\n",
    "\n",
    ">>> b = tf.ones([2,2])\n",
    "\n",
    ">>> tf.multiply(a, b)\n",
    "<tf.Tensor: shape=(2, 2), dtype=int32, numpy=\n",
    "array([[1, 2],\n",
    "       [3, 4]])>\n",
    "```"
   ]
  },
  {
   "cell_type": "markdown",
   "metadata": {},
   "source": [
    "또는"
   ]
  },
  {
   "cell_type": "markdown",
   "metadata": {},
   "source": [
    "```python\n",
    ">>> a * b\n",
    "<tf.Tensor: shape=(2, 2), dtype=int32, numpy=\n",
    "array([[1, 2],\n",
    "       [3, 4]])>\n",
    "```"
   ]
  },
  {
   "cell_type": "markdown",
   "metadata": {
    "id": "cICxfBgbJCzT",
    "slideshow": {
     "slide_type": "slide"
    }
   },
   "source": [
    "### 행렬 연산"
   ]
  },
  {
   "cell_type": "markdown",
   "metadata": {
    "id": "-DTkjwDOIIDa"
   },
   "source": [
    "```python\n",
    ">>> a = tf.constant([[1, 2],\n",
    "...                  [3, 4]])\n",
    "\n",
    ">>> b = tf.ones([2,2])\n",
    "\n",
    ">>> tf.matmul(a, b)\n",
    "<tf.Tensor: shape=(2, 2), dtype=int32, numpy=\n",
    "array([[3, 3],\n",
    "       [7, 7]])>\n",
    "```"
   ]
  },
  {
   "cell_type": "markdown",
   "metadata": {},
   "source": [
    "또는"
   ]
  },
  {
   "cell_type": "markdown",
   "metadata": {
    "id": "-DTkjwDOIIDa"
   },
   "source": [
    "```python\n",
    ">>> a @ b\n",
    "<tf.Tensor: shape=(2, 2), dtype=int32, numpy=\n",
    "array([[3, 3],\n",
    "       [7, 7]])>\n",
    "```"
   ]
  },
  {
   "cell_type": "markdown",
   "metadata": {
    "id": "v9YXrXULK-cO",
    "slideshow": {
     "slide_type": "slide"
    }
   },
   "source": [
    "### 최대 항목 찾기"
   ]
  },
  {
   "cell_type": "markdown",
   "metadata": {
    "id": "Gp4WUYzGIbnv"
   },
   "source": [
    "```python\n",
    ">>> c = tf.constant([[4.0, 5.0], [10.0, 1.0]])\n",
    "\n",
    ">>> tf.reduce_max(c)\n",
    "<tf.Tensor: shape=(), dtype=float32, numpy=10.0>\n",
    "```"
   ]
  },
  {
   "cell_type": "markdown",
   "metadata": {
    "id": "aPFlVC8DLClr",
    "slideshow": {
     "slide_type": "slide"
    }
   },
   "source": [
    "### 최대 항목의 인덱스 확인"
   ]
  },
  {
   "cell_type": "markdown",
   "metadata": {
    "id": "Gp4WUYzGIbnv"
   },
   "source": [
    "```python\n",
    ">>> c = tf.constant([[4.0, 5.0], [10.0, 1.0]])\n",
    "\n",
    ">>> tf.math.argmax(c)\n",
    "<tf.Tensor: shape=(2,), dtype=int64, numpy=array([1, 0], dtype=int64)>\n",
    "```"
   ]
  },
  {
   "cell_type": "markdown",
   "metadata": {
    "id": "uGcIB1TXLFPG",
    "slideshow": {
     "slide_type": "slide"
    }
   },
   "source": [
    "### `softmax()` 함수"
   ]
  },
  {
   "cell_type": "markdown",
   "metadata": {
    "id": "Gp4WUYzGIbnv"
   },
   "source": [
    "```python\n",
    ">>> c = tf.constant([[4.0, 5.0], [10.0, 1.0]])\n",
    "\n",
    ">>> tf.nn.softmax(c)\n",
    "<tf.Tensor: shape=(2, 2), dtype=float32, numpy=\n",
    "array([[2.6894143e-01, 7.3105860e-01],\n",
    "       [9.9987662e-01, 1.2339458e-04]], dtype=float32)>\n",
    "```"
   ]
  },
  {
   "cell_type": "markdown",
   "metadata": {
    "id": "VA1iadRrSo2l",
    "slideshow": {
     "slide_type": "slide"
    }
   },
   "source": [
    "### 텐서 자동 변환"
   ]
  },
  {
   "cell_type": "markdown",
   "metadata": {},
   "source": [
    "연산 결과는 기본적으로 `tf.Tensor`로 반환된다."
   ]
  },
  {
   "cell_type": "markdown",
   "metadata": {
    "colab": {
     "base_uri": "https://localhost:8080/"
    },
    "id": "_wch0N8xNEt-",
    "outputId": "ec7603f0-78ef-4561-b821-365852e0a76c"
   },
   "source": [
    "```python\n",
    ">>> tf.convert_to_tensor([1,2,3])\n",
    "<tf.Tensor: shape=(3,), dtype=int32, numpy=array([1, 2, 3])>\n",
    "\n",
    ">>> tf.reduce_max([1, 2, 3])\n",
    "<tf.Tensor: shape=(), dtype=int32, numpy=3>\n",
    "\n",
    ">>> tf.math.argmax([1, 2, 3])\n",
    "<tf.Tensor: shape=(), dtype=int64, numpy=2>\n",
    "\n",
    ">>> tf.nn.softmax(np.array([1.0, 12.0, 33.0]))\n",
    "<tf.Tensor: shape=(3,), dtype=float64, numpy=array([1.26641655e-14, 7.58256042e-10, 9.99999999e-01])>\n",
    "```"
   ]
  },
  {
   "cell_type": "markdown",
   "metadata": {
    "id": "NvSAbowVVuRr",
    "slideshow": {
     "slide_type": "slide"
    }
   },
   "source": [
    "## 텐서의 모양, 랭크, 축, 크기"
   ]
  },
  {
   "cell_type": "markdown",
   "metadata": {
    "id": "hkaBIqkTCcGY"
   },
   "source": [
    "넘파이 어레이의 경우와 동일하다."
   ]
  },
  {
   "cell_type": "markdown",
   "metadata": {
    "id": "hkaBIqkTCcGY"
   },
   "source": [
    "- **모양**: 텐서에 사용된 각각의 축에 사용된 항목의 개수로 구성된 벡터\n",
    "- **랭크** 또는 **차원**: 텐서에 사용된 축의 개수\n",
    "    - 스칼라의 랭크는 0,\n",
    "    - 벡터의 랭크는 1,\n",
    "    - 행렬의 랭크는 2.\n",
    "- **축**: 텐서 구성에 사용된 축\n",
    "- **크기**: 텐서에 포함된 항목의 개수"
   ]
  },
  {
   "cell_type": "markdown",
   "metadata": {
    "id": "VFOyG2tn8LhW",
    "slideshow": {
     "slide_type": "slide"
    }
   },
   "source": [
    "### 랭크-4 텐서 이해"
   ]
  },
  {
   "cell_type": "markdown",
   "metadata": {
    "colab": {
     "base_uri": "https://localhost:8080/"
    },
    "id": "RyD3yewUKdnK",
    "outputId": "214977bd-6a3a-496e-d204-d370683d5b7c"
   },
   "source": [
    "```python\n",
    "rank_4_tensor = tf.zeros([3, 2, 4, 5])\n",
    "```"
   ]
  },
  {
   "cell_type": "markdown",
   "metadata": {
    "id": "oTZZW9ziq4og"
   },
   "source": [
    "<table>\n",
    "<tr>\n",
    "    <td> <img src=\"https://raw.githubusercontent.com/tensorflow/docs/master/site/en/guide/images/tensor/shape.png\" alt=\"A tensor shape is like a vector.\">     </td>\n",
    "    <td><img src=\"https://raw.githubusercontent.com/tensorflow/docs/master/site/en/guide/images/tensor/shape2.png\"></td>\n",
    "    <td> <img src=\"https://raw.githubusercontent.com/tensorflow/docs/master/site/en/guide/images/tensor/4-axis_block.png\" alt=\"A 4-axis tensor\">   </td>\n",
    "  </tr>\n",
    "</table>"
   ]
  },
  {
   "cell_type": "markdown",
   "metadata": {
    "colab": {
     "base_uri": "https://localhost:8080/"
    },
    "id": "MHm9vSqogsBk",
    "outputId": "a5c5fcfe-8c49-45d9-9b5a-ce5566fe4187",
    "slideshow": {
     "slide_type": "slide"
    }
   },
   "source": [
    "```python\n",
    ">>> rank_4_tensor.dtype\n",
    "tf.float32\n",
    "\n",
    ">>> rank_4_tensor.ndim\n",
    "4\n",
    "\n",
    ">>> rank_4_tensor.shape\n",
    "TensorShape([3, 2, 4, 5])\n",
    "\n",
    ">>> rank_4_tensor.shape[0]\n",
    "3\n",
    "\n",
    ">>> rank_4_tensor.shape[-1]\n",
    "5\n",
    "\n",
    ">>> tf.size(rank_4_tensor)\n",
    "<tf.Tensor: shape=(), dtype=int32, numpy=120>\n",
    "\n",
    ">>> tf.rank(rank_4_tensor)\n",
    "<tf.Tensor: shape=(), dtype=int32, numpy=4>\n",
    "\n",
    ">>> tf.shape(rank_4_tensor)\n",
    "<tf.Tensor: shape=(4,), dtype=int32, numpy=array([3, 2, 4, 5])>\n",
    "```"
   ]
  },
  {
   "cell_type": "markdown",
   "metadata": {
    "id": "FlPoVvJS75Bb",
    "slideshow": {
     "slide_type": "slide"
    }
   },
   "source": [
    "## 인덱싱/슬라이싱"
   ]
  },
  {
   "cell_type": "markdown",
   "metadata": {
    "id": "P45TwSUVSK6G"
   },
   "source": [
    "넘파이 어레이의 경우와 동일하다."
   ]
  },
  {
   "cell_type": "markdown",
   "metadata": {
    "colab": {
     "base_uri": "https://localhost:8080/"
    },
    "id": "GuLoMoCVSLxK",
    "outputId": "e163ed59-20ad-424b-d436-de9ef47e9c43"
   },
   "source": [
    "```python\n",
    ">>> rank_3_tensor[:, :, 4]\n",
    "<tf.Tensor: shape=(3, 2), dtype=int32, numpy=\n",
    "array([[ 4,  9],\n",
    "       [14, 19],\n",
    "       [24, 29]])>\n",
    "```"
   ]
  },
  {
   "cell_type": "markdown",
   "metadata": {
    "id": "9NgmHq27TJOE"
   },
   "source": [
    "<table>\n",
    "<tr>\n",
    "    <td> <img src=\"https://raw.githubusercontent.com/tensorflow/docs/master/site/en/guide/images/tensor/index1.png\" style=\"width:350px;\">   </td>\n",
    "      <td> <img src=\"https://raw.githubusercontent.com/tensorflow/docs/master/site/en/guide/images/tensor/index2.png\" style=\"width:160px;\">   </td>\n",
    "</tr>\n",
    "</table>"
   ]
  },
  {
   "cell_type": "markdown",
   "metadata": {
    "id": "fpr7R0t4SVb0",
    "slideshow": {
     "slide_type": "slide"
    }
   },
   "source": [
    "## 모양 변환"
   ]
  },
  {
   "cell_type": "markdown",
   "metadata": {
    "id": "yszRB8MZc9dY",
    "slideshow": {
     "slide_type": "slide"
    }
   },
   "source": [
    "### 항목 저장 순서"
   ]
  },
  {
   "cell_type": "markdown",
   "metadata": {
    "colab": {
     "base_uri": "https://localhost:8080/"
    },
    "id": "7kMfM0RpUgI8",
    "outputId": "f61797b3-de9f-4aba-cc97-0183c291e80f",
    "slideshow": {
     "slide_type": ""
    }
   },
   "source": [
    "```python\n",
    ">>> rank_3_tensor\n",
    "```"
   ]
  },
  {
   "cell_type": "markdown",
   "metadata": {
    "id": "bQmE_Vx5JilS",
    "slideshow": {
     "slide_type": ""
    }
   },
   "source": [
    "<div align=\"center\"><img src=\"https://raw.githubusercontent.com/tensorflow/docs/master/site/en/guide/images/tensor/index1.png\" style=\"width:400px;\"></div>\n"
   ]
  },
  {
   "cell_type": "markdown",
   "metadata": {
    "colab": {
     "base_uri": "https://localhost:8080/"
    },
    "id": "COnHEPuaWDQp",
    "outputId": "8f909735-5341-4513-8385-75785417fd82"
   },
   "source": [
    "```python\n",
    ">>> tf.reshape(rank_3_tensor, [-1])\n",
    "<tf.Tensor: shape=(30,), dtype=int32, numpy=\n",
    "array([ 0,  1,  2,  3,  4,  5,  6,  7,  8,  9, 10, 11, 12, 13, 14, 15, 16,\n",
    "       17, 18, 19, 20, 21, 22, 23, 24, 25, 26, 27, 28, 29])>\n",
    "```"
   ]
  },
  {
   "cell_type": "markdown",
   "metadata": {
    "id": "rrhT4dcXfQfK",
    "slideshow": {
     "slide_type": "slide"
    }
   },
   "source": [
    "### 축의 순서를 고려하는 좋은 모양 변환"
   ]
  },
  {
   "cell_type": "markdown",
   "metadata": {},
   "source": [
    "전체 항목의 수를 유지하면서 축별 길이를 고려하는 모양 변환이 유용하다."
   ]
  },
  {
   "cell_type": "markdown",
   "metadata": {
    "colab": {
     "base_uri": "https://localhost:8080/"
    },
    "id": "P5ZGVWXpgH7R",
    "outputId": "bdb3f4af-6fd5-40d3-c723-c5d3801d2296",
    "slideshow": {
     "slide_type": ""
    }
   },
   "source": [
    "```python\n",
    ">>> tf.reshape(rank_3_tensor, [3*2, 5])\n",
    "<tf.Tensor: shape=(6, 5), dtype=int32, numpy=\n",
    "array([[ 0,  1,  2,  3,  4],\n",
    "       [ 5,  6,  7,  8,  9],\n",
    "       [10, 11, 12, 13, 14],\n",
    "       [15, 16, 17, 18, 19],\n",
    "       [20, 21, 22, 23, 24],\n",
    "       [25, 26, 27, 28, 29]])>\n",
    "```"
   ]
  },
  {
   "cell_type": "markdown",
   "metadata": {
    "id": "6ZsZRUhihlDB"
   },
   "source": [
    "<table>\n",
    "<tr>\n",
    "  <td> <img src=\"https://raw.githubusercontent.com/tensorflow/docs/master/site/en/guide/images/tensor/reshape-before.png\" style=\"width:350px;\">   </td>\n",
    "  <td> <img src=\"https://raw.githubusercontent.com/tensorflow/docs/master/site/en/guide/images/tensor/reshape-good2.png\" style=\"width:270px;\">   </td>\n",
    "</tr>\n",
    "</table>\n"
   ]
  },
  {
   "cell_type": "markdown",
   "metadata": {
    "slideshow": {
     "slide_type": "slide"
    }
   },
   "source": [
    "-1은 나머지 항목수를 자동으로 정하라는 의미이다."
   ]
  },
  {
   "cell_type": "markdown",
   "metadata": {
    "colab": {
     "base_uri": "https://localhost:8080/"
    },
    "id": "zP2Iqc7zWu_J",
    "outputId": "12b53d89-b3ff-43c7-cb65-70f95e90a44a",
    "slideshow": {
     "slide_type": ""
    }
   },
   "source": [
    "```python\n",
    ">>> tf.reshape(rank_3_tensor, [3, -1])\n",
    "<tf.Tensor: shape=(3, 10), dtype=int32, numpy=\n",
    "array([[ 0,  1,  2,  3,  4,  5,  6,  7,  8,  9],\n",
    "       [10, 11, 12, 13, 14, 15, 16, 17, 18, 19],\n",
    "       [20, 21, 22, 23, 24, 25, 26, 27, 28, 29]])>\n",
    "```"
   ]
  },
  {
   "cell_type": "markdown",
   "metadata": {
    "id": "6ZsZRUhihlDB"
   },
   "source": [
    "<table>\n",
    "<tr>\n",
    "  <td> <img src=\"https://raw.githubusercontent.com/tensorflow/docs/master/site/en/guide/images/tensor/reshape-before.png\" style=\"width:350px;\">   </td>\n",
    "  <td>   <img src=\"https://raw.githubusercontent.com/tensorflow/docs/master/site/en/guide/images/tensor/reshape-good1.png\" style=\"width:450px;\">   </td>\n",
    "</tr>\n",
    "</table>\n"
   ]
  },
  {
   "cell_type": "markdown",
   "metadata": {
    "id": "OlSRiTpUgnPX",
    "slideshow": {
     "slide_type": "slide"
    }
   },
   "source": [
    "### 축의 순서를 고려하지 않는 나쁜 모양 변환"
   ]
  },
  {
   "cell_type": "markdown",
   "metadata": {},
   "source": [
    "전체 항목의 수 또는 축별 크기를 고려하지 않는 모양 변환은 의미가 없다."
   ]
  },
  {
   "cell_type": "markdown",
   "metadata": {
    "colab": {
     "base_uri": "https://localhost:8080/"
    },
    "id": "I9qDL_8u7cBH",
    "outputId": "7ca7e52d-d937-48d0-acd8-24a2c392862a"
   },
   "source": [
    "```python\n",
    ">>> tf.reshape(rank_3_tensor, [2, 3, 5])\n",
    "\n",
    ">>> tf.reshape(rank_3_tensor, [5, 6])\n",
    "\n",
    ">>> try:\n",
    "...   tf.reshape(rank_3_tensor, [7, -1])\n",
    "... except Exception as e:\n",
    "...   print(f\"{type(e).__name__}: {e}\")\n",
    "```"
   ]
  },
  {
   "cell_type": "markdown",
   "metadata": {
    "id": "qTM9-5eh68oo"
   },
   "source": [
    "<table>\n",
    "<tr>\n",
    "  <td> <img src=\"https://raw.githubusercontent.com/tensorflow/docs/master/site/en/guide/images/tensor/reshape-bad.png\" alt=\"You can't reorder axes, use tf.transpose for that\">   </td>\n",
    "  <td> <img src=\"https://raw.githubusercontent.com/tensorflow/docs/master/site/en/guide/images/tensor/reshape-bad4.png\" alt=\"Anything that mixes the slices of data together is probably wrong.\">   </td>\n",
    "  <td> <img src=\"https://raw.githubusercontent.com/tensorflow/docs/master/site/en/guide/images/tensor/reshape-bad2.png\" alt=\"The new shape must fit exactly.\">   </td>\n",
    "</tr>\n",
    "</table>"
   ]
  },
  {
   "cell_type": "markdown",
   "metadata": {
    "id": "fDmFtFM7k0R2",
    "slideshow": {
     "slide_type": "slide"
    }
   },
   "source": [
    "## 텐서 항목의 자료형(`dtype`) 변환"
   ]
  },
  {
   "cell_type": "markdown",
   "metadata": {},
   "source": [
    "생성된 텐서 항목의 자료형을 임의로 지정할 수 있다."
   ]
  },
  {
   "cell_type": "markdown",
   "metadata": {
    "colab": {
     "base_uri": "https://localhost:8080/"
    },
    "id": "5mSTDWbelUvu",
    "outputId": "5674f742-13f1-44b0-ef98-f208969f5c01"
   },
   "source": [
    "```python\n",
    ">>> the_f64_tensor = tf.constant([2.2, 3.3, 4.4], dtype=tf.float64)\n",
    ">>> the_f64_tensor\n",
    "<tf.Tensor: shape=(3,), dtype=float64, numpy=array([2.2, 3.3, 4.4])>\n",
    "\n",
    ">>> the_f16_tensor = tf.cast(the_f64_tensor, dtype=tf.float16)\n",
    ">>> the_f16_tensor\n",
    "<tf.Tensor: shape=(3,), dtype=float16, numpy=array([2.2, 3.3, 4.4], dtype=float16)>\n",
    "\n",
    ">>> the_u8_tensor = tf.cast(the_f16_tensor, dtype=tf.uint8)\n",
    ">>> the_u8_tensor\n",
    "<tf.Tensor: shape=(3,), dtype=uint8, numpy=array([2, 3, 4], dtype=uint8)>\n",
    "```"
   ]
  },
  {
   "cell_type": "markdown",
   "metadata": {
    "id": "s1yBlJsVlFSu",
    "slideshow": {
     "slide_type": "slide"
    }
   },
   "source": [
    "## 브로드캐스팅"
   ]
  },
  {
   "cell_type": "markdown",
   "metadata": {
    "id": "c61O2XHQCpPw"
   },
   "source": [
    "넘파이 어레이의 경우와 동일하게 작동한다."
   ]
  },
  {
   "cell_type": "markdown",
   "metadata": {
    "id": "P8sypqmagHQN"
   },
   "source": [
    "```python\n",
    ">>> x = tf.constant([1, 2, 3])\n",
    ">>> y = tf.constant(2)\n",
    ">>> z = tf.constant([2, 2, 2])\n",
    "\n",
    ">>> tf.multiply(x, 2)\n",
    "tf.Tensor([2 4 6], shape=(3,), dtype=int32)\n",
    "\n",
    ">>> x * y\n",
    "tf.Tensor([2 4 6], shape=(3,), dtype=int32)\n",
    "\n",
    ">>> x * z\n",
    "tf.Tensor([2 4 6], shape=(3,), dtype=int32)\n",
    "```"
   ]
  },
  {
   "cell_type": "markdown",
   "metadata": {
    "colab": {
     "base_uri": "https://localhost:8080/"
    },
    "id": "6sGmkPg3XANr",
    "outputId": "31c39721-28f6-4e25-93fb-894c8df84a93",
    "slideshow": {
     "slide_type": "slide"
    }
   },
   "source": [
    "```python\n",
    ">>> x = tf.reshape(x,[3,1])\n",
    ">>> y = tf.range(1, 5)\n",
    "\n",
    ">>> x * y\n",
    "<tf.Tensor: shape=(3, 4), dtype=int32, numpy=\n",
    "array([[ 1,  2,  3,  4],\n",
    "       [ 2,  4,  6,  8],\n",
    "       [ 3,  6,  9, 12]])>\n",
    "```"
   ]
  },
  {
   "cell_type": "markdown",
   "metadata": {
    "id": "t_7sh-EUYLrE"
   },
   "source": [
    "<table>\n",
    "<tr>\n",
    "  <td> <img src=\"https://raw.githubusercontent.com/tensorflow/docs/master/site/en/guide/images/tensor/broadcasting.png\" style=\"width:350px;\">   </td>\n",
    "</tr>\n",
    "</table>\n"
   ]
  },
  {
   "cell_type": "markdown",
   "metadata": {
    "id": "cJxeYjZwRUSh",
    "slideshow": {
     "slide_type": "slide"
    }
   },
   "source": [
    "## 다양한 종류의 텐서"
   ]
  },
  {
   "cell_type": "markdown",
   "metadata": {
    "id": "05bBVBVYV0y6",
    "slideshow": {
     "slide_type": "slide"
    }
   },
   "source": [
    "### 비정형 텐서"
   ]
  },
  {
   "cell_type": "markdown",
   "metadata": {},
   "source": [
    "벡터의 길이가 일정하지 않은 축이 사용되는 텐서를 가리킨다."
   ]
  },
  {
   "cell_type": "markdown",
   "metadata": {
    "id": "VPc3jGoeJqB7"
   },
   "source": [
    "<table>\n",
    "<tr>\n",
    "  <td> <img src=\"https://raw.githubusercontent.com/tensorflow/docs/master/site/en/guide/images/tensor/ragged.png\" style=\"width:200px;\">   </td>\n",
    "</tr>\n",
    "</table>"
   ]
  },
  {
   "cell_type": "markdown",
   "metadata": {
    "id": "VsbTjoFfNVBF",
    "slideshow": {
     "slide_type": ""
    }
   },
   "source": [
    "```python\n",
    ">>> ragged_list = [\n",
    "...     [0, 1, 2, 3],\n",
    "...     [4, 5],\n",
    "...     [6, 7, 8],\n",
    "...     [9]]\n",
    "\n",
    ">>> ragged_tensor = tf.ragged.constant(ragged_list)\n",
    ">>> ragged_tensor\n",
    "<tf.RaggedTensor [[0, 1, 2, 3], [4, 5], [6, 7, 8], [9]]>\n",
    "\n",
    ">>> ragged_tensor.shape\n",
    "(4, None)\n",
    "```"
   ]
  },
  {
   "cell_type": "markdown",
   "metadata": {
    "id": "ua8BnAzxkRKV",
    "slideshow": {
     "slide_type": "slide"
    }
   },
   "source": [
    "### 희소 텐서"
   ]
  },
  {
   "cell_type": "markdown",
   "metadata": {},
   "source": [
    "텐서의 크기가 매우 큰 반면에 0이 아닌 항목의 개수가 상대적으로 적을 때 사용한다."
   ]
  },
  {
   "cell_type": "markdown",
   "metadata": {
    "id": "mS5zgqgUTPRb"
   },
   "source": [
    "<table>\n",
    "<tr>\n",
    "  <td> <img src=\"https://raw.githubusercontent.com/tensorflow/docs/master/site/en/guide/images/tensor/sparse.png\" style=\"width:200px;\">   </td>\n",
    "</tr>\n",
    "</table>"
   ]
  },
  {
   "cell_type": "markdown",
   "metadata": {
    "colab": {
     "base_uri": "https://localhost:8080/"
    },
    "id": "B9nbO1E2kSUN",
    "outputId": "10f6f9b1-f3ad-4878-dd96-a283a65e1d4d"
   },
   "source": [
    "```python\n",
    ">>> sparse_tensor = tf.sparse.SparseTensor(indices=[[0, 0], [1, 2]],\n",
    "...                                        values=[1, 2],\n",
    "...                                        dense_shape=[3, 4])\n",
    "\n",
    ">>> sparse_tensor\n",
    "SparseTensor(indices=tf.Tensor(\n",
    "[[0 0]\n",
    " [1 2]], shape=(2, 2), dtype=int64), values=tf.Tensor([1 2], shape=(2,), dtype=int32), dense_shape=tf.Tensor([3 4], shape=(2,), dtype=int64))\n",
    "```"
   ]
  },
  {
   "cell_type": "markdown",
   "metadata": {
    "id": "XY5k5kKqf-ST",
    "slideshow": {
     "slide_type": "slide"
    }
   },
   "source": [
    "### 밀집 텐서 대 희소 텐서"
   ]
  },
  {
   "cell_type": "markdown",
   "metadata": {},
   "source": [
    "필요에 따라 자동으로 변환되지만 지정할 수도 있다."
   ]
  },
  {
   "cell_type": "markdown",
   "metadata": {
    "colab": {
     "base_uri": "https://localhost:8080/"
    },
    "id": "CpRtagaZf5D5",
    "outputId": "7ba6bb76-fbe5-4e76-e30c-01c9be59eaf2"
   },
   "source": [
    "```python\n",
    ">>> dense_tensor = tf.sparse.to_dense(sparse_tensor)\n",
    "\n",
    ">>> dense_tensor\n",
    "<tf.Tensor: shape=(3, 4), dtype=int32, numpy=\n",
    "array([[1, 0, 0, 0],\n",
    "       [0, 0, 2, 0],\n",
    "       [0, 0, 0, 0]])>\n",
    "\n",
    "\n",
    ">>> tf.sparse.from_dense(dense_tensor)\n",
    "SparseTensor(indices=tf.Tensor(\n",
    "[[0 0]\n",
    " [1 2]], shape=(2, 2), dtype=int64), values=tf.Tensor([1 2], shape=(2,), dtype=int32), dense_shape=tf.Tensor([3 4], shape=(2,), dtype=int64))\n",
    "```"
   ]
  }
 ],
 "metadata": {
  "celltoolbar": "Slideshow",
  "colab": {
   "collapsed_sections": [
    "Tce3stUlHN0L"
   ],
   "provenance": []
  },
  "kernelspec": {
   "display_name": "Python 3 (ipykernel)",
   "language": "python",
   "name": "python3"
  },
  "language_info": {
   "codemirror_mode": {
    "name": "ipython",
    "version": 3
   },
   "file_extension": ".py",
   "mimetype": "text/x-python",
   "name": "python",
   "nbconvert_exporter": "python",
   "pygments_lexer": "ipython3",
   "version": "3.12.2"
  }
 },
 "nbformat": 4,
 "nbformat_minor": 1
}
