{
 "cells": [
  {
   "cell_type": "markdown",
   "metadata": {
    "id": "qFdPvlXBOdUN",
    "slideshow": {
     "slide_type": "slide"
    }
   },
   "source": [
    "# 부록: 텐서플로우 텐서"
   ]
  },
  {
   "cell_type": "markdown",
   "metadata": {
    "slideshow": {
     "slide_type": "slide"
    }
   },
   "source": [
    "## 종류"
   ]
  },
  {
   "cell_type": "markdown",
   "metadata": {},
   "source": [
    "- `tensorflow.Tensor`"
   ]
  },
  {
   "cell_type": "markdown",
   "metadata": {},
   "source": [
    "- `tensorflow.Variable`"
   ]
  },
  {
   "cell_type": "markdown",
   "metadata": {
    "slideshow": {
     "slide_type": "slide"
    }
   },
   "source": [
    "### `tensorflow.Tensor` 자료형"
   ]
  },
  {
   "cell_type": "markdown",
   "metadata": {
    "id": "VQ3s2J8Vgowq"
   },
   "source": [
    "- 텐서플로우 라이브러리가 제공하는 텐서 자료형"
   ]
  },
  {
   "cell_type": "markdown",
   "metadata": {
    "id": "VQ3s2J8Vgowq"
   },
   "source": [
    "- `np.ndarray`와 매우 유사"
   ]
  },
  {
   "cell_type": "markdown",
   "metadata": {
    "id": "VQ3s2J8Vgowq"
   },
   "source": [
    "- 하지만 항목을 수정할 수 없는 불변 자료형"
   ]
  },
  {
   "cell_type": "markdown",
   "metadata": {
    "slideshow": {
     "slide_type": "slide"
    }
   },
   "source": [
    "### `tf.Variable` 자료형"
   ]
  },
  {
   "cell_type": "markdown",
   "metadata": {
    "slideshow": {
     "slide_type": ""
    }
   },
   "source": [
    "- 모델 훈련에 사용되는 가변 자료형 텐서    "
   ]
  },
  {
   "cell_type": "markdown",
   "metadata": {},
   "source": [
    "- 가중치와 편향 텐서 등 값이 변하는 값들을 다루는 텐서"
   ]
  },
  {
   "cell_type": "markdown",
   "metadata": {},
   "source": [
    "- 기타 성질은 `tf.Tensor` 와 동일."
   ]
  },
  {
   "cell_type": "markdown",
   "metadata": {},
   "source": [
    "- 다음 장에서 활용법 소개"
   ]
  },
  {
   "cell_type": "markdown",
   "metadata": {
    "id": "uSHRFT6LJbxq",
    "slideshow": {
     "slide_type": "slide"
    }
   },
   "source": [
    "### 스칼라: 랭크-0 텐서"
   ]
  },
  {
   "cell_type": "markdown",
   "metadata": {},
   "source": [
    "```python\n",
    ">>> import tensorflow as tf\n",
    ">>> import numpy as np\n",
    "\n",
    ">>> rank_0_tensor = tf.constant(4)\n",
    ">>> print(rank_0_tensor)\n",
    "tf.Tensor(4, shape=(), dtype=int32)\n",
    "\n",
    ">>> rank_0_tensor.shape\n",
    "TensorShape([])\n",
    "```"
   ]
  },
  {
   "cell_type": "markdown",
   "metadata": {
    "id": "tdmPAn9fWYs5",
    "slideshow": {
     "slide_type": "slide"
    }
   },
   "source": [
    "### 벡터: 랭크-1 텐서"
   ]
  },
  {
   "cell_type": "markdown",
   "metadata": {
    "colab": {
     "base_uri": "https://localhost:8080/"
    },
    "id": "oZos8o_R6oE7",
    "outputId": "dd6b1d32-0a05-49e5-a63d-a738306faf73"
   },
   "source": [
    "```python\n",
    ">>> rank_1_tensor = tf.constant([2.0, 3.0, 4.0])\n",
    ">>> print(rank_1_tensor)\n",
    "tf.Tensor([2. 3. 4.], shape=(3,), dtype=float32)\n",
    "\n",
    ">>> rank_1_tensor.shape\n",
    "TensorShape([3])\n",
    "```"
   ]
  },
  {
   "cell_type": "markdown",
   "metadata": {
    "id": "G3IJG-ug_H4u",
    "slideshow": {
     "slide_type": "slide"
    }
   },
   "source": [
    "### 행렬: 랭크-2 텐서"
   ]
  },
  {
   "cell_type": "markdown",
   "metadata": {
    "colab": {
     "base_uri": "https://localhost:8080/"
    },
    "id": "cnOIA_xb6u0M",
    "outputId": "78b93a9c-f30c-42ab-d06f-3ac7095c2afa"
   },
   "source": [
    "```python\n",
    ">>> rank_2_tensor = tf.constant([[1, 2],\n",
    "...                             [3, 4],\n",
    "...                             [5, 6]], dtype=tf.float16)\n",
    ">>> print(rank_2_tensor)\n",
    "tf.Tensor(\n",
    "[[1. 2.]\n",
    " [3. 4.]\n",
    " [5. 6.]], shape=(3, 2), dtype=float16)\n",
    "\n",
    ">>> rank_2_tensor.shape\n",
    "TensorShape([3, 2])\n",
    "```"
   ]
  },
  {
   "cell_type": "markdown",
   "metadata": {
    "id": "fjFvzcn4_ehD",
    "slideshow": {
     "slide_type": "slide"
    }
   },
   "source": [
    "### 랭크-3 텐서"
   ]
  },
  {
   "cell_type": "markdown",
   "metadata": {
    "colab": {
     "base_uri": "https://localhost:8080/"
    },
    "id": "sesW7gw6JkXy",
    "outputId": "ce17e556-cb90-41e5-8016-7adbf45a1e28"
   },
   "source": [
    "```python\n",
    ">>> rank_3_tensor = tf.constant([\n",
    "...   [[0, 1, 2, 3, 4],\n",
    "...    [5, 6, 7, 8, 9]],\n",
    "...   [[10, 11, 12, 13, 14],\n",
    "...    [15, 16, 17, 18, 19]],\n",
    "...   [[20, 21, 22, 23, 24],\n",
    "...    [25, 26, 27, 28, 29]]\n",
    "...   ])\n",
    "\n",
    ">>> print(rank_3_tensor)\n",
    "tf.Tensor(\n",
    "[[[ 0  1  2  3  4]\n",
    "  [ 5  6  7  8  9]]\n",
    "\n",
    " [[10 11 12 13 14]\n",
    "  [15 16 17 18 19]]\n",
    "\n",
    " [[20 21 22 23 24]\n",
    "  [25 26 27 28 29]]], shape=(3, 2, 5), dtype=int32)\n",
    "\n",
    ">>> rank_3_tensor.shape\n",
    "TensorShape([3, 2, 5])\n",
    "```"
   ]
  },
  {
   "cell_type": "markdown",
   "metadata": {
    "id": "rM2sTGIkoE3S",
    "slideshow": {
     "slide_type": "slide"
    }
   },
   "source": [
    "### 랭크-3 텐서 이해 방식"
   ]
  },
  {
   "cell_type": "markdown",
   "metadata": {
    "id": "NFiYfNMMhDgL"
   },
   "source": [
    "<table>\n",
    "<tr>\n",
    "  <th colspan=\"3\">rank_3_tensor의 모양: <code>[3, 2, 5]</code> </th>\n",
    "</tr>\n",
    "<tr>\n",
    "</tr>\n",
    "<tr>\n",
    "  <td>    <img src=\"https://raw.githubusercontent.com/tensorflow/docs/master/site/en/guide/images/tensor/3-axis_numpy.png\">   </td>\n",
    "  <td>    <img src=\"https://raw.githubusercontent.com/tensorflow/docs/master/site/en/guide/images/tensor/3-axis_front.png\">   </td>\n",
    "  <td>    <img src=\"https://raw.githubusercontent.com/tensorflow/docs/master/site/en/guide/images/tensor/3-axis_block.png\">   </td>\n",
    "</tr>\n",
    "</table>"
   ]
  },
  {
   "cell_type": "markdown",
   "metadata": {
    "id": "UVEXofKY4aQA",
    "slideshow": {
     "slide_type": "slide"
    }
   },
   "source": [
    "### 넘파이 어레이로의 변환"
   ]
  },
  {
   "cell_type": "markdown",
   "metadata": {
    "colab": {
     "base_uri": "https://localhost:8080/"
    },
    "id": "J5u6_6ZYaS7B",
    "outputId": "b31af307-4585-4e78-8676-1f0425e2a772"
   },
   "source": [
    "```python\n",
    ">>> np.array(rank_2_tensor)\n",
    "array([[1., 2.],\n",
    "       [3., 4.],\n",
    "       [5., 6.]], dtype=float16)\n",
    "```"
   ]
  },
  {
   "cell_type": "markdown",
   "metadata": {},
   "source": [
    "또는"
   ]
  },
  {
   "cell_type": "markdown",
   "metadata": {
    "colab": {
     "base_uri": "https://localhost:8080/"
    },
    "id": "J5u6_6ZYaS7B",
    "outputId": "b31af307-4585-4e78-8676-1f0425e2a772"
   },
   "source": [
    "```python\n",
    ">>> rank_2_tensor.numpy()\n",
    "array([[1., 2.],\n",
    "       [3., 4.],\n",
    "       [5., 6.]], dtype=float16)\n",
    "```"
   ]
  },
  {
   "cell_type": "markdown",
   "metadata": {
    "id": "iC4qi08M6ECo",
    "slideshow": {
     "slide_type": "slide"
    }
   },
   "source": [
    "## 텐서 연산"
   ]
  },
  {
   "cell_type": "markdown",
   "metadata": {
    "slideshow": {
     "slide_type": "slide"
    }
   },
   "source": [
    "### 항목별 덧셈"
   ]
  },
  {
   "cell_type": "markdown",
   "metadata": {
    "id": "-DTkjwDOIIDa"
   },
   "source": [
    "```python\n",
    ">>> a = tf.constant([[1, 2],\n",
    "...                  [3, 4]])\n",
    ">>> b = tf.ones([2,2])\n",
    "\n",
    ">>> tf.add(a, b)\n",
    "<tf.Tensor: shape=(2, 2), dtype=int32, numpy=\n",
    "array([[2, 3],\n",
    "       [4, 5]])>\n",
    "```"
   ]
  },
  {
   "cell_type": "markdown",
   "metadata": {},
   "source": [
    "또는"
   ]
  },
  {
   "cell_type": "markdown",
   "metadata": {
    "colab": {
     "base_uri": "https://localhost:8080/"
    },
    "id": "rVwcWTZVIaWs",
    "outputId": "b87abb85-f72d-4857-9662-f1dec7326949"
   },
   "source": [
    "```python\n",
    ">>> a + b\n",
    "<tf.Tensor: shape=(2, 2), dtype=int32, numpy=\n",
    "array([[2, 3],\n",
    "       [4, 5]])>\n",
    "```"
   ]
  },
  {
   "cell_type": "markdown",
   "metadata": {
    "slideshow": {
     "slide_type": "slide"
    }
   },
   "source": [
    "### 항목별 곱셈"
   ]
  },
  {
   "cell_type": "markdown",
   "metadata": {
    "id": "-DTkjwDOIIDa"
   },
   "source": [
    "```python\n",
    ">>> a = tf.constant([[1, 2],\n",
    "...                  [3, 4]])\n",
    ">>> b = tf.ones([2,2])\n",
    "\n",
    ">>> tf.multiply(a, b)\n",
    "<tf.Tensor: shape=(2, 2), dtype=int32, numpy=\n",
    "array([[1, 2],\n",
    "       [3, 4]])>\n",
    "```"
   ]
  },
  {
   "cell_type": "markdown",
   "metadata": {},
   "source": [
    "또는"
   ]
  },
  {
   "cell_type": "markdown",
   "metadata": {},
   "source": [
    "```python\n",
    ">>> a * b\n",
    "<tf.Tensor: shape=(2, 2), dtype=int32, numpy=\n",
    "array([[1, 2],\n",
    "       [3, 4]])>\n",
    "```"
   ]
  },
  {
   "cell_type": "markdown",
   "metadata": {
    "id": "cICxfBgbJCzT",
    "slideshow": {
     "slide_type": "slide"
    }
   },
   "source": [
    "### 행렬 연산"
   ]
  },
  {
   "cell_type": "markdown",
   "metadata": {
    "id": "-DTkjwDOIIDa"
   },
   "source": [
    "```python\n",
    ">>> a = tf.constant([[1, 2],\n",
    "...                  [3, 4]])\n",
    ">>> b = tf.ones([2,2])\n",
    "\n",
    ">>> tf.matmul(a, b)\n",
    "<tf.Tensor: shape=(2, 2), dtype=int32, numpy=\n",
    "array([[3, 3],\n",
    "       [7, 7]])>\n",
    "```"
   ]
  },
  {
   "cell_type": "markdown",
   "metadata": {},
   "source": [
    "또는"
   ]
  },
  {
   "cell_type": "markdown",
   "metadata": {
    "id": "-DTkjwDOIIDa"
   },
   "source": [
    "```python\n",
    ">>> a @ b\n",
    "<tf.Tensor: shape=(2, 2), dtype=int32, numpy=\n",
    "array([[3, 3],\n",
    "       [7, 7]])>\n",
    "```"
   ]
  },
  {
   "cell_type": "markdown",
   "metadata": {
    "id": "v9YXrXULK-cO",
    "slideshow": {
     "slide_type": "slide"
    }
   },
   "source": [
    "### 최대 항목 찾기"
   ]
  },
  {
   "cell_type": "markdown",
   "metadata": {
    "id": "Gp4WUYzGIbnv"
   },
   "source": [
    "```python\n",
    ">>> c = tf.constant([[4.0, 5.0], [10.0, 1.0]])\n",
    "\n",
    ">>> tf.reduce_max(c)\n",
    "<tf.Tensor: shape=(), dtype=float32, numpy=10.0>\n",
    "```"
   ]
  },
  {
   "cell_type": "markdown",
   "metadata": {
    "id": "aPFlVC8DLClr",
    "slideshow": {
     "slide_type": "slide"
    }
   },
   "source": [
    "### 최대 항목의 인덱스 확인"
   ]
  },
  {
   "cell_type": "markdown",
   "metadata": {
    "id": "Gp4WUYzGIbnv"
   },
   "source": [
    "```python\n",
    ">>> c = tf.constant([[4.0, 5.0], [10.0, 1.0]])\n",
    "\n",
    ">>> tf.math.argmax(c)\n",
    "<tf.Tensor: shape=(2,), dtype=int64, numpy=array([1, 0], dtype=int64)>\n",
    "```"
   ]
  },
  {
   "cell_type": "markdown",
   "metadata": {
    "id": "uGcIB1TXLFPG",
    "slideshow": {
     "slide_type": "slide"
    }
   },
   "source": [
    "### `softmax()` 함수"
   ]
  },
  {
   "cell_type": "markdown",
   "metadata": {
    "id": "Gp4WUYzGIbnv"
   },
   "source": [
    "```python\n",
    ">>> c = tf.constant([[4.0, 5.0], [10.0, 1.0]])\n",
    "\n",
    ">>> tf.nn.softmax(c)\n",
    "<tf.Tensor: shape=(2, 2), dtype=float32, numpy=\n",
    "array([[2.6894143e-01, 7.3105860e-01],\n",
    "       [9.9987662e-01, 1.2339458e-04]], dtype=float32)>\n",
    "```"
   ]
  },
  {
   "cell_type": "markdown",
   "metadata": {
    "id": "VA1iadRrSo2l",
    "slideshow": {
     "slide_type": "slide"
    }
   },
   "source": [
    "### 텐서 자동 변환"
   ]
  },
  {
   "cell_type": "markdown",
   "metadata": {
    "colab": {
     "base_uri": "https://localhost:8080/"
    },
    "id": "_wch0N8xNEt-",
    "outputId": "ec7603f0-78ef-4561-b821-365852e0a76c"
   },
   "source": [
    "```python\n",
    ">>> tf.convert_to_tensor([1,2,3])\n",
    "<tf.Tensor: shape=(3,), dtype=int32, numpy=array([1, 2, 3])>\n",
    "\n",
    ">>> tf.reduce_max([1, 2, 3])\n",
    "<tf.Tensor: shape=(), dtype=int32, numpy=3>\n",
    "\n",
    ">>> tf.math.argmax([1, 2, 3])\n",
    "<tf.Tensor: shape=(), dtype=int64, numpy=2>\n",
    "\n",
    ">>> tf.nn.softmax(np.array([1.0, 12.0, 33.0]))\n",
    "<tf.Tensor: shape=(3,), dtype=float64, numpy=array([1.26641655e-14, 7.58256042e-10, 9.99999999e-01])>\n",
    "```"
   ]
  },
  {
   "cell_type": "markdown",
   "metadata": {
    "id": "NvSAbowVVuRr",
    "slideshow": {
     "slide_type": "slide"
    }
   },
   "source": [
    "## 텐서의 모양, 랭크, 축, 크기"
   ]
  },
  {
   "cell_type": "markdown",
   "metadata": {
    "id": "hkaBIqkTCcGY"
   },
   "source": [
    "- 넘파이 어레이의 경우와 동일\n",
    "    - **모양**: 텐서에 사용된 각각의 축에 사용된 항목의 개수로 구성된 벡터\n",
    "    - **랭크** 또는 **차원**: 텐서에 사용된 축의 개수\n",
    "        - 스칼라의 랭크는 0,\n",
    "        - 벡터의 랭크는 1,\n",
    "        - 행렬의 랭크는 2.\n",
    "    - **축**: 텐서 구성에 사용된 축\n",
    "    - **크기**: 텐서에 포함된 항목의 개수\n"
   ]
  },
  {
   "cell_type": "markdown",
   "metadata": {
    "id": "VFOyG2tn8LhW",
    "slideshow": {
     "slide_type": "slide"
    }
   },
   "source": [
    "### 랭크-4 텐서 이해"
   ]
  },
  {
   "cell_type": "markdown",
   "metadata": {
    "colab": {
     "base_uri": "https://localhost:8080/"
    },
    "id": "RyD3yewUKdnK",
    "outputId": "214977bd-6a3a-496e-d204-d370683d5b7c"
   },
   "source": [
    "```python\n",
    "rank_4_tensor = tf.zeros([3, 2, 4, 5])\n",
    "```"
   ]
  },
  {
   "cell_type": "markdown",
   "metadata": {
    "id": "oTZZW9ziq4og"
   },
   "source": [
    "<table>\n",
    "<tr>\n",
    "  <td> <img src=\"https://raw.githubusercontent.com/tensorflow/docs/master/site/en/guide/images/tensor/shape.png\" alt=\"A tensor shape is like a vector.\">     </td>\n",
    "<td> <img src=\"https://raw.githubusercontent.com/tensorflow/docs/master/site/en/guide/images/tensor/4-axis_block.png\" alt=\"A 4-axis tensor\">   </td>\n",
    "  </tr>\n",
    "</table>\n"
   ]
  },
  {
   "cell_type": "markdown",
   "metadata": {
    "id": "bQmE_Vx5JilS",
    "slideshow": {
     "slide_type": "slide"
    }
   },
   "source": [
    "<div align=\"center\"><img src=\"https://raw.githubusercontent.com/tensorflow/docs/master/site/en/guide/images/tensor/shape2.png\" style=\"width:300px;\"></div>\n"
   ]
  },
  {
   "cell_type": "markdown",
   "metadata": {
    "colab": {
     "base_uri": "https://localhost:8080/"
    },
    "id": "MHm9vSqogsBk",
    "outputId": "a5c5fcfe-8c49-45d9-9b5a-ce5566fe4187",
    "slideshow": {
     "slide_type": "slide"
    }
   },
   "source": [
    "```python\n",
    ">>> rank_4_tensor.dtype\n",
    "tf.float32\n",
    "\n",
    ">>> rank_4_tensor.ndim\n",
    "4\n",
    "\n",
    ">>> rank_4_tensor.shape\n",
    "TensorShape([3, 2, 4, 5])\n",
    "\n",
    ">>> rank_4_tensor.shape[0]\n",
    "3\n",
    "\n",
    ">>> rank_4_tensor.shape[-1]\n",
    "5\n",
    "\n",
    ">>> tf.size(rank_4_tensor)\n",
    "<tf.Tensor: shape=(), dtype=int32, numpy=120>\n",
    "\n",
    ">>> tf.rank(rank_4_tensor)\n",
    "<tf.Tensor: shape=(), dtype=int32, numpy=4>\n",
    "\n",
    ">>> tf.shape(rank_4_tensor)\n",
    "<tf.Tensor: shape=(4,), dtype=int32, numpy=array([3, 2, 4, 5])>\n",
    "```"
   ]
  },
  {
   "cell_type": "markdown",
   "metadata": {
    "id": "FlPoVvJS75Bb",
    "slideshow": {
     "slide_type": "slide"
    }
   },
   "source": [
    "## 인덱싱/슬라이싱"
   ]
  },
  {
   "cell_type": "markdown",
   "metadata": {
    "id": "P45TwSUVSK6G"
   },
   "source": [
    "- 넘파이 어레이의 경우와 동일"
   ]
  },
  {
   "cell_type": "markdown",
   "metadata": {
    "colab": {
     "base_uri": "https://localhost:8080/"
    },
    "id": "GuLoMoCVSLxK",
    "outputId": "e163ed59-20ad-424b-d436-de9ef47e9c43"
   },
   "source": [
    "```python\n",
    ">>> rank_3_tensor[:, :, 4]\n",
    "<tf.Tensor: shape=(3, 2), dtype=int32, numpy=\n",
    "array([[ 4,  9],\n",
    "       [14, 19],\n",
    "       [24, 29]])>\n",
    "```"
   ]
  },
  {
   "cell_type": "markdown",
   "metadata": {
    "id": "9NgmHq27TJOE"
   },
   "source": [
    "<table>\n",
    "<tr>\n",
    "    <td> <img src=\"https://raw.githubusercontent.com/tensorflow/docs/master/site/en/guide/images/tensor/index1.png\" style=\"width:350px;\">   </td>\n",
    "      <td> <img src=\"https://raw.githubusercontent.com/tensorflow/docs/master/site/en/guide/images/tensor/index2.png\" style=\"width:160px;\">   </td>\n",
    "</tr>\n",
    "</table>"
   ]
  },
  {
   "cell_type": "markdown",
   "metadata": {
    "id": "fpr7R0t4SVb0",
    "slideshow": {
     "slide_type": "slide"
    }
   },
   "source": [
    "## 모양 변환"
   ]
  },
  {
   "cell_type": "markdown",
   "metadata": {
    "id": "yszRB8MZc9dY",
    "slideshow": {
     "slide_type": "slide"
    }
   },
   "source": [
    "### 항목 저장 순서"
   ]
  },
  {
   "cell_type": "markdown",
   "metadata": {
    "colab": {
     "base_uri": "https://localhost:8080/"
    },
    "id": "7kMfM0RpUgI8",
    "outputId": "f61797b3-de9f-4aba-cc97-0183c291e80f"
   },
   "source": [
    "```python\n",
    ">>> rank_3_tensor\n",
    "<tf.Tensor: shape=(3, 2, 5), dtype=int32, numpy=\n",
    "array([[[ 0,  1,  2,  3,  4],\n",
    "        [ 5,  6,  7,  8,  9]],\n",
    "\n",
    "       [[10, 11, 12, 13, 14],\n",
    "        [15, 16, 17, 18, 19]],\n",
    "\n",
    "       [[20, 21, 22, 23, 24],\n",
    "        [25, 26, 27, 28, 29]]])>\n",
    "```"
   ]
  },
  {
   "cell_type": "markdown",
   "metadata": {
    "id": "bQmE_Vx5JilS",
    "slideshow": {
     "slide_type": "slide"
    }
   },
   "source": [
    "<div align=\"center\"><img src=\"https://raw.githubusercontent.com/tensorflow/docs/master/site/en/guide/images/tensor/index1.png\" style=\"width:350px;\"></div>\n"
   ]
  },
  {
   "cell_type": "markdown",
   "metadata": {
    "colab": {
     "base_uri": "https://localhost:8080/"
    },
    "id": "COnHEPuaWDQp",
    "outputId": "8f909735-5341-4513-8385-75785417fd82"
   },
   "source": [
    "```python\n",
    ">>> tf.reshape(rank_3_tensor, [-1])\n",
    "<tf.Tensor: shape=(30,), dtype=int32, numpy=\n",
    "array([ 0,  1,  2,  3,  4,  5,  6,  7,  8,  9, 10, 11, 12, 13, 14, 15, 16,\n",
    "       17, 18, 19, 20, 21, 22, 23, 24, 25, 26, 27, 28, 29])>\n",
    "```"
   ]
  },
  {
   "cell_type": "markdown",
   "metadata": {
    "id": "rrhT4dcXfQfK",
    "slideshow": {
     "slide_type": "slide"
    }
   },
   "source": [
    "### 축의 순서를 고려하는 좋은 모양 변환"
   ]
  },
  {
   "cell_type": "markdown",
   "metadata": {
    "id": "FobxFt2PgDIz",
    "slideshow": {
     "slide_type": ""
    }
   },
   "source": [
    "- `3x2x5` 텐서 => `(3x2)x5` 텐서"
   ]
  },
  {
   "cell_type": "markdown",
   "metadata": {
    "colab": {
     "base_uri": "https://localhost:8080/"
    },
    "id": "P5ZGVWXpgH7R",
    "outputId": "bdb3f4af-6fd5-40d3-c723-c5d3801d2296"
   },
   "source": [
    "```python\n",
    ">>> tf.reshape(rank_3_tensor, [3*2, 5])\n",
    "<tf.Tensor: shape=(6, 5), dtype=int32, numpy=\n",
    "array([[ 0,  1,  2,  3,  4],\n",
    "       [ 5,  6,  7,  8,  9],\n",
    "       [10, 11, 12, 13, 14],\n",
    "       [15, 16, 17, 18, 19],\n",
    "       [20, 21, 22, 23, 24],\n",
    "       [25, 26, 27, 28, 29]])>\n",
    "```"
   ]
  },
  {
   "cell_type": "markdown",
   "metadata": {
    "id": "6ZsZRUhihlDB"
   },
   "source": [
    "<table>\n",
    "<tr>\n",
    "  <td> <img src=\"https://raw.githubusercontent.com/tensorflow/docs/master/site/en/guide/images/tensor/reshape-before.png\" style=\"width:350px;\">   </td>\n",
    "  <td> <img src=\"https://raw.githubusercontent.com/tensorflow/docs/master/site/en/guide/images/tensor/reshape-good2.png\" style=\"width:270px;\">   </td>\n",
    "</tr>\n",
    "</table>\n"
   ]
  },
  {
   "cell_type": "markdown",
   "metadata": {
    "id": "8mKoP_r9gTFS",
    "slideshow": {
     "slide_type": "slide"
    }
   },
   "source": [
    "- `3x2x5` 텐서 => `3x(2x5)` 텐서"
   ]
  },
  {
   "cell_type": "markdown",
   "metadata": {
    "colab": {
     "base_uri": "https://localhost:8080/"
    },
    "id": "zP2Iqc7zWu_J",
    "outputId": "12b53d89-b3ff-43c7-cb65-70f95e90a44a"
   },
   "source": [
    "```python\n",
    ">>> tf.reshape(rank_3_tensor, [3, -1])\n",
    "<tf.Tensor: shape=(3, 10), dtype=int32, numpy=\n",
    "array([[ 0,  1,  2,  3,  4,  5,  6,  7,  8,  9],\n",
    "       [10, 11, 12, 13, 14, 15, 16, 17, 18, 19],\n",
    "       [20, 21, 22, 23, 24, 25, 26, 27, 28, 29]])>\n",
    "```"
   ]
  },
  {
   "cell_type": "markdown",
   "metadata": {
    "id": "6ZsZRUhihlDB"
   },
   "source": [
    "<table>\n",
    "<tr>\n",
    "  <td> <img src=\"https://raw.githubusercontent.com/tensorflow/docs/master/site/en/guide/images/tensor/reshape-before.png\" style=\"width:350px;\">   </td>\n",
    "  <td>   <img src=\"https://raw.githubusercontent.com/tensorflow/docs/master/site/en/guide/images/tensor/reshape-good1.png\" style=\"width:450px;\">   </td>\n",
    "</tr>\n",
    "</table>\n"
   ]
  },
  {
   "cell_type": "markdown",
   "metadata": {
    "id": "OlSRiTpUgnPX",
    "slideshow": {
     "slide_type": "slide"
    }
   },
   "source": [
    "### 축의 순서를 고려하지 않는 나쁜 모양 변환"
   ]
  },
  {
   "cell_type": "markdown",
   "metadata": {
    "colab": {
     "base_uri": "https://localhost:8080/"
    },
    "id": "I9qDL_8u7cBH",
    "outputId": "7ca7e52d-d937-48d0-acd8-24a2c392862a"
   },
   "source": [
    "```python\n",
    ">>> tf.reshape(rank_3_tensor, [2, 3, 5])\n",
    "\n",
    ">>> tf.reshape(rank_3_tensor, [5, 6])\n",
    "\n",
    ">>> try:\n",
    "...   tf.reshape(rank_3_tensor, [7, -1])\n",
    "... except Exception as e:\n",
    "...   print(f\"{type(e).__name__}: {e}\")\n",
    "```"
   ]
  },
  {
   "cell_type": "markdown",
   "metadata": {
    "id": "qTM9-5eh68oo"
   },
   "source": [
    "<table>\n",
    "<tr>\n",
    "  <td> <img src=\"https://raw.githubusercontent.com/tensorflow/docs/master/site/en/guide/images/tensor/reshape-bad.png\" alt=\"You can't reorder axes, use tf.transpose for that\">   </td>\n",
    "  <td> <img src=\"https://raw.githubusercontent.com/tensorflow/docs/master/site/en/guide/images/tensor/reshape-bad4.png\" alt=\"Anything that mixes the slices of data together is probably wrong.\">   </td>\n",
    "  <td> <img src=\"https://raw.githubusercontent.com/tensorflow/docs/master/site/en/guide/images/tensor/reshape-bad2.png\" alt=\"The new shape must fit exactly.\">   </td>\n",
    "</tr>\n",
    "</table>"
   ]
  },
  {
   "cell_type": "markdown",
   "metadata": {
    "id": "fDmFtFM7k0R2",
    "slideshow": {
     "slide_type": "slide"
    }
   },
   "source": [
    "## 텐서 항목의 자료형(`dtype`) 변환"
   ]
  },
  {
   "cell_type": "markdown",
   "metadata": {
    "colab": {
     "base_uri": "https://localhost:8080/"
    },
    "id": "5mSTDWbelUvu",
    "outputId": "5674f742-13f1-44b0-ef98-f208969f5c01"
   },
   "source": [
    "```python\n",
    ">>> the_f64_tensor = tf.constant([2.2, 3.3, 4.4], dtype=tf.float64)\n",
    ">>> the_f64_tensor\n",
    "<tf.Tensor: shape=(3,), dtype=float64, numpy=array([2.2, 3.3, 4.4])>\n",
    "\n",
    ">>> the_f16_tensor = tf.cast(the_f64_tensor, dtype=tf.float16)\n",
    ">>> the_f16_tensor\n",
    "<tf.Tensor: shape=(3,), dtype=float16, numpy=array([2.2, 3.3, 4.4], dtype=float16)>\n",
    "\n",
    ">>> the_u8_tensor = tf.cast(the_f16_tensor, dtype=tf.uint8)\n",
    ">>> the_u8_tensor\n",
    "<tf.Tensor: shape=(3,), dtype=uint8, numpy=array([2, 3, 4], dtype=uint8)>\n",
    "```"
   ]
  },
  {
   "cell_type": "markdown",
   "metadata": {
    "id": "s1yBlJsVlFSu",
    "slideshow": {
     "slide_type": "slide"
    }
   },
   "source": [
    "## 브로드캐스팅"
   ]
  },
  {
   "cell_type": "markdown",
   "metadata": {
    "id": "c61O2XHQCpPw"
   },
   "source": [
    "- 넘파이 어레이의 경우와 동일하게 작동"
   ]
  },
  {
   "cell_type": "markdown",
   "metadata": {
    "id": "P8sypqmagHQN"
   },
   "source": [
    "```python\n",
    ">>> x = tf.constant([1, 2, 3])\n",
    ">>> y = tf.constant(2)\n",
    ">>> z = tf.constant([2, 2, 2])\n",
    "\n",
    ">>> tf.multiply(x, 2)\n",
    "tf.Tensor([2 4 6], shape=(3,), dtype=int32)\n",
    "\n",
    ">>> x * y\n",
    "tf.Tensor([2 4 6], shape=(3,), dtype=int32)\n",
    "\n",
    ">>> x * z\n",
    "tf.Tensor([2 4 6], shape=(3,), dtype=int32)\n",
    "```"
   ]
  },
  {
   "cell_type": "markdown",
   "metadata": {
    "colab": {
     "base_uri": "https://localhost:8080/"
    },
    "id": "6sGmkPg3XANr",
    "outputId": "31c39721-28f6-4e25-93fb-894c8df84a93",
    "slideshow": {
     "slide_type": "slide"
    }
   },
   "source": [
    "```python\n",
    ">>> x = tf.reshape(x,[3,1])\n",
    ">>> y = tf.range(1, 5)\n",
    "\n",
    ">>> x * y\n",
    "<tf.Tensor: shape=(3, 4), dtype=int32, numpy=\n",
    "array([[ 1,  2,  3,  4],\n",
    "       [ 2,  4,  6,  8],\n",
    "       [ 3,  6,  9, 12]])>\n",
    "```"
   ]
  },
  {
   "cell_type": "markdown",
   "metadata": {
    "id": "t_7sh-EUYLrE"
   },
   "source": [
    "<table>\n",
    "<tr>\n",
    "  <td> <img src=\"https://raw.githubusercontent.com/tensorflow/docs/master/site/en/guide/images/tensor/broadcasting.png\" style=\"width:350px;\">   </td>\n",
    "</tr>\n",
    "</table>\n"
   ]
  },
  {
   "cell_type": "markdown",
   "metadata": {
    "id": "cJxeYjZwRUSh",
    "slideshow": {
     "slide_type": "slide"
    }
   },
   "source": [
    "## 다양한 종류의 텐서"
   ]
  },
  {
   "cell_type": "markdown",
   "metadata": {
    "id": "05bBVBVYV0y6",
    "slideshow": {
     "slide_type": "slide"
    }
   },
   "source": [
    "### 비정형 텐서"
   ]
  },
  {
   "cell_type": "markdown",
   "metadata": {
    "id": "VPc3jGoeJqB7"
   },
   "source": [
    "<table>\n",
    "<tr>\n",
    "  <td> <img src=\"https://raw.githubusercontent.com/tensorflow/docs/master/site/en/guide/images/tensor/ragged.png\" style=\"width:250px;\">   </td>\n",
    "</tr>\n",
    "</table>"
   ]
  },
  {
   "cell_type": "markdown",
   "metadata": {
    "id": "VsbTjoFfNVBF",
    "slideshow": {
     "slide_type": "slide"
    }
   },
   "source": [
    "```python\n",
    ">>> ragged_list = [\n",
    "...     [0, 1, 2, 3],\n",
    "...     [4, 5],\n",
    "...     [6, 7, 8],\n",
    "...     [9]]\n",
    "\n",
    ">>> ragged_tensor = tf.ragged.constant(ragged_list)\n",
    ">>> ragged_tensor\n",
    "<tf.RaggedTensor [[0, 1, 2, 3], [4, 5], [6, 7, 8], [9]]>\n",
    "\n",
    ">>> ragged_tensor.shape\n",
    "(4, None)\n",
    "```"
   ]
  },
  {
   "cell_type": "markdown",
   "metadata": {
    "id": "ua8BnAzxkRKV",
    "slideshow": {
     "slide_type": "slide"
    }
   },
   "source": [
    "### 희소 텐서"
   ]
  },
  {
   "cell_type": "markdown",
   "metadata": {
    "id": "mS5zgqgUTPRb"
   },
   "source": [
    "<table>\n",
    "<tr>\n",
    "  <td> <img src=\"https://raw.githubusercontent.com/tensorflow/docs/master/site/en/guide/images/tensor/sparse.png\" style=\"width:250px;\">   </td>\n",
    "</tr>\n",
    "</table>"
   ]
  },
  {
   "cell_type": "markdown",
   "metadata": {
    "colab": {
     "base_uri": "https://localhost:8080/"
    },
    "id": "B9nbO1E2kSUN",
    "outputId": "10f6f9b1-f3ad-4878-dd96-a283a65e1d4d"
   },
   "source": [
    "```python\n",
    ">>> sparse_tensor = tf.sparse.SparseTensor(indices=[[0, 0], [1, 2]],\n",
    "...                                        values=[1, 2],\n",
    "...                                        dense_shape=[3, 4])\n",
    "\n",
    ">>> sparse_tensor\n",
    "SparseTensor(indices=tf.Tensor(\n",
    "[[0 0]\n",
    " [1 2]], shape=(2, 2), dtype=int64), values=tf.Tensor([1 2], shape=(2,), dtype=int32), dense_shape=tf.Tensor([3 4], shape=(2,), dtype=int64))\n",
    "```"
   ]
  },
  {
   "cell_type": "markdown",
   "metadata": {
    "id": "XY5k5kKqf-ST",
    "slideshow": {
     "slide_type": "slide"
    }
   },
   "source": [
    "### 밀집 텐서 대 희소 텐서"
   ]
  },
  {
   "cell_type": "markdown",
   "metadata": {
    "colab": {
     "base_uri": "https://localhost:8080/"
    },
    "id": "CpRtagaZf5D5",
    "outputId": "7ba6bb76-fbe5-4e76-e30c-01c9be59eaf2"
   },
   "source": [
    "```python\n",
    ">>> dense_tensor = tf.sparse.to_dense(sparse_tensor)\n",
    "\n",
    ">>> dense_tensor\n",
    "<tf.Tensor: shape=(3, 4), dtype=int32, numpy=\n",
    "array([[1, 0, 0, 0],\n",
    "       [0, 0, 2, 0],\n",
    "       [0, 0, 0, 0]])>\n",
    "\n",
    "\n",
    ">>> tf.sparse.from_dense(dense_tensor)\n",
    "SparseTensor(indices=tf.Tensor(\n",
    "[[0 0]\n",
    " [1 2]], shape=(2, 2), dtype=int64), values=tf.Tensor([1 2], shape=(2,), dtype=int32), dense_shape=tf.Tensor([3 4], shape=(2,), dtype=int64))\n",
    "```"
   ]
  }
 ],
 "metadata": {
  "celltoolbar": "Slideshow",
  "colab": {
   "collapsed_sections": [
    "Tce3stUlHN0L"
   ],
   "provenance": []
  },
  "kernelspec": {
   "display_name": "Python 3 (ipykernel)",
   "language": "python",
   "name": "python3"
  },
  "language_info": {
   "codemirror_mode": {
    "name": "ipython",
    "version": 3
   },
   "file_extension": ".py",
   "mimetype": "text/x-python",
   "name": "python",
   "nbconvert_exporter": "python",
   "pygments_lexer": "ipython3",
   "version": "3.10.9"
  }
 },
 "nbformat": 4,
 "nbformat_minor": 1
}
