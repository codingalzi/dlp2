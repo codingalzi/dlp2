{
 "cells": [
  {
   "cell_type": "markdown",
   "metadata": {
    "colab_type": "text",
    "slideshow": {
     "slide_type": "slide"
    }
   },
   "source": [
    "# 케라스와 텐서플로우"
   ]
  },
  {
   "cell_type": "markdown",
   "metadata": {
    "slideshow": {
     "slide_type": "slide"
    }
   },
   "source": [
    "## 딥러닝 주요 라이브러리"
   ]
  },
  {
   "cell_type": "markdown",
   "metadata": {},
   "source": [
    "- 텐서플로우"
   ]
  },
  {
   "cell_type": "markdown",
   "metadata": {},
   "source": [
    "- 케라스"
   ]
  },
  {
   "cell_type": "markdown",
   "metadata": {},
   "source": [
    "- 파이토치"
   ]
  },
  {
   "cell_type": "markdown",
   "metadata": {},
   "source": [
    "- JAX"
   ]
  },
  {
   "cell_type": "markdown",
   "metadata": {
    "colab_type": "text",
    "slideshow": {
     "slide_type": "slide"
    }
   },
   "source": [
    "### 텐서플로우"
   ]
  },
  {
   "cell_type": "markdown",
   "metadata": {
    "slideshow": {
     "slide_type": ""
    }
   },
   "source": [
    "- 파이썬에 기반한 머신러닝 플랫폼"
   ]
  },
  {
   "cell_type": "markdown",
   "metadata": {
    "slideshow": {
     "slide_type": ""
    }
   },
   "source": [
    "- 머신러닝 모델의 훈련에 필요한 텐서 연산 지원\n",
    "    - 그레이디언트 자동 계산\n",
    "    - GPU, TPU 등 고성능 병렬 하드웨어 가속기 활용 가능\n",
    "    - 여러 대의 컴퓨터 또는 클라우드 컴퓨팅 서비스 활용 가능"
   ]
  },
  {
   "cell_type": "markdown",
   "metadata": {
    "slideshow": {
     "slide_type": ""
    }
   },
   "source": [
    "- C++(게임), 자바스크립트(웹브라우저), TFLite(모바일 장치) 등과 호환 가능"
   ]
  },
  {
   "cell_type": "markdown",
   "metadata": {
    "colab_type": "text",
    "slideshow": {
     "slide_type": "slide"
    }
   },
   "source": [
    "### 케라스"
   ]
  },
  {
   "cell_type": "markdown",
   "metadata": {
    "slideshow": {
     "slide_type": ""
    }
   },
   "source": [
    "- 딥러닝 모델 구성 및 훈련에 효율적으로 사용될 수 있는 다양한 수준의 API를 제공\n",
    "- 텐서플로우의 프론트엔드front end 인터페이스 기능 수행"
   ]
  },
  {
   "cell_type": "markdown",
   "metadata": {},
   "source": [
    "<div align=\"center\"><img src=\"https://drek4537l1klr.cloudfront.net/chollet2/v-7/Figures/keras_and_tf.png\" style=\"width:600px;\"></div>"
   ]
  },
  {
   "cell_type": "markdown",
   "metadata": {
    "slideshow": {
     "slide_type": "slide"
    }
   },
   "source": [
    "### 케라스 3.0, 파이토치, 잭스"
   ]
  },
  {
   "cell_type": "markdown",
   "metadata": {},
   "source": [
    "- 파이토치<font size='2'>PyTorch</font>: 텐서 연산을 지원하는 딥러닝 라이브러리\n",
    "- 잭스<font size='2'>Jax</font>: 고성능 딥러닝 프레임워크. LLM 처럼 거대 모델 훈련을 위해 구글에서 만든 라이브러리\n",
    "- 케라스 코어<font size='2'>Keras Core</font>: TensorFlow, PyTorch, JAX 의 프론트엔드 기능 지원. "
   ]
  },
  {
   "cell_type": "markdown",
   "metadata": {
    "slideshow": {
     "slide_type": ""
    }
   },
   "source": [
    "<div align=\"center\"><img src=\"https://github.com/codingalzi/dlp2/blob/master/jupyter-book/imgs/ch03-keras-core.png?raw=true\" style=\"width:500px;\"></div>"
   ]
  },
  {
   "cell_type": "markdown",
   "metadata": {
    "slideshow": {
     "slide_type": "slide"
    }
   },
   "source": [
    "## 텐서플로우 텐서"
   ]
  },
  {
   "cell_type": "markdown",
   "metadata": {
    "id": "ndQbmG6DFAG2"
   },
   "source": [
    "- `tf.Tensor` 자료형\n",
    "    - 상수 텐서\n",
    "    - 입출력 데이터 등 변하지 않는 값을 다룰 때 사용.\n",
    "    - 불변 자료형"
   ]
  },
  {
   "cell_type": "markdown",
   "metadata": {
    "id": "ndQbmG6DFAG2"
   },
   "source": [
    "- `tf.Variable` 자료형\n",
    "    - 변수 텐서\n",
    "    - 모델의 가중치, 편향 등 항목의 업데이트가 필요할 때 사용되는 텐서.\n",
    "    - 가변 자료형"
   ]
  },
  {
   "cell_type": "markdown",
   "metadata": {
    "id": "H5vru5j1FAG2",
    "slideshow": {
     "slide_type": "slide"
    }
   },
   "source": [
    "### 상수 텐서"
   ]
  },
  {
   "cell_type": "markdown",
   "metadata": {
    "id": "m0vwISUoFAG3"
   },
   "source": [
    "다양한 방식으로 상수 텐서를 생성할 수 있다."
   ]
  },
  {
   "cell_type": "markdown",
   "metadata": {
    "id": "m0vwISUoFAG3"
   },
   "source": [
    "```python\n",
    ">>> x = tf.constant([[1., 2.], [3., 4.]])\n",
    ">>> print(x)\n",
    "tf.Tensor(\n",
    "[[1. 2.]\n",
    " [3. 4.]], shape=(2, 2), dtype=float32)\n",
    "\n",
    ">>> x = tf.ones(shape=(2, 1))\n",
    ">>> print(x)\n",
    "tf.Tensor(\n",
    "[[1.]\n",
    " [1.]], shape=(2, 1), dtype=float32)\n",
    "\n",
    ">>> x = tf.zeros(shape=(2, 1))\n",
    ">>> print(x)\n",
    "tf.Tensor(\n",
    "[[0.]\n",
    " [0.]], shape=(2, 1), dtype=float32)\n",
    "```"
   ]
  },
  {
   "cell_type": "markdown",
   "metadata": {
    "id": "IhYg7coSFAG4",
    "slideshow": {
     "slide_type": "slide"
    }
   },
   "source": [
    "- `normal()` 함수: 정규 분포 활용\n",
    "\n",
    "    ```python\n",
    "    >>> x = tf.random.normal(shape=(3, 1), mean=0., stddev=1.)\n",
    "    ```\n",
    "\n",
    "    ```python\n",
    "    >>> print(x)\n",
    "    tf.Tensor(\n",
    "    [[-0.5644841 ]\n",
    "     [-0.76016265]\n",
    "     [ 0.30502525]], shape=(3, 1), dtype=float32)\n",
    "    ```"
   ]
  },
  {
   "cell_type": "markdown",
   "metadata": {
    "id": "-zqwCJ7hFAG5"
   },
   "source": [
    "- `uniform()` 함수: 균등 분포 활용\n",
    "\n",
    "    ```python\n",
    "    >>> x = tf.random.uniform(shape=(3, 1), minval=0., maxval=1.)\n",
    "    ```\n",
    "\n",
    "    ```python\n",
    "    >>> print(x)\n",
    "    tf.Tensor(\n",
    "    [[0.33661604]\n",
    "     [0.09824598]\n",
    "     [0.32487237]], shape=(3, 1), dtype=float32)\n",
    "    ```"
   ]
  },
  {
   "cell_type": "markdown",
   "metadata": {
    "colab": {
     "base_uri": "https://localhost:8080/"
    },
    "id": "qmYorXi5FAG5",
    "outputId": "06edee6b-0c9b-4243-d03f-54cdfc969fa3",
    "slideshow": {
     "slide_type": "slide"
    }
   },
   "source": [
    "### 상수 텐서의 수정 불가능성"
   ]
  },
  {
   "cell_type": "markdown",
   "metadata": {
    "id": "Vg5KyONiFAG6"
   },
   "source": [
    "```python\n",
    ">>> x[0, 0] = 1.0\n",
    "TypeError                                 Traceback (most recent call last)\n",
    "<ipython-input-7-242a5d4d3c4a> in <module>\n",
    "----> 1 x[0, 0] = 1.0\n",
    "\n",
    "TypeError: 'tensorflow.python.framework.ops.EagerTensor' object does not support item assignment\n",
    "```"
   ]
  },
  {
   "cell_type": "markdown",
   "metadata": {
    "id": "RaMXIVgVFAG6",
    "slideshow": {
     "slide_type": "slide"
    }
   },
   "source": [
    "### 텐서 항목의 자료형"
   ]
  },
  {
   "cell_type": "markdown",
   "metadata": {
    "colab": {
     "base_uri": "https://localhost:8080/"
    },
    "id": "96zsfMQzFAG7",
    "outputId": "4e84cd10-b13f-48a7-bad6-19cc07e7a69e"
   },
   "source": [
    "```python\n",
    ">>> type(x[0, 0])\n",
    "tensorflow.python.framework.ops.EagerTensor\n",
    "```"
   ]
  },
  {
   "cell_type": "markdown",
   "metadata": {
    "id": "VujYaZeAFAG7",
    "slideshow": {
     "slide_type": "slide"
    }
   },
   "source": [
    "### 변수 텐서"
   ]
  },
  {
   "cell_type": "markdown",
   "metadata": {
    "colab": {
     "base_uri": "https://localhost:8080/"
    },
    "id": "0aTLKr4mFAG7",
    "outputId": "69422e5c-3eaa-421d-d941-350ee753dcef"
   },
   "source": [
    "```python\n",
    ">>> v = tf.Variable(initial_value=tf.random.normal(shape=(3, 1)))\n",
    ">>> print(v)\n",
    "<tf.Variable 'Variable:0' shape=(3, 1) dtype=float32, numpy=\n",
    "array([[-1.3837979 ],\n",
    "       [-0.23704937],\n",
    "       [-0.9790895 ]], dtype=float32)>\n",
    "```"
   ]
  },
  {
   "cell_type": "markdown",
   "metadata": {
    "id": "3cHdR9y3FAG7",
    "slideshow": {
     "slide_type": "slide"
    }
   },
   "source": [
    "### 변수 텐서 교체"
   ]
  },
  {
   "cell_type": "markdown",
   "metadata": {
    "colab": {
     "base_uri": "https://localhost:8080/"
    },
    "id": "x6Q4b_S6FAG7",
    "outputId": "b8bfc8de-6547-4534-fd15-bca4e3edcf56"
   },
   "source": [
    "```python\n",
    ">>> v.assign(tf.ones((3, 1)))\n",
    "<tf.Variable 'UnreadVariable' shape=(3, 1) dtype=float32, numpy=\n",
    "array([[1.],\n",
    "       [1.],\n",
    "       [1.]], dtype=float32)>\n",
    "```"
   ]
  },
  {
   "cell_type": "markdown",
   "metadata": {
    "id": "QpdPpCRGFAG7",
    "slideshow": {
     "slide_type": "slide"
    }
   },
   "source": [
    "- 대체하는 텐서의 모양(shape)이 기존 텐서의 모양과 동일해야 함"
   ]
  },
  {
   "cell_type": "markdown",
   "metadata": {
    "id": "mCCnDJrXFAG8"
   },
   "source": [
    "```python\n",
    ">>> v.assign(tf.ones((3, 2)))\n",
    "ValueError                                Traceback (most recent call last)\n",
    "<ipython-input-13-e381ab0c94e6> in <module>\n",
    "----> 1 v.assign(tf.ones((3, 2)))\n",
    "\n",
    "~\\anaconda3\\lib\\site-packages\\tensorflow\\python\\ops\\resource_variable_ops.py in assign(self, value, use_locking, name, read_value)\n",
    "    886         else:\n",
    "    887           tensor_name = \" \" + str(self.name)\n",
    "--> 888         raise ValueError(\n",
    "    889             (\"Cannot assign to variable%s due to variable shape %s and value \"\n",
    "    890              \"shape %s are incompatible\") %\n",
    "\n",
    "ValueError: Cannot assign to variable Variable:0 due to variable shape (3, 1) and value shape (3, 2) are incompatible\n",
    "```"
   ]
  },
  {
   "cell_type": "markdown",
   "metadata": {
    "id": "jdwzz0TTFAG8",
    "slideshow": {
     "slide_type": "slide"
    }
   },
   "source": [
    "### 변수 텐서 항목 수정"
   ]
  },
  {
   "cell_type": "markdown",
   "metadata": {
    "colab": {
     "base_uri": "https://localhost:8080/"
    },
    "id": "AEVgeGYIFAG8",
    "outputId": "8236ec7e-bf07-4eb2-929a-60a50861cbc8"
   },
   "source": [
    "```python\n",
    ">>> v[0, 0].assign(3.)\n",
    "<tf.Variable 'UnreadVariable' shape=(3, 1) dtype=float32, numpy=\n",
    "array([[3.],\n",
    "       [1.],\n",
    "       [1.]], dtype=float32)>\n",
    "```"
   ]
  },
  {
   "cell_type": "markdown",
   "metadata": {
    "id": "X-gFG2uaFAG_",
    "slideshow": {
     "slide_type": "slide"
    }
   },
   "source": [
    "### `assign_add()`와 `assign_sub()`"
   ]
  },
  {
   "cell_type": "markdown",
   "metadata": {
    "id": "CYM5RzvMFAHA"
   },
   "source": [
    "- `assign_sub()` 메서드: `-=` 연산자\n",
    "- `assign_add()` 메서드: `+=` 연산자\n",
    "\n",
    "    ```python\n",
    "    >>> v.assign_sub(tf.ones((3, 1)))\n",
    "    <tf.Variable 'UnreadVariable' shape=(3, 1) dtype=float32, numpy=\n",
    "    array([[2.],\n",
    "           [0.],\n",
    "           [0.]], dtype=float32)>\n",
    "    ```"
   ]
  },
  {
   "cell_type": "markdown",
   "metadata": {
    "slideshow": {
     "slide_type": "slide"
    }
   },
   "source": [
    "## 텐서플로우 활용법 기초"
   ]
  },
  {
   "cell_type": "markdown",
   "metadata": {
    "slideshow": {
     "slide_type": "slide"
    }
   },
   "source": [
    "### 그레이디언트 테이프"
   ]
  },
  {
   "cell_type": "markdown",
   "metadata": {},
   "source": [
    "$$\n",
    "f(x) = x^2 \\quad \\Longrightarrow \\quad \\nabla f(x) = \\frac{df(x)}{dx} = 2x\n",
    "$$"
   ]
  },
  {
   "cell_type": "markdown",
   "metadata": {},
   "source": [
    "```python\n",
    ">>> input_var = tf.Variable(initial_value=3.)\n",
    "\n",
    ">>> with tf.GradientTape() as tape:\n",
    "...     result = tf.square(input_var)\n",
    "\n",
    ">>> gradient = tape.gradient(result, input_var)\n",
    "\n",
    ">>> print(gradient)\n",
    "tf.Tensor(6.0, shape=(), dtype=float32)\n",
    "```"
   ]
  },
  {
   "cell_type": "markdown",
   "metadata": {
    "slideshow": {
     "slide_type": "slide"
    }
   },
   "source": [
    "### 예제: 선형 이진 분류기"
   ]
  },
  {
   "cell_type": "markdown",
   "metadata": {
    "slideshow": {
     "slide_type": "slide"
    }
   },
   "source": [
    "### 1단계: 데이터셋 생성"
   ]
  },
  {
   "cell_type": "markdown",
   "metadata": {},
   "source": [
    "```python\n",
    "num_samples_per_class = 1000\n",
    "\n",
    "# 음성 데이터셋\n",
    "negative_samples = np.random.multivariate_normal(\n",
    "    mean=[0, 3], cov=[[1, 0.5],[0.5, 1]], size=num_samples_per_class)\n",
    "\n",
    "# 양성 데이터셋\n",
    "positive_samples = np.random.multivariate_normal(\n",
    "    mean=[3, 0], cov=[[1, 0.5],[0.5, 1]], size=num_samples_per_class)\n",
    "```"
   ]
  },
  {
   "cell_type": "markdown",
   "metadata": {},
   "source": [
    "<div align=\"center\"><img src=\"https://drek4537l1klr.cloudfront.net/chollet2/Figures/03-07.png\" style=\"width:500px;\"></div>"
   ]
  },
  {
   "cell_type": "markdown",
   "metadata": {
    "slideshow": {
     "slide_type": "slide"
    }
   },
   "source": [
    "음성 데이터셋과 양성 데이터셋을 합쳐서 훈련셋을 생성한다.\n",
    "\n",
    "- `negative_sample`: (1000, 2) 모양의 텐서\n",
    "- `positive_sample`: (1000, 2) 모양의 텐서\n",
    "- `inputs = np.vstack(negative_sample, positive_sample)`: (2000, 2) 모양의 텐서\n",
    "    - `negative_sample` 데이터셋이 0번부터 999번까지 인덱스.\n",
    "    - `positive_sample` 데이터셋이 1000번부터 1999번까지 인덱스."
   ]
  },
  {
   "cell_type": "markdown",
   "metadata": {},
   "source": [
    "```python\n",
    "inputs = np.vstack((negative_samples, positive_samples)).astype(np.float32)\n",
    "```"
   ]
  },
  {
   "cell_type": "markdown",
   "metadata": {
    "slideshow": {
     "slide_type": "slide"
    }
   },
   "source": [
    "음성 샘플의 레이블은 0, 양성 샘플의 레이블은 1로 지정한다.\n",
    "\n",
    "- `np.zeros((num_samples_per_class, 1), dtype=\"float32\")`: (1000, 1) 모양의 어레이. 0으로 채워짐. \n",
    "    0번부터 999번 인덱스까지의 모든 음성 데이터의 타깃은 0임.\n",
    "- `np.ones((num_samples_per_class, 1), dtype=\"float32\")`: (1000, 1) 모양의 어레이. 1로 채워짐. \n",
    "    999번부터 1999번 인덱스까지의 모든 양성 데이터의 타깃은 1임.\n",
    "- `targets`: (2000, 1) 모양의 어레이."
   ]
  },
  {
   "cell_type": "markdown",
   "metadata": {},
   "source": [
    "```python\n",
    "targets = np.vstack((np.zeros((num_samples_per_class, 1), dtype=\"float32\"),\n",
    "                     np.ones((num_samples_per_class, 1), dtype=\"float32\")))\n",
    "```"
   ]
  },
  {
   "cell_type": "markdown",
   "metadata": {
    "slideshow": {
     "slide_type": "slide"
    }
   },
   "source": [
    "### 2단계: 선형 회귀 모델 훈련에 필요한 가중치 변수 텐서와 편향 변수 텐서 생성"
   ]
  },
  {
   "cell_type": "markdown",
   "metadata": {},
   "source": [
    "선형 분류기 모델의 예측값 계산은 다음과 같이 아핀 변환으로 이뤄진다.\n",
    "\n",
    "```python\n",
    "inputs @ W + b\n",
    "```\n",
    "\n",
    "```python\n",
    "input_dim = 2     # 입력 샘플의 특성이 2개\n",
    "output_dim = 1    # 각각의 입력 샘플에 대해 하나의 부동소수점을 예측값으로 계산\n",
    "\n",
    "# 가중치: (2, 1) 모양의 가중치 행렬을 균등분포를 이용한 무작위 초기화\n",
    "W = tf.Variable(initial_value=tf.random.uniform(shape=(input_dim, output_dim)))\n",
    "\n",
    "# 편향: (1,) 모양의 벡터를 0으로 초기화\n",
    "b = tf.Variable(initial_value=tf.zeros(shape=(output_dim,)))\n",
    "```"
   ]
  },
  {
   "cell_type": "markdown",
   "metadata": {
    "slideshow": {
     "slide_type": "slide"
    }
   },
   "source": [
    "### 3단계: 모델 선언(포워드 패스)"
   ]
  },
  {
   "cell_type": "markdown",
   "metadata": {},
   "source": [
    "```python\n",
    "def dense(inputs, W, b, activation=None):\n",
    "    outputs = tf.matmul(inputs, W) + b\n",
    "    if activation != None:\n",
    "        return activation(outputs)\n",
    "    else:\n",
    "        return outputs\n",
    "```"
   ]
  },
  {
   "cell_type": "markdown",
   "metadata": {},
   "source": [
    "```python\n",
    "def model(inputs):\n",
    "    outputs = dense(inputs, W, b)\n",
    "    return outputs\n",
    "```"
   ]
  },
  {
   "cell_type": "markdown",
   "metadata": {
    "slideshow": {
     "slide_type": "slide"
    }
   },
   "source": [
    "### 4단계: 손실 함수 지정"
   ]
  },
  {
   "cell_type": "markdown",
   "metadata": {},
   "source": [
    "$$\n",
    "\\frac{1}{m_b}\\sum (y - \\hat y)^2\n",
    "$$"
   ]
  },
  {
   "cell_type": "markdown",
   "metadata": {},
   "source": [
    "```python\n",
    "def square_loss(targets, predictions):\n",
    "    per_sample_losses = tf.square(targets - predictions)\n",
    "    return tf.reduce_mean(per_sample_losses)\n",
    "```"
   ]
  },
  {
   "cell_type": "markdown",
   "metadata": {
    "slideshow": {
     "slide_type": "slide"
    }
   },
   "source": [
    "### 5단계: 훈련 스텝(역전파) 지정"
   ]
  },
  {
   "cell_type": "markdown",
   "metadata": {},
   "source": [
    "```python\n",
    "def training_step(inputs, targets):\n",
    "    \"\"\"\n",
    "    - inputs: 입력 데이터 배치\n",
    "    - targets: 타깃 배치\n",
    "    \"\"\"\n",
    "\n",
    "    # 손실 함수의 그레이디언트 계산 준비\n",
    "    with tf.GradientTape() as tape:\n",
    "        predictions = model(inputs)\n",
    "        loss = square_loss(targets, predictions)\n",
    "\n",
    "    # 가중치와 편향에 대한 손실 함수의 그레이디언트 계산\n",
    "    grad_loss_wrt_W, grad_loss_wrt_b = tape.gradient(loss, [W, b])\n",
    "    \n",
    "    # 가중치 행렬과 편향 벡터 업데이트\n",
    "    W.assign_sub(grad_loss_wrt_W * learning_rate) # 가중치 행렬 업데이트\n",
    "    b.assign_sub(grad_loss_wrt_b * learning_rate) # 편향 업데이트\n",
    "    \n",
    "    return loss\n",
    "```"
   ]
  },
  {
   "cell_type": "markdown",
   "metadata": {
    "slideshow": {
     "slide_type": "slide"
    }
   },
   "source": [
    "### 6단계: 훈련 루프 지정"
   ]
  },
  {
   "cell_type": "markdown",
   "metadata": {},
   "source": [
    "- 반복해서 훈련한 내용을 출력\n",
    "- 설명을 간단하게 하기 위해 전체 데이터셋을 하나의 배치로 사용하는 훈련 구현\n",
    "\n",
    "    ```python\n",
    "    for step in range(40):\n",
    "        loss = training_step(inputs, targets)\n",
    "        print(f\"Loss at step {step}: {loss:.4f}\")\n",
    "    ```"
   ]
  },
  {
   "cell_type": "markdown",
   "metadata": {
    "slideshow": {
     "slide_type": "slide"
    }
   },
   "source": [
    "### 7단계: 결정경계"
   ]
  },
  {
   "cell_type": "markdown",
   "metadata": {},
   "source": [
    "결정경계를 직선으로 그리려면 아래 일차 함수를 이용한다.\n",
    "\n",
    "```python\n",
    "y = - W[0] /  W[1] * x + (0.5 - b) / W[1]\n",
    "```\n",
    "\n",
    "이유는 아래 식으로 계산되는 모델의 예측값이\n",
    "0.5보다 큰지 여부에 따라 양성/음성이 판단되기 때문이다.\n",
    "\n",
    "```python\n",
    "W[0]*x + W[1]*y + b\n",
    "```"
   ]
  },
  {
   "cell_type": "markdown",
   "metadata": {},
   "source": [
    "<div align=\"center\"><img src=\"https://github.com/codingalzi/dlp2/blob/master/jupyter-book/imgs/ch03-bin_classification.png?raw=true\" style=\"width:400px;\"></div>"
   ]
  },
  {
   "cell_type": "markdown",
   "metadata": {
    "slideshow": {
     "slide_type": "slide"
    }
   },
   "source": [
    "## 케라스 신경망 모델의 핵심 API"
   ]
  },
  {
   "cell_type": "markdown",
   "metadata": {
    "slideshow": {
     "slide_type": ""
    }
   },
   "source": [
    "- 신경망 모델은 층으로 구성됨"
   ]
  },
  {
   "cell_type": "markdown",
   "metadata": {
    "slideshow": {
     "slide_type": ""
    }
   },
   "source": [
    "- 모델에 사용되는 층의 종류와 층을 쌓는 방식에 따라 모델이 처리할 수 있는 데이터와 훈련 방식이 달라짐"
   ]
  },
  {
   "cell_type": "markdown",
   "metadata": {
    "slideshow": {
     "slide_type": ""
    }
   },
   "source": [
    "- 케라스 라이브러리가 층을 구성하고 훈련 방식을 관장하는 다양한 API 제공"
   ]
  },
  {
   "cell_type": "markdown",
   "metadata": {
    "slideshow": {
     "slide_type": "slide"
    }
   },
   "source": [
    "### 층"
   ]
  },
  {
   "cell_type": "markdown",
   "metadata": {
    "slideshow": {
     "slide_type": ""
    }
   },
   "source": [
    "- 입력 데이터를 지정된 방식에 따라 다른 모양의 데이터로 변환하는 \n",
    "    **포워드 패스**<font size='2'>forward pass</font> 담당"
   ]
  },
  {
   "cell_type": "markdown",
   "metadata": {
    "slideshow": {
     "slide_type": ""
    }
   },
   "source": [
    "- 데이터 변환에 사용되는 가중치<font size='2'>weight</font>와 편향<font size='2'>bias</font> 저장"
   ]
  },
  {
   "cell_type": "markdown",
   "metadata": {
    "slideshow": {
     "slide_type": "slide"
    }
   },
   "source": [
    "### 층의 종류"
   ]
  },
  {
   "cell_type": "markdown",
   "metadata": {},
   "source": [
    "층의 종류에 따라 입력 배치 데이터셋 텐서의 모양이 달라진다.\n",
    "예를 들어:\n",
    "\n",
    "- `Dense` 클래스\n",
    "    - 밀집층 생성\n",
    "    - `(배치 크기, 특성 수)` 모양의 2D 텐서로 입력된 데이터셋 처리."
   ]
  },
  {
   "cell_type": "markdown",
   "metadata": {},
   "source": [
    "- `LSTM` 또는 `Conv1D` 클래스\n",
    "    - 순차 데이터와 시계열 데이터 분석에 사용되는 순환층 생성\n",
    "    - `(배치 크기, 타임스텝 수, 특성 수)` 모양의 3D 텐서로 입력된 순차 데이터셋 처리."
   ]
  },
  {
   "cell_type": "markdown",
   "metadata": {},
   "source": [
    "- `Conv2D` 클래스\n",
    "    - 합성곱 신경망(CNN) 구성에 사용되는 합성곱층 생성\n",
    "    - `(배치 크기, 가로, 세로, 채널 수)` 모양의 4D 텐서로 제공된 이미지 데이터셋 처리."
   ]
  },
  {
   "cell_type": "markdown",
   "metadata": {
    "colab_type": "text",
    "slideshow": {
     "slide_type": "slide"
    }
   },
   "source": [
    "### `tf.keras.layers.Layer` 클래스"
   ]
  },
  {
   "cell_type": "markdown",
   "metadata": {},
   "source": [
    "- 케라스의 모든 층 클래스는 `tf.keras.layers.Layer` 클래스를 상속한다."
   ]
  },
  {
   "cell_type": "markdown",
   "metadata": {},
   "source": [
    "- 상속되는 `__call__()` 메서드:\n",
    "    - 가중치와 편향 텐서 초기화: 가중치와 편향이 이미 생성되어 있다면 새로 생성하지 않고 그대로 사용\n",
    "    - 입력 데이터셋을 출력 데이터셋으로 변환하는 포워드 패스를 수행"
   ]
  },
  {
   "cell_type": "markdown",
   "metadata": {},
   "source": [
    "- `__call__()` 메서드가 하는 일\n",
    "\n",
    "    ```python\n",
    "    def __call__(self, inputs):\n",
    "        if not self.built:\n",
    "            self.build(inputs.shape)\n",
    "            self.built = True\n",
    "        return self.call(inputs)\n",
    "    ```"
   ]
  },
  {
   "cell_type": "markdown",
   "metadata": {
    "slideshow": {
     "slide_type": "slide"
    }
   },
   "source": [
    "### `Dense` 클래스 직접 구현하기"
   ]
  },
  {
   "cell_type": "markdown",
   "metadata": {
    "colab_type": "code"
   },
   "source": [
    "```python\n",
    "from tensorflow import keras\n",
    "\n",
    "class SimpleDense(keras.layers.Layer):\n",
    "    def __init__(self, units, activation=None):\n",
    "        super().__init__()\n",
    "        self.units = units           # 유닛 개수 지정\n",
    "        self.activation = activation # 활성화 함수 지정\n",
    "\n",
    "    # 가중치와 편향 초기화\n",
    "    def build(self, input_shape):\n",
    "        input_dim = input_shape[-1]   # 입력 샘플의 특성 수\n",
    "        self.W = self.add_weight(shape=(input_dim, self.units),\n",
    "                                 initializer=\"random_normal\")\n",
    "        self.b = self.add_weight(shape=(self.units,),\n",
    "                                 initializer=\"zeros\")\n",
    "\n",
    "    # 데이터 변환(포워드 패스)\n",
    "    def call(self, inputs):\n",
    "        y = tf.matmul(inputs, self.W) + self.b\n",
    "        if self.activation is not None:\n",
    "            y = self.activation(y)\n",
    "        return y\n",
    "```"
   ]
  },
  {
   "cell_type": "markdown",
   "metadata": {
    "slideshow": {
     "slide_type": "slide"
    }
   },
   "source": [
    "### `SimpleDense` 층의 데이터 변환"
   ]
  },
  {
   "cell_type": "markdown",
   "metadata": {},
   "source": [
    "- 유닛 수: 512개\n",
    "- 활성화 함수: `relu`\n",
    "\n",
    "    ```python\n",
    "    >>> my_dense = SimpleDense(units=512, activation=tf.nn.relu)\n",
    "    ```\n",
    "\n",
    "- 128: 배치 크기\n",
    "- 784: MNIST 데이터셋의 손글씨 이미지 한 장의 특성 수(`28 * 28 = 128`)\n",
    "\n",
    "    ```python\n",
    "    >>> input_tensor = tf.ones(shape=(128, 784))\n",
    "    ```\n",
    "\n",
    "- 층의 데이터 변환 결롸\n",
    "\n",
    "    ```python\n",
    "    >>> output_tensor = my_dense(input_tensor)\n",
    "    ```\n",
    "    ```python\n",
    "    >>> print(output_tensor.shape)\n",
    "    (128, 512)\n",
    "    ```"
   ]
  },
  {
   "cell_type": "markdown",
   "metadata": {
    "slideshow": {
     "slide_type": "slide"
    }
   },
   "source": [
    "내부적으로는 `__call__()` 메서드가 호출됨:"
   ]
  },
  {
   "cell_type": "markdown",
   "metadata": {},
   "source": [
    "- 가중치 텐서와 와 편향 텐서가 생성되지 않은 경우\n",
    "    - (784, 512) 모양의 가중치 텐서 W 생성 및 무작위 초기화. 782는 입력 샘플의 특성 수, 512는 층의 유닛 수.\n",
    "    (512, ) 모양의 편향 텐서 b 생성 및 0으로 초기화. 512는 층의 유닛 수.\n",
    "    - 포워드 패스: 생성된 가중치와 편향을 이용하여 출력값 계산.\n",
    "    - 가중치 텐서와 와 편향 텐서가 생성되어 있는 경우. 즉 훈련이 반복되는 경우."
   ]
  },
  {
   "cell_type": "markdown",
   "metadata": {},
   "source": [
    "- 포워드 패스: 역전파로 업데이트된 가중치와 편향을 이용하여 출력값 계산."
   ]
  },
  {
   "cell_type": "markdown",
   "metadata": {
    "slideshow": {
     "slide_type": "slide"
    }
   },
   "source": [
    "### 모델"
   ]
  },
  {
   "cell_type": "markdown",
   "metadata": {},
   "source": [
    "- 케라스의 모든 모델 클래스는 tf.keras.Model 클래스를 상속\n",
    "\n",
    "- 예제: 아래 모델 직접 구현하기\n",
    "\n",
    "    ```python\n",
    "    model = keras.Sequential([\n",
    "          layers.Dense(512, activation=\"relu\"),\n",
    "          layers.Dense(10, activation=\"softmax\")\n",
    "          ])\n",
    "    ```"
   ]
  },
  {
   "cell_type": "markdown",
   "metadata": {
    "slideshow": {
     "slide_type": "slide"
    }
   },
   "source": [
    "### `Sequential` 클래스 직접 구현"
   ]
  },
  {
   "cell_type": "markdown",
   "metadata": {
    "slideshow": {
     "slide_type": ""
    }
   },
   "source": [
    "```python\n",
    "class MySequential(keras.Model):\n",
    "    def __init__(self, list_layers): # 층들의 리스트 지정\n",
    "        super().__init__()\n",
    "        self.list_layers = list_layers\n",
    "\n",
    "    # 포워드 패스: 층과 층을 연결하는 방식으로 구현\n",
    "    def call(self, inputs):\n",
    "        outputs = inputs\n",
    "        for layer in self.list_layers:\n",
    "            outputs = layer(outputs)\n",
    "        return outputs\n",
    "```"
   ]
  },
  {
   "cell_type": "markdown",
   "metadata": {
    "slideshow": {
     "slide_type": "slide"
    }
   },
   "source": [
    "### MNIST 모델 구현"
   ]
  },
  {
   "cell_type": "markdown",
   "metadata": {
    "slideshow": {
     "slide_type": ""
    }
   },
   "source": [
    "```python\n",
    "layer_1 = SimpleDense(units=512, activation=tf.nn.relu)   # 첫째 밀집층\n",
    "layer_2 = SimpleDense(units=10, activation=tf.nn.softmax) # 둘째 밀집층\n",
    "\n",
    "model = MySequential([layer_1, layer_2])\n",
    "```"
   ]
  },
  {
   "cell_type": "markdown",
   "metadata": {
    "slideshow": {
     "slide_type": "slide"
    }
   },
   "source": [
    "### 케라스와 문자열"
   ]
  },
  {
   "cell_type": "markdown",
   "metadata": {
    "slideshow": {
     "slide_type": ""
    }
   },
   "source": [
    "`keras.layers.Dense` 층을 이용한다면 다음과 같이 활성화 함수를 문자열로 지정할 수 있다.\n",
    "\n",
    "```python\n",
    "layer_1 = Dense(units=512, activation='relu')   # 첫째 밀집층\n",
    "layer_2 = Dense(units=10, activation='softmax') # 둘째 밀집층\n",
    "\n",
    "model = MySequential([layer_1, layer_2])\n",
    "```"
   ]
  },
  {
   "cell_type": "markdown",
   "metadata": {
    "slideshow": {
     "slide_type": "slide"
    }
   },
   "source": [
    "### 모델을 하나의 층으로 활용하기"
   ]
  },
  {
   "cell_type": "markdown",
   "metadata": {},
   "source": [
    "- 기존에 정의된 모델을 다른 모델을 구성할 때 하나의 층으로 활용할 수도 있다."
   ]
  },
  {
   "cell_type": "markdown",
   "metadata": {},
   "source": [
    "- 이런 이유로 `tf.keras.Model` 클래스는 `tf.keras.layers.Layer` 클래스를 상속하도록 설계되어 있다."
   ]
  },
  {
   "cell_type": "markdown",
   "metadata": {
    "slideshow": {
     "slide_type": "slide"
    }
   },
   "source": [
    "### 모델의 학습과정과 층의 구성"
   ]
  },
  {
   "cell_type": "markdown",
   "metadata": {},
   "source": [
    "- 모델의 학습과정은 전적으로 층의 구성방식에 의존한다."
   ]
  },
  {
   "cell_type": "markdown",
   "metadata": {},
   "source": [
    "- 층의 구성 방식은 주어진 데이터셋과 모델이 해결해야 하는 문제에 따라 달라진다."
   ]
  },
  {
   "cell_type": "markdown",
   "metadata": {},
   "source": [
    "- 층을 구성할 때 특별히 정해진 규칙은 없다."
   ]
  },
  {
   "cell_type": "markdown",
   "metadata": {},
   "source": [
    "- 문제 유형에 따른 권장 모델이 다양하게 개발되어 있다."
   ]
  },
  {
   "cell_type": "markdown",
   "metadata": {
    "slideshow": {
     "slide_type": "slide"
    }
   },
   "source": [
    "### 예제: 자연어 처리에 사용되는 트랜스포머 모델"
   ]
  },
  {
   "cell_type": "markdown",
   "metadata": {},
   "source": [
    "<div align=\"center\"><img src=\"https://drek4537l1klr.cloudfront.net/chollet2/v-7/Figures/transformer0001.png\" style=\"width:500px;\"></div>\n",
    "\n",
    "<p><div style=\"text-align: center\">&lt;그림 출처: <a href=\"https://www.manning.com/books/deep-learning-with-python-second-edition\">Deep Learning with Python(2판)</a>&gt;</div></p>"
   ]
  },
  {
   "cell_type": "markdown",
   "metadata": {
    "slideshow": {
     "slide_type": "slide"
    }
   },
   "source": [
    "### 모델 컴파일"
   ]
  },
  {
   "cell_type": "markdown",
   "metadata": {
    "colab_type": "code"
   },
   "source": [
    "```python\n",
    "model.compile(optimizer=\"rmsprop\",\n",
    "              loss=\"sparse_categorical_crossentropy\",\n",
    "              metrics=[\"accuracy\"])\n",
    "```"
   ]
  },
  {
   "cell_type": "markdown",
   "metadata": {
    "slideshow": {
     "slide_type": "slide"
    }
   },
   "source": [
    "### 케라스와 문자열"
   ]
  },
  {
   "cell_type": "markdown",
   "metadata": {
    "colab_type": "code",
    "slideshow": {
     "slide_type": ""
    }
   },
   "source": [
    "| 문자열 | 파이썬 객체 |\n",
    "| :--- | :--- |\n",
    "| `\"rmsprop\"` | `keras.optimizers.RMSprop()` |\n",
    "| `\"sparse_categorical_crossentropy\"` | `keras.losses.sparse_categorical_crossentropy()` |\n",
    "| `\"accuracy\"` | `keras.metrics.Accuracy()]` |"
   ]
  },
  {
   "cell_type": "markdown",
   "metadata": {},
   "source": [
    "문자열과 연결된 객체를 직접 지정할 수도 있다."
   ]
  },
  {
   "cell_type": "markdown",
   "metadata": {
    "colab_type": "code"
   },
   "source": [
    "```python\n",
    "model.compile(optimizer=keras.optimizers.RMSprop(),\n",
    "              loss=keras.losses.sparse_categorical_crossentropy(),\n",
    "              metrics=[keras.metrics.Accuracy()])\n",
    "```"
   ]
  },
  {
   "cell_type": "markdown",
   "metadata": {
    "slideshow": {
     "slide_type": "slide"
    }
   },
   "source": [
    "### 문자열을 사용하지 못하는 경우"
   ]
  },
  {
   "cell_type": "markdown",
   "metadata": {
    "colab_type": "code"
   },
   "source": [
    "다음 두 가지의 경우엔 문자열 대신 해당 객체를 지정해야 한다.\n",
    "\n",
    "- 예를 들어, 기본값과 다른 학습률(`learning_rate`)을 사용하는 옵티마이저를 지정하는 경우\n",
    "- 사용자가 직접 정의한 객체를 사용하는 경우"
   ]
  },
  {
   "cell_type": "markdown",
   "metadata": {
    "colab_type": "code"
   },
   "source": [
    "```python\n",
    "model.compile(optimizer=keras.optimizers.RMSprop(learning_rate=1e-4),\n",
    "              loss=사용자정의손실함수객체,\n",
    "              metrics=[사용자정의평가지표_1, 사용자정의평가지표_2])\n",
    "```"
   ]
  },
  {
   "cell_type": "markdown",
   "metadata": {
    "slideshow": {
     "slide_type": "slide"
    }
   },
   "source": [
    "### 옵티마이저 종류"
   ]
  },
  {
   "cell_type": "markdown",
   "metadata": {},
   "source": [
    "다양한 옵티마이저의 장단점에 대해서는 [Hands-on Machine Learning 3판](https://www.oreilly.com/library/view/hands-on-machine-learning/9781098125967/)의 11장에 정리되어 있다.\n",
    "\n",
    "- SGD\n",
    "- SGD + momentum\n",
    "- Adagrad\n",
    "- RMSprop\n",
    "- Adam\n",
    "- Nadam\n",
    "- AdamW\n",
    "\n",
    "등등."
   ]
  },
  {
   "cell_type": "markdown",
   "metadata": {
    "slideshow": {
     "slide_type": "slide"
    }
   },
   "source": [
    "### 손실 함수 종류"
   ]
  },
  {
   "cell_type": "markdown",
   "metadata": {},
   "source": [
    "일반적으로 모델의 종류에 따라 손실 함수를 선택한다.\n",
    "\n",
    "| 손실 함수 | 용도 |\n",
    "| :---: | :---: |\n",
    "| CategoricalCrossentropy | 다중 클래스 분류 |\n",
    "| SparseCategoricalCrossentropy | 다중 클래스 분류. 정수형 (벡터) 타깃 |\n",
    "| BinaryCrossentropy | 이진 분류 |\n",
    "| MeanSquaredError | 회귀 |\n",
    "| KLDivergence | 다중 클래스 분류 |\n",
    "| CosineSimilarity | 회귀와 분류 모두. 문장 번역, 물건 추천, 이미지 분류 등 |\n",
    "| 등등 | |"
   ]
  },
  {
   "cell_type": "markdown",
   "metadata": {
    "slideshow": {
     "slide_type": "slide"
    }
   },
   "source": [
    "### 평가지표 종류"
   ]
  },
  {
   "cell_type": "markdown",
   "metadata": {},
   "source": [
    "일반적으로 모델 종류와 목적에 따라 평가 지표를 선택한다.\n",
    "\n",
    "| 평가지표 | 용도 |\n",
    "| :---: | :---: |\n",
    "| CategoricalAccuracy | 다중클래스 분류 정확도  측정|\n",
    "| SparseCategoricalAccuracy | 다중클래스 분류 정확도. 정수형 (벡터) 타깃 사용|\n",
    "| BinaryAccuracy | 이진 분류 정확도 측정 |\n",
    "| AUC | 다중 클래스 분류 AUC 측정 |\n",
    "| Precision | 다중 클래스 분류 정밀도 측정 |\n",
    "| Recall | 다중 클래스 분류 재현율 측정 |\n",
    "| 등등 | |"
   ]
  },
  {
   "cell_type": "markdown",
   "metadata": {
    "slideshow": {
     "slide_type": "slide"
    }
   },
   "source": [
    "### 훈련 루프"
   ]
  },
  {
   "cell_type": "markdown",
   "metadata": {},
   "source": [
    "- `fit()` 메서드를 호출"
   ]
  },
  {
   "cell_type": "markdown",
   "metadata": {},
   "source": [
    "- 스텝 단위로 반복"
   ]
  },
  {
   "cell_type": "markdown",
   "metadata": {},
   "source": [
    "- 지정된 에포크 만큼 또는 학습이 충분히 이루어졌다는 평가가 내려질 때까지 훈련 반복"
   ]
  },
  {
   "cell_type": "markdown",
   "metadata": {
    "slideshow": {
     "slide_type": "slide"
    }
   },
   "source": [
    "### 지도학습 모델 훈련"
   ]
  },
  {
   "cell_type": "markdown",
   "metadata": {
    "slideshow": {
     "slide_type": ""
    }
   },
   "source": [
    "```python\n",
    "# MNIST 데이터셋 준비\n",
    "from tensorflow.keras.datasets import mnist\n",
    "(train_images, train_labels), (test_images, test_labels) = mnist.load_data()\n",
    "\n",
    "train_images = train_images.reshape((60000, 28 * 28))\n",
    "train_images = train_images.astype(\"float32\") / 255 \n",
    "test_images = test_images.reshape((10000, 28 * 28))\n",
    "test_images = test_images.astype(\"float32\") / 255 \n",
    "\n",
    "# 모델 훈련\n",
    "training_history = model.fit(train_images, train_labels, epochs=5, batch_size=128)\n",
    "```"
   ]
  },
  {
   "cell_type": "markdown",
   "metadata": {
    "slideshow": {
     "slide_type": "slide"
    }
   },
   "source": [
    "### `History` 객체: 훈련 결과"
   ]
  },
  {
   "cell_type": "markdown",
   "metadata": {},
   "source": [
    "- 모델의 훈련 결과ㅇ:로 `History` 객체\n",
    "\n",
    "- `History` 객체의 `history` 속성: 에포크별로 계산된 손실값과 평가지표값 저장\n",
    "\n",
    "    ```python\n",
    "    >>> training_history.history\n",
    "    {'loss': [0.2729695439338684,\n",
    "      0.11179507523775101,\n",
    "      0.07302209734916687,\n",
    "      0.0526457279920578,\n",
    "      0.04022042825818062],\n",
    "     'accuracy': [0.9212833046913147,\n",
    "      0.9672333598136902,\n",
    "      0.9783666729927063,\n",
    "      0.9844833612442017,\n",
    "      0.988099992275238]}\n",
    "    ```"
   ]
  },
  {
   "cell_type": "markdown",
   "metadata": {
    "slideshow": {
     "slide_type": "slide"
    }
   },
   "source": [
    "### 훈련 중 모델 검증"
   ]
  },
  {
   "cell_type": "markdown",
   "metadata": {},
   "source": [
    "- 검증셋 활용 훈련\n",
    "- 아래 코드는 무작위적으로 훈련셋을 7:3으로 훈련용과 검증용으로 나눔\n",
    "\n",
    "    ```python\n",
    "    # 훈련 데이터셋 인덱스 무작위 섞기\n",
    "    indices_permutation = np.random.permutation(len(train_images))\n",
    "\n",
    "    # 훈련 데이터셋 무작위 섞기\n",
    "    shuffled_inputs = train_images[indices_permutation]\n",
    "    shuffled_targets = train_labels[indices_permutation]\n",
    "\n",
    "    # 인덱스의 30%를 활용하여 훈련용과 검증용을 7대 3으로 분리\n",
    "    num_validation_samples = int(0.3 * len(train_images))\n",
    "\n",
    "    # 검증용\n",
    "    val_inputs = shuffled_inputs[:num_validation_samples]\n",
    "    val_targets = shuffled_targets[:num_validation_samples]\n",
    "\n",
    "    # 훈련용\n",
    "    training_inputs = shuffled_inputs[num_validation_samples:]\n",
    "    training_targets = shuffled_targets[num_validation_samples:]\n",
    "    ```"
   ]
  },
  {
   "cell_type": "markdown",
   "metadata": {
    "slideshow": {
     "slide_type": "slide"
    }
   },
   "source": [
    "검증셋을 지정하고 모델을 훈련시킨다."
   ]
  },
  {
   "cell_type": "markdown",
   "metadata": {
    "slideshow": {
     "slide_type": ""
    }
   },
   "source": [
    "```python\n",
    "model.fit(\n",
    "    training_inputs,\n",
    "    training_targets,\n",
    "    epochs=5,\n",
    "    batch_size=128,\n",
    "    validation_data=(val_inputs, val_targets)\n",
    ")\n",
    "```"
   ]
  },
  {
   "cell_type": "markdown",
   "metadata": {
    "slideshow": {
     "slide_type": "slide"
    }
   },
   "source": [
    "검증셋에 대한 에포크별 손실값과 평가지표도 함께 저장된다."
   ]
  },
  {
   "cell_type": "markdown",
   "metadata": {
    "slideshow": {
     "slide_type": ""
    }
   },
   "source": [
    "```python\n",
    ">>> training_history.history\n",
    "{'loss': [0.030107110738754272,\n",
    "  0.021242942661046982,\n",
    "  0.015943283215165138,\n",
    "  0.011588473804295063,\n",
    "  0.00903001707047224],\n",
    " 'accuracy': [0.9907857179641724,\n",
    "  0.9943333268165588,\n",
    "  0.9962618947029114,\n",
    "  0.9973333477973938,\n",
    "  0.9980000257492065],\n",
    " 'val_loss': [0.031793683767318726,\n",
    "  0.034385889768600464,\n",
    "  0.033837877213954926,\n",
    "  0.029722534120082855,\n",
    "  0.029139608144760132],\n",
    " 'val_accuracy': [0.9900000095367432,\n",
    "  0.9891111254692078,\n",
    "  0.9888333082199097,\n",
    "  0.9893333315849304,\n",
    "  0.9904444217681885]}\n",
    "```"
   ]
  },
  {
   "cell_type": "markdown",
   "metadata": {
    "slideshow": {
     "slide_type": "slide"
    }
   },
   "source": [
    "### 훈련 후 모델 검증"
   ]
  },
  {
   "cell_type": "markdown",
   "metadata": {
    "slideshow": {
     "slide_type": ""
    }
   },
   "source": [
    "```python\n",
    ">>> loss_and_metrics = model.evaluate(val_inputs, val_targets, batch_size=128)\n",
    "79/79 [==============================] - 0s 2ms/step - loss: 0.0619 - accuracy: 0.9819\n",
    "        \n",
    ">>> print(loss_and_metrics)\n",
    "[0.29411643743515015, 0.5333333611488342]\n",
    "```"
   ]
  },
  {
   "cell_type": "markdown",
   "metadata": {
    "slideshow": {
     "slide_type": "slide"
    }
   },
   "source": [
    "### 예측: 방식 1"
   ]
  },
  {
   "cell_type": "markdown",
   "metadata": {},
   "source": [
    "- 모델을 마치 함수처럼 이용\n",
    "\n",
    "    ```python\n",
    "    predictions = model(new_inputs)\n",
    "    ```"
   ]
  },
  {
   "cell_type": "markdown",
   "metadata": {},
   "source": [
    "- 내부적으론 앞서 설명한 `__call()__` 메서드가 실행됨"
   ]
  },
  {
   "cell_type": "markdown",
   "metadata": {},
   "source": [
    "- 하지만 배치 사용하지 않음"
   ]
  },
  {
   "cell_type": "markdown",
   "metadata": {
    "slideshow": {
     "slide_type": "slide"
    }
   },
   "source": [
    "### 예측: 방식 2"
   ]
  },
  {
   "cell_type": "markdown",
   "metadata": {},
   "source": [
    "- `predict()` 메서드 호출\n",
    "- 배치 사용\n",
    "\n",
    "    ```python\n",
    "    predictions = model.predict(new_inputs, batch_size=128)\n",
    "    ```"
   ]
  }
 ],
 "metadata": {
  "celltoolbar": "Slideshow",
  "colab": {
   "collapsed_sections": [],
   "name": "chapter03_introduction-to-keras-and-tf.i",
   "private_outputs": false,
   "provenance": [],
   "toc_visible": true
  },
  "kernelspec": {
   "display_name": "Python 3 (ipykernel)",
   "language": "python",
   "name": "python3"
  },
  "language_info": {
   "codemirror_mode": {
    "name": "ipython",
    "version": 3
   },
   "file_extension": ".py",
   "mimetype": "text/x-python",
   "name": "python",
   "nbconvert_exporter": "python",
   "pygments_lexer": "ipython3",
   "version": "3.12.2"
  },
  "vscode": {
   "interpreter": {
    "hash": "6c86b3592b6800d985c04531f2c445f0fa6967131b8dd6395a925f7622e55602"
   }
  }
 },
 "nbformat": 4,
 "nbformat_minor": 1
}
