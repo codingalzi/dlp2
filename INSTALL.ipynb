{
 "cells": [
  {
   "cell_type": "markdown",
   "metadata": {},
   "source": [
    "# WSL2에 NVIDIA CUDA 드라이버 12.0, Toolkit 과 cuDNN 설치 (2023년 10월 기준)"
   ]
  },
  {
   "cell_type": "markdown",
   "metadata": {},
   "source": [
    "**참고**\n",
    "\n",
    "1. 윈도우 11과 WSL2, Ubuntu 20.04 를 이용하는 설명서입니다.\n",
    "    따라서 윈도우 11 최신 업데이트와 WSL2가 설치되어 있다고 가정합니다.\n",
    "    - WSL2 설치 참고 자료: [Windows 11 WSL2 설치하기](https://blog.dalso.org/article/windows-11-wsl2-%ec%84%a4%ec%b9%98%ed%95%98%ea%b8%b0)\n",
    "\n",
    "1. 아래 설명은 [How to Install the NVIDIA CUDA Driver 12.0, Toolkit & cuDNN-8.8.1.3 on WSL2 in The Year 2023](https://medium.com/@soji4u2c/how-to-install-the-nvidia-cuda-driver-12-0-toolkit-cudnn-8-8-1-3-on-wsl2-in-year-2023-23165024dc16) 사이트를 참고한다.\n",
    "\n",
    "1. Ubuntu 22.04 에서의 설치는 [https://qiita.com/rk01234/items/54f7b0a107377f1152f2](https://qiita.com/rk01234/items/54f7b0a107377f1152f2)를 참고한다."
   ]
  },
  {
   "cell_type": "markdown",
   "metadata": {},
   "source": [
    "## NVIDIA CUDA 드라이버 다운로드"
   ]
  },
  {
   "cell_type": "markdown",
   "metadata": {},
   "source": [
    "CUDA(Compute Unified Device Architecture)는 병렬 처리를 사용하여 계산을 더 빠르게 처리할 수 있도록 설계된 강력한 컴퓨팅 플랫폼이며\n",
    "그래픽 드라이버, 툴킷, 소프트웨어 개발 키트 및 응용 프로그래밍 인터페이스로 구성된다. CUDA를 통해 NVIDIA 그래픽 카드에서 CPU에서 보다 훨씬 빠르게 실행되는 프로그램을 만들 수 있다. 이는 몇 개의 CPU 코어가 아닌 수천 개의 그래픽 카드 코어를 사용하여 계산을 수행할 수 있기 때문이다."
   ]
  },
  {
   "cell_type": "markdown",
   "metadata": {},
   "source": [
    "1. [Nvidia 드라이버 공식 웹 사이트 방문](https://www.nvidia.com/Download/index.aspx?lang=en-us)\n",
    "1. 자신의 컴퓨터에 맞는 Nvidia 드라이버(Search) 탐색 후 다운로드\n",
    "1. 아래 이름과 같은 드라이버 설치 파일을 실행하여 설치\n",
    "\n",
    "        5xx.xx-desktop-win10-win11–64bit-international-dch-whql.exe"
   ]
  },
  {
   "cell_type": "markdown",
   "metadata": {},
   "source": [
    "## WSL2 업데이트"
   ]
  },
  {
   "cell_type": "markdown",
   "metadata": {},
   "source": [
    "1. Windows PowerShell을 관리자 모드로 연다.\n",
    "1. 최신 리누슥 커널을 다운로드 하기 위해 먼저 wsl을 업데이트 한다.\n",
    "\n",
    "        wsl --updte\n",
    "        \n",
    "1. 아래 명령문을 이용하여 설치된 wsl 버전이 5.15.90.1 이상이어야 함\n",
    "\n",
    "        wsl uname -r\n",
    "\n",
    "1. 아래 명령문을 이용하여 wsl 종료\n",
    "\n",
    "        wsl --shutdown"
   ]
  },
  {
   "cell_type": "markdown",
   "metadata": {},
   "source": [
    "## 우분투 20.04 LTS 설치"
   ]
  },
  {
   "cell_type": "markdown",
   "metadata": {},
   "source": [
    "두 가지 방식이 있다.\n",
    "\n",
    "- 방식 1: Windows Powershell을 다시 관리자 모드로 연 다음 아래 명령문 활용\n",
    "\n",
    "        wsl --install -d Ubuntu-20.04\n",
    "\n",
    "- 방식 2:  MS Store에서 우분투 20.04 검색 후 설치\n",
    "\n",
    "\n",
    "어떤 방식으로든 설치가 끝난 후 우분투를 실행할 때 요구되는 사용자 아이디와 패스워드를 지정하면\n",
    "모든 설정이 끝난다."
   ]
  },
  {
   "cell_type": "markdown",
   "metadata": {},
   "source": [
    "## NVIDIA CUDA 패키지 저장소 추가"
   ]
  },
  {
   "cell_type": "markdown",
   "metadata": {},
   "source": [
    "이제부터는 모든 명령문을 우분투 20.04의 터미널에서 실행한다."
   ]
  },
  {
   "cell_type": "markdown",
   "metadata": {},
   "source": [
    "- NVIDIA 공개 키를 저장한다. NVIDIA 공개 키는 NVIDIA에서 출시한 소프트웨어 패키지를 다운로드하고 업데이트 하는 데에 필요한 암호화 키이다.\n",
    "\n",
    "        sudo apt-key adv --fetch-keys http://developer.download.nvidia.com/compute/cuda/repos/ubuntu2004/x86_64/3bf863cc.pub"
   ]
  },
  {
   "cell_type": "markdown",
   "metadata": {},
   "source": [
    "- 패키지 저장소 목록을 관리하는 `/etc/apt/sources.list` 에 NVIDIA CUDA 패키지 저장소 주소를 추가한다.\n",
    "\n",
    "        sudo sh -c 'echo \"deb  http://developer.download.nvidia.com/compute/cuda/repos/ubuntu2004/x86_64 /\" > /etc/apt/sources.list.d/cuda.list'"
   ]
  },
  {
   "cell_type": "markdown",
   "metadata": {},
   "source": [
    "- 우분투에서 사용 가능한 패키지들의 정보를 업데이트 한다. \n",
    "        \n",
    "        sudo apt-get update"
   ]
  },
  {
   "cell_type": "markdown",
   "metadata": {},
   "source": [
    "## NVIDIA CUDA Toolkit 12 설치"
   ]
  },
  {
   "cell_type": "markdown",
   "metadata": {},
   "source": [
    "NVIDIA CUDA Toolkit 12는 CUDA 가속 애플리케이션을 개발하고 실행하기 위한 포괄적인 도구 세트를 제공한다.\n",
    "이 툴킷에 CUDA 가속 라이브러리, 컴파일러, 도구, 샘플 및 문서와 같은 다양한 소프트웨어 구성 요소가 포함되어 있어서\n",
    "개발자가 CUDA 가속 프로그램을 구현, 구축 및 실행하는 데에 도움을 준다."
   ]
  },
  {
   "cell_type": "markdown",
   "metadata": {},
   "source": [
    "먼저 아래 명령문을 실행하여 설치된 CUDA 드라이버 버전을 확인한다.\n",
    "\n",
    "    nvidia-smi\n",
    "\n",
    "터미널에서 출력된 내용 중에서 `CUDA Version`을 확인한다. \n",
    "2023년 10월 기준으로 12.2로 확인된다."
   ]
  },
  {
   "cell_type": "markdown",
   "metadata": {},
   "source": [
    "아래 명령문을 실행한다.\n",
    "\n",
    "    sudo apt-get --yes install cuda-toolkit-12-2 cuda-toolkit-11-7\n",
    "\n",
    "원래 제안된 것은 2023년 3월 기준으로 아래 버전이다.\n",
    "\n",
    "    sudo apt-get --yes install cuda-toolkit-12-0 cuda-toolkit-11-1    \n",
    "\n",
    "가능한 CUDA Toolkit 버전은 [CUDA Toolkit Archive](https://developer.nvidia.com/cuda-toolkit-archive)에서 확인한다."
   ]
  },
  {
   "cell_type": "markdown",
   "metadata": {},
   "source": [
    "## NVIDIA ML Repo 저장소 추가"
   ]
  },
  {
   "cell_type": "markdown",
   "metadata": {},
   "source": [
    "**주의사항:** \n",
    "\n",
    "- 필요 없을 것 같음! 더 이상 업데이트되지 않음. CUDA 저장소로 충분.\n",
    "- 참고: [Updating the CUDA Linux GPG Repository Key](https://developer.nvidia.com/blog/updating-the-cuda-linux-gpg-repository-key/)"
   ]
  },
  {
   "cell_type": "markdown",
   "metadata": {},
   "source": [
    "- 공개 키를 저장한다.\n",
    "\n",
    "        sudo apt-key adv --fetch-keys http://developer.download.nvidia.com/compute/machine-learning/repos/ubuntu2004/x86_64/7fa2af80.pub\n",
    "\n",
    "- NVIDIA ML Repo 저장소를 패키지 저장소 목록에 추가한다.\n",
    "\n",
    "        sudo sh -c 'echo \"deb  http://developer.download.nvidia.com/compute/machine-learning/repos/ubuntu2004/x86_64 /\" > /etc/apt/sources.list.d/nvidia-machine-learning.list'\n",
    "\n",
    "- 패키지 정보를 업데이트한다.\n",
    "        \n",
    "        sudo apt-get update"
   ]
  },
  {
   "cell_type": "markdown",
   "metadata": {},
   "source": [
    "## CUDA와 cuDNN 라이브러리 설치"
   ]
  },
  {
   "cell_type": "markdown",
   "metadata": {},
   "source": [
    "cuDNN(CUDA Deep Neural Network)은 GPU에서 딥러닝 작업을 가속화하도록 설계된 고성능 라이브러리이며\n",
    "TensorFlow, PyTorch 및 Caffe와 같은 인기 있는 딥러닝 프레임워크와 원활하게 작동하도록 설계되었다.\n",
    "\n",
    "구심층 신경망을 구축하고 훈련하는 데 일반적으로 사용되는 최적화된 연산들을 제공한다.\n",
    "예를 들어 합성곱, 활성화 함수, 정규화, 풀링 연산을 지원한다.\n",
    "\n",
    "- 면저 [NVIDIA Developer](https://developer.nvidia.com/rdp/cudnn-download)에서 로그인 한다.\n",
    "\n",
    "- 2023년 10월 기준으로 최신 NVIDA 그래픽 드라이버가 설치되었다는 전제 하여 아래 파일의 링크를 선택한다.\n",
    "\n",
    "        Download cuDNN v8.9.5 (September 12th, 2023), for CUDA 12.x\n",
    "\n",
    "- 아래 파일을 다운로드 한다. (Intel 프로세서 기준)\n",
    "\n",
    "        Local Installer for Ubuntu20.04 x86_64 (Deb)\n",
    "\n",
    "이어서 아래 설명에 따라 설치한다.\n",
    "\n",
    "- 앞서 다운로드한 파일이 저장된 곳으로 이동한 후 아래 명령문을 실행한다.\n",
    "\n",
    "        sudo dpkg -i cudnn-local-repo-ubuntu2004–8.9.5.29_1.0–1_amd64\n",
    "\n",
    "- CUDA GPG 키를 불러온다.\n",
    "\n",
    "        sudo cp /var/cudnn-local-repo-*/cudnn-local-*-keyring.gpg /usr/share/keyrings/\n",
    "\n",
    "- 패키지 저장소 정도 업데이트\n",
    "\n",
    "        sudo apt-get update\n",
    "\n",
    "- 런타임 라이브러리를 설치한다.  아래 명령문 실행하여 설치가능 패키지를 확인할 수도 있다. \n",
    "        \n",
    "        apt-cache policy libcudnn8\n",
    "\n",
    "    여기서는 아래 버전을 선택한다.\n",
    "    \n",
    "        sudo apt-get install libcudnn8=8.9.5.29-1+cuda12.2\n",
    "\n",
    "- 개발자 라이브러리 설치\n",
    "\n",
    "        sudo apt-get install libcudnn8-dev=8.9.5.29-1+cuda12.2\n",
    "\n",
    "- 코드 샘플 추가\n",
    "\n",
    "        sudo apt-get install libcudnn8-samples=8.9.5.29-1+cuda12.2"
   ]
  },
  {
   "cell_type": "markdown",
   "metadata": {},
   "source": [
    "## 파이썬과 텐서플로우 설치"
   ]
  },
  {
   "cell_type": "markdown",
   "metadata": {},
   "source": [
    "- 파이썬 설치는 miniconda 또는 anaconda를 이용한다."
   ]
  },
  {
   "cell_type": "markdown",
   "metadata": {},
   "source": [
    "### miniconda 와 jupyter 설치"
   ]
  },
  {
   "cell_type": "markdown",
   "metadata": {},
   "source": [
    "아래 단계에 따라 miniconda와 파이썬, 주피터 노트북을 설치한다.\n",
    "\n",
    "- 참고: https://github.com/codingalzi/t81_558_deep_learning/blob/master/install/tensorflow-install-march-2023.ipynb\n",
    "\n",
    "- 설치 단계\n",
    "\n",
    "    1. miniconda 다운로드\n",
    "    \n",
    "            curl https://repo.anaconda.com/miniconda/Miniconda3-latest-Linux-x86_64.sh -o Miniconda3-latest-Linux-x86_64.sh\n",
    "\n",
    "    2. minoconda 설치\n",
    "    \n",
    "            bash Miniconda3-latest-Linux-x86_64.sh\n",
    "\n",
    "    3. jupyter notebook 설치\n",
    "\n",
    "            conda install -y jupyter"
   ]
  },
  {
   "cell_type": "markdown",
   "metadata": {},
   "source": [
    "### anaconda 설치"
   ]
  },
  {
   "cell_type": "markdown",
   "metadata": {},
   "source": [
    "miniconda 대신에 anaconda를 설치하면 jupyter notebook 등을 따로 설치할 필요가 없다."
   ]
  },
  {
   "cell_type": "markdown",
   "metadata": {},
   "source": [
    "### 텐서플로우 설치"
   ]
  },
  {
   "cell_type": "markdown",
   "metadata": {},
   "source": [
    "[pip을 이용한 tensorflow 설치](https://www.tensorflow.org/install/pip)에서 Linux 또는 Windows WSL2 의 경우의 설명을 따르기만 하면 된다.\n",
    "설치 과정은 다음과 같다.\n",
    "\n",
    "- pip 업데이트\n",
    "\n",
    "        pip install --upgrade pip\n",
    "\n",
    "- GPU 지원 텐서플로우 설치\n",
    "\n",
    "        pip install tensorflow[and-cuda]"
   ]
  },
  {
   "cell_type": "markdown",
   "metadata": {},
   "source": [
    "이제 아래 명령문으로 GPU가 제대로 작동하는지 확인한다.\n",
    "\n",
    "    python3 -c \"import tensorflow as tf; print(tf.config.list_physical_devices('GPU'))\"\n",
    "\n",
    "오류 없이 몇 개의 경고문과 함께 최종적으로 아래와 같은 내용이 출력되면 정상적으로 작동하는 것이다.\n",
    "\n",
    "    [PhysicalDevice(name='/physical_device:GPU:0', device_type='GPU')]"
   ]
  },
  {
   "cell_type": "markdown",
   "metadata": {},
   "source": [
    "`tensforslow` 라이브러리를 불러올 때 여러 종류의 경고(warning)가 함께 표기될 수도 있다.\n",
    "하지만 다음 두 종류의 경고는 무시해도 된다.\n",
    "\n",
    "- `tensorRT` 라이브러리가 없다는 경고: `libninfer_plugin` 관련\n",
    "- NUMA 관련 경고\n",
    "- CPU 관련 경고: AVX2 FMA 등등"
   ]
  }
 ],
 "metadata": {
  "language_info": {
   "name": "python"
  },
  "orig_nbformat": 4
 },
 "nbformat": 4,
 "nbformat_minor": 2
}
