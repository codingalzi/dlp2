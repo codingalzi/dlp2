{
 "cells": [
  {
   "cell_type": "markdown",
   "metadata": {},
   "source": [
    "(appendix:tensor-intro)=\n",
    "# 부록: 텐서 소개"
   ]
  },
  {
   "cell_type": "markdown",
   "metadata": {},
   "source": [
    "**소스코드**\n",
    "\n",
    "여기서 언급되는 코드를\n",
    "[(구글 코랩) 텐서 소개](https://colab.research.google.com/github/codingalzi/dlp2/blob/master/notebooks/NB-tensor_intro.ipynb)에서 \n",
    "직접 실행할 수 있다."
   ]
  },
  {
   "cell_type": "markdown",
   "metadata": {},
   "source": [
    "**슬라이드**\n",
    "\n",
    "본문 내용을 요약한 [슬라이드](https://github.com/codingalzi/dlp2/raw/master/slides/slides-tensor_intro.pdf)를 다운로드할 수 있다."
   ]
  },
  {
   "cell_type": "markdown",
   "metadata": {},
   "source": [
    "## 텐서"
   ]
  },
  {
   "cell_type": "markdown",
   "metadata": {},
   "source": [
    "MNIST 손글씨 데이터 분류 모델의 훈련에 사용된 훈련셋과 테스트셋은\n",
    "넘파이 어레이, 즉 `numpy.ndarray`(이하 `np.ndarray`) 자료형으로 저장된다.\n",
    "머신러닝에 사용되는 데이터셋은 일반적으로 넘파이 어레이와 같은 \n",
    "**텐서**<font size='2'>tensor</font>에 저장된다."
   ]
  },
  {
   "cell_type": "markdown",
   "metadata": {},
   "source": [
    "텐서<font size='2'>tensor</font>는 데이터를 담은 모음 자료형을 가리키며\n",
    "넘파이 어레이가 대표적인 텐서이다. \n",
    "텐서플로우 라이브러리는 자체의 `Tensor` 자료형인 `tensorflow.Tensor`(이하 `tf.Tensor`)를 제공한다.\n",
    "`tf.Tensor`는 넘파이 어레이와 매우 유사하지만 GPU를 활용한 연산을 지원한다는 점에서 넘파이 어레이와 다르다.\n",
    "\n",
    "앞서 신경망 모델을 구성할 때처럼 \n",
    "여기서는 텐서플로우의 케라스 패키지인 `tensorflow.keras`를 기본 패키지로 사용하는데\n",
    "케라스 신경망 모델의 입력, 출력값으로 넘파이 어레이를 기본으로 사용한다.\n",
    "따라서 특별한 경우가 아니라면 넘파이 어레이를 데이터셋을 다룰 때 사용하면 된다."
   ]
  },
  {
   "cell_type": "markdown",
   "metadata": {},
   "source": [
    "### 텐서의 차원"
   ]
  },
  {
   "cell_type": "markdown",
   "metadata": {},
   "source": [
    "텐서의 **차원**은 텐서의 표현에 사용된 **축**<font size='2'>axis</font>의 수로 \n",
    "결정되며 **랭크**<font size='2'>rank</font>라 불리기도 한다."
   ]
  },
  {
   "cell_type": "markdown",
   "metadata": {},
   "source": [
    "- 0차원(0D) 텐서 (랭크-0 텐서)\n",
    "    - 정수 한 개, 부동소수점 한 개 등 하나의 수를 표현하는 텐서. \n",
    "    - **스칼라**<font size='2'>scalar</font>라고도 불림.\n",
    "        ```\n",
    "        np.array(12)\n",
    "        np.array(1.34)\n",
    "        ```"
   ]
  },
  {
   "cell_type": "markdown",
   "metadata": {},
   "source": [
    "- 1차원(1D) 텐서 (랭크-1 텐서)\n",
    "    - 수로 이루어진 리스트 형식의 텐서. \n",
    "    - **벡터**<font size='2'>vector</font>로 불리며 한 개의 축을 가짐.\n",
    "        ```\n",
    "        np.array([12, 3, 6, 14, 7])\n",
    "        ```"
   ]
  },
  {
   "cell_type": "markdown",
   "metadata": {},
   "source": [
    "- 2차원(2D) 텐서 (랭크-2 텐서)\n",
    "    - 행<font size='2'>row</font>과 열<font size='2'>column</font> 두 개의 축을 가짐. \n",
    "    - **행렬**<font size='2'>matrix</font>로도 불림.\n",
    "        ```\n",
    "        np.array([[5, 78, 2, 34, 0],\n",
    "                [6, 79, 3, 35, 1],\n",
    "                [7, 80, 4, 36, 2]])\n",
    "        ```\n",
    "    - 흑백 사진 데이터를 2D 텐서로 표현 가능. 아래 그림 참고.\n",
    "        <br>\n",
    "        <div align=\"center\"><img src=\"https://github.com/codingalzi/dlp2/blob/master/jupyter-book/imgs/ch02-mnist05.png?raw=true\" style=\"width:600px;\"></div>\n",
    "\n",
    "        <p><div style=\"text-align: center\">&lt;그림 출처: <a href=\"https://towardsdatascience.com/exploring-how-neural-networks-work-and-making-them-interactive-ed67adbf9283\">Towards data science: Mikkel Duif(2019)</a>&gt;</div></p>"
   ]
  },
  {
   "cell_type": "markdown",
   "metadata": {},
   "source": [
    "- 3차원(3D) 텐서 (랭크-3 텐서)\n",
    "    - 행, 열, 깊이 세 개의 축 사용.\n",
    "    - 동일 모양의 2D 텐서로 구성된 벡터로 이해 가능. \n",
    "        예를 들어 흑백 사진 샘플로 구성된 데이터셋이 3D 텐서로 표현됨.\n",
    "        ```\n",
    "        np.array([[[5, 78, 2, 34, 0],\n",
    "                    [6, 79, 3, 35, 1],\n",
    "                    [7, 80, 4, 36, 2]],\n",
    "\n",
    "                    [[5, 78, 2, 34, 0],\n",
    "                    [6, 79, 3, 35, 1],\n",
    "                    [7, 80, 4, 36, 2]],\n",
    "\n",
    "                    [[5, 78, 2, 34, 0],\n",
    "                    [6, 79, 3, 35, 1],\n",
    "                    [7, 80, 4, 36, 2]]])\n",
    "        ```\n",
    "    - 또는 동일한 길이의 벡터를 항목으로 사용하는 2D 텐서로 이해 가능.\n",
    "        예를 들어, RGB로 구성된 사진 데이터가 3D 텐서로 표현됨. 아래 그림 참고. \n",
    "        <br>\n",
    "        <div align=\"center\"><img src=\"https://github.com/codingalzi/dlp2/blob/master/jupyter-book/imgs/ch02-rgb-3d-1.png?raw=true\" style=\"width:600px;\"></div>\n",
    "        <div align=\"center\"><img src=\"https://github.com/codingalzi/dlp2/blob/master/jupyter-book/imgs/ch02-rgb-3d-2.png?raw=true\" style=\"width:600px;\"></div>\n",
    "\n",
    "        <p><div style=\"text-align: center\">&lt;그림 출처: <a href=\"https://dev.to/sandeepbalachandran/machine-learning-going-furthur-with-cnn-part-2-41km\">Machine Learning - Going Furthur with CNN Part 2</a>&gt;</div></p>\n",
    "\n"
   ]
  },
  {
   "cell_type": "markdown",
   "metadata": {},
   "source": [
    "- 4D 텐서 (랭크-4 텐서)\n",
    "    - 3D 텐서로 이루어진 벡터\n",
    "    - 예를 들어 컬러 사진 데이터로 구성된 훈련셋, 연속된 사진으로 처리될 수 있는 한 편의 동영상 등이 4D 텐서로 표현됨."
   ]
  },
  {
   "cell_type": "markdown",
   "metadata": {},
   "source": [
    "- 5D 텐서 (랭크-5 텐서)\n",
    "    - 4D 텐서로 이루어진 벡터\n",
    "    - 예를 들어 동영상 데이터로 구성된 훈련셋 등이 5D 텐서로 표현됨."
   ]
  },
  {
   "cell_type": "markdown",
   "metadata": {},
   "source": [
    "6D 텐서는 5D 텐서로 이루어진 벡터, 7D 텐서는 6D 텐서로 구성된 벡터 등으로 임의의 차원의 텐서를 정의할 수 있지만\n",
    "일반적이지는 않다."
   ]
  },
  {
   "cell_type": "markdown",
   "metadata": {},
   "source": [
    ":::{admonition} 벡터의 차원\n",
    ":class: caution\n",
    "\n",
    "**벡터의 길이**를 **차원**이라 부르기도 한다.\n",
    "예를 들어, `np.array([12, 3, 6, 14, 7])`는 5차원 벡터다.\n",
    "따라서 벡터의 차원인지, 텐서의 차원인지 명확히 구분할 필요가 있다.\n",
    ":::"
   ]
  },
  {
   "cell_type": "markdown",
   "metadata": {},
   "source": [
    "### 텐서 주요 속성"
   ]
  },
  {
   "cell_type": "markdown",
   "metadata": {},
   "source": [
    "텐서의 주요 속성 세 가지는 다음과 같으며, 넘파이 어레이의 경우와 동일하다."
   ]
  },
  {
   "cell_type": "markdown",
   "metadata": {},
   "source": [
    "- `ndim` 속성: 텐서의 차원 저장. \n",
    "    예를 들어 MNIST 훈련셋 어레이의 차원은 3.\n",
    "    ```python\n",
    "    >>> train_images.ndim \n",
    "    3\n",
    "    ```"
   ]
  },
  {
   "cell_type": "markdown",
   "metadata": {},
   "source": [
    "- `shape` 속성: 텐서의 모양을 튜플로 저장. \n",
    "    각 항목은 축(axis)별로 사용되는 벡터의 크기를 가리킴.\n",
    "    예를 들어 MNIST의 훈련셋은 3개의 축으로 구성됨.\n",
    "    0번 축은 6만개의 샘플 데이터를,\n",
    "    1번 축은 각 사진에 사용된 28개의 세로 픽셀 데이터를,\n",
    "    2번 축은 각 사진에 사용된 28개의 가로 픽셀 데이터를 가리킴.\n",
    "    ```python\n",
    "    >>> train_images.shape\n",
    "    (60000, 28, 28)\n",
    "    ```"
   ]
  },
  {
   "cell_type": "markdown",
   "metadata": {},
   "source": [
    "- `dtype` 속성: 텐서에 포함된 항목의 통일된 자료형.\n",
    "    `float16`, `float32`,`float64`, `int8`, `uint8`, `string` 등이 \n",
    "    가장 많이 사용됨.\n",
    "    예를 들어, MNIST 훈련셋에 포함된 사진의 픽셀 정보는 0과 255 사이의\n",
    "    정수로 표현되며 따라서 `unit8` 자료형을 사용함.\n",
    "    ```python\n",
    "    >>> train_images.dtype\n",
    "    uint8\n",
    "    ```"
   ]
  },
  {
   "cell_type": "markdown",
   "metadata": {},
   "source": [
    "데이터셋의 차원과 모양 정보와 인덱싱, 슬라이싱 기능을 이용하여\n",
    "샘플을 확인하고 배치를 생성하는 일 등을 처리할 수 있다."
   ]
  },
  {
   "cell_type": "markdown",
   "metadata": {},
   "source": [
    "**인덱싱**\n",
    "\n",
    "예를 들어, 훈련셋에 포함된 4번 인덱스의 사진, 즉 훈련셋의 5번째 사진을 다음처럼 선택하여 확인할 수 있다.\n",
    "```python\n",
    ">>> import matplotlib.pyplot as plt\n",
    ">>> digit = train_images[4]\n",
    ">>> plt.imshow(digit, cmap=plt.cm.binary)\n",
    ">>> plt.show()\n",
    "```\n",
    "\n",
    "<img src=\"https://github.com/codingalzi/dlp2/blob/master/jupyter-book/imgs/ch02-mnist4.png?raw=true\" style=\"width:250px;\">\n",
    "<br>"
   ]
  },
  {
   "cell_type": "markdown",
   "metadata": {},
   "source": [
    "위 사진은 숫자 9를 가리키는 것으로 보인다.\n",
    "실제 해당 샘플의 라벨이 9로 확인된다.\n",
    "\n",
    "```python\n",
    ">>> train_labels[4] \n",
    "9\n",
    "```"
   ]
  },
  {
   "cell_type": "markdown",
   "metadata": {},
   "source": [
    "<br>\n",
    "\n",
    "**슬라이싱**\n",
    "\n",
    "케라스를 포함하여 대부분의 딥러닝 모델은 훈련 세트 전체를 한꺼번에 처리하지 않고\n",
    "지정된 크기(`batch_size`)의 배치를 이용하여 스텝 단위로 훈련한다.\n",
    "앞서 살펴본 모델의 배치 크기는 128이었다.\n",
    "크기가 128인 첫째 배치는 다음과 같이 지정한다.\n",
    "\n",
    "```python\n",
    ">>> batch = train_images[:128]\n",
    "```"
   ]
  },
  {
   "cell_type": "markdown",
   "metadata": {},
   "source": [
    "다음은 둘째 배치를 지정한다.\n",
    "\n",
    "```python\n",
    ">>> batch = train_images[128: 256]\n",
    "```"
   ]
  },
  {
   "cell_type": "markdown",
   "metadata": {},
   "source": [
    "훈련셋의 `n`번째 배치는 다음과 같이 지정할 수 있다.\n",
    "\n",
    "```python\n",
    ">>> batch = train_images[128 * n:128 * (n + 1)]\n",
    "```"
   ]
  },
  {
   "cell_type": "markdown",
   "metadata": {},
   "source": [
    "### 텐서 실전 예제"
   ]
  },
  {
   "cell_type": "markdown",
   "metadata": {},
   "source": [
    "**(1) 2D 텐서 실전 예제**\n",
    "\n",
    "각각의 샘플이 지정된 개수의 특성으로 구성된 벡터로 표현된다.\n",
    "전체 데이터셋은 `(샘플 수, 특성 수)` 모양의 2D 텐서로 표현된다.\n",
    "\n",
    "- 예제 1: [캘리포니아 구역별 인구조사 데이터셋](https://codingalzi.github.io/handson-ml3/end2end_ml_project.html)\n",
    "    - 샘플: 10개의 특성 사용. 따라서 `(10,)` 모양의 벡터로 표현됨.\n",
    "    - 데이터셋: 20,640개의 구역별 데이터 포함. 따라서 `(20640, 10)` 모양의 2D 텐서로 표현 가능.\n",
    "        <br>\n",
    "        <img src=\"https://raw.githubusercontent.com/codingalzi/handson-ml3/master/jupyter-book/imgs/ch02/housing-data.png\" style=\"width:600px;\">\n",
    "\n",
    "- 예제 2\n",
    "    - 샘플: 문장에 사용된 단어들의 빈도를 모아놓은 벡터. \n",
    "        예를 들어, 지정된 2만 개의 단어 각각이 지정된 문장에 사용된 빈도를 측정하여\n",
    "        `(20000,)` 모양의 벡터로 표현 가능.\n",
    "    - 데이터셋: 10만 개의 문장을 대상으로 2만 개 단어의 사용빈도를 측정한 데이터셋은 \n",
    "        `(100000, 20000)` 모양의 2D 텐서로 표현 가능.\n",
    "\n",
    "- 예제 3: 사이킷런 모델의 입력 데이터셋은 기본적으로 2D 텐서를 사용함."
   ]
  },
  {
   "cell_type": "markdown",
   "metadata": {},
   "source": [
    "**(2) 3D 텐서 실전 예제**\n",
    "\n",
    "증시 데이터 등의 시계열 데이터와 트위터 데이터 등의 순차 데이터를 다룰 때 사용하며\n",
    "`(샘플 수, 타임 스텝 수, 특성 수)` 모양의 3D 텐서로 표현된다."
   ]
  },
  {
   "cell_type": "markdown",
   "metadata": {},
   "source": [
    "<div align=\"center\"><img src=\"https://drek4537l1klr.cloudfront.net/chollet2/v-7/Figures/ch02-timeseries_data.png\" style=\"width:350px;\"></div>\n",
    "\n",
    "<p><div style=\"text-align: center\">&lt;그림 출처: <a href=\"https://www.manning.com/books/deep-learning-with-python-second-edition\">Deep Learning with Python(2판)</a>&gt;</div></p>"
   ]
  },
  {
   "cell_type": "markdown",
   "metadata": {},
   "source": [
    "- 예제 1\n",
    "    - 샘플: 1분마다 하루 총 390번 (현재 증시가, 지난 1분 동안 최고가, 지난 1분 동안 최저가)를 \n",
    "        측정한 데이터. `(390, 3)` 모양의 2D 텐서로 표현.        \n",
    "    - 데이터셋: 250일 동안 측정한 데이터셋은 `(250, 390, 3)` 모양의 3D 텐서로 표현.\n",
    "\n",
    "- 예제 2\n",
    "    - 샘플: 하나의 트위터 데이터(트윗)는 최대 280개의 문자로 구성되고, 사용할 수 있는 문자가 총 128 개일 때\n",
    "        트위터 샘플 하나를 `(280, 128)` 모양의 2D 텐서로 표현 가능함. \n",
    "        각각의 항목은 128개의 문자 각각의 사용여부를 확인해주는 0 또는 1.\n",
    "    - 데이터셋: 백만 개의 샘플로 구성된 트위터 데이터셋은 `(1000000, 280, 128)` 모양의 3D 텐서로 표현 가능.\n",
    "\n",
    "- 예제 3: 흑백 사진으로 구성된 데이터셋\n",
    "    - 샘플: `28x28` 크기의 (흑백) 손글씨 사진.\n",
    "        `(28, 28)` 모양의 2D 텐서로 표현 가능.\n",
    "    - MNIST 훈련 데이터셋: 총 6만개의 (흑백) 손글씨 사진으로 구성됨.\n",
    "        `(60000, 28, 28)` 모양의 3D 텐서로 표현 가능.\n",
    "        \n",
    "- 예제 4: 한 장의 컬러 사진 데이터 샘플\n",
    "    - 한 장의 컬러 사진 샘플은 일반적으로 `(높이, 너비, 채널 수)` 또는 `(채널 수, 높이, 너비)`\n",
    "        모양의 3D 텐서로 표현\n"
   ]
  },
  {
   "cell_type": "markdown",
   "metadata": {},
   "source": [
    "**(3) 4D 텐서 실전 활용 예제**\n",
    "\n",
    "컬러 사진으로 구성된 데이터셋은 \n",
    "`(샘플 수, 높이, 너비, 채널 수)` 또는 `(샘플 수, 채널 수, 높이, 너비)`\n",
    "모양의 4D 텐서로 표현된다.\n",
    "\n",
    "RGB를 사용하는 컬러 어미지는 3개의 커널을, 흑백 사진은 1개의 채널을 갖는다. \n",
    "예를 들어 `256x256` 크기의 컬러 사진 128개를 갖는 데이터셋은\n",
    "`(128, 256, 256, 3)` 모양 4D 텐서로 표현된다."
   ]
  },
  {
   "cell_type": "markdown",
   "metadata": {},
   "source": [
    "<div align=\"center\"><img src=\"https://drek4537l1klr.cloudfront.net/chollet2/v-7/Figures/ch02-image_data.png\" style=\"width:350px;\"></div>\n",
    "\n",
    "<p><div style=\"text-align: center\">&lt;그림 출처: <a href=\"https://www.manning.com/books/deep-learning-with-python-second-edition\">Deep Learning with Python(2판)</a>&gt;</div></p>"
   ]
  },
  {
   "cell_type": "markdown",
   "metadata": {},
   "source": [
    "반면에 `28x28` 크기의 흑백 사진 128개를 갖는 데이터셋 또는 배치는\n",
    "`(128, 28, 28, 1)` 모양 4D 텐서로 표현된다.\n",
    "하지만 MNIST의 경우처럼 흑백 사진 데이터셋은 `(128, 28, 28)` 모양의 3D로 표현하기도 한다.\n",
    "예를 들어 `(3, 3, 1)` 모양의 3D 텐서를 `(3, 3)` 모양의 텐서로 표현할 수 있다."
   ]
  },
  {
   "cell_type": "markdown",
   "metadata": {},
   "source": [
    "```python\n",
    ">>> tensor331 = np.array([[[1], [2], [3]],\n",
    "                          [[4], [5], [6]],\n",
    "                          [[7], [8], [9]]])\n",
    ">>> tensor331.reshape(3, 3)\n",
    "np.array([[1, 2, 3],\n",
    "          [4, 5, 6],\n",
    "          [7, 8, 9]])\n",
    "```"
   ]
  },
  {
   "cell_type": "markdown",
   "metadata": {},
   "source": [
    "또 다른 예제로 동영상을 4D 텐서 데이터로 다룰 수 있다.\n",
    "동영상은 프레임<font size='2'>frame</font>으로 구성된 순차 데이터다.\n",
    "프레임은 한 장의 컬러 사진이며, \n",
    "`(높이, 너비, 채널 수)` 모양의 3D 텐서로 표현된다.\n",
    "따라서 하나의 동영상은 `(프레임 수, 높이, 너비, 채널 수)` 모양의 4D 텐서로\n",
    "표현된다."
   ]
  },
  {
   "cell_type": "markdown",
   "metadata": {},
   "source": [
    "**(4) 5D 텐서 실전 예제**\n",
    "\n",
    "여러 개의 동영상으로 이루어진 데이터셋은 \n",
    "`(동영상 수, 프레임 수, 높이, 너비, 채널 수)` 모양의 5D 텐서로 표현된다.\n",
    "\n",
    "예를 들어, `144x256` 크기의 프레임으로 구성된 60초 동영상이 초당 4개의 프레임을 사용한다면\n",
    "동영상 한 편은 `(240, 144, 256, 3)` 모양의 4D 텐서로 표현된다.\n",
    "따라서 동영상 10 편으로 구성된 데이터셋은 `(10, 240, 144, 256, 3)` 모양의 5D 텐서로 표현된다."
   ]
  },
  {
   "cell_type": "markdown",
   "metadata": {},
   "source": [
    "### 텐서 연산"
   ]
  },
  {
   "cell_type": "markdown",
   "metadata": {},
   "source": [
    "신경망 모델의 훈련은 기본적으로 텐서와 관련된 몇 가지 연산으로 이루어진다. \n",
    "예를 들어 이전 신경망에 사용된 층을 살펴보자.\n",
    "\n",
    "```python\n",
    "keras.layers.Dense(512, activation=\"relu\")\n",
    "keras.layers.Dense(10, activation=\"softmax\")\n",
    "```\n",
    "\n",
    "첫째 층이 하는 일은 데이터 변환이며 실제로 이루어지는 연산은 다음과 같다.\n",
    "\n",
    "- `W1`: 첫째 층에서 학습되는 가중치 행렬\n",
    "- `b1`: 첫째 층에서 학습되는 편향 벡터\n",
    "\n",
    "`output = relu(np.dot(input, W1) + b1)`\n",
    "\n",
    "사용된 세부 연산은 다음과 같다. \n",
    "\n",
    "- 텐서 점곱: `np.dot()` 함수에 의해 행렬 곲 계산\n",
    "- 텐서 덧셈: `+`. 텐서 대상 항목별 덧셈.\n",
    "- 활성화 함수: `relu()` 함수. 음수 항목을 모두 0으로 대체함.\n",
    "\n",
    "둘째 층은 다른 가중치 행렬과 편향을 학습하여 데이터를 변환한다.\n",
    "\n",
    "- `W2`: 둘째 층에서 학습되는 가중치 행렬\n",
    "- `b2`: 둘째 층에서 학습되는 편향 벡터\n",
    "\n",
    "`output = softmax(np.dot(input, W2) + b2)`\n",
    "\n",
    "`softmax()` 함수는 분류 신경망 모델의 마지막 층인 **출력층**에서 사용되는 활성화 함수이며\n",
    "입력 샘플이 클래스별로 해당 클래스에 속할 확률을 계산한다. \n",
    "위 모델의 경우 10개 유닛에서 계산된 값들을 이용하여 10개 각 클래스별로 속할\n",
    "확률을 계산하며, 확률값의 합은 1이 되도록 한다."
   ]
  },
  {
   "cell_type": "markdown",
   "metadata": {},
   "source": [
    "**항목별 연산과 브로드캐스팅**"
   ]
  },
  {
   "cell_type": "markdown",
   "metadata": {},
   "source": [
    "앞서 언급된 연산과 함수 중에서 덧셈 연산은 텐서에 포함된 항목별로 연산이 이뤄진다.\n",
    "아래 그림은 텐서의 항목별 덧셈과 브로드캐스팅이 작동하는 방식을 보여준다."
   ]
  },
  {
   "cell_type": "markdown",
   "metadata": {},
   "source": [
    "<div align=\"center\"><img src=\"https://scipy-lectures.org/_images/numpy_broadcasting.png\" style=\"width:750px;\"></div>\n",
    "\n",
    "<p><div style=\"text-align: center\">&lt;그림 출처: <a href=\"https://scipy-lectures.org/intro/numpy/operations.html\">Scipy Lecture Notes</a>&gt;</div></p>"
   ]
  },
  {
   "cell_type": "markdown",
   "metadata": {},
   "source": [
    "텐서 연산과 브로드캐스팅을 가능한 모든 경우에 적용된다.\n",
    "아래 그림은 3차원 텐서와 2차원 텐서의 연산에 브로드캐스팅이 \n",
    "자동으로 적용되는 과정을 보여준다."
   ]
  },
  {
   "cell_type": "markdown",
   "metadata": {},
   "source": [
    "<div align=\"center\"><img src=\"https://raw.githubusercontent.com/codingalzi/pydata/master/notebooks/images/broadcasting12.png\" style=\"width:300px;\"></div>"
   ]
  },
  {
   "cell_type": "markdown",
   "metadata": {},
   "source": [
    "**유니버설 함수**\n",
    "\n",
    "덧셈, 뺄셈, 곱셈, 나눗셈의 사칙 연산 이외에 다른 많은 연산과 함수도 항목별로 적용된다.\n",
    "예를 들어, `relu()` 함수가 0보다 작은 항목을 0으로 대체하는 데에 사용하는 `np.maximum()` 함수가\n",
    "텐서의 항목 각각에 대해 작동하는 과정을 보여준다.\n",
    "이와 같이 항목별로 작동하는 함수를 **유니버설**<font size='2'>universal</font> 함수라 부른다.\n",
    "\n",
    "```\n",
    "relu(t) = np.maximum(t, 0)\n",
    "```"
   ]
  },
  {
   "cell_type": "markdown",
   "metadata": {},
   "source": [
    "<div align=\"center\"><img src=\"https://raw.githubusercontent.com/codingalzi/dlp2/master/jupyter-book/imgs/ch01-universal_functions01.jpg\" style=\"width:500px;\"></div>\n",
    "\n",
    "<p><div style=\"text-align: center\">&lt;그림 출처: <a href=\"https://www.sharpsightlabs.com/blog/numpy-maximum/\">Sharp Sight - How to Use the Numpy Maximum Function</a>&gt;</div></p>"
   ]
  },
  {
   "cell_type": "markdown",
   "metadata": {},
   "source": [
    ":::{admonition} `softmax()` 함수\n",
    ":class: warning\n",
    "\n",
    "유니버설 함수만 활성화 함수로 사용되는 것은 아니다. \n",
    "`softmax()` 함수는 유니버설 함수가 아니며, 각 유닛에서 계산된 값들의 상대적 크기를 계산한다.\n",
    ":::"
   ]
  },
  {
   "cell_type": "markdown",
   "metadata": {},
   "source": [
    "**텐서 점곱**\n",
    "\n",
    "**텐서 점곱**<font size='2'>tensor dot product</font> 함수는\n",
    "두 벡터의 내적 또는 두 행렬의 곱을 계산할 때 사용된다.\n",
    "아래 그림에서 보여지는 것처럼 두 인자의 유형에 따라 다르게 작동한다.\n",
    "\n",
    "- 1D와 스칼라의 점곱: 항목 별 배수 곱셈\n",
    "- 1D와 1D의 점곱: 벡터 내적\n",
    "- 1D와 2D의 점곱: 행렬 곱셈\n",
    "- 2D와 2D의 점곱: 행렬 곱셈"
   ]
  },
  {
   "cell_type": "markdown",
   "metadata": {},
   "source": [
    "<div align=\"center\"><img src=\"https://blog.finxter.com/wp-content/uploads/2021/01/numpy_dot-1-scaled.jpg\" style=\"width:500px;\"></div>\n",
    "\n",
    "<p><div style=\"text-align: center\">&lt;그림 출처: <a href=\"https://blog.finxter.com/dot-product-numpy/\">finxter - NumPy Dot Product</a>&gt;</div></p>"
   ]
  },
  {
   "cell_type": "markdown",
   "metadata": {},
   "source": [
    ":::{admonition} 텐서의 곱셈(`*`)\n",
    ":class: warning\n",
    "\n",
    "텐서 점곱(`np.dot()`)과 텐서 곱셈(`*`)은 다르다.\n",
    "텐서 곱셈은 앞서 브로드캐스팅과 연관지어 설명된 것처럼 동일 모양의 두 텐서를\n",
    "항목별로 곱해서 동일 모양의 새로운 텐서를 생성한다.\n",
    "\n",
    "```python\n",
    ">>> a = np.array([1.0, 2.0, 3.0])\n",
    ">>> b = np.array([2.0, 2.0, 2.0])\n",
    ">>> a * b\n",
    "array([2.,  4.,  6.])\n",
    "\n",
    ">>> a = np.array([1.0, 2.0, 3.0])\n",
    ">>> b = 2.0\n",
    ">>> a * b\n",
    "array([2.,  4.,  6.])\n",
    "\n",
    ">>> a = np.array([[ 0.0,  0.0,  0.0],\n",
    "                  [10.0, 10.0, 10.0],\n",
    "                  [20.0, 20.0, 20.0],\n",
    "                  [30.0, 30.0, 30.0]])\n",
    ">>> b = np.array([1.0, 2.0, 3.0])\n",
    ">>> a*b\n",
    "array([[ 0.,  0.,  0.],\n",
    "       [10., 20., 30.],\n",
    "       [20., 40., 60.],\n",
    "       [30., 60., 90.]])\n",
    "```\n",
    ":::"
   ]
  },
  {
   "cell_type": "markdown",
   "metadata": {},
   "source": [
    "**텐서 모양 변형**\n",
    "\n",
    "머신러닝 모델은 입력 텐서의 모양을 제한한다. \n",
    "앞서 사용한 MNIST 데이터셋 분류 모델은 `Dense` 층으로 구성되었는데, \n",
    "입력값으로 사용되는 데이터셋은 2차원 텐서로 표현되어 있어야 한다.\n",
    "\n",
    "```python\n",
    "model = keras.Sequential([\n",
    "    layers.Dense(512, activation=\"relu\"),\n",
    "    layers.Dense(10, activation=\"softmax\")\n",
    "])\n",
    "```\n",
    "\n",
    "반면에 `tensorflow.keras.datasets`에서 불러온 \n",
    "`train_images`와 `test_images` 는 각각\n",
    "`(60000, 28, 28)`와 `(10000, 28, 28)` 모양의 3차원 텐서다.\n",
    "\n",
    "```python\n",
    "from tensorflow.keras.datasets import mnist\n",
    "(train_images, train_labels), (test_images, test_labels) = mnist.load_data()\n",
    "```\n",
    "\n",
    "따라서 모델을 훈련 및 테스트하고 실전에 활용할 때는 입력값을 항상\n",
    "적절한 모양의 2차원 텐서로 변형해야 한다.\n",
    "이를 위해 다음과 같이 `reshape()` 텐서 메서드를 활용한다.\n",
    "아래 코드는 `(60000, 28, 28)` 모양의 훈련셋인 3차원 텐서를 동일 개수의 항목을 갖는\n",
    "`(60000, 784)` 모양의 2차원 텐서로 변형한다.\n",
    "\n",
    "```python\n",
    "train_images = train_images.reshape((60000, 28 * 28))\n",
    "```"
   ]
  },
  {
   "cell_type": "markdown",
   "metadata": {},
   "source": [
    ":::{admonition} 넘파이 어레이 연산\n",
    ":class: info\n",
    "\n",
    "텐서 연산의 기본이 되는 넘파이 어레이 연산, 유니버설 함수, 텐서 모양 변형 등에 대한\n",
    "보다 자세한 설명은 \n",
    "[파이썬 데이터 분석](https://codingalzi.github.io/datapy/intro.html)을 참고한다.\n",
    ":::"
   ]
  },
  {
   "cell_type": "markdown",
   "metadata": {},
   "source": [
    "### 텐서 연산의 기하학적 의미"
   ]
  },
  {
   "cell_type": "markdown",
   "metadata": {},
   "source": [
    "신경망 모델에 사용되는 연산과 함수들의 기능을 \n",
    "기하학적으로 설명할 수 있다."
   ]
  },
  {
   "cell_type": "markdown",
   "metadata": {},
   "source": [
    "- 이동: 벡터 합\n",
    "\n",
    "<div align=\"center\"><img src=\"https://drek4537l1klr.cloudfront.net/chollet2/v-7/Figures/translation.png\" style=\"width:400px;\"></div>\n",
    "\n",
    "<p><div style=\"text-align: center\">&lt;그림 출처: <a href=\"https://www.manning.com/books/deep-learning-with-python-second-edition\">Deep Learning with Python(2판)</a>&gt;</div></p>"
   ]
  },
  {
   "cell_type": "markdown",
   "metadata": {},
   "source": [
    "- 회전: 점 곱\n",
    "\n",
    "<div align=\"center\"><img src=\"https://drek4537l1klr.cloudfront.net/chollet2/v-7/Figures/rotation.png\" style=\"width:400px;\"></div>\n",
    "\n",
    "<p><div style=\"text-align: center\">&lt;그림 출처: <a href=\"https://www.manning.com/books/deep-learning-with-python-second-edition\">Deep Learning with Python(2판)</a>&gt;</div></p>"
   ]
  },
  {
   "cell_type": "markdown",
   "metadata": {},
   "source": [
    "- 스케일링: 점 곱\n",
    "\n",
    "<div align=\"center\"><img src=\"https://drek4537l1klr.cloudfront.net/chollet2/v-7/Figures/scaling.png\" style=\"width:400px;\"></div>\n",
    "\n",
    "<p><div style=\"text-align: center\">&lt;그림 출처: <a href=\"https://www.manning.com/books/deep-learning-with-python-second-edition\">Deep Learning with Python(2판)</a>&gt;</div></p>"
   ]
  },
  {
   "cell_type": "markdown",
   "metadata": {},
   "source": [
    "- 아핀 변환\n",
    "\n",
    "<div align=\"center\"><img src=\"https://drek4537l1klr.cloudfront.net/chollet2/v-7/Figures/affine_transform.png\" style=\"width:400px;\"></div>\n",
    "\n",
    "<p><div style=\"text-align: center\">&lt;그림 출처: <a href=\"https://www.manning.com/books/deep-learning-with-python-second-edition\">Deep Learning with Python(2판)</a>&gt;</div></p>"
   ]
  },
  {
   "cell_type": "markdown",
   "metadata": {},
   "source": [
    "- 아핀 변환과 relu 활성화 함수\n",
    "\n",
    "<div align=\"center\"><img src=\"https://drek4537l1klr.cloudfront.net/chollet2/v-7/Figures/dense_transform.png\" style=\"width:400px;\"></div>\n",
    "\n",
    "<p><div style=\"text-align: center\">&lt;그림 출처: <a href=\"https://www.manning.com/books/deep-learning-with-python-second-edition\">Deep Learning with Python(2판)</a>&gt;</div></p>"
   ]
  },
  {
   "cell_type": "markdown",
   "metadata": {},
   "source": [
    "신경망은 기본적으로 앞서 언급된 텐서 연산의 조합을 통해\n",
    "고차원 공간에서의 매우 복잡한 기하학적 변환을 수행한다.\n",
    "\n",
    "예를 들어, 빨간 종이와 파란 종이 두 장을 겹친 후 뭉개서 만든 종이 뭉치를\n",
    "조심스럽게 조금씩 펴서 결국 두 개의 종이로 구분하는 것처럼\n",
    "예를 들어 신경망 이진 분류 모델은 뒤 섞인 두 개 클래스로 구성된 입력 데이터셋을\n",
    "여러 층을 통한 변환과정을 거치면서 결국엔 두 개의 데이터셋으로 구분하기 쉬운\n",
    "표현으로 데이터를 변환한다.\n",
    "\n",
    "<div align=\"center\"><img src=\"https://drek4537l1klr.cloudfront.net/chollet2/v-7/Figures/ch02-geometric_interpretation_4.png\" style=\"width:400px;\"></div>\n",
    "\n",
    "<p><div style=\"text-align: center\">&lt;그림 출처: <a href=\"https://www.manning.com/books/deep-learning-with-python-second-edition\">Deep Learning with Python(2판)</a>&gt;</div></p>"
   ]
  },
  {
   "cell_type": "markdown",
   "metadata": {},
   "source": [
    "## 연습문제"
   ]
  },
  {
   "cell_type": "markdown",
   "metadata": {},
   "source": [
    "1. [(실습) 넘파이 어레이](https://colab.research.google.com/github/codingalzi/datapy/blob/master/practices/practice-numpy_1.ipynb)"
   ]
  }
 ],
 "metadata": {
  "kernelspec": {
   "display_name": "Python 3 (ipykernel)",
   "language": "python",
   "name": "python3"
  },
  "language_info": {
   "codemirror_mode": {
    "name": "ipython",
    "version": 3
   },
   "file_extension": ".py",
   "mimetype": "text/x-python",
   "name": "python",
   "nbconvert_exporter": "python",
   "pygments_lexer": "ipython3",
   "version": "3.11.4"
  }
 },
 "nbformat": 4,
 "nbformat_minor": 2
}
