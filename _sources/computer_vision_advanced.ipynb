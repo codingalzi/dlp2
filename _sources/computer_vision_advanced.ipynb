{
 "cells": [
  {
   "cell_type": "markdown",
   "id": "d068e69a",
   "metadata": {},
   "source": [
    "(ch:computer-vision-advanced)=\n",
    "# 고급 컴퓨터 비전"
   ]
  },
  {
   "cell_type": "markdown",
   "metadata": {},
   "source": [
    "준비중..."
   ]
  }
 ],
 "metadata": {
  "kernelspec": {
   "display_name": "Python 3.9.13 ('homl3')",
   "language": "python",
   "name": "python3"
  },
  "language_info": {
   "name": "python",
   "version": "3.9.13"
  },
  "orig_nbformat": 4,
  "vscode": {
   "interpreter": {
    "hash": "33b995ba57ec8806df76ad412cbfca6e91844af7e84c0aab5f00a2382a2b11c8"
   }
  }
 },
 "nbformat": 4,
 "nbformat_minor": 2
}
