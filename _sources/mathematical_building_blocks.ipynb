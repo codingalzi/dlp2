{
 "cells": [
  {
   "cell_type": "markdown",
   "id": "c87eff28",
   "metadata": {},
   "source": [
    "(ch:building_blocks)=\n",
    "# 딥러닝의 수학적 구성요소"
   ]
  }
 ],
 "metadata": {
  "kernelspec": {
   "display_name": "Python 3 (ipykernel)",
   "language": "python",
   "name": "python3"
  },
  "language_info": {
   "codemirror_mode": {
    "name": "ipython",
    "version": 3
   },
   "file_extension": ".py",
   "mimetype": "text/x-python",
   "name": "python",
   "nbconvert_exporter": "python",
   "pygments_lexer": "ipython3",
   "version": "3.9.13"
  }
 },
 "nbformat": 4,
 "nbformat_minor": 5
}
